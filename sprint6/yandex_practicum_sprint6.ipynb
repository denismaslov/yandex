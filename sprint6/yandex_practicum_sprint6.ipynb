{
 "cells": [
  {
   "attachments": {},
   "cell_type": "markdown",
   "metadata": {
    "toc": true
   },
   "source": [
    "<h1>Содержание<span class=\"tocSkip\"></span></h1>\n",
    "<div class=\"toc\"><ul class=\"toc-item\"><li><span><a href=\"#Подготовка-данных\" data-toc-modified-id=\"Подготовка-данных-1\"><span class=\"toc-item-num\">1&nbsp;&nbsp;</span>Подготовка данных</a></span></li><li><span><a href=\"#Исследование-задачи\" data-toc-modified-id=\"Исследование-задачи-2\"><span class=\"toc-item-num\">2&nbsp;&nbsp;</span>Исследование задачи</a></span><ul class=\"toc-item\"><li><span><a href=\"#Сравнение-классов\" data-toc-modified-id=\"Сравнение-классов-2.1\"><span class=\"toc-item-num\">2.1&nbsp;&nbsp;</span>Сравнение классов</a></span></li><li><span><a href=\"#Сравнение-с-константной-моделью\" data-toc-modified-id=\"Сравнение-с-константной-моделью-2.2\"><span class=\"toc-item-num\">2.2&nbsp;&nbsp;</span>Сравнение с константной моделью</a></span></li><li><span><a href=\"#Проверка-моделей-не-учитывая-дисбаланс-классов\" data-toc-modified-id=\"Проверка-моделей-не-учитывая-дисбаланс-классов-2.3\"><span class=\"toc-item-num\">2.3&nbsp;&nbsp;</span>Проверка моделей не учитывая дисбаланс классов</a></span><ul class=\"toc-item\"><li><span><a href=\"#Дерево-решений\" data-toc-modified-id=\"Дерево-решений-2.3.1\"><span class=\"toc-item-num\">2.3.1&nbsp;&nbsp;</span>Дерево решений</a></span></li><li><span><a href=\"#Случайный-лес\" data-toc-modified-id=\"Случайный-лес-2.3.2\"><span class=\"toc-item-num\">2.3.2&nbsp;&nbsp;</span>Случайный лес</a></span></li><li><span><a href=\"#Логистическая-регрессия\" data-toc-modified-id=\"Логистическая-регрессия-2.3.3\"><span class=\"toc-item-num\">2.3.3&nbsp;&nbsp;</span>Логистическая регрессия</a></span></li><li><span><a href=\"#ROC---кривая\" data-toc-modified-id=\"ROC---кривая-2.3.4\"><span class=\"toc-item-num\">2.3.4&nbsp;&nbsp;</span>ROC - кривая</a></span></li></ul></li><li><span><a href=\"#Дисбаланс-классов-на-графике\" data-toc-modified-id=\"Дисбаланс-классов-на-графике-2.4\"><span class=\"toc-item-num\">2.4&nbsp;&nbsp;</span>Дисбаланс классов на графике</a></span><ul class=\"toc-item\"><li><span><a href=\"#Дерево-решений\" data-toc-modified-id=\"Дерево-решений-2.4.1\"><span class=\"toc-item-num\">2.4.1&nbsp;&nbsp;</span>Дерево решений</a></span></li><li><span><a href=\"#Случайный-лес\" data-toc-modified-id=\"Случайный-лес-2.4.2\"><span class=\"toc-item-num\">2.4.2&nbsp;&nbsp;</span>Случайный лес</a></span></li><li><span><a href=\"#Логистическая-регрессия\" data-toc-modified-id=\"Логистическая-регрессия-2.4.3\"><span class=\"toc-item-num\">2.4.3&nbsp;&nbsp;</span>Логистическая регрессия</a></span></li></ul></li></ul></li><li><span><a href=\"#Борьба-с-дисбалансом\" data-toc-modified-id=\"Борьба-с-дисбалансом-3\"><span class=\"toc-item-num\">3&nbsp;&nbsp;</span>Борьба с дисбалансом</a></span><ul class=\"toc-item\"><li><span><a href=\"#Взвешивание-классов\" data-toc-modified-id=\"Взвешивание-классов-3.1\"><span class=\"toc-item-num\">3.1&nbsp;&nbsp;</span>Взвешивание классов</a></span><ul class=\"toc-item\"><li><span><a href=\"#Дерево-решений\" data-toc-modified-id=\"Дерево-решений-3.1.1\"><span class=\"toc-item-num\">3.1.1&nbsp;&nbsp;</span>Дерево решений</a></span></li><li><span><a href=\"#Случайный-лес\" data-toc-modified-id=\"Случайный-лес-3.1.2\"><span class=\"toc-item-num\">3.1.2&nbsp;&nbsp;</span>Случайный лес</a></span></li><li><span><a href=\"#Логистическая-регрессия\" data-toc-modified-id=\"Логистическая-регрессия-3.1.3\"><span class=\"toc-item-num\">3.1.3&nbsp;&nbsp;</span>Логистическая регрессия</a></span></li><li><span><a href=\"#ROC---кривая\" data-toc-modified-id=\"ROC---кривая-3.1.4\"><span class=\"toc-item-num\">3.1.4&nbsp;&nbsp;</span>ROC - кривая</a></span></li></ul></li><li><span><a href=\"#Увеличение-выборки\" data-toc-modified-id=\"Увеличение-выборки-3.2\"><span class=\"toc-item-num\">3.2&nbsp;&nbsp;</span>Увеличение выборки</a></span><ul class=\"toc-item\"><li><span><a href=\"#Дерево-решений\" data-toc-modified-id=\"Дерево-решений-3.2.1\"><span class=\"toc-item-num\">3.2.1&nbsp;&nbsp;</span>Дерево решений</a></span></li><li><span><a href=\"#Случайный-лес\" data-toc-modified-id=\"Случайный-лес-3.2.2\"><span class=\"toc-item-num\">3.2.2&nbsp;&nbsp;</span>Случайный лес</a></span></li><li><span><a href=\"#Логистическая-регрессия\" data-toc-modified-id=\"Логистическая-регрессия-3.2.3\"><span class=\"toc-item-num\">3.2.3&nbsp;&nbsp;</span>Логистическая регрессия</a></span></li><li><span><a href=\"#ROC---кривая\" data-toc-modified-id=\"ROC---кривая-3.2.4\"><span class=\"toc-item-num\">3.2.4&nbsp;&nbsp;</span>ROC - кривая</a></span></li></ul></li><li><span><a href=\"#Уменьшение-выборки\" data-toc-modified-id=\"Уменьшение-выборки-3.3\"><span class=\"toc-item-num\">3.3&nbsp;&nbsp;</span>Уменьшение выборки</a></span><ul class=\"toc-item\"><li><span><a href=\"#Дерево-решений\" data-toc-modified-id=\"Дерево-решений-3.3.1\"><span class=\"toc-item-num\">3.3.1&nbsp;&nbsp;</span>Дерево решений</a></span></li><li><span><a href=\"#Случайный-лес\" data-toc-modified-id=\"Случайный-лес-3.3.2\"><span class=\"toc-item-num\">3.3.2&nbsp;&nbsp;</span>Случайный лес</a></span></li><li><span><a href=\"#Логистическая-регрессия\" data-toc-modified-id=\"Логистическая-регрессия-3.3.3\"><span class=\"toc-item-num\">3.3.3&nbsp;&nbsp;</span>Логистическая регрессия</a></span></li><li><span><a href=\"#ROC---кривая\" data-toc-modified-id=\"ROC---кривая-3.3.4\"><span class=\"toc-item-num\">3.3.4&nbsp;&nbsp;</span>ROC - кривая</a></span></li></ul></li><li><span><a href=\"#Анализ-F1-и-AUC-ROC\" data-toc-modified-id=\"Анализ-F1-и-AUC-ROC-3.4\"><span class=\"toc-item-num\">3.4&nbsp;&nbsp;</span>Анализ F1 и AUC-ROC</a></span></li></ul></li><li><span><a href=\"#Тестирование-модели\" data-toc-modified-id=\"Тестирование-модели-4\"><span class=\"toc-item-num\">4&nbsp;&nbsp;</span>Тестирование модели</a></span></li><li><span><a href=\"#Вывод\" data-toc-modified-id=\"Вывод-5\"><span class=\"toc-item-num\">5&nbsp;&nbsp;</span>Вывод</a></span></li><li><span><a href=\"#Чек-лист-готовности-проекта\" data-toc-modified-id=\"Чек-лист-готовности-проекта-6\"><span class=\"toc-item-num\">6&nbsp;&nbsp;</span>Чек-лист готовности проекта</a></span></li></ul></div>"
   ]
  },
  {
   "attachments": {},
   "cell_type": "markdown",
   "metadata": {},
   "source": [
    "# Отток клиентов"
   ]
  },
  {
   "attachments": {},
   "cell_type": "markdown",
   "metadata": {},
   "source": [
    "Из «Бета-Банка» стали уходить клиенты. Каждый месяц. Немного, но заметно. Банковские маркетологи посчитали: сохранять текущих клиентов дешевле, чем привлекать новых.\n",
    "\n",
    "Нужно спрогнозировать, уйдёт клиент из банка в ближайшее время или нет. Вам предоставлены исторические данные о поведении клиентов и расторжении договоров с банком. \n",
    "\n",
    "Постройте модель с предельно большим значением *F1*-меры. Чтобы сдать проект успешно, нужно довести метрику до 0.59. Проверьте *F1*-меру на тестовой выборке самостоятельно.\n",
    "\n",
    "Дополнительно измеряйте *AUC-ROC*, сравнивайте её значение с *F1*-мерой.\n",
    "\n",
    "Источник данных: [https://www.kaggle.com/barelydedicated/bank-customer-churn-modeling](https://www.kaggle.com/barelydedicated/bank-customer-churn-modeling)"
   ]
  },
  {
   "cell_type": "code",
   "execution_count": 3,
   "metadata": {},
   "outputs": [
    {
     "name": "stdout",
     "output_type": "stream",
     "text": [
      "Defaulting to user installation because normal site-packages is not writeable\n",
      "Requirement already satisfied: scikit-learn in /Users/denismaslov/Library/Python/3.10/lib/python/site-packages (1.3.0)\n",
      "Requirement already satisfied: threadpoolctl>=2.0.0 in /Users/denismaslov/Library/Python/3.10/lib/python/site-packages (from scikit-learn) (3.2.0)\n",
      "Requirement already satisfied: numpy>=1.17.3 in /Users/denismaslov/Library/Python/3.10/lib/python/site-packages (from scikit-learn) (1.23.5)\n",
      "Requirement already satisfied: joblib>=1.1.1 in /Users/denismaslov/Library/Python/3.10/lib/python/site-packages (from scikit-learn) (1.3.1)\n",
      "Requirement already satisfied: scipy>=1.5.0 in /Users/denismaslov/Library/Python/3.10/lib/python/site-packages (from scikit-learn) (1.10.1)\n",
      "\n",
      "\u001b[1m[\u001b[0m\u001b[34;49mnotice\u001b[0m\u001b[1;39;49m]\u001b[0m\u001b[39;49m A new release of pip available: \u001b[0m\u001b[31;49m22.3.1\u001b[0m\u001b[39;49m -> \u001b[0m\u001b[32;49m23.2\u001b[0m\n",
      "\u001b[1m[\u001b[0m\u001b[34;49mnotice\u001b[0m\u001b[1;39;49m]\u001b[0m\u001b[39;49m To update, run: \u001b[0m\u001b[32;49mpip3 install --upgrade pip\u001b[0m\n",
      "Note: you may need to restart the kernel to use updated packages.\n"
     ]
    }
   ],
   "source": [
    "pip install scikit-learn"
   ]
  },
  {
   "cell_type": "code",
   "execution_count": 5,
   "metadata": {},
   "outputs": [
    {
     "name": "stdout",
     "output_type": "stream",
     "text": [
      "Defaulting to user installation because normal site-packages is not writeable\n",
      "Requirement already satisfied: scikit-learn in /Users/denismaslov/Library/Python/3.10/lib/python/site-packages (1.3.0)\n",
      "Requirement already satisfied: threadpoolctl>=2.0.0 in /Users/denismaslov/Library/Python/3.10/lib/python/site-packages (from scikit-learn) (3.2.0)\n",
      "Requirement already satisfied: joblib>=1.1.1 in /Users/denismaslov/Library/Python/3.10/lib/python/site-packages (from scikit-learn) (1.3.1)\n",
      "Requirement already satisfied: numpy>=1.17.3 in /Users/denismaslov/Library/Python/3.10/lib/python/site-packages (from scikit-learn) (1.23.5)\n",
      "Requirement already satisfied: scipy>=1.5.0 in /Users/denismaslov/Library/Python/3.10/lib/python/site-packages (from scikit-learn) (1.10.1)\n",
      "\n",
      "\u001b[1m[\u001b[0m\u001b[34;49mnotice\u001b[0m\u001b[1;39;49m]\u001b[0m\u001b[39;49m A new release of pip available: \u001b[0m\u001b[31;49m22.3.1\u001b[0m\u001b[39;49m -> \u001b[0m\u001b[32;49m23.2\u001b[0m\n",
      "\u001b[1m[\u001b[0m\u001b[34;49mnotice\u001b[0m\u001b[1;39;49m]\u001b[0m\u001b[39;49m To update, run: \u001b[0m\u001b[32;49mpip3 install --upgrade pip\u001b[0m\n",
      "Note: you may need to restart the kernel to use updated packages.\n"
     ]
    }
   ],
   "source": [
    "pip install --upgrade scikit-learn"
   ]
  },
  {
   "cell_type": "code",
   "execution_count": 7,
   "metadata": {},
   "outputs": [],
   "source": [
    "import pandas as pd\n",
    "import seaborn as sns\n",
    "from sklearn.model_selection import train_test_split\n",
    "from sklearn.linear_model import LinearRegression\n",
    "from sklearn.tree import DecisionTreeRegressor\n",
    "from sklearn.ensemble import RandomForestRegressor\n",
    "from sklearn.metrics import mean_absolute_error\n",
    "import matplotlib.pyplot as plt\n",
    "from sklearn.preprocessing import StandardScaler\n",
    "from sklearn.metrics import accuracy_score\n",
    "from sklearn.metrics import recall_score\n",
    "from sklearn.metrics import precision_score, f1_score\n",
    "from sklearn.utils import shuffle\n",
    "from sklearn.metrics import precision_recall_curve\n",
    "from sklearn.metrics import roc_curve\n",
    "from sklearn.metrics import roc_auc_score\n",
    "from sklearn.metrics import r2_score\n",
    "from sklearn.tree import DecisionTreeClassifier\n",
    "from sklearn.ensemble import RandomForestClassifier\n",
    "from sklearn.linear_model import LogisticRegression\n",
    "from sklearn.metrics import confusion_matrix, ConfusionMatrixDisplay\n",
    "#from sklearn.metrics import plot_confusion_matrix\n",
    "from tqdm import tqdm\n",
    "import numpy as np\n",
    "import random"
   ]
  },
  {
   "cell_type": "code",
   "execution_count": 65,
   "metadata": {},
   "outputs": [
    {
     "ename": "ImportError",
     "evalue": "cannot import name 'plot_confusion_matrix' from 'sklearn.metrics' (/Users/denismaslov/Library/Python/3.10/lib/python/site-packages/sklearn/metrics/__init__.py)",
     "output_type": "error",
     "traceback": [
      "\u001b[0;31m---------------------------------------------------------------------------\u001b[0m",
      "\u001b[0;31mImportError\u001b[0m                               Traceback (most recent call last)",
      "Cell \u001b[0;32mIn[65], line 1\u001b[0m\n\u001b[0;32m----> 1\u001b[0m \u001b[39mfrom\u001b[39;00m \u001b[39msklearn\u001b[39;00m\u001b[39m.\u001b[39;00m\u001b[39mmetrics\u001b[39;00m \u001b[39mimport\u001b[39;00m plot_confusion_matrix\n",
      "\u001b[0;31mImportError\u001b[0m: cannot import name 'plot_confusion_matrix' from 'sklearn.metrics' (/Users/denismaslov/Library/Python/3.10/lib/python/site-packages/sklearn/metrics/__init__.py)"
     ]
    }
   ],
   "source": [
    "from sklearn.metrics import plot_confusion_matrix"
   ]
  },
  {
   "cell_type": "code",
   "execution_count": 8,
   "metadata": {},
   "outputs": [
    {
     "name": "stdout",
     "output_type": "stream",
     "text": [
      "Defaulting to user installation because normal site-packages is not writeable\n",
      "Requirement already satisfied: phik in /Users/denismaslov/Library/Python/3.10/lib/python/site-packages (0.12.3)\n",
      "Requirement already satisfied: pandas>=0.25.1 in /Users/denismaslov/Library/Python/3.10/lib/python/site-packages (from phik) (2.0.3)\n",
      "Requirement already satisfied: scipy>=1.5.2 in /Users/denismaslov/Library/Python/3.10/lib/python/site-packages (from phik) (1.10.1)\n",
      "Requirement already satisfied: numpy>=1.18.0 in /Users/denismaslov/Library/Python/3.10/lib/python/site-packages (from phik) (1.23.5)\n",
      "Requirement already satisfied: joblib>=0.14.1 in /Users/denismaslov/Library/Python/3.10/lib/python/site-packages (from phik) (1.3.1)\n",
      "Requirement already satisfied: matplotlib>=2.2.3 in /Users/denismaslov/Library/Python/3.10/lib/python/site-packages (from phik) (3.7.2)\n",
      "Requirement already satisfied: pyparsing<3.1,>=2.3.1 in /Users/denismaslov/Library/Python/3.10/lib/python/site-packages (from matplotlib>=2.2.3->phik) (3.0.9)\n",
      "Requirement already satisfied: kiwisolver>=1.0.1 in /Users/denismaslov/Library/Python/3.10/lib/python/site-packages (from matplotlib>=2.2.3->phik) (1.4.4)\n",
      "Requirement already satisfied: packaging>=20.0 in /Users/denismaslov/Library/Python/3.10/lib/python/site-packages (from matplotlib>=2.2.3->phik) (23.1)\n",
      "Requirement already satisfied: python-dateutil>=2.7 in /Users/denismaslov/Library/Python/3.10/lib/python/site-packages (from matplotlib>=2.2.3->phik) (2.8.2)\n",
      "Requirement already satisfied: fonttools>=4.22.0 in /Users/denismaslov/Library/Python/3.10/lib/python/site-packages (from matplotlib>=2.2.3->phik) (4.41.0)\n",
      "Requirement already satisfied: pillow>=6.2.0 in /Users/denismaslov/Library/Python/3.10/lib/python/site-packages (from matplotlib>=2.2.3->phik) (10.0.0)\n",
      "Requirement already satisfied: cycler>=0.10 in /Users/denismaslov/Library/Python/3.10/lib/python/site-packages (from matplotlib>=2.2.3->phik) (0.11.0)\n",
      "Requirement already satisfied: contourpy>=1.0.1 in /Users/denismaslov/Library/Python/3.10/lib/python/site-packages (from matplotlib>=2.2.3->phik) (1.1.0)\n",
      "Requirement already satisfied: tzdata>=2022.1 in /Users/denismaslov/Library/Python/3.10/lib/python/site-packages (from pandas>=0.25.1->phik) (2023.3)\n",
      "Requirement already satisfied: pytz>=2020.1 in /Users/denismaslov/Library/Python/3.10/lib/python/site-packages (from pandas>=0.25.1->phik) (2023.3)\n",
      "Requirement already satisfied: six>=1.5 in /Users/denismaslov/Library/Python/3.10/lib/python/site-packages (from python-dateutil>=2.7->matplotlib>=2.2.3->phik) (1.16.0)\n",
      "\n",
      "\u001b[1m[\u001b[0m\u001b[34;49mnotice\u001b[0m\u001b[1;39;49m]\u001b[0m\u001b[39;49m A new release of pip available: \u001b[0m\u001b[31;49m22.3.1\u001b[0m\u001b[39;49m -> \u001b[0m\u001b[32;49m23.2\u001b[0m\n",
      "\u001b[1m[\u001b[0m\u001b[34;49mnotice\u001b[0m\u001b[1;39;49m]\u001b[0m\u001b[39;49m To update, run: \u001b[0m\u001b[32;49mpip3 install --upgrade pip\u001b[0m\n",
      "Note: you may need to restart the kernel to use updated packages.\n"
     ]
    }
   ],
   "source": [
    "pip install phik"
   ]
  },
  {
   "cell_type": "code",
   "execution_count": 9,
   "metadata": {},
   "outputs": [],
   "source": [
    "import phik\n",
    "from phik import resources, report"
   ]
  },
  {
   "attachments": {},
   "cell_type": "markdown",
   "metadata": {},
   "source": [
    "## Подготовка данных"
   ]
  },
  {
   "cell_type": "code",
   "execution_count": 23,
   "metadata": {},
   "outputs": [],
   "source": [
    "data = pd.read_csv('/Users/denismaslov/yandex_projects/yandex/sprint6/Churn.csv')"
   ]
  },
  {
   "cell_type": "code",
   "execution_count": 24,
   "metadata": {},
   "outputs": [
    {
     "data": {
      "text/html": [
       "<div>\n",
       "<style scoped>\n",
       "    .dataframe tbody tr th:only-of-type {\n",
       "        vertical-align: middle;\n",
       "    }\n",
       "\n",
       "    .dataframe tbody tr th {\n",
       "        vertical-align: top;\n",
       "    }\n",
       "\n",
       "    .dataframe thead th {\n",
       "        text-align: right;\n",
       "    }\n",
       "</style>\n",
       "<table border=\"1\" class=\"dataframe\">\n",
       "  <thead>\n",
       "    <tr style=\"text-align: right;\">\n",
       "      <th></th>\n",
       "      <th>RowNumber</th>\n",
       "      <th>CustomerId</th>\n",
       "      <th>Surname</th>\n",
       "      <th>CreditScore</th>\n",
       "      <th>Geography</th>\n",
       "      <th>Gender</th>\n",
       "      <th>Age</th>\n",
       "      <th>Tenure</th>\n",
       "      <th>Balance</th>\n",
       "      <th>NumOfProducts</th>\n",
       "      <th>HasCrCard</th>\n",
       "      <th>IsActiveMember</th>\n",
       "      <th>EstimatedSalary</th>\n",
       "      <th>Exited</th>\n",
       "    </tr>\n",
       "  </thead>\n",
       "  <tbody>\n",
       "    <tr>\n",
       "      <th>0</th>\n",
       "      <td>1</td>\n",
       "      <td>15634602</td>\n",
       "      <td>Hargrave</td>\n",
       "      <td>619</td>\n",
       "      <td>France</td>\n",
       "      <td>Female</td>\n",
       "      <td>42</td>\n",
       "      <td>2.0</td>\n",
       "      <td>0.00</td>\n",
       "      <td>1</td>\n",
       "      <td>1</td>\n",
       "      <td>1</td>\n",
       "      <td>101348.88</td>\n",
       "      <td>1</td>\n",
       "    </tr>\n",
       "    <tr>\n",
       "      <th>1</th>\n",
       "      <td>2</td>\n",
       "      <td>15647311</td>\n",
       "      <td>Hill</td>\n",
       "      <td>608</td>\n",
       "      <td>Spain</td>\n",
       "      <td>Female</td>\n",
       "      <td>41</td>\n",
       "      <td>1.0</td>\n",
       "      <td>83807.86</td>\n",
       "      <td>1</td>\n",
       "      <td>0</td>\n",
       "      <td>1</td>\n",
       "      <td>112542.58</td>\n",
       "      <td>0</td>\n",
       "    </tr>\n",
       "    <tr>\n",
       "      <th>2</th>\n",
       "      <td>3</td>\n",
       "      <td>15619304</td>\n",
       "      <td>Onio</td>\n",
       "      <td>502</td>\n",
       "      <td>France</td>\n",
       "      <td>Female</td>\n",
       "      <td>42</td>\n",
       "      <td>8.0</td>\n",
       "      <td>159660.80</td>\n",
       "      <td>3</td>\n",
       "      <td>1</td>\n",
       "      <td>0</td>\n",
       "      <td>113931.57</td>\n",
       "      <td>1</td>\n",
       "    </tr>\n",
       "    <tr>\n",
       "      <th>3</th>\n",
       "      <td>4</td>\n",
       "      <td>15701354</td>\n",
       "      <td>Boni</td>\n",
       "      <td>699</td>\n",
       "      <td>France</td>\n",
       "      <td>Female</td>\n",
       "      <td>39</td>\n",
       "      <td>1.0</td>\n",
       "      <td>0.00</td>\n",
       "      <td>2</td>\n",
       "      <td>0</td>\n",
       "      <td>0</td>\n",
       "      <td>93826.63</td>\n",
       "      <td>0</td>\n",
       "    </tr>\n",
       "    <tr>\n",
       "      <th>4</th>\n",
       "      <td>5</td>\n",
       "      <td>15737888</td>\n",
       "      <td>Mitchell</td>\n",
       "      <td>850</td>\n",
       "      <td>Spain</td>\n",
       "      <td>Female</td>\n",
       "      <td>43</td>\n",
       "      <td>2.0</td>\n",
       "      <td>125510.82</td>\n",
       "      <td>1</td>\n",
       "      <td>1</td>\n",
       "      <td>1</td>\n",
       "      <td>79084.10</td>\n",
       "      <td>0</td>\n",
       "    </tr>\n",
       "    <tr>\n",
       "      <th>5</th>\n",
       "      <td>6</td>\n",
       "      <td>15574012</td>\n",
       "      <td>Chu</td>\n",
       "      <td>645</td>\n",
       "      <td>Spain</td>\n",
       "      <td>Male</td>\n",
       "      <td>44</td>\n",
       "      <td>8.0</td>\n",
       "      <td>113755.78</td>\n",
       "      <td>2</td>\n",
       "      <td>1</td>\n",
       "      <td>0</td>\n",
       "      <td>149756.71</td>\n",
       "      <td>1</td>\n",
       "    </tr>\n",
       "    <tr>\n",
       "      <th>6</th>\n",
       "      <td>7</td>\n",
       "      <td>15592531</td>\n",
       "      <td>Bartlett</td>\n",
       "      <td>822</td>\n",
       "      <td>France</td>\n",
       "      <td>Male</td>\n",
       "      <td>50</td>\n",
       "      <td>7.0</td>\n",
       "      <td>0.00</td>\n",
       "      <td>2</td>\n",
       "      <td>1</td>\n",
       "      <td>1</td>\n",
       "      <td>10062.80</td>\n",
       "      <td>0</td>\n",
       "    </tr>\n",
       "    <tr>\n",
       "      <th>7</th>\n",
       "      <td>8</td>\n",
       "      <td>15656148</td>\n",
       "      <td>Obinna</td>\n",
       "      <td>376</td>\n",
       "      <td>Germany</td>\n",
       "      <td>Female</td>\n",
       "      <td>29</td>\n",
       "      <td>4.0</td>\n",
       "      <td>115046.74</td>\n",
       "      <td>4</td>\n",
       "      <td>1</td>\n",
       "      <td>0</td>\n",
       "      <td>119346.88</td>\n",
       "      <td>1</td>\n",
       "    </tr>\n",
       "    <tr>\n",
       "      <th>8</th>\n",
       "      <td>9</td>\n",
       "      <td>15792365</td>\n",
       "      <td>He</td>\n",
       "      <td>501</td>\n",
       "      <td>France</td>\n",
       "      <td>Male</td>\n",
       "      <td>44</td>\n",
       "      <td>4.0</td>\n",
       "      <td>142051.07</td>\n",
       "      <td>2</td>\n",
       "      <td>0</td>\n",
       "      <td>1</td>\n",
       "      <td>74940.50</td>\n",
       "      <td>0</td>\n",
       "    </tr>\n",
       "    <tr>\n",
       "      <th>9</th>\n",
       "      <td>10</td>\n",
       "      <td>15592389</td>\n",
       "      <td>H?</td>\n",
       "      <td>684</td>\n",
       "      <td>France</td>\n",
       "      <td>Male</td>\n",
       "      <td>27</td>\n",
       "      <td>2.0</td>\n",
       "      <td>134603.88</td>\n",
       "      <td>1</td>\n",
       "      <td>1</td>\n",
       "      <td>1</td>\n",
       "      <td>71725.73</td>\n",
       "      <td>0</td>\n",
       "    </tr>\n",
       "  </tbody>\n",
       "</table>\n",
       "</div>"
      ],
      "text/plain": [
       "   RowNumber  CustomerId   Surname  CreditScore Geography  Gender  Age  \\\n",
       "0          1    15634602  Hargrave          619    France  Female   42   \n",
       "1          2    15647311      Hill          608     Spain  Female   41   \n",
       "2          3    15619304      Onio          502    France  Female   42   \n",
       "3          4    15701354      Boni          699    France  Female   39   \n",
       "4          5    15737888  Mitchell          850     Spain  Female   43   \n",
       "5          6    15574012       Chu          645     Spain    Male   44   \n",
       "6          7    15592531  Bartlett          822    France    Male   50   \n",
       "7          8    15656148    Obinna          376   Germany  Female   29   \n",
       "8          9    15792365        He          501    France    Male   44   \n",
       "9         10    15592389        H?          684    France    Male   27   \n",
       "\n",
       "   Tenure    Balance  NumOfProducts  HasCrCard  IsActiveMember  \\\n",
       "0     2.0       0.00              1          1               1   \n",
       "1     1.0   83807.86              1          0               1   \n",
       "2     8.0  159660.80              3          1               0   \n",
       "3     1.0       0.00              2          0               0   \n",
       "4     2.0  125510.82              1          1               1   \n",
       "5     8.0  113755.78              2          1               0   \n",
       "6     7.0       0.00              2          1               1   \n",
       "7     4.0  115046.74              4          1               0   \n",
       "8     4.0  142051.07              2          0               1   \n",
       "9     2.0  134603.88              1          1               1   \n",
       "\n",
       "   EstimatedSalary  Exited  \n",
       "0        101348.88       1  \n",
       "1        112542.58       0  \n",
       "2        113931.57       1  \n",
       "3         93826.63       0  \n",
       "4         79084.10       0  \n",
       "5        149756.71       1  \n",
       "6         10062.80       0  \n",
       "7        119346.88       1  \n",
       "8         74940.50       0  \n",
       "9         71725.73       0  "
      ]
     },
     "metadata": {},
     "output_type": "display_data"
    }
   ],
   "source": [
    "display(data.head(10))"
   ]
  },
  {
   "attachments": {},
   "cell_type": "markdown",
   "metadata": {},
   "source": [
    "В представленом датафрейме мы видим данные соследующими признаками:<br>\n",
    "Признаки:<br>\n",
    "<li>RowNumber — индекс строки в данных</li>\n",
    "<li>CustomerId — уникальный идентификатор клиента</li>\n",
    "<li>Surname — фамилия</li>\n",
    "<li>CreditScore — кредитный рейтинг</li>\n",
    "<li>Geography — страна проживания</li>\n",
    "<li>Gender — пол</li>\n",
    "<li>Age — возраст</li>\n",
    "<li>Tenure — сколько лет человек является клиентом банка</li>\n",
    "<li>Balance — баланс на счёте</li>\n",
    "<li>NumOfProducts — количество продуктов банка, используемых клиентом</li>\n",
    "<li>HasCrCard — наличие кредитной карты</li>\n",
    "<li>IsActiveMember — активность клиента</li>\n",
    "<li>EstimatedSalary — предполагаемая зарплата</li>\n",
    "Целевой признак:<br>\n",
    "<li>Exited — факт ухода клиента"
   ]
  },
  {
   "cell_type": "code",
   "execution_count": 25,
   "metadata": {},
   "outputs": [
    {
     "name": "stdout",
     "output_type": "stream",
     "text": [
      "<class 'pandas.core.frame.DataFrame'>\n",
      "RangeIndex: 10000 entries, 0 to 9999\n",
      "Data columns (total 14 columns):\n",
      " #   Column           Non-Null Count  Dtype  \n",
      "---  ------           --------------  -----  \n",
      " 0   RowNumber        10000 non-null  int64  \n",
      " 1   CustomerId       10000 non-null  int64  \n",
      " 2   Surname          10000 non-null  object \n",
      " 3   CreditScore      10000 non-null  int64  \n",
      " 4   Geography        10000 non-null  object \n",
      " 5   Gender           10000 non-null  object \n",
      " 6   Age              10000 non-null  int64  \n",
      " 7   Tenure           9091 non-null   float64\n",
      " 8   Balance          10000 non-null  float64\n",
      " 9   NumOfProducts    10000 non-null  int64  \n",
      " 10  HasCrCard        10000 non-null  int64  \n",
      " 11  IsActiveMember   10000 non-null  int64  \n",
      " 12  EstimatedSalary  10000 non-null  float64\n",
      " 13  Exited           10000 non-null  int64  \n",
      "dtypes: float64(3), int64(8), object(3)\n",
      "memory usage: 1.1+ MB\n"
     ]
    }
   ],
   "source": [
    "data.info()"
   ]
  },
  {
   "attachments": {},
   "cell_type": "markdown",
   "metadata": {},
   "source": [
    "В поле Tenure есть пропуски данных. Это поле указывает сколько лет человек является клиентом банка. Посчитаем сколько строк имеют пропуски."
   ]
  },
  {
   "cell_type": "code",
   "execution_count": 26,
   "metadata": {},
   "outputs": [
    {
     "data": {
      "text/plain": [
       "RowNumber            0\n",
       "CustomerId           0\n",
       "Surname              0\n",
       "CreditScore          0\n",
       "Geography            0\n",
       "Gender               0\n",
       "Age                  0\n",
       "Tenure             909\n",
       "Balance              0\n",
       "NumOfProducts        0\n",
       "HasCrCard            0\n",
       "IsActiveMember       0\n",
       "EstimatedSalary      0\n",
       "Exited               0\n",
       "dtype: int64"
      ]
     },
     "execution_count": 26,
     "metadata": {},
     "output_type": "execute_result"
    }
   ],
   "source": [
    "data.isna().sum()"
   ]
  },
  {
   "attachments": {},
   "cell_type": "markdown",
   "metadata": {},
   "source": [
    "Природа пропусков не понятна, почему это поле не заполнено. Так как от общего датафрейма, эти данные составляют 9%, а также не представляется возможным спрогнозировать что здесь должно быть, предлагаю эти строки удалить."
   ]
  },
  {
   "cell_type": "code",
   "execution_count": 27,
   "metadata": {},
   "outputs": [
    {
     "name": "stdout",
     "output_type": "stream",
     "text": [
      "<class 'pandas.core.frame.DataFrame'>\n",
      "RangeIndex: 10000 entries, 0 to 9999\n",
      "Data columns (total 14 columns):\n",
      " #   Column           Non-Null Count  Dtype  \n",
      "---  ------           --------------  -----  \n",
      " 0   RowNumber        10000 non-null  int64  \n",
      " 1   CustomerId       10000 non-null  int64  \n",
      " 2   Surname          10000 non-null  object \n",
      " 3   CreditScore      10000 non-null  int64  \n",
      " 4   Geography        10000 non-null  object \n",
      " 5   Gender           10000 non-null  object \n",
      " 6   Age              10000 non-null  int64  \n",
      " 7   Tenure           10000 non-null  float64\n",
      " 8   Balance          10000 non-null  float64\n",
      " 9   NumOfProducts    10000 non-null  int64  \n",
      " 10  HasCrCard        10000 non-null  int64  \n",
      " 11  IsActiveMember   10000 non-null  int64  \n",
      " 12  EstimatedSalary  10000 non-null  float64\n",
      " 13  Exited           10000 non-null  int64  \n",
      "dtypes: float64(3), int64(8), object(3)\n",
      "memory usage: 1.1+ MB\n"
     ]
    }
   ],
   "source": [
    "#data = data.dropna(subset=['Tenure'])\n",
    "data['Tenure'].fillna(random.randint(1,11), inplace =True)\n",
    "data.info()"
   ]
  },
  {
   "cell_type": "code",
   "execution_count": 28,
   "metadata": {},
   "outputs": [
    {
     "data": {
      "text/plain": [
       "array([ 2.,  1.,  8.,  7.,  4.,  6.,  3., 10.,  5.,  9.,  0.])"
      ]
     },
     "execution_count": 28,
     "metadata": {},
     "output_type": "execute_result"
    }
   ],
   "source": [
    "data['Tenure'].unique()"
   ]
  },
  {
   "cell_type": "code",
   "execution_count": 29,
   "metadata": {},
   "outputs": [
    {
     "data": {
      "text/plain": [
       "0"
      ]
     },
     "execution_count": 29,
     "metadata": {},
     "output_type": "execute_result"
    }
   ],
   "source": [
    "data.duplicated().sum()"
   ]
  },
  {
   "cell_type": "code",
   "execution_count": 38,
   "metadata": {},
   "outputs": [
    {
     "data": {
      "text/html": [
       "<div>\n",
       "<style scoped>\n",
       "    .dataframe tbody tr th:only-of-type {\n",
       "        vertical-align: middle;\n",
       "    }\n",
       "\n",
       "    .dataframe tbody tr th {\n",
       "        vertical-align: top;\n",
       "    }\n",
       "\n",
       "    .dataframe thead th {\n",
       "        text-align: right;\n",
       "    }\n",
       "</style>\n",
       "<table border=\"1\" class=\"dataframe\">\n",
       "  <thead>\n",
       "    <tr style=\"text-align: right;\">\n",
       "      <th></th>\n",
       "      <th>RowNumber</th>\n",
       "      <th>CustomerId</th>\n",
       "      <th>CreditScore</th>\n",
       "      <th>Age</th>\n",
       "      <th>Tenure</th>\n",
       "      <th>Balance</th>\n",
       "      <th>NumOfProducts</th>\n",
       "      <th>HasCrCard</th>\n",
       "      <th>IsActiveMember</th>\n",
       "      <th>EstimatedSalary</th>\n",
       "      <th>Exited</th>\n",
       "    </tr>\n",
       "  </thead>\n",
       "  <tbody>\n",
       "    <tr>\n",
       "      <th>count</th>\n",
       "      <td>10000.00000</td>\n",
       "      <td>1.000000e+04</td>\n",
       "      <td>10000.000000</td>\n",
       "      <td>10000.000000</td>\n",
       "      <td>10000.00000</td>\n",
       "      <td>10000.000000</td>\n",
       "      <td>10000.000000</td>\n",
       "      <td>10000.00000</td>\n",
       "      <td>10000.000000</td>\n",
       "      <td>10000.000000</td>\n",
       "      <td>10000.000000</td>\n",
       "    </tr>\n",
       "    <tr>\n",
       "      <th>mean</th>\n",
       "      <td>5000.50000</td>\n",
       "      <td>1.569094e+07</td>\n",
       "      <td>650.528800</td>\n",
       "      <td>38.921800</td>\n",
       "      <td>4.99790</td>\n",
       "      <td>76485.889288</td>\n",
       "      <td>1.530200</td>\n",
       "      <td>0.70550</td>\n",
       "      <td>0.515100</td>\n",
       "      <td>100090.239881</td>\n",
       "      <td>0.203700</td>\n",
       "    </tr>\n",
       "    <tr>\n",
       "      <th>std</th>\n",
       "      <td>2886.89568</td>\n",
       "      <td>7.193619e+04</td>\n",
       "      <td>96.653299</td>\n",
       "      <td>10.487806</td>\n",
       "      <td>2.76001</td>\n",
       "      <td>62397.405202</td>\n",
       "      <td>0.581654</td>\n",
       "      <td>0.45584</td>\n",
       "      <td>0.499797</td>\n",
       "      <td>57510.492818</td>\n",
       "      <td>0.402769</td>\n",
       "    </tr>\n",
       "    <tr>\n",
       "      <th>min</th>\n",
       "      <td>1.00000</td>\n",
       "      <td>1.556570e+07</td>\n",
       "      <td>350.000000</td>\n",
       "      <td>18.000000</td>\n",
       "      <td>0.00000</td>\n",
       "      <td>0.000000</td>\n",
       "      <td>1.000000</td>\n",
       "      <td>0.00000</td>\n",
       "      <td>0.000000</td>\n",
       "      <td>11.580000</td>\n",
       "      <td>0.000000</td>\n",
       "    </tr>\n",
       "    <tr>\n",
       "      <th>25%</th>\n",
       "      <td>2500.75000</td>\n",
       "      <td>1.562853e+07</td>\n",
       "      <td>584.000000</td>\n",
       "      <td>32.000000</td>\n",
       "      <td>3.00000</td>\n",
       "      <td>0.000000</td>\n",
       "      <td>1.000000</td>\n",
       "      <td>0.00000</td>\n",
       "      <td>0.000000</td>\n",
       "      <td>51002.110000</td>\n",
       "      <td>0.000000</td>\n",
       "    </tr>\n",
       "    <tr>\n",
       "      <th>50%</th>\n",
       "      <td>5000.50000</td>\n",
       "      <td>1.569074e+07</td>\n",
       "      <td>652.000000</td>\n",
       "      <td>37.000000</td>\n",
       "      <td>5.00000</td>\n",
       "      <td>97198.540000</td>\n",
       "      <td>1.000000</td>\n",
       "      <td>1.00000</td>\n",
       "      <td>1.000000</td>\n",
       "      <td>100193.915000</td>\n",
       "      <td>0.000000</td>\n",
       "    </tr>\n",
       "    <tr>\n",
       "      <th>75%</th>\n",
       "      <td>7500.25000</td>\n",
       "      <td>1.575323e+07</td>\n",
       "      <td>718.000000</td>\n",
       "      <td>44.000000</td>\n",
       "      <td>7.00000</td>\n",
       "      <td>127644.240000</td>\n",
       "      <td>2.000000</td>\n",
       "      <td>1.00000</td>\n",
       "      <td>1.000000</td>\n",
       "      <td>149388.247500</td>\n",
       "      <td>0.000000</td>\n",
       "    </tr>\n",
       "    <tr>\n",
       "      <th>max</th>\n",
       "      <td>10000.00000</td>\n",
       "      <td>1.581569e+07</td>\n",
       "      <td>850.000000</td>\n",
       "      <td>92.000000</td>\n",
       "      <td>10.00000</td>\n",
       "      <td>250898.090000</td>\n",
       "      <td>4.000000</td>\n",
       "      <td>1.00000</td>\n",
       "      <td>1.000000</td>\n",
       "      <td>199992.480000</td>\n",
       "      <td>1.000000</td>\n",
       "    </tr>\n",
       "  </tbody>\n",
       "</table>\n",
       "</div>"
      ],
      "text/plain": [
       "         RowNumber    CustomerId   CreditScore           Age       Tenure  \\\n",
       "count  10000.00000  1.000000e+04  10000.000000  10000.000000  10000.00000   \n",
       "mean    5000.50000  1.569094e+07    650.528800     38.921800      4.99790   \n",
       "std     2886.89568  7.193619e+04     96.653299     10.487806      2.76001   \n",
       "min        1.00000  1.556570e+07    350.000000     18.000000      0.00000   \n",
       "25%     2500.75000  1.562853e+07    584.000000     32.000000      3.00000   \n",
       "50%     5000.50000  1.569074e+07    652.000000     37.000000      5.00000   \n",
       "75%     7500.25000  1.575323e+07    718.000000     44.000000      7.00000   \n",
       "max    10000.00000  1.581569e+07    850.000000     92.000000     10.00000   \n",
       "\n",
       "             Balance  NumOfProducts    HasCrCard  IsActiveMember  \\\n",
       "count   10000.000000   10000.000000  10000.00000    10000.000000   \n",
       "mean    76485.889288       1.530200      0.70550        0.515100   \n",
       "std     62397.405202       0.581654      0.45584        0.499797   \n",
       "min         0.000000       1.000000      0.00000        0.000000   \n",
       "25%         0.000000       1.000000      0.00000        0.000000   \n",
       "50%     97198.540000       1.000000      1.00000        1.000000   \n",
       "75%    127644.240000       2.000000      1.00000        1.000000   \n",
       "max    250898.090000       4.000000      1.00000        1.000000   \n",
       "\n",
       "       EstimatedSalary        Exited  \n",
       "count     10000.000000  10000.000000  \n",
       "mean     100090.239881      0.203700  \n",
       "std       57510.492818      0.402769  \n",
       "min          11.580000      0.000000  \n",
       "25%       51002.110000      0.000000  \n",
       "50%      100193.915000      0.000000  \n",
       "75%      149388.247500      0.000000  \n",
       "max      199992.480000      1.000000  "
      ]
     },
     "execution_count": 38,
     "metadata": {},
     "output_type": "execute_result"
    }
   ],
   "source": [
    "data.describe()"
   ]
  },
  {
   "cell_type": "code",
   "execution_count": 37,
   "metadata": {},
   "outputs": [
    {
     "ename": "ValueError",
     "evalue": "could not convert string to float: 'Hargrave'",
     "output_type": "error",
     "traceback": [
      "\u001b[0;31m---------------------------------------------------------------------------\u001b[0m",
      "\u001b[0;31mValueError\u001b[0m                                Traceback (most recent call last)",
      "Cell \u001b[0;32mIn[37], line 1\u001b[0m\n\u001b[0;32m----> 1\u001b[0m data\u001b[39m.\u001b[39;49mcorr()\n",
      "File \u001b[0;32m~/Library/Python/3.10/lib/python/site-packages/pandas/core/frame.py:10054\u001b[0m, in \u001b[0;36mDataFrame.corr\u001b[0;34m(self, method, min_periods, numeric_only)\u001b[0m\n\u001b[1;32m  10052\u001b[0m cols \u001b[39m=\u001b[39m data\u001b[39m.\u001b[39mcolumns\n\u001b[1;32m  10053\u001b[0m idx \u001b[39m=\u001b[39m cols\u001b[39m.\u001b[39mcopy()\n\u001b[0;32m> 10054\u001b[0m mat \u001b[39m=\u001b[39m data\u001b[39m.\u001b[39;49mto_numpy(dtype\u001b[39m=\u001b[39;49m\u001b[39mfloat\u001b[39;49m, na_value\u001b[39m=\u001b[39;49mnp\u001b[39m.\u001b[39;49mnan, copy\u001b[39m=\u001b[39;49m\u001b[39mFalse\u001b[39;49;00m)\n\u001b[1;32m  10056\u001b[0m \u001b[39mif\u001b[39;00m method \u001b[39m==\u001b[39m \u001b[39m\"\u001b[39m\u001b[39mpearson\u001b[39m\u001b[39m\"\u001b[39m:\n\u001b[1;32m  10057\u001b[0m     correl \u001b[39m=\u001b[39m libalgos\u001b[39m.\u001b[39mnancorr(mat, minp\u001b[39m=\u001b[39mmin_periods)\n",
      "File \u001b[0;32m~/Library/Python/3.10/lib/python/site-packages/pandas/core/frame.py:1838\u001b[0m, in \u001b[0;36mDataFrame.to_numpy\u001b[0;34m(self, dtype, copy, na_value)\u001b[0m\n\u001b[1;32m   1836\u001b[0m \u001b[39mif\u001b[39;00m dtype \u001b[39mis\u001b[39;00m \u001b[39mnot\u001b[39;00m \u001b[39mNone\u001b[39;00m:\n\u001b[1;32m   1837\u001b[0m     dtype \u001b[39m=\u001b[39m np\u001b[39m.\u001b[39mdtype(dtype)\n\u001b[0;32m-> 1838\u001b[0m result \u001b[39m=\u001b[39m \u001b[39mself\u001b[39;49m\u001b[39m.\u001b[39;49m_mgr\u001b[39m.\u001b[39;49mas_array(dtype\u001b[39m=\u001b[39;49mdtype, copy\u001b[39m=\u001b[39;49mcopy, na_value\u001b[39m=\u001b[39;49mna_value)\n\u001b[1;32m   1839\u001b[0m \u001b[39mif\u001b[39;00m result\u001b[39m.\u001b[39mdtype \u001b[39mis\u001b[39;00m \u001b[39mnot\u001b[39;00m dtype:\n\u001b[1;32m   1840\u001b[0m     result \u001b[39m=\u001b[39m np\u001b[39m.\u001b[39marray(result, dtype\u001b[39m=\u001b[39mdtype, copy\u001b[39m=\u001b[39m\u001b[39mFalse\u001b[39;00m)\n",
      "File \u001b[0;32m~/Library/Python/3.10/lib/python/site-packages/pandas/core/internals/managers.py:1732\u001b[0m, in \u001b[0;36mBlockManager.as_array\u001b[0;34m(self, dtype, copy, na_value)\u001b[0m\n\u001b[1;32m   1730\u001b[0m         arr\u001b[39m.\u001b[39mflags\u001b[39m.\u001b[39mwriteable \u001b[39m=\u001b[39m \u001b[39mFalse\u001b[39;00m\n\u001b[1;32m   1731\u001b[0m \u001b[39melse\u001b[39;00m:\n\u001b[0;32m-> 1732\u001b[0m     arr \u001b[39m=\u001b[39m \u001b[39mself\u001b[39;49m\u001b[39m.\u001b[39;49m_interleave(dtype\u001b[39m=\u001b[39;49mdtype, na_value\u001b[39m=\u001b[39;49mna_value)\n\u001b[1;32m   1733\u001b[0m     \u001b[39m# The underlying data was copied within _interleave, so no need\u001b[39;00m\n\u001b[1;32m   1734\u001b[0m     \u001b[39m# to further copy if copy=True or setting na_value\u001b[39;00m\n\u001b[1;32m   1736\u001b[0m \u001b[39mif\u001b[39;00m na_value \u001b[39mis\u001b[39;00m \u001b[39mnot\u001b[39;00m lib\u001b[39m.\u001b[39mno_default:\n",
      "File \u001b[0;32m~/Library/Python/3.10/lib/python/site-packages/pandas/core/internals/managers.py:1794\u001b[0m, in \u001b[0;36mBlockManager._interleave\u001b[0;34m(self, dtype, na_value)\u001b[0m\n\u001b[1;32m   1792\u001b[0m     \u001b[39melse\u001b[39;00m:\n\u001b[1;32m   1793\u001b[0m         arr \u001b[39m=\u001b[39m blk\u001b[39m.\u001b[39mget_values(dtype)\n\u001b[0;32m-> 1794\u001b[0m     result[rl\u001b[39m.\u001b[39;49mindexer] \u001b[39m=\u001b[39m arr\n\u001b[1;32m   1795\u001b[0m     itemmask[rl\u001b[39m.\u001b[39mindexer] \u001b[39m=\u001b[39m \u001b[39m1\u001b[39m\n\u001b[1;32m   1797\u001b[0m \u001b[39mif\u001b[39;00m \u001b[39mnot\u001b[39;00m itemmask\u001b[39m.\u001b[39mall():\n",
      "\u001b[0;31mValueError\u001b[0m: could not convert string to float: 'Hargrave'"
     ]
    }
   ],
   "source": [
    "data.corr()"
   ]
  },
  {
   "cell_type": "code",
   "execution_count": 20,
   "metadata": {
    "scrolled": true
   },
   "outputs": [
    {
     "ename": "ValueError",
     "evalue": "could not convert string to float: 'Hargrave'",
     "output_type": "error",
     "traceback": [
      "\u001b[0;31m---------------------------------------------------------------------------\u001b[0m",
      "\u001b[0;31mValueError\u001b[0m                                Traceback (most recent call last)",
      "Cell \u001b[0;32mIn[20], line 3\u001b[0m\n\u001b[1;32m      1\u001b[0m \u001b[39m# Plot\u001b[39;00m\n\u001b[1;32m      2\u001b[0m plt\u001b[39m.\u001b[39mfigure(figsize\u001b[39m=\u001b[39m(\u001b[39m12\u001b[39m,\u001b[39m10\u001b[39m), dpi\u001b[39m=\u001b[39m \u001b[39m80\u001b[39m)\n\u001b[0;32m----> 3\u001b[0m sns\u001b[39m.\u001b[39mheatmap(data\u001b[39m.\u001b[39;49mcorr(), xticklabels\u001b[39m=\u001b[39mdata\u001b[39m.\u001b[39mcorr()\u001b[39m.\u001b[39mcolumns, yticklabels\u001b[39m=\u001b[39mdata\u001b[39m.\u001b[39mcorr()\u001b[39m.\u001b[39mcolumns, cmap\u001b[39m=\u001b[39m\u001b[39m'\u001b[39m\u001b[39mRdYlGn\u001b[39m\u001b[39m'\u001b[39m, center\u001b[39m=\u001b[39m\u001b[39m0\u001b[39m, annot\u001b[39m=\u001b[39m\u001b[39mTrue\u001b[39;00m)\n\u001b[1;32m      5\u001b[0m \u001b[39m# Decorations\u001b[39;00m\n\u001b[1;32m      6\u001b[0m plt\u001b[39m.\u001b[39mtitle(\u001b[39m'\u001b[39m\u001b[39mСвязи между признаками\u001b[39m\u001b[39m'\u001b[39m, fontsize\u001b[39m=\u001b[39m\u001b[39m22\u001b[39m)\n",
      "File \u001b[0;32m~/Library/Python/3.10/lib/python/site-packages/pandas/core/frame.py:10054\u001b[0m, in \u001b[0;36mDataFrame.corr\u001b[0;34m(self, method, min_periods, numeric_only)\u001b[0m\n\u001b[1;32m  10052\u001b[0m cols \u001b[39m=\u001b[39m data\u001b[39m.\u001b[39mcolumns\n\u001b[1;32m  10053\u001b[0m idx \u001b[39m=\u001b[39m cols\u001b[39m.\u001b[39mcopy()\n\u001b[0;32m> 10054\u001b[0m mat \u001b[39m=\u001b[39m data\u001b[39m.\u001b[39;49mto_numpy(dtype\u001b[39m=\u001b[39;49m\u001b[39mfloat\u001b[39;49m, na_value\u001b[39m=\u001b[39;49mnp\u001b[39m.\u001b[39;49mnan, copy\u001b[39m=\u001b[39;49m\u001b[39mFalse\u001b[39;49;00m)\n\u001b[1;32m  10056\u001b[0m \u001b[39mif\u001b[39;00m method \u001b[39m==\u001b[39m \u001b[39m\"\u001b[39m\u001b[39mpearson\u001b[39m\u001b[39m\"\u001b[39m:\n\u001b[1;32m  10057\u001b[0m     correl \u001b[39m=\u001b[39m libalgos\u001b[39m.\u001b[39mnancorr(mat, minp\u001b[39m=\u001b[39mmin_periods)\n",
      "File \u001b[0;32m~/Library/Python/3.10/lib/python/site-packages/pandas/core/frame.py:1838\u001b[0m, in \u001b[0;36mDataFrame.to_numpy\u001b[0;34m(self, dtype, copy, na_value)\u001b[0m\n\u001b[1;32m   1836\u001b[0m \u001b[39mif\u001b[39;00m dtype \u001b[39mis\u001b[39;00m \u001b[39mnot\u001b[39;00m \u001b[39mNone\u001b[39;00m:\n\u001b[1;32m   1837\u001b[0m     dtype \u001b[39m=\u001b[39m np\u001b[39m.\u001b[39mdtype(dtype)\n\u001b[0;32m-> 1838\u001b[0m result \u001b[39m=\u001b[39m \u001b[39mself\u001b[39;49m\u001b[39m.\u001b[39;49m_mgr\u001b[39m.\u001b[39;49mas_array(dtype\u001b[39m=\u001b[39;49mdtype, copy\u001b[39m=\u001b[39;49mcopy, na_value\u001b[39m=\u001b[39;49mna_value)\n\u001b[1;32m   1839\u001b[0m \u001b[39mif\u001b[39;00m result\u001b[39m.\u001b[39mdtype \u001b[39mis\u001b[39;00m \u001b[39mnot\u001b[39;00m dtype:\n\u001b[1;32m   1840\u001b[0m     result \u001b[39m=\u001b[39m np\u001b[39m.\u001b[39marray(result, dtype\u001b[39m=\u001b[39mdtype, copy\u001b[39m=\u001b[39m\u001b[39mFalse\u001b[39;00m)\n",
      "File \u001b[0;32m~/Library/Python/3.10/lib/python/site-packages/pandas/core/internals/managers.py:1732\u001b[0m, in \u001b[0;36mBlockManager.as_array\u001b[0;34m(self, dtype, copy, na_value)\u001b[0m\n\u001b[1;32m   1730\u001b[0m         arr\u001b[39m.\u001b[39mflags\u001b[39m.\u001b[39mwriteable \u001b[39m=\u001b[39m \u001b[39mFalse\u001b[39;00m\n\u001b[1;32m   1731\u001b[0m \u001b[39melse\u001b[39;00m:\n\u001b[0;32m-> 1732\u001b[0m     arr \u001b[39m=\u001b[39m \u001b[39mself\u001b[39;49m\u001b[39m.\u001b[39;49m_interleave(dtype\u001b[39m=\u001b[39;49mdtype, na_value\u001b[39m=\u001b[39;49mna_value)\n\u001b[1;32m   1733\u001b[0m     \u001b[39m# The underlying data was copied within _interleave, so no need\u001b[39;00m\n\u001b[1;32m   1734\u001b[0m     \u001b[39m# to further copy if copy=True or setting na_value\u001b[39;00m\n\u001b[1;32m   1736\u001b[0m \u001b[39mif\u001b[39;00m na_value \u001b[39mis\u001b[39;00m \u001b[39mnot\u001b[39;00m lib\u001b[39m.\u001b[39mno_default:\n",
      "File \u001b[0;32m~/Library/Python/3.10/lib/python/site-packages/pandas/core/internals/managers.py:1794\u001b[0m, in \u001b[0;36mBlockManager._interleave\u001b[0;34m(self, dtype, na_value)\u001b[0m\n\u001b[1;32m   1792\u001b[0m     \u001b[39melse\u001b[39;00m:\n\u001b[1;32m   1793\u001b[0m         arr \u001b[39m=\u001b[39m blk\u001b[39m.\u001b[39mget_values(dtype)\n\u001b[0;32m-> 1794\u001b[0m     result[rl\u001b[39m.\u001b[39;49mindexer] \u001b[39m=\u001b[39m arr\n\u001b[1;32m   1795\u001b[0m     itemmask[rl\u001b[39m.\u001b[39mindexer] \u001b[39m=\u001b[39m \u001b[39m1\u001b[39m\n\u001b[1;32m   1797\u001b[0m \u001b[39mif\u001b[39;00m \u001b[39mnot\u001b[39;00m itemmask\u001b[39m.\u001b[39mall():\n",
      "\u001b[0;31mValueError\u001b[0m: could not convert string to float: 'Hargrave'"
     ]
    },
    {
     "data": {
      "text/plain": [
       "<Figure size 960x800 with 0 Axes>"
      ]
     },
     "metadata": {},
     "output_type": "display_data"
    }
   ],
   "source": [
    "# Plot\n",
    "plt.figure(figsize=(12,10), dpi= 80)\n",
    "sns.heatmap(data.corr(), xticklabels=data.corr().columns, yticklabels=data.corr().columns, cmap='RdYlGn', center=0, annot=True)\n",
    "\n",
    "# Decorations\n",
    "plt.title('Связи между признаками', fontsize=22)\n",
    "plt.xticks(fontsize=12)\n",
    "plt.yticks(fontsize=12)\n",
    "plt.show()"
   ]
  },
  {
   "cell_type": "code",
   "execution_count": 39,
   "metadata": {},
   "outputs": [
    {
     "name": "stdout",
     "output_type": "stream",
     "text": [
      "interval columns not set, guessing: ['RowNumber', 'CustomerId', 'CreditScore', 'Age', 'Tenure', 'Balance', 'NumOfProducts', 'HasCrCard', 'IsActiveMember', 'EstimatedSalary', 'Exited']\n"
     ]
    },
    {
     "name": "stderr",
     "output_type": "stream",
     "text": [
      "/Users/denismaslov/Library/Python/3.10/lib/python/site-packages/phik/data_quality.py:59: UserWarning: The number of unique values of variable Surname is large: 2932. Are you sure this is not an interval variable? Analysis for pairs of variables including Surname can be slow.\n",
      "  warnings.warn(\n"
     ]
    },
    {
     "data": {
      "text/html": [
       "<div>\n",
       "<style scoped>\n",
       "    .dataframe tbody tr th:only-of-type {\n",
       "        vertical-align: middle;\n",
       "    }\n",
       "\n",
       "    .dataframe tbody tr th {\n",
       "        vertical-align: top;\n",
       "    }\n",
       "\n",
       "    .dataframe thead th {\n",
       "        text-align: right;\n",
       "    }\n",
       "</style>\n",
       "<table border=\"1\" class=\"dataframe\">\n",
       "  <thead>\n",
       "    <tr style=\"text-align: right;\">\n",
       "      <th></th>\n",
       "      <th>RowNumber</th>\n",
       "      <th>CustomerId</th>\n",
       "      <th>Surname</th>\n",
       "      <th>CreditScore</th>\n",
       "      <th>Geography</th>\n",
       "      <th>Gender</th>\n",
       "      <th>Age</th>\n",
       "      <th>Tenure</th>\n",
       "      <th>Balance</th>\n",
       "      <th>NumOfProducts</th>\n",
       "      <th>HasCrCard</th>\n",
       "      <th>IsActiveMember</th>\n",
       "      <th>EstimatedSalary</th>\n",
       "      <th>Exited</th>\n",
       "    </tr>\n",
       "  </thead>\n",
       "  <tbody>\n",
       "    <tr>\n",
       "      <th>RowNumber</th>\n",
       "      <td>1.000000</td>\n",
       "      <td>0.000000</td>\n",
       "      <td>0.000000</td>\n",
       "      <td>0.041080</td>\n",
       "      <td>0.030864</td>\n",
       "      <td>0.000000</td>\n",
       "      <td>0.033746</td>\n",
       "      <td>0.000000</td>\n",
       "      <td>0.000000</td>\n",
       "      <td>0.014601</td>\n",
       "      <td>0.010813</td>\n",
       "      <td>0.000000</td>\n",
       "      <td>0.000000</td>\n",
       "      <td>0.000000</td>\n",
       "    </tr>\n",
       "    <tr>\n",
       "      <th>CustomerId</th>\n",
       "      <td>0.000000</td>\n",
       "      <td>1.000000</td>\n",
       "      <td>0.000000</td>\n",
       "      <td>0.018946</td>\n",
       "      <td>0.000000</td>\n",
       "      <td>0.000000</td>\n",
       "      <td>0.042049</td>\n",
       "      <td>0.013563</td>\n",
       "      <td>0.000000</td>\n",
       "      <td>0.009637</td>\n",
       "      <td>0.000000</td>\n",
       "      <td>0.014253</td>\n",
       "      <td>0.000000</td>\n",
       "      <td>0.029595</td>\n",
       "    </tr>\n",
       "    <tr>\n",
       "      <th>Surname</th>\n",
       "      <td>0.000000</td>\n",
       "      <td>0.000000</td>\n",
       "      <td>1.000000</td>\n",
       "      <td>0.242957</td>\n",
       "      <td>0.001476</td>\n",
       "      <td>0.040711</td>\n",
       "      <td>0.333753</td>\n",
       "      <td>0.039793</td>\n",
       "      <td>0.483668</td>\n",
       "      <td>0.201225</td>\n",
       "      <td>0.000000</td>\n",
       "      <td>0.000000</td>\n",
       "      <td>0.083242</td>\n",
       "      <td>0.000000</td>\n",
       "    </tr>\n",
       "    <tr>\n",
       "      <th>CreditScore</th>\n",
       "      <td>0.041080</td>\n",
       "      <td>0.018946</td>\n",
       "      <td>0.242957</td>\n",
       "      <td>1.000000</td>\n",
       "      <td>0.035375</td>\n",
       "      <td>0.000000</td>\n",
       "      <td>0.000000</td>\n",
       "      <td>0.000000</td>\n",
       "      <td>0.000000</td>\n",
       "      <td>0.034645</td>\n",
       "      <td>0.000000</td>\n",
       "      <td>0.038064</td>\n",
       "      <td>0.034215</td>\n",
       "      <td>0.096525</td>\n",
       "    </tr>\n",
       "    <tr>\n",
       "      <th>Geography</th>\n",
       "      <td>0.030864</td>\n",
       "      <td>0.000000</td>\n",
       "      <td>0.001476</td>\n",
       "      <td>0.035375</td>\n",
       "      <td>1.000000</td>\n",
       "      <td>0.013354</td>\n",
       "      <td>0.085025</td>\n",
       "      <td>0.000000</td>\n",
       "      <td>0.463811</td>\n",
       "      <td>0.049418</td>\n",
       "      <td>0.002919</td>\n",
       "      <td>0.010947</td>\n",
       "      <td>0.028372</td>\n",
       "      <td>0.104511</td>\n",
       "    </tr>\n",
       "    <tr>\n",
       "      <th>Gender</th>\n",
       "      <td>0.000000</td>\n",
       "      <td>0.000000</td>\n",
       "      <td>0.040711</td>\n",
       "      <td>0.000000</td>\n",
       "      <td>0.013354</td>\n",
       "      <td>1.000000</td>\n",
       "      <td>0.033815</td>\n",
       "      <td>0.026017</td>\n",
       "      <td>0.000000</td>\n",
       "      <td>0.063174</td>\n",
       "      <td>0.000000</td>\n",
       "      <td>0.031384</td>\n",
       "      <td>0.028019</td>\n",
       "      <td>0.165422</td>\n",
       "    </tr>\n",
       "    <tr>\n",
       "      <th>Age</th>\n",
       "      <td>0.033746</td>\n",
       "      <td>0.042049</td>\n",
       "      <td>0.333753</td>\n",
       "      <td>0.000000</td>\n",
       "      <td>0.085025</td>\n",
       "      <td>0.033815</td>\n",
       "      <td>1.000000</td>\n",
       "      <td>0.038520</td>\n",
       "      <td>0.035357</td>\n",
       "      <td>0.145566</td>\n",
       "      <td>0.016433</td>\n",
       "      <td>0.187434</td>\n",
       "      <td>0.051545</td>\n",
       "      <td>0.487524</td>\n",
       "    </tr>\n",
       "    <tr>\n",
       "      <th>Tenure</th>\n",
       "      <td>0.000000</td>\n",
       "      <td>0.013563</td>\n",
       "      <td>0.039793</td>\n",
       "      <td>0.000000</td>\n",
       "      <td>0.000000</td>\n",
       "      <td>0.026017</td>\n",
       "      <td>0.038520</td>\n",
       "      <td>1.000000</td>\n",
       "      <td>0.061008</td>\n",
       "      <td>0.058527</td>\n",
       "      <td>0.029651</td>\n",
       "      <td>0.026318</td>\n",
       "      <td>0.000000</td>\n",
       "      <td>0.020063</td>\n",
       "    </tr>\n",
       "    <tr>\n",
       "      <th>Balance</th>\n",
       "      <td>0.000000</td>\n",
       "      <td>0.000000</td>\n",
       "      <td>0.483668</td>\n",
       "      <td>0.000000</td>\n",
       "      <td>0.463811</td>\n",
       "      <td>0.000000</td>\n",
       "      <td>0.035357</td>\n",
       "      <td>0.061008</td>\n",
       "      <td>1.000000</td>\n",
       "      <td>0.371385</td>\n",
       "      <td>0.050671</td>\n",
       "      <td>0.018236</td>\n",
       "      <td>0.000000</td>\n",
       "      <td>0.183365</td>\n",
       "    </tr>\n",
       "    <tr>\n",
       "      <th>NumOfProducts</th>\n",
       "      <td>0.014601</td>\n",
       "      <td>0.009637</td>\n",
       "      <td>0.201225</td>\n",
       "      <td>0.034645</td>\n",
       "      <td>0.049418</td>\n",
       "      <td>0.063174</td>\n",
       "      <td>0.145566</td>\n",
       "      <td>0.058527</td>\n",
       "      <td>0.371385</td>\n",
       "      <td>1.000000</td>\n",
       "      <td>0.000000</td>\n",
       "      <td>0.056918</td>\n",
       "      <td>0.031562</td>\n",
       "      <td>0.565084</td>\n",
       "    </tr>\n",
       "    <tr>\n",
       "      <th>HasCrCard</th>\n",
       "      <td>0.010813</td>\n",
       "      <td>0.000000</td>\n",
       "      <td>0.000000</td>\n",
       "      <td>0.000000</td>\n",
       "      <td>0.002919</td>\n",
       "      <td>0.000000</td>\n",
       "      <td>0.016433</td>\n",
       "      <td>0.029651</td>\n",
       "      <td>0.050671</td>\n",
       "      <td>0.000000</td>\n",
       "      <td>1.000000</td>\n",
       "      <td>0.009377</td>\n",
       "      <td>0.000000</td>\n",
       "      <td>0.000000</td>\n",
       "    </tr>\n",
       "    <tr>\n",
       "      <th>IsActiveMember</th>\n",
       "      <td>0.000000</td>\n",
       "      <td>0.014253</td>\n",
       "      <td>0.000000</td>\n",
       "      <td>0.038064</td>\n",
       "      <td>0.010947</td>\n",
       "      <td>0.031384</td>\n",
       "      <td>0.187434</td>\n",
       "      <td>0.026318</td>\n",
       "      <td>0.018236</td>\n",
       "      <td>0.056918</td>\n",
       "      <td>0.009377</td>\n",
       "      <td>1.000000</td>\n",
       "      <td>0.032847</td>\n",
       "      <td>0.241939</td>\n",
       "    </tr>\n",
       "    <tr>\n",
       "      <th>EstimatedSalary</th>\n",
       "      <td>0.000000</td>\n",
       "      <td>0.000000</td>\n",
       "      <td>0.083242</td>\n",
       "      <td>0.034215</td>\n",
       "      <td>0.028372</td>\n",
       "      <td>0.028019</td>\n",
       "      <td>0.051545</td>\n",
       "      <td>0.000000</td>\n",
       "      <td>0.000000</td>\n",
       "      <td>0.031562</td>\n",
       "      <td>0.000000</td>\n",
       "      <td>0.032847</td>\n",
       "      <td>1.000000</td>\n",
       "      <td>0.000000</td>\n",
       "    </tr>\n",
       "    <tr>\n",
       "      <th>Exited</th>\n",
       "      <td>0.000000</td>\n",
       "      <td>0.029595</td>\n",
       "      <td>0.000000</td>\n",
       "      <td>0.096525</td>\n",
       "      <td>0.104511</td>\n",
       "      <td>0.165422</td>\n",
       "      <td>0.487524</td>\n",
       "      <td>0.020063</td>\n",
       "      <td>0.183365</td>\n",
       "      <td>0.565084</td>\n",
       "      <td>0.000000</td>\n",
       "      <td>0.241939</td>\n",
       "      <td>0.000000</td>\n",
       "      <td>1.000000</td>\n",
       "    </tr>\n",
       "  </tbody>\n",
       "</table>\n",
       "</div>"
      ],
      "text/plain": [
       "                 RowNumber  CustomerId   Surname  CreditScore  Geography  \\\n",
       "RowNumber         1.000000    0.000000  0.000000     0.041080   0.030864   \n",
       "CustomerId        0.000000    1.000000  0.000000     0.018946   0.000000   \n",
       "Surname           0.000000    0.000000  1.000000     0.242957   0.001476   \n",
       "CreditScore       0.041080    0.018946  0.242957     1.000000   0.035375   \n",
       "Geography         0.030864    0.000000  0.001476     0.035375   1.000000   \n",
       "Gender            0.000000    0.000000  0.040711     0.000000   0.013354   \n",
       "Age               0.033746    0.042049  0.333753     0.000000   0.085025   \n",
       "Tenure            0.000000    0.013563  0.039793     0.000000   0.000000   \n",
       "Balance           0.000000    0.000000  0.483668     0.000000   0.463811   \n",
       "NumOfProducts     0.014601    0.009637  0.201225     0.034645   0.049418   \n",
       "HasCrCard         0.010813    0.000000  0.000000     0.000000   0.002919   \n",
       "IsActiveMember    0.000000    0.014253  0.000000     0.038064   0.010947   \n",
       "EstimatedSalary   0.000000    0.000000  0.083242     0.034215   0.028372   \n",
       "Exited            0.000000    0.029595  0.000000     0.096525   0.104511   \n",
       "\n",
       "                   Gender       Age    Tenure   Balance  NumOfProducts  \\\n",
       "RowNumber        0.000000  0.033746  0.000000  0.000000       0.014601   \n",
       "CustomerId       0.000000  0.042049  0.013563  0.000000       0.009637   \n",
       "Surname          0.040711  0.333753  0.039793  0.483668       0.201225   \n",
       "CreditScore      0.000000  0.000000  0.000000  0.000000       0.034645   \n",
       "Geography        0.013354  0.085025  0.000000  0.463811       0.049418   \n",
       "Gender           1.000000  0.033815  0.026017  0.000000       0.063174   \n",
       "Age              0.033815  1.000000  0.038520  0.035357       0.145566   \n",
       "Tenure           0.026017  0.038520  1.000000  0.061008       0.058527   \n",
       "Balance          0.000000  0.035357  0.061008  1.000000       0.371385   \n",
       "NumOfProducts    0.063174  0.145566  0.058527  0.371385       1.000000   \n",
       "HasCrCard        0.000000  0.016433  0.029651  0.050671       0.000000   \n",
       "IsActiveMember   0.031384  0.187434  0.026318  0.018236       0.056918   \n",
       "EstimatedSalary  0.028019  0.051545  0.000000  0.000000       0.031562   \n",
       "Exited           0.165422  0.487524  0.020063  0.183365       0.565084   \n",
       "\n",
       "                 HasCrCard  IsActiveMember  EstimatedSalary    Exited  \n",
       "RowNumber         0.010813        0.000000         0.000000  0.000000  \n",
       "CustomerId        0.000000        0.014253         0.000000  0.029595  \n",
       "Surname           0.000000        0.000000         0.083242  0.000000  \n",
       "CreditScore       0.000000        0.038064         0.034215  0.096525  \n",
       "Geography         0.002919        0.010947         0.028372  0.104511  \n",
       "Gender            0.000000        0.031384         0.028019  0.165422  \n",
       "Age               0.016433        0.187434         0.051545  0.487524  \n",
       "Tenure            0.029651        0.026318         0.000000  0.020063  \n",
       "Balance           0.050671        0.018236         0.000000  0.183365  \n",
       "NumOfProducts     0.000000        0.056918         0.031562  0.565084  \n",
       "HasCrCard         1.000000        0.009377         0.000000  0.000000  \n",
       "IsActiveMember    0.009377        1.000000         0.032847  0.241939  \n",
       "EstimatedSalary   0.000000        0.032847         1.000000  0.000000  \n",
       "Exited            0.000000        0.241939         0.000000  1.000000  "
      ]
     },
     "execution_count": 39,
     "metadata": {},
     "output_type": "execute_result"
    }
   ],
   "source": [
    "data.phik_matrix()"
   ]
  },
  {
   "attachments": {},
   "cell_type": "markdown",
   "metadata": {},
   "source": [
    "Сильных связей между признакими не видно, оставим их все, за исключением 'Surname', 'CustomerId', 'RowNumber'. Эти категориальные признаки никак не повлияют на качество обучения, поэтому удалим их. "
   ]
  },
  {
   "cell_type": "code",
   "execution_count": 40,
   "metadata": {},
   "outputs": [
    {
     "data": {
      "text/plain": [
       "array(['Female', 'Male'], dtype=object)"
      ]
     },
     "execution_count": 40,
     "metadata": {},
     "output_type": "execute_result"
    }
   ],
   "source": [
    "data['Gender'].unique()"
   ]
  },
  {
   "cell_type": "code",
   "execution_count": 41,
   "metadata": {},
   "outputs": [
    {
     "data": {
      "text/plain": [
       "array(['France', 'Spain', 'Germany'], dtype=object)"
      ]
     },
     "execution_count": 41,
     "metadata": {},
     "output_type": "execute_result"
    }
   ],
   "source": [
    "data['Geography'].unique()"
   ]
  },
  {
   "attachments": {},
   "cell_type": "markdown",
   "metadata": {},
   "source": [
    "Признаки 'Gender' и 'Geography' преобразуем с помощью прямого кодирования или методом One-Hot Encoding. Причем при кодировании 'Gender' применим аргумент drop_first=True, так как он может принимать либо одно, либо другое значение, а при кодировании 'Geography' применим аргумент drop_first=False."
   ]
  },
  {
   "cell_type": "code",
   "execution_count": 42,
   "metadata": {},
   "outputs": [
    {
     "data": {
      "text/html": [
       "<div>\n",
       "<style scoped>\n",
       "    .dataframe tbody tr th:only-of-type {\n",
       "        vertical-align: middle;\n",
       "    }\n",
       "\n",
       "    .dataframe tbody tr th {\n",
       "        vertical-align: top;\n",
       "    }\n",
       "\n",
       "    .dataframe thead th {\n",
       "        text-align: right;\n",
       "    }\n",
       "</style>\n",
       "<table border=\"1\" class=\"dataframe\">\n",
       "  <thead>\n",
       "    <tr style=\"text-align: right;\">\n",
       "      <th></th>\n",
       "      <th>RowNumber</th>\n",
       "      <th>CustomerId</th>\n",
       "      <th>Surname</th>\n",
       "      <th>CreditScore</th>\n",
       "      <th>Geography</th>\n",
       "      <th>Age</th>\n",
       "      <th>Tenure</th>\n",
       "      <th>Balance</th>\n",
       "      <th>NumOfProducts</th>\n",
       "      <th>HasCrCard</th>\n",
       "      <th>IsActiveMember</th>\n",
       "      <th>EstimatedSalary</th>\n",
       "      <th>Exited</th>\n",
       "      <th>Gender_Male</th>\n",
       "    </tr>\n",
       "  </thead>\n",
       "  <tbody>\n",
       "    <tr>\n",
       "      <th>0</th>\n",
       "      <td>1</td>\n",
       "      <td>15634602</td>\n",
       "      <td>Hargrave</td>\n",
       "      <td>619</td>\n",
       "      <td>France</td>\n",
       "      <td>42</td>\n",
       "      <td>2.0</td>\n",
       "      <td>0.00</td>\n",
       "      <td>1</td>\n",
       "      <td>1</td>\n",
       "      <td>1</td>\n",
       "      <td>101348.88</td>\n",
       "      <td>1</td>\n",
       "      <td>False</td>\n",
       "    </tr>\n",
       "    <tr>\n",
       "      <th>1</th>\n",
       "      <td>2</td>\n",
       "      <td>15647311</td>\n",
       "      <td>Hill</td>\n",
       "      <td>608</td>\n",
       "      <td>Spain</td>\n",
       "      <td>41</td>\n",
       "      <td>1.0</td>\n",
       "      <td>83807.86</td>\n",
       "      <td>1</td>\n",
       "      <td>0</td>\n",
       "      <td>1</td>\n",
       "      <td>112542.58</td>\n",
       "      <td>0</td>\n",
       "      <td>False</td>\n",
       "    </tr>\n",
       "    <tr>\n",
       "      <th>2</th>\n",
       "      <td>3</td>\n",
       "      <td>15619304</td>\n",
       "      <td>Onio</td>\n",
       "      <td>502</td>\n",
       "      <td>France</td>\n",
       "      <td>42</td>\n",
       "      <td>8.0</td>\n",
       "      <td>159660.80</td>\n",
       "      <td>3</td>\n",
       "      <td>1</td>\n",
       "      <td>0</td>\n",
       "      <td>113931.57</td>\n",
       "      <td>1</td>\n",
       "      <td>False</td>\n",
       "    </tr>\n",
       "    <tr>\n",
       "      <th>3</th>\n",
       "      <td>4</td>\n",
       "      <td>15701354</td>\n",
       "      <td>Boni</td>\n",
       "      <td>699</td>\n",
       "      <td>France</td>\n",
       "      <td>39</td>\n",
       "      <td>1.0</td>\n",
       "      <td>0.00</td>\n",
       "      <td>2</td>\n",
       "      <td>0</td>\n",
       "      <td>0</td>\n",
       "      <td>93826.63</td>\n",
       "      <td>0</td>\n",
       "      <td>False</td>\n",
       "    </tr>\n",
       "    <tr>\n",
       "      <th>4</th>\n",
       "      <td>5</td>\n",
       "      <td>15737888</td>\n",
       "      <td>Mitchell</td>\n",
       "      <td>850</td>\n",
       "      <td>Spain</td>\n",
       "      <td>43</td>\n",
       "      <td>2.0</td>\n",
       "      <td>125510.82</td>\n",
       "      <td>1</td>\n",
       "      <td>1</td>\n",
       "      <td>1</td>\n",
       "      <td>79084.10</td>\n",
       "      <td>0</td>\n",
       "      <td>False</td>\n",
       "    </tr>\n",
       "    <tr>\n",
       "      <th>5</th>\n",
       "      <td>6</td>\n",
       "      <td>15574012</td>\n",
       "      <td>Chu</td>\n",
       "      <td>645</td>\n",
       "      <td>Spain</td>\n",
       "      <td>44</td>\n",
       "      <td>8.0</td>\n",
       "      <td>113755.78</td>\n",
       "      <td>2</td>\n",
       "      <td>1</td>\n",
       "      <td>0</td>\n",
       "      <td>149756.71</td>\n",
       "      <td>1</td>\n",
       "      <td>True</td>\n",
       "    </tr>\n",
       "    <tr>\n",
       "      <th>6</th>\n",
       "      <td>7</td>\n",
       "      <td>15592531</td>\n",
       "      <td>Bartlett</td>\n",
       "      <td>822</td>\n",
       "      <td>France</td>\n",
       "      <td>50</td>\n",
       "      <td>7.0</td>\n",
       "      <td>0.00</td>\n",
       "      <td>2</td>\n",
       "      <td>1</td>\n",
       "      <td>1</td>\n",
       "      <td>10062.80</td>\n",
       "      <td>0</td>\n",
       "      <td>True</td>\n",
       "    </tr>\n",
       "    <tr>\n",
       "      <th>7</th>\n",
       "      <td>8</td>\n",
       "      <td>15656148</td>\n",
       "      <td>Obinna</td>\n",
       "      <td>376</td>\n",
       "      <td>Germany</td>\n",
       "      <td>29</td>\n",
       "      <td>4.0</td>\n",
       "      <td>115046.74</td>\n",
       "      <td>4</td>\n",
       "      <td>1</td>\n",
       "      <td>0</td>\n",
       "      <td>119346.88</td>\n",
       "      <td>1</td>\n",
       "      <td>False</td>\n",
       "    </tr>\n",
       "    <tr>\n",
       "      <th>8</th>\n",
       "      <td>9</td>\n",
       "      <td>15792365</td>\n",
       "      <td>He</td>\n",
       "      <td>501</td>\n",
       "      <td>France</td>\n",
       "      <td>44</td>\n",
       "      <td>4.0</td>\n",
       "      <td>142051.07</td>\n",
       "      <td>2</td>\n",
       "      <td>0</td>\n",
       "      <td>1</td>\n",
       "      <td>74940.50</td>\n",
       "      <td>0</td>\n",
       "      <td>True</td>\n",
       "    </tr>\n",
       "    <tr>\n",
       "      <th>9</th>\n",
       "      <td>10</td>\n",
       "      <td>15592389</td>\n",
       "      <td>H?</td>\n",
       "      <td>684</td>\n",
       "      <td>France</td>\n",
       "      <td>27</td>\n",
       "      <td>2.0</td>\n",
       "      <td>134603.88</td>\n",
       "      <td>1</td>\n",
       "      <td>1</td>\n",
       "      <td>1</td>\n",
       "      <td>71725.73</td>\n",
       "      <td>0</td>\n",
       "      <td>True</td>\n",
       "    </tr>\n",
       "  </tbody>\n",
       "</table>\n",
       "</div>"
      ],
      "text/plain": [
       "   RowNumber  CustomerId   Surname  CreditScore Geography  Age  Tenure  \\\n",
       "0          1    15634602  Hargrave          619    France   42     2.0   \n",
       "1          2    15647311      Hill          608     Spain   41     1.0   \n",
       "2          3    15619304      Onio          502    France   42     8.0   \n",
       "3          4    15701354      Boni          699    France   39     1.0   \n",
       "4          5    15737888  Mitchell          850     Spain   43     2.0   \n",
       "5          6    15574012       Chu          645     Spain   44     8.0   \n",
       "6          7    15592531  Bartlett          822    France   50     7.0   \n",
       "7          8    15656148    Obinna          376   Germany   29     4.0   \n",
       "8          9    15792365        He          501    France   44     4.0   \n",
       "9         10    15592389        H?          684    France   27     2.0   \n",
       "\n",
       "     Balance  NumOfProducts  HasCrCard  IsActiveMember  EstimatedSalary  \\\n",
       "0       0.00              1          1               1        101348.88   \n",
       "1   83807.86              1          0               1        112542.58   \n",
       "2  159660.80              3          1               0        113931.57   \n",
       "3       0.00              2          0               0         93826.63   \n",
       "4  125510.82              1          1               1         79084.10   \n",
       "5  113755.78              2          1               0        149756.71   \n",
       "6       0.00              2          1               1         10062.80   \n",
       "7  115046.74              4          1               0        119346.88   \n",
       "8  142051.07              2          0               1         74940.50   \n",
       "9  134603.88              1          1               1         71725.73   \n",
       "\n",
       "   Exited  Gender_Male  \n",
       "0       1        False  \n",
       "1       0        False  \n",
       "2       1        False  \n",
       "3       0        False  \n",
       "4       0        False  \n",
       "5       1         True  \n",
       "6       0         True  \n",
       "7       1        False  \n",
       "8       0         True  \n",
       "9       0         True  "
      ]
     },
     "metadata": {},
     "output_type": "display_data"
    }
   ],
   "source": [
    "data = pd.get_dummies(data, drop_first=True, columns=['Gender'])\n",
    "display(data.head(10))"
   ]
  },
  {
   "cell_type": "code",
   "execution_count": 43,
   "metadata": {
    "scrolled": true
   },
   "outputs": [
    {
     "data": {
      "text/html": [
       "<div>\n",
       "<style scoped>\n",
       "    .dataframe tbody tr th:only-of-type {\n",
       "        vertical-align: middle;\n",
       "    }\n",
       "\n",
       "    .dataframe tbody tr th {\n",
       "        vertical-align: top;\n",
       "    }\n",
       "\n",
       "    .dataframe thead th {\n",
       "        text-align: right;\n",
       "    }\n",
       "</style>\n",
       "<table border=\"1\" class=\"dataframe\">\n",
       "  <thead>\n",
       "    <tr style=\"text-align: right;\">\n",
       "      <th></th>\n",
       "      <th>RowNumber</th>\n",
       "      <th>CustomerId</th>\n",
       "      <th>Surname</th>\n",
       "      <th>CreditScore</th>\n",
       "      <th>Age</th>\n",
       "      <th>Tenure</th>\n",
       "      <th>Balance</th>\n",
       "      <th>NumOfProducts</th>\n",
       "      <th>HasCrCard</th>\n",
       "      <th>IsActiveMember</th>\n",
       "      <th>EstimatedSalary</th>\n",
       "      <th>Exited</th>\n",
       "      <th>Gender_Male</th>\n",
       "      <th>Geography_Germany</th>\n",
       "      <th>Geography_Spain</th>\n",
       "    </tr>\n",
       "  </thead>\n",
       "  <tbody>\n",
       "    <tr>\n",
       "      <th>0</th>\n",
       "      <td>1</td>\n",
       "      <td>15634602</td>\n",
       "      <td>Hargrave</td>\n",
       "      <td>619</td>\n",
       "      <td>42</td>\n",
       "      <td>2.0</td>\n",
       "      <td>0.00</td>\n",
       "      <td>1</td>\n",
       "      <td>1</td>\n",
       "      <td>1</td>\n",
       "      <td>101348.88</td>\n",
       "      <td>1</td>\n",
       "      <td>False</td>\n",
       "      <td>False</td>\n",
       "      <td>False</td>\n",
       "    </tr>\n",
       "    <tr>\n",
       "      <th>1</th>\n",
       "      <td>2</td>\n",
       "      <td>15647311</td>\n",
       "      <td>Hill</td>\n",
       "      <td>608</td>\n",
       "      <td>41</td>\n",
       "      <td>1.0</td>\n",
       "      <td>83807.86</td>\n",
       "      <td>1</td>\n",
       "      <td>0</td>\n",
       "      <td>1</td>\n",
       "      <td>112542.58</td>\n",
       "      <td>0</td>\n",
       "      <td>False</td>\n",
       "      <td>False</td>\n",
       "      <td>True</td>\n",
       "    </tr>\n",
       "    <tr>\n",
       "      <th>2</th>\n",
       "      <td>3</td>\n",
       "      <td>15619304</td>\n",
       "      <td>Onio</td>\n",
       "      <td>502</td>\n",
       "      <td>42</td>\n",
       "      <td>8.0</td>\n",
       "      <td>159660.80</td>\n",
       "      <td>3</td>\n",
       "      <td>1</td>\n",
       "      <td>0</td>\n",
       "      <td>113931.57</td>\n",
       "      <td>1</td>\n",
       "      <td>False</td>\n",
       "      <td>False</td>\n",
       "      <td>False</td>\n",
       "    </tr>\n",
       "    <tr>\n",
       "      <th>3</th>\n",
       "      <td>4</td>\n",
       "      <td>15701354</td>\n",
       "      <td>Boni</td>\n",
       "      <td>699</td>\n",
       "      <td>39</td>\n",
       "      <td>1.0</td>\n",
       "      <td>0.00</td>\n",
       "      <td>2</td>\n",
       "      <td>0</td>\n",
       "      <td>0</td>\n",
       "      <td>93826.63</td>\n",
       "      <td>0</td>\n",
       "      <td>False</td>\n",
       "      <td>False</td>\n",
       "      <td>False</td>\n",
       "    </tr>\n",
       "    <tr>\n",
       "      <th>4</th>\n",
       "      <td>5</td>\n",
       "      <td>15737888</td>\n",
       "      <td>Mitchell</td>\n",
       "      <td>850</td>\n",
       "      <td>43</td>\n",
       "      <td>2.0</td>\n",
       "      <td>125510.82</td>\n",
       "      <td>1</td>\n",
       "      <td>1</td>\n",
       "      <td>1</td>\n",
       "      <td>79084.10</td>\n",
       "      <td>0</td>\n",
       "      <td>False</td>\n",
       "      <td>False</td>\n",
       "      <td>True</td>\n",
       "    </tr>\n",
       "    <tr>\n",
       "      <th>5</th>\n",
       "      <td>6</td>\n",
       "      <td>15574012</td>\n",
       "      <td>Chu</td>\n",
       "      <td>645</td>\n",
       "      <td>44</td>\n",
       "      <td>8.0</td>\n",
       "      <td>113755.78</td>\n",
       "      <td>2</td>\n",
       "      <td>1</td>\n",
       "      <td>0</td>\n",
       "      <td>149756.71</td>\n",
       "      <td>1</td>\n",
       "      <td>True</td>\n",
       "      <td>False</td>\n",
       "      <td>True</td>\n",
       "    </tr>\n",
       "    <tr>\n",
       "      <th>6</th>\n",
       "      <td>7</td>\n",
       "      <td>15592531</td>\n",
       "      <td>Bartlett</td>\n",
       "      <td>822</td>\n",
       "      <td>50</td>\n",
       "      <td>7.0</td>\n",
       "      <td>0.00</td>\n",
       "      <td>2</td>\n",
       "      <td>1</td>\n",
       "      <td>1</td>\n",
       "      <td>10062.80</td>\n",
       "      <td>0</td>\n",
       "      <td>True</td>\n",
       "      <td>False</td>\n",
       "      <td>False</td>\n",
       "    </tr>\n",
       "    <tr>\n",
       "      <th>7</th>\n",
       "      <td>8</td>\n",
       "      <td>15656148</td>\n",
       "      <td>Obinna</td>\n",
       "      <td>376</td>\n",
       "      <td>29</td>\n",
       "      <td>4.0</td>\n",
       "      <td>115046.74</td>\n",
       "      <td>4</td>\n",
       "      <td>1</td>\n",
       "      <td>0</td>\n",
       "      <td>119346.88</td>\n",
       "      <td>1</td>\n",
       "      <td>False</td>\n",
       "      <td>True</td>\n",
       "      <td>False</td>\n",
       "    </tr>\n",
       "    <tr>\n",
       "      <th>8</th>\n",
       "      <td>9</td>\n",
       "      <td>15792365</td>\n",
       "      <td>He</td>\n",
       "      <td>501</td>\n",
       "      <td>44</td>\n",
       "      <td>4.0</td>\n",
       "      <td>142051.07</td>\n",
       "      <td>2</td>\n",
       "      <td>0</td>\n",
       "      <td>1</td>\n",
       "      <td>74940.50</td>\n",
       "      <td>0</td>\n",
       "      <td>True</td>\n",
       "      <td>False</td>\n",
       "      <td>False</td>\n",
       "    </tr>\n",
       "    <tr>\n",
       "      <th>9</th>\n",
       "      <td>10</td>\n",
       "      <td>15592389</td>\n",
       "      <td>H?</td>\n",
       "      <td>684</td>\n",
       "      <td>27</td>\n",
       "      <td>2.0</td>\n",
       "      <td>134603.88</td>\n",
       "      <td>1</td>\n",
       "      <td>1</td>\n",
       "      <td>1</td>\n",
       "      <td>71725.73</td>\n",
       "      <td>0</td>\n",
       "      <td>True</td>\n",
       "      <td>False</td>\n",
       "      <td>False</td>\n",
       "    </tr>\n",
       "  </tbody>\n",
       "</table>\n",
       "</div>"
      ],
      "text/plain": [
       "   RowNumber  CustomerId   Surname  CreditScore  Age  Tenure    Balance  \\\n",
       "0          1    15634602  Hargrave          619   42     2.0       0.00   \n",
       "1          2    15647311      Hill          608   41     1.0   83807.86   \n",
       "2          3    15619304      Onio          502   42     8.0  159660.80   \n",
       "3          4    15701354      Boni          699   39     1.0       0.00   \n",
       "4          5    15737888  Mitchell          850   43     2.0  125510.82   \n",
       "5          6    15574012       Chu          645   44     8.0  113755.78   \n",
       "6          7    15592531  Bartlett          822   50     7.0       0.00   \n",
       "7          8    15656148    Obinna          376   29     4.0  115046.74   \n",
       "8          9    15792365        He          501   44     4.0  142051.07   \n",
       "9         10    15592389        H?          684   27     2.0  134603.88   \n",
       "\n",
       "   NumOfProducts  HasCrCard  IsActiveMember  EstimatedSalary  Exited  \\\n",
       "0              1          1               1        101348.88       1   \n",
       "1              1          0               1        112542.58       0   \n",
       "2              3          1               0        113931.57       1   \n",
       "3              2          0               0         93826.63       0   \n",
       "4              1          1               1         79084.10       0   \n",
       "5              2          1               0        149756.71       1   \n",
       "6              2          1               1         10062.80       0   \n",
       "7              4          1               0        119346.88       1   \n",
       "8              2          0               1         74940.50       0   \n",
       "9              1          1               1         71725.73       0   \n",
       "\n",
       "   Gender_Male  Geography_Germany  Geography_Spain  \n",
       "0        False              False            False  \n",
       "1        False              False             True  \n",
       "2        False              False            False  \n",
       "3        False              False            False  \n",
       "4        False              False             True  \n",
       "5         True              False             True  \n",
       "6         True              False            False  \n",
       "7        False               True            False  \n",
       "8         True              False            False  \n",
       "9         True              False            False  "
      ]
     },
     "metadata": {},
     "output_type": "display_data"
    }
   ],
   "source": [
    "data = pd.get_dummies(data, drop_first=True, columns=['Geography'])\n",
    "display(data.head(10))"
   ]
  },
  {
   "attachments": {},
   "cell_type": "markdown",
   "metadata": {},
   "source": [
    "Стандартизируем данные путем масштабирования признаков 'CreditScore', 'Balance', 'EstimatedSalary'"
   ]
  },
  {
   "attachments": {},
   "cell_type": "markdown",
   "metadata": {},
   "source": [
    "Как уже говорилось ранее, удалим ненужные признаки. Создадим переменные с признаками и целевым признаком."
   ]
  },
  {
   "cell_type": "code",
   "execution_count": 44,
   "metadata": {},
   "outputs": [],
   "source": [
    "features = data.drop(['Exited', 'Surname', 'CustomerId', 'RowNumber'], axis=1)\n",
    "target = data['Exited']"
   ]
  },
  {
   "attachments": {},
   "cell_type": "markdown",
   "metadata": {},
   "source": [
    "Разделим исходные данные на 2 выборки: Обучающую -60% и Тестовую - 40%"
   ]
  },
  {
   "cell_type": "code",
   "execution_count": 45,
   "metadata": {},
   "outputs": [],
   "source": [
    "features_train, features_test_ad, target_train, target_test_ad = train_test_split(\n",
    "   features, target, test_size=0.4, random_state=12345)"
   ]
  },
  {
   "attachments": {},
   "cell_type": "markdown",
   "metadata": {},
   "source": [
    "Тестовую выборку разделим также на 2 выборки: Валидационную - 50% и Тестовую - 50%."
   ]
  },
  {
   "cell_type": "code",
   "execution_count": 46,
   "metadata": {},
   "outputs": [],
   "source": [
    "features_test, features_valid, target_test, target_valid = train_test_split(\n",
    "   features_test_ad, target_test_ad, test_size=0.5, random_state=12345)"
   ]
  },
  {
   "cell_type": "code",
   "execution_count": 47,
   "metadata": {},
   "outputs": [
    {
     "name": "stdout",
     "output_type": "stream",
     "text": [
      "<class 'pandas.core.frame.DataFrame'>\n",
      "Index: 6000 entries, 7479 to 4578\n",
      "Data columns (total 11 columns):\n",
      " #   Column             Non-Null Count  Dtype  \n",
      "---  ------             --------------  -----  \n",
      " 0   CreditScore        6000 non-null   int64  \n",
      " 1   Age                6000 non-null   int64  \n",
      " 2   Tenure             6000 non-null   float64\n",
      " 3   Balance            6000 non-null   float64\n",
      " 4   NumOfProducts      6000 non-null   int64  \n",
      " 5   HasCrCard          6000 non-null   int64  \n",
      " 6   IsActiveMember     6000 non-null   int64  \n",
      " 7   EstimatedSalary    6000 non-null   float64\n",
      " 8   Gender_Male        6000 non-null   bool   \n",
      " 9   Geography_Germany  6000 non-null   bool   \n",
      " 10  Geography_Spain    6000 non-null   bool   \n",
      "dtypes: bool(3), float64(3), int64(5)\n",
      "memory usage: 439.5 KB\n",
      "<class 'pandas.core.frame.DataFrame'>\n",
      "Index: 2000 entries, 8532 to 6895\n",
      "Data columns (total 11 columns):\n",
      " #   Column             Non-Null Count  Dtype  \n",
      "---  ------             --------------  -----  \n",
      " 0   CreditScore        2000 non-null   int64  \n",
      " 1   Age                2000 non-null   int64  \n",
      " 2   Tenure             2000 non-null   float64\n",
      " 3   Balance            2000 non-null   float64\n",
      " 4   NumOfProducts      2000 non-null   int64  \n",
      " 5   HasCrCard          2000 non-null   int64  \n",
      " 6   IsActiveMember     2000 non-null   int64  \n",
      " 7   EstimatedSalary    2000 non-null   float64\n",
      " 8   Gender_Male        2000 non-null   bool   \n",
      " 9   Geography_Germany  2000 non-null   bool   \n",
      " 10  Geography_Spain    2000 non-null   bool   \n",
      "dtypes: bool(3), float64(3), int64(5)\n",
      "memory usage: 146.5 KB\n",
      "<class 'pandas.core.frame.DataFrame'>\n",
      "Index: 2000 entries, 7041 to 3366\n",
      "Data columns (total 11 columns):\n",
      " #   Column             Non-Null Count  Dtype  \n",
      "---  ------             --------------  -----  \n",
      " 0   CreditScore        2000 non-null   int64  \n",
      " 1   Age                2000 non-null   int64  \n",
      " 2   Tenure             2000 non-null   float64\n",
      " 3   Balance            2000 non-null   float64\n",
      " 4   NumOfProducts      2000 non-null   int64  \n",
      " 5   HasCrCard          2000 non-null   int64  \n",
      " 6   IsActiveMember     2000 non-null   int64  \n",
      " 7   EstimatedSalary    2000 non-null   float64\n",
      " 8   Gender_Male        2000 non-null   bool   \n",
      " 9   Geography_Germany  2000 non-null   bool   \n",
      " 10  Geography_Spain    2000 non-null   bool   \n",
      "dtypes: bool(3), float64(3), int64(5)\n",
      "memory usage: 146.5 KB\n"
     ]
    }
   ],
   "source": [
    "features_train.info()\n",
    "features_test.info()\n",
    "features_valid.info()"
   ]
  },
  {
   "attachments": {},
   "cell_type": "markdown",
   "metadata": {},
   "source": [
    "Судя по полученным данным, выборки разделены в соотношении 60:20:20"
   ]
  },
  {
   "cell_type": "code",
   "execution_count": 48,
   "metadata": {
    "scrolled": true
   },
   "outputs": [],
   "source": [
    "numeric = ['CreditScore', 'Balance', 'EstimatedSalary']\n",
    "# < напишите код здесь >\n",
    "scaler = StandardScaler()\n",
    "scaler.fit(features_train[numeric]) \n",
    "features_train[numeric] = scaler.transform(features_train[numeric])\n",
    "features_valid[numeric] = scaler.transform(features_valid[numeric])\n",
    "features_test[numeric] = scaler.transform(features_test[numeric])\n",
    "#print(features_train.head(10))\n",
    "#print(features_valid.head(10))"
   ]
  },
  {
   "attachments": {},
   "cell_type": "markdown",
   "metadata": {},
   "source": [
    "## Исследование задачи"
   ]
  },
  {
   "attachments": {},
   "cell_type": "markdown",
   "metadata": {},
   "source": [
    "### Сравнение классов"
   ]
  },
  {
   "cell_type": "code",
   "execution_count": 49,
   "metadata": {},
   "outputs": [
    {
     "name": "stdout",
     "output_type": "stream",
     "text": [
      "Exited\n",
      "0    0.7963\n",
      "1    0.2037\n",
      "Name: proportion, dtype: float64\n"
     ]
    },
    {
     "data": {
      "text/plain": [
       "<Axes: xlabel='Exited'>"
      ]
     },
     "execution_count": 49,
     "metadata": {},
     "output_type": "execute_result"
    },
    {
     "data": {
      "image/png": "[encoded data removed]",
      "text/plain": [
       "<Figure size 640x480 with 1 Axes>"
      ]
     },
     "metadata": {},
     "output_type": "display_data"
    }
   ],
   "source": [
    "class_frequency = data['Exited'].value_counts(normalize=True) # < напишите код здесь >)\n",
    "print(class_frequency)\n",
    "class_frequency.plot(kind='bar') "
   ]
  },
  {
   "attachments": {},
   "cell_type": "markdown",
   "metadata": {},
   "source": [
    "Мы наблюдаем сильный дисбаланс классов, в соотношении примерно 4:1, проверим это"
   ]
  },
  {
   "cell_type": "code",
   "execution_count": 50,
   "metadata": {},
   "outputs": [
    {
     "name": "stdout",
     "output_type": "stream",
     "text": [
      "4\n"
     ]
    }
   ],
   "source": [
    "print(round(class_frequency[0]/class_frequency[1]))"
   ]
  },
  {
   "attachments": {},
   "cell_type": "markdown",
   "metadata": {},
   "source": [
    "### Сравнение с константной моделью"
   ]
  },
  {
   "cell_type": "code",
   "execution_count": 51,
   "metadata": {},
   "outputs": [
    {
     "name": "stdout",
     "output_type": "stream",
     "text": [
      "0.7963\n"
     ]
    }
   ],
   "source": [
    "target_pred_constant = pd.Series(0, index=target.index)\n",
    "print(accuracy_score(target, target_pred_constant))"
   ]
  },
  {
   "attachments": {},
   "cell_type": "markdown",
   "metadata": {},
   "source": [
    "При сравнении с константной моделью, мы также видим, что 0 встречается почти в 80% случаев."
   ]
  },
  {
   "attachments": {},
   "cell_type": "markdown",
   "metadata": {},
   "source": [
    "### Проверка моделей не учитывая дисбаланс классов"
   ]
  },
  {
   "attachments": {},
   "cell_type": "markdown",
   "metadata": {},
   "source": [
    "#### Дерево решений"
   ]
  },
  {
   "cell_type": "code",
   "execution_count": 85,
   "metadata": {},
   "outputs": [
    {
     "name": "stderr",
     "output_type": "stream",
     "text": [
      "100%|██████████| 9/9 [00:00<00:00, 90.85it/s]"
     ]
    },
    {
     "name": "stdout",
     "output_type": "stream",
     "text": [
      "Оптимальная глубина дерева = 6\n",
      "Качество модели F1 -  0.5359877488514548\n",
      "CPU times: user 99.8 ms, sys: 3.01 ms, total: 103 ms\n",
      "Wall time: 102 ms\n"
     ]
    },
    {
     "name": "stderr",
     "output_type": "stream",
     "text": [
      "\n"
     ]
    }
   ],
   "source": [
    "%%time\n",
    "\n",
    "best_model_tree = None\n",
    "best_f1_tree_n = 0\n",
    "\n",
    "for depth in tqdm(range(1, 10)):\n",
    "    model_tree = DecisionTreeClassifier(random_state=12345,\n",
    "                                        max_depth=depth)\n",
    "    model_tree.fit(features_train, target_train)\n",
    "    predictions_valid_tree = model_tree.predict(features_valid)\n",
    "    f1_tree = f1_score(target_valid, predictions_valid_tree)\n",
    "    if f1_tree > best_f1_tree_n:\n",
    "        best_model_tree = model_tree\n",
    "        best_depth = depth\n",
    "        best_f1_tree_n = f1_tree\n",
    "\n",
    "print('Оптимальная глубина дерева =', best_depth) \n",
    "print('Качество модели F1 - ', best_f1_tree_n)\n"
   ]
  },
  {
   "cell_type": "code",
   "execution_count": 86,
   "metadata": {},
   "outputs": [
    {
     "name": "stdout",
     "output_type": "stream",
     "text": [
      "Accuracy Дерева решений: 0.8485\n",
      "Полнота Дерева решений: 0.41371158392434987\n",
      "Точность Дерева решений: 0.7608695652173914\n",
      "F1 Дерева решений: 0.5359877488514548\n",
      "AUC-ROC Дерева решений:  0.8418061945430099\n"
     ]
    }
   ],
   "source": [
    "model_tree = DecisionTreeClassifier(random_state=12345,\n",
    "                                    max_depth=6)\n",
    "model_tree.fit(features_train, target_train)\n",
    "predictions_valid_tree = model_tree.predict(features_valid)\n",
    "print(\"Accuracy Дерева решений:\", accuracy_score(target_valid, predictions_valid_tree))\n",
    "print(\"Полнота Дерева решений:\", recall_score(target_valid, predictions_valid_tree))\n",
    "print(\"Точность Дерева решений:\", precision_score(target_valid, predictions_valid_tree))\n",
    "print(\"F1 Дерева решений:\", f1_score(target_valid, predictions_valid_tree))\n",
    "\n",
    "probabilities_valid_tree = model_tree.predict_proba(features_valid)\n",
    "probabilities_one_valid_tree = probabilities_valid_tree[:, 1]\n",
    "fpr_tree_n, tpr_tree_n, thresholds_tree_n = roc_curve(target_valid, probabilities_one_valid_tree)\n",
    "auc_roc_tree_n = roc_auc_score(target_valid, probabilities_one_valid_tree)\n",
    "print('AUC-ROC Дерева решений: ', auc_roc_tree_n)"
   ]
  },
  {
   "attachments": {},
   "cell_type": "markdown",
   "metadata": {},
   "source": [
    "#### Случайный лес"
   ]
  },
  {
   "cell_type": "code",
   "execution_count": 89,
   "metadata": {},
   "outputs": [
    {
     "name": "stdout",
     "output_type": "stream",
     "text": [
      "Оптимальное количество оценок = 60\n",
      "Оптимальная глубина дерева = 9\n",
      "Качество модели F1 -  0.5273010920436818\n",
      "CPU times: user 10.7 s, sys: 89.8 ms, total: 10.8 s\n",
      "Wall time: 10.8 s\n"
     ]
    }
   ],
   "source": [
    "%%time\n",
    "\n",
    "best_model_for = None\n",
    "best_f1_for_n = 0\n",
    "\n",
    "for est in range(10, 101, 10):\n",
    "    for depth in range(1, 10):\n",
    "        model_forest = RandomForestClassifier(random_state=12345,\n",
    "                                              n_estimators=est, \n",
    "                                              max_depth=depth)\n",
    "        model_forest.fit(features_train, target_train)\n",
    "        predictions_valid_forest = model_forest.predict(features_valid)\n",
    "        f1_forest = f1_score(target_valid, predictions_valid_forest)\n",
    "#        print(est)\n",
    "#        print(depth)\n",
    "#        print(f1_forest)\n",
    "        if f1_forest > best_f1_for_n:\n",
    "            best_model_for = model_forest\n",
    "            best_est = est\n",
    "            best_depth = depth\n",
    "            best_f1_for_n = f1_forest\n",
    "\n",
    "print('Оптимальное количество оценок =', best_est)\n",
    "print('Оптимальная глубина дерева =', best_depth)\n",
    "print('Качество модели F1 - ', best_f1_for_n)\n"
   ]
  },
  {
   "cell_type": "code",
   "execution_count": 90,
   "metadata": {},
   "outputs": [
    {
     "name": "stdout",
     "output_type": "stream",
     "text": [
      "Accuracy Случайного леса: 0.8485\n",
      "Полнота Случайного леса: 0.39952718676122934\n",
      "Точность случайного леса: 0.7752293577981652\n",
      "F1 Случайного леса: 0.5273010920436818\n",
      "AUC-ROC Случайного леса:  0.8548670231504591\n"
     ]
    }
   ],
   "source": [
    "model_forest = RandomForestClassifier(random_state=12345, \n",
    "                                      n_estimators=60, \n",
    "                                      max_depth=9)\n",
    "model_forest.fit(features_train, target_train)\n",
    "predictions_valid_forest = model_forest.predict(features_valid)\n",
    "\n",
    "print(\"Accuracy Случайного леса:\", accuracy_score(target_valid, predictions_valid_forest))\n",
    "print(\"Полнота Случайного леса:\", recall_score(target_valid, predictions_valid_forest))\n",
    "print(\"Точность случайного леса:\", precision_score(target_valid, predictions_valid_forest))\n",
    "print(\"F1 Случайного леса:\", f1_score(target_valid, predictions_valid_forest))\n",
    "probabilities_valid_for = model_forest.predict_proba(features_valid)\n",
    "probabilities_one_valid_for = probabilities_valid_for[:, 1]\n",
    "\n",
    "fpr_for_n, tpr_for_n, thresholds_for_n = roc_curve(target_valid, probabilities_one_valid_for)\n",
    "auc_roc_for_n = roc_auc_score(target_valid, probabilities_one_valid_for)\n",
    "print('AUC-ROC Случайного леса: ', auc_roc_for_n)"
   ]
  },
  {
   "attachments": {},
   "cell_type": "markdown",
   "metadata": {},
   "source": [
    "#### Логистическая регрессия"
   ]
  },
  {
   "cell_type": "code",
   "execution_count": 91,
   "metadata": {},
   "outputs": [
    {
     "name": "stderr",
     "output_type": "stream",
     "text": [
      "100%|██████████| 6/6 [00:00<00:00, 41.03it/s]"
     ]
    },
    {
     "name": "stdout",
     "output_type": "stream",
     "text": [
      "Количество итераций = 20\n",
      "Качество модели F1 -  0.27225130890052357\n",
      "Accuracy Логистической регрессии: 0.7915\n",
      "Полнота логистической регрессии: 0.18439716312056736\n",
      "Точность логистической регрессии: 0.52\n",
      "AUC-ROC Логистической регрессии:  0.7383831706070267\n",
      "CPU times: user 872 ms, sys: 53.2 ms, total: 925 ms\n",
      "Wall time: 159 ms\n"
     ]
    },
    {
     "name": "stderr",
     "output_type": "stream",
     "text": [
      "\n"
     ]
    }
   ],
   "source": [
    "%%time\n",
    "\n",
    "max_iter = [20, 50, 100, 200, 500, 1000]                      \n",
    "\n",
    "best_model_log = None\n",
    "best_f1_log_n = 0\n",
    "\n",
    "for iter in tqdm(max_iter):\n",
    "    model_log = LogisticRegression(random_state=12345,\n",
    "                               solver='liblinear', max_iter=iter)\n",
    "    model_log.fit(features_train, target_train)\n",
    "    predictions_valid_log = model_log.predict(features_valid)\n",
    "    f1_log = f1_score(target_valid, predictions_valid_log)\n",
    "    Accuracy_log = accuracy_score(target_valid, predictions_valid_log)\n",
    "    Recall_log = recall_score(target_valid, predictions_valid_log)\n",
    "    Precision_log = precision_score(target_valid, predictions_valid_log)\n",
    "#    print(iter)\n",
    "#    print(f1_log)\n",
    "    if f1_log > best_f1_log_n:\n",
    "        best_model_log = model_log\n",
    "        best_iter = iter\n",
    "        best_f1_log_n = f1_log\n",
    "            \n",
    "print('Количество итераций =', best_iter)\n",
    "print('Качество модели F1 - ', best_f1_log_n)            \n",
    "print(\"Accuracy Логистической регрессии:\", accuracy_score(target_valid, predictions_valid_log))\n",
    "print(\"Полнота логистической регрессии:\", recall_score(target_valid, predictions_valid_log))\n",
    "print(\"Точность логистической регрессии:\", precision_score(target_valid, predictions_valid_log))\n",
    "\n",
    "probabilities_valid_log = model_log.predict_proba(features_valid)\n",
    "probabilities_one_valid_log = probabilities_valid_log[:, 1]\n",
    "\n",
    "fpr_log_n, tpr_log_n, thresholds_log_n = roc_curve(target_valid, probabilities_one_valid_log)\n",
    "auc_roc_log_n = roc_auc_score(target_valid, probabilities_one_valid_log)\n",
    "print('AUC-ROC Логистической регрессии: ', auc_roc_log_n)"
   ]
  },
  {
   "attachments": {},
   "cell_type": "markdown",
   "metadata": {},
   "source": [
    "Сравним значения качества модели F1"
   ]
  },
  {
   "cell_type": "code",
   "execution_count": 92,
   "metadata": {},
   "outputs": [
    {
     "name": "stdout",
     "output_type": "stream",
     "text": [
      "Качество модели F1 - Дерево решений:  0.5359877488514548\n",
      "Качество модели F1 - Случайный лес:  0.5273010920436818\n",
      "Качество модели F1 - Логистическая регрессия:  0.27225130890052357\n"
     ]
    }
   ],
   "source": [
    "print('Качество модели F1 - Дерево решений: ', best_f1_tree_n)\n",
    "print('Качество модели F1 - Случайный лес: ', best_f1_for_n)\n",
    "print('Качество модели F1 - Логистическая регрессия: ', best_f1_log_n)"
   ]
  },
  {
   "attachments": {},
   "cell_type": "markdown",
   "metadata": {},
   "source": [
    "Таким образом, при обучении модели не учитывая дисбаланс классов, наилучшее значение F1 получается у случайного леса."
   ]
  },
  {
   "attachments": {},
   "cell_type": "markdown",
   "metadata": {},
   "source": [
    "#### ROC - кривая"
   ]
  },
  {
   "cell_type": "code",
   "execution_count": 93,
   "metadata": {},
   "outputs": [
    {
     "data": {
      "image/png": "[encoded data removed]",
      "text/plain": [
       "<Figure size 640x480 with 1 Axes>"
      ]
     },
     "metadata": {},
     "output_type": "display_data"
    }
   ],
   "source": [
    "plt.figure()\n",
    "\n",
    "# < постройте график >\n",
    "plt.plot(fpr_tree_n, tpr_tree_n, color='red')\n",
    "plt.plot(fpr_for_n, tpr_for_n, color='green')\n",
    "plt.plot(fpr_log_n, tpr_log_n, color='blue')\n",
    "# ROC-кривая случайной модели (выглядит как прямая)\n",
    "plt.plot([0, 1], [0, 1], linestyle='--')\n",
    "\n",
    "# < примените функции plt.xlim() и plt.ylim(), чтобы\n",
    "#   установить границы осей от 0 до 1 >\n",
    "plt.xlim([0.0, 1.0])\n",
    "plt.ylim([0.0, 1.0])\n",
    "# < примените функции plt.xlabel() и plt.ylabel(), чтобы\n",
    "#   подписать оси \"False Positive Rate\" и \"True Positive Rate\" >\n",
    "plt.xlabel('False Positive Rate')\n",
    "plt.ylabel('True Positive Rate')\n",
    "plt.legend(['Дерево решений', 'Случайный лес', 'Логистическая регрессия'])\n",
    "# < добавьте к графику заголовок \"ROC-кривая\" функцией plt.title() >\n",
    "plt.title('ROC-кривая')\n",
    "plt.show()"
   ]
  },
  {
   "attachments": {},
   "cell_type": "markdown",
   "metadata": {},
   "source": [
    "Глядя на график, мы можем сказать, что лучшее значение AUC-ROC также демонстрирует модель (без учета дисбаланса классов) Случайный лес."
   ]
  },
  {
   "attachments": {},
   "cell_type": "markdown",
   "metadata": {},
   "source": [
    "### Дисбаланс классов на графике"
   ]
  },
  {
   "attachments": {},
   "cell_type": "markdown",
   "metadata": {},
   "source": [
    "#### Дерево решений"
   ]
  },
  {
   "cell_type": "code",
   "execution_count": 94,
   "metadata": {},
   "outputs": [
    {
     "data": {
      "text/plain": [
       "[Text(0.5, 0, 'Predicted'), Text(0, 0.5, 'Actual')]"
      ]
     },
     "execution_count": 94,
     "metadata": {},
     "output_type": "execute_result"
    },
    {
     "data": {
      "image/png": "[encoded data removed]",
      "text/plain": [
       "<Figure size 800x800 with 2 Axes>"
      ]
     },
     "metadata": {},
     "output_type": "display_data"
    }
   ],
   "source": [
    "fig, ax = plt.subplots(figsize=(8,8))\n",
    "disp = ConfusionMatrixDisplay.from_estimator (best_model_tree, features_valid, target_valid, ax=ax,normalize='true', cmap='summer')\n",
    "disp.ax_.set_title('Дерево решений')\n",
    "#plot_confusion_matrixay(estimator=best_model_tree, X=features_valid, y_true=target_valid, ax=ax,\n",
    "#                      normalize='true', cmap='summer')\n",
    "ax.set(xlabel='Predicted', ylabel='Actual')"
   ]
  },
  {
   "attachments": {},
   "cell_type": "markdown",
   "metadata": {},
   "source": [
    "#### Случайный лес"
   ]
  },
  {
   "cell_type": "code",
   "execution_count": 95,
   "metadata": {},
   "outputs": [
    {
     "data": {
      "text/plain": [
       "[Text(0.5, 0, 'Predicted'), Text(0, 0.5, 'Actual')]"
      ]
     },
     "execution_count": 95,
     "metadata": {},
     "output_type": "execute_result"
    },
    {
     "data": {
      "image/png": "[encoded data removed]",
      "text/plain": [
       "<Figure size 800x800 with 2 Axes>"
      ]
     },
     "metadata": {},
     "output_type": "display_data"
    }
   ],
   "source": [
    "fig, ax = plt.subplots(figsize=(8,8))\n",
    "disp = ConfusionMatrixDisplay.from_estimator (best_model_for, features_valid, target_valid, ax=ax,normalize='true', cmap='summer')\n",
    "disp.ax_.set_title('Случайный лес')\n",
    "#plot_confusion_matrix(estimator=best_model_for, X=features_valid, y_true=target_valid, ax=ax,\n",
    "#                      normalize='true', cmap='summer')\n",
    "ax.set(xlabel='Predicted', ylabel='Actual')"
   ]
  },
  {
   "attachments": {},
   "cell_type": "markdown",
   "metadata": {},
   "source": [
    "#### Логистическая регрессия"
   ]
  },
  {
   "cell_type": "code",
   "execution_count": 96,
   "metadata": {},
   "outputs": [
    {
     "data": {
      "text/plain": [
       "[Text(0.5, 0, 'Predicted'), Text(0, 0.5, 'Actual')]"
      ]
     },
     "execution_count": 96,
     "metadata": {},
     "output_type": "execute_result"
    },
    {
     "data": {
      "image/png": "[encoded data removed]",
      "text/plain": [
       "<Figure size 800x800 with 2 Axes>"
      ]
     },
     "metadata": {},
     "output_type": "display_data"
    }
   ],
   "source": [
    "fig, ax = plt.subplots(figsize=(8,8))\n",
    "disp = ConfusionMatrixDisplay.from_estimator (best_model_log, features_valid, target_valid, ax=ax,normalize='true', cmap='summer')\n",
    "disp.ax_.set_title('Логистическая регрессия')\n",
    "#plot_confusion_matrix(estimator=best_model_log, X=features_valid, y_true=target_valid, ax=ax,\n",
    "#                     normalize='true', cmap='summer')\n",
    "ax.set(xlabel='Predicted', ylabel='Actual')"
   ]
  },
  {
   "attachments": {},
   "cell_type": "markdown",
   "metadata": {},
   "source": [
    "Мы построили матрицы ошибок. На графике видно, что модель правильно определяет случай когда клиент клиент не ушел и целевой признак равен 0, в 95-97% случаев. Но при этом когда клиент остался - 1, лишь в 19-40% случаев модель дает правильные ответы."
   ]
  },
  {
   "attachments": {},
   "cell_type": "markdown",
   "metadata": {},
   "source": [
    "<div class=\"alert alert-block alert-success\">\n",
    "<b>Успех:</b> Шаг проделан хорошо, идем дальше.\n",
    "</div>\n"
   ]
  },
  {
   "attachments": {},
   "cell_type": "markdown",
   "metadata": {},
   "source": [
    "## Борьба с дисбалансом"
   ]
  },
  {
   "attachments": {},
   "cell_type": "markdown",
   "metadata": {},
   "source": [
    "### Взвешивание классов"
   ]
  },
  {
   "attachments": {},
   "cell_type": "markdown",
   "metadata": {},
   "source": [
    "#### Дерево решений"
   ]
  },
  {
   "cell_type": "code",
   "execution_count": 98,
   "metadata": {},
   "outputs": [
    {
     "name": "stdout",
     "output_type": "stream",
     "text": [
      "Оптимальная глубина дерева = 5\n",
      "Качество модели -  0.5809128630705395\n",
      "CPU times: user 107 ms, sys: 3.22 ms, total: 110 ms\n",
      "Wall time: 109 ms\n"
     ]
    }
   ],
   "source": [
    "%%time\n",
    "\n",
    "best_model_tree = None\n",
    "best_f1_tree_w = 0\n",
    "\n",
    "for depth in range(1, 10):\n",
    "    model_tree = DecisionTreeClassifier(random_state=12345,\n",
    "                                        max_depth=depth, class_weight='balanced')\n",
    "    model_tree.fit(features_train, target_train)\n",
    "    predictions_valid_tree = model_tree.predict(features_valid)\n",
    "    f1_tree = f1_score(target_valid, predictions_valid_tree)\n",
    "    if f1_tree > best_f1_tree_w:\n",
    "        best_model_tree = model_tree\n",
    "        best_depth = depth\n",
    "        best_f1_tree_w = f1_tree\n",
    "\n",
    "print('Оптимальная глубина дерева =', best_depth) \n",
    "print('Качество модели - ', best_f1_tree_w)\n"
   ]
  },
  {
   "cell_type": "code",
   "execution_count": 99,
   "metadata": {},
   "outputs": [
    {
     "name": "stdout",
     "output_type": "stream",
     "text": [
      "Accuracy Дерева решений: 0.798\n",
      "Полнота Дерва решений: 0.6619385342789598\n",
      "Точность дерева решений: 0.5175600739371534\n",
      "F1 Дерева решений: 0.5809128630705395\n",
      "AUC-ROC Дерева решений:  0.8355347481752318\n"
     ]
    }
   ],
   "source": [
    "model_tree = DecisionTreeClassifier(random_state=12345,\n",
    "                                    max_depth=5, class_weight='balanced')\n",
    "model_tree.fit(features_train, target_train)\n",
    "predictions_valid_tree = model_tree.predict(features_valid)\n",
    "print(\"Accuracy Дерева решений:\", accuracy_score(target_valid, predictions_valid_tree))\n",
    "print(\"Полнота Дерва решений:\", recall_score(target_valid, predictions_valid_tree))\n",
    "print(\"Точность дерева решений:\", precision_score(target_valid, predictions_valid_tree))\n",
    "print(\"F1 Дерева решений:\", f1_score(target_valid, predictions_valid_tree))\n",
    "\n",
    "probabilities_valid_tree = model_tree.predict_proba(features_valid)\n",
    "probabilities_one_valid_tree = probabilities_valid_tree[:, 1]\n",
    "\n",
    "# < напишите код здесь >\n",
    "fpr_tree_w, tpr_tree_w, thresholds_tree_w = roc_curve(target_valid, probabilities_one_valid_tree)\n",
    "auc_roc_tree_w = roc_auc_score(target_valid, probabilities_one_valid_tree)\n",
    "print('AUC-ROC Дерева решений: ', auc_roc_tree_w)"
   ]
  },
  {
   "attachments": {},
   "cell_type": "markdown",
   "metadata": {},
   "source": [
    "#### Случайный лес"
   ]
  },
  {
   "cell_type": "code",
   "execution_count": 102,
   "metadata": {},
   "outputs": [
    {
     "name": "stdout",
     "output_type": "stream",
     "text": [
      "Оптимальное количество оценок = 80\n",
      "Оптимальная глубина дерева = 8\n",
      "Качество модели -  0.6211312700106723\n",
      "CPU times: user 10.8 s, sys: 131 ms, total: 10.9 s\n",
      "Wall time: 10.9 s\n"
     ]
    }
   ],
   "source": [
    "%%time\n",
    "\n",
    "best_model_for = None\n",
    "best_f1_for_w = 0\n",
    "\n",
    "for est in range(10, 101, 10):\n",
    "    for depth in range(1, 10):\n",
    "        model_forest = RandomForestClassifier(random_state=12345,\n",
    "                                              n_estimators=est, \n",
    "                                              max_depth=depth, class_weight='balanced')\n",
    "        model_forest.fit(features_train, target_train)\n",
    "        predictions_valid_forest = model_forest.predict(features_valid)\n",
    "        f1_forest = f1_score(target_valid, predictions_valid_forest)\n",
    "#        print(est)\n",
    "#        print(depth)\n",
    "#        print(f1_forest)\n",
    "        if f1_forest > best_f1_for_w:\n",
    "            best_model_for = model_forest\n",
    "            best_est = est\n",
    "            best_depth = depth\n",
    "            best_f1_for_w = f1_forest\n",
    "\n",
    "print('Оптимальное количество оценок =', best_est)\n",
    "print('Оптимальная глубина дерева =', best_depth)\n",
    "print('Качество модели - ', best_f1_for_w)\n"
   ]
  },
  {
   "cell_type": "code",
   "execution_count": 103,
   "metadata": {},
   "outputs": [
    {
     "name": "stdout",
     "output_type": "stream",
     "text": [
      "Accuracy Случайного леса: 0.8225\n",
      "Полнота Случайного леса: 0.6879432624113475\n",
      "Точность Случайного леса: 0.566147859922179\n",
      "F1 Случайного леса: 0.6211312700106723\n",
      "AUC-ROC Случайного леса:  0.8560198239767581\n"
     ]
    }
   ],
   "source": [
    "model_forest = RandomForestClassifier(random_state=12345, \n",
    "                                      n_estimators=80, \n",
    "                                      max_depth=8, class_weight='balanced')\n",
    "model_forest.fit(features_train, target_train)\n",
    "predictions_valid_forest = model_forest.predict(features_valid)\n",
    "\n",
    "print(\"Accuracy Случайного леса:\", accuracy_score(target_valid, predictions_valid_forest))\n",
    "print(\"Полнота Случайного леса:\", recall_score(target_valid, predictions_valid_forest))\n",
    "print(\"Точность Случайного леса:\", precision_score(target_valid, predictions_valid_forest))\n",
    "print(\"F1 Случайного леса:\", f1_score(target_valid, predictions_valid_forest))\n",
    "\n",
    "probabilities_valid_for = model_forest.predict_proba(features_valid)\n",
    "probabilities_one_valid_for = probabilities_valid_for[:, 1]\n",
    "\n",
    "# < напишите код здесь >\n",
    "fpr_for_w, tpr_for_w, thresholds_for_w = roc_curve(target_valid, probabilities_one_valid_for)\n",
    "auc_roc_for_w = roc_auc_score(target_valid, probabilities_one_valid_for)\n",
    "print('AUC-ROC Случайного леса: ', auc_roc_for_w)"
   ]
  },
  {
   "attachments": {},
   "cell_type": "markdown",
   "metadata": {},
   "source": [
    "#### Логистическая регрессия"
   ]
  },
  {
   "cell_type": "code",
   "execution_count": 104,
   "metadata": {},
   "outputs": [
    {
     "name": "stderr",
     "output_type": "stream",
     "text": [
      "100%|██████████| 6/6 [00:00<00:00, 49.03it/s]"
     ]
    },
    {
     "name": "stdout",
     "output_type": "stream",
     "text": [
      "Количество итераций = 20\n",
      "Качество модели F1 -  0.4779220779220779\n",
      "Accuracy Логистической регрессии: 0.6985\n",
      "Полнота Логистической регрессии: 0.6524822695035462\n",
      "Точность Логистической регрессии: 0.3770491803278688\n",
      "AUC-ROC Логистической регрессии:  0.7415132722004105\n",
      "CPU times: user 721 ms, sys: 102 ms, total: 823 ms\n",
      "Wall time: 137 ms\n"
     ]
    },
    {
     "name": "stderr",
     "output_type": "stream",
     "text": [
      "\n"
     ]
    }
   ],
   "source": [
    "%%time\n",
    "\n",
    "max_iter = [20, 50, 100, 200, 500, 1000]                      \n",
    "\n",
    "best_model_log = None\n",
    "best_f1_log_w = 0\n",
    "\n",
    "for iter in tqdm(max_iter):\n",
    "    model_log = LogisticRegression(random_state=12345,\n",
    "                               solver='liblinear', max_iter=iter, class_weight='balanced')\n",
    "    model_log.fit(features_train, target_train)\n",
    "    predictions_valid_log = model_log.predict(features_valid)\n",
    "    f1_log = f1_score(target_valid, predictions_valid_log)\n",
    "    Accuracy_log = accuracy_score(target_valid, predictions_valid_log)\n",
    "    Recall_log = recall_score(target_valid, predictions_valid_log)\n",
    "    Precision_log = precision_score(target_valid, predictions_valid_log)\n",
    "#    print(iter)\n",
    "#    print(f1_log)\n",
    "    if f1_log > best_f1_log_w:\n",
    "        best_model_log = model_log\n",
    "        best_iter = iter\n",
    "        best_f1_log_w = f1_log\n",
    "            \n",
    "print('Количество итераций =', best_iter)\n",
    "print('Качество модели F1 - ', best_f1_log_w)\n",
    "            \n",
    "print(\"Accuracy Логистической регрессии:\", accuracy_score(target_valid, predictions_valid_log))\n",
    "print(\"Полнота Логистической регрессии:\", recall_score(target_valid, predictions_valid_log))\n",
    "print(\"Точность Логистической регрессии:\", precision_score(target_valid, predictions_valid_log))\n",
    "\n",
    "probabilities_valid_log = model_log.predict_proba(features_valid)\n",
    "probabilities_one_valid_log = probabilities_valid_log[:, 1]\n",
    "\n",
    "fpr_log_w, tpr_log_w, thresholds_log_w = roc_curve(target_valid, probabilities_one_valid_log)\n",
    "auc_roc_log_w = roc_auc_score(target_valid, probabilities_one_valid_log)\n",
    "print('AUC-ROC Логистической регрессии: ', auc_roc_log_w)"
   ]
  },
  {
   "attachments": {},
   "cell_type": "markdown",
   "metadata": {},
   "source": [
    "Сравним значения качества модели F1"
   ]
  },
  {
   "cell_type": "code",
   "execution_count": 105,
   "metadata": {},
   "outputs": [
    {
     "name": "stdout",
     "output_type": "stream",
     "text": [
      "Качество модели F1 - Дерево решений:  0.5809128630705395\n",
      "Качество модели F1 - Случайный лес:  0.6211312700106723\n",
      "Качество модели F1 - Логистическая регрессия:  0.4779220779220779\n"
     ]
    }
   ],
   "source": [
    "print('Качество модели F1 - Дерево решений: ', best_f1_tree_w)\n",
    "print('Качество модели F1 - Случайный лес: ', best_f1_for_w)\n",
    "print('Качество модели F1 - Логистическая регрессия: ', best_f1_log_w)"
   ]
  },
  {
   "attachments": {},
   "cell_type": "markdown",
   "metadata": {},
   "source": [
    "Мы видим что при взвешивании классов, качество моделей возросло, особенно Логистической регрессии, но лучшей также остается модель Случайного леса."
   ]
  },
  {
   "attachments": {},
   "cell_type": "markdown",
   "metadata": {},
   "source": [
    "#### ROC - кривая"
   ]
  },
  {
   "cell_type": "code",
   "execution_count": 106,
   "metadata": {},
   "outputs": [
    {
     "data": {
      "image/png": "[encoded data removed]",
      "text/plain": [
       "<Figure size 640x480 with 1 Axes>"
      ]
     },
     "metadata": {},
     "output_type": "display_data"
    }
   ],
   "source": [
    "plt.figure()\n",
    "\n",
    "# < постройте график >\n",
    "plt.plot(fpr_tree_w, tpr_tree_w, color='red')\n",
    "plt.plot(fpr_for_w, tpr_for_w, color='green')\n",
    "plt.plot(fpr_log_w, tpr_log_w, color='blue')\n",
    "# ROC-кривая случайной модели (выглядит как прямая)\n",
    "plt.plot([0, 1], [0, 1], linestyle='--')\n",
    "\n",
    "# < примените функции plt.xlim() и plt.ylim(), чтобы\n",
    "#   установить границы осей от 0 до 1 >\n",
    "plt.xlim([0.0, 1.0])\n",
    "plt.ylim([0.0, 1.0])\n",
    "# < примените функции plt.xlabel() и plt.ylabel(), чтобы\n",
    "#   подписать оси \"False Positive Rate\" и \"True Positive Rate\" >\n",
    "plt.xlabel('False Positive Rate')\n",
    "plt.ylabel('True Positive Rate')\n",
    "plt.legend(['Дерево решений', 'Случайный лес', 'Логистическая регрессия'])\n",
    "# < добавьте к графику заголовок \"ROC-кривая\" функцией plt.title() >\n",
    "plt.title('ROC-кривая')\n",
    "plt.show()"
   ]
  },
  {
   "attachments": {},
   "cell_type": "markdown",
   "metadata": {},
   "source": [
    "Анализируя ROC график, также подтверждается, что лучшая модель - Случайный лес."
   ]
  },
  {
   "attachments": {},
   "cell_type": "markdown",
   "metadata": {},
   "source": [
    "### Увеличение выборки"
   ]
  },
  {
   "attachments": {},
   "cell_type": "markdown",
   "metadata": {},
   "source": [
    "Так как классы у нас отличаются в 4 раза, то увеличим выбоку в 4 раза."
   ]
  },
  {
   "cell_type": "code",
   "execution_count": 107,
   "metadata": {},
   "outputs": [
    {
     "name": "stdout",
     "output_type": "stream",
     "text": [
      "(9588, 11)\n",
      "(9588,)\n"
     ]
    }
   ],
   "source": [
    "def upsample(features, target, repeat):\n",
    "    features_zeros = features[target == 0]\n",
    "    features_ones = features[target == 1]\n",
    "    target_zeros = target[target == 0]\n",
    "    target_ones = target[target == 1]\n",
    "\n",
    "    features_upsampled = pd.concat([features_zeros] + [features_ones] * repeat)\n",
    "    target_upsampled = pd.concat([target_zeros] + [target_ones] * repeat)\n",
    "    \n",
    "    features_upsampled, target_upsampled = shuffle(\n",
    "        features_upsampled, target_upsampled, random_state=12345)\n",
    "    \n",
    "    return features_upsampled, target_upsampled\n",
    "\n",
    "features_upsampled, target_upsampled = upsample(features_train, target_train, 4)\n",
    "print(features_upsampled.shape)\n",
    "print(target_upsampled.shape)"
   ]
  },
  {
   "attachments": {},
   "cell_type": "markdown",
   "metadata": {},
   "source": [
    "#### Дерево решений"
   ]
  },
  {
   "cell_type": "code",
   "execution_count": 108,
   "metadata": {},
   "outputs": [
    {
     "name": "stderr",
     "output_type": "stream",
     "text": [
      "100%|██████████| 9/9 [00:00<00:00, 69.94it/s]"
     ]
    },
    {
     "name": "stdout",
     "output_type": "stream",
     "text": [
      "Оптимальная глубина дерева = 5\n",
      "Качество модели -  0.5809128630705395\n",
      "CPU times: user 128 ms, sys: 3.49 ms, total: 132 ms\n",
      "Wall time: 131 ms\n"
     ]
    },
    {
     "name": "stderr",
     "output_type": "stream",
     "text": [
      "\n"
     ]
    }
   ],
   "source": [
    "%%time\n",
    "\n",
    "best_model_tree = None\n",
    "best_f1_tree_u = 0\n",
    "\n",
    "for depth in tqdm(range(1, 10)):\n",
    "    model_tree = DecisionTreeClassifier(random_state=12345,\n",
    "                                        max_depth=depth)\n",
    "    model_tree.fit(features_upsampled, target_upsampled)\n",
    "    predictions_valid_tree = model_tree.predict(features_valid)\n",
    "    f1_tree = f1_score(target_valid, predictions_valid_tree)\n",
    "    if f1_tree > best_f1_tree_u:\n",
    "        best_model_tree = model_tree\n",
    "        best_depth = depth\n",
    "        best_f1_tree_u = f1_tree\n",
    "\n",
    "print('Оптимальная глубина дерева =', best_depth) \n",
    "print('Качество модели - ', best_f1_tree_u)"
   ]
  },
  {
   "cell_type": "code",
   "execution_count": 109,
   "metadata": {},
   "outputs": [
    {
     "name": "stdout",
     "output_type": "stream",
     "text": [
      "Accuracy Дерева решений: 0.798\n",
      "Полнота Дерва решений: 0.6619385342789598\n",
      "Точность дерева решений: 0.5175600739371534\n",
      "F1 Дерева решений: 0.5809128630705395\n",
      "AUC-ROC Дерева решений:  0.8355347481752318\n"
     ]
    }
   ],
   "source": [
    "model_tree = DecisionTreeClassifier(random_state=12345,\n",
    "                                    max_depth=5)\n",
    "model_tree.fit(features_upsampled, target_upsampled)\n",
    "predictions_valid_tree = model_tree.predict(features_valid)\n",
    "print(\"Accuracy Дерева решений:\", accuracy_score(target_valid, predictions_valid_tree))\n",
    "print(\"Полнота Дерва решений:\", recall_score(target_valid, predictions_valid_tree))\n",
    "print(\"Точность дерева решений:\", precision_score(target_valid, predictions_valid_tree))\n",
    "print(\"F1 Дерева решений:\", f1_score(target_valid, predictions_valid_tree))\n",
    "\n",
    "probabilities_valid_tree = model_tree.predict_proba(features_valid)\n",
    "probabilities_one_valid_tree = probabilities_valid_tree[:, 1]\n",
    "\n",
    "# < напишите код здесь >\n",
    "fpr_tree_u, tpr_tree_u, thresholds_tree_u = roc_curve(target_valid, probabilities_one_valid_tree)\n",
    "auc_roc_tree_u = roc_auc_score(target_valid, probabilities_one_valid_tree)\n",
    "print('AUC-ROC Дерева решений: ', auc_roc_tree_u)"
   ]
  },
  {
   "attachments": {},
   "cell_type": "markdown",
   "metadata": {},
   "source": [
    "#### Случайный лес"
   ]
  },
  {
   "cell_type": "code",
   "execution_count": 111,
   "metadata": {},
   "outputs": [
    {
     "name": "stdout",
     "output_type": "stream",
     "text": [
      "Оптимальное количество оценок = 10\n",
      "Оптимальная глубина дерева = 8\n",
      "Качество модели -  0.6161719549641761\n",
      "CPU times: user 15.5 s, sys: 154 ms, total: 15.6 s\n",
      "Wall time: 15.6 s\n"
     ]
    }
   ],
   "source": [
    "%%time\n",
    "\n",
    "best_model_for = None\n",
    "best_f1_for_u = 0\n",
    "\n",
    "for est in range(10, 101, 10):\n",
    "    for depth in range(1, 10):\n",
    "        model_forest = RandomForestClassifier(random_state=12345,\n",
    "                                              n_estimators=est, \n",
    "                                              max_depth=depth)\n",
    "        model_forest.fit(features_upsampled, target_upsampled)\n",
    "        predictions_valid_forest = model_forest.predict(features_valid)\n",
    "        f1_forest = f1_score(target_valid, predictions_valid_forest)\n",
    "#        print(est)\n",
    "#        print(depth)\n",
    "#        print(f1_forest)\n",
    "        if f1_forest > best_f1_for_u:\n",
    "            best_model_for = model_forest\n",
    "            best_est = est\n",
    "            best_depth = depth\n",
    "            best_f1_for_u = f1_forest\n",
    "\n",
    "print('Оптимальное количество оценок =', best_est)\n",
    "print('Оптимальная глубина дерева =', best_depth)\n",
    "print('Качество модели - ', best_f1_for_u)"
   ]
  },
  {
   "cell_type": "code",
   "execution_count": 112,
   "metadata": {},
   "outputs": [
    {
     "name": "stdout",
     "output_type": "stream",
     "text": [
      "Accuracy Случайного леса: 0.8125\n",
      "Полнота Случайного леса: 0.7115839243498818\n",
      "Точность Случайного леса: 0.5433212996389891\n",
      "F1 Случайного леса: 0.6161719549641761\n",
      "AUC-ROC Случайного леса:  0.8529789182860595\n"
     ]
    }
   ],
   "source": [
    "model_forest = RandomForestClassifier(random_state=12345, \n",
    "                                      n_estimators=10, \n",
    "                                      max_depth=8)\n",
    "model_forest.fit(features_upsampled, target_upsampled)\n",
    "predictions_valid_forest = model_forest.predict(features_valid)\n",
    "\n",
    "print(\"Accuracy Случайного леса:\", accuracy_score(target_valid, predictions_valid_forest))\n",
    "print(\"Полнота Случайного леса:\", recall_score(target_valid, predictions_valid_forest))\n",
    "print(\"Точность Случайного леса:\", precision_score(target_valid, predictions_valid_forest))\n",
    "print(\"F1 Случайного леса:\", f1_score(target_valid, predictions_valid_forest))\n",
    "\n",
    "probabilities_valid_for = model_forest.predict_proba(features_valid)\n",
    "probabilities_one_valid_for = probabilities_valid_for[:, 1]\n",
    "\n",
    "# < напишите код здесь >\n",
    "fpr_for_u, tpr_for_u, thresholds_for_u = roc_curve(target_valid, probabilities_one_valid_for)\n",
    "auc_roc_for_u = roc_auc_score(target_valid, probabilities_one_valid_for)\n",
    "print('AUC-ROC Случайного леса: ', auc_roc_for_u)"
   ]
  },
  {
   "attachments": {},
   "cell_type": "markdown",
   "metadata": {},
   "source": [
    "#### Логистическая регрессия"
   ]
  },
  {
   "cell_type": "code",
   "execution_count": 113,
   "metadata": {},
   "outputs": [
    {
     "name": "stderr",
     "output_type": "stream",
     "text": [
      "100%|██████████| 6/6 [00:00<00:00, 30.11it/s]\n"
     ]
    },
    {
     "name": "stdout",
     "output_type": "stream",
     "text": [
      "Количество итераций = 20\n",
      "Качество модели F1 -  0.47660311958405543\n",
      "Accuracy Логистической регрессии: 0.698\n",
      "Полнота Логистической регрессии: 0.6501182033096927\n",
      "Точность Логистической регрессии: 0.3761969904240766\n",
      "AUC-ROC Логистической регрессии:  0.7415762340140704\n",
      "CPU times: user 1.22 s, sys: 104 ms, total: 1.33 s\n",
      "Wall time: 212 ms\n"
     ]
    }
   ],
   "source": [
    "%%time\n",
    "\n",
    "max_iter = [20, 50, 100, 200, 500, 1000]                      \n",
    "\n",
    "best_model_log = None\n",
    "best_f1_log_u = 0\n",
    "\n",
    "for iter in tqdm(max_iter):\n",
    "    model_log = LogisticRegression(random_state=12345,\n",
    "                               solver='liblinear', max_iter=iter)\n",
    "    model_log.fit(features_upsampled, target_upsampled)\n",
    "    predictions_valid_log = model_log.predict(features_valid)\n",
    "    f1_log = f1_score(target_valid, predictions_valid_log)\n",
    "    Accuracy_log = accuracy_score(target_valid, predictions_valid_log)\n",
    "    Recall_log = recall_score(target_valid, predictions_valid_log)\n",
    "    Precision_log = precision_score(target_valid, predictions_valid_log)\n",
    "#    print(iter)\n",
    "#    print(f1_log)\n",
    "    if f1_log > best_f1_log_u:\n",
    "        best_model_log = model_log\n",
    "        best_iter = iter\n",
    "        best_f1_log_u = f1_log\n",
    "            \n",
    "print('Количество итераций =', best_iter)\n",
    "print('Качество модели F1 - ', best_f1_log_u)            \n",
    "print(\"Accuracy Логистической регрессии:\", accuracy_score(target_valid, predictions_valid_log))\n",
    "print(\"Полнота Логистической регрессии:\", recall_score(target_valid, predictions_valid_log))\n",
    "print(\"Точность Логистической регрессии:\", precision_score(target_valid, predictions_valid_log))\n",
    "\n",
    "probabilities_valid_log = model_log.predict_proba(features_valid)\n",
    "probabilities_one_valid_log = probabilities_valid_log[:, 1]\n",
    "\n",
    "fpr_log_u, tpr_log_u, thresholds_log_u = roc_curve(target_valid, probabilities_one_valid_log)\n",
    "auc_roc_log_u = roc_auc_score(target_valid, probabilities_one_valid_log)\n",
    "print('AUC-ROC Логистической регрессии: ', auc_roc_log_u)"
   ]
  },
  {
   "attachments": {},
   "cell_type": "markdown",
   "metadata": {},
   "source": [
    "Сравним значения качества модели F1"
   ]
  },
  {
   "cell_type": "code",
   "execution_count": 114,
   "metadata": {},
   "outputs": [
    {
     "name": "stdout",
     "output_type": "stream",
     "text": [
      "Качество модели F1 - Дерево решений:  0.5809128630705395\n",
      "Качество модели F1 - Случайный лес:  0.6161719549641761\n",
      "Качество модели F1 - Логистическая регрессия:  0.47660311958405543\n"
     ]
    }
   ],
   "source": [
    "print('Качество модели F1 - Дерево решений: ', best_f1_tree_u)\n",
    "print('Качество модели F1 - Случайный лес: ', best_f1_for_u)\n",
    "print('Качество модели F1 - Логистическая регрессия: ', best_f1_log_u)"
   ]
  },
  {
   "attachments": {},
   "cell_type": "markdown",
   "metadata": {},
   "source": [
    "Мы видим что при увеличении выборки, качество моделей не изменилось, по сравнению с качеством моделей при взвешивании классов, но модель Случайный лес, также показывает наилучший результат.\n"
   ]
  },
  {
   "attachments": {},
   "cell_type": "markdown",
   "metadata": {},
   "source": [
    "#### ROC - кривая"
   ]
  },
  {
   "cell_type": "code",
   "execution_count": 115,
   "metadata": {},
   "outputs": [
    {
     "data": {
      "image/png": "[encoded data removed]",
      "text/plain": [
       "<Figure size 640x480 with 1 Axes>"
      ]
     },
     "metadata": {},
     "output_type": "display_data"
    }
   ],
   "source": [
    "plt.figure()\n",
    "\n",
    "# < постройте график >\n",
    "plt.plot(fpr_tree_u, tpr_tree_u, color='red')\n",
    "plt.plot(fpr_for_u, tpr_for_u, color='green')\n",
    "plt.plot(fpr_log_u, tpr_log_u, color='blue')\n",
    "# ROC-кривая случайной модели (выглядит как прямая)\n",
    "plt.plot([0, 1], [0, 1], linestyle='--')\n",
    "\n",
    "# < примените функции plt.xlim() и plt.ylim(), чтобы\n",
    "#   установить границы осей от 0 до 1 >\n",
    "plt.xlim([0.0, 1.0])\n",
    "plt.ylim([0.0, 1.0])\n",
    "# < примените функции plt.xlabel() и plt.ylabel(), чтобы\n",
    "#   подписать оси \"False Positive Rate\" и \"True Positive Rate\" >\n",
    "plt.xlabel('False Positive Rate')\n",
    "plt.ylabel('True Positive Rate')\n",
    "plt.legend(['Дерево решений', 'Случайный лес', 'Логистическая регрессия'])\n",
    "# < добавьте к графику заголовок \"ROC-кривая\" функцией plt.title() >\n",
    "plt.title('ROC-кривая')\n",
    "plt.show()"
   ]
  },
  {
   "attachments": {},
   "cell_type": "markdown",
   "metadata": {},
   "source": [
    "На графике ROC лучшей результат также у модели Случайный лес."
   ]
  },
  {
   "attachments": {},
   "cell_type": "markdown",
   "metadata": {},
   "source": [
    "### Уменьшение выборки"
   ]
  },
  {
   "attachments": {},
   "cell_type": "markdown",
   "metadata": {},
   "source": [
    "Так как классы у нас отличаются в 4 раза, то уменьшим выборку в 4 раза"
   ]
  },
  {
   "cell_type": "code",
   "execution_count": 116,
   "metadata": {},
   "outputs": [
    {
     "name": "stdout",
     "output_type": "stream",
     "text": [
      "(2397, 11)\n",
      "(2397,)\n"
     ]
    }
   ],
   "source": [
    "def downsample(features, target, fraction):\n",
    "    features_zeros = features[target == 0]\n",
    "    features_ones = features[target == 1]\n",
    "    target_zeros = target[target == 0]\n",
    "    target_ones = target[target == 1]\n",
    "\n",
    "    features_downsampled = pd.concat(\n",
    "        [features_zeros.sample(frac=fraction, random_state=12345)] + [features_ones])\n",
    "    target_downsampled = pd.concat(\n",
    "        [target_zeros.sample(frac=fraction, random_state=12345)] + [target_ones])\n",
    "    \n",
    "    features_downsampled, target_downsampled = shuffle(\n",
    "        features_downsampled, target_downsampled, random_state=12345)\n",
    "    \n",
    "    return features_downsampled, target_downsampled\n",
    "\n",
    "features_downsampled, target_downsampled = downsample(features_train, target_train, 0.25)\n",
    "print(features_downsampled.shape)\n",
    "print(target_downsampled.shape)"
   ]
  },
  {
   "attachments": {},
   "cell_type": "markdown",
   "metadata": {},
   "source": [
    "#### Дерево решений"
   ]
  },
  {
   "cell_type": "code",
   "execution_count": 117,
   "metadata": {},
   "outputs": [
    {
     "name": "stderr",
     "output_type": "stream",
     "text": [
      "100%|██████████| 9/9 [00:00<00:00, 150.41it/s]"
     ]
    },
    {
     "name": "stdout",
     "output_type": "stream",
     "text": [
      "Оптимальная глубина дерева = 5\n",
      "Качество модели -  0.6093264248704664\n",
      "CPU times: user 60.6 ms, sys: 2.47 ms, total: 63.1 ms\n",
      "Wall time: 62.1 ms\n"
     ]
    },
    {
     "name": "stderr",
     "output_type": "stream",
     "text": [
      "\n"
     ]
    }
   ],
   "source": [
    "%%time\n",
    "\n",
    "best_model_tree = None\n",
    "best_f1_tree_d = 0\n",
    "\n",
    "for depth in tqdm(range(1, 10)):\n",
    "    model_tree = DecisionTreeClassifier(random_state=12345,\n",
    "                                        max_depth=depth)\n",
    "    model_tree.fit(features_downsampled, target_downsampled)\n",
    "    predictions_valid_tree = model_tree.predict(features_valid)\n",
    "    f1_tree = f1_score(target_valid, predictions_valid_tree)\n",
    "    if f1_tree > best_f1_tree_d:\n",
    "        best_model_tree = model_tree\n",
    "        best_depth = depth\n",
    "        best_f1_tree_d = f1_tree\n",
    "\n",
    "print('Оптимальная глубина дерева =', best_depth) \n",
    "print('Качество модели - ', best_f1_tree_d)"
   ]
  },
  {
   "cell_type": "code",
   "execution_count": 118,
   "metadata": {},
   "outputs": [
    {
     "name": "stdout",
     "output_type": "stream",
     "text": [
      "Accuracy Дерева решений: 0.8115\n",
      "Полнота Дерва решений: 0.6950354609929078\n",
      "Точность дерева решений: 0.5424354243542435\n",
      "F1 Дерева решений: 0.6093264248704664\n",
      "AUC-ROC Дерева решений:  0.8389699147467062\n"
     ]
    }
   ],
   "source": [
    "model_tree = DecisionTreeClassifier(random_state=12345,\n",
    "                                    max_depth=5)\n",
    "model_tree.fit(features_downsampled, target_downsampled)\n",
    "predictions_valid_tree = model_tree.predict(features_valid)\n",
    "print(\"Accuracy Дерева решений:\", accuracy_score(target_valid, predictions_valid_tree))\n",
    "print(\"Полнота Дерва решений:\", recall_score(target_valid, predictions_valid_tree))\n",
    "print(\"Точность дерева решений:\", precision_score(target_valid, predictions_valid_tree))\n",
    "print(\"F1 Дерева решений:\", f1_score(target_valid, predictions_valid_tree))\n",
    "\n",
    "probabilities_valid_tree = model_tree.predict_proba(features_valid)\n",
    "probabilities_one_valid_tree = probabilities_valid_tree[:, 1]\n",
    "\n",
    "# < напишите код здесь >\n",
    "fpr_tree_d, tpr_tree_d, thresholds_tree_d = roc_curve(target_valid, probabilities_one_valid_tree)\n",
    "auc_roc_tree_d = roc_auc_score(target_valid, probabilities_one_valid_tree)\n",
    "print('AUC-ROC Дерева решений: ', auc_roc_tree_d)"
   ]
  },
  {
   "attachments": {},
   "cell_type": "markdown",
   "metadata": {},
   "source": [
    "#### Случайный лес"
   ]
  },
  {
   "cell_type": "code",
   "execution_count": 119,
   "metadata": {},
   "outputs": [
    {
     "name": "stdout",
     "output_type": "stream",
     "text": [
      "Оптимальное количество оценок = 100\n",
      "Оптимальная глубина дерева = 7\n",
      "Качество модели -  0.5955473098330242\n",
      "CPU times: user 5.74 s, sys: 43.8 ms, total: 5.78 s\n",
      "Wall time: 5.78 s\n"
     ]
    }
   ],
   "source": [
    "%%time\n",
    "\n",
    "best_model_for = None\n",
    "best_f1_for_d = 0\n",
    "\n",
    "for est in range(10, 101, 10):\n",
    "    for depth in range(1, 10):\n",
    "        model_forest = RandomForestClassifier(random_state=12345,\n",
    "                                              n_estimators=est, \n",
    "                                              max_depth=depth)\n",
    "        model_forest.fit(features_downsampled, target_downsampled)\n",
    "        predictions_valid_forest = model_forest.predict(features_valid)\n",
    "        f1_forest = f1_score(target_valid, predictions_valid_forest)\n",
    "#        print(est)\n",
    "#        print(depth)\n",
    "#        print(f1_forest)\n",
    "        if f1_forest > best_f1_for_d:\n",
    "            best_model_for = model_forest\n",
    "            best_est = est\n",
    "            best_depth = depth\n",
    "            best_f1_for_d = f1_forest\n",
    "\n",
    "print('Оптимальное количество оценок =', best_est)\n",
    "print('Оптимальная глубина дерева =', best_depth)\n",
    "print('Качество модели - ', best_f1_for_d)"
   ]
  },
  {
   "cell_type": "code",
   "execution_count": 120,
   "metadata": {},
   "outputs": [
    {
     "name": "stdout",
     "output_type": "stream",
     "text": [
      "Accuracy Случайного леса: 0.782\n",
      "Полнота Случайного леса: 0.7588652482269503\n",
      "Точность Случайного леса: 0.4900763358778626\n",
      "F1 Случайного леса: 0.5955473098330242\n",
      "AUC-ROC Случайного леса:  0.8476623927587917\n"
     ]
    }
   ],
   "source": [
    "model_forest = RandomForestClassifier(random_state=12345, \n",
    "                                      n_estimators=100, \n",
    "                                      max_depth=7)\n",
    "model_forest.fit(features_downsampled, target_downsampled)\n",
    "predictions_valid_forest = model_forest.predict(features_valid)\n",
    "\n",
    "print(\"Accuracy Случайного леса:\", accuracy_score(target_valid, predictions_valid_forest))\n",
    "print(\"Полнота Случайного леса:\", recall_score(target_valid, predictions_valid_forest))\n",
    "print(\"Точность Случайного леса:\", precision_score(target_valid, predictions_valid_forest))\n",
    "print(\"F1 Случайного леса:\", f1_score(target_valid, predictions_valid_forest))\n",
    "\n",
    "probabilities_valid_for = model_forest.predict_proba(features_valid)\n",
    "probabilities_one_valid_for = probabilities_valid_for[:, 1]\n",
    "\n",
    "# < напишите код здесь >\n",
    "fpr_for_d, tpr_for_d, thresholds_for_d = roc_curve(target_valid, probabilities_one_valid_for)\n",
    "auc_roc_for_d = roc_auc_score(target_valid, probabilities_one_valid_for)\n",
    "print('AUC-ROC Случайного леса: ', auc_roc_for_d)"
   ]
  },
  {
   "attachments": {},
   "cell_type": "markdown",
   "metadata": {},
   "source": [
    "#### Логистическая регрессия"
   ]
  },
  {
   "cell_type": "code",
   "execution_count": 121,
   "metadata": {},
   "outputs": [
    {
     "name": "stderr",
     "output_type": "stream",
     "text": [
      "100%|██████████| 6/6 [00:00<00:00, 66.71it/s]"
     ]
    },
    {
     "name": "stdout",
     "output_type": "stream",
     "text": [
      "Количество итераций = 20\n",
      "Качество модели F1 -  0.4816396242527754\n",
      "Accuracy Логистической регрессии: 0.6965\n",
      "Полнота Логистической регрессии: 0.6666666666666666\n",
      "Точность Логистической регрессии: 0.3770053475935829\n",
      "AUC-ROC Логистической регрессии:  0.7408371822489659\n",
      "CPU times: user 654 ms, sys: 72.1 ms, total: 726 ms\n",
      "Wall time: 118 ms\n"
     ]
    },
    {
     "name": "stderr",
     "output_type": "stream",
     "text": [
      "\n"
     ]
    }
   ],
   "source": [
    "%%time\n",
    "\n",
    "max_iter = [20, 50, 100, 200, 500, 1000]                      \n",
    "\n",
    "best_model_log = None\n",
    "best_f1_log_d = 0\n",
    "\n",
    "for iter in tqdm(max_iter):\n",
    "    model_log = LogisticRegression(random_state=12345,\n",
    "                               solver='liblinear', max_iter=iter)\n",
    "    model_log.fit(features_downsampled, target_downsampled)\n",
    "    predictions_valid_log = model_log.predict(features_valid)\n",
    "    f1_log = f1_score(target_valid, predictions_valid_log)\n",
    "    Accuracy_log = accuracy_score(target_valid, predictions_valid_log)\n",
    "    Recall_log = recall_score(target_valid, predictions_valid_log)\n",
    "    Precision_log = precision_score(target_valid, predictions_valid_log)\n",
    "#    print(iter)\n",
    "#    print(f1_log)\n",
    "    if f1_log > best_f1_log_d:\n",
    "        best_model_log = model_log\n",
    "        best_iter = iter\n",
    "        best_f1_log_d = f1_log\n",
    "            \n",
    "print('Количество итераций =', best_iter)\n",
    "print('Качество модели F1 - ', best_f1_log_d)            \n",
    "print(\"Accuracy Логистической регрессии:\", accuracy_score(target_valid, predictions_valid_log))\n",
    "print(\"Полнота Логистической регрессии:\", recall_score(target_valid, predictions_valid_log))\n",
    "print(\"Точность Логистической регрессии:\", precision_score(target_valid, predictions_valid_log))\n",
    "\n",
    "probabilities_valid_log = model_log.predict_proba(features_valid)\n",
    "probabilities_one_valid_log = probabilities_valid_log[:, 1]\n",
    "\n",
    "fpr_log_d, tpr_log_d, thresholds_log_d = roc_curve(target_valid, probabilities_one_valid_log)\n",
    "auc_roc_log_d = roc_auc_score(target_valid, probabilities_one_valid_log)\n",
    "print('AUC-ROC Логистической регрессии: ', auc_roc_log_d)"
   ]
  },
  {
   "attachments": {},
   "cell_type": "markdown",
   "metadata": {},
   "source": [
    "Сравним значения качества модели F1"
   ]
  },
  {
   "cell_type": "code",
   "execution_count": 122,
   "metadata": {},
   "outputs": [
    {
     "name": "stdout",
     "output_type": "stream",
     "text": [
      "Качество модели F1 - Дерево решений:  0.6093264248704664\n",
      "Качество модели F1 - Случайный лес:  0.5955473098330242\n",
      "Качество модели F1 - Логистическая регрессия 0.4816396242527754\n"
     ]
    }
   ],
   "source": [
    "print('Качество модели F1 - Дерево решений: ', best_f1_tree_d)\n",
    "print('Качество модели F1 - Случайный лес: ', best_f1_for_d)\n",
    "print('Качество модели F1 - Логистическая регрессия', best_f1_log_d)"
   ]
  },
  {
   "attachments": {},
   "cell_type": "markdown",
   "metadata": {},
   "source": [
    "При уменьшении выборки, качество немного лучше чем при увеличении, но по прежненму при взвешивании классов модель показывает лучшее качество. Как и ранее, модель Случайный лес, показывает наилучший результат."
   ]
  },
  {
   "attachments": {},
   "cell_type": "markdown",
   "metadata": {},
   "source": [
    "<div class=\"alert alert-block alert-warning\">\n",
    "<b>Изменения:</b> Мы видим что при уменьшении выборки, качество моделей изменилось, теперь наилучший результат показывает Дерево решений.\n",
    "</div>"
   ]
  },
  {
   "attachments": {},
   "cell_type": "markdown",
   "metadata": {},
   "source": [
    "#### ROC - кривая"
   ]
  },
  {
   "cell_type": "code",
   "execution_count": 123,
   "metadata": {},
   "outputs": [
    {
     "data": {
      "image/png": "[encoded data removed]",
      "text/plain": [
       "<Figure size 640x480 with 1 Axes>"
      ]
     },
     "metadata": {},
     "output_type": "display_data"
    }
   ],
   "source": [
    "plt.figure()\n",
    "\n",
    "# < постройте график >\n",
    "plt.plot(fpr_tree_d, tpr_tree_d, color='red')\n",
    "plt.plot(fpr_for_d, tpr_for_d, color='green')\n",
    "plt.plot(fpr_log_d, tpr_log_d, color='blue')\n",
    "# ROC-кривая случайной модели (выглядит как прямая)\n",
    "plt.plot([0, 1], [0, 1], linestyle='--')\n",
    "\n",
    "# < примените функции plt.xlim() и plt.ylim(), чтобы\n",
    "#   установить границы осей от 0 до 1 >\n",
    "plt.xlim([0.0, 1.0])\n",
    "plt.ylim([0.0, 1.0])\n",
    "# < примените функции plt.xlabel() и plt.ylabel(), чтобы\n",
    "#   подписать оси \"False Positive Rate\" и \"True Positive Rate\" >\n",
    "plt.xlabel('False Positive Rate')\n",
    "plt.ylabel('True Positive Rate')\n",
    "plt.legend(['Дерево решений', 'Случайный лес', 'Логистическая регрессия'])\n",
    "# < добавьте к графику заголовок \"ROC-кривая\" функцией plt.title() >\n",
    "plt.title('ROC-кривая')\n",
    "plt.show()"
   ]
  },
  {
   "attachments": {},
   "cell_type": "markdown",
   "metadata": {},
   "source": [
    "График ROC также показывает, что модель Случайный лес - лучшая."
   ]
  },
  {
   "attachments": {},
   "cell_type": "markdown",
   "metadata": {},
   "source": [
    "### Анализ F1 и AUC-ROC"
   ]
  },
  {
   "attachments": {},
   "cell_type": "markdown",
   "metadata": {},
   "source": [
    "Построим график, на котором отобразим все получившиеся значения F1 и AUC-ROC"
   ]
  },
  {
   "cell_type": "code",
   "execution_count": 127,
   "metadata": {},
   "outputs": [
    {
     "data": {
      "image/png": "[encoded data removed]",
      "text/plain": [
       "<Figure size 1000x700 with 1 Axes>"
      ]
     },
     "metadata": {},
     "output_type": "display_data"
    }
   ],
   "source": [
    "# set width of bars\n",
    "barWidth = 0.25\n",
    "plt.figure(figsize=(10, 7))\n",
    "plt.grid()\n",
    "# set heights of bars\n",
    "tree = [best_f1_tree_n, best_f1_tree_w, best_f1_tree_u, best_f1_tree_d]\n",
    "forest = [best_f1_for_n, best_f1_for_w, best_f1_for_u, best_f1_for_d, ]\n",
    "log = [best_f1_log_n, best_f1_log_w, best_f1_log_u, best_f1_log_d]\n",
    "\n",
    "roc_tree = [auc_roc_tree_n, auc_roc_tree_w, auc_roc_tree_u, auc_roc_tree_d]\n",
    "roc_forest = [auc_roc_for_n, auc_roc_for_w, auc_roc_for_u, auc_roc_for_d]\n",
    "roc_log = [auc_roc_log_n, auc_roc_log_w, auc_roc_log_u, auc_roc_log_d]\n",
    " \n",
    "# Set position of bar on X axis\n",
    "r1 = np.arange(len(tree))\n",
    "r2 = [x + barWidth for x in r1]\n",
    "r3 = [x + barWidth for x in r2]\n",
    " \n",
    "# Make the plot\n",
    "plt.bar(r1, tree, color='red', width=barWidth, edgecolor='white', label='Дерево решений')\n",
    "plt.bar(r2, forest, color='green', width=barWidth, edgecolor='white', label='Случайный лес')\n",
    "plt.bar(r3, log, color='blue', width=barWidth, edgecolor='white', label='Логистическая регрессия')\n",
    "\n",
    "plt.plot(roc_tree, color='red', marker=\"o\", label='AUC-ROC Tree')\n",
    "plt.plot(roc_forest, color='green', marker=\"o\", label='AUC-ROC Forest')\n",
    "plt.plot(roc_log, color='blue', marker=\"o\", label='AUC-ROC Log')\n",
    "# Add xticks on the middle of the group bars\n",
    "plt.xlabel('Качество модели F1 и AUC-ROC', fontsize=20)\n",
    "plt.xticks([r + barWidth for r in range(len(tree))], ['Без учета дисбаланса', 'Взвешивание классов', 'Увеличение выборки', 'Уменьшение выборки'])\n",
    " \n",
    "# Create legend & Show graphic\n",
    "plt.legend(loc='lower center')\n",
    "plt.show()"
   ]
  },
  {
   "attachments": {},
   "cell_type": "markdown",
   "metadata": {},
   "source": [
    "Мы видим, что модель Случайный лес дает наилучший результат. Если сравнить модели при взвешивании классов и увеличении выборки, они почти одинаковы, но все таки модель Случайного леса чуть лучше. Значение метрики AUC-ROC выше чем F1/.\n"
   ]
  },
  {
   "attachments": {},
   "cell_type": "markdown",
   "metadata": {},
   "source": [
    "## Тестирование модели"
   ]
  },
  {
   "attachments": {},
   "cell_type": "markdown",
   "metadata": {},
   "source": [
    "Объединим тренировочную и валидационную выборку и проведем обучение модели на ней."
   ]
  },
  {
   "cell_type": "code",
   "execution_count": 128,
   "metadata": {},
   "outputs": [],
   "source": [
    "new_features_train = pd.concat([features_train, features_valid], axis=0, ignore_index=True)\n",
    "new_target_train = pd.concat([target_train, target_valid], axis=0, ignore_index=True)"
   ]
  },
  {
   "cell_type": "code",
   "execution_count": 129,
   "metadata": {},
   "outputs": [
    {
     "name": "stdout",
     "output_type": "stream",
     "text": [
      "Accuracy на тестовой выборке: 0.832\n",
      "Полнота на тестовой выборке: 0.6698564593301436\n",
      "Точность на тестовой выборке: 0.5857740585774058\n",
      "F1 на тестовой выборке: 0.625\n",
      "AUC-ROC на тестовой выборке:  0.8590195319352283\n"
     ]
    }
   ],
   "source": [
    "model_forest = RandomForestClassifier(random_state=12345, \n",
    "                                      n_estimators=90, \n",
    "                                      max_depth=9, class_weight='balanced')\n",
    "model_forest.fit(new_features_train, new_target_train)\n",
    "predictions_test = model_forest.predict(features_test)\n",
    "\n",
    "print(\"Accuracy на тестовой выборке:\", accuracy_score(target_test, predictions_test))\n",
    "print(\"Полнота на тестовой выборке:\", recall_score(target_test, predictions_test))\n",
    "print(\"Точность на тестовой выборке:\", precision_score(target_test, predictions_test))\n",
    "print(\"F1 на тестовой выборке:\", f1_score(target_test, predictions_test))\n",
    "\n",
    "probabilities_valid_test = model_forest.predict_proba(features_test)\n",
    "probabilities_one_valid_test = probabilities_valid_test[:, 1]\n",
    "\n",
    "# < напишите код здесь >\n",
    "fpr, tpr, thresholds = roc_curve(target_test, probabilities_one_valid_test)\n",
    "auc_roc = roc_auc_score(target_test, probabilities_one_valid_test)\n",
    "print('AUC-ROC на тестовой выборке: ', auc_roc)"
   ]
  },
  {
   "attachments": {},
   "cell_type": "markdown",
   "metadata": {},
   "source": [
    "<li>F1 на тестовой выборке: 0.625\n",
    "<li>AUC-ROC на тестовой выборке:  0.8580955607038513</li>"
   ]
  },
  {
   "cell_type": "code",
   "execution_count": 130,
   "metadata": {},
   "outputs": [
    {
     "data": {
      "image/png": "[encoded data removed]",
      "text/plain": [
       "<Figure size 640x480 with 1 Axes>"
      ]
     },
     "metadata": {},
     "output_type": "display_data"
    }
   ],
   "source": [
    "plt.figure()\n",
    "\n",
    "# < постройте график >\n",
    "plt.plot(fpr, tpr, color='red')\n",
    "#plt.plot(fpr_for, tpr_for, color='green')\n",
    "#plt.plot(fpr_log, tpr_log, color='blue')\n",
    "# ROC-кривая случайной модели (выглядит как прямая)\n",
    "plt.plot([0, 1], [0, 1], linestyle='--')\n",
    "\n",
    "# < примените функции plt.xlim() и plt.ylim(), чтобы\n",
    "#   установить границы осей от 0 до 1 >\n",
    "plt.xlim([0.0, 1.0])\n",
    "plt.ylim([0.0, 1.0])\n",
    "# < примените функции plt.xlabel() и plt.ylabel(), чтобы\n",
    "#   подписать оси \"False Positive Rate\" и \"True Positive Rate\" >\n",
    "plt.xlabel('False Positive Rate')\n",
    "plt.ylabel('True Positive Rate')\n",
    "#plt.legend(['Дерево решений', 'Случайный лес', 'Логистическая регрессия'])\n",
    "# < добавьте к графику заголовок \"ROC-кривая\" функцией plt.title() >\n",
    "plt.title('ROC-кривая')\n",
    "plt.show()"
   ]
  },
  {
   "attachments": {},
   "cell_type": "markdown",
   "metadata": {},
   "source": [
    "## Вывод"
   ]
  },
  {
   "attachments": {},
   "cell_type": "markdown",
   "metadata": {},
   "source": [
    "<b>1. Была проведена подготовка данных для обучения:</b><br>\n",
    "<li>Удалены пропуски в поле 'Tenure'\n",
    "<li>Удалены поля  'Surname', 'CustomerId', 'RowNumber', так как они не влияют на обучение моделей\n",
    "<li>С помощью прямого кодирования или методом One-Hot Encoding преобразованы признаки  'Gender' и 'Geography'\n",
    "<li>Стандартизированы данные путем масштабирования признаков 'CreditScore', 'Balance', 'EstimatedSalary'\n",
    "<li>Проверены связи между признаками - связей не выявлено\n",
    "<li>Данные разделены на выборки в соотношении 60:20:20</li><br>\n",
    "<b>2. Проведено исследование задачи:</b><br>\n",
    "<li>Сравнили классы между собой - получен результат 4:1\n",
    "<li>Сравнили выборку с целевым признаком с константной моделью - получили результат 0.796\n",
    "<li>Проверили модели не учитывая дисбаланс классов:<br>\n",
    "Наилучшее качество модели F1 - Случайный лес:  0.5626134301270418<br>\n",
    "<li>Проанализировали ROC-кривую разных моделей, также получили что лучшее качество имеет Случайный лес\n",
    "<li>Построили матрицы ошибок и установили что из-за дисбаланса классов разные модели дают правильные ответы в случае когда целевой признак равен 1 лишь в 21-47% случаев.</li><br>\n",
    "<b>3. Исправили дисбаланс классов следующими методами: </b><br>\n",
    "<li>Взвешивание классов\n",
    "<li>Увеличение выборки\n",
    "<li>Уменьшение выборки</li><br>\n",
    "<b>4. Нилучший результат показала модель Случайный лес при взвешивании классов: </b><br>\n",
    "<li>F1 Случайного леса: 0.6185567010309279\n",
    "AUC-ROC Случайного леса:  0.8597855400699477</li><br>\n",
    "<b>5. Проанализированы метрики  F1 и AUC-ROC и получили следующий результат:</b><br>\n",
    "<li>В любом случае, модель Случайный лес дает наилучший результат\n",
    "<li>При взвешивании классов, мы получили лучший результат моделей в целом, и Случайного леса в частности\n",
    "<li>Значение метрики AUC-ROC выше чем F1</li><br>\n",
    "<b>6. Протестировали наилучшую модель Случайный лес при взвешивании классов:</b><br>\n",
    "<li>Объединили тренировочную и валидационную выборку и провели обучение модели на ней\n",
    "<li>F1 на тестовой выборке: 0.625\n",
    "<li>AUC-ROC на тестовой выборке:  0.8580955607038513\n",
    "<li>Удалось достичь F1 не менее 0.59</li><br>"
   ]
  }
 ],
 "metadata": {
  "ExecuteTimeLog": [
   {
    "duration": 1284,
    "start_time": "2023-07-11T11:22:51.320Z"
   },
   {
    "duration": 123,
    "start_time": "2023-07-11T11:22:53.499Z"
   },
   {
    "duration": 121,
    "start_time": "2023-07-11T11:23:23.623Z"
   },
   {
    "duration": 63,
    "start_time": "2023-07-11T11:23:25.850Z"
   },
   {
    "duration": 42,
    "start_time": "2023-07-11T11:23:34.171Z"
   },
   {
    "duration": 23,
    "start_time": "2023-07-11T11:23:57.371Z"
   },
   {
    "duration": 748,
    "start_time": "2023-07-11T11:27:57.895Z"
   },
   {
    "duration": 11,
    "start_time": "2023-07-11T11:31:09.836Z"
   },
   {
    "duration": 29,
    "start_time": "2023-07-11T11:34:38.392Z"
   },
   {
    "duration": 13,
    "start_time": "2023-07-11T11:35:20.848Z"
   },
   {
    "duration": 10,
    "start_time": "2023-07-11T11:39:13.195Z"
   },
   {
    "duration": 23,
    "start_time": "2023-07-11T11:39:13.207Z"
   },
   {
    "duration": 15,
    "start_time": "2023-07-11T11:39:13.232Z"
   },
   {
    "duration": 54,
    "start_time": "2023-07-11T11:39:13.249Z"
   },
   {
    "duration": 34,
    "start_time": "2023-07-11T11:39:13.305Z"
   },
   {
    "duration": 49,
    "start_time": "2023-07-11T11:39:13.341Z"
   },
   {
    "duration": 0,
    "start_time": "2023-07-11T11:41:20.931Z"
   },
   {
    "duration": 0,
    "start_time": "2023-07-11T11:41:20.933Z"
   },
   {
    "duration": 0,
    "start_time": "2023-07-11T11:41:20.937Z"
   },
   {
    "duration": 7,
    "start_time": "2023-07-11T11:41:45.322Z"
   },
   {
    "duration": 46,
    "start_time": "2023-07-11T11:41:47.747Z"
   },
   {
    "duration": 24,
    "start_time": "2023-07-11T11:41:49.694Z"
   },
   {
    "duration": 23,
    "start_time": "2023-07-11T11:41:53.835Z"
   },
   {
    "duration": 9,
    "start_time": "2023-07-11T11:41:56.395Z"
   },
   {
    "duration": 24,
    "start_time": "2023-07-11T11:41:59.962Z"
   },
   {
    "duration": 16,
    "start_time": "2023-07-11T11:42:05.131Z"
   },
   {
    "duration": 74834,
    "start_time": "2023-07-11T11:42:16.746Z"
   },
   {
    "duration": 20,
    "start_time": "2023-07-11T11:43:50.339Z"
   },
   {
    "duration": 12,
    "start_time": "2023-07-11T11:47:50.245Z"
   },
   {
    "duration": 4,
    "start_time": "2023-07-11T11:48:27.407Z"
   },
   {
    "duration": 1621,
    "start_time": "2023-07-11T11:48:32.715Z"
   },
   {
    "duration": 3,
    "start_time": "2023-07-11T11:50:03.861Z"
   },
   {
    "duration": 6,
    "start_time": "2023-07-11T11:55:34.802Z"
   },
   {
    "duration": 5,
    "start_time": "2023-07-11T11:56:09.889Z"
   },
   {
    "duration": 36,
    "start_time": "2023-07-11T11:57:50.250Z"
   },
   {
    "duration": 29,
    "start_time": "2023-07-11T11:58:35.547Z"
   },
   {
    "duration": 6,
    "start_time": "2023-07-11T12:02:20.260Z"
   },
   {
    "duration": 7,
    "start_time": "2023-07-11T12:02:44.547Z"
   },
   {
    "duration": 5,
    "start_time": "2023-07-11T12:02:47.036Z"
   },
   {
    "duration": 51,
    "start_time": "2023-07-11T12:04:26.377Z"
   },
   {
    "duration": 5,
    "start_time": "2023-07-11T12:11:38.667Z"
   },
   {
    "duration": 7,
    "start_time": "2023-07-11T12:11:40.250Z"
   },
   {
    "duration": 18,
    "start_time": "2023-07-11T12:11:41.849Z"
   },
   {
    "duration": 29,
    "start_time": "2023-07-11T12:13:11.889Z"
   },
   {
    "duration": 4,
    "start_time": "2023-07-11T12:18:27.532Z"
   },
   {
    "duration": 25,
    "start_time": "2023-07-11T12:24:52.711Z"
   },
   {
    "duration": 7,
    "start_time": "2023-07-11T12:25:08.298Z"
   },
   {
    "duration": 6,
    "start_time": "2023-07-11T12:25:10.143Z"
   },
   {
    "duration": 5,
    "start_time": "2023-07-11T12:25:12.255Z"
   },
   {
    "duration": 26,
    "start_time": "2023-07-11T12:25:14.256Z"
   },
   {
    "duration": 5,
    "start_time": "2023-07-11T12:29:19.050Z"
   },
   {
    "duration": 7,
    "start_time": "2023-07-11T12:30:23.893Z"
   },
   {
    "duration": 5,
    "start_time": "2023-07-11T12:30:34.746Z"
   },
   {
    "duration": 139,
    "start_time": "2023-07-11T12:35:20.420Z"
   },
   {
    "duration": 11,
    "start_time": "2023-07-11T12:40:04.134Z"
   },
   {
    "duration": 4,
    "start_time": "2023-07-11T12:40:37.290Z"
   },
   {
    "duration": 5,
    "start_time": "2023-07-11T12:40:45.591Z"
   },
   {
    "duration": 9,
    "start_time": "2023-07-11T12:49:02.323Z"
   },
   {
    "duration": 82,
    "start_time": "2023-07-11T12:50:33.652Z"
   },
   {
    "duration": 7,
    "start_time": "2023-07-11T12:51:53.064Z"
   },
   {
    "duration": 171,
    "start_time": "2023-07-11T12:51:58.652Z"
   },
   {
    "duration": 5,
    "start_time": "2023-07-11T12:52:48.982Z"
   },
   {
    "duration": 151,
    "start_time": "2023-07-11T12:52:55.182Z"
   },
   {
    "duration": 171,
    "start_time": "2023-07-11T12:53:17.982Z"
   },
   {
    "duration": 31,
    "start_time": "2023-07-11T12:55:34.917Z"
   },
   {
    "duration": 18918,
    "start_time": "2023-07-11T12:56:11.969Z"
   },
   {
    "duration": 308,
    "start_time": "2023-07-11T12:57:11.222Z"
   },
   {
    "duration": 145,
    "start_time": "2023-07-11T12:58:09.915Z"
   },
   {
    "duration": 5,
    "start_time": "2023-07-11T13:04:52.242Z"
   },
   {
    "duration": 7,
    "start_time": "2023-07-11T13:07:11.270Z"
   },
   {
    "duration": 196,
    "start_time": "2023-07-11T13:11:17.125Z"
   },
   {
    "duration": 12,
    "start_time": "2023-07-11T13:15:55.008Z"
   },
   {
    "duration": 226,
    "start_time": "2023-07-11T13:16:58.843Z"
   },
   {
    "duration": 202,
    "start_time": "2023-07-11T13:17:17.768Z"
   },
   {
    "duration": 223,
    "start_time": "2023-07-11T13:17:43.016Z"
   },
   {
    "duration": 83,
    "start_time": "2023-07-11T13:18:04.914Z"
   },
   {
    "duration": 5,
    "start_time": "2023-07-11T13:19:57.266Z"
   },
   {
    "duration": 11,
    "start_time": "2023-07-11T13:20:37.122Z"
   },
   {
    "duration": 14,
    "start_time": "2023-07-11T13:22:09.092Z"
   },
   {
    "duration": 336,
    "start_time": "2023-07-11T13:26:41.909Z"
   },
   {
    "duration": 185,
    "start_time": "2023-07-11T13:27:26.852Z"
   },
   {
    "duration": 233,
    "start_time": "2023-07-11T13:28:07.301Z"
   },
   {
    "duration": 234,
    "start_time": "2023-07-11T13:28:43.085Z"
   },
   {
    "duration": 166,
    "start_time": "2023-07-11T13:29:53.205Z"
   },
   {
    "duration": 226,
    "start_time": "2023-07-11T13:30:06.942Z"
   },
   {
    "duration": 430,
    "start_time": "2023-07-11T13:30:54.075Z"
   },
   {
    "duration": 1654,
    "start_time": "2023-07-12T02:19:03.424Z"
   },
   {
    "duration": 96,
    "start_time": "2023-07-12T02:19:07.193Z"
   },
   {
    "duration": 26,
    "start_time": "2023-07-12T02:19:09.633Z"
   },
   {
    "duration": 13,
    "start_time": "2023-07-12T02:19:15.249Z"
   },
   {
    "duration": 7,
    "start_time": "2023-07-12T02:19:18.185Z"
   },
   {
    "duration": 16,
    "start_time": "2023-07-12T02:19:22.356Z"
   },
   {
    "duration": 11,
    "start_time": "2023-07-12T02:19:26.353Z"
   },
   {
    "duration": 37,
    "start_time": "2023-07-12T02:19:29.157Z"
   },
   {
    "duration": 24,
    "start_time": "2023-07-12T02:19:36.125Z"
   },
   {
    "duration": 1034,
    "start_time": "2023-07-12T02:19:40.855Z"
   },
   {
    "duration": 5,
    "start_time": "2023-07-12T02:19:51.746Z"
   },
   {
    "duration": 5,
    "start_time": "2023-07-12T02:19:54.625Z"
   },
   {
    "duration": 23,
    "start_time": "2023-07-12T02:19:56.742Z"
   },
   {
    "duration": 18,
    "start_time": "2023-07-12T02:20:10.344Z"
   },
   {
    "duration": 26,
    "start_time": "2023-07-12T02:20:20.924Z"
   },
   {
    "duration": 5,
    "start_time": "2023-07-12T02:20:26.723Z"
   },
   {
    "duration": 5,
    "start_time": "2023-07-12T02:20:28.882Z"
   },
   {
    "duration": 4,
    "start_time": "2023-07-12T02:20:31.324Z"
   },
   {
    "duration": 22,
    "start_time": "2023-07-12T02:20:35.591Z"
   },
   {
    "duration": 105,
    "start_time": "2023-07-12T02:20:40.891Z"
   },
   {
    "duration": 5,
    "start_time": "2023-07-12T02:20:45.881Z"
   },
   {
    "duration": 171,
    "start_time": "2023-07-12T02:20:51.178Z"
   },
   {
    "duration": 135,
    "start_time": "2023-07-12T02:21:28.683Z"
   },
   {
    "duration": 30,
    "start_time": "2023-07-12T02:21:40.119Z"
   },
   {
    "duration": 16858,
    "start_time": "2023-07-12T02:25:58.013Z"
   },
   {
    "duration": 17614,
    "start_time": "2023-07-12T02:32:43.015Z"
   },
   {
    "duration": 18135,
    "start_time": "2023-07-12T02:33:42.314Z"
   },
   {
    "duration": 114,
    "start_time": "2023-07-12T02:34:16.130Z"
   },
   {
    "duration": 40398,
    "start_time": "2023-07-12T02:54:18.740Z"
   },
   {
    "duration": 40148,
    "start_time": "2023-07-12T02:56:47.892Z"
   },
   {
    "duration": 48,
    "start_time": "2023-07-12T03:05:44.724Z"
   },
   {
    "duration": 93,
    "start_time": "2023-07-12T03:05:54.433Z"
   },
   {
    "duration": 45005,
    "start_time": "2023-07-12T03:07:02.939Z"
   },
   {
    "duration": 850,
    "start_time": "2023-07-12T03:09:10.585Z"
   },
   {
    "duration": 768,
    "start_time": "2023-07-12T03:09:56.784Z"
   },
   {
    "duration": 722,
    "start_time": "2023-07-12T03:11:44.526Z"
   },
   {
    "duration": 747,
    "start_time": "2023-07-12T03:12:05.801Z"
   },
   {
    "duration": 985,
    "start_time": "2023-07-12T03:12:17.561Z"
   },
   {
    "duration": 184,
    "start_time": "2023-07-12T03:13:39.193Z"
   },
   {
    "duration": 126,
    "start_time": "2023-07-12T03:13:49.682Z"
   },
   {
    "duration": 162,
    "start_time": "2023-07-12T03:14:15.042Z"
   },
   {
    "duration": 312,
    "start_time": "2023-07-12T03:15:12.746Z"
   },
   {
    "duration": 133,
    "start_time": "2023-07-12T03:27:11.887Z"
   },
   {
    "duration": 25,
    "start_time": "2023-07-12T03:27:19.902Z"
   },
   {
    "duration": 17865,
    "start_time": "2023-07-12T03:27:40.199Z"
   },
   {
    "duration": 107,
    "start_time": "2023-07-12T03:28:19.088Z"
   },
   {
    "duration": 160,
    "start_time": "2023-07-12T03:33:50.123Z"
   },
   {
    "duration": 27,
    "start_time": "2023-07-12T03:34:23.402Z"
   },
   {
    "duration": 17561,
    "start_time": "2023-07-12T03:36:19.651Z"
   },
   {
    "duration": 247,
    "start_time": "2023-07-12T03:36:55.220Z"
   },
   {
    "duration": 963,
    "start_time": "2023-07-12T03:38:46.692Z"
   },
   {
    "duration": 1121,
    "start_time": "2023-07-12T03:40:03.318Z"
   },
   {
    "duration": 1099,
    "start_time": "2023-07-12T03:40:23.841Z"
   },
   {
    "duration": 997,
    "start_time": "2023-07-12T03:40:49.543Z"
   },
   {
    "duration": 998,
    "start_time": "2023-07-12T03:41:19.845Z"
   },
   {
    "duration": 1186,
    "start_time": "2023-07-12T03:41:38.749Z"
   },
   {
    "duration": 966,
    "start_time": "2023-07-12T03:42:09.374Z"
   },
   {
    "duration": 892,
    "start_time": "2023-07-12T03:42:51.445Z"
   },
   {
    "duration": 31,
    "start_time": "2023-07-12T03:46:30.176Z"
   },
   {
    "duration": 17024,
    "start_time": "2023-07-12T03:46:52.320Z"
   },
   {
    "duration": 16684,
    "start_time": "2023-07-12T03:48:10.185Z"
   },
   {
    "duration": 124,
    "start_time": "2023-07-12T03:48:30.023Z"
   },
   {
    "duration": 990,
    "start_time": "2023-07-12T03:49:20.649Z"
   },
   {
    "duration": 143,
    "start_time": "2023-07-12T05:27:08.308Z"
   },
   {
    "duration": 26,
    "start_time": "2023-07-12T05:27:11.181Z"
   },
   {
    "duration": 17042,
    "start_time": "2023-07-12T05:27:33.389Z"
   },
   {
    "duration": 216,
    "start_time": "2023-07-12T05:28:39.091Z"
   },
   {
    "duration": 1191,
    "start_time": "2023-07-12T05:29:43.048Z"
   },
   {
    "duration": 14,
    "start_time": "2023-07-12T05:35:01.464Z"
   },
   {
    "duration": 12,
    "start_time": "2023-07-12T05:35:33.472Z"
   },
   {
    "duration": 4,
    "start_time": "2023-07-12T05:36:50.280Z"
   },
   {
    "duration": 20,
    "start_time": "2023-07-12T05:37:26.028Z"
   },
   {
    "duration": 15,
    "start_time": "2023-07-12T05:37:37.481Z"
   },
   {
    "duration": 3,
    "start_time": "2023-07-12T05:38:16.401Z"
   },
   {
    "duration": 202,
    "start_time": "2023-07-12T05:41:59.635Z"
   },
   {
    "duration": 49,
    "start_time": "2023-07-12T05:52:34.553Z"
   },
   {
    "duration": 39,
    "start_time": "2023-07-12T05:53:26.639Z"
   },
   {
    "duration": 33,
    "start_time": "2023-07-12T05:53:36.159Z"
   },
   {
    "duration": 22635,
    "start_time": "2023-07-12T05:56:23.394Z"
   },
   {
    "duration": 509,
    "start_time": "2023-07-12T05:58:15.444Z"
   },
   {
    "duration": 519,
    "start_time": "2023-07-12T06:03:02.885Z"
   },
   {
    "duration": 1211,
    "start_time": "2023-07-12T06:03:37.123Z"
   },
   {
    "duration": 34,
    "start_time": "2023-07-12T06:05:27.135Z"
   },
   {
    "duration": 34,
    "start_time": "2023-07-12T06:06:06.894Z"
   },
   {
    "duration": 44,
    "start_time": "2023-07-12T06:06:36.575Z"
   },
   {
    "duration": 553,
    "start_time": "2023-07-12T06:07:07.540Z"
   },
   {
    "duration": 1109,
    "start_time": "2023-07-12T06:08:07.032Z"
   },
   {
    "duration": 119,
    "start_time": "2023-07-12T06:15:20.433Z"
   },
   {
    "duration": 139,
    "start_time": "2023-07-12T06:16:01.986Z"
   },
   {
    "duration": 116,
    "start_time": "2023-07-12T06:16:36.326Z"
   },
   {
    "duration": 115,
    "start_time": "2023-07-12T06:17:11.699Z"
   },
   {
    "duration": 137,
    "start_time": "2023-07-12T06:20:33.341Z"
   },
   {
    "duration": 118,
    "start_time": "2023-07-12T06:21:09.589Z"
   },
   {
    "duration": 114,
    "start_time": "2023-07-12T06:21:52.077Z"
   },
   {
    "duration": 226,
    "start_time": "2023-07-12T06:22:00.453Z"
   },
   {
    "duration": 140,
    "start_time": "2023-07-12T06:22:21.640Z"
   },
   {
    "duration": 130,
    "start_time": "2023-07-12T06:25:32.055Z"
   },
   {
    "duration": 150,
    "start_time": "2023-07-12T06:28:09.863Z"
   },
   {
    "duration": 16,
    "start_time": "2023-07-12T06:35:48.019Z"
   },
   {
    "duration": 90,
    "start_time": "2023-07-12T06:40:48.446Z"
   },
   {
    "duration": 35,
    "start_time": "2023-07-12T06:42:01.942Z"
   },
   {
    "duration": 187,
    "start_time": "2023-07-12T06:42:05.834Z"
   },
   {
    "duration": 35,
    "start_time": "2023-07-12T06:42:11.158Z"
   },
   {
    "duration": 23427,
    "start_time": "2023-07-12T06:42:15.758Z"
   },
   {
    "duration": 539,
    "start_time": "2023-07-12T06:42:43.439Z"
   },
   {
    "duration": 1068,
    "start_time": "2023-07-12T06:42:50.670Z"
   },
   {
    "duration": 161,
    "start_time": "2023-07-12T06:42:54.191Z"
   },
   {
    "duration": 16,
    "start_time": "2023-07-12T06:43:02.647Z"
   },
   {
    "duration": 97,
    "start_time": "2023-07-12T06:43:06.436Z"
   },
   {
    "duration": 27,
    "start_time": "2023-07-12T06:43:30.703Z"
   },
   {
    "duration": 11197,
    "start_time": "2023-07-12T06:44:33.088Z"
   },
   {
    "duration": 63,
    "start_time": "2023-07-12T06:45:01.656Z"
   },
   {
    "duration": 754,
    "start_time": "2023-07-12T06:46:03.784Z"
   },
   {
    "duration": 161,
    "start_time": "2023-07-12T06:48:09.345Z"
   },
   {
    "duration": 157,
    "start_time": "2023-07-12T06:50:59.962Z"
   },
   {
    "duration": 30,
    "start_time": "2023-07-12T06:51:02.961Z"
   },
   {
    "duration": 16923,
    "start_time": "2023-07-12T06:51:05.649Z"
   },
   {
    "duration": 269,
    "start_time": "2023-07-12T06:51:25.928Z"
   },
   {
    "duration": 1098,
    "start_time": "2023-07-12T06:51:29.946Z"
   },
   {
    "duration": 212,
    "start_time": "2023-07-12T06:51:34.636Z"
   },
   {
    "duration": 13,
    "start_time": "2023-07-12T06:51:41.058Z"
   },
   {
    "duration": 163,
    "start_time": "2023-07-12T06:51:44.235Z"
   },
   {
    "duration": 36,
    "start_time": "2023-07-12T06:51:48.633Z"
   },
   {
    "duration": 22627,
    "start_time": "2023-07-12T06:51:51.238Z"
   },
   {
    "duration": 525,
    "start_time": "2023-07-12T06:52:13.866Z"
   },
   {
    "duration": 545,
    "start_time": "2023-07-12T06:52:20.294Z"
   },
   {
    "duration": 1148,
    "start_time": "2023-07-12T06:52:25.499Z"
   },
   {
    "duration": 154,
    "start_time": "2023-07-12T06:52:30.802Z"
   },
   {
    "duration": 13,
    "start_time": "2023-07-12T06:52:33.691Z"
   },
   {
    "duration": 89,
    "start_time": "2023-07-12T06:52:36.274Z"
   },
   {
    "duration": 31,
    "start_time": "2023-07-12T06:52:40.727Z"
   },
   {
    "duration": 11667,
    "start_time": "2023-07-12T06:52:43.943Z"
   },
   {
    "duration": 44,
    "start_time": "2023-07-12T06:52:59.140Z"
   },
   {
    "duration": 811,
    "start_time": "2023-07-12T06:53:04.731Z"
   },
   {
    "duration": 145,
    "start_time": "2023-07-12T06:53:08.939Z"
   },
   {
    "duration": 155,
    "start_time": "2023-07-12T06:58:02.323Z"
   },
   {
    "duration": 32,
    "start_time": "2023-07-12T06:58:15.636Z"
   },
   {
    "duration": 159,
    "start_time": "2023-07-12T06:58:35.728Z"
   },
   {
    "duration": 166,
    "start_time": "2023-07-12T06:59:27.598Z"
   },
   {
    "duration": 5,
    "start_time": "2023-07-12T06:59:36.087Z"
   },
   {
    "duration": 45,
    "start_time": "2023-07-12T06:59:38.685Z"
   },
   {
    "duration": 20,
    "start_time": "2023-07-12T06:59:40.756Z"
   },
   {
    "duration": 15,
    "start_time": "2023-07-12T06:59:43.773Z"
   },
   {
    "duration": 9,
    "start_time": "2023-07-12T06:59:47.032Z"
   },
   {
    "duration": 16,
    "start_time": "2023-07-12T06:59:49.902Z"
   },
   {
    "duration": 11,
    "start_time": "2023-07-12T06:59:52.547Z"
   },
   {
    "duration": 47,
    "start_time": "2023-07-12T06:59:56.151Z"
   },
   {
    "duration": 19,
    "start_time": "2023-07-12T06:59:59.294Z"
   },
   {
    "duration": 994,
    "start_time": "2023-07-12T07:00:02.254Z"
   },
   {
    "duration": 5,
    "start_time": "2023-07-12T07:00:08.388Z"
   },
   {
    "duration": 5,
    "start_time": "2023-07-12T07:00:11.590Z"
   },
   {
    "duration": 31,
    "start_time": "2023-07-12T07:00:14.735Z"
   },
   {
    "duration": 31,
    "start_time": "2023-07-12T07:00:17.606Z"
   },
   {
    "duration": 32,
    "start_time": "2023-07-12T07:00:20.832Z"
   },
   {
    "duration": 6,
    "start_time": "2023-07-12T07:00:23.843Z"
   },
   {
    "duration": 5,
    "start_time": "2023-07-12T07:00:25.836Z"
   },
   {
    "duration": 7,
    "start_time": "2023-07-12T07:00:27.742Z"
   },
   {
    "duration": 33,
    "start_time": "2023-07-12T07:00:31.237Z"
   },
   {
    "duration": 211,
    "start_time": "2023-07-12T07:00:35.886Z"
   },
   {
    "duration": 4,
    "start_time": "2023-07-12T07:00:39.731Z"
   },
   {
    "duration": 6,
    "start_time": "2023-07-12T07:00:43.235Z"
   },
   {
    "duration": 145,
    "start_time": "2023-07-12T07:00:46.076Z"
   },
   {
    "duration": 36,
    "start_time": "2023-07-12T07:01:01.751Z"
   },
   {
    "duration": 149,
    "start_time": "2023-07-12T07:01:24.437Z"
   },
   {
    "duration": 27,
    "start_time": "2023-07-12T07:01:32.743Z"
   },
   {
    "duration": 17364,
    "start_time": "2023-07-12T07:02:17.999Z"
   },
   {
    "duration": 109,
    "start_time": "2023-07-12T07:02:46.365Z"
   },
   {
    "duration": 1084,
    "start_time": "2023-07-12T07:03:17.768Z"
   },
   {
    "duration": 192,
    "start_time": "2023-07-12T07:03:50.632Z"
   },
   {
    "duration": 232,
    "start_time": "2023-07-12T07:03:54.656Z"
   },
   {
    "duration": 378,
    "start_time": "2023-07-12T07:03:57.584Z"
   },
   {
    "duration": 158,
    "start_time": "2023-07-12T07:04:17.032Z"
   },
   {
    "duration": 46,
    "start_time": "2023-07-12T07:04:25.192Z"
   },
   {
    "duration": 18141,
    "start_time": "2023-07-12T07:04:43.715Z"
   },
   {
    "duration": 231,
    "start_time": "2023-07-12T07:05:06.044Z"
   },
   {
    "duration": 845,
    "start_time": "2023-07-12T07:05:41.400Z"
   },
   {
    "duration": 152,
    "start_time": "2023-07-12T07:05:47.960Z"
   },
   {
    "duration": 12,
    "start_time": "2023-07-12T07:05:53.048Z"
   },
   {
    "duration": 181,
    "start_time": "2023-07-12T07:06:15.845Z"
   },
   {
    "duration": 31,
    "start_time": "2023-07-12T07:06:23.048Z"
   },
   {
    "duration": 24068,
    "start_time": "2023-07-12T07:06:58.177Z"
   },
   {
    "duration": 615,
    "start_time": "2023-07-12T07:07:27.146Z"
   },
   {
    "duration": 1208,
    "start_time": "2023-07-12T07:08:38.949Z"
   },
   {
    "duration": 160,
    "start_time": "2023-07-12T07:08:58.969Z"
   },
   {
    "duration": 13,
    "start_time": "2023-07-12T07:09:03.186Z"
   },
   {
    "duration": 93,
    "start_time": "2023-07-12T07:09:47.631Z"
   },
   {
    "duration": 23,
    "start_time": "2023-07-12T07:09:52.674Z"
   },
   {
    "duration": 11911,
    "start_time": "2023-07-12T07:10:14.666Z"
   },
   {
    "duration": 48,
    "start_time": "2023-07-12T07:10:31.283Z"
   },
   {
    "duration": 983,
    "start_time": "2023-07-12T07:11:01.371Z"
   },
   {
    "duration": 163,
    "start_time": "2023-07-12T07:11:09.003Z"
   },
   {
    "duration": 17,
    "start_time": "2023-07-12T07:16:05.968Z"
   },
   {
    "duration": 13,
    "start_time": "2023-07-12T07:16:27.590Z"
   },
   {
    "duration": 13,
    "start_time": "2023-07-12T07:16:55.877Z"
   },
   {
    "duration": 5,
    "start_time": "2023-07-12T07:17:25.144Z"
   },
   {
    "duration": 148,
    "start_time": "2023-07-12T07:17:35.406Z"
   },
   {
    "duration": 159,
    "start_time": "2023-07-12T07:18:01.344Z"
   },
   {
    "duration": 189,
    "start_time": "2023-07-12T07:18:49.991Z"
   },
   {
    "duration": 165,
    "start_time": "2023-07-12T07:26:39.195Z"
   },
   {
    "duration": 267,
    "start_time": "2023-07-12T07:28:45.849Z"
   },
   {
    "duration": 210,
    "start_time": "2023-07-12T07:28:55.836Z"
   },
   {
    "duration": 177,
    "start_time": "2023-07-12T07:29:06.659Z"
   },
   {
    "duration": 174,
    "start_time": "2023-07-12T07:29:15.843Z"
   },
   {
    "duration": 220,
    "start_time": "2023-07-12T07:29:31.370Z"
   },
   {
    "duration": 178,
    "start_time": "2023-07-12T07:30:51.045Z"
   },
   {
    "duration": 187,
    "start_time": "2023-07-12T07:31:57.349Z"
   },
   {
    "duration": 171,
    "start_time": "2023-07-12T07:34:02.844Z"
   },
   {
    "duration": 185,
    "start_time": "2023-07-12T07:35:01.077Z"
   },
   {
    "duration": 193,
    "start_time": "2023-07-12T07:35:13.227Z"
   },
   {
    "duration": 210,
    "start_time": "2023-07-12T07:37:48.294Z"
   },
   {
    "duration": 214,
    "start_time": "2023-07-12T07:40:47.250Z"
   },
   {
    "duration": 321,
    "start_time": "2023-07-12T07:52:39.701Z"
   },
   {
    "duration": 12,
    "start_time": "2023-07-12T09:21:46.756Z"
   },
   {
    "duration": 8,
    "start_time": "2023-07-12T09:21:53.530Z"
   },
   {
    "duration": 325,
    "start_time": "2023-07-12T09:21:55.092Z"
   },
   {
    "duration": 336,
    "start_time": "2023-07-12T09:23:09.342Z"
   },
   {
    "duration": 131,
    "start_time": "2023-07-12T09:25:10.190Z"
   },
   {
    "duration": 166,
    "start_time": "2023-07-12T09:32:30.665Z"
   },
   {
    "duration": 140,
    "start_time": "2023-07-12T09:33:09.059Z"
   },
   {
    "duration": 35,
    "start_time": "2023-07-12T09:33:11.650Z"
   },
   {
    "duration": 20255,
    "start_time": "2023-07-12T09:34:12.362Z"
   },
   {
    "duration": 140,
    "start_time": "2023-07-12T09:34:37.557Z"
   },
   {
    "duration": 1105,
    "start_time": "2023-07-12T09:35:29.047Z"
   },
   {
    "duration": 988,
    "start_time": "2023-07-12T09:39:48.749Z"
   },
   {
    "duration": 227,
    "start_time": "2023-07-12T09:39:56.246Z"
   },
   {
    "duration": 185,
    "start_time": "2023-07-12T09:39:59.461Z"
   },
   {
    "duration": 361,
    "start_time": "2023-07-12T09:40:02.047Z"
   },
   {
    "duration": 163,
    "start_time": "2023-07-12T09:40:10.868Z"
   },
   {
    "duration": 170,
    "start_time": "2023-07-12T09:40:40.927Z"
   },
   {
    "duration": 31,
    "start_time": "2023-07-12T09:40:43.989Z"
   },
   {
    "duration": 19379,
    "start_time": "2023-07-12T09:40:50.032Z"
   },
   {
    "duration": 310,
    "start_time": "2023-07-12T09:41:22.653Z"
   },
   {
    "duration": 999,
    "start_time": "2023-07-12T09:41:28.151Z"
   },
   {
    "duration": 1178,
    "start_time": "2023-07-12T09:41:55.457Z"
   },
   {
    "duration": 1078,
    "start_time": "2023-07-12T09:43:30.584Z"
   },
   {
    "duration": 157,
    "start_time": "2023-07-12T09:44:37.919Z"
   },
   {
    "duration": 186,
    "start_time": "2023-07-12T09:45:01.120Z"
   },
   {
    "duration": 160,
    "start_time": "2023-07-12T09:45:03.969Z"
   },
   {
    "duration": 191,
    "start_time": "2023-07-12T09:46:40.551Z"
   },
   {
    "duration": 21,
    "start_time": "2023-07-12T09:53:13.122Z"
   },
   {
    "duration": 203,
    "start_time": "2023-07-12T09:53:22.255Z"
   },
   {
    "duration": 58,
    "start_time": "2023-07-12T09:53:28.328Z"
   },
   {
    "duration": 26811,
    "start_time": "2023-07-12T09:53:57.763Z"
   },
   {
    "duration": 703,
    "start_time": "2023-07-12T09:54:29.094Z"
   },
   {
    "duration": 1048,
    "start_time": "2023-07-12T09:54:56.603Z"
   },
   {
    "duration": 171,
    "start_time": "2023-07-12T09:55:41.156Z"
   },
   {
    "duration": 12,
    "start_time": "2023-07-12T09:55:46.395Z"
   },
   {
    "duration": 98,
    "start_time": "2023-07-12T09:55:49.716Z"
   },
   {
    "duration": 28,
    "start_time": "2023-07-12T09:56:20.451Z"
   },
   {
    "duration": 13321,
    "start_time": "2023-07-12T09:56:28.462Z"
   },
   {
    "duration": 59,
    "start_time": "2023-07-12T09:56:52.393Z"
   },
   {
    "duration": 896,
    "start_time": "2023-07-12T09:56:57.468Z"
   },
   {
    "duration": 619,
    "start_time": "2023-07-12T09:57:24.221Z"
   },
   {
    "duration": 246,
    "start_time": "2023-07-12T09:57:48.853Z"
   },
   {
    "duration": 240,
    "start_time": "2023-07-12T10:04:31.545Z"
   },
   {
    "duration": 384,
    "start_time": "2023-07-12T10:05:29.232Z"
   },
   {
    "duration": 203,
    "start_time": "2023-07-12T10:05:59.504Z"
   },
   {
    "duration": 218,
    "start_time": "2023-07-12T10:06:55.081Z"
   },
   {
    "duration": 208,
    "start_time": "2023-07-12T10:09:10.994Z"
   },
   {
    "duration": 236,
    "start_time": "2023-07-12T10:09:58.046Z"
   },
   {
    "duration": 235,
    "start_time": "2023-07-12T10:11:51.739Z"
   },
   {
    "duration": 241,
    "start_time": "2023-07-12T10:12:07.945Z"
   },
   {
    "duration": 207,
    "start_time": "2023-07-12T10:12:19.448Z"
   },
   {
    "duration": 213,
    "start_time": "2023-07-12T10:14:54.965Z"
   },
   {
    "duration": 204,
    "start_time": "2023-07-12T10:15:24.327Z"
   },
   {
    "duration": 210,
    "start_time": "2023-07-12T10:15:39.949Z"
   },
   {
    "duration": 15,
    "start_time": "2023-07-12T10:22:27.766Z"
   },
   {
    "duration": 5,
    "start_time": "2023-07-12T10:23:08.159Z"
   },
   {
    "duration": 42,
    "start_time": "2023-07-12T10:23:11.791Z"
   },
   {
    "duration": 18,
    "start_time": "2023-07-12T10:23:13.827Z"
   },
   {
    "duration": 11,
    "start_time": "2023-07-12T10:23:18.080Z"
   },
   {
    "duration": 10,
    "start_time": "2023-07-12T10:27:22.465Z"
   },
   {
    "duration": 16,
    "start_time": "2023-07-12T10:29:15.754Z"
   },
   {
    "duration": 10,
    "start_time": "2023-07-12T10:29:19.777Z"
   },
   {
    "duration": 54,
    "start_time": "2023-07-12T10:29:39.027Z"
   },
   {
    "duration": 50,
    "start_time": "2023-07-12T10:30:39.142Z"
   },
   {
    "duration": 18,
    "start_time": "2023-07-12T10:30:41.660Z"
   },
   {
    "duration": 1201,
    "start_time": "2023-07-12T10:30:44.298Z"
   },
   {
    "duration": 5,
    "start_time": "2023-07-12T10:41:03.927Z"
   },
   {
    "duration": 5,
    "start_time": "2023-07-12T10:41:06.056Z"
   },
   {
    "duration": 17,
    "start_time": "2023-07-12T10:41:11.077Z"
   },
   {
    "duration": 26,
    "start_time": "2023-07-12T10:41:18.127Z"
   },
   {
    "duration": 39,
    "start_time": "2023-07-12T10:42:26.846Z"
   },
   {
    "duration": 5,
    "start_time": "2023-07-12T11:07:22.557Z"
   },
   {
    "duration": 6,
    "start_time": "2023-07-12T11:08:11.157Z"
   },
   {
    "duration": 5,
    "start_time": "2023-07-12T11:08:31.195Z"
   },
   {
    "duration": 22,
    "start_time": "2023-07-12T11:08:34.603Z"
   },
   {
    "duration": 116,
    "start_time": "2023-07-12T11:10:00.975Z"
   },
   {
    "duration": 4,
    "start_time": "2023-07-12T11:11:07.357Z"
   },
   {
    "duration": 163,
    "start_time": "2023-07-12T11:14:52.750Z"
   },
   {
    "duration": 43,
    "start_time": "2023-07-12T11:14:56.007Z"
   },
   {
    "duration": 18560,
    "start_time": "2023-07-12T11:15:01.094Z"
   },
   {
    "duration": 29,
    "start_time": "2023-07-12T11:15:36.664Z"
   },
   {
    "duration": 18854,
    "start_time": "2023-07-12T11:15:54.885Z"
   },
   {
    "duration": 116,
    "start_time": "2023-07-12T11:16:19.259Z"
   },
   {
    "duration": 757,
    "start_time": "2023-07-12T11:16:24.390Z"
   },
   {
    "duration": 4,
    "start_time": "2023-07-12T11:19:15.505Z"
   },
   {
    "duration": 4,
    "start_time": "2023-07-12T11:20:01.280Z"
   },
   {
    "duration": 163,
    "start_time": "2023-07-12T11:22:08.266Z"
   },
   {
    "duration": 227,
    "start_time": "2023-07-12T11:29:27.848Z"
   },
   {
    "duration": 205,
    "start_time": "2023-07-12T11:29:30.588Z"
   },
   {
    "duration": 327,
    "start_time": "2023-07-12T11:29:33.959Z"
   },
   {
    "duration": 161,
    "start_time": "2023-07-12T11:29:42.851Z"
   },
   {
    "duration": 29,
    "start_time": "2023-07-12T11:29:46.357Z"
   },
   {
    "duration": 19202,
    "start_time": "2023-07-12T11:29:51.269Z"
   },
   {
    "duration": 259,
    "start_time": "2023-07-12T11:30:14.101Z"
   },
   {
    "duration": 1008,
    "start_time": "2023-07-12T11:30:18.036Z"
   },
   {
    "duration": 10,
    "start_time": "2023-07-12T11:32:53.158Z"
   },
   {
    "duration": 162,
    "start_time": "2023-07-12T11:35:31.059Z"
   },
   {
    "duration": 13,
    "start_time": "2023-07-12T11:36:23.768Z"
   },
   {
    "duration": 17,
    "start_time": "2023-07-12T11:41:32.459Z"
   },
   {
    "duration": 13,
    "start_time": "2023-07-12T11:41:40.665Z"
   },
   {
    "duration": 202,
    "start_time": "2023-07-12T11:41:44.689Z"
   },
   {
    "duration": 40,
    "start_time": "2023-07-12T11:41:48.015Z"
   },
   {
    "duration": 23574,
    "start_time": "2023-07-12T11:41:55.284Z"
   },
   {
    "duration": 544,
    "start_time": "2023-07-12T11:42:46.052Z"
   },
   {
    "duration": 530,
    "start_time": "2023-07-12T11:43:03.867Z"
   },
   {
    "duration": 904,
    "start_time": "2023-07-12T11:43:07.651Z"
   },
   {
    "duration": 182,
    "start_time": "2023-07-12T11:43:18.735Z"
   },
   {
    "duration": 33,
    "start_time": "2023-07-12T11:43:22.955Z"
   },
   {
    "duration": 23351,
    "start_time": "2023-07-12T11:43:25.258Z"
   },
   {
    "duration": 573,
    "start_time": "2023-07-12T11:44:09.646Z"
   },
   {
    "duration": 851,
    "start_time": "2023-07-12T11:44:12.683Z"
   },
   {
    "duration": 13,
    "start_time": "2023-07-12T11:44:40.257Z"
   },
   {
    "duration": 184,
    "start_time": "2023-07-12T11:44:43.157Z"
   },
   {
    "duration": 42,
    "start_time": "2023-07-12T11:44:46.023Z"
   },
   {
    "duration": 25085,
    "start_time": "2023-07-12T11:44:48.692Z"
   },
   {
    "duration": 620,
    "start_time": "2023-07-12T11:45:17.615Z"
   },
   {
    "duration": 1085,
    "start_time": "2023-07-12T11:45:21.451Z"
   },
   {
    "duration": 4,
    "start_time": "2023-07-12T11:47:41.123Z"
   },
   {
    "duration": 179,
    "start_time": "2023-07-12T11:50:12.227Z"
   },
   {
    "duration": 12,
    "start_time": "2023-07-12T11:51:03.888Z"
   },
   {
    "duration": 94,
    "start_time": "2023-07-12T11:51:06.963Z"
   },
   {
    "duration": 22,
    "start_time": "2023-07-12T11:51:09.891Z"
   },
   {
    "duration": 12330,
    "start_time": "2023-07-12T11:51:12.690Z"
   },
   {
    "duration": 65,
    "start_time": "2023-07-12T11:51:30.923Z"
   },
   {
    "duration": 660,
    "start_time": "2023-07-12T11:51:34.072Z"
   },
   {
    "duration": 5,
    "start_time": "2023-07-12T11:53:22.548Z"
   },
   {
    "duration": 167,
    "start_time": "2023-07-12T11:54:55.284Z"
   },
   {
    "duration": 4,
    "start_time": "2023-07-12T11:55:56.027Z"
   },
   {
    "duration": 5,
    "start_time": "2023-07-12T11:56:08.631Z"
   },
   {
    "duration": 4,
    "start_time": "2023-07-12T11:56:39.715Z"
   },
   {
    "duration": 5,
    "start_time": "2023-07-12T11:56:54.041Z"
   },
   {
    "duration": 4,
    "start_time": "2023-07-12T11:57:04.296Z"
   },
   {
    "duration": 154,
    "start_time": "2023-07-12T11:57:08.935Z"
   },
   {
    "duration": 198,
    "start_time": "2023-07-12T12:00:06.899Z"
   },
   {
    "duration": 7,
    "start_time": "2023-07-12T12:05:12.385Z"
   },
   {
    "duration": 310,
    "start_time": "2023-07-12T12:05:23.823Z"
   },
   {
    "duration": 110,
    "start_time": "2023-07-12T12:07:25.761Z"
   },
   {
    "duration": 6,
    "start_time": "2023-07-12T13:36:48.361Z"
   },
   {
    "duration": 42,
    "start_time": "2023-07-12T13:36:51.452Z"
   },
   {
    "duration": 40,
    "start_time": "2023-07-12T13:36:53.319Z"
   },
   {
    "duration": 16,
    "start_time": "2023-07-12T13:36:57.487Z"
   },
   {
    "duration": 8,
    "start_time": "2023-07-12T13:37:00.560Z"
   },
   {
    "duration": 13,
    "start_time": "2023-07-12T13:42:06.706Z"
   },
   {
    "duration": 19,
    "start_time": "2023-07-12T13:42:17.339Z"
   },
   {
    "duration": 37,
    "start_time": "2023-07-12T13:42:19.986Z"
   },
   {
    "duration": 27,
    "start_time": "2023-07-12T13:42:23.618Z"
   },
   {
    "duration": 1182,
    "start_time": "2023-07-12T13:42:27.085Z"
   },
   {
    "duration": 11,
    "start_time": "2023-07-12T13:44:06.689Z"
   },
   {
    "duration": 6,
    "start_time": "2023-07-12T13:44:21.958Z"
   },
   {
    "duration": 436,
    "start_time": "2023-07-12T13:44:47.820Z"
   },
   {
    "duration": 4115,
    "start_time": "2023-07-12T13:44:52.667Z"
   },
   {
    "duration": 2500,
    "start_time": "2023-07-12T13:45:18.700Z"
   },
   {
    "duration": 20,
    "start_time": "2023-07-12T13:45:42.428Z"
   },
   {
    "duration": 1363,
    "start_time": "2023-07-12T13:46:25.858Z"
   },
   {
    "duration": 1804,
    "start_time": "2023-07-12T13:47:20.526Z"
   },
   {
    "duration": 1566,
    "start_time": "2023-07-12T13:49:10.687Z"
   },
   {
    "duration": 3,
    "start_time": "2023-07-12T13:50:18.063Z"
   },
   {
    "duration": 12,
    "start_time": "2023-07-12T13:50:27.947Z"
   },
   {
    "duration": 12,
    "start_time": "2023-07-12T13:50:30.431Z"
   },
   {
    "duration": 31,
    "start_time": "2023-07-12T13:50:34.533Z"
   },
   {
    "duration": 18,
    "start_time": "2023-07-12T13:50:39.158Z"
   },
   {
    "duration": 6,
    "start_time": "2023-07-12T13:59:45.389Z"
   },
   {
    "duration": 7,
    "start_time": "2023-07-12T13:59:47.899Z"
   },
   {
    "duration": 12,
    "start_time": "2023-07-12T13:59:49.925Z"
   },
   {
    "duration": 25,
    "start_time": "2023-07-12T13:59:51.993Z"
   },
   {
    "duration": 35,
    "start_time": "2023-07-12T13:59:58.611Z"
   },
   {
    "duration": 50,
    "start_time": "2023-07-12T14:00:34.496Z"
   },
   {
    "duration": 184,
    "start_time": "2023-07-12T14:03:13.251Z"
   },
   {
    "duration": 137,
    "start_time": "2023-07-12T14:04:27.338Z"
   },
   {
    "duration": 5,
    "start_time": "2023-07-12T14:04:33.956Z"
   },
   {
    "duration": 11,
    "start_time": "2023-07-12T14:04:42.342Z"
   },
   {
    "duration": 400,
    "start_time": "2023-07-12T14:04:48.196Z"
   },
   {
    "duration": 125,
    "start_time": "2023-07-12T14:05:39.499Z"
   },
   {
    "duration": 23,
    "start_time": "2023-07-12T14:07:54.296Z"
   },
   {
    "duration": 108,
    "start_time": "2023-07-12T14:09:56.357Z"
   },
   {
    "duration": 118,
    "start_time": "2023-07-12T14:10:02.462Z"
   },
   {
    "duration": 5,
    "start_time": "2023-07-12T14:11:38.598Z"
   },
   {
    "duration": 2,
    "start_time": "2023-07-12T14:11:41.464Z"
   },
   {
    "duration": 5,
    "start_time": "2023-07-12T14:11:48.152Z"
   },
   {
    "duration": 41,
    "start_time": "2023-07-12T14:11:51.362Z"
   },
   {
    "duration": 15,
    "start_time": "2023-07-12T14:11:55.065Z"
   },
   {
    "duration": 16,
    "start_time": "2023-07-12T14:11:58.952Z"
   },
   {
    "duration": 10,
    "start_time": "2023-07-12T14:12:02.057Z"
   },
   {
    "duration": 21,
    "start_time": "2023-07-12T14:12:10.543Z"
   },
   {
    "duration": 14,
    "start_time": "2023-07-12T14:12:38.500Z"
   },
   {
    "duration": 12,
    "start_time": "2023-07-12T14:14:33.696Z"
   },
   {
    "duration": 7,
    "start_time": "2023-07-12T14:15:46.762Z"
   },
   {
    "duration": 24,
    "start_time": "2023-07-12T14:25:57.547Z"
   },
   {
    "duration": 8,
    "start_time": "2023-07-12T14:26:26.531Z"
   },
   {
    "duration": 13,
    "start_time": "2023-07-12T14:26:50.758Z"
   },
   {
    "duration": 6,
    "start_time": "2023-07-12T14:26:55.054Z"
   },
   {
    "duration": 46,
    "start_time": "2023-07-12T14:27:07.208Z"
   },
   {
    "duration": 14,
    "start_time": "2023-07-12T14:27:09.710Z"
   },
   {
    "duration": 12,
    "start_time": "2023-07-12T14:27:12.756Z"
   },
   {
    "duration": 13,
    "start_time": "2023-07-12T14:27:15.649Z"
   },
   {
    "duration": 18,
    "start_time": "2023-07-12T14:27:18.842Z"
   },
   {
    "duration": 6,
    "start_time": "2023-07-12T14:27:21.959Z"
   },
   {
    "duration": 14,
    "start_time": "2023-07-12T14:27:31.453Z"
   },
   {
    "duration": 37,
    "start_time": "2023-07-12T14:27:34.456Z"
   },
   {
    "duration": 28,
    "start_time": "2023-07-12T14:27:37.652Z"
   },
   {
    "duration": 1077,
    "start_time": "2023-07-12T14:27:40.541Z"
   },
   {
    "duration": 4,
    "start_time": "2023-07-12T14:28:07.262Z"
   },
   {
    "duration": 4,
    "start_time": "2023-07-12T14:28:09.594Z"
   },
   {
    "duration": 19,
    "start_time": "2023-07-12T14:28:12.289Z"
   },
   {
    "duration": 19,
    "start_time": "2023-07-12T14:28:14.797Z"
   },
   {
    "duration": 6,
    "start_time": "2023-07-12T14:28:21.006Z"
   },
   {
    "duration": 5,
    "start_time": "2023-07-12T14:28:23.385Z"
   },
   {
    "duration": 5,
    "start_time": "2023-07-12T14:28:25.614Z"
   },
   {
    "duration": 41,
    "start_time": "2023-07-12T14:28:52.158Z"
   },
   {
    "duration": 128,
    "start_time": "2023-07-12T14:28:57.893Z"
   },
   {
    "duration": 4,
    "start_time": "2023-07-12T14:29:04.596Z"
   },
   {
    "duration": 8,
    "start_time": "2023-07-12T14:29:07.567Z"
   },
   {
    "duration": 191,
    "start_time": "2023-07-12T14:29:10.407Z"
   },
   {
    "duration": 61,
    "start_time": "2023-07-12T14:29:30.184Z"
   },
   {
    "duration": 188,
    "start_time": "2023-07-12T14:29:55.459Z"
   },
   {
    "duration": 197,
    "start_time": "2023-07-12T14:30:02.702Z"
   },
   {
    "duration": 40,
    "start_time": "2023-07-12T14:30:06.260Z"
   },
   {
    "duration": 35,
    "start_time": "2023-07-12T14:32:17.575Z"
   },
   {
    "duration": 21492,
    "start_time": "2023-07-12T14:32:42.994Z"
   },
   {
    "duration": 194,
    "start_time": "2023-07-12T14:33:28.658Z"
   },
   {
    "duration": 1022,
    "start_time": "2023-07-12T14:34:03.450Z"
   },
   {
    "duration": 3,
    "start_time": "2023-07-12T14:34:16.301Z"
   },
   {
    "duration": 176,
    "start_time": "2023-07-12T14:34:22.170Z"
   },
   {
    "duration": 193,
    "start_time": "2023-07-12T14:34:52.386Z"
   },
   {
    "duration": 207,
    "start_time": "2023-07-12T14:34:55.720Z"
   },
   {
    "duration": 315,
    "start_time": "2023-07-12T14:34:59.561Z"
   },
   {
    "duration": 26,
    "start_time": "2023-07-12T14:35:51.452Z"
   },
   {
    "duration": 149,
    "start_time": "2023-07-12T14:38:13.330Z"
   },
   {
    "duration": 3,
    "start_time": "2023-07-12T14:38:16.010Z"
   },
   {
    "duration": 5,
    "start_time": "2023-07-12T14:38:18.597Z"
   },
   {
    "duration": 164,
    "start_time": "2023-07-12T14:38:21.426Z"
   },
   {
    "duration": 37,
    "start_time": "2023-07-12T14:38:24.114Z"
   },
   {
    "duration": 21387,
    "start_time": "2023-07-12T14:38:26.605Z"
   },
   {
    "duration": 155,
    "start_time": "2023-07-12T14:38:50.456Z"
   },
   {
    "duration": 1003,
    "start_time": "2023-07-12T14:38:54.550Z"
   },
   {
    "duration": 8,
    "start_time": "2023-07-12T14:38:59.241Z"
   },
   {
    "duration": 470,
    "start_time": "2023-07-12T14:39:02.842Z"
   },
   {
    "duration": 562,
    "start_time": "2023-07-12T14:39:05.922Z"
   },
   {
    "duration": 228,
    "start_time": "2023-07-12T14:39:10.513Z"
   },
   {
    "duration": 323,
    "start_time": "2023-07-12T14:39:13.101Z"
   },
   {
    "duration": 160,
    "start_time": "2023-07-12T14:39:20.041Z"
   },
   {
    "duration": 614,
    "start_time": "2023-07-12T14:39:22.921Z"
   },
   {
    "duration": 24607,
    "start_time": "2023-07-12T14:39:27.912Z"
   },
   {
    "duration": 346,
    "start_time": "2023-07-12T14:39:55.294Z"
   },
   {
    "duration": 895,
    "start_time": "2023-07-12T14:40:00.586Z"
   },
   {
    "duration": 4,
    "start_time": "2023-07-12T14:40:07.817Z"
   },
   {
    "duration": 5,
    "start_time": "2023-07-12T14:40:57.180Z"
   },
   {
    "duration": 305,
    "start_time": "2023-07-12T14:41:06.292Z"
   },
   {
    "duration": 23385,
    "start_time": "2023-07-12T14:41:27.396Z"
   },
   {
    "duration": 521,
    "start_time": "2023-07-12T14:42:00.485Z"
   },
   {
    "duration": 915,
    "start_time": "2023-07-12T14:42:04.959Z"
   },
   {
    "duration": 5,
    "start_time": "2023-07-12T14:42:09.660Z"
   },
   {
    "duration": 268,
    "start_time": "2023-07-12T14:42:26.348Z"
   },
   {
    "duration": 283,
    "start_time": "2023-07-12T14:42:31.323Z"
   },
   {
    "duration": 359,
    "start_time": "2023-07-12T14:42:34.390Z"
   },
   {
    "duration": 355,
    "start_time": "2023-07-12T14:42:37.123Z"
   },
   {
    "duration": 182,
    "start_time": "2023-07-12T14:42:43.564Z"
   },
   {
    "duration": 43,
    "start_time": "2023-07-12T14:42:49.460Z"
   },
   {
    "duration": 21643,
    "start_time": "2023-07-12T14:42:58.684Z"
   },
   {
    "duration": 595,
    "start_time": "2023-07-12T14:43:32.217Z"
   },
   {
    "duration": 1049,
    "start_time": "2023-07-12T14:43:39.101Z"
   },
   {
    "duration": 6,
    "start_time": "2023-07-12T14:43:43.352Z"
   },
   {
    "duration": 202,
    "start_time": "2023-07-12T14:43:58.897Z"
   },
   {
    "duration": 16,
    "start_time": "2023-07-12T14:44:09.216Z"
   },
   {
    "duration": 226,
    "start_time": "2023-07-12T14:44:17.192Z"
   },
   {
    "duration": 49,
    "start_time": "2023-07-12T14:44:22.597Z"
   },
   {
    "duration": 29250,
    "start_time": "2023-07-12T14:44:26.124Z"
   },
   {
    "duration": 192,
    "start_time": "2023-07-12T14:45:07.196Z"
   },
   {
    "duration": 1170,
    "start_time": "2023-07-12T14:45:12.397Z"
   },
   {
    "duration": 3,
    "start_time": "2023-07-12T14:45:16.420Z"
   },
   {
    "duration": 166,
    "start_time": "2023-07-12T14:45:22.152Z"
   },
   {
    "duration": 18,
    "start_time": "2023-07-12T14:45:29.998Z"
   },
   {
    "duration": 117,
    "start_time": "2023-07-12T14:45:49.764Z"
   },
   {
    "duration": 24,
    "start_time": "2023-07-12T14:45:55.964Z"
   },
   {
    "duration": 13434,
    "start_time": "2023-07-12T14:46:00.754Z"
   },
   {
    "duration": 275,
    "start_time": "2023-07-12T14:46:28.421Z"
   },
   {
    "duration": 790,
    "start_time": "2023-07-12T14:46:32.045Z"
   },
   {
    "duration": 4,
    "start_time": "2023-07-12T14:46:35.916Z"
   },
   {
    "duration": 213,
    "start_time": "2023-07-12T14:48:49.367Z"
   },
   {
    "duration": 12,
    "start_time": "2023-07-12T14:48:55.196Z"
   },
   {
    "duration": 121,
    "start_time": "2023-07-12T14:48:59.860Z"
   },
   {
    "duration": 28,
    "start_time": "2023-07-12T14:49:02.377Z"
   },
   {
    "duration": 14361,
    "start_time": "2023-07-12T14:49:07.022Z"
   },
   {
    "duration": 329,
    "start_time": "2023-07-12T14:49:24.173Z"
   },
   {
    "duration": 1221,
    "start_time": "2023-07-12T14:49:28.534Z"
   },
   {
    "duration": 4,
    "start_time": "2023-07-12T14:49:32.821Z"
   },
   {
    "duration": 180,
    "start_time": "2023-07-12T14:51:23.764Z"
   },
   {
    "duration": 262,
    "start_time": "2023-07-12T14:51:29.301Z"
   },
   {
    "duration": 7,
    "start_time": "2023-07-12T15:04:23.683Z"
   },
   {
    "duration": 712,
    "start_time": "2023-07-12T15:04:25.902Z"
   },
   {
    "duration": 776,
    "start_time": "2023-07-12T15:05:34.421Z"
   },
   {
    "duration": 156,
    "start_time": "2023-07-12T15:05:52.263Z"
   },
   {
    "duration": 144,
    "start_time": "2023-07-12T15:07:32.492Z"
   },
   {
    "duration": 4269,
    "start_time": "2023-07-13T11:25:26.944Z"
   },
   {
    "duration": 3,
    "start_time": "2023-07-13T11:25:31.215Z"
   },
   {
    "duration": 134,
    "start_time": "2023-07-13T11:25:31.220Z"
   },
   {
    "duration": 217,
    "start_time": "2023-07-13T11:25:31.357Z"
   },
   {
    "duration": 22,
    "start_time": "2023-07-13T11:25:31.576Z"
   },
   {
    "duration": 101,
    "start_time": "2023-07-13T11:25:31.600Z"
   },
   {
    "duration": 63,
    "start_time": "2023-07-13T11:25:31.703Z"
   },
   {
    "duration": 53,
    "start_time": "2023-07-13T11:25:31.768Z"
   },
   {
    "duration": 16,
    "start_time": "2023-07-13T11:25:31.823Z"
   },
   {
    "duration": 52,
    "start_time": "2023-07-13T11:25:31.842Z"
   },
   {
    "duration": 60,
    "start_time": "2023-07-13T11:25:31.896Z"
   },
   {
    "duration": 27,
    "start_time": "2023-07-13T11:25:31.958Z"
   },
   {
    "duration": 1093,
    "start_time": "2023-07-13T11:25:31.986Z"
   },
   {
    "duration": 3,
    "start_time": "2023-07-13T11:25:33.081Z"
   },
   {
    "duration": 3276,
    "start_time": "2023-07-13T11:25:35.634Z"
   },
   {
    "duration": 20,
    "start_time": "2023-07-13T11:25:39.921Z"
   },
   {
    "duration": 12976,
    "start_time": "2023-07-13T11:25:44.333Z"
   }
  ],
  "kernelspec": {
   "display_name": "Python 3 (ipykernel)",
   "language": "python",
   "name": "python3"
  },
  "language_info": {
   "codemirror_mode": {
    "name": "ipython",
    "version": 3
   },
   "file_extension": ".py",
   "mimetype": "text/x-python",
   "name": "python",
   "nbconvert_exporter": "python",
   "pygments_lexer": "ipython3",
   "version": "3.10.10"
  },
  "toc": {
   "base_numbering": 1,
   "nav_menu": {},
   "number_sections": true,
   "sideBar": true,
   "skip_h1_title": true,
   "title_cell": "Содержание",
   "title_sidebar": "Отток клиентов",
   "toc_cell": true,
   "toc_position": {
    "height": "calc(100% - 180px)",
    "left": "10px",
    "top": "150px",
    "width": "336.179px"
   },
   "toc_section_display": true,
   "toc_window_display": true
  }
 },
 "nbformat": 4,
 "nbformat_minor": 2
}
