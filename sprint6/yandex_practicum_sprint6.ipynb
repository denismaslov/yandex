{
 "cells": [
  {
   "cell_type": "markdown",
   "metadata": {},
   "source": [
    "Привет еще раз! меня зовут Люман Аблаев. Сегодня я проверю твой проект.\n",
    "<br> Дальнейшее общение будет происходить на \"ты\" если это не вызывает никаких проблем.\n",
    "<br> Желательно реагировать на красные комментарии ('исправил', 'не понятно как исправить ошибку', ...)\n",
    "<br> Пожалуйста, не удаляй комментарии ревьюера, так как они повышают качество повторного ревью.\n",
    "\n",
    "Комментарии будут в <font color='green'>зеленой</font>, <font color='blue'>синей</font> или <font color='red'>красной</font> рамках:\n",
    "\n",
    "\n",
    "<div class=\"alert alert-block alert-success\">\n",
    "<b>Успех:</b> Если все сделано отлично\n",
    "</div>\n",
    "\n",
    "<div class=\"alert alert-block alert-info\">\n",
    "<b>Совет: </b> Если можно немного улучшить\n",
    "</div>\n",
    "\n",
    "<div class=\"alert alert-block alert-danger\">\n",
    "<b>Ошибка:</b> Если требуются исправления. Работа не может быть принята с красными комментариями.\n",
    "</div>\n",
    "\n",
    "-------------------\n",
    "\n",
    "Будет очень хорошо, если ты будешь помечать свои действия следующим образом:\n",
    "<div class=\"alert alert-block alert-warning\">\n",
    "<b>Комментарий студента:</b> ..\n",
    "</div>\n",
    "<div class=\"alert alert-block alert-warning\">\n",
    "<b>Изменения:</b> Были внесены следующие изменения ...\n",
    "</div>\n",
    "\n",
    "<font color='orange' style='font-size:24px; font-weight:bold'>Полезные ссылки</font>\n",
    "* Очень интересная и полезная статья: https://dyakonov.org/2021/05/27/imbalance/\n",
    "\n",
    "<font color='orange' style='font-size:24px; font-weight:bold'>Общее впечатление</font>\n",
    "* Спасибо за очередную  качественную работу, видно, что приложено много усилий.\n",
    "- Я оставил некоторые советы, надеюсь они будут полезными или интересными.\n",
    "- Есть некоторые недочеты, которые нужно поправить, но у тебя это не должно занять много времени)\n",
    "- Жду обновленную работу\n"
   ]
  },
  {
   "cell_type": "markdown",
   "metadata": {},
   "source": [
    "\n",
    "<font color='orange' style='font-size:24px; font-weight:bold'>Общее впечатление[2]</font>\n",
    "* Спасибо за усердность!\n",
    "- Было приятно с тобой сотрудничать.\n",
    "- Недочеты исправлены - работа полностью корректна\n",
    "- Не буду больше задерживать, продолжай в том же духе."
   ]
  },
  {
   "cell_type": "markdown",
   "metadata": {
    "toc": true
   },
   "source": [
    "<h1>Содержание<span class=\"tocSkip\"></span></h1>\n",
    "<div class=\"toc\"><ul class=\"toc-item\"><li><span><a href=\"#Подготовка-данных\" data-toc-modified-id=\"Подготовка-данных-1\"><span class=\"toc-item-num\">1&nbsp;&nbsp;</span>Подготовка данных</a></span></li><li><span><a href=\"#Исследование-задачи\" data-toc-modified-id=\"Исследование-задачи-2\"><span class=\"toc-item-num\">2&nbsp;&nbsp;</span>Исследование задачи</a></span><ul class=\"toc-item\"><li><span><a href=\"#Сравнение-классов\" data-toc-modified-id=\"Сравнение-классов-2.1\"><span class=\"toc-item-num\">2.1&nbsp;&nbsp;</span>Сравнение классов</a></span></li><li><span><a href=\"#Сравнение-с-константной-моделью\" data-toc-modified-id=\"Сравнение-с-константной-моделью-2.2\"><span class=\"toc-item-num\">2.2&nbsp;&nbsp;</span>Сравнение с константной моделью</a></span></li><li><span><a href=\"#Проверка-моделей-не-учитывая-дисбаланс-классов\" data-toc-modified-id=\"Проверка-моделей-не-учитывая-дисбаланс-классов-2.3\"><span class=\"toc-item-num\">2.3&nbsp;&nbsp;</span>Проверка моделей не учитывая дисбаланс классов</a></span><ul class=\"toc-item\"><li><span><a href=\"#Дерево-решений\" data-toc-modified-id=\"Дерево-решений-2.3.1\"><span class=\"toc-item-num\">2.3.1&nbsp;&nbsp;</span>Дерево решений</a></span></li><li><span><a href=\"#Случайный-лес\" data-toc-modified-id=\"Случайный-лес-2.3.2\"><span class=\"toc-item-num\">2.3.2&nbsp;&nbsp;</span>Случайный лес</a></span></li><li><span><a href=\"#Логистическая-регрессия\" data-toc-modified-id=\"Логистическая-регрессия-2.3.3\"><span class=\"toc-item-num\">2.3.3&nbsp;&nbsp;</span>Логистическая регрессия</a></span></li><li><span><a href=\"#ROC---кривая\" data-toc-modified-id=\"ROC---кривая-2.3.4\"><span class=\"toc-item-num\">2.3.4&nbsp;&nbsp;</span>ROC - кривая</a></span></li></ul></li><li><span><a href=\"#Дисбаланс-классов-на-графике\" data-toc-modified-id=\"Дисбаланс-классов-на-графике-2.4\"><span class=\"toc-item-num\">2.4&nbsp;&nbsp;</span>Дисбаланс классов на графике</a></span><ul class=\"toc-item\"><li><span><a href=\"#Дерево-решений\" data-toc-modified-id=\"Дерево-решений-2.4.1\"><span class=\"toc-item-num\">2.4.1&nbsp;&nbsp;</span>Дерево решений</a></span></li><li><span><a href=\"#Случайный-лес\" data-toc-modified-id=\"Случайный-лес-2.4.2\"><span class=\"toc-item-num\">2.4.2&nbsp;&nbsp;</span>Случайный лес</a></span></li><li><span><a href=\"#Логистическая-регрессия\" data-toc-modified-id=\"Логистическая-регрессия-2.4.3\"><span class=\"toc-item-num\">2.4.3&nbsp;&nbsp;</span>Логистическая регрессия</a></span></li></ul></li></ul></li><li><span><a href=\"#Борьба-с-дисбалансом\" data-toc-modified-id=\"Борьба-с-дисбалансом-3\"><span class=\"toc-item-num\">3&nbsp;&nbsp;</span>Борьба с дисбалансом</a></span><ul class=\"toc-item\"><li><span><a href=\"#Взвешивание-классов\" data-toc-modified-id=\"Взвешивание-классов-3.1\"><span class=\"toc-item-num\">3.1&nbsp;&nbsp;</span>Взвешивание классов</a></span><ul class=\"toc-item\"><li><span><a href=\"#Дерево-решений\" data-toc-modified-id=\"Дерево-решений-3.1.1\"><span class=\"toc-item-num\">3.1.1&nbsp;&nbsp;</span>Дерево решений</a></span></li><li><span><a href=\"#Случайный-лес\" data-toc-modified-id=\"Случайный-лес-3.1.2\"><span class=\"toc-item-num\">3.1.2&nbsp;&nbsp;</span>Случайный лес</a></span></li><li><span><a href=\"#Логистическая-регрессия\" data-toc-modified-id=\"Логистическая-регрессия-3.1.3\"><span class=\"toc-item-num\">3.1.3&nbsp;&nbsp;</span>Логистическая регрессия</a></span></li><li><span><a href=\"#ROC---кривая\" data-toc-modified-id=\"ROC---кривая-3.1.4\"><span class=\"toc-item-num\">3.1.4&nbsp;&nbsp;</span>ROC - кривая</a></span></li></ul></li><li><span><a href=\"#Увеличение-выборки\" data-toc-modified-id=\"Увеличение-выборки-3.2\"><span class=\"toc-item-num\">3.2&nbsp;&nbsp;</span>Увеличение выборки</a></span><ul class=\"toc-item\"><li><span><a href=\"#Дерево-решений\" data-toc-modified-id=\"Дерево-решений-3.2.1\"><span class=\"toc-item-num\">3.2.1&nbsp;&nbsp;</span>Дерево решений</a></span></li><li><span><a href=\"#Случайный-лес\" data-toc-modified-id=\"Случайный-лес-3.2.2\"><span class=\"toc-item-num\">3.2.2&nbsp;&nbsp;</span>Случайный лес</a></span></li><li><span><a href=\"#Логистическая-регрессия\" data-toc-modified-id=\"Логистическая-регрессия-3.2.3\"><span class=\"toc-item-num\">3.2.3&nbsp;&nbsp;</span>Логистическая регрессия</a></span></li><li><span><a href=\"#ROC---кривая\" data-toc-modified-id=\"ROC---кривая-3.2.4\"><span class=\"toc-item-num\">3.2.4&nbsp;&nbsp;</span>ROC - кривая</a></span></li></ul></li><li><span><a href=\"#Уменьшение-выборки\" data-toc-modified-id=\"Уменьшение-выборки-3.3\"><span class=\"toc-item-num\">3.3&nbsp;&nbsp;</span>Уменьшение выборки</a></span><ul class=\"toc-item\"><li><span><a href=\"#Дерево-решений\" data-toc-modified-id=\"Дерево-решений-3.3.1\"><span class=\"toc-item-num\">3.3.1&nbsp;&nbsp;</span>Дерево решений</a></span></li><li><span><a href=\"#Случайный-лес\" data-toc-modified-id=\"Случайный-лес-3.3.2\"><span class=\"toc-item-num\">3.3.2&nbsp;&nbsp;</span>Случайный лес</a></span></li><li><span><a href=\"#Логистическая-регрессия\" data-toc-modified-id=\"Логистическая-регрессия-3.3.3\"><span class=\"toc-item-num\">3.3.3&nbsp;&nbsp;</span>Логистическая регрессия</a></span></li><li><span><a href=\"#ROC---кривая\" data-toc-modified-id=\"ROC---кривая-3.3.4\"><span class=\"toc-item-num\">3.3.4&nbsp;&nbsp;</span>ROC - кривая</a></span></li></ul></li><li><span><a href=\"#Анализ-F1-и-AUC-ROC\" data-toc-modified-id=\"Анализ-F1-и-AUC-ROC-3.4\"><span class=\"toc-item-num\">3.4&nbsp;&nbsp;</span>Анализ F1 и AUC-ROC</a></span></li></ul></li><li><span><a href=\"#Тестирование-модели\" data-toc-modified-id=\"Тестирование-модели-4\"><span class=\"toc-item-num\">4&nbsp;&nbsp;</span>Тестирование модели</a></span></li><li><span><a href=\"#Вывод\" data-toc-modified-id=\"Вывод-5\"><span class=\"toc-item-num\">5&nbsp;&nbsp;</span>Вывод</a></span></li><li><span><a href=\"#Чек-лист-готовности-проекта\" data-toc-modified-id=\"Чек-лист-готовности-проекта-6\"><span class=\"toc-item-num\">6&nbsp;&nbsp;</span>Чек-лист готовности проекта</a></span></li></ul></div>"
   ]
  },
  {
   "cell_type": "markdown",
   "metadata": {},
   "source": [
    "# Отток клиентов"
   ]
  },
  {
   "cell_type": "markdown",
   "metadata": {},
   "source": [
    "Из «Бета-Банка» стали уходить клиенты. Каждый месяц. Немного, но заметно. Банковские маркетологи посчитали: сохранять текущих клиентов дешевле, чем привлекать новых.\n",
    "\n",
    "Нужно спрогнозировать, уйдёт клиент из банка в ближайшее время или нет. Вам предоставлены исторические данные о поведении клиентов и расторжении договоров с банком. \n",
    "\n",
    "Постройте модель с предельно большим значением *F1*-меры. Чтобы сдать проект успешно, нужно довести метрику до 0.59. Проверьте *F1*-меру на тестовой выборке самостоятельно.\n",
    "\n",
    "Дополнительно измеряйте *AUC-ROC*, сравнивайте её значение с *F1*-мерой.\n",
    "\n",
    "Источник данных: [https://www.kaggle.com/barelydedicated/bank-customer-churn-modeling](https://www.kaggle.com/barelydedicated/bank-customer-churn-modeling)"
   ]
  },
  {
   "cell_type": "code",
   "execution_count": 1,
   "metadata": {},
   "outputs": [],
   "source": [
    "import pandas as pd\n",
    "import seaborn as sns\n",
    "from sklearn.model_selection import train_test_split\n",
    "from sklearn.linear_model import LinearRegression\n",
    "from sklearn.tree import DecisionTreeRegressor\n",
    "from sklearn.ensemble import RandomForestRegressor\n",
    "from sklearn.metrics import mean_absolute_error\n",
    "import matplotlib.pyplot as plt\n",
    "from sklearn.preprocessing import StandardScaler\n",
    "from sklearn.metrics import accuracy_score\n",
    "from sklearn.metrics import recall_score\n",
    "from sklearn.metrics import precision_score, f1_score\n",
    "from sklearn.utils import shuffle\n",
    "from sklearn.metrics import precision_recall_curve\n",
    "from sklearn.metrics import roc_curve\n",
    "from sklearn.metrics import roc_auc_score\n",
    "from sklearn.metrics import r2_score\n",
    "from sklearn.tree import DecisionTreeClassifier\n",
    "from sklearn.ensemble import RandomForestClassifier\n",
    "from sklearn.linear_model import LogisticRegression\n",
    "from sklearn.metrics import confusion_matrix, ConfusionMatrixDisplay\n",
    "from sklearn.metrics import plot_confusion_matrix\n",
    "from tqdm import tqdm\n",
    "import numpy as np\n",
    "import random"
   ]
  },
  {
   "cell_type": "code",
   "execution_count": 15,
   "metadata": {},
   "outputs": [
    {
     "name": "stdout",
     "output_type": "stream",
     "text": [
      "Collecting phik\n",
      "  Downloading phik-0.12.3-cp39-cp39-manylinux_2_17_x86_64.manylinux2014_x86_64.whl (679 kB)\n",
      "\u001b[K     |████████████████████████████████| 679 kB 1.1 MB/s eta 0:00:01\n",
      "\u001b[?25hRequirement already satisfied: matplotlib>=2.2.3 in /opt/conda/lib/python3.9/site-packages (from phik) (3.3.4)\n",
      "Requirement already satisfied: numpy>=1.18.0 in /opt/conda/lib/python3.9/site-packages (from phik) (1.21.1)\n",
      "Requirement already satisfied: scipy>=1.5.2 in /opt/conda/lib/python3.9/site-packages (from phik) (1.9.1)\n",
      "Requirement already satisfied: pandas>=0.25.1 in /opt/conda/lib/python3.9/site-packages (from phik) (1.2.4)\n",
      "Requirement already satisfied: joblib>=0.14.1 in /opt/conda/lib/python3.9/site-packages (from phik) (1.1.0)\n",
      "Requirement already satisfied: kiwisolver>=1.0.1 in /opt/conda/lib/python3.9/site-packages (from matplotlib>=2.2.3->phik) (1.4.4)\n",
      "Requirement already satisfied: python-dateutil>=2.1 in /opt/conda/lib/python3.9/site-packages (from matplotlib>=2.2.3->phik) (2.8.1)\n",
      "Requirement already satisfied: cycler>=0.10 in /opt/conda/lib/python3.9/site-packages (from matplotlib>=2.2.3->phik) (0.11.0)\n",
      "Requirement already satisfied: pillow>=6.2.0 in /opt/conda/lib/python3.9/site-packages (from matplotlib>=2.2.3->phik) (8.4.0)\n",
      "Requirement already satisfied: pyparsing!=2.0.4,!=2.1.2,!=2.1.6,>=2.0.3 in /opt/conda/lib/python3.9/site-packages (from matplotlib>=2.2.3->phik) (2.4.7)\n",
      "Requirement already satisfied: pytz>=2017.3 in /opt/conda/lib/python3.9/site-packages (from pandas>=0.25.1->phik) (2021.1)\n",
      "Requirement already satisfied: six>=1.5 in /opt/conda/lib/python3.9/site-packages (from python-dateutil>=2.1->matplotlib>=2.2.3->phik) (1.16.0)\n",
      "Installing collected packages: phik\n",
      "Successfully installed phik-0.12.3\n"
     ]
    }
   ],
   "source": [
    "# !pip install phik"
   ]
  },
  {
   "cell_type": "code",
   "execution_count": 16,
   "metadata": {},
   "outputs": [],
   "source": [
    "import phik\n",
    "from phik import resources, report"
   ]
  },
  {
   "cell_type": "markdown",
   "metadata": {},
   "source": [
    "<div class=\"alert alert-block alert-success\">\n",
    "<b>Успех:</b> Импорты на месте\n",
    "</div>\n"
   ]
  },
  {
   "cell_type": "markdown",
   "metadata": {},
   "source": [
    "## Подготовка данных"
   ]
  },
  {
   "cell_type": "code",
   "execution_count": 4,
   "metadata": {},
   "outputs": [],
   "source": [
    "data = pd.read_csv('/datasets/Churn.csv')"
   ]
  },
  {
   "cell_type": "code",
   "execution_count": 5,
   "metadata": {},
   "outputs": [
    {
     "data": {
      "text/html": [
       "<div>\n",
       "<style scoped>\n",
       "    .dataframe tbody tr th:only-of-type {\n",
       "        vertical-align: middle;\n",
       "    }\n",
       "\n",
       "    .dataframe tbody tr th {\n",
       "        vertical-align: top;\n",
       "    }\n",
       "\n",
       "    .dataframe thead th {\n",
       "        text-align: right;\n",
       "    }\n",
       "</style>\n",
       "<table border=\"1\" class=\"dataframe\">\n",
       "  <thead>\n",
       "    <tr style=\"text-align: right;\">\n",
       "      <th></th>\n",
       "      <th>RowNumber</th>\n",
       "      <th>CustomerId</th>\n",
       "      <th>Surname</th>\n",
       "      <th>CreditScore</th>\n",
       "      <th>Geography</th>\n",
       "      <th>Gender</th>\n",
       "      <th>Age</th>\n",
       "      <th>Tenure</th>\n",
       "      <th>Balance</th>\n",
       "      <th>NumOfProducts</th>\n",
       "      <th>HasCrCard</th>\n",
       "      <th>IsActiveMember</th>\n",
       "      <th>EstimatedSalary</th>\n",
       "      <th>Exited</th>\n",
       "    </tr>\n",
       "  </thead>\n",
       "  <tbody>\n",
       "    <tr>\n",
       "      <th>0</th>\n",
       "      <td>1</td>\n",
       "      <td>15634602</td>\n",
       "      <td>Hargrave</td>\n",
       "      <td>619</td>\n",
       "      <td>France</td>\n",
       "      <td>Female</td>\n",
       "      <td>42</td>\n",
       "      <td>2.0</td>\n",
       "      <td>0.00</td>\n",
       "      <td>1</td>\n",
       "      <td>1</td>\n",
       "      <td>1</td>\n",
       "      <td>101348.88</td>\n",
       "      <td>1</td>\n",
       "    </tr>\n",
       "    <tr>\n",
       "      <th>1</th>\n",
       "      <td>2</td>\n",
       "      <td>15647311</td>\n",
       "      <td>Hill</td>\n",
       "      <td>608</td>\n",
       "      <td>Spain</td>\n",
       "      <td>Female</td>\n",
       "      <td>41</td>\n",
       "      <td>1.0</td>\n",
       "      <td>83807.86</td>\n",
       "      <td>1</td>\n",
       "      <td>0</td>\n",
       "      <td>1</td>\n",
       "      <td>112542.58</td>\n",
       "      <td>0</td>\n",
       "    </tr>\n",
       "    <tr>\n",
       "      <th>2</th>\n",
       "      <td>3</td>\n",
       "      <td>15619304</td>\n",
       "      <td>Onio</td>\n",
       "      <td>502</td>\n",
       "      <td>France</td>\n",
       "      <td>Female</td>\n",
       "      <td>42</td>\n",
       "      <td>8.0</td>\n",
       "      <td>159660.80</td>\n",
       "      <td>3</td>\n",
       "      <td>1</td>\n",
       "      <td>0</td>\n",
       "      <td>113931.57</td>\n",
       "      <td>1</td>\n",
       "    </tr>\n",
       "    <tr>\n",
       "      <th>3</th>\n",
       "      <td>4</td>\n",
       "      <td>15701354</td>\n",
       "      <td>Boni</td>\n",
       "      <td>699</td>\n",
       "      <td>France</td>\n",
       "      <td>Female</td>\n",
       "      <td>39</td>\n",
       "      <td>1.0</td>\n",
       "      <td>0.00</td>\n",
       "      <td>2</td>\n",
       "      <td>0</td>\n",
       "      <td>0</td>\n",
       "      <td>93826.63</td>\n",
       "      <td>0</td>\n",
       "    </tr>\n",
       "    <tr>\n",
       "      <th>4</th>\n",
       "      <td>5</td>\n",
       "      <td>15737888</td>\n",
       "      <td>Mitchell</td>\n",
       "      <td>850</td>\n",
       "      <td>Spain</td>\n",
       "      <td>Female</td>\n",
       "      <td>43</td>\n",
       "      <td>2.0</td>\n",
       "      <td>125510.82</td>\n",
       "      <td>1</td>\n",
       "      <td>1</td>\n",
       "      <td>1</td>\n",
       "      <td>79084.10</td>\n",
       "      <td>0</td>\n",
       "    </tr>\n",
       "    <tr>\n",
       "      <th>5</th>\n",
       "      <td>6</td>\n",
       "      <td>15574012</td>\n",
       "      <td>Chu</td>\n",
       "      <td>645</td>\n",
       "      <td>Spain</td>\n",
       "      <td>Male</td>\n",
       "      <td>44</td>\n",
       "      <td>8.0</td>\n",
       "      <td>113755.78</td>\n",
       "      <td>2</td>\n",
       "      <td>1</td>\n",
       "      <td>0</td>\n",
       "      <td>149756.71</td>\n",
       "      <td>1</td>\n",
       "    </tr>\n",
       "    <tr>\n",
       "      <th>6</th>\n",
       "      <td>7</td>\n",
       "      <td>15592531</td>\n",
       "      <td>Bartlett</td>\n",
       "      <td>822</td>\n",
       "      <td>France</td>\n",
       "      <td>Male</td>\n",
       "      <td>50</td>\n",
       "      <td>7.0</td>\n",
       "      <td>0.00</td>\n",
       "      <td>2</td>\n",
       "      <td>1</td>\n",
       "      <td>1</td>\n",
       "      <td>10062.80</td>\n",
       "      <td>0</td>\n",
       "    </tr>\n",
       "    <tr>\n",
       "      <th>7</th>\n",
       "      <td>8</td>\n",
       "      <td>15656148</td>\n",
       "      <td>Obinna</td>\n",
       "      <td>376</td>\n",
       "      <td>Germany</td>\n",
       "      <td>Female</td>\n",
       "      <td>29</td>\n",
       "      <td>4.0</td>\n",
       "      <td>115046.74</td>\n",
       "      <td>4</td>\n",
       "      <td>1</td>\n",
       "      <td>0</td>\n",
       "      <td>119346.88</td>\n",
       "      <td>1</td>\n",
       "    </tr>\n",
       "    <tr>\n",
       "      <th>8</th>\n",
       "      <td>9</td>\n",
       "      <td>15792365</td>\n",
       "      <td>He</td>\n",
       "      <td>501</td>\n",
       "      <td>France</td>\n",
       "      <td>Male</td>\n",
       "      <td>44</td>\n",
       "      <td>4.0</td>\n",
       "      <td>142051.07</td>\n",
       "      <td>2</td>\n",
       "      <td>0</td>\n",
       "      <td>1</td>\n",
       "      <td>74940.50</td>\n",
       "      <td>0</td>\n",
       "    </tr>\n",
       "    <tr>\n",
       "      <th>9</th>\n",
       "      <td>10</td>\n",
       "      <td>15592389</td>\n",
       "      <td>H?</td>\n",
       "      <td>684</td>\n",
       "      <td>France</td>\n",
       "      <td>Male</td>\n",
       "      <td>27</td>\n",
       "      <td>2.0</td>\n",
       "      <td>134603.88</td>\n",
       "      <td>1</td>\n",
       "      <td>1</td>\n",
       "      <td>1</td>\n",
       "      <td>71725.73</td>\n",
       "      <td>0</td>\n",
       "    </tr>\n",
       "  </tbody>\n",
       "</table>\n",
       "</div>"
      ],
      "text/plain": [
       "   RowNumber  CustomerId   Surname  CreditScore Geography  Gender  Age  \\\n",
       "0          1    15634602  Hargrave          619    France  Female   42   \n",
       "1          2    15647311      Hill          608     Spain  Female   41   \n",
       "2          3    15619304      Onio          502    France  Female   42   \n",
       "3          4    15701354      Boni          699    France  Female   39   \n",
       "4          5    15737888  Mitchell          850     Spain  Female   43   \n",
       "5          6    15574012       Chu          645     Spain    Male   44   \n",
       "6          7    15592531  Bartlett          822    France    Male   50   \n",
       "7          8    15656148    Obinna          376   Germany  Female   29   \n",
       "8          9    15792365        He          501    France    Male   44   \n",
       "9         10    15592389        H?          684    France    Male   27   \n",
       "\n",
       "   Tenure    Balance  NumOfProducts  HasCrCard  IsActiveMember  \\\n",
       "0     2.0       0.00              1          1               1   \n",
       "1     1.0   83807.86              1          0               1   \n",
       "2     8.0  159660.80              3          1               0   \n",
       "3     1.0       0.00              2          0               0   \n",
       "4     2.0  125510.82              1          1               1   \n",
       "5     8.0  113755.78              2          1               0   \n",
       "6     7.0       0.00              2          1               1   \n",
       "7     4.0  115046.74              4          1               0   \n",
       "8     4.0  142051.07              2          0               1   \n",
       "9     2.0  134603.88              1          1               1   \n",
       "\n",
       "   EstimatedSalary  Exited  \n",
       "0        101348.88       1  \n",
       "1        112542.58       0  \n",
       "2        113931.57       1  \n",
       "3         93826.63       0  \n",
       "4         79084.10       0  \n",
       "5        149756.71       1  \n",
       "6         10062.80       0  \n",
       "7        119346.88       1  \n",
       "8         74940.50       0  \n",
       "9         71725.73       0  "
      ]
     },
     "metadata": {},
     "output_type": "display_data"
    }
   ],
   "source": [
    "display(data.head(10))"
   ]
  },
  {
   "cell_type": "markdown",
   "metadata": {},
   "source": [
    "В представленом датафрейме мы видим данные соследующими признаками:<br>\n",
    "Признаки:<br>\n",
    "<li>RowNumber — индекс строки в данных</li>\n",
    "<li>CustomerId — уникальный идентификатор клиента</li>\n",
    "<li>Surname — фамилия</li>\n",
    "<li>CreditScore — кредитный рейтинг</li>\n",
    "<li>Geography — страна проживания</li>\n",
    "<li>Gender — пол</li>\n",
    "<li>Age — возраст</li>\n",
    "<li>Tenure — сколько лет человек является клиентом банка</li>\n",
    "<li>Balance — баланс на счёте</li>\n",
    "<li>NumOfProducts — количество продуктов банка, используемых клиентом</li>\n",
    "<li>HasCrCard — наличие кредитной карты</li>\n",
    "<li>IsActiveMember — активность клиента</li>\n",
    "<li>EstimatedSalary — предполагаемая зарплата</li>\n",
    "Целевой признак:<br>\n",
    "<li>Exited — факт ухода клиента"
   ]
  },
  {
   "cell_type": "code",
   "execution_count": 6,
   "metadata": {},
   "outputs": [
    {
     "name": "stdout",
     "output_type": "stream",
     "text": [
      "<class 'pandas.core.frame.DataFrame'>\n",
      "RangeIndex: 10000 entries, 0 to 9999\n",
      "Data columns (total 14 columns):\n",
      " #   Column           Non-Null Count  Dtype  \n",
      "---  ------           --------------  -----  \n",
      " 0   RowNumber        10000 non-null  int64  \n",
      " 1   CustomerId       10000 non-null  int64  \n",
      " 2   Surname          10000 non-null  object \n",
      " 3   CreditScore      10000 non-null  int64  \n",
      " 4   Geography        10000 non-null  object \n",
      " 5   Gender           10000 non-null  object \n",
      " 6   Age              10000 non-null  int64  \n",
      " 7   Tenure           9091 non-null   float64\n",
      " 8   Balance          10000 non-null  float64\n",
      " 9   NumOfProducts    10000 non-null  int64  \n",
      " 10  HasCrCard        10000 non-null  int64  \n",
      " 11  IsActiveMember   10000 non-null  int64  \n",
      " 12  EstimatedSalary  10000 non-null  float64\n",
      " 13  Exited           10000 non-null  int64  \n",
      "dtypes: float64(3), int64(8), object(3)\n",
      "memory usage: 1.1+ MB\n"
     ]
    }
   ],
   "source": [
    "data.info()"
   ]
  },
  {
   "cell_type": "markdown",
   "metadata": {},
   "source": [
    "В поле Tenure есть пропуски данных. Это поле указывает сколько лет человек является клиентом банка. Посчитаем сколько строк имеют пропуски."
   ]
  },
  {
   "cell_type": "code",
   "execution_count": 7,
   "metadata": {},
   "outputs": [
    {
     "data": {
      "text/plain": [
       "RowNumber            0\n",
       "CustomerId           0\n",
       "Surname              0\n",
       "CreditScore          0\n",
       "Geography            0\n",
       "Gender               0\n",
       "Age                  0\n",
       "Tenure             909\n",
       "Balance              0\n",
       "NumOfProducts        0\n",
       "HasCrCard            0\n",
       "IsActiveMember       0\n",
       "EstimatedSalary      0\n",
       "Exited               0\n",
       "dtype: int64"
      ]
     },
     "execution_count": 7,
     "metadata": {},
     "output_type": "execute_result"
    }
   ],
   "source": [
    "data.isna().sum()"
   ]
  },
  {
   "cell_type": "markdown",
   "metadata": {},
   "source": [
    "Природа пропусков не понятна, почему это поле не заполнено. Так как от общего датафрейма, эти данные составляют 9%, а также не представляется возможным спрогнозировать что здесь должно быть, предлагаю эти строки удалить."
   ]
  },
  {
   "cell_type": "code",
   "execution_count": 8,
   "metadata": {},
   "outputs": [
    {
     "name": "stdout",
     "output_type": "stream",
     "text": [
      "<class 'pandas.core.frame.DataFrame'>\n",
      "RangeIndex: 10000 entries, 0 to 9999\n",
      "Data columns (total 14 columns):\n",
      " #   Column           Non-Null Count  Dtype  \n",
      "---  ------           --------------  -----  \n",
      " 0   RowNumber        10000 non-null  int64  \n",
      " 1   CustomerId       10000 non-null  int64  \n",
      " 2   Surname          10000 non-null  object \n",
      " 3   CreditScore      10000 non-null  int64  \n",
      " 4   Geography        10000 non-null  object \n",
      " 5   Gender           10000 non-null  object \n",
      " 6   Age              10000 non-null  int64  \n",
      " 7   Tenure           10000 non-null  float64\n",
      " 8   Balance          10000 non-null  float64\n",
      " 9   NumOfProducts    10000 non-null  int64  \n",
      " 10  HasCrCard        10000 non-null  int64  \n",
      " 11  IsActiveMember   10000 non-null  int64  \n",
      " 12  EstimatedSalary  10000 non-null  float64\n",
      " 13  Exited           10000 non-null  int64  \n",
      "dtypes: float64(3), int64(8), object(3)\n",
      "memory usage: 1.1+ MB\n"
     ]
    }
   ],
   "source": [
    "#data = data.dropna(subset=['Tenure'])\n",
    "data['Tenure'].fillna(random.randint(1,27), inplace =True)\n",
    "data.info()"
   ]
  },
  {
   "cell_type": "code",
   "execution_count": 9,
   "metadata": {},
   "outputs": [
    {
     "data": {
      "text/plain": [
       "array([ 2.,  1.,  8.,  7.,  4.,  6.,  3., 10.,  5.,  9.,  0.])"
      ]
     },
     "execution_count": 9,
     "metadata": {},
     "output_type": "execute_result"
    }
   ],
   "source": [
    "data['Tenure'].unique()"
   ]
  },
  {
   "cell_type": "markdown",
   "metadata": {},
   "source": [
    "\n",
    "<div class=\"alert alert-block alert-info\">\n",
    "<b>Совет:</b> Пропуски проанализированы и решение обработать их таким образом - допустимое . Но мне кажется, что можно не терять данные, а так как природа пропусков неизвестна можно заполнить их случайными числами, чтобы не влиять на распределение или использовать медиану .\n",
    "</div>\n"
   ]
  },
  {
   "cell_type": "markdown",
   "metadata": {},
   "source": [
    "<div class=\"alert alert-block alert-warning\">\n",
    "<b>Изменения:</b> Заменил пропуски случайными числами\n",
    "</div>"
   ]
  },
  {
   "cell_type": "code",
   "execution_count": 10,
   "metadata": {},
   "outputs": [
    {
     "data": {
      "text/plain": [
       "0"
      ]
     },
     "execution_count": 10,
     "metadata": {},
     "output_type": "execute_result"
    }
   ],
   "source": [
    "data.duplicated().sum()"
   ]
  },
  {
   "cell_type": "code",
   "execution_count": 11,
   "metadata": {},
   "outputs": [
    {
     "data": {
      "text/html": [
       "<div>\n",
       "<style scoped>\n",
       "    .dataframe tbody tr th:only-of-type {\n",
       "        vertical-align: middle;\n",
       "    }\n",
       "\n",
       "    .dataframe tbody tr th {\n",
       "        vertical-align: top;\n",
       "    }\n",
       "\n",
       "    .dataframe thead th {\n",
       "        text-align: right;\n",
       "    }\n",
       "</style>\n",
       "<table border=\"1\" class=\"dataframe\">\n",
       "  <thead>\n",
       "    <tr style=\"text-align: right;\">\n",
       "      <th></th>\n",
       "      <th>RowNumber</th>\n",
       "      <th>CustomerId</th>\n",
       "      <th>CreditScore</th>\n",
       "      <th>Age</th>\n",
       "      <th>Tenure</th>\n",
       "      <th>Balance</th>\n",
       "      <th>NumOfProducts</th>\n",
       "      <th>HasCrCard</th>\n",
       "      <th>IsActiveMember</th>\n",
       "      <th>EstimatedSalary</th>\n",
       "      <th>Exited</th>\n",
       "    </tr>\n",
       "  </thead>\n",
       "  <tbody>\n",
       "    <tr>\n",
       "      <th>count</th>\n",
       "      <td>10000.00000</td>\n",
       "      <td>1.000000e+04</td>\n",
       "      <td>10000.000000</td>\n",
       "      <td>10000.000000</td>\n",
       "      <td>10000.000000</td>\n",
       "      <td>10000.000000</td>\n",
       "      <td>10000.000000</td>\n",
       "      <td>10000.00000</td>\n",
       "      <td>10000.000000</td>\n",
       "      <td>10000.000000</td>\n",
       "      <td>10000.000000</td>\n",
       "    </tr>\n",
       "    <tr>\n",
       "      <th>mean</th>\n",
       "      <td>5000.50000</td>\n",
       "      <td>1.569094e+07</td>\n",
       "      <td>650.528800</td>\n",
       "      <td>38.921800</td>\n",
       "      <td>5.361500</td>\n",
       "      <td>76485.889288</td>\n",
       "      <td>1.530200</td>\n",
       "      <td>0.70550</td>\n",
       "      <td>0.515100</td>\n",
       "      <td>100090.239881</td>\n",
       "      <td>0.203700</td>\n",
       "    </tr>\n",
       "    <tr>\n",
       "      <th>std</th>\n",
       "      <td>2886.89568</td>\n",
       "      <td>7.193619e+04</td>\n",
       "      <td>96.653299</td>\n",
       "      <td>10.487806</td>\n",
       "      <td>2.990236</td>\n",
       "      <td>62397.405202</td>\n",
       "      <td>0.581654</td>\n",
       "      <td>0.45584</td>\n",
       "      <td>0.499797</td>\n",
       "      <td>57510.492818</td>\n",
       "      <td>0.402769</td>\n",
       "    </tr>\n",
       "    <tr>\n",
       "      <th>min</th>\n",
       "      <td>1.00000</td>\n",
       "      <td>1.556570e+07</td>\n",
       "      <td>350.000000</td>\n",
       "      <td>18.000000</td>\n",
       "      <td>0.000000</td>\n",
       "      <td>0.000000</td>\n",
       "      <td>1.000000</td>\n",
       "      <td>0.00000</td>\n",
       "      <td>0.000000</td>\n",
       "      <td>11.580000</td>\n",
       "      <td>0.000000</td>\n",
       "    </tr>\n",
       "    <tr>\n",
       "      <th>25%</th>\n",
       "      <td>2500.75000</td>\n",
       "      <td>1.562853e+07</td>\n",
       "      <td>584.000000</td>\n",
       "      <td>32.000000</td>\n",
       "      <td>3.000000</td>\n",
       "      <td>0.000000</td>\n",
       "      <td>1.000000</td>\n",
       "      <td>0.00000</td>\n",
       "      <td>0.000000</td>\n",
       "      <td>51002.110000</td>\n",
       "      <td>0.000000</td>\n",
       "    </tr>\n",
       "    <tr>\n",
       "      <th>50%</th>\n",
       "      <td>5000.50000</td>\n",
       "      <td>1.569074e+07</td>\n",
       "      <td>652.000000</td>\n",
       "      <td>37.000000</td>\n",
       "      <td>5.000000</td>\n",
       "      <td>97198.540000</td>\n",
       "      <td>1.000000</td>\n",
       "      <td>1.00000</td>\n",
       "      <td>1.000000</td>\n",
       "      <td>100193.915000</td>\n",
       "      <td>0.000000</td>\n",
       "    </tr>\n",
       "    <tr>\n",
       "      <th>75%</th>\n",
       "      <td>7500.25000</td>\n",
       "      <td>1.575323e+07</td>\n",
       "      <td>718.000000</td>\n",
       "      <td>44.000000</td>\n",
       "      <td>8.000000</td>\n",
       "      <td>127644.240000</td>\n",
       "      <td>2.000000</td>\n",
       "      <td>1.00000</td>\n",
       "      <td>1.000000</td>\n",
       "      <td>149388.247500</td>\n",
       "      <td>0.000000</td>\n",
       "    </tr>\n",
       "    <tr>\n",
       "      <th>max</th>\n",
       "      <td>10000.00000</td>\n",
       "      <td>1.581569e+07</td>\n",
       "      <td>850.000000</td>\n",
       "      <td>92.000000</td>\n",
       "      <td>10.000000</td>\n",
       "      <td>250898.090000</td>\n",
       "      <td>4.000000</td>\n",
       "      <td>1.00000</td>\n",
       "      <td>1.000000</td>\n",
       "      <td>199992.480000</td>\n",
       "      <td>1.000000</td>\n",
       "    </tr>\n",
       "  </tbody>\n",
       "</table>\n",
       "</div>"
      ],
      "text/plain": [
       "         RowNumber    CustomerId   CreditScore           Age        Tenure  \\\n",
       "count  10000.00000  1.000000e+04  10000.000000  10000.000000  10000.000000   \n",
       "mean    5000.50000  1.569094e+07    650.528800     38.921800      5.361500   \n",
       "std     2886.89568  7.193619e+04     96.653299     10.487806      2.990236   \n",
       "min        1.00000  1.556570e+07    350.000000     18.000000      0.000000   \n",
       "25%     2500.75000  1.562853e+07    584.000000     32.000000      3.000000   \n",
       "50%     5000.50000  1.569074e+07    652.000000     37.000000      5.000000   \n",
       "75%     7500.25000  1.575323e+07    718.000000     44.000000      8.000000   \n",
       "max    10000.00000  1.581569e+07    850.000000     92.000000     10.000000   \n",
       "\n",
       "             Balance  NumOfProducts    HasCrCard  IsActiveMember  \\\n",
       "count   10000.000000   10000.000000  10000.00000    10000.000000   \n",
       "mean    76485.889288       1.530200      0.70550        0.515100   \n",
       "std     62397.405202       0.581654      0.45584        0.499797   \n",
       "min         0.000000       1.000000      0.00000        0.000000   \n",
       "25%         0.000000       1.000000      0.00000        0.000000   \n",
       "50%     97198.540000       1.000000      1.00000        1.000000   \n",
       "75%    127644.240000       2.000000      1.00000        1.000000   \n",
       "max    250898.090000       4.000000      1.00000        1.000000   \n",
       "\n",
       "       EstimatedSalary        Exited  \n",
       "count     10000.000000  10000.000000  \n",
       "mean     100090.239881      0.203700  \n",
       "std       57510.492818      0.402769  \n",
       "min          11.580000      0.000000  \n",
       "25%       51002.110000      0.000000  \n",
       "50%      100193.915000      0.000000  \n",
       "75%      149388.247500      0.000000  \n",
       "max      199992.480000      1.000000  "
      ]
     },
     "execution_count": 11,
     "metadata": {},
     "output_type": "execute_result"
    }
   ],
   "source": [
    "data.describe()"
   ]
  },
  {
   "cell_type": "code",
   "execution_count": 12,
   "metadata": {},
   "outputs": [
    {
     "data": {
      "text/html": [
       "<div>\n",
       "<style scoped>\n",
       "    .dataframe tbody tr th:only-of-type {\n",
       "        vertical-align: middle;\n",
       "    }\n",
       "\n",
       "    .dataframe tbody tr th {\n",
       "        vertical-align: top;\n",
       "    }\n",
       "\n",
       "    .dataframe thead th {\n",
       "        text-align: right;\n",
       "    }\n",
       "</style>\n",
       "<table border=\"1\" class=\"dataframe\">\n",
       "  <thead>\n",
       "    <tr style=\"text-align: right;\">\n",
       "      <th></th>\n",
       "      <th>RowNumber</th>\n",
       "      <th>CustomerId</th>\n",
       "      <th>CreditScore</th>\n",
       "      <th>Age</th>\n",
       "      <th>Tenure</th>\n",
       "      <th>Balance</th>\n",
       "      <th>NumOfProducts</th>\n",
       "      <th>HasCrCard</th>\n",
       "      <th>IsActiveMember</th>\n",
       "      <th>EstimatedSalary</th>\n",
       "      <th>Exited</th>\n",
       "    </tr>\n",
       "  </thead>\n",
       "  <tbody>\n",
       "    <tr>\n",
       "      <th>RowNumber</th>\n",
       "      <td>1.000000</td>\n",
       "      <td>0.004202</td>\n",
       "      <td>0.005840</td>\n",
       "      <td>0.000783</td>\n",
       "      <td>-0.012091</td>\n",
       "      <td>-0.009067</td>\n",
       "      <td>0.007246</td>\n",
       "      <td>0.000599</td>\n",
       "      <td>0.012044</td>\n",
       "      <td>-0.005988</td>\n",
       "      <td>-0.016571</td>\n",
       "    </tr>\n",
       "    <tr>\n",
       "      <th>CustomerId</th>\n",
       "      <td>0.004202</td>\n",
       "      <td>1.000000</td>\n",
       "      <td>0.005308</td>\n",
       "      <td>0.009497</td>\n",
       "      <td>-0.020669</td>\n",
       "      <td>-0.012419</td>\n",
       "      <td>0.016972</td>\n",
       "      <td>-0.014025</td>\n",
       "      <td>0.001665</td>\n",
       "      <td>0.015271</td>\n",
       "      <td>-0.006248</td>\n",
       "    </tr>\n",
       "    <tr>\n",
       "      <th>CreditScore</th>\n",
       "      <td>0.005840</td>\n",
       "      <td>0.005308</td>\n",
       "      <td>1.000000</td>\n",
       "      <td>-0.003965</td>\n",
       "      <td>-0.002670</td>\n",
       "      <td>0.006268</td>\n",
       "      <td>0.012238</td>\n",
       "      <td>-0.005458</td>\n",
       "      <td>0.025651</td>\n",
       "      <td>-0.001384</td>\n",
       "      <td>-0.027094</td>\n",
       "    </tr>\n",
       "    <tr>\n",
       "      <th>Age</th>\n",
       "      <td>0.000783</td>\n",
       "      <td>0.009497</td>\n",
       "      <td>-0.003965</td>\n",
       "      <td>1.000000</td>\n",
       "      <td>-0.014811</td>\n",
       "      <td>0.028308</td>\n",
       "      <td>-0.030680</td>\n",
       "      <td>-0.011721</td>\n",
       "      <td>0.085472</td>\n",
       "      <td>-0.007201</td>\n",
       "      <td>0.285323</td>\n",
       "    </tr>\n",
       "    <tr>\n",
       "      <th>Tenure</th>\n",
       "      <td>-0.012091</td>\n",
       "      <td>-0.020669</td>\n",
       "      <td>-0.002670</td>\n",
       "      <td>-0.014811</td>\n",
       "      <td>1.000000</td>\n",
       "      <td>-0.007673</td>\n",
       "      <td>0.010541</td>\n",
       "      <td>0.025358</td>\n",
       "      <td>-0.029450</td>\n",
       "      <td>0.007351</td>\n",
       "      <td>-0.015476</td>\n",
       "    </tr>\n",
       "    <tr>\n",
       "      <th>Balance</th>\n",
       "      <td>-0.009067</td>\n",
       "      <td>-0.012419</td>\n",
       "      <td>0.006268</td>\n",
       "      <td>0.028308</td>\n",
       "      <td>-0.007673</td>\n",
       "      <td>1.000000</td>\n",
       "      <td>-0.304180</td>\n",
       "      <td>-0.014858</td>\n",
       "      <td>-0.010084</td>\n",
       "      <td>0.012797</td>\n",
       "      <td>0.118533</td>\n",
       "    </tr>\n",
       "    <tr>\n",
       "      <th>NumOfProducts</th>\n",
       "      <td>0.007246</td>\n",
       "      <td>0.016972</td>\n",
       "      <td>0.012238</td>\n",
       "      <td>-0.030680</td>\n",
       "      <td>0.010541</td>\n",
       "      <td>-0.304180</td>\n",
       "      <td>1.000000</td>\n",
       "      <td>0.003183</td>\n",
       "      <td>0.009612</td>\n",
       "      <td>0.014204</td>\n",
       "      <td>-0.047820</td>\n",
       "    </tr>\n",
       "    <tr>\n",
       "      <th>HasCrCard</th>\n",
       "      <td>0.000599</td>\n",
       "      <td>-0.014025</td>\n",
       "      <td>-0.005458</td>\n",
       "      <td>-0.011721</td>\n",
       "      <td>0.025358</td>\n",
       "      <td>-0.014858</td>\n",
       "      <td>0.003183</td>\n",
       "      <td>1.000000</td>\n",
       "      <td>-0.011866</td>\n",
       "      <td>-0.009933</td>\n",
       "      <td>-0.007138</td>\n",
       "    </tr>\n",
       "    <tr>\n",
       "      <th>IsActiveMember</th>\n",
       "      <td>0.012044</td>\n",
       "      <td>0.001665</td>\n",
       "      <td>0.025651</td>\n",
       "      <td>0.085472</td>\n",
       "      <td>-0.029450</td>\n",
       "      <td>-0.010084</td>\n",
       "      <td>0.009612</td>\n",
       "      <td>-0.011866</td>\n",
       "      <td>1.000000</td>\n",
       "      <td>-0.011421</td>\n",
       "      <td>-0.156128</td>\n",
       "    </tr>\n",
       "    <tr>\n",
       "      <th>EstimatedSalary</th>\n",
       "      <td>-0.005988</td>\n",
       "      <td>0.015271</td>\n",
       "      <td>-0.001384</td>\n",
       "      <td>-0.007201</td>\n",
       "      <td>0.007351</td>\n",
       "      <td>0.012797</td>\n",
       "      <td>0.014204</td>\n",
       "      <td>-0.009933</td>\n",
       "      <td>-0.011421</td>\n",
       "      <td>1.000000</td>\n",
       "      <td>0.012097</td>\n",
       "    </tr>\n",
       "    <tr>\n",
       "      <th>Exited</th>\n",
       "      <td>-0.016571</td>\n",
       "      <td>-0.006248</td>\n",
       "      <td>-0.027094</td>\n",
       "      <td>0.285323</td>\n",
       "      <td>-0.015476</td>\n",
       "      <td>0.118533</td>\n",
       "      <td>-0.047820</td>\n",
       "      <td>-0.007138</td>\n",
       "      <td>-0.156128</td>\n",
       "      <td>0.012097</td>\n",
       "      <td>1.000000</td>\n",
       "    </tr>\n",
       "  </tbody>\n",
       "</table>\n",
       "</div>"
      ],
      "text/plain": [
       "                 RowNumber  CustomerId  CreditScore       Age    Tenure  \\\n",
       "RowNumber         1.000000    0.004202     0.005840  0.000783 -0.012091   \n",
       "CustomerId        0.004202    1.000000     0.005308  0.009497 -0.020669   \n",
       "CreditScore       0.005840    0.005308     1.000000 -0.003965 -0.002670   \n",
       "Age               0.000783    0.009497    -0.003965  1.000000 -0.014811   \n",
       "Tenure           -0.012091   -0.020669    -0.002670 -0.014811  1.000000   \n",
       "Balance          -0.009067   -0.012419     0.006268  0.028308 -0.007673   \n",
       "NumOfProducts     0.007246    0.016972     0.012238 -0.030680  0.010541   \n",
       "HasCrCard         0.000599   -0.014025    -0.005458 -0.011721  0.025358   \n",
       "IsActiveMember    0.012044    0.001665     0.025651  0.085472 -0.029450   \n",
       "EstimatedSalary  -0.005988    0.015271    -0.001384 -0.007201  0.007351   \n",
       "Exited           -0.016571   -0.006248    -0.027094  0.285323 -0.015476   \n",
       "\n",
       "                  Balance  NumOfProducts  HasCrCard  IsActiveMember  \\\n",
       "RowNumber       -0.009067       0.007246   0.000599        0.012044   \n",
       "CustomerId      -0.012419       0.016972  -0.014025        0.001665   \n",
       "CreditScore      0.006268       0.012238  -0.005458        0.025651   \n",
       "Age              0.028308      -0.030680  -0.011721        0.085472   \n",
       "Tenure          -0.007673       0.010541   0.025358       -0.029450   \n",
       "Balance          1.000000      -0.304180  -0.014858       -0.010084   \n",
       "NumOfProducts   -0.304180       1.000000   0.003183        0.009612   \n",
       "HasCrCard       -0.014858       0.003183   1.000000       -0.011866   \n",
       "IsActiveMember  -0.010084       0.009612  -0.011866        1.000000   \n",
       "EstimatedSalary  0.012797       0.014204  -0.009933       -0.011421   \n",
       "Exited           0.118533      -0.047820  -0.007138       -0.156128   \n",
       "\n",
       "                 EstimatedSalary    Exited  \n",
       "RowNumber              -0.005988 -0.016571  \n",
       "CustomerId              0.015271 -0.006248  \n",
       "CreditScore            -0.001384 -0.027094  \n",
       "Age                    -0.007201  0.285323  \n",
       "Tenure                  0.007351 -0.015476  \n",
       "Balance                 0.012797  0.118533  \n",
       "NumOfProducts           0.014204 -0.047820  \n",
       "HasCrCard              -0.009933 -0.007138  \n",
       "IsActiveMember         -0.011421 -0.156128  \n",
       "EstimatedSalary         1.000000  0.012097  \n",
       "Exited                  0.012097  1.000000  "
      ]
     },
     "execution_count": 12,
     "metadata": {},
     "output_type": "execute_result"
    }
   ],
   "source": [
    "data.corr()"
   ]
  },
  {
   "cell_type": "code",
   "execution_count": 13,
   "metadata": {
    "scrolled": true
   },
   "outputs": [
    {
     "data": {
      "image/png": "[encoded data removed]",
      "text/plain": [
       "<Figure size 960x800 with 2 Axes>"
      ]
     },
     "metadata": {
      "needs_background": "light"
     },
     "output_type": "display_data"
    }
   ],
   "source": [
    "# Plot\n",
    "plt.figure(figsize=(12,10), dpi= 80)\n",
    "sns.heatmap(data.corr(), xticklabels=data.corr().columns, yticklabels=data.corr().columns, cmap='RdYlGn', center=0, annot=True)\n",
    "\n",
    "# Decorations\n",
    "plt.title('Связи между признаками', fontsize=22)\n",
    "plt.xticks(fontsize=12)\n",
    "plt.yticks(fontsize=12)\n",
    "plt.show()"
   ]
  },
  {
   "cell_type": "code",
   "execution_count": 17,
   "metadata": {},
   "outputs": [
    {
     "name": "stdout",
     "output_type": "stream",
     "text": [
      "interval columns not set, guessing: ['RowNumber', 'CustomerId', 'CreditScore', 'Age', 'Tenure', 'Balance', 'NumOfProducts', 'HasCrCard', 'IsActiveMember', 'EstimatedSalary', 'Exited']\n"
     ]
    },
    {
     "name": "stderr",
     "output_type": "stream",
     "text": [
      "/opt/conda/lib/python3.9/site-packages/phik/data_quality.py:59: UserWarning: The number of unique values of variable Surname is large: 2932. Are you sure this is not an interval variable? Analysis for pairs of variables including Surname can be slow.\n",
      "  warnings.warn(\n"
     ]
    },
    {
     "data": {
      "text/html": [
       "<div>\n",
       "<style scoped>\n",
       "    .dataframe tbody tr th:only-of-type {\n",
       "        vertical-align: middle;\n",
       "    }\n",
       "\n",
       "    .dataframe tbody tr th {\n",
       "        vertical-align: top;\n",
       "    }\n",
       "\n",
       "    .dataframe thead th {\n",
       "        text-align: right;\n",
       "    }\n",
       "</style>\n",
       "<table border=\"1\" class=\"dataframe\">\n",
       "  <thead>\n",
       "    <tr style=\"text-align: right;\">\n",
       "      <th></th>\n",
       "      <th>RowNumber</th>\n",
       "      <th>CustomerId</th>\n",
       "      <th>Surname</th>\n",
       "      <th>CreditScore</th>\n",
       "      <th>Geography</th>\n",
       "      <th>Gender</th>\n",
       "      <th>Age</th>\n",
       "      <th>Tenure</th>\n",
       "      <th>Balance</th>\n",
       "      <th>NumOfProducts</th>\n",
       "      <th>HasCrCard</th>\n",
       "      <th>IsActiveMember</th>\n",
       "      <th>EstimatedSalary</th>\n",
       "      <th>Exited</th>\n",
       "    </tr>\n",
       "  </thead>\n",
       "  <tbody>\n",
       "    <tr>\n",
       "      <th>RowNumber</th>\n",
       "      <td>1.000000</td>\n",
       "      <td>0.000000</td>\n",
       "      <td>0.000000</td>\n",
       "      <td>0.041080</td>\n",
       "      <td>0.030864</td>\n",
       "      <td>0.000000</td>\n",
       "      <td>0.033746</td>\n",
       "      <td>0.013570</td>\n",
       "      <td>0.000000</td>\n",
       "      <td>0.014601</td>\n",
       "      <td>0.010813</td>\n",
       "      <td>0.000000</td>\n",
       "      <td>0.000000</td>\n",
       "      <td>0.000000</td>\n",
       "    </tr>\n",
       "    <tr>\n",
       "      <th>CustomerId</th>\n",
       "      <td>0.000000</td>\n",
       "      <td>1.000000</td>\n",
       "      <td>0.000000</td>\n",
       "      <td>0.018946</td>\n",
       "      <td>0.000000</td>\n",
       "      <td>0.000000</td>\n",
       "      <td>0.042049</td>\n",
       "      <td>0.000000</td>\n",
       "      <td>0.000000</td>\n",
       "      <td>0.009637</td>\n",
       "      <td>0.000000</td>\n",
       "      <td>0.014253</td>\n",
       "      <td>0.000000</td>\n",
       "      <td>0.029595</td>\n",
       "    </tr>\n",
       "    <tr>\n",
       "      <th>Surname</th>\n",
       "      <td>0.000000</td>\n",
       "      <td>0.000000</td>\n",
       "      <td>1.000000</td>\n",
       "      <td>0.242957</td>\n",
       "      <td>0.001476</td>\n",
       "      <td>0.040711</td>\n",
       "      <td>0.333753</td>\n",
       "      <td>0.159682</td>\n",
       "      <td>0.483668</td>\n",
       "      <td>0.201225</td>\n",
       "      <td>0.000000</td>\n",
       "      <td>0.000000</td>\n",
       "      <td>0.083242</td>\n",
       "      <td>0.000000</td>\n",
       "    </tr>\n",
       "    <tr>\n",
       "      <th>CreditScore</th>\n",
       "      <td>0.041080</td>\n",
       "      <td>0.018946</td>\n",
       "      <td>0.242957</td>\n",
       "      <td>1.000000</td>\n",
       "      <td>0.035375</td>\n",
       "      <td>0.000000</td>\n",
       "      <td>0.000000</td>\n",
       "      <td>0.000000</td>\n",
       "      <td>0.000000</td>\n",
       "      <td>0.034645</td>\n",
       "      <td>0.000000</td>\n",
       "      <td>0.038064</td>\n",
       "      <td>0.034215</td>\n",
       "      <td>0.096525</td>\n",
       "    </tr>\n",
       "    <tr>\n",
       "      <th>Geography</th>\n",
       "      <td>0.030864</td>\n",
       "      <td>0.000000</td>\n",
       "      <td>0.001476</td>\n",
       "      <td>0.035375</td>\n",
       "      <td>1.000000</td>\n",
       "      <td>0.013354</td>\n",
       "      <td>0.085025</td>\n",
       "      <td>0.000000</td>\n",
       "      <td>0.463811</td>\n",
       "      <td>0.049418</td>\n",
       "      <td>0.002919</td>\n",
       "      <td>0.010947</td>\n",
       "      <td>0.028372</td>\n",
       "      <td>0.104511</td>\n",
       "    </tr>\n",
       "    <tr>\n",
       "      <th>Gender</th>\n",
       "      <td>0.000000</td>\n",
       "      <td>0.000000</td>\n",
       "      <td>0.040711</td>\n",
       "      <td>0.000000</td>\n",
       "      <td>0.013354</td>\n",
       "      <td>1.000000</td>\n",
       "      <td>0.033815</td>\n",
       "      <td>0.015380</td>\n",
       "      <td>0.000000</td>\n",
       "      <td>0.063174</td>\n",
       "      <td>0.000000</td>\n",
       "      <td>0.031384</td>\n",
       "      <td>0.028019</td>\n",
       "      <td>0.165422</td>\n",
       "    </tr>\n",
       "    <tr>\n",
       "      <th>Age</th>\n",
       "      <td>0.033746</td>\n",
       "      <td>0.042049</td>\n",
       "      <td>0.333753</td>\n",
       "      <td>0.000000</td>\n",
       "      <td>0.085025</td>\n",
       "      <td>0.033815</td>\n",
       "      <td>1.000000</td>\n",
       "      <td>0.043580</td>\n",
       "      <td>0.035357</td>\n",
       "      <td>0.145566</td>\n",
       "      <td>0.016433</td>\n",
       "      <td>0.187434</td>\n",
       "      <td>0.051545</td>\n",
       "      <td>0.487524</td>\n",
       "    </tr>\n",
       "    <tr>\n",
       "      <th>Tenure</th>\n",
       "      <td>0.013570</td>\n",
       "      <td>0.000000</td>\n",
       "      <td>0.159682</td>\n",
       "      <td>0.000000</td>\n",
       "      <td>0.000000</td>\n",
       "      <td>0.015380</td>\n",
       "      <td>0.043580</td>\n",
       "      <td>1.000000</td>\n",
       "      <td>0.058051</td>\n",
       "      <td>0.056991</td>\n",
       "      <td>0.029326</td>\n",
       "      <td>0.022530</td>\n",
       "      <td>0.000000</td>\n",
       "      <td>0.020033</td>\n",
       "    </tr>\n",
       "    <tr>\n",
       "      <th>Balance</th>\n",
       "      <td>0.000000</td>\n",
       "      <td>0.000000</td>\n",
       "      <td>0.483668</td>\n",
       "      <td>0.000000</td>\n",
       "      <td>0.463811</td>\n",
       "      <td>0.000000</td>\n",
       "      <td>0.035357</td>\n",
       "      <td>0.058051</td>\n",
       "      <td>1.000000</td>\n",
       "      <td>0.371385</td>\n",
       "      <td>0.050671</td>\n",
       "      <td>0.018236</td>\n",
       "      <td>0.000000</td>\n",
       "      <td>0.183365</td>\n",
       "    </tr>\n",
       "    <tr>\n",
       "      <th>NumOfProducts</th>\n",
       "      <td>0.014601</td>\n",
       "      <td>0.009637</td>\n",
       "      <td>0.201225</td>\n",
       "      <td>0.034645</td>\n",
       "      <td>0.049418</td>\n",
       "      <td>0.063174</td>\n",
       "      <td>0.145566</td>\n",
       "      <td>0.056991</td>\n",
       "      <td>0.371385</td>\n",
       "      <td>1.000000</td>\n",
       "      <td>0.000000</td>\n",
       "      <td>0.056918</td>\n",
       "      <td>0.031562</td>\n",
       "      <td>0.565084</td>\n",
       "    </tr>\n",
       "    <tr>\n",
       "      <th>HasCrCard</th>\n",
       "      <td>0.010813</td>\n",
       "      <td>0.000000</td>\n",
       "      <td>0.000000</td>\n",
       "      <td>0.000000</td>\n",
       "      <td>0.002919</td>\n",
       "      <td>0.000000</td>\n",
       "      <td>0.016433</td>\n",
       "      <td>0.029326</td>\n",
       "      <td>0.050671</td>\n",
       "      <td>0.000000</td>\n",
       "      <td>1.000000</td>\n",
       "      <td>0.009377</td>\n",
       "      <td>0.000000</td>\n",
       "      <td>0.000000</td>\n",
       "    </tr>\n",
       "    <tr>\n",
       "      <th>IsActiveMember</th>\n",
       "      <td>0.000000</td>\n",
       "      <td>0.014253</td>\n",
       "      <td>0.000000</td>\n",
       "      <td>0.038064</td>\n",
       "      <td>0.010947</td>\n",
       "      <td>0.031384</td>\n",
       "      <td>0.187434</td>\n",
       "      <td>0.022530</td>\n",
       "      <td>0.018236</td>\n",
       "      <td>0.056918</td>\n",
       "      <td>0.009377</td>\n",
       "      <td>1.000000</td>\n",
       "      <td>0.032847</td>\n",
       "      <td>0.241939</td>\n",
       "    </tr>\n",
       "    <tr>\n",
       "      <th>EstimatedSalary</th>\n",
       "      <td>0.000000</td>\n",
       "      <td>0.000000</td>\n",
       "      <td>0.083242</td>\n",
       "      <td>0.034215</td>\n",
       "      <td>0.028372</td>\n",
       "      <td>0.028019</td>\n",
       "      <td>0.051545</td>\n",
       "      <td>0.000000</td>\n",
       "      <td>0.000000</td>\n",
       "      <td>0.031562</td>\n",
       "      <td>0.000000</td>\n",
       "      <td>0.032847</td>\n",
       "      <td>1.000000</td>\n",
       "      <td>0.000000</td>\n",
       "    </tr>\n",
       "    <tr>\n",
       "      <th>Exited</th>\n",
       "      <td>0.000000</td>\n",
       "      <td>0.029595</td>\n",
       "      <td>0.000000</td>\n",
       "      <td>0.096525</td>\n",
       "      <td>0.104511</td>\n",
       "      <td>0.165422</td>\n",
       "      <td>0.487524</td>\n",
       "      <td>0.020033</td>\n",
       "      <td>0.183365</td>\n",
       "      <td>0.565084</td>\n",
       "      <td>0.000000</td>\n",
       "      <td>0.241939</td>\n",
       "      <td>0.000000</td>\n",
       "      <td>1.000000</td>\n",
       "    </tr>\n",
       "  </tbody>\n",
       "</table>\n",
       "</div>"
      ],
      "text/plain": [
       "                 RowNumber  CustomerId   Surname  CreditScore  Geography  \\\n",
       "RowNumber         1.000000    0.000000  0.000000     0.041080   0.030864   \n",
       "CustomerId        0.000000    1.000000  0.000000     0.018946   0.000000   \n",
       "Surname           0.000000    0.000000  1.000000     0.242957   0.001476   \n",
       "CreditScore       0.041080    0.018946  0.242957     1.000000   0.035375   \n",
       "Geography         0.030864    0.000000  0.001476     0.035375   1.000000   \n",
       "Gender            0.000000    0.000000  0.040711     0.000000   0.013354   \n",
       "Age               0.033746    0.042049  0.333753     0.000000   0.085025   \n",
       "Tenure            0.013570    0.000000  0.159682     0.000000   0.000000   \n",
       "Balance           0.000000    0.000000  0.483668     0.000000   0.463811   \n",
       "NumOfProducts     0.014601    0.009637  0.201225     0.034645   0.049418   \n",
       "HasCrCard         0.010813    0.000000  0.000000     0.000000   0.002919   \n",
       "IsActiveMember    0.000000    0.014253  0.000000     0.038064   0.010947   \n",
       "EstimatedSalary   0.000000    0.000000  0.083242     0.034215   0.028372   \n",
       "Exited            0.000000    0.029595  0.000000     0.096525   0.104511   \n",
       "\n",
       "                   Gender       Age    Tenure   Balance  NumOfProducts  \\\n",
       "RowNumber        0.000000  0.033746  0.013570  0.000000       0.014601   \n",
       "CustomerId       0.000000  0.042049  0.000000  0.000000       0.009637   \n",
       "Surname          0.040711  0.333753  0.159682  0.483668       0.201225   \n",
       "CreditScore      0.000000  0.000000  0.000000  0.000000       0.034645   \n",
       "Geography        0.013354  0.085025  0.000000  0.463811       0.049418   \n",
       "Gender           1.000000  0.033815  0.015380  0.000000       0.063174   \n",
       "Age              0.033815  1.000000  0.043580  0.035357       0.145566   \n",
       "Tenure           0.015380  0.043580  1.000000  0.058051       0.056991   \n",
       "Balance          0.000000  0.035357  0.058051  1.000000       0.371385   \n",
       "NumOfProducts    0.063174  0.145566  0.056991  0.371385       1.000000   \n",
       "HasCrCard        0.000000  0.016433  0.029326  0.050671       0.000000   \n",
       "IsActiveMember   0.031384  0.187434  0.022530  0.018236       0.056918   \n",
       "EstimatedSalary  0.028019  0.051545  0.000000  0.000000       0.031562   \n",
       "Exited           0.165422  0.487524  0.020033  0.183365       0.565084   \n",
       "\n",
       "                 HasCrCard  IsActiveMember  EstimatedSalary    Exited  \n",
       "RowNumber         0.010813        0.000000         0.000000  0.000000  \n",
       "CustomerId        0.000000        0.014253         0.000000  0.029595  \n",
       "Surname           0.000000        0.000000         0.083242  0.000000  \n",
       "CreditScore       0.000000        0.038064         0.034215  0.096525  \n",
       "Geography         0.002919        0.010947         0.028372  0.104511  \n",
       "Gender            0.000000        0.031384         0.028019  0.165422  \n",
       "Age               0.016433        0.187434         0.051545  0.487524  \n",
       "Tenure            0.029326        0.022530         0.000000  0.020033  \n",
       "Balance           0.050671        0.018236         0.000000  0.183365  \n",
       "NumOfProducts     0.000000        0.056918         0.031562  0.565084  \n",
       "HasCrCard         1.000000        0.009377         0.000000  0.000000  \n",
       "IsActiveMember    0.009377        1.000000         0.032847  0.241939  \n",
       "EstimatedSalary   0.000000        0.032847         1.000000  0.000000  \n",
       "Exited            0.000000        0.241939         0.000000  1.000000  "
      ]
     },
     "execution_count": 17,
     "metadata": {},
     "output_type": "execute_result"
    }
   ],
   "source": [
    "#data.phik_matrix()"
   ]
  },
  {
   "cell_type": "markdown",
   "metadata": {},
   "source": [
    "\n",
    "<div class=\"alert alert-block alert-info\">\n",
    "<b>Совет:</b> Советую обратить на инструмент <a href=\"https://phik.readthedocs.io/en/latest\" >phik</a>, который помогает устанавливать связи (не только линейные) между факторами (и не только между количественными)\n",
    "</div>\n"
   ]
  },
  {
   "cell_type": "markdown",
   "metadata": {},
   "source": [
    "<div class=\"alert alert-block alert-warning\">\n",
    "<b>Изменения:</b> Не понимаю почему не работает\n",
    "</div>"
   ]
  },
  {
   "cell_type": "markdown",
   "metadata": {},
   "source": [
    "\n",
    "<div class=\"alert alert-block alert-info\">\n",
    "<b>Совет[2]:</b> Я запустил твой код - и все отработало, попробуй еще раз на платформе\n",
    "</div>\n"
   ]
  },
  {
   "cell_type": "markdown",
   "metadata": {},
   "source": [
    "Сильных связей между признакими не видно, оставим их все, за исключением 'Surname', 'CustomerId', 'RowNumber'. Эти категориальные признаки никак не повлияют на качество обучения, поэтому удалим их. "
   ]
  },
  {
   "cell_type": "code",
   "execution_count": 414,
   "metadata": {},
   "outputs": [
    {
     "data": {
      "text/plain": [
       "array(['Female', 'Male'], dtype=object)"
      ]
     },
     "execution_count": 414,
     "metadata": {},
     "output_type": "execute_result"
    }
   ],
   "source": [
    "data['Gender'].unique()"
   ]
  },
  {
   "cell_type": "code",
   "execution_count": 415,
   "metadata": {},
   "outputs": [
    {
     "data": {
      "text/plain": [
       "array(['France', 'Spain', 'Germany'], dtype=object)"
      ]
     },
     "execution_count": 415,
     "metadata": {},
     "output_type": "execute_result"
    }
   ],
   "source": [
    "data['Geography'].unique()"
   ]
  },
  {
   "cell_type": "markdown",
   "metadata": {},
   "source": [
    "Признаки 'Gender' и 'Geography' преобразуем с помощью прямого кодирования или методом One-Hot Encoding. Причем при кодировании 'Gender' применим аргумент drop_first=True, так как он может принимать либо одно, либо другое значение, а при кодировании 'Geography' применим аргумент drop_first=False."
   ]
  },
  {
   "cell_type": "code",
   "execution_count": 416,
   "metadata": {},
   "outputs": [
    {
     "data": {
      "text/html": [
       "<div>\n",
       "<style scoped>\n",
       "    .dataframe tbody tr th:only-of-type {\n",
       "        vertical-align: middle;\n",
       "    }\n",
       "\n",
       "    .dataframe tbody tr th {\n",
       "        vertical-align: top;\n",
       "    }\n",
       "\n",
       "    .dataframe thead th {\n",
       "        text-align: right;\n",
       "    }\n",
       "</style>\n",
       "<table border=\"1\" class=\"dataframe\">\n",
       "  <thead>\n",
       "    <tr style=\"text-align: right;\">\n",
       "      <th></th>\n",
       "      <th>RowNumber</th>\n",
       "      <th>CustomerId</th>\n",
       "      <th>Surname</th>\n",
       "      <th>CreditScore</th>\n",
       "      <th>Geography</th>\n",
       "      <th>Age</th>\n",
       "      <th>Tenure</th>\n",
       "      <th>Balance</th>\n",
       "      <th>NumOfProducts</th>\n",
       "      <th>HasCrCard</th>\n",
       "      <th>IsActiveMember</th>\n",
       "      <th>EstimatedSalary</th>\n",
       "      <th>Exited</th>\n",
       "      <th>Gender_Male</th>\n",
       "    </tr>\n",
       "  </thead>\n",
       "  <tbody>\n",
       "    <tr>\n",
       "      <th>0</th>\n",
       "      <td>1</td>\n",
       "      <td>15634602</td>\n",
       "      <td>Hargrave</td>\n",
       "      <td>619</td>\n",
       "      <td>France</td>\n",
       "      <td>42</td>\n",
       "      <td>2.0</td>\n",
       "      <td>0.00</td>\n",
       "      <td>1</td>\n",
       "      <td>1</td>\n",
       "      <td>1</td>\n",
       "      <td>101348.88</td>\n",
       "      <td>1</td>\n",
       "      <td>0</td>\n",
       "    </tr>\n",
       "    <tr>\n",
       "      <th>1</th>\n",
       "      <td>2</td>\n",
       "      <td>15647311</td>\n",
       "      <td>Hill</td>\n",
       "      <td>608</td>\n",
       "      <td>Spain</td>\n",
       "      <td>41</td>\n",
       "      <td>1.0</td>\n",
       "      <td>83807.86</td>\n",
       "      <td>1</td>\n",
       "      <td>0</td>\n",
       "      <td>1</td>\n",
       "      <td>112542.58</td>\n",
       "      <td>0</td>\n",
       "      <td>0</td>\n",
       "    </tr>\n",
       "    <tr>\n",
       "      <th>2</th>\n",
       "      <td>3</td>\n",
       "      <td>15619304</td>\n",
       "      <td>Onio</td>\n",
       "      <td>502</td>\n",
       "      <td>France</td>\n",
       "      <td>42</td>\n",
       "      <td>8.0</td>\n",
       "      <td>159660.80</td>\n",
       "      <td>3</td>\n",
       "      <td>1</td>\n",
       "      <td>0</td>\n",
       "      <td>113931.57</td>\n",
       "      <td>1</td>\n",
       "      <td>0</td>\n",
       "    </tr>\n",
       "    <tr>\n",
       "      <th>3</th>\n",
       "      <td>4</td>\n",
       "      <td>15701354</td>\n",
       "      <td>Boni</td>\n",
       "      <td>699</td>\n",
       "      <td>France</td>\n",
       "      <td>39</td>\n",
       "      <td>1.0</td>\n",
       "      <td>0.00</td>\n",
       "      <td>2</td>\n",
       "      <td>0</td>\n",
       "      <td>0</td>\n",
       "      <td>93826.63</td>\n",
       "      <td>0</td>\n",
       "      <td>0</td>\n",
       "    </tr>\n",
       "    <tr>\n",
       "      <th>4</th>\n",
       "      <td>5</td>\n",
       "      <td>15737888</td>\n",
       "      <td>Mitchell</td>\n",
       "      <td>850</td>\n",
       "      <td>Spain</td>\n",
       "      <td>43</td>\n",
       "      <td>2.0</td>\n",
       "      <td>125510.82</td>\n",
       "      <td>1</td>\n",
       "      <td>1</td>\n",
       "      <td>1</td>\n",
       "      <td>79084.10</td>\n",
       "      <td>0</td>\n",
       "      <td>0</td>\n",
       "    </tr>\n",
       "    <tr>\n",
       "      <th>5</th>\n",
       "      <td>6</td>\n",
       "      <td>15574012</td>\n",
       "      <td>Chu</td>\n",
       "      <td>645</td>\n",
       "      <td>Spain</td>\n",
       "      <td>44</td>\n",
       "      <td>8.0</td>\n",
       "      <td>113755.78</td>\n",
       "      <td>2</td>\n",
       "      <td>1</td>\n",
       "      <td>0</td>\n",
       "      <td>149756.71</td>\n",
       "      <td>1</td>\n",
       "      <td>1</td>\n",
       "    </tr>\n",
       "    <tr>\n",
       "      <th>6</th>\n",
       "      <td>7</td>\n",
       "      <td>15592531</td>\n",
       "      <td>Bartlett</td>\n",
       "      <td>822</td>\n",
       "      <td>France</td>\n",
       "      <td>50</td>\n",
       "      <td>7.0</td>\n",
       "      <td>0.00</td>\n",
       "      <td>2</td>\n",
       "      <td>1</td>\n",
       "      <td>1</td>\n",
       "      <td>10062.80</td>\n",
       "      <td>0</td>\n",
       "      <td>1</td>\n",
       "    </tr>\n",
       "    <tr>\n",
       "      <th>7</th>\n",
       "      <td>8</td>\n",
       "      <td>15656148</td>\n",
       "      <td>Obinna</td>\n",
       "      <td>376</td>\n",
       "      <td>Germany</td>\n",
       "      <td>29</td>\n",
       "      <td>4.0</td>\n",
       "      <td>115046.74</td>\n",
       "      <td>4</td>\n",
       "      <td>1</td>\n",
       "      <td>0</td>\n",
       "      <td>119346.88</td>\n",
       "      <td>1</td>\n",
       "      <td>0</td>\n",
       "    </tr>\n",
       "    <tr>\n",
       "      <th>8</th>\n",
       "      <td>9</td>\n",
       "      <td>15792365</td>\n",
       "      <td>He</td>\n",
       "      <td>501</td>\n",
       "      <td>France</td>\n",
       "      <td>44</td>\n",
       "      <td>4.0</td>\n",
       "      <td>142051.07</td>\n",
       "      <td>2</td>\n",
       "      <td>0</td>\n",
       "      <td>1</td>\n",
       "      <td>74940.50</td>\n",
       "      <td>0</td>\n",
       "      <td>1</td>\n",
       "    </tr>\n",
       "    <tr>\n",
       "      <th>9</th>\n",
       "      <td>10</td>\n",
       "      <td>15592389</td>\n",
       "      <td>H?</td>\n",
       "      <td>684</td>\n",
       "      <td>France</td>\n",
       "      <td>27</td>\n",
       "      <td>2.0</td>\n",
       "      <td>134603.88</td>\n",
       "      <td>1</td>\n",
       "      <td>1</td>\n",
       "      <td>1</td>\n",
       "      <td>71725.73</td>\n",
       "      <td>0</td>\n",
       "      <td>1</td>\n",
       "    </tr>\n",
       "  </tbody>\n",
       "</table>\n",
       "</div>"
      ],
      "text/plain": [
       "   RowNumber  CustomerId   Surname  CreditScore Geography  Age  Tenure  \\\n",
       "0          1    15634602  Hargrave          619    France   42     2.0   \n",
       "1          2    15647311      Hill          608     Spain   41     1.0   \n",
       "2          3    15619304      Onio          502    France   42     8.0   \n",
       "3          4    15701354      Boni          699    France   39     1.0   \n",
       "4          5    15737888  Mitchell          850     Spain   43     2.0   \n",
       "5          6    15574012       Chu          645     Spain   44     8.0   \n",
       "6          7    15592531  Bartlett          822    France   50     7.0   \n",
       "7          8    15656148    Obinna          376   Germany   29     4.0   \n",
       "8          9    15792365        He          501    France   44     4.0   \n",
       "9         10    15592389        H?          684    France   27     2.0   \n",
       "\n",
       "     Balance  NumOfProducts  HasCrCard  IsActiveMember  EstimatedSalary  \\\n",
       "0       0.00              1          1               1        101348.88   \n",
       "1   83807.86              1          0               1        112542.58   \n",
       "2  159660.80              3          1               0        113931.57   \n",
       "3       0.00              2          0               0         93826.63   \n",
       "4  125510.82              1          1               1         79084.10   \n",
       "5  113755.78              2          1               0        149756.71   \n",
       "6       0.00              2          1               1         10062.80   \n",
       "7  115046.74              4          1               0        119346.88   \n",
       "8  142051.07              2          0               1         74940.50   \n",
       "9  134603.88              1          1               1         71725.73   \n",
       "\n",
       "   Exited  Gender_Male  \n",
       "0       1            0  \n",
       "1       0            0  \n",
       "2       1            0  \n",
       "3       0            0  \n",
       "4       0            0  \n",
       "5       1            1  \n",
       "6       0            1  \n",
       "7       1            0  \n",
       "8       0            1  \n",
       "9       0            1  "
      ]
     },
     "metadata": {},
     "output_type": "display_data"
    }
   ],
   "source": [
    "data = pd.get_dummies(data, drop_first=True, columns=['Gender'])\n",
    "display(data.head(10))"
   ]
  },
  {
   "cell_type": "code",
   "execution_count": 417,
   "metadata": {
    "scrolled": true
   },
   "outputs": [
    {
     "data": {
      "text/html": [
       "<div>\n",
       "<style scoped>\n",
       "    .dataframe tbody tr th:only-of-type {\n",
       "        vertical-align: middle;\n",
       "    }\n",
       "\n",
       "    .dataframe tbody tr th {\n",
       "        vertical-align: top;\n",
       "    }\n",
       "\n",
       "    .dataframe thead th {\n",
       "        text-align: right;\n",
       "    }\n",
       "</style>\n",
       "<table border=\"1\" class=\"dataframe\">\n",
       "  <thead>\n",
       "    <tr style=\"text-align: right;\">\n",
       "      <th></th>\n",
       "      <th>RowNumber</th>\n",
       "      <th>CustomerId</th>\n",
       "      <th>Surname</th>\n",
       "      <th>CreditScore</th>\n",
       "      <th>Age</th>\n",
       "      <th>Tenure</th>\n",
       "      <th>Balance</th>\n",
       "      <th>NumOfProducts</th>\n",
       "      <th>HasCrCard</th>\n",
       "      <th>IsActiveMember</th>\n",
       "      <th>EstimatedSalary</th>\n",
       "      <th>Exited</th>\n",
       "      <th>Gender_Male</th>\n",
       "      <th>Geography_Germany</th>\n",
       "      <th>Geography_Spain</th>\n",
       "    </tr>\n",
       "  </thead>\n",
       "  <tbody>\n",
       "    <tr>\n",
       "      <th>0</th>\n",
       "      <td>1</td>\n",
       "      <td>15634602</td>\n",
       "      <td>Hargrave</td>\n",
       "      <td>619</td>\n",
       "      <td>42</td>\n",
       "      <td>2.0</td>\n",
       "      <td>0.00</td>\n",
       "      <td>1</td>\n",
       "      <td>1</td>\n",
       "      <td>1</td>\n",
       "      <td>101348.88</td>\n",
       "      <td>1</td>\n",
       "      <td>0</td>\n",
       "      <td>0</td>\n",
       "      <td>0</td>\n",
       "    </tr>\n",
       "    <tr>\n",
       "      <th>1</th>\n",
       "      <td>2</td>\n",
       "      <td>15647311</td>\n",
       "      <td>Hill</td>\n",
       "      <td>608</td>\n",
       "      <td>41</td>\n",
       "      <td>1.0</td>\n",
       "      <td>83807.86</td>\n",
       "      <td>1</td>\n",
       "      <td>0</td>\n",
       "      <td>1</td>\n",
       "      <td>112542.58</td>\n",
       "      <td>0</td>\n",
       "      <td>0</td>\n",
       "      <td>0</td>\n",
       "      <td>1</td>\n",
       "    </tr>\n",
       "    <tr>\n",
       "      <th>2</th>\n",
       "      <td>3</td>\n",
       "      <td>15619304</td>\n",
       "      <td>Onio</td>\n",
       "      <td>502</td>\n",
       "      <td>42</td>\n",
       "      <td>8.0</td>\n",
       "      <td>159660.80</td>\n",
       "      <td>3</td>\n",
       "      <td>1</td>\n",
       "      <td>0</td>\n",
       "      <td>113931.57</td>\n",
       "      <td>1</td>\n",
       "      <td>0</td>\n",
       "      <td>0</td>\n",
       "      <td>0</td>\n",
       "    </tr>\n",
       "    <tr>\n",
       "      <th>3</th>\n",
       "      <td>4</td>\n",
       "      <td>15701354</td>\n",
       "      <td>Boni</td>\n",
       "      <td>699</td>\n",
       "      <td>39</td>\n",
       "      <td>1.0</td>\n",
       "      <td>0.00</td>\n",
       "      <td>2</td>\n",
       "      <td>0</td>\n",
       "      <td>0</td>\n",
       "      <td>93826.63</td>\n",
       "      <td>0</td>\n",
       "      <td>0</td>\n",
       "      <td>0</td>\n",
       "      <td>0</td>\n",
       "    </tr>\n",
       "    <tr>\n",
       "      <th>4</th>\n",
       "      <td>5</td>\n",
       "      <td>15737888</td>\n",
       "      <td>Mitchell</td>\n",
       "      <td>850</td>\n",
       "      <td>43</td>\n",
       "      <td>2.0</td>\n",
       "      <td>125510.82</td>\n",
       "      <td>1</td>\n",
       "      <td>1</td>\n",
       "      <td>1</td>\n",
       "      <td>79084.10</td>\n",
       "      <td>0</td>\n",
       "      <td>0</td>\n",
       "      <td>0</td>\n",
       "      <td>1</td>\n",
       "    </tr>\n",
       "    <tr>\n",
       "      <th>5</th>\n",
       "      <td>6</td>\n",
       "      <td>15574012</td>\n",
       "      <td>Chu</td>\n",
       "      <td>645</td>\n",
       "      <td>44</td>\n",
       "      <td>8.0</td>\n",
       "      <td>113755.78</td>\n",
       "      <td>2</td>\n",
       "      <td>1</td>\n",
       "      <td>0</td>\n",
       "      <td>149756.71</td>\n",
       "      <td>1</td>\n",
       "      <td>1</td>\n",
       "      <td>0</td>\n",
       "      <td>1</td>\n",
       "    </tr>\n",
       "    <tr>\n",
       "      <th>6</th>\n",
       "      <td>7</td>\n",
       "      <td>15592531</td>\n",
       "      <td>Bartlett</td>\n",
       "      <td>822</td>\n",
       "      <td>50</td>\n",
       "      <td>7.0</td>\n",
       "      <td>0.00</td>\n",
       "      <td>2</td>\n",
       "      <td>1</td>\n",
       "      <td>1</td>\n",
       "      <td>10062.80</td>\n",
       "      <td>0</td>\n",
       "      <td>1</td>\n",
       "      <td>0</td>\n",
       "      <td>0</td>\n",
       "    </tr>\n",
       "    <tr>\n",
       "      <th>7</th>\n",
       "      <td>8</td>\n",
       "      <td>15656148</td>\n",
       "      <td>Obinna</td>\n",
       "      <td>376</td>\n",
       "      <td>29</td>\n",
       "      <td>4.0</td>\n",
       "      <td>115046.74</td>\n",
       "      <td>4</td>\n",
       "      <td>1</td>\n",
       "      <td>0</td>\n",
       "      <td>119346.88</td>\n",
       "      <td>1</td>\n",
       "      <td>0</td>\n",
       "      <td>1</td>\n",
       "      <td>0</td>\n",
       "    </tr>\n",
       "    <tr>\n",
       "      <th>8</th>\n",
       "      <td>9</td>\n",
       "      <td>15792365</td>\n",
       "      <td>He</td>\n",
       "      <td>501</td>\n",
       "      <td>44</td>\n",
       "      <td>4.0</td>\n",
       "      <td>142051.07</td>\n",
       "      <td>2</td>\n",
       "      <td>0</td>\n",
       "      <td>1</td>\n",
       "      <td>74940.50</td>\n",
       "      <td>0</td>\n",
       "      <td>1</td>\n",
       "      <td>0</td>\n",
       "      <td>0</td>\n",
       "    </tr>\n",
       "    <tr>\n",
       "      <th>9</th>\n",
       "      <td>10</td>\n",
       "      <td>15592389</td>\n",
       "      <td>H?</td>\n",
       "      <td>684</td>\n",
       "      <td>27</td>\n",
       "      <td>2.0</td>\n",
       "      <td>134603.88</td>\n",
       "      <td>1</td>\n",
       "      <td>1</td>\n",
       "      <td>1</td>\n",
       "      <td>71725.73</td>\n",
       "      <td>0</td>\n",
       "      <td>1</td>\n",
       "      <td>0</td>\n",
       "      <td>0</td>\n",
       "    </tr>\n",
       "  </tbody>\n",
       "</table>\n",
       "</div>"
      ],
      "text/plain": [
       "   RowNumber  CustomerId   Surname  CreditScore  Age  Tenure    Balance  \\\n",
       "0          1    15634602  Hargrave          619   42     2.0       0.00   \n",
       "1          2    15647311      Hill          608   41     1.0   83807.86   \n",
       "2          3    15619304      Onio          502   42     8.0  159660.80   \n",
       "3          4    15701354      Boni          699   39     1.0       0.00   \n",
       "4          5    15737888  Mitchell          850   43     2.0  125510.82   \n",
       "5          6    15574012       Chu          645   44     8.0  113755.78   \n",
       "6          7    15592531  Bartlett          822   50     7.0       0.00   \n",
       "7          8    15656148    Obinna          376   29     4.0  115046.74   \n",
       "8          9    15792365        He          501   44     4.0  142051.07   \n",
       "9         10    15592389        H?          684   27     2.0  134603.88   \n",
       "\n",
       "   NumOfProducts  HasCrCard  IsActiveMember  EstimatedSalary  Exited  \\\n",
       "0              1          1               1        101348.88       1   \n",
       "1              1          0               1        112542.58       0   \n",
       "2              3          1               0        113931.57       1   \n",
       "3              2          0               0         93826.63       0   \n",
       "4              1          1               1         79084.10       0   \n",
       "5              2          1               0        149756.71       1   \n",
       "6              2          1               1         10062.80       0   \n",
       "7              4          1               0        119346.88       1   \n",
       "8              2          0               1         74940.50       0   \n",
       "9              1          1               1         71725.73       0   \n",
       "\n",
       "   Gender_Male  Geography_Germany  Geography_Spain  \n",
       "0            0                  0                0  \n",
       "1            0                  0                1  \n",
       "2            0                  0                0  \n",
       "3            0                  0                0  \n",
       "4            0                  0                1  \n",
       "5            1                  0                1  \n",
       "6            1                  0                0  \n",
       "7            0                  1                0  \n",
       "8            1                  0                0  \n",
       "9            1                  0                0  "
      ]
     },
     "metadata": {},
     "output_type": "display_data"
    }
   ],
   "source": [
    "data = pd.get_dummies(data, drop_first=True, columns=['Geography'])\n",
    "display(data.head(10))"
   ]
  },
  {
   "cell_type": "markdown",
   "metadata": {},
   "source": [
    "\n",
    "<div class=\"alert alert-block alert-danger\">\n",
    "    \n",
    "<b>Ошибка:</b> Важно указывать параметр `drop_first=True`, иначе попадаем в dummy-ловушку.  https://www.codecamp.ru/blog/dummy-variable-trap/\n",
    "\n",
    "</div>"
   ]
  },
  {
   "cell_type": "markdown",
   "metadata": {},
   "source": [
    "<div class=\"alert alert-block alert-warning\">\n",
    "<b>Изменения:</b> Исправил\n",
    "</div>"
   ]
  },
  {
   "cell_type": "markdown",
   "metadata": {},
   "source": [
    "<div class=\"alert alert-block alert-success\">\n",
    "    \n",
    "<b>Успех[2]:</b> 👍\n",
    "</div>"
   ]
  },
  {
   "cell_type": "markdown",
   "metadata": {},
   "source": [
    "Стандартизируем данные путем масштабирования признаков 'CreditScore', 'Balance', 'EstimatedSalary'"
   ]
  },
  {
   "cell_type": "code",
   "execution_count": null,
   "metadata": {
    "scrolled": true
   },
   "outputs": [],
   "source": [
    "#numeric = ['CreditScore', 'Balance', 'EstimatedSalary']\n",
    "# < напишите код здесь >\n",
    "#scaler = StandardScaler()\n",
    "#scaler.fit(data[numeric]) \n",
    "#data[numeric] = scaler.transform(data[numeric])\n",
    "#display(data.head(10))"
   ]
  },
  {
   "cell_type": "markdown",
   "metadata": {},
   "source": [
    "<div class=\"alert alert-block alert-danger\">\n",
    "<b>Ошибка:</b> Упс и зздесь допущена  небольшая ошибка. Хоть это не повлияло на результат, но это важно <br>\n",
    " Обучать scaler (fit/fit_transform) нужно только на трейне, инче это может привести к утечке данных (data leak). <br>А для остальных выборок делать просто (transform)\n",
    "    \n",
    "Про Data Leaks можно почитать подробнее по следующим ссылкам:\n",
    "\n",
    "[Ссылка 1](https://towardsdatascience.com/preventing-data-leakage-in-your-machine-learning-model-9ae54b3cd1fb) <br>\n",
    "[Ссылка 2](https://machinelearningmastery.com/data-preparation-without-data-leakage/)\n",
    "\n",
    "\n",
    "</div>\n"
   ]
  },
  {
   "cell_type": "markdown",
   "metadata": {},
   "source": [
    "Как уже говорилось ранее, удалим ненужные признаки. Создадим переменные с признаками и целевым признаком."
   ]
  },
  {
   "cell_type": "code",
   "execution_count": 418,
   "metadata": {},
   "outputs": [],
   "source": [
    "features = data.drop(['Exited', 'Surname', 'CustomerId', 'RowNumber'], axis=1)\n",
    "target = data['Exited']"
   ]
  },
  {
   "cell_type": "markdown",
   "metadata": {},
   "source": [
    "<div class=\"alert alert-block alert-success\">\n",
    "<b>Успех:</b> Удалить неинформативные признаки - верное решение.\n",
    "</div>\n"
   ]
  },
  {
   "cell_type": "markdown",
   "metadata": {},
   "source": [
    "Разделим исходные данные на 2 выборки: Обучающую -60% и Тестовую - 40%"
   ]
  },
  {
   "cell_type": "code",
   "execution_count": 419,
   "metadata": {},
   "outputs": [],
   "source": [
    "features_train, features_test_ad, target_train, target_test_ad = train_test_split(\n",
    "   features, target, test_size=0.4, random_state=12345)"
   ]
  },
  {
   "cell_type": "markdown",
   "metadata": {},
   "source": [
    "Тестовую выборку разделим также на 2 выборки: Валидационную - 50% и Тестовую - 50%."
   ]
  },
  {
   "cell_type": "code",
   "execution_count": 420,
   "metadata": {},
   "outputs": [],
   "source": [
    "features_test, features_valid, target_test, target_valid = train_test_split(\n",
    "   features_test_ad, target_test_ad, test_size=0.5, random_state=12345)"
   ]
  },
  {
   "cell_type": "code",
   "execution_count": 377,
   "metadata": {},
   "outputs": [
    {
     "name": "stdout",
     "output_type": "stream",
     "text": [
      "<class 'pandas.core.frame.DataFrame'>\n",
      "Int64Index: 6000 entries, 7479 to 4578\n",
      "Data columns (total 11 columns):\n",
      " #   Column             Non-Null Count  Dtype  \n",
      "---  ------             --------------  -----  \n",
      " 0   CreditScore        6000 non-null   int64  \n",
      " 1   Age                6000 non-null   int64  \n",
      " 2   Tenure             6000 non-null   object \n",
      " 3   Balance            6000 non-null   float64\n",
      " 4   NumOfProducts      6000 non-null   int64  \n",
      " 5   HasCrCard          6000 non-null   int64  \n",
      " 6   IsActiveMember     6000 non-null   int64  \n",
      " 7   EstimatedSalary    6000 non-null   float64\n",
      " 8   Gender_Male        6000 non-null   uint8  \n",
      " 9   Geography_Germany  6000 non-null   uint8  \n",
      " 10  Geography_Spain    6000 non-null   uint8  \n",
      "dtypes: float64(2), int64(5), object(1), uint8(3)\n",
      "memory usage: 439.5+ KB\n",
      "<class 'pandas.core.frame.DataFrame'>\n",
      "Int64Index: 2000 entries, 8532 to 6895\n",
      "Data columns (total 11 columns):\n",
      " #   Column             Non-Null Count  Dtype  \n",
      "---  ------             --------------  -----  \n",
      " 0   CreditScore        2000 non-null   int64  \n",
      " 1   Age                2000 non-null   int64  \n",
      " 2   Tenure             2000 non-null   object \n",
      " 3   Balance            2000 non-null   float64\n",
      " 4   NumOfProducts      2000 non-null   int64  \n",
      " 5   HasCrCard          2000 non-null   int64  \n",
      " 6   IsActiveMember     2000 non-null   int64  \n",
      " 7   EstimatedSalary    2000 non-null   float64\n",
      " 8   Gender_Male        2000 non-null   uint8  \n",
      " 9   Geography_Germany  2000 non-null   uint8  \n",
      " 10  Geography_Spain    2000 non-null   uint8  \n",
      "dtypes: float64(2), int64(5), object(1), uint8(3)\n",
      "memory usage: 146.5+ KB\n",
      "<class 'pandas.core.frame.DataFrame'>\n",
      "Int64Index: 2000 entries, 7041 to 3366\n",
      "Data columns (total 11 columns):\n",
      " #   Column             Non-Null Count  Dtype  \n",
      "---  ------             --------------  -----  \n",
      " 0   CreditScore        2000 non-null   int64  \n",
      " 1   Age                2000 non-null   int64  \n",
      " 2   Tenure             2000 non-null   object \n",
      " 3   Balance            2000 non-null   float64\n",
      " 4   NumOfProducts      2000 non-null   int64  \n",
      " 5   HasCrCard          2000 non-null   int64  \n",
      " 6   IsActiveMember     2000 non-null   int64  \n",
      " 7   EstimatedSalary    2000 non-null   float64\n",
      " 8   Gender_Male        2000 non-null   uint8  \n",
      " 9   Geography_Germany  2000 non-null   uint8  \n",
      " 10  Geography_Spain    2000 non-null   uint8  \n",
      "dtypes: float64(2), int64(5), object(1), uint8(3)\n",
      "memory usage: 146.5+ KB\n"
     ]
    }
   ],
   "source": [
    "features_train.info()\n",
    "features_test.info()\n",
    "features_valid.info()"
   ]
  },
  {
   "cell_type": "markdown",
   "metadata": {},
   "source": [
    "Судя по полученным данным, выборки разделены в соотношении 60:20:20"
   ]
  },
  {
   "cell_type": "code",
   "execution_count": 439,
   "metadata": {
    "scrolled": true
   },
   "outputs": [
    {
     "name": "stderr",
     "output_type": "stream",
     "text": [
      "/tmp/ipykernel_31/3166803098.py:5: SettingWithCopyWarning: \n",
      "A value is trying to be set on a copy of a slice from a DataFrame.\n",
      "Try using .loc[row_indexer,col_indexer] = value instead\n",
      "\n",
      "See the caveats in the documentation: https://pandas.pydata.org/pandas-docs/stable/user_guide/indexing.html#returning-a-view-versus-a-copy\n",
      "  features_train[numeric] = scaler.transform(features_train[numeric])\n",
      "/opt/conda/lib/python3.9/site-packages/pandas/core/indexing.py:1738: SettingWithCopyWarning: \n",
      "A value is trying to be set on a copy of a slice from a DataFrame.\n",
      "Try using .loc[row_indexer,col_indexer] = value instead\n",
      "\n",
      "See the caveats in the documentation: https://pandas.pydata.org/pandas-docs/stable/user_guide/indexing.html#returning-a-view-versus-a-copy\n",
      "  self._setitem_single_column(loc, value[:, i].tolist(), pi)\n",
      "/tmp/ipykernel_31/3166803098.py:6: SettingWithCopyWarning: \n",
      "A value is trying to be set on a copy of a slice from a DataFrame.\n",
      "Try using .loc[row_indexer,col_indexer] = value instead\n",
      "\n",
      "See the caveats in the documentation: https://pandas.pydata.org/pandas-docs/stable/user_guide/indexing.html#returning-a-view-versus-a-copy\n",
      "  features_valid[numeric] = scaler.transform(features_valid[numeric])\n",
      "/opt/conda/lib/python3.9/site-packages/pandas/core/indexing.py:1738: SettingWithCopyWarning: \n",
      "A value is trying to be set on a copy of a slice from a DataFrame.\n",
      "Try using .loc[row_indexer,col_indexer] = value instead\n",
      "\n",
      "See the caveats in the documentation: https://pandas.pydata.org/pandas-docs/stable/user_guide/indexing.html#returning-a-view-versus-a-copy\n",
      "  self._setitem_single_column(loc, value[:, i].tolist(), pi)\n",
      "/tmp/ipykernel_31/3166803098.py:7: SettingWithCopyWarning: \n",
      "A value is trying to be set on a copy of a slice from a DataFrame.\n",
      "Try using .loc[row_indexer,col_indexer] = value instead\n",
      "\n",
      "See the caveats in the documentation: https://pandas.pydata.org/pandas-docs/stable/user_guide/indexing.html#returning-a-view-versus-a-copy\n",
      "  features_test[numeric] = scaler.transform(features_test[numeric])\n",
      "/opt/conda/lib/python3.9/site-packages/pandas/core/indexing.py:1738: SettingWithCopyWarning: \n",
      "A value is trying to be set on a copy of a slice from a DataFrame.\n",
      "Try using .loc[row_indexer,col_indexer] = value instead\n",
      "\n",
      "See the caveats in the documentation: https://pandas.pydata.org/pandas-docs/stable/user_guide/indexing.html#returning-a-view-versus-a-copy\n",
      "  self._setitem_single_column(loc, value[:, i].tolist(), pi)\n"
     ]
    }
   ],
   "source": [
    "numeric = ['CreditScore', 'Balance', 'EstimatedSalary']\n",
    "# < напишите код здесь >\n",
    "scaler = StandardScaler()\n",
    "scaler.fit(features_train[numeric]) \n",
    "features_train[numeric] = scaler.transform(features_train[numeric])\n",
    "features_valid[numeric] = scaler.transform(features_valid[numeric])\n",
    "features_test[numeric] = scaler.transform(features_test[numeric])\n",
    "#print(features_train.head(10))\n",
    "#print(features_valid.head(10))"
   ]
  },
  {
   "cell_type": "markdown",
   "metadata": {},
   "source": [
    "<div class=\"alert alert-block alert-warning\">\n",
    "<b>Изменения:</b> Исправлен Scaller\n",
    "</div>"
   ]
  },
  {
   "cell_type": "markdown",
   "metadata": {},
   "source": [
    "<div class=\"alert alert-block alert-success\">\n",
    "    \n",
    "<b>Успех[2]:</b> Есть контакт\n",
    "</div>"
   ]
  },
  {
   "cell_type": "markdown",
   "metadata": {},
   "source": [
    "## Исследование задачи"
   ]
  },
  {
   "cell_type": "markdown",
   "metadata": {},
   "source": [
    "### Сравнение классов"
   ]
  },
  {
   "cell_type": "code",
   "execution_count": 440,
   "metadata": {},
   "outputs": [
    {
     "name": "stdout",
     "output_type": "stream",
     "text": [
      "0    0.7963\n",
      "1    0.2037\n",
      "Name: Exited, dtype: float64\n"
     ]
    },
    {
     "data": {
      "text/plain": [
       "<AxesSubplot:>"
      ]
     },
     "execution_count": 440,
     "metadata": {},
     "output_type": "execute_result"
    },
    {
     "data": {
      "image/png": "[encoded data removed]",
      "text/plain": [
       "<Figure size 432x288 with 1 Axes>"
      ]
     },
     "metadata": {
      "needs_background": "light"
     },
     "output_type": "display_data"
    }
   ],
   "source": [
    "class_frequency = data['Exited'].value_counts(normalize=True) # < напишите код здесь >)\n",
    "print(class_frequency)\n",
    "class_frequency.plot(kind='bar') "
   ]
  },
  {
   "cell_type": "markdown",
   "metadata": {},
   "source": [
    "Мы наблюдаем сильный дисбаланс классов, в соотношении примерно 4:1, проверим это"
   ]
  },
  {
   "cell_type": "code",
   "execution_count": 441,
   "metadata": {},
   "outputs": [
    {
     "name": "stdout",
     "output_type": "stream",
     "text": [
      "4\n"
     ]
    }
   ],
   "source": [
    "print(round(class_frequency[0]/class_frequency[1]))"
   ]
  },
  {
   "cell_type": "markdown",
   "metadata": {},
   "source": [
    "<div class=\"alert alert-block alert-success\">\n",
    "<b>Успех:</b> дисбаланс обнаружен\n",
    "</div>\n",
    "\n",
    "<div class=\"alert alert-block alert-info\">\n",
    "<b>Совет:</b>  Советую обратить внимание на библиотеки sweetviz и pandas_profiling помогут в проведении более тщательного EDA анализа. Исследовательский анализ можно делать и с помощью ручного вызова функций дефолтных библиотек. Данные библиотеки хороши для максимизации комфорта презентации результатов анализа бизнес-пользователям. \n",
    "    \n",
    "Очень просты в использоовании, на вход кладется датафрейм: pandas_profiling.ProfileReport(df) \n",
    "\n",
    "</div>"
   ]
  },
  {
   "cell_type": "markdown",
   "metadata": {},
   "source": [
    "### Сравнение с константной моделью"
   ]
  },
  {
   "cell_type": "code",
   "execution_count": 442,
   "metadata": {},
   "outputs": [
    {
     "name": "stdout",
     "output_type": "stream",
     "text": [
      "0.7963\n"
     ]
    }
   ],
   "source": [
    "target_pred_constant = pd.Series(0, index=target.index)\n",
    "print(accuracy_score(target, target_pred_constant))"
   ]
  },
  {
   "cell_type": "markdown",
   "metadata": {},
   "source": [
    "При сравнении с константной моделью, мы также видим, что 0 встречается почти в 80% случаев."
   ]
  },
  {
   "cell_type": "markdown",
   "metadata": {},
   "source": [
    "### Проверка моделей не учитывая дисбаланс классов"
   ]
  },
  {
   "cell_type": "markdown",
   "metadata": {},
   "source": [
    "#### Дерево решений"
   ]
  },
  {
   "cell_type": "code",
   "execution_count": 443,
   "metadata": {},
   "outputs": [
    {
     "name": "stderr",
     "output_type": "stream",
     "text": [
      "100%|██████████| 9/9 [00:00<00:00, 58.18it/s]"
     ]
    },
    {
     "name": "stdout",
     "output_type": "stream",
     "text": [
      "Оптимальная глубина дерева = 6\n",
      "Качество модели F1 -  0.5253456221198156\n",
      "CPU times: user 153 ms, sys: 3.5 ms, total: 157 ms\n",
      "Wall time: 160 ms\n"
     ]
    },
    {
     "name": "stderr",
     "output_type": "stream",
     "text": [
      "\n"
     ]
    }
   ],
   "source": [
    "%%time\n",
    "\n",
    "best_model_tree = None\n",
    "best_f1_tree_n = 0\n",
    "\n",
    "for depth in tqdm(range(1, 10)):\n",
    "    model_tree = DecisionTreeClassifier(random_state=12345,\n",
    "                                        max_depth=depth)\n",
    "    model_tree.fit(features_train, target_train)\n",
    "    predictions_valid_tree = model_tree.predict(features_valid)\n",
    "    f1_tree = f1_score(target_valid, predictions_valid_tree)\n",
    "    if f1_tree > best_f1_tree_n:\n",
    "        best_model_tree = model_tree\n",
    "        best_depth = depth\n",
    "        best_f1_tree_n = f1_tree\n",
    "\n",
    "print('Оптимальная глубина дерева =', best_depth) \n",
    "print('Качество модели F1 - ', best_f1_tree_n)\n"
   ]
  },
  {
   "cell_type": "code",
   "execution_count": 444,
   "metadata": {},
   "outputs": [
    {
     "name": "stdout",
     "output_type": "stream",
     "text": [
      "Accuracy Дерева решений: 0.8455\n",
      "Полнота Дерева решений: 0.40425531914893614\n",
      "Точность Дерева решений: 0.75\n",
      "F1 Дерева решений: 0.5253456221198156\n",
      "AUC-ROC Дерева решений:  0.8327801688276061\n"
     ]
    }
   ],
   "source": [
    "model_tree = DecisionTreeClassifier(random_state=12345,\n",
    "                                    max_depth=6)\n",
    "model_tree.fit(features_train, target_train)\n",
    "predictions_valid_tree = model_tree.predict(features_valid)\n",
    "print(\"Accuracy Дерева решений:\", accuracy_score(target_valid, predictions_valid_tree))\n",
    "print(\"Полнота Дерева решений:\", recall_score(target_valid, predictions_valid_tree))\n",
    "print(\"Точность Дерева решений:\", precision_score(target_valid, predictions_valid_tree))\n",
    "print(\"F1 Дерева решений:\", f1_score(target_valid, predictions_valid_tree))\n",
    "\n",
    "probabilities_valid_tree = model_tree.predict_proba(features_valid)\n",
    "probabilities_one_valid_tree = probabilities_valid_tree[:, 1]\n",
    "fpr_tree_n, tpr_tree_n, thresholds_tree_n = roc_curve(target_valid, probabilities_one_valid_tree)\n",
    "auc_roc_tree_n = roc_auc_score(target_valid, probabilities_one_valid_tree)\n",
    "print('AUC-ROC Дерева решений: ', auc_roc_tree_n)"
   ]
  },
  {
   "cell_type": "markdown",
   "metadata": {},
   "source": [
    "#### Случайный лес"
   ]
  },
  {
   "cell_type": "code",
   "execution_count": 461,
   "metadata": {},
   "outputs": [
    {
     "name": "stderr",
     "output_type": "stream",
     "text": [
      "100%|██████████| 10/10 [00:23<00:00,  2.34s/it]"
     ]
    },
    {
     "name": "stdout",
     "output_type": "stream",
     "text": [
      "Оптимальное количество оценок = 70\n",
      "Оптимальная глубина дерева = 9\n",
      "Качество модели F1 -  0.5266457680250785\n",
      "CPU times: user 23 s, sys: 66.8 ms, total: 23.1 s\n",
      "Wall time: 23.4 s\n"
     ]
    },
    {
     "name": "stderr",
     "output_type": "stream",
     "text": [
      "\n"
     ]
    }
   ],
   "source": [
    "%%time\n",
    "\n",
    "best_model_for = None\n",
    "best_f1_for_n = 0\n",
    "\n",
    "for est in tqdm(range(10, 101, 10)):\n",
    "    for depth in range(1, 10):\n",
    "        model_forest = RandomForestClassifier(random_state=12345,\n",
    "                                              n_estimators=est, \n",
    "                                              max_depth=depth)\n",
    "        model_forest.fit(features_train, target_train)\n",
    "        predictions_valid_forest = model_forest.predict(features_valid)\n",
    "        f1_forest = f1_score(target_valid, predictions_valid_forest)\n",
    "#        print(est)\n",
    "#        print(depth)\n",
    "#        print(f1_forest)\n",
    "        if f1_forest > best_f1_for_n:\n",
    "            best_model_for = model_forest\n",
    "            best_est = est\n",
    "            best_depth = depth\n",
    "            best_f1_for_n = f1_forest\n",
    "\n",
    "print('Оптимальное количество оценок =', best_est)\n",
    "print('Оптимальная глубина дерева =', best_depth)\n",
    "print('Качество модели F1 - ', best_f1_for_n)\n"
   ]
  },
  {
   "cell_type": "code",
   "execution_count": 462,
   "metadata": {},
   "outputs": [
    {
     "name": "stdout",
     "output_type": "stream",
     "text": [
      "Accuracy Случайного леса: 0.849\n",
      "Полнота Случайного леса: 0.3971631205673759\n",
      "Точность случайного леса: 0.7813953488372093\n",
      "F1 Случайного леса: 0.5266457680250785\n",
      "AUC-ROC Случайного леса:  0.8538521386778919\n"
     ]
    }
   ],
   "source": [
    "model_forest = RandomForestClassifier(random_state=12345, \n",
    "                                      n_estimators=70, \n",
    "                                      max_depth=9)\n",
    "model_forest.fit(features_train, target_train)\n",
    "predictions_valid_forest = model_forest.predict(features_valid)\n",
    "\n",
    "print(\"Accuracy Случайного леса:\", accuracy_score(target_valid, predictions_valid_forest))\n",
    "print(\"Полнота Случайного леса:\", recall_score(target_valid, predictions_valid_forest))\n",
    "print(\"Точность случайного леса:\", precision_score(target_valid, predictions_valid_forest))\n",
    "print(\"F1 Случайного леса:\", f1_score(target_valid, predictions_valid_forest))\n",
    "probabilities_valid_for = model_forest.predict_proba(features_valid)\n",
    "probabilities_one_valid_for = probabilities_valid_for[:, 1]\n",
    "\n",
    "fpr_for_n, tpr_for_n, thresholds_for_n = roc_curve(target_valid, probabilities_one_valid_for)\n",
    "auc_roc_for_n = roc_auc_score(target_valid, probabilities_one_valid_for)\n",
    "print('AUC-ROC Случайного леса: ', auc_roc_for_n)"
   ]
  },
  {
   "cell_type": "markdown",
   "metadata": {},
   "source": [
    "#### Логистическая регрессия"
   ]
  },
  {
   "cell_type": "code",
   "execution_count": 463,
   "metadata": {},
   "outputs": [
    {
     "name": "stderr",
     "output_type": "stream",
     "text": [
      "100%|██████████| 6/6 [00:00<00:00,  7.50it/s]"
     ]
    },
    {
     "name": "stdout",
     "output_type": "stream",
     "text": [
      "Количество итераций = 20\n",
      "Качество модели F1 -  0.27478260869565213\n",
      "Accuracy Логистической регрессии: 0.7915\n",
      "Полнота логистической регрессии: 0.1867612293144208\n",
      "Точность логистической регрессии: 0.5197368421052632\n",
      "AUC-ROC Логистической регрессии:  0.7387309596729583\n",
      "CPU times: user 523 ms, sys: 418 ms, total: 941 ms\n",
      "Wall time: 907 ms\n"
     ]
    },
    {
     "name": "stderr",
     "output_type": "stream",
     "text": [
      "\n"
     ]
    }
   ],
   "source": [
    "%%time\n",
    "\n",
    "max_iter = [20, 50, 100, 200, 500, 1000]                      \n",
    "\n",
    "best_model_log = None\n",
    "best_f1_log_n = 0\n",
    "\n",
    "for iter in tqdm(max_iter):\n",
    "    model_log = LogisticRegression(random_state=12345,\n",
    "                               solver='liblinear', max_iter=iter)\n",
    "    model_log.fit(features_train, target_train)\n",
    "    predictions_valid_log = model_log.predict(features_valid)\n",
    "    f1_log = f1_score(target_valid, predictions_valid_log)\n",
    "    Accuracy_log = accuracy_score(target_valid, predictions_valid_log)\n",
    "    Recall_log = recall_score(target_valid, predictions_valid_log)\n",
    "    Precision_log = precision_score(target_valid, predictions_valid_log)\n",
    "#    print(iter)\n",
    "#    print(f1_log)\n",
    "    if f1_log > best_f1_log_n:\n",
    "        best_model_log = model_log\n",
    "        best_iter = iter\n",
    "        best_f1_log_n = f1_log\n",
    "            \n",
    "print('Количество итераций =', best_iter)\n",
    "print('Качество модели F1 - ', best_f1_log_n)            \n",
    "print(\"Accuracy Логистической регрессии:\", accuracy_score(target_valid, predictions_valid_log))\n",
    "print(\"Полнота логистической регрессии:\", recall_score(target_valid, predictions_valid_log))\n",
    "print(\"Точность логистической регрессии:\", precision_score(target_valid, predictions_valid_log))\n",
    "\n",
    "probabilities_valid_log = model_log.predict_proba(features_valid)\n",
    "probabilities_one_valid_log = probabilities_valid_log[:, 1]\n",
    "\n",
    "fpr_log_n, tpr_log_n, thresholds_log_n = roc_curve(target_valid, probabilities_one_valid_log)\n",
    "auc_roc_log_n = roc_auc_score(target_valid, probabilities_one_valid_log)\n",
    "print('AUC-ROC Логистической регрессии: ', auc_roc_log_n)"
   ]
  },
  {
   "cell_type": "markdown",
   "metadata": {},
   "source": [
    "Сравним значения качества модели F1"
   ]
  },
  {
   "cell_type": "code",
   "execution_count": 464,
   "metadata": {},
   "outputs": [
    {
     "name": "stdout",
     "output_type": "stream",
     "text": [
      "Качество модели F1 - Дерево решений:  0.5253456221198156\n",
      "Качество модели F1 - Случайный лес:  0.5266457680250785\n",
      "Качество модели F1 - Логистическая регрессия:  0.27478260869565213\n"
     ]
    }
   ],
   "source": [
    "print('Качество модели F1 - Дерево решений: ', best_f1_tree_n)\n",
    "print('Качество модели F1 - Случайный лес: ', best_f1_for_n)\n",
    "print('Качество модели F1 - Логистическая регрессия: ', best_f1_log_n)"
   ]
  },
  {
   "cell_type": "markdown",
   "metadata": {},
   "source": [
    "Таким образом, при обучении модели не учитывая дисбаланс классов, наилучшее значение F1 получается у случайного леса."
   ]
  },
  {
   "cell_type": "markdown",
   "metadata": {},
   "source": [
    "#### ROC - кривая"
   ]
  },
  {
   "cell_type": "code",
   "execution_count": 465,
   "metadata": {},
   "outputs": [
    {
     "data": {
      "image/png": "[encoded data removed]",
      "text/plain": [
       "<Figure size 432x288 with 1 Axes>"
      ]
     },
     "metadata": {
      "needs_background": "light"
     },
     "output_type": "display_data"
    }
   ],
   "source": [
    "plt.figure()\n",
    "\n",
    "# < постройте график >\n",
    "plt.plot(fpr_tree_n, tpr_tree_n, color='red')\n",
    "plt.plot(fpr_for_n, tpr_for_n, color='green')\n",
    "plt.plot(fpr_log_n, tpr_log_n, color='blue')\n",
    "# ROC-кривая случайной модели (выглядит как прямая)\n",
    "plt.plot([0, 1], [0, 1], linestyle='--')\n",
    "\n",
    "# < примените функции plt.xlim() и plt.ylim(), чтобы\n",
    "#   установить границы осей от 0 до 1 >\n",
    "plt.xlim([0.0, 1.0])\n",
    "plt.ylim([0.0, 1.0])\n",
    "# < примените функции plt.xlabel() и plt.ylabel(), чтобы\n",
    "#   подписать оси \"False Positive Rate\" и \"True Positive Rate\" >\n",
    "plt.xlabel('False Positive Rate')\n",
    "plt.ylabel('True Positive Rate')\n",
    "plt.legend(['Дерево решений', 'Случайный лес', 'Логистическая регрессия'])\n",
    "# < добавьте к графику заголовок \"ROC-кривая\" функцией plt.title() >\n",
    "plt.title('ROC-кривая')\n",
    "plt.show()"
   ]
  },
  {
   "cell_type": "markdown",
   "metadata": {},
   "source": [
    "Глядя на график, мы можем сказать, что лучшее значение AUC-ROC также демонстрирует модель (без учета дисбаланса классов) Случайный лес."
   ]
  },
  {
   "cell_type": "markdown",
   "metadata": {},
   "source": [
    "### Дисбаланс классов на графике"
   ]
  },
  {
   "cell_type": "markdown",
   "metadata": {},
   "source": [
    "#### Дерево решений"
   ]
  },
  {
   "cell_type": "code",
   "execution_count": 466,
   "metadata": {},
   "outputs": [
    {
     "data": {
      "text/plain": [
       "[Text(0.5, 0, 'Predicted'),\n",
       " Text(0, 0.5, 'Actual'),\n",
       " Text(0.5, 1.0, 'Дерево решений')]"
      ]
     },
     "execution_count": 466,
     "metadata": {},
     "output_type": "execute_result"
    },
    {
     "data": {
      "image/png": "[encoded data removed]",
      "text/plain": [
       "<Figure size 576x576 with 2 Axes>"
      ]
     },
     "metadata": {
      "needs_background": "light"
     },
     "output_type": "display_data"
    }
   ],
   "source": [
    "fig, ax = plt.subplots(figsize=(8,8))\n",
    "plot_confusion_matrix(estimator=best_model_tree, X=features_valid, y_true=target_valid, ax=ax,\n",
    "                      normalize='true', cmap='summer')\n",
    "ax.set(xlabel='Predicted', ylabel='Actual', title='Дерево решений')"
   ]
  },
  {
   "cell_type": "markdown",
   "metadata": {},
   "source": [
    "#### Случайный лес"
   ]
  },
  {
   "cell_type": "code",
   "execution_count": 467,
   "metadata": {},
   "outputs": [
    {
     "data": {
      "text/plain": [
       "[Text(0.5, 0, 'Predicted'),\n",
       " Text(0, 0.5, 'Actual'),\n",
       " Text(0.5, 1.0, 'Случайный лес')]"
      ]
     },
     "execution_count": 467,
     "metadata": {},
     "output_type": "execute_result"
    },
    {
     "data": {
      "image/png": "[encoded data removed]",
      "text/plain": [
       "<Figure size 576x576 with 2 Axes>"
      ]
     },
     "metadata": {
      "needs_background": "light"
     },
     "output_type": "display_data"
    }
   ],
   "source": [
    "fig, ax = plt.subplots(figsize=(8,8))\n",
    "plot_confusion_matrix(estimator=best_model_for, X=features_valid, y_true=target_valid, ax=ax,\n",
    "                      normalize='true', cmap='summer')\n",
    "ax.set(xlabel='Predicted', ylabel='Actual', title='Случайный лес')"
   ]
  },
  {
   "cell_type": "markdown",
   "metadata": {},
   "source": [
    "#### Логистическая регрессия"
   ]
  },
  {
   "cell_type": "code",
   "execution_count": 468,
   "metadata": {},
   "outputs": [
    {
     "data": {
      "text/plain": [
       "[Text(0.5, 0, 'Predicted'),\n",
       " Text(0, 0.5, 'Actual'),\n",
       " Text(0.5, 1.0, 'Логистическая регрессия')]"
      ]
     },
     "execution_count": 468,
     "metadata": {},
     "output_type": "execute_result"
    },
    {
     "data": {
      "image/png": "[encoded data removed]",
      "text/plain": [
       "<Figure size 576x576 with 2 Axes>"
      ]
     },
     "metadata": {
      "needs_background": "light"
     },
     "output_type": "display_data"
    }
   ],
   "source": [
    "fig, ax = plt.subplots(figsize=(8,8))\n",
    "plot_confusion_matrix(estimator=best_model_log, X=features_valid, y_true=target_valid, ax=ax,\n",
    "                      normalize='true', cmap='summer')\n",
    "ax.set(xlabel='Predicted', ylabel='Actual', title='Логистическая регрессия')"
   ]
  },
  {
   "cell_type": "markdown",
   "metadata": {},
   "source": [
    "Мы построили матрицы ошибок. На графике видно, что модель правильно определяет случай когда клиент клиент не ушел и целевой признак равен 0, в 95-97% случаев. Но при этом когда клиент остался - 1, лишь в 19-40% случаев модель дает правильные ответы."
   ]
  },
  {
   "cell_type": "markdown",
   "metadata": {},
   "source": [
    "<div class=\"alert alert-block alert-success\">\n",
    "<b>Успех:</b> Шаг проделан хорошо, идем дальше.\n",
    "</div>\n"
   ]
  },
  {
   "cell_type": "markdown",
   "metadata": {},
   "source": [
    "## Борьба с дисбалансом"
   ]
  },
  {
   "cell_type": "markdown",
   "metadata": {},
   "source": [
    "### Взвешивание классов"
   ]
  },
  {
   "cell_type": "markdown",
   "metadata": {},
   "source": [
    "#### Дерево решений"
   ]
  },
  {
   "cell_type": "code",
   "execution_count": 469,
   "metadata": {},
   "outputs": [
    {
     "name": "stderr",
     "output_type": "stream",
     "text": [
      "100%|██████████| 9/9 [00:00<00:00, 54.76it/s]"
     ]
    },
    {
     "name": "stdout",
     "output_type": "stream",
     "text": [
      "Оптимальная глубина дерева = 5\n",
      "Качество модели -  0.5823834196891191\n",
      "CPU times: user 156 ms, sys: 10.9 ms, total: 167 ms\n",
      "Wall time: 173 ms\n"
     ]
    },
    {
     "name": "stderr",
     "output_type": "stream",
     "text": [
      "\n"
     ]
    }
   ],
   "source": [
    "%%time\n",
    "\n",
    "best_model_tree = None\n",
    "best_f1_tree_w = 0\n",
    "\n",
    "for depth in tqdm(range(1, 10)):\n",
    "    model_tree = DecisionTreeClassifier(random_state=12345,\n",
    "                                        max_depth=depth, class_weight='balanced')\n",
    "    model_tree.fit(features_train, target_train)\n",
    "    predictions_valid_tree = model_tree.predict(features_valid)\n",
    "    f1_tree = f1_score(target_valid, predictions_valid_tree)\n",
    "    if f1_tree > best_f1_tree_w:\n",
    "        best_model_tree = model_tree\n",
    "        best_depth = depth\n",
    "        best_f1_tree_w = f1_tree\n",
    "\n",
    "print('Оптимальная глубина дерева =', best_depth) \n",
    "print('Качество модели - ', best_f1_tree_w)\n"
   ]
  },
  {
   "cell_type": "code",
   "execution_count": 470,
   "metadata": {},
   "outputs": [
    {
     "name": "stdout",
     "output_type": "stream",
     "text": [
      "Accuracy Дерева решений: 0.7985\n",
      "Полнота Дерва решений: 0.6643026004728132\n",
      "Точность дерева решений: 0.518450184501845\n",
      "F1 Дерева решений: 0.5823834196891191\n",
      "AUC-ROC Дерева решений:  0.8361838544922505\n"
     ]
    }
   ],
   "source": [
    "model_tree = DecisionTreeClassifier(random_state=12345,\n",
    "                                    max_depth=5, class_weight='balanced')\n",
    "model_tree.fit(features_train, target_train)\n",
    "predictions_valid_tree = model_tree.predict(features_valid)\n",
    "print(\"Accuracy Дерева решений:\", accuracy_score(target_valid, predictions_valid_tree))\n",
    "print(\"Полнота Дерва решений:\", recall_score(target_valid, predictions_valid_tree))\n",
    "print(\"Точность дерева решений:\", precision_score(target_valid, predictions_valid_tree))\n",
    "print(\"F1 Дерева решений:\", f1_score(target_valid, predictions_valid_tree))\n",
    "\n",
    "probabilities_valid_tree = model_tree.predict_proba(features_valid)\n",
    "probabilities_one_valid_tree = probabilities_valid_tree[:, 1]\n",
    "\n",
    "# < напишите код здесь >\n",
    "fpr_tree_w, tpr_tree_w, thresholds_tree_w = roc_curve(target_valid, probabilities_one_valid_tree)\n",
    "auc_roc_tree_w = roc_auc_score(target_valid, probabilities_one_valid_tree)\n",
    "print('AUC-ROC Дерева решений: ', auc_roc_tree_w)"
   ]
  },
  {
   "cell_type": "markdown",
   "metadata": {},
   "source": [
    "#### Случайный лес"
   ]
  },
  {
   "cell_type": "code",
   "execution_count": 471,
   "metadata": {},
   "outputs": [
    {
     "name": "stderr",
     "output_type": "stream",
     "text": [
      "100%|██████████| 10/10 [00:21<00:00,  2.16s/it]"
     ]
    },
    {
     "name": "stdout",
     "output_type": "stream",
     "text": [
      "Оптимальное количество оценок = 90\n",
      "Оптимальная глубина дерева = 9\n",
      "Качество модели -  0.6185567010309279\n",
      "CPU times: user 21.3 s, sys: 87.8 ms, total: 21.4 s\n",
      "Wall time: 21.6 s\n"
     ]
    },
    {
     "name": "stderr",
     "output_type": "stream",
     "text": [
      "\n"
     ]
    }
   ],
   "source": [
    "%%time\n",
    "\n",
    "best_model_for = None\n",
    "best_f1_for_w = 0\n",
    "\n",
    "for est in tqdm(range(10, 101, 10)):\n",
    "    for depth in range(1, 10):\n",
    "        model_forest = RandomForestClassifier(random_state=12345,\n",
    "                                              n_estimators=est, \n",
    "                                              max_depth=depth, class_weight='balanced')\n",
    "        model_forest.fit(features_train, target_train)\n",
    "        predictions_valid_forest = model_forest.predict(features_valid)\n",
    "        f1_forest = f1_score(target_valid, predictions_valid_forest)\n",
    "#        print(est)\n",
    "#        print(depth)\n",
    "#        print(f1_forest)\n",
    "        if f1_forest > best_f1_for_w:\n",
    "            best_model_for = model_forest\n",
    "            best_est = est\n",
    "            best_depth = depth\n",
    "            best_f1_for_w = f1_forest\n",
    "\n",
    "print('Оптимальное количество оценок =', best_est)\n",
    "print('Оптимальная глубина дерева =', best_depth)\n",
    "print('Качество модели - ', best_f1_for_w)\n"
   ]
  },
  {
   "cell_type": "code",
   "execution_count": 472,
   "metadata": {},
   "outputs": [
    {
     "name": "stdout",
     "output_type": "stream",
     "text": [
      "Accuracy Случайного леса: 0.8335\n",
      "Полнота Случайного леса: 0.6382978723404256\n",
      "Точность Случайного леса: 0.6\n",
      "F1 Случайного леса: 0.6185567010309279\n",
      "AUC-ROC Случайного леса:  0.8597855400699477\n"
     ]
    }
   ],
   "source": [
    "model_forest = RandomForestClassifier(random_state=12345, \n",
    "                                      n_estimators=90, \n",
    "                                      max_depth=9, class_weight='balanced')\n",
    "model_forest.fit(features_train, target_train)\n",
    "predictions_valid_forest = model_forest.predict(features_valid)\n",
    "\n",
    "print(\"Accuracy Случайного леса:\", accuracy_score(target_valid, predictions_valid_forest))\n",
    "print(\"Полнота Случайного леса:\", recall_score(target_valid, predictions_valid_forest))\n",
    "print(\"Точность Случайного леса:\", precision_score(target_valid, predictions_valid_forest))\n",
    "print(\"F1 Случайного леса:\", f1_score(target_valid, predictions_valid_forest))\n",
    "\n",
    "probabilities_valid_for = model_forest.predict_proba(features_valid)\n",
    "probabilities_one_valid_for = probabilities_valid_for[:, 1]\n",
    "\n",
    "# < напишите код здесь >\n",
    "fpr_for_w, tpr_for_w, thresholds_for_w = roc_curve(target_valid, probabilities_one_valid_for)\n",
    "auc_roc_for_w = roc_auc_score(target_valid, probabilities_one_valid_for)\n",
    "print('AUC-ROC Случайного леса: ', auc_roc_for_w)"
   ]
  },
  {
   "cell_type": "markdown",
   "metadata": {},
   "source": [
    "#### Логистическая регрессия"
   ]
  },
  {
   "cell_type": "code",
   "execution_count": 473,
   "metadata": {},
   "outputs": [
    {
     "name": "stderr",
     "output_type": "stream",
     "text": [
      "100%|██████████| 6/6 [00:00<00:00,  6.92it/s]\n"
     ]
    },
    {
     "name": "stdout",
     "output_type": "stream",
     "text": [
      "Количество итераций = 20\n",
      "Качество модели F1 -  0.4831751509922347\n",
      "Accuracy Логистической регрессии: 0.7005\n",
      "Полнота Логистической регрессии: 0.6619385342789598\n",
      "Точность Логистической регрессии: 0.3804347826086957\n",
      "AUC-ROC Логистической регрессии:  0.7416436931001348\n",
      "CPU times: user 513 ms, sys: 538 ms, total: 1.05 s\n",
      "Wall time: 1.03 s\n"
     ]
    }
   ],
   "source": [
    "%%time\n",
    "\n",
    "max_iter = [20, 50, 100, 200, 500, 1000]                      \n",
    "\n",
    "best_model_log = None\n",
    "best_f1_log_w = 0\n",
    "\n",
    "for iter in tqdm(max_iter):\n",
    "    model_log = LogisticRegression(random_state=12345,\n",
    "                               solver='liblinear', max_iter=iter, class_weight='balanced')\n",
    "    model_log.fit(features_train, target_train)\n",
    "    predictions_valid_log = model_log.predict(features_valid)\n",
    "    f1_log = f1_score(target_valid, predictions_valid_log)\n",
    "    Accuracy_log = accuracy_score(target_valid, predictions_valid_log)\n",
    "    Recall_log = recall_score(target_valid, predictions_valid_log)\n",
    "    Precision_log = precision_score(target_valid, predictions_valid_log)\n",
    "#    print(iter)\n",
    "#    print(f1_log)\n",
    "    if f1_log > best_f1_log_w:\n",
    "        best_model_log = model_log\n",
    "        best_iter = iter\n",
    "        best_f1_log_w = f1_log\n",
    "            \n",
    "print('Количество итераций =', best_iter)\n",
    "print('Качество модели F1 - ', best_f1_log_w)\n",
    "            \n",
    "print(\"Accuracy Логистической регрессии:\", accuracy_score(target_valid, predictions_valid_log))\n",
    "print(\"Полнота Логистической регрессии:\", recall_score(target_valid, predictions_valid_log))\n",
    "print(\"Точность Логистической регрессии:\", precision_score(target_valid, predictions_valid_log))\n",
    "\n",
    "probabilities_valid_log = model_log.predict_proba(features_valid)\n",
    "probabilities_one_valid_log = probabilities_valid_log[:, 1]\n",
    "\n",
    "fpr_log_w, tpr_log_w, thresholds_log_w = roc_curve(target_valid, probabilities_one_valid_log)\n",
    "auc_roc_log_w = roc_auc_score(target_valid, probabilities_one_valid_log)\n",
    "print('AUC-ROC Логистической регрессии: ', auc_roc_log_w)"
   ]
  },
  {
   "cell_type": "markdown",
   "metadata": {},
   "source": [
    "Сравним значения качества модели F1"
   ]
  },
  {
   "cell_type": "code",
   "execution_count": 474,
   "metadata": {},
   "outputs": [
    {
     "name": "stdout",
     "output_type": "stream",
     "text": [
      "Качество модели F1 - Дерево решений:  0.5823834196891191\n",
      "Качество модели F1 - Случайный лес:  0.6185567010309279\n",
      "Качество модели F1 - Логистическая регрессия:  0.4831751509922347\n"
     ]
    }
   ],
   "source": [
    "print('Качество модели F1 - Дерево решений: ', best_f1_tree_w)\n",
    "print('Качество модели F1 - Случайный лес: ', best_f1_for_w)\n",
    "print('Качество модели F1 - Логистическая регрессия: ', best_f1_log_w)"
   ]
  },
  {
   "cell_type": "markdown",
   "metadata": {},
   "source": [
    "Мы видим что при взвешивании классов, качество моделей возросло, особенно Логистической регрессии, но лучшей также остается модель Случайного леса."
   ]
  },
  {
   "cell_type": "markdown",
   "metadata": {},
   "source": [
    "#### ROC - кривая"
   ]
  },
  {
   "cell_type": "code",
   "execution_count": 475,
   "metadata": {},
   "outputs": [
    {
     "data": {
      "image/png": "[encoded data removed]",
      "text/plain": [
       "<Figure size 432x288 with 1 Axes>"
      ]
     },
     "metadata": {
      "needs_background": "light"
     },
     "output_type": "display_data"
    }
   ],
   "source": [
    "plt.figure()\n",
    "\n",
    "# < постройте график >\n",
    "plt.plot(fpr_tree_w, tpr_tree_w, color='red')\n",
    "plt.plot(fpr_for_w, tpr_for_w, color='green')\n",
    "plt.plot(fpr_log_w, tpr_log_w, color='blue')\n",
    "# ROC-кривая случайной модели (выглядит как прямая)\n",
    "plt.plot([0, 1], [0, 1], linestyle='--')\n",
    "\n",
    "# < примените функции plt.xlim() и plt.ylim(), чтобы\n",
    "#   установить границы осей от 0 до 1 >\n",
    "plt.xlim([0.0, 1.0])\n",
    "plt.ylim([0.0, 1.0])\n",
    "# < примените функции plt.xlabel() и plt.ylabel(), чтобы\n",
    "#   подписать оси \"False Positive Rate\" и \"True Positive Rate\" >\n",
    "plt.xlabel('False Positive Rate')\n",
    "plt.ylabel('True Positive Rate')\n",
    "plt.legend(['Дерево решений', 'Случайный лес', 'Логистическая регрессия'])\n",
    "# < добавьте к графику заголовок \"ROC-кривая\" функцией plt.title() >\n",
    "plt.title('ROC-кривая')\n",
    "plt.show()"
   ]
  },
  {
   "cell_type": "markdown",
   "metadata": {},
   "source": [
    "Анализируя ROC график, также подтверждается, что лучшая модель - Случайный лес."
   ]
  },
  {
   "cell_type": "markdown",
   "metadata": {},
   "source": [
    "### Увеличение выборки"
   ]
  },
  {
   "cell_type": "markdown",
   "metadata": {},
   "source": [
    "Так как классы у нас отличаются в 4 раза, то увеличим выбоку в 4 раза."
   ]
  },
  {
   "cell_type": "code",
   "execution_count": 476,
   "metadata": {},
   "outputs": [
    {
     "name": "stdout",
     "output_type": "stream",
     "text": [
      "(9588, 11)\n",
      "(9588,)\n"
     ]
    }
   ],
   "source": [
    "def upsample(features, target, repeat):\n",
    "    features_zeros = features[target == 0]\n",
    "    features_ones = features[target == 1]\n",
    "    target_zeros = target[target == 0]\n",
    "    target_ones = target[target == 1]\n",
    "\n",
    "    features_upsampled = pd.concat([features_zeros] + [features_ones] * repeat)\n",
    "    target_upsampled = pd.concat([target_zeros] + [target_ones] * repeat)\n",
    "    \n",
    "    features_upsampled, target_upsampled = shuffle(\n",
    "        features_upsampled, target_upsampled, random_state=12345)\n",
    "    \n",
    "    return features_upsampled, target_upsampled\n",
    "\n",
    "features_upsampled, target_upsampled = upsample(features_train, target_train, 4)\n",
    "print(features_upsampled.shape)\n",
    "print(target_upsampled.shape)"
   ]
  },
  {
   "cell_type": "markdown",
   "metadata": {},
   "source": [
    "\n",
    "<div class=\"alert alert-block alert-success\">\n",
    "    \n",
    "<b>Успех:</b> Выбран правильный `repeat`\n",
    "</div>"
   ]
  },
  {
   "cell_type": "markdown",
   "metadata": {},
   "source": [
    "#### Дерево решений"
   ]
  },
  {
   "cell_type": "code",
   "execution_count": 477,
   "metadata": {},
   "outputs": [
    {
     "name": "stderr",
     "output_type": "stream",
     "text": [
      "100%|██████████| 9/9 [00:00<00:00, 41.17it/s]"
     ]
    },
    {
     "name": "stdout",
     "output_type": "stream",
     "text": [
      "Оптимальная глубина дерева = 5\n",
      "Качество модели -  0.5823834196891191\n",
      "CPU times: user 211 ms, sys: 3.78 ms, total: 215 ms\n",
      "Wall time: 222 ms\n"
     ]
    },
    {
     "name": "stderr",
     "output_type": "stream",
     "text": [
      "\n"
     ]
    }
   ],
   "source": [
    "%%time\n",
    "\n",
    "best_model_tree = None\n",
    "best_f1_tree_u = 0\n",
    "\n",
    "for depth in tqdm(range(1, 10)):\n",
    "    model_tree = DecisionTreeClassifier(random_state=12345,\n",
    "                                        max_depth=depth)\n",
    "    model_tree.fit(features_upsampled, target_upsampled)\n",
    "    predictions_valid_tree = model_tree.predict(features_valid)\n",
    "    f1_tree = f1_score(target_valid, predictions_valid_tree)\n",
    "    if f1_tree > best_f1_tree_u:\n",
    "        best_model_tree = model_tree\n",
    "        best_depth = depth\n",
    "        best_f1_tree_u = f1_tree\n",
    "\n",
    "print('Оптимальная глубина дерева =', best_depth) \n",
    "print('Качество модели - ', best_f1_tree_u)"
   ]
  },
  {
   "cell_type": "code",
   "execution_count": 478,
   "metadata": {},
   "outputs": [
    {
     "name": "stdout",
     "output_type": "stream",
     "text": [
      "Accuracy Дерева решений: 0.7985\n",
      "Полнота Дерва решений: 0.6643026004728132\n",
      "Точность дерева решений: 0.518450184501845\n",
      "F1 Дерева решений: 0.5823834196891191\n",
      "AUC-ROC Дерева решений:  0.8361838544922505\n"
     ]
    }
   ],
   "source": [
    "model_tree = DecisionTreeClassifier(random_state=12345,\n",
    "                                    max_depth=5)\n",
    "model_tree.fit(features_upsampled, target_upsampled)\n",
    "predictions_valid_tree = model_tree.predict(features_valid)\n",
    "print(\"Accuracy Дерева решений:\", accuracy_score(target_valid, predictions_valid_tree))\n",
    "print(\"Полнота Дерва решений:\", recall_score(target_valid, predictions_valid_tree))\n",
    "print(\"Точность дерева решений:\", precision_score(target_valid, predictions_valid_tree))\n",
    "print(\"F1 Дерева решений:\", f1_score(target_valid, predictions_valid_tree))\n",
    "\n",
    "probabilities_valid_tree = model_tree.predict_proba(features_valid)\n",
    "probabilities_one_valid_tree = probabilities_valid_tree[:, 1]\n",
    "\n",
    "# < напишите код здесь >\n",
    "fpr_tree_u, tpr_tree_u, thresholds_tree_u = roc_curve(target_valid, probabilities_one_valid_tree)\n",
    "auc_roc_tree_u = roc_auc_score(target_valid, probabilities_one_valid_tree)\n",
    "print('AUC-ROC Дерева решений: ', auc_roc_tree_u)"
   ]
  },
  {
   "cell_type": "markdown",
   "metadata": {},
   "source": [
    "#### Случайный лес"
   ]
  },
  {
   "cell_type": "code",
   "execution_count": 479,
   "metadata": {},
   "outputs": [
    {
     "name": "stderr",
     "output_type": "stream",
     "text": [
      "100%|██████████| 10/10 [00:29<00:00,  2.92s/it]"
     ]
    },
    {
     "name": "stdout",
     "output_type": "stream",
     "text": [
      "Оптимальное количество оценок = 20\n",
      "Оптимальная глубина дерева = 9\n",
      "Качество модели -  0.6130346232179226\n",
      "CPU times: user 29 s, sys: 100 ms, total: 29.1 s\n",
      "Wall time: 29.2 s\n"
     ]
    },
    {
     "name": "stderr",
     "output_type": "stream",
     "text": [
      "\n"
     ]
    }
   ],
   "source": [
    "%%time\n",
    "\n",
    "best_model_for = None\n",
    "best_f1_for_u = 0\n",
    "\n",
    "for est in tqdm(range(10, 101, 10)):\n",
    "    for depth in range(1, 10):\n",
    "        model_forest = RandomForestClassifier(random_state=12345,\n",
    "                                              n_estimators=est, \n",
    "                                              max_depth=depth)\n",
    "        model_forest.fit(features_upsampled, target_upsampled)\n",
    "        predictions_valid_forest = model_forest.predict(features_valid)\n",
    "        f1_forest = f1_score(target_valid, predictions_valid_forest)\n",
    "#        print(est)\n",
    "#        print(depth)\n",
    "#        print(f1_forest)\n",
    "        if f1_forest > best_f1_for_u:\n",
    "            best_model_for = model_forest\n",
    "            best_est = est\n",
    "            best_depth = depth\n",
    "            best_f1_for_u = f1_forest\n",
    "\n",
    "print('Оптимальное количество оценок =', best_est)\n",
    "print('Оптимальная глубина дерева =', best_depth)\n",
    "print('Качество модели - ', best_f1_for_u)"
   ]
  },
  {
   "cell_type": "code",
   "execution_count": 480,
   "metadata": {},
   "outputs": [
    {
     "name": "stdout",
     "output_type": "stream",
     "text": [
      "Accuracy Случайного леса: 0.81\n",
      "Полнота Случайного леса: 0.7115839243498818\n",
      "Точность Случайного леса: 0.5384615384615384\n",
      "F1 Случайного леса: 0.6130346232179226\n",
      "AUC-ROC Случайного леса:  0.8529564319240382\n"
     ]
    }
   ],
   "source": [
    "model_forest = RandomForestClassifier(random_state=12345, \n",
    "                                      n_estimators=20, \n",
    "                                      max_depth=9)\n",
    "model_forest.fit(features_upsampled, target_upsampled)\n",
    "predictions_valid_forest = model_forest.predict(features_valid)\n",
    "\n",
    "print(\"Accuracy Случайного леса:\", accuracy_score(target_valid, predictions_valid_forest))\n",
    "print(\"Полнота Случайного леса:\", recall_score(target_valid, predictions_valid_forest))\n",
    "print(\"Точность Случайного леса:\", precision_score(target_valid, predictions_valid_forest))\n",
    "print(\"F1 Случайного леса:\", f1_score(target_valid, predictions_valid_forest))\n",
    "\n",
    "probabilities_valid_for = model_forest.predict_proba(features_valid)\n",
    "probabilities_one_valid_for = probabilities_valid_for[:, 1]\n",
    "\n",
    "# < напишите код здесь >\n",
    "fpr_for_u, tpr_for_u, thresholds_for_u = roc_curve(target_valid, probabilities_one_valid_for)\n",
    "auc_roc_for_u = roc_auc_score(target_valid, probabilities_one_valid_for)\n",
    "print('AUC-ROC Случайного леса: ', auc_roc_for_u)"
   ]
  },
  {
   "cell_type": "markdown",
   "metadata": {},
   "source": [
    "#### Логистическая регрессия"
   ]
  },
  {
   "cell_type": "code",
   "execution_count": 481,
   "metadata": {},
   "outputs": [
    {
     "name": "stderr",
     "output_type": "stream",
     "text": [
      "100%|██████████| 6/6 [00:01<00:00,  5.64it/s]\n"
     ]
    },
    {
     "name": "stdout",
     "output_type": "stream",
     "text": [
      "Количество итераций = 20\n",
      "Качество модели F1 -  0.48228176318063953\n",
      "Accuracy Логистической регрессии: 0.7005\n",
      "Полнота Логистической регрессии: 0.6595744680851063\n",
      "Точность Логистической регрессии: 0.3801089918256131\n",
      "AUC-ROC Логистической регрессии:  0.7416766730977661\n",
      "CPU times: user 524 ms, sys: 654 ms, total: 1.18 s\n",
      "Wall time: 1.16 s\n"
     ]
    }
   ],
   "source": [
    "%%time\n",
    "\n",
    "max_iter = [20, 50, 100, 200, 500, 1000]                      \n",
    "\n",
    "best_model_log = None\n",
    "best_f1_log_u = 0\n",
    "\n",
    "for iter in tqdm(max_iter):\n",
    "    model_log = LogisticRegression(random_state=12345,\n",
    "                               solver='liblinear', max_iter=iter)\n",
    "    model_log.fit(features_upsampled, target_upsampled)\n",
    "    predictions_valid_log = model_log.predict(features_valid)\n",
    "    f1_log = f1_score(target_valid, predictions_valid_log)\n",
    "    Accuracy_log = accuracy_score(target_valid, predictions_valid_log)\n",
    "    Recall_log = recall_score(target_valid, predictions_valid_log)\n",
    "    Precision_log = precision_score(target_valid, predictions_valid_log)\n",
    "#    print(iter)\n",
    "#    print(f1_log)\n",
    "    if f1_log > best_f1_log_u:\n",
    "        best_model_log = model_log\n",
    "        best_iter = iter\n",
    "        best_f1_log_u = f1_log\n",
    "            \n",
    "print('Количество итераций =', best_iter)\n",
    "print('Качество модели F1 - ', best_f1_log_u)            \n",
    "print(\"Accuracy Логистической регрессии:\", accuracy_score(target_valid, predictions_valid_log))\n",
    "print(\"Полнота Логистической регрессии:\", recall_score(target_valid, predictions_valid_log))\n",
    "print(\"Точность Логистической регрессии:\", precision_score(target_valid, predictions_valid_log))\n",
    "\n",
    "probabilities_valid_log = model_log.predict_proba(features_valid)\n",
    "probabilities_one_valid_log = probabilities_valid_log[:, 1]\n",
    "\n",
    "fpr_log_u, tpr_log_u, thresholds_log_u = roc_curve(target_valid, probabilities_one_valid_log)\n",
    "auc_roc_log_u = roc_auc_score(target_valid, probabilities_one_valid_log)\n",
    "print('AUC-ROC Логистической регрессии: ', auc_roc_log_u)"
   ]
  },
  {
   "cell_type": "markdown",
   "metadata": {},
   "source": [
    "Сравним значения качества модели F1"
   ]
  },
  {
   "cell_type": "code",
   "execution_count": 482,
   "metadata": {},
   "outputs": [
    {
     "name": "stdout",
     "output_type": "stream",
     "text": [
      "Качество модели F1 - Дерево решений:  0.5823834196891191\n",
      "Качество модели F1 - Случайный лес:  0.6130346232179226\n",
      "Качество модели F1 - Логистическая регрессия:  0.48228176318063953\n"
     ]
    }
   ],
   "source": [
    "print('Качество модели F1 - Дерево решений: ', best_f1_tree_u)\n",
    "print('Качество модели F1 - Случайный лес: ', best_f1_for_u)\n",
    "print('Качество модели F1 - Логистическая регрессия: ', best_f1_log_u)"
   ]
  },
  {
   "cell_type": "markdown",
   "metadata": {},
   "source": [
    "Мы видим что при увеличении выборки, качество моделей заметно ухудштлось, по сравнению с качеством моделей при взвешивании классов, но модель Случайный лес, также показывает наилучший результат."
   ]
  },
  {
   "cell_type": "markdown",
   "metadata": {},
   "source": [
    "<div class=\"alert alert-block alert-warning\">\n",
    "<b>Изменения:</b> Мы видим что при увеличении выборки, качество моделей не изменилось, по сравнению с качеством моделей при взвешивании классов, но модель Случайный лес, также показывает наилучший результат.\n",
    "</div>"
   ]
  },
  {
   "cell_type": "markdown",
   "metadata": {},
   "source": [
    "<div class=\"alert alert-block alert-success\">\n",
    "<b>Успех[2]:</b> Есть\n",
    "</div>\n"
   ]
  },
  {
   "cell_type": "markdown",
   "metadata": {},
   "source": [
    "#### ROC - кривая"
   ]
  },
  {
   "cell_type": "code",
   "execution_count": 491,
   "metadata": {},
   "outputs": [
    {
     "data": {
      "image/png": "[encoded data removed]",
      "text/plain": [
       "<Figure size 432x288 with 1 Axes>"
      ]
     },
     "metadata": {
      "needs_background": "light"
     },
     "output_type": "display_data"
    }
   ],
   "source": [
    "plt.figure()\n",
    "\n",
    "# < постройте график >\n",
    "plt.plot(fpr_tree_u, tpr_tree_u, color='red')\n",
    "plt.plot(fpr_for_u, tpr_for_u, color='green')\n",
    "plt.plot(fpr_log_u, tpr_log_u, color='blue')\n",
    "# ROC-кривая случайной модели (выглядит как прямая)\n",
    "plt.plot([0, 1], [0, 1], linestyle='--')\n",
    "\n",
    "# < примените функции plt.xlim() и plt.ylim(), чтобы\n",
    "#   установить границы осей от 0 до 1 >\n",
    "plt.xlim([0.0, 1.0])\n",
    "plt.ylim([0.0, 1.0])\n",
    "# < примените функции plt.xlabel() и plt.ylabel(), чтобы\n",
    "#   подписать оси \"False Positive Rate\" и \"True Positive Rate\" >\n",
    "plt.xlabel('False Positive Rate')\n",
    "plt.ylabel('True Positive Rate')\n",
    "plt.legend(['Дерево решений', 'Случайный лес', 'Логистическая регрессия'])\n",
    "# < добавьте к графику заголовок \"ROC-кривая\" функцией plt.title() >\n",
    "plt.title('ROC-кривая')\n",
    "plt.show()"
   ]
  },
  {
   "cell_type": "markdown",
   "metadata": {},
   "source": [
    "На графике ROC лучшей результат также у модели Случайный лес."
   ]
  },
  {
   "cell_type": "markdown",
   "metadata": {},
   "source": [
    "### Уменьшение выборки"
   ]
  },
  {
   "cell_type": "markdown",
   "metadata": {},
   "source": [
    "Так как классы у нас отличаются в 4 раза, то уменьшим выборку в 4 раза"
   ]
  },
  {
   "cell_type": "code",
   "execution_count": 492,
   "metadata": {},
   "outputs": [
    {
     "name": "stdout",
     "output_type": "stream",
     "text": [
      "(2397, 11)\n",
      "(2397,)\n"
     ]
    }
   ],
   "source": [
    "def downsample(features, target, fraction):\n",
    "    features_zeros = features[target == 0]\n",
    "    features_ones = features[target == 1]\n",
    "    target_zeros = target[target == 0]\n",
    "    target_ones = target[target == 1]\n",
    "\n",
    "    features_downsampled = pd.concat(\n",
    "        [features_zeros.sample(frac=fraction, random_state=12345)] + [features_ones])\n",
    "    target_downsampled = pd.concat(\n",
    "        [target_zeros.sample(frac=fraction, random_state=12345)] + [target_ones])\n",
    "    \n",
    "    features_downsampled, target_downsampled = shuffle(\n",
    "        features_downsampled, target_downsampled, random_state=12345)\n",
    "    \n",
    "    return features_downsampled, target_downsampled\n",
    "\n",
    "features_downsampled, target_downsampled = downsample(features_train, target_train, 0.25)\n",
    "print(features_downsampled.shape)\n",
    "print(target_downsampled.shape)"
   ]
  },
  {
   "cell_type": "markdown",
   "metadata": {},
   "source": [
    "<div class=\"alert alert-block alert-success\">\n",
    "    \n",
    "<b>Успех:</b> Выбран правильный `fraction`\n",
    "</div>"
   ]
  },
  {
   "cell_type": "markdown",
   "metadata": {},
   "source": [
    "#### Дерево решений"
   ]
  },
  {
   "cell_type": "code",
   "execution_count": 493,
   "metadata": {},
   "outputs": [
    {
     "name": "stderr",
     "output_type": "stream",
     "text": [
      "100%|██████████| 9/9 [00:00<00:00, 90.27it/s]"
     ]
    },
    {
     "name": "stdout",
     "output_type": "stream",
     "text": [
      "Оптимальная глубина дерева = 5\n",
      "Качество модели -  0.6093264248704664\n",
      "CPU times: user 99.2 ms, sys: 0 ns, total: 99.2 ms\n",
      "Wall time: 115 ms\n"
     ]
    },
    {
     "name": "stderr",
     "output_type": "stream",
     "text": [
      "\n"
     ]
    }
   ],
   "source": [
    "%%time\n",
    "\n",
    "best_model_tree = None\n",
    "best_f1_tree_d = 0\n",
    "\n",
    "for depth in tqdm(range(1, 10)):\n",
    "    model_tree = DecisionTreeClassifier(random_state=12345,\n",
    "                                        max_depth=depth)\n",
    "    model_tree.fit(features_downsampled, target_downsampled)\n",
    "    predictions_valid_tree = model_tree.predict(features_valid)\n",
    "    f1_tree = f1_score(target_valid, predictions_valid_tree)\n",
    "    if f1_tree > best_f1_tree_d:\n",
    "        best_model_tree = model_tree\n",
    "        best_depth = depth\n",
    "        best_f1_tree_d = f1_tree\n",
    "\n",
    "print('Оптимальная глубина дерева =', best_depth) \n",
    "print('Качество модели - ', best_f1_tree_d)"
   ]
  },
  {
   "cell_type": "code",
   "execution_count": 494,
   "metadata": {},
   "outputs": [
    {
     "name": "stdout",
     "output_type": "stream",
     "text": [
      "Accuracy Дерева решений: 0.8115\n",
      "Полнота Дерва решений: 0.6950354609929078\n",
      "Точность дерева решений: 0.5424354243542435\n",
      "F1 Дерева решений: 0.6093264248704664\n",
      "AUC-ROC Дерева решений:  0.8389699147467062\n"
     ]
    }
   ],
   "source": [
    "model_tree = DecisionTreeClassifier(random_state=12345,\n",
    "                                    max_depth=5)\n",
    "model_tree.fit(features_downsampled, target_downsampled)\n",
    "predictions_valid_tree = model_tree.predict(features_valid)\n",
    "print(\"Accuracy Дерева решений:\", accuracy_score(target_valid, predictions_valid_tree))\n",
    "print(\"Полнота Дерва решений:\", recall_score(target_valid, predictions_valid_tree))\n",
    "print(\"Точность дерева решений:\", precision_score(target_valid, predictions_valid_tree))\n",
    "print(\"F1 Дерева решений:\", f1_score(target_valid, predictions_valid_tree))\n",
    "\n",
    "probabilities_valid_tree = model_tree.predict_proba(features_valid)\n",
    "probabilities_one_valid_tree = probabilities_valid_tree[:, 1]\n",
    "\n",
    "# < напишите код здесь >\n",
    "fpr_tree_d, tpr_tree_d, thresholds_tree_d = roc_curve(target_valid, probabilities_one_valid_tree)\n",
    "auc_roc_tree_d = roc_auc_score(target_valid, probabilities_one_valid_tree)\n",
    "print('AUC-ROC Дерева решений: ', auc_roc_tree_d)"
   ]
  },
  {
   "cell_type": "markdown",
   "metadata": {},
   "source": [
    "#### Случайный лес"
   ]
  },
  {
   "cell_type": "code",
   "execution_count": 495,
   "metadata": {},
   "outputs": [
    {
     "name": "stderr",
     "output_type": "stream",
     "text": [
      "100%|██████████| 10/10 [00:14<00:00,  1.43s/it]"
     ]
    },
    {
     "name": "stdout",
     "output_type": "stream",
     "text": [
      "Оптимальное количество оценок = 60\n",
      "Оптимальная глубина дерева = 9\n",
      "Качество модели -  0.5901942645698427\n",
      "CPU times: user 13.9 s, sys: 85.7 ms, total: 14 s\n",
      "Wall time: 14.4 s\n"
     ]
    },
    {
     "name": "stderr",
     "output_type": "stream",
     "text": [
      "\n"
     ]
    }
   ],
   "source": [
    "%%time\n",
    "\n",
    "best_model_for = None\n",
    "best_f1_for_d = 0\n",
    "\n",
    "for est in tqdm(range(10, 101, 10)):\n",
    "    for depth in range(1, 10):\n",
    "        model_forest = RandomForestClassifier(random_state=12345,\n",
    "                                              n_estimators=est, \n",
    "                                              max_depth=depth)\n",
    "        model_forest.fit(features_downsampled, target_downsampled)\n",
    "        predictions_valid_forest = model_forest.predict(features_valid)\n",
    "        f1_forest = f1_score(target_valid, predictions_valid_forest)\n",
    "#        print(est)\n",
    "#        print(depth)\n",
    "#        print(f1_forest)\n",
    "        if f1_forest > best_f1_for_d:\n",
    "            best_model_for = model_forest\n",
    "            best_est = est\n",
    "            best_depth = depth\n",
    "            best_f1_for_d = f1_forest\n",
    "\n",
    "print('Оптимальное количество оценок =', best_est)\n",
    "print('Оптимальная глубина дерева =', best_depth)\n",
    "print('Качество модели - ', best_f1_for_d)"
   ]
  },
  {
   "cell_type": "code",
   "execution_count": 496,
   "metadata": {},
   "outputs": [
    {
     "name": "stdout",
     "output_type": "stream",
     "text": [
      "Accuracy Случайного леса: 0.7785\n",
      "Полнота Случайного леса: 0.7541371158392435\n",
      "Точность Случайного леса: 0.4848024316109423\n",
      "F1 Случайного леса: 0.5901942645698427\n",
      "AUC-ROC Случайного леса:  0.8501763680327882\n"
     ]
    }
   ],
   "source": [
    "model_forest = RandomForestClassifier(random_state=12345, \n",
    "                                      n_estimators=60, \n",
    "                                      max_depth=9)\n",
    "model_forest.fit(features_downsampled, target_downsampled)\n",
    "predictions_valid_forest = model_forest.predict(features_valid)\n",
    "\n",
    "print(\"Accuracy Случайного леса:\", accuracy_score(target_valid, predictions_valid_forest))\n",
    "print(\"Полнота Случайного леса:\", recall_score(target_valid, predictions_valid_forest))\n",
    "print(\"Точность Случайного леса:\", precision_score(target_valid, predictions_valid_forest))\n",
    "print(\"F1 Случайного леса:\", f1_score(target_valid, predictions_valid_forest))\n",
    "\n",
    "probabilities_valid_for = model_forest.predict_proba(features_valid)\n",
    "probabilities_one_valid_for = probabilities_valid_for[:, 1]\n",
    "\n",
    "# < напишите код здесь >\n",
    "fpr_for_d, tpr_for_d, thresholds_for_d = roc_curve(target_valid, probabilities_one_valid_for)\n",
    "auc_roc_for_d = roc_auc_score(target_valid, probabilities_one_valid_for)\n",
    "print('AUC-ROC Случайного леса: ', auc_roc_for_d)"
   ]
  },
  {
   "cell_type": "markdown",
   "metadata": {},
   "source": [
    "#### Логистическая регрессия"
   ]
  },
  {
   "cell_type": "code",
   "execution_count": 497,
   "metadata": {},
   "outputs": [
    {
     "name": "stderr",
     "output_type": "stream",
     "text": [
      "100%|██████████| 6/6 [00:01<00:00,  5.99it/s]\n"
     ]
    },
    {
     "name": "stdout",
     "output_type": "stream",
     "text": [
      "Количество итераций = 20\n",
      "Качество модели F1 -  0.4816396242527754\n",
      "Accuracy Логистической регрессии: 0.6965\n",
      "Полнота Логистической регрессии: 0.6666666666666666\n",
      "Точность Логистической регрессии: 0.3770053475935829\n",
      "AUC-ROC Логистической регрессии:  0.7408701622465973\n",
      "CPU times: user 470 ms, sys: 627 ms, total: 1.1 s\n",
      "Wall time: 1.09 s\n"
     ]
    }
   ],
   "source": [
    "%%time\n",
    "\n",
    "max_iter = [20, 50, 100, 200, 500, 1000]                      \n",
    "\n",
    "best_model_log = None\n",
    "best_f1_log_d = 0\n",
    "\n",
    "for iter in tqdm(max_iter):\n",
    "    model_log = LogisticRegression(random_state=12345,\n",
    "                               solver='liblinear', max_iter=iter)\n",
    "    model_log.fit(features_downsampled, target_downsampled)\n",
    "    predictions_valid_log = model_log.predict(features_valid)\n",
    "    f1_log = f1_score(target_valid, predictions_valid_log)\n",
    "    Accuracy_log = accuracy_score(target_valid, predictions_valid_log)\n",
    "    Recall_log = recall_score(target_valid, predictions_valid_log)\n",
    "    Precision_log = precision_score(target_valid, predictions_valid_log)\n",
    "#    print(iter)\n",
    "#    print(f1_log)\n",
    "    if f1_log > best_f1_log_d:\n",
    "        best_model_log = model_log\n",
    "        best_iter = iter\n",
    "        best_f1_log_d = f1_log\n",
    "            \n",
    "print('Количество итераций =', best_iter)\n",
    "print('Качество модели F1 - ', best_f1_log_d)            \n",
    "print(\"Accuracy Логистической регрессии:\", accuracy_score(target_valid, predictions_valid_log))\n",
    "print(\"Полнота Логистической регрессии:\", recall_score(target_valid, predictions_valid_log))\n",
    "print(\"Точность Логистической регрессии:\", precision_score(target_valid, predictions_valid_log))\n",
    "\n",
    "probabilities_valid_log = model_log.predict_proba(features_valid)\n",
    "probabilities_one_valid_log = probabilities_valid_log[:, 1]\n",
    "\n",
    "fpr_log_d, tpr_log_d, thresholds_log_d = roc_curve(target_valid, probabilities_one_valid_log)\n",
    "auc_roc_log_d = roc_auc_score(target_valid, probabilities_one_valid_log)\n",
    "print('AUC-ROC Логистической регрессии: ', auc_roc_log_d)"
   ]
  },
  {
   "cell_type": "markdown",
   "metadata": {},
   "source": [
    "Сравним значения качества модели F1"
   ]
  },
  {
   "cell_type": "code",
   "execution_count": 498,
   "metadata": {},
   "outputs": [
    {
     "name": "stdout",
     "output_type": "stream",
     "text": [
      "Качество модели F1 - Дерево решений:  0.6093264248704664\n",
      "Качество модели F1 - Случайный лес:  0.5901942645698427\n",
      "Качество модели F1 - Логистическая регрессия 0.4816396242527754\n"
     ]
    }
   ],
   "source": [
    "print('Качество модели F1 - Дерево решений: ', best_f1_tree_d)\n",
    "print('Качество модели F1 - Случайный лес: ', best_f1_for_d)\n",
    "print('Качество модели F1 - Логистическая регрессия', best_f1_log_d)"
   ]
  },
  {
   "cell_type": "markdown",
   "metadata": {},
   "source": [
    "При уменьшении выборки, качество немного лучше чем при увеличении, но по прежненму при взвешивании классов модель показывает лучшее качество. Как и ранее, модель Случайный лес, показывает наилучший результат."
   ]
  },
  {
   "cell_type": "markdown",
   "metadata": {},
   "source": [
    "<div class=\"alert alert-block alert-warning\">\n",
    "<b>Изменения:</b> Мы видим что при уменьшении выборки, качество моделей изменилось, теперь наилучший результат показывает Дерево решений.\n",
    "</div>"
   ]
  },
  {
   "cell_type": "markdown",
   "metadata": {},
   "source": [
    "#### ROC - кривая"
   ]
  },
  {
   "cell_type": "code",
   "execution_count": 499,
   "metadata": {},
   "outputs": [
    {
     "data": {
      "image/png": "[encoded data removed]",
      "text/plain": [
       "<Figure size 432x288 with 1 Axes>"
      ]
     },
     "metadata": {
      "needs_background": "light"
     },
     "output_type": "display_data"
    }
   ],
   "source": [
    "plt.figure()\n",
    "\n",
    "# < постройте график >\n",
    "plt.plot(fpr_tree_d, tpr_tree_d, color='red')\n",
    "plt.plot(fpr_for_d, tpr_for_d, color='green')\n",
    "plt.plot(fpr_log_d, tpr_log_d, color='blue')\n",
    "# ROC-кривая случайной модели (выглядит как прямая)\n",
    "plt.plot([0, 1], [0, 1], linestyle='--')\n",
    "\n",
    "# < примените функции plt.xlim() и plt.ylim(), чтобы\n",
    "#   установить границы осей от 0 до 1 >\n",
    "plt.xlim([0.0, 1.0])\n",
    "plt.ylim([0.0, 1.0])\n",
    "# < примените функции plt.xlabel() и plt.ylabel(), чтобы\n",
    "#   подписать оси \"False Positive Rate\" и \"True Positive Rate\" >\n",
    "plt.xlabel('False Positive Rate')\n",
    "plt.ylabel('True Positive Rate')\n",
    "plt.legend(['Дерево решений', 'Случайный лес', 'Логистическая регрессия'])\n",
    "# < добавьте к графику заголовок \"ROC-кривая\" функцией plt.title() >\n",
    "plt.title('ROC-кривая')\n",
    "plt.show()"
   ]
  },
  {
   "cell_type": "markdown",
   "metadata": {},
   "source": [
    "График ROC также показывает, что модель Случайный лес - лучшая."
   ]
  },
  {
   "cell_type": "markdown",
   "metadata": {},
   "source": [
    "### Анализ F1 и AUC-ROC"
   ]
  },
  {
   "cell_type": "markdown",
   "metadata": {},
   "source": [
    "Построим график, на котором отобразим все получившиеся значения F1 и AUC-ROC"
   ]
  },
  {
   "cell_type": "code",
   "execution_count": 500,
   "metadata": {},
   "outputs": [
    {
     "data": {
      "image/png": "[encoded data removed]",
      "text/plain": [
       "<Figure size 720x504 with 1 Axes>"
      ]
     },
     "metadata": {
      "needs_background": "light"
     },
     "output_type": "display_data"
    }
   ],
   "source": [
    "# set width of bars\n",
    "barWidth = 0.25\n",
    "plt.figure(figsize=(10, 7))\n",
    "plt.grid(b=True)\n",
    "# set heights of bars\n",
    "tree = [best_f1_tree_n, best_f1_tree_w, best_f1_tree_u, best_f1_tree_d]\n",
    "forest = [best_f1_for_n, best_f1_for_w, best_f1_for_u, best_f1_for_d, ]\n",
    "log = [best_f1_log_n, best_f1_log_w, best_f1_log_u, best_f1_log_d]\n",
    "\n",
    "roc_tree = [auc_roc_tree_n, auc_roc_tree_w, auc_roc_tree_u, auc_roc_tree_d]\n",
    "roc_forest = [auc_roc_for_n, auc_roc_for_w, auc_roc_for_u, auc_roc_for_d]\n",
    "roc_log = [auc_roc_log_n, auc_roc_log_w, auc_roc_log_u, auc_roc_log_d]\n",
    " \n",
    "# Set position of bar on X axis\n",
    "r1 = np.arange(len(tree))\n",
    "r2 = [x + barWidth for x in r1]\n",
    "r3 = [x + barWidth for x in r2]\n",
    " \n",
    "# Make the plot\n",
    "plt.bar(r1, tree, color='red', width=barWidth, edgecolor='white', label='Дерево решений')\n",
    "plt.bar(r2, forest, color='green', width=barWidth, edgecolor='white', label='Случайный лес')\n",
    "plt.bar(r3, log, color='blue', width=barWidth, edgecolor='white', label='Логистическая регрессия')\n",
    "\n",
    "plt.plot(roc_tree, color='red', marker=\"o\", label='AUC-ROC Tree')\n",
    "plt.plot(roc_forest, color='green', marker=\"o\", label='AUC-ROC Forest')\n",
    "plt.plot(roc_log, color='blue', marker=\"o\", label='AUC-ROC Log')\n",
    "# Add xticks on the middle of the group bars\n",
    "plt.xlabel('Качество модели F1 и AUC-ROC', fontsize=20)\n",
    "plt.xticks([r + barWidth for r in range(len(tree))], ['Без учета дисбаланса', 'Взвешивание классов', 'Увеличение выборки', 'Уменьшение выборки'])\n",
    " \n",
    "# Create legend & Show graphic\n",
    "plt.legend(loc='lower center')\n",
    "plt.show()"
   ]
  },
  {
   "cell_type": "markdown",
   "metadata": {},
   "source": [
    "Мы видим, что в любом случае, модель Случайный лес дает наилучший результат. При взвешивании классов, мы получили лучший результат моделей в целом, и Случайного леса в частности. Значение метрики AUC-ROC выше чем F1/"
   ]
  },
  {
   "cell_type": "markdown",
   "metadata": {},
   "source": [
    "<div class=\"alert alert-block alert-warning\">\n",
    "<b>Изменения:</b> Мы видим, что модель Случайный лес дает наилучший результат. Если сравнить модели при взвешивании классов и увеличении выборки, они почти одинаковы, но все таки модель Случайного леса чуть лучше. Значение метрики AUC-ROC выше чем F1/.\n",
    "</div>"
   ]
  },
  {
   "cell_type": "markdown",
   "metadata": {},
   "source": [
    "<div class=\"alert alert-block alert-success\">\n",
    "<b>Успех:</b> хорошая работа с моделями машинного обучения.  Радует  достаточное количество расмотренных методов для борьбы с дисбалансом.\n",
    "\n",
    "</div>\n",
    "\n",
    "<div class=\"alert alert-block alert-info\">\n",
    "<b>Совет:</b> Вычисление/вывод метрик и графиков можно было бы как-то вынести в функцию и избежать дублирования кода и сделать его лаконичнее\n",
    "</div>"
   ]
  },
  {
   "cell_type": "markdown",
   "metadata": {},
   "source": [
    "## Тестирование модели"
   ]
  },
  {
   "cell_type": "markdown",
   "metadata": {},
   "source": [
    "Объединим тренировочную и валидационную выборку и проведем обучение модели на ней."
   ]
  },
  {
   "cell_type": "code",
   "execution_count": 501,
   "metadata": {},
   "outputs": [],
   "source": [
    "new_features_train = pd.concat([features_train, features_valid], axis=0, ignore_index=True)\n",
    "new_target_train = pd.concat([target_train, target_valid], axis=0, ignore_index=True)"
   ]
  },
  {
   "cell_type": "code",
   "execution_count": 503,
   "metadata": {},
   "outputs": [
    {
     "name": "stdout",
     "output_type": "stream",
     "text": [
      "Accuracy на тестовой выборке: 0.832\n",
      "Полнота на тестовой выборке: 0.6698564593301436\n",
      "Точность на тестовой выборке: 0.5857740585774058\n",
      "F1 на тестовой выборке: 0.625\n",
      "AUC-ROC на тестовой выборке:  0.8580955607038513\n"
     ]
    }
   ],
   "source": [
    "model_forest = RandomForestClassifier(random_state=12345, \n",
    "                                      n_estimators=90, \n",
    "                                      max_depth=9, class_weight='balanced')\n",
    "model_forest.fit(new_features_train, new_target_train)\n",
    "predictions_test = model_forest.predict(features_test)\n",
    "\n",
    "print(\"Accuracy на тестовой выборке:\", accuracy_score(target_test, predictions_test))\n",
    "print(\"Полнота на тестовой выборке:\", recall_score(target_test, predictions_test))\n",
    "print(\"Точность на тестовой выборке:\", precision_score(target_test, predictions_test))\n",
    "print(\"F1 на тестовой выборке:\", f1_score(target_test, predictions_test))\n",
    "\n",
    "probabilities_valid_test = model_forest.predict_proba(features_test)\n",
    "probabilities_one_valid_test = probabilities_valid_test[:, 1]\n",
    "\n",
    "# < напишите код здесь >\n",
    "fpr, tpr, thresholds = roc_curve(target_test, probabilities_one_valid_test)\n",
    "auc_roc = roc_auc_score(target_test, probabilities_one_valid_test)\n",
    "print('AUC-ROC на тестовой выборке: ', auc_roc)"
   ]
  },
  {
   "cell_type": "markdown",
   "metadata": {},
   "source": [
    "<div class=\"alert alert-block alert-danger\">\n",
    "<b>Ошибка:</b> А это что такое?) Откуда взялась тренировнчная выборка вместо тестовой. И почему переменные так странно называются?) Разберись плиз)\n",
    "    \n",
    "    probabilities_valid_test = model_forest.predict_proba(new_features_train)\n",
    "    probabilities_one_valid_test = probabilities_valid_test[:, 1]\n",
    "\n",
    "    fpr_test, tpr_test, thresholds_test = roc_curve(new_target_train, probabilities_one_valid_test)\n",
    "    auc_roc_test = roc_auc_score(new_target_train, probabilities_one_valid_test)\n",
    "    print('AUC-ROC на тестовой выборке: ', auc_roc_test)\n",
    "\n",
    "</div>\n"
   ]
  },
  {
   "cell_type": "markdown",
   "metadata": {},
   "source": [
    "<div class=\"alert alert-block alert-warning\">\n",
    "<b>Комментарий студента:</b> Я изначально так называю переменные, чтобы потом мог использовать значения в выводах и графиках\n",
    "</div>"
   ]
  },
  {
   "cell_type": "markdown",
   "metadata": {},
   "source": [
    "<div class=\"alert alert-block alert-success\">\n",
    "    \n",
    "<b>Успех[2]:</b>  Это может создавать путанницу - будь аккуратнее\n",
    "</div>"
   ]
  },
  {
   "cell_type": "markdown",
   "metadata": {},
   "source": [
    "<li>F1 на тестовой выборке: 0.625\n",
    "<li>AUC-ROC на тестовой выборке:  0.8580955607038513</li>"
   ]
  },
  {
   "cell_type": "code",
   "execution_count": 505,
   "metadata": {},
   "outputs": [
    {
     "data": {
      "image/png": "[encoded data removed]",
      "text/plain": [
       "<Figure size 432x288 with 1 Axes>"
      ]
     },
     "metadata": {
      "needs_background": "light"
     },
     "output_type": "display_data"
    }
   ],
   "source": [
    "plt.figure()\n",
    "\n",
    "# < постройте график >\n",
    "plt.plot(fpr, tpr, color='red')\n",
    "#plt.plot(fpr_for, tpr_for, color='green')\n",
    "#plt.plot(fpr_log, tpr_log, color='blue')\n",
    "# ROC-кривая случайной модели (выглядит как прямая)\n",
    "plt.plot([0, 1], [0, 1], linestyle='--')\n",
    "\n",
    "# < примените функции plt.xlim() и plt.ylim(), чтобы\n",
    "#   установить границы осей от 0 до 1 >\n",
    "plt.xlim([0.0, 1.0])\n",
    "plt.ylim([0.0, 1.0])\n",
    "# < примените функции plt.xlabel() и plt.ylabel(), чтобы\n",
    "#   подписать оси \"False Positive Rate\" и \"True Positive Rate\" >\n",
    "plt.xlabel('False Positive Rate')\n",
    "plt.ylabel('True Positive Rate')\n",
    "#plt.legend(['Дерево решений', 'Случайный лес', 'Логистическая регрессия'])\n",
    "# < добавьте к графику заголовок \"ROC-кривая\" функцией plt.title() >\n",
    "plt.title('ROC-кривая')\n",
    "plt.show()"
   ]
  },
  {
   "cell_type": "markdown",
   "metadata": {},
   "source": [
    "## Вывод"
   ]
  },
  {
   "cell_type": "markdown",
   "metadata": {},
   "source": [
    "<b>1. Была проведена подготовка данных для обучения:</b><br>\n",
    "<li>Удалены пропуски в поле 'Tenure'\n",
    "<li>Удалены поля  'Surname', 'CustomerId', 'RowNumber', так как они не влияют на обучение моделей\n",
    "<li>С помощью прямого кодирования или методом One-Hot Encoding преобразованы признаки  'Gender' и 'Geography'\n",
    "<li>Стандартизированы данные путем масштабирования признаков 'CreditScore', 'Balance', 'EstimatedSalary'\n",
    "<li>Проверены связи между признаками - связей не выявлено\n",
    "<li>Данные разделены на выборки в соотношении 60:20:20</li><br>\n",
    "<b>2. Проведено исследование задачи:</b><br>\n",
    "<li>Сравнили классы между собой - получен результат 4:1\n",
    "<li>Сравнили выборку с целевым признаком с константной моделью - получили результат 0.796\n",
    "<li>Проверили модели не учитывая дисбаланс классов:<br>\n",
    "Наилучшее качество модели F1 - Случайный лес:  0.5626134301270418<br>\n",
    "<li>Проанализировали ROC-кривую разных моделей, также получили что лучшее качество имеет Случайный лес\n",
    "<li>Построили матрицы ошибок и установили что из-за дисбаланса классов разные модели дают правильные ответы в случае когда целевой признак равен 1 лишь в 21-47% случаев.</li><br>\n",
    "<b>3. Исправили дисбаланс классов следующими методами: </b><br>\n",
    "<li>Взвешивание классов\n",
    "<li>Увеличение выборки\n",
    "<li>Уменьшение выборки</li><br>\n",
    "<b>4. Нилучший результат показала модель Случайный лес при взвешивании классов: </b><br>\n",
    "<li>F1 Случайного леса: 0.6185567010309279\n",
    "AUC-ROC Случайного леса:  0.8597855400699477</li><br>\n",
    "<b>5. Проанализированы метрики  F1 и AUC-ROC и получили следующий результат:</b><br>\n",
    "<li>В любом случае, модель Случайный лес дает наилучший результат\n",
    "<li>При взвешивании классов, мы получили лучший результат моделей в целом, и Случайного леса в частности\n",
    "<li>Значение метрики AUC-ROC выше чем F1</li><br>\n",
    "<b>6. Протестировали наилучшую модель Случайный лес при взвешивании классов:</b><br>\n",
    "<li>Объединили тренировочную и валидационную выборку и провели обучение модели на ней\n",
    "<li>F1 на тестовой выборке: 0.625\n",
    "<li>AUC-ROC на тестовой выборке:  0.8580955607038513\n",
    "<li>Удалось достичь F1 не менее 0.59</li><br>"
   ]
  },
  {
   "cell_type": "markdown",
   "metadata": {},
   "source": [
    "\n",
    "<div class=\"alert alert-block alert-info\">\n",
    "<b>Совет:</b> Для понимания, а какие в итоге факторы важны при моделировании, можно выводить их важность, использую feature_importances_, ну и график заодно. Это будет смотреться очнь здорово: результативная метрика и график важности факторов)))<br> Очень ВАЖНАЯ для аналитики штука. Ведь нам не просто модель с метрикой нужна, а ещё и причины понять высокой/низкой метрики. Т.е. понять с какой силой сами факторы влияют на целевую.\n",
    "</div>\n"
   ]
  },
  {
   "cell_type": "markdown",
   "metadata": {},
   "source": [
    "## Чек-лист готовности проекта"
   ]
  },
  {
   "cell_type": "markdown",
   "metadata": {},
   "source": [
    "Поставьте 'x' в выполненных пунктах. Далее нажмите Shift+Enter."
   ]
  },
  {
   "cell_type": "markdown",
   "metadata": {},
   "source": [
    "- [x]  Jupyter Notebook открыт\n",
    "- [x]  Весь код выполняется без ошибок\n",
    "- [x]  Ячейки с кодом расположены в порядке исполнения\n",
    "- [x]  Выполнен шаг 1: данные подготовлены\n",
    "- [x]  Выполнен шаг 2: задача исследована\n",
    "    - [x]  Исследован баланс классов\n",
    "    - [x]  Изучены модели без учёта дисбаланса\n",
    "    - [x]  Написаны выводы по результатам исследования\n",
    "- [x]  Выполнен шаг 3: учтён дисбаланс\n",
    "    - [x]  Применено несколько способов борьбы с дисбалансом\n",
    "    - [x]  Написаны выводы по результатам исследования\n",
    "- [x]  Выполнен шаг 4: проведено тестирование\n",
    "- [x]  Удалось достичь *F1*-меры не менее 0.59\n",
    "- [x]  Исследована метрика *AUC-ROC*"
   ]
  },
  {
   "cell_type": "code",
   "execution_count": null,
   "metadata": {},
   "outputs": [],
   "source": []
  }
 ],
 "metadata": {
  "ExecuteTimeLog": [
   {
    "duration": 1284,
    "start_time": "2023-07-11T11:22:51.320Z"
   },
   {
    "duration": 123,
    "start_time": "2023-07-11T11:22:53.499Z"
   },
   {
    "duration": 121,
    "start_time": "2023-07-11T11:23:23.623Z"
   },
   {
    "duration": 63,
    "start_time": "2023-07-11T11:23:25.850Z"
   },
   {
    "duration": 42,
    "start_time": "2023-07-11T11:23:34.171Z"
   },
   {
    "duration": 23,
    "start_time": "2023-07-11T11:23:57.371Z"
   },
   {
    "duration": 748,
    "start_time": "2023-07-11T11:27:57.895Z"
   },
   {
    "duration": 11,
    "start_time": "2023-07-11T11:31:09.836Z"
   },
   {
    "duration": 29,
    "start_time": "2023-07-11T11:34:38.392Z"
   },
   {
    "duration": 13,
    "start_time": "2023-07-11T11:35:20.848Z"
   },
   {
    "duration": 10,
    "start_time": "2023-07-11T11:39:13.195Z"
   },
   {
    "duration": 23,
    "start_time": "2023-07-11T11:39:13.207Z"
   },
   {
    "duration": 15,
    "start_time": "2023-07-11T11:39:13.232Z"
   },
   {
    "duration": 54,
    "start_time": "2023-07-11T11:39:13.249Z"
   },
   {
    "duration": 34,
    "start_time": "2023-07-11T11:39:13.305Z"
   },
   {
    "duration": 49,
    "start_time": "2023-07-11T11:39:13.341Z"
   },
   {
    "duration": 0,
    "start_time": "2023-07-11T11:41:20.931Z"
   },
   {
    "duration": 0,
    "start_time": "2023-07-11T11:41:20.933Z"
   },
   {
    "duration": 0,
    "start_time": "2023-07-11T11:41:20.937Z"
   },
   {
    "duration": 7,
    "start_time": "2023-07-11T11:41:45.322Z"
   },
   {
    "duration": 46,
    "start_time": "2023-07-11T11:41:47.747Z"
   },
   {
    "duration": 24,
    "start_time": "2023-07-11T11:41:49.694Z"
   },
   {
    "duration": 23,
    "start_time": "2023-07-11T11:41:53.835Z"
   },
   {
    "duration": 9,
    "start_time": "2023-07-11T11:41:56.395Z"
   },
   {
    "duration": 24,
    "start_time": "2023-07-11T11:41:59.962Z"
   },
   {
    "duration": 16,
    "start_time": "2023-07-11T11:42:05.131Z"
   },
   {
    "duration": 74834,
    "start_time": "2023-07-11T11:42:16.746Z"
   },
   {
    "duration": 20,
    "start_time": "2023-07-11T11:43:50.339Z"
   },
   {
    "duration": 12,
    "start_time": "2023-07-11T11:47:50.245Z"
   },
   {
    "duration": 4,
    "start_time": "2023-07-11T11:48:27.407Z"
   },
   {
    "duration": 1621,
    "start_time": "2023-07-11T11:48:32.715Z"
   },
   {
    "duration": 3,
    "start_time": "2023-07-11T11:50:03.861Z"
   },
   {
    "duration": 6,
    "start_time": "2023-07-11T11:55:34.802Z"
   },
   {
    "duration": 5,
    "start_time": "2023-07-11T11:56:09.889Z"
   },
   {
    "duration": 36,
    "start_time": "2023-07-11T11:57:50.250Z"
   },
   {
    "duration": 29,
    "start_time": "2023-07-11T11:58:35.547Z"
   },
   {
    "duration": 6,
    "start_time": "2023-07-11T12:02:20.260Z"
   },
   {
    "duration": 7,
    "start_time": "2023-07-11T12:02:44.547Z"
   },
   {
    "duration": 5,
    "start_time": "2023-07-11T12:02:47.036Z"
   },
   {
    "duration": 51,
    "start_time": "2023-07-11T12:04:26.377Z"
   },
   {
    "duration": 5,
    "start_time": "2023-07-11T12:11:38.667Z"
   },
   {
    "duration": 7,
    "start_time": "2023-07-11T12:11:40.250Z"
   },
   {
    "duration": 18,
    "start_time": "2023-07-11T12:11:41.849Z"
   },
   {
    "duration": 29,
    "start_time": "2023-07-11T12:13:11.889Z"
   },
   {
    "duration": 4,
    "start_time": "2023-07-11T12:18:27.532Z"
   },
   {
    "duration": 25,
    "start_time": "2023-07-11T12:24:52.711Z"
   },
   {
    "duration": 7,
    "start_time": "2023-07-11T12:25:08.298Z"
   },
   {
    "duration": 6,
    "start_time": "2023-07-11T12:25:10.143Z"
   },
   {
    "duration": 5,
    "start_time": "2023-07-11T12:25:12.255Z"
   },
   {
    "duration": 26,
    "start_time": "2023-07-11T12:25:14.256Z"
   },
   {
    "duration": 5,
    "start_time": "2023-07-11T12:29:19.050Z"
   },
   {
    "duration": 7,
    "start_time": "2023-07-11T12:30:23.893Z"
   },
   {
    "duration": 5,
    "start_time": "2023-07-11T12:30:34.746Z"
   },
   {
    "duration": 139,
    "start_time": "2023-07-11T12:35:20.420Z"
   },
   {
    "duration": 11,
    "start_time": "2023-07-11T12:40:04.134Z"
   },
   {
    "duration": 4,
    "start_time": "2023-07-11T12:40:37.290Z"
   },
   {
    "duration": 5,
    "start_time": "2023-07-11T12:40:45.591Z"
   },
   {
    "duration": 9,
    "start_time": "2023-07-11T12:49:02.323Z"
   },
   {
    "duration": 82,
    "start_time": "2023-07-11T12:50:33.652Z"
   },
   {
    "duration": 7,
    "start_time": "2023-07-11T12:51:53.064Z"
   },
   {
    "duration": 171,
    "start_time": "2023-07-11T12:51:58.652Z"
   },
   {
    "duration": 5,
    "start_time": "2023-07-11T12:52:48.982Z"
   },
   {
    "duration": 151,
    "start_time": "2023-07-11T12:52:55.182Z"
   },
   {
    "duration": 171,
    "start_time": "2023-07-11T12:53:17.982Z"
   },
   {
    "duration": 31,
    "start_time": "2023-07-11T12:55:34.917Z"
   },
   {
    "duration": 18918,
    "start_time": "2023-07-11T12:56:11.969Z"
   },
   {
    "duration": 308,
    "start_time": "2023-07-11T12:57:11.222Z"
   },
   {
    "duration": 145,
    "start_time": "2023-07-11T12:58:09.915Z"
   },
   {
    "duration": 5,
    "start_time": "2023-07-11T13:04:52.242Z"
   },
   {
    "duration": 7,
    "start_time": "2023-07-11T13:07:11.270Z"
   },
   {
    "duration": 196,
    "start_time": "2023-07-11T13:11:17.125Z"
   },
   {
    "duration": 12,
    "start_time": "2023-07-11T13:15:55.008Z"
   },
   {
    "duration": 226,
    "start_time": "2023-07-11T13:16:58.843Z"
   },
   {
    "duration": 202,
    "start_time": "2023-07-11T13:17:17.768Z"
   },
   {
    "duration": 223,
    "start_time": "2023-07-11T13:17:43.016Z"
   },
   {
    "duration": 83,
    "start_time": "2023-07-11T13:18:04.914Z"
   },
   {
    "duration": 5,
    "start_time": "2023-07-11T13:19:57.266Z"
   },
   {
    "duration": 11,
    "start_time": "2023-07-11T13:20:37.122Z"
   },
   {
    "duration": 14,
    "start_time": "2023-07-11T13:22:09.092Z"
   },
   {
    "duration": 336,
    "start_time": "2023-07-11T13:26:41.909Z"
   },
   {
    "duration": 185,
    "start_time": "2023-07-11T13:27:26.852Z"
   },
   {
    "duration": 233,
    "start_time": "2023-07-11T13:28:07.301Z"
   },
   {
    "duration": 234,
    "start_time": "2023-07-11T13:28:43.085Z"
   },
   {
    "duration": 166,
    "start_time": "2023-07-11T13:29:53.205Z"
   },
   {
    "duration": 226,
    "start_time": "2023-07-11T13:30:06.942Z"
   },
   {
    "duration": 430,
    "start_time": "2023-07-11T13:30:54.075Z"
   },
   {
    "duration": 1654,
    "start_time": "2023-07-12T02:19:03.424Z"
   },
   {
    "duration": 96,
    "start_time": "2023-07-12T02:19:07.193Z"
   },
   {
    "duration": 26,
    "start_time": "2023-07-12T02:19:09.633Z"
   },
   {
    "duration": 13,
    "start_time": "2023-07-12T02:19:15.249Z"
   },
   {
    "duration": 7,
    "start_time": "2023-07-12T02:19:18.185Z"
   },
   {
    "duration": 16,
    "start_time": "2023-07-12T02:19:22.356Z"
   },
   {
    "duration": 11,
    "start_time": "2023-07-12T02:19:26.353Z"
   },
   {
    "duration": 37,
    "start_time": "2023-07-12T02:19:29.157Z"
   },
   {
    "duration": 24,
    "start_time": "2023-07-12T02:19:36.125Z"
   },
   {
    "duration": 1034,
    "start_time": "2023-07-12T02:19:40.855Z"
   },
   {
    "duration": 5,
    "start_time": "2023-07-12T02:19:51.746Z"
   },
   {
    "duration": 5,
    "start_time": "2023-07-12T02:19:54.625Z"
   },
   {
    "duration": 23,
    "start_time": "2023-07-12T02:19:56.742Z"
   },
   {
    "duration": 18,
    "start_time": "2023-07-12T02:20:10.344Z"
   },
   {
    "duration": 26,
    "start_time": "2023-07-12T02:20:20.924Z"
   },
   {
    "duration": 5,
    "start_time": "2023-07-12T02:20:26.723Z"
   },
   {
    "duration": 5,
    "start_time": "2023-07-12T02:20:28.882Z"
   },
   {
    "duration": 4,
    "start_time": "2023-07-12T02:20:31.324Z"
   },
   {
    "duration": 22,
    "start_time": "2023-07-12T02:20:35.591Z"
   },
   {
    "duration": 105,
    "start_time": "2023-07-12T02:20:40.891Z"
   },
   {
    "duration": 5,
    "start_time": "2023-07-12T02:20:45.881Z"
   },
   {
    "duration": 171,
    "start_time": "2023-07-12T02:20:51.178Z"
   },
   {
    "duration": 135,
    "start_time": "2023-07-12T02:21:28.683Z"
   },
   {
    "duration": 30,
    "start_time": "2023-07-12T02:21:40.119Z"
   },
   {
    "duration": 16858,
    "start_time": "2023-07-12T02:25:58.013Z"
   },
   {
    "duration": 17614,
    "start_time": "2023-07-12T02:32:43.015Z"
   },
   {
    "duration": 18135,
    "start_time": "2023-07-12T02:33:42.314Z"
   },
   {
    "duration": 114,
    "start_time": "2023-07-12T02:34:16.130Z"
   },
   {
    "duration": 40398,
    "start_time": "2023-07-12T02:54:18.740Z"
   },
   {
    "duration": 40148,
    "start_time": "2023-07-12T02:56:47.892Z"
   },
   {
    "duration": 48,
    "start_time": "2023-07-12T03:05:44.724Z"
   },
   {
    "duration": 93,
    "start_time": "2023-07-12T03:05:54.433Z"
   },
   {
    "duration": 45005,
    "start_time": "2023-07-12T03:07:02.939Z"
   },
   {
    "duration": 850,
    "start_time": "2023-07-12T03:09:10.585Z"
   },
   {
    "duration": 768,
    "start_time": "2023-07-12T03:09:56.784Z"
   },
   {
    "duration": 722,
    "start_time": "2023-07-12T03:11:44.526Z"
   },
   {
    "duration": 747,
    "start_time": "2023-07-12T03:12:05.801Z"
   },
   {
    "duration": 985,
    "start_time": "2023-07-12T03:12:17.561Z"
   },
   {
    "duration": 184,
    "start_time": "2023-07-12T03:13:39.193Z"
   },
   {
    "duration": 126,
    "start_time": "2023-07-12T03:13:49.682Z"
   },
   {
    "duration": 162,
    "start_time": "2023-07-12T03:14:15.042Z"
   },
   {
    "duration": 312,
    "start_time": "2023-07-12T03:15:12.746Z"
   },
   {
    "duration": 133,
    "start_time": "2023-07-12T03:27:11.887Z"
   },
   {
    "duration": 25,
    "start_time": "2023-07-12T03:27:19.902Z"
   },
   {
    "duration": 17865,
    "start_time": "2023-07-12T03:27:40.199Z"
   },
   {
    "duration": 107,
    "start_time": "2023-07-12T03:28:19.088Z"
   },
   {
    "duration": 160,
    "start_time": "2023-07-12T03:33:50.123Z"
   },
   {
    "duration": 27,
    "start_time": "2023-07-12T03:34:23.402Z"
   },
   {
    "duration": 17561,
    "start_time": "2023-07-12T03:36:19.651Z"
   },
   {
    "duration": 247,
    "start_time": "2023-07-12T03:36:55.220Z"
   },
   {
    "duration": 963,
    "start_time": "2023-07-12T03:38:46.692Z"
   },
   {
    "duration": 1121,
    "start_time": "2023-07-12T03:40:03.318Z"
   },
   {
    "duration": 1099,
    "start_time": "2023-07-12T03:40:23.841Z"
   },
   {
    "duration": 997,
    "start_time": "2023-07-12T03:40:49.543Z"
   },
   {
    "duration": 998,
    "start_time": "2023-07-12T03:41:19.845Z"
   },
   {
    "duration": 1186,
    "start_time": "2023-07-12T03:41:38.749Z"
   },
   {
    "duration": 966,
    "start_time": "2023-07-12T03:42:09.374Z"
   },
   {
    "duration": 892,
    "start_time": "2023-07-12T03:42:51.445Z"
   },
   {
    "duration": 31,
    "start_time": "2023-07-12T03:46:30.176Z"
   },
   {
    "duration": 17024,
    "start_time": "2023-07-12T03:46:52.320Z"
   },
   {
    "duration": 16684,
    "start_time": "2023-07-12T03:48:10.185Z"
   },
   {
    "duration": 124,
    "start_time": "2023-07-12T03:48:30.023Z"
   },
   {
    "duration": 990,
    "start_time": "2023-07-12T03:49:20.649Z"
   },
   {
    "duration": 143,
    "start_time": "2023-07-12T05:27:08.308Z"
   },
   {
    "duration": 26,
    "start_time": "2023-07-12T05:27:11.181Z"
   },
   {
    "duration": 17042,
    "start_time": "2023-07-12T05:27:33.389Z"
   },
   {
    "duration": 216,
    "start_time": "2023-07-12T05:28:39.091Z"
   },
   {
    "duration": 1191,
    "start_time": "2023-07-12T05:29:43.048Z"
   },
   {
    "duration": 14,
    "start_time": "2023-07-12T05:35:01.464Z"
   },
   {
    "duration": 12,
    "start_time": "2023-07-12T05:35:33.472Z"
   },
   {
    "duration": 4,
    "start_time": "2023-07-12T05:36:50.280Z"
   },
   {
    "duration": 20,
    "start_time": "2023-07-12T05:37:26.028Z"
   },
   {
    "duration": 15,
    "start_time": "2023-07-12T05:37:37.481Z"
   },
   {
    "duration": 3,
    "start_time": "2023-07-12T05:38:16.401Z"
   },
   {
    "duration": 202,
    "start_time": "2023-07-12T05:41:59.635Z"
   },
   {
    "duration": 49,
    "start_time": "2023-07-12T05:52:34.553Z"
   },
   {
    "duration": 39,
    "start_time": "2023-07-12T05:53:26.639Z"
   },
   {
    "duration": 33,
    "start_time": "2023-07-12T05:53:36.159Z"
   },
   {
    "duration": 22635,
    "start_time": "2023-07-12T05:56:23.394Z"
   },
   {
    "duration": 509,
    "start_time": "2023-07-12T05:58:15.444Z"
   },
   {
    "duration": 519,
    "start_time": "2023-07-12T06:03:02.885Z"
   },
   {
    "duration": 1211,
    "start_time": "2023-07-12T06:03:37.123Z"
   },
   {
    "duration": 34,
    "start_time": "2023-07-12T06:05:27.135Z"
   },
   {
    "duration": 34,
    "start_time": "2023-07-12T06:06:06.894Z"
   },
   {
    "duration": 44,
    "start_time": "2023-07-12T06:06:36.575Z"
   },
   {
    "duration": 553,
    "start_time": "2023-07-12T06:07:07.540Z"
   },
   {
    "duration": 1109,
    "start_time": "2023-07-12T06:08:07.032Z"
   },
   {
    "duration": 119,
    "start_time": "2023-07-12T06:15:20.433Z"
   },
   {
    "duration": 139,
    "start_time": "2023-07-12T06:16:01.986Z"
   },
   {
    "duration": 116,
    "start_time": "2023-07-12T06:16:36.326Z"
   },
   {
    "duration": 115,
    "start_time": "2023-07-12T06:17:11.699Z"
   },
   {
    "duration": 137,
    "start_time": "2023-07-12T06:20:33.341Z"
   },
   {
    "duration": 118,
    "start_time": "2023-07-12T06:21:09.589Z"
   },
   {
    "duration": 114,
    "start_time": "2023-07-12T06:21:52.077Z"
   },
   {
    "duration": 226,
    "start_time": "2023-07-12T06:22:00.453Z"
   },
   {
    "duration": 140,
    "start_time": "2023-07-12T06:22:21.640Z"
   },
   {
    "duration": 130,
    "start_time": "2023-07-12T06:25:32.055Z"
   },
   {
    "duration": 150,
    "start_time": "2023-07-12T06:28:09.863Z"
   },
   {
    "duration": 16,
    "start_time": "2023-07-12T06:35:48.019Z"
   },
   {
    "duration": 90,
    "start_time": "2023-07-12T06:40:48.446Z"
   },
   {
    "duration": 35,
    "start_time": "2023-07-12T06:42:01.942Z"
   },
   {
    "duration": 187,
    "start_time": "2023-07-12T06:42:05.834Z"
   },
   {
    "duration": 35,
    "start_time": "2023-07-12T06:42:11.158Z"
   },
   {
    "duration": 23427,
    "start_time": "2023-07-12T06:42:15.758Z"
   },
   {
    "duration": 539,
    "start_time": "2023-07-12T06:42:43.439Z"
   },
   {
    "duration": 1068,
    "start_time": "2023-07-12T06:42:50.670Z"
   },
   {
    "duration": 161,
    "start_time": "2023-07-12T06:42:54.191Z"
   },
   {
    "duration": 16,
    "start_time": "2023-07-12T06:43:02.647Z"
   },
   {
    "duration": 97,
    "start_time": "2023-07-12T06:43:06.436Z"
   },
   {
    "duration": 27,
    "start_time": "2023-07-12T06:43:30.703Z"
   },
   {
    "duration": 11197,
    "start_time": "2023-07-12T06:44:33.088Z"
   },
   {
    "duration": 63,
    "start_time": "2023-07-12T06:45:01.656Z"
   },
   {
    "duration": 754,
    "start_time": "2023-07-12T06:46:03.784Z"
   },
   {
    "duration": 161,
    "start_time": "2023-07-12T06:48:09.345Z"
   },
   {
    "duration": 157,
    "start_time": "2023-07-12T06:50:59.962Z"
   },
   {
    "duration": 30,
    "start_time": "2023-07-12T06:51:02.961Z"
   },
   {
    "duration": 16923,
    "start_time": "2023-07-12T06:51:05.649Z"
   },
   {
    "duration": 269,
    "start_time": "2023-07-12T06:51:25.928Z"
   },
   {
    "duration": 1098,
    "start_time": "2023-07-12T06:51:29.946Z"
   },
   {
    "duration": 212,
    "start_time": "2023-07-12T06:51:34.636Z"
   },
   {
    "duration": 13,
    "start_time": "2023-07-12T06:51:41.058Z"
   },
   {
    "duration": 163,
    "start_time": "2023-07-12T06:51:44.235Z"
   },
   {
    "duration": 36,
    "start_time": "2023-07-12T06:51:48.633Z"
   },
   {
    "duration": 22627,
    "start_time": "2023-07-12T06:51:51.238Z"
   },
   {
    "duration": 525,
    "start_time": "2023-07-12T06:52:13.866Z"
   },
   {
    "duration": 545,
    "start_time": "2023-07-12T06:52:20.294Z"
   },
   {
    "duration": 1148,
    "start_time": "2023-07-12T06:52:25.499Z"
   },
   {
    "duration": 154,
    "start_time": "2023-07-12T06:52:30.802Z"
   },
   {
    "duration": 13,
    "start_time": "2023-07-12T06:52:33.691Z"
   },
   {
    "duration": 89,
    "start_time": "2023-07-12T06:52:36.274Z"
   },
   {
    "duration": 31,
    "start_time": "2023-07-12T06:52:40.727Z"
   },
   {
    "duration": 11667,
    "start_time": "2023-07-12T06:52:43.943Z"
   },
   {
    "duration": 44,
    "start_time": "2023-07-12T06:52:59.140Z"
   },
   {
    "duration": 811,
    "start_time": "2023-07-12T06:53:04.731Z"
   },
   {
    "duration": 145,
    "start_time": "2023-07-12T06:53:08.939Z"
   },
   {
    "duration": 155,
    "start_time": "2023-07-12T06:58:02.323Z"
   },
   {
    "duration": 32,
    "start_time": "2023-07-12T06:58:15.636Z"
   },
   {
    "duration": 159,
    "start_time": "2023-07-12T06:58:35.728Z"
   },
   {
    "duration": 166,
    "start_time": "2023-07-12T06:59:27.598Z"
   },
   {
    "duration": 5,
    "start_time": "2023-07-12T06:59:36.087Z"
   },
   {
    "duration": 45,
    "start_time": "2023-07-12T06:59:38.685Z"
   },
   {
    "duration": 20,
    "start_time": "2023-07-12T06:59:40.756Z"
   },
   {
    "duration": 15,
    "start_time": "2023-07-12T06:59:43.773Z"
   },
   {
    "duration": 9,
    "start_time": "2023-07-12T06:59:47.032Z"
   },
   {
    "duration": 16,
    "start_time": "2023-07-12T06:59:49.902Z"
   },
   {
    "duration": 11,
    "start_time": "2023-07-12T06:59:52.547Z"
   },
   {
    "duration": 47,
    "start_time": "2023-07-12T06:59:56.151Z"
   },
   {
    "duration": 19,
    "start_time": "2023-07-12T06:59:59.294Z"
   },
   {
    "duration": 994,
    "start_time": "2023-07-12T07:00:02.254Z"
   },
   {
    "duration": 5,
    "start_time": "2023-07-12T07:00:08.388Z"
   },
   {
    "duration": 5,
    "start_time": "2023-07-12T07:00:11.590Z"
   },
   {
    "duration": 31,
    "start_time": "2023-07-12T07:00:14.735Z"
   },
   {
    "duration": 31,
    "start_time": "2023-07-12T07:00:17.606Z"
   },
   {
    "duration": 32,
    "start_time": "2023-07-12T07:00:20.832Z"
   },
   {
    "duration": 6,
    "start_time": "2023-07-12T07:00:23.843Z"
   },
   {
    "duration": 5,
    "start_time": "2023-07-12T07:00:25.836Z"
   },
   {
    "duration": 7,
    "start_time": "2023-07-12T07:00:27.742Z"
   },
   {
    "duration": 33,
    "start_time": "2023-07-12T07:00:31.237Z"
   },
   {
    "duration": 211,
    "start_time": "2023-07-12T07:00:35.886Z"
   },
   {
    "duration": 4,
    "start_time": "2023-07-12T07:00:39.731Z"
   },
   {
    "duration": 6,
    "start_time": "2023-07-12T07:00:43.235Z"
   },
   {
    "duration": 145,
    "start_time": "2023-07-12T07:00:46.076Z"
   },
   {
    "duration": 36,
    "start_time": "2023-07-12T07:01:01.751Z"
   },
   {
    "duration": 149,
    "start_time": "2023-07-12T07:01:24.437Z"
   },
   {
    "duration": 27,
    "start_time": "2023-07-12T07:01:32.743Z"
   },
   {
    "duration": 17364,
    "start_time": "2023-07-12T07:02:17.999Z"
   },
   {
    "duration": 109,
    "start_time": "2023-07-12T07:02:46.365Z"
   },
   {
    "duration": 1084,
    "start_time": "2023-07-12T07:03:17.768Z"
   },
   {
    "duration": 192,
    "start_time": "2023-07-12T07:03:50.632Z"
   },
   {
    "duration": 232,
    "start_time": "2023-07-12T07:03:54.656Z"
   },
   {
    "duration": 378,
    "start_time": "2023-07-12T07:03:57.584Z"
   },
   {
    "duration": 158,
    "start_time": "2023-07-12T07:04:17.032Z"
   },
   {
    "duration": 46,
    "start_time": "2023-07-12T07:04:25.192Z"
   },
   {
    "duration": 18141,
    "start_time": "2023-07-12T07:04:43.715Z"
   },
   {
    "duration": 231,
    "start_time": "2023-07-12T07:05:06.044Z"
   },
   {
    "duration": 845,
    "start_time": "2023-07-12T07:05:41.400Z"
   },
   {
    "duration": 152,
    "start_time": "2023-07-12T07:05:47.960Z"
   },
   {
    "duration": 12,
    "start_time": "2023-07-12T07:05:53.048Z"
   },
   {
    "duration": 181,
    "start_time": "2023-07-12T07:06:15.845Z"
   },
   {
    "duration": 31,
    "start_time": "2023-07-12T07:06:23.048Z"
   },
   {
    "duration": 24068,
    "start_time": "2023-07-12T07:06:58.177Z"
   },
   {
    "duration": 615,
    "start_time": "2023-07-12T07:07:27.146Z"
   },
   {
    "duration": 1208,
    "start_time": "2023-07-12T07:08:38.949Z"
   },
   {
    "duration": 160,
    "start_time": "2023-07-12T07:08:58.969Z"
   },
   {
    "duration": 13,
    "start_time": "2023-07-12T07:09:03.186Z"
   },
   {
    "duration": 93,
    "start_time": "2023-07-12T07:09:47.631Z"
   },
   {
    "duration": 23,
    "start_time": "2023-07-12T07:09:52.674Z"
   },
   {
    "duration": 11911,
    "start_time": "2023-07-12T07:10:14.666Z"
   },
   {
    "duration": 48,
    "start_time": "2023-07-12T07:10:31.283Z"
   },
   {
    "duration": 983,
    "start_time": "2023-07-12T07:11:01.371Z"
   },
   {
    "duration": 163,
    "start_time": "2023-07-12T07:11:09.003Z"
   },
   {
    "duration": 17,
    "start_time": "2023-07-12T07:16:05.968Z"
   },
   {
    "duration": 13,
    "start_time": "2023-07-12T07:16:27.590Z"
   },
   {
    "duration": 13,
    "start_time": "2023-07-12T07:16:55.877Z"
   },
   {
    "duration": 5,
    "start_time": "2023-07-12T07:17:25.144Z"
   },
   {
    "duration": 148,
    "start_time": "2023-07-12T07:17:35.406Z"
   },
   {
    "duration": 159,
    "start_time": "2023-07-12T07:18:01.344Z"
   },
   {
    "duration": 189,
    "start_time": "2023-07-12T07:18:49.991Z"
   },
   {
    "duration": 165,
    "start_time": "2023-07-12T07:26:39.195Z"
   },
   {
    "duration": 267,
    "start_time": "2023-07-12T07:28:45.849Z"
   },
   {
    "duration": 210,
    "start_time": "2023-07-12T07:28:55.836Z"
   },
   {
    "duration": 177,
    "start_time": "2023-07-12T07:29:06.659Z"
   },
   {
    "duration": 174,
    "start_time": "2023-07-12T07:29:15.843Z"
   },
   {
    "duration": 220,
    "start_time": "2023-07-12T07:29:31.370Z"
   },
   {
    "duration": 178,
    "start_time": "2023-07-12T07:30:51.045Z"
   },
   {
    "duration": 187,
    "start_time": "2023-07-12T07:31:57.349Z"
   },
   {
    "duration": 171,
    "start_time": "2023-07-12T07:34:02.844Z"
   },
   {
    "duration": 185,
    "start_time": "2023-07-12T07:35:01.077Z"
   },
   {
    "duration": 193,
    "start_time": "2023-07-12T07:35:13.227Z"
   },
   {
    "duration": 210,
    "start_time": "2023-07-12T07:37:48.294Z"
   },
   {
    "duration": 214,
    "start_time": "2023-07-12T07:40:47.250Z"
   },
   {
    "duration": 321,
    "start_time": "2023-07-12T07:52:39.701Z"
   },
   {
    "duration": 12,
    "start_time": "2023-07-12T09:21:46.756Z"
   },
   {
    "duration": 8,
    "start_time": "2023-07-12T09:21:53.530Z"
   },
   {
    "duration": 325,
    "start_time": "2023-07-12T09:21:55.092Z"
   },
   {
    "duration": 336,
    "start_time": "2023-07-12T09:23:09.342Z"
   },
   {
    "duration": 131,
    "start_time": "2023-07-12T09:25:10.190Z"
   },
   {
    "duration": 166,
    "start_time": "2023-07-12T09:32:30.665Z"
   },
   {
    "duration": 140,
    "start_time": "2023-07-12T09:33:09.059Z"
   },
   {
    "duration": 35,
    "start_time": "2023-07-12T09:33:11.650Z"
   },
   {
    "duration": 20255,
    "start_time": "2023-07-12T09:34:12.362Z"
   },
   {
    "duration": 140,
    "start_time": "2023-07-12T09:34:37.557Z"
   },
   {
    "duration": 1105,
    "start_time": "2023-07-12T09:35:29.047Z"
   },
   {
    "duration": 988,
    "start_time": "2023-07-12T09:39:48.749Z"
   },
   {
    "duration": 227,
    "start_time": "2023-07-12T09:39:56.246Z"
   },
   {
    "duration": 185,
    "start_time": "2023-07-12T09:39:59.461Z"
   },
   {
    "duration": 361,
    "start_time": "2023-07-12T09:40:02.047Z"
   },
   {
    "duration": 163,
    "start_time": "2023-07-12T09:40:10.868Z"
   },
   {
    "duration": 170,
    "start_time": "2023-07-12T09:40:40.927Z"
   },
   {
    "duration": 31,
    "start_time": "2023-07-12T09:40:43.989Z"
   },
   {
    "duration": 19379,
    "start_time": "2023-07-12T09:40:50.032Z"
   },
   {
    "duration": 310,
    "start_time": "2023-07-12T09:41:22.653Z"
   },
   {
    "duration": 999,
    "start_time": "2023-07-12T09:41:28.151Z"
   },
   {
    "duration": 1178,
    "start_time": "2023-07-12T09:41:55.457Z"
   },
   {
    "duration": 1078,
    "start_time": "2023-07-12T09:43:30.584Z"
   },
   {
    "duration": 157,
    "start_time": "2023-07-12T09:44:37.919Z"
   },
   {
    "duration": 186,
    "start_time": "2023-07-12T09:45:01.120Z"
   },
   {
    "duration": 160,
    "start_time": "2023-07-12T09:45:03.969Z"
   },
   {
    "duration": 191,
    "start_time": "2023-07-12T09:46:40.551Z"
   },
   {
    "duration": 21,
    "start_time": "2023-07-12T09:53:13.122Z"
   },
   {
    "duration": 203,
    "start_time": "2023-07-12T09:53:22.255Z"
   },
   {
    "duration": 58,
    "start_time": "2023-07-12T09:53:28.328Z"
   },
   {
    "duration": 26811,
    "start_time": "2023-07-12T09:53:57.763Z"
   },
   {
    "duration": 703,
    "start_time": "2023-07-12T09:54:29.094Z"
   },
   {
    "duration": 1048,
    "start_time": "2023-07-12T09:54:56.603Z"
   },
   {
    "duration": 171,
    "start_time": "2023-07-12T09:55:41.156Z"
   },
   {
    "duration": 12,
    "start_time": "2023-07-12T09:55:46.395Z"
   },
   {
    "duration": 98,
    "start_time": "2023-07-12T09:55:49.716Z"
   },
   {
    "duration": 28,
    "start_time": "2023-07-12T09:56:20.451Z"
   },
   {
    "duration": 13321,
    "start_time": "2023-07-12T09:56:28.462Z"
   },
   {
    "duration": 59,
    "start_time": "2023-07-12T09:56:52.393Z"
   },
   {
    "duration": 896,
    "start_time": "2023-07-12T09:56:57.468Z"
   },
   {
    "duration": 619,
    "start_time": "2023-07-12T09:57:24.221Z"
   },
   {
    "duration": 246,
    "start_time": "2023-07-12T09:57:48.853Z"
   },
   {
    "duration": 240,
    "start_time": "2023-07-12T10:04:31.545Z"
   },
   {
    "duration": 384,
    "start_time": "2023-07-12T10:05:29.232Z"
   },
   {
    "duration": 203,
    "start_time": "2023-07-12T10:05:59.504Z"
   },
   {
    "duration": 218,
    "start_time": "2023-07-12T10:06:55.081Z"
   },
   {
    "duration": 208,
    "start_time": "2023-07-12T10:09:10.994Z"
   },
   {
    "duration": 236,
    "start_time": "2023-07-12T10:09:58.046Z"
   },
   {
    "duration": 235,
    "start_time": "2023-07-12T10:11:51.739Z"
   },
   {
    "duration": 241,
    "start_time": "2023-07-12T10:12:07.945Z"
   },
   {
    "duration": 207,
    "start_time": "2023-07-12T10:12:19.448Z"
   },
   {
    "duration": 213,
    "start_time": "2023-07-12T10:14:54.965Z"
   },
   {
    "duration": 204,
    "start_time": "2023-07-12T10:15:24.327Z"
   },
   {
    "duration": 210,
    "start_time": "2023-07-12T10:15:39.949Z"
   },
   {
    "duration": 15,
    "start_time": "2023-07-12T10:22:27.766Z"
   },
   {
    "duration": 5,
    "start_time": "2023-07-12T10:23:08.159Z"
   },
   {
    "duration": 42,
    "start_time": "2023-07-12T10:23:11.791Z"
   },
   {
    "duration": 18,
    "start_time": "2023-07-12T10:23:13.827Z"
   },
   {
    "duration": 11,
    "start_time": "2023-07-12T10:23:18.080Z"
   },
   {
    "duration": 10,
    "start_time": "2023-07-12T10:27:22.465Z"
   },
   {
    "duration": 16,
    "start_time": "2023-07-12T10:29:15.754Z"
   },
   {
    "duration": 10,
    "start_time": "2023-07-12T10:29:19.777Z"
   },
   {
    "duration": 54,
    "start_time": "2023-07-12T10:29:39.027Z"
   },
   {
    "duration": 50,
    "start_time": "2023-07-12T10:30:39.142Z"
   },
   {
    "duration": 18,
    "start_time": "2023-07-12T10:30:41.660Z"
   },
   {
    "duration": 1201,
    "start_time": "2023-07-12T10:30:44.298Z"
   },
   {
    "duration": 5,
    "start_time": "2023-07-12T10:41:03.927Z"
   },
   {
    "duration": 5,
    "start_time": "2023-07-12T10:41:06.056Z"
   },
   {
    "duration": 17,
    "start_time": "2023-07-12T10:41:11.077Z"
   },
   {
    "duration": 26,
    "start_time": "2023-07-12T10:41:18.127Z"
   },
   {
    "duration": 39,
    "start_time": "2023-07-12T10:42:26.846Z"
   },
   {
    "duration": 5,
    "start_time": "2023-07-12T11:07:22.557Z"
   },
   {
    "duration": 6,
    "start_time": "2023-07-12T11:08:11.157Z"
   },
   {
    "duration": 5,
    "start_time": "2023-07-12T11:08:31.195Z"
   },
   {
    "duration": 22,
    "start_time": "2023-07-12T11:08:34.603Z"
   },
   {
    "duration": 116,
    "start_time": "2023-07-12T11:10:00.975Z"
   },
   {
    "duration": 4,
    "start_time": "2023-07-12T11:11:07.357Z"
   },
   {
    "duration": 163,
    "start_time": "2023-07-12T11:14:52.750Z"
   },
   {
    "duration": 43,
    "start_time": "2023-07-12T11:14:56.007Z"
   },
   {
    "duration": 18560,
    "start_time": "2023-07-12T11:15:01.094Z"
   },
   {
    "duration": 29,
    "start_time": "2023-07-12T11:15:36.664Z"
   },
   {
    "duration": 18854,
    "start_time": "2023-07-12T11:15:54.885Z"
   },
   {
    "duration": 116,
    "start_time": "2023-07-12T11:16:19.259Z"
   },
   {
    "duration": 757,
    "start_time": "2023-07-12T11:16:24.390Z"
   },
   {
    "duration": 4,
    "start_time": "2023-07-12T11:19:15.505Z"
   },
   {
    "duration": 4,
    "start_time": "2023-07-12T11:20:01.280Z"
   },
   {
    "duration": 163,
    "start_time": "2023-07-12T11:22:08.266Z"
   },
   {
    "duration": 227,
    "start_time": "2023-07-12T11:29:27.848Z"
   },
   {
    "duration": 205,
    "start_time": "2023-07-12T11:29:30.588Z"
   },
   {
    "duration": 327,
    "start_time": "2023-07-12T11:29:33.959Z"
   },
   {
    "duration": 161,
    "start_time": "2023-07-12T11:29:42.851Z"
   },
   {
    "duration": 29,
    "start_time": "2023-07-12T11:29:46.357Z"
   },
   {
    "duration": 19202,
    "start_time": "2023-07-12T11:29:51.269Z"
   },
   {
    "duration": 259,
    "start_time": "2023-07-12T11:30:14.101Z"
   },
   {
    "duration": 1008,
    "start_time": "2023-07-12T11:30:18.036Z"
   },
   {
    "duration": 10,
    "start_time": "2023-07-12T11:32:53.158Z"
   },
   {
    "duration": 162,
    "start_time": "2023-07-12T11:35:31.059Z"
   },
   {
    "duration": 13,
    "start_time": "2023-07-12T11:36:23.768Z"
   },
   {
    "duration": 17,
    "start_time": "2023-07-12T11:41:32.459Z"
   },
   {
    "duration": 13,
    "start_time": "2023-07-12T11:41:40.665Z"
   },
   {
    "duration": 202,
    "start_time": "2023-07-12T11:41:44.689Z"
   },
   {
    "duration": 40,
    "start_time": "2023-07-12T11:41:48.015Z"
   },
   {
    "duration": 23574,
    "start_time": "2023-07-12T11:41:55.284Z"
   },
   {
    "duration": 544,
    "start_time": "2023-07-12T11:42:46.052Z"
   },
   {
    "duration": 530,
    "start_time": "2023-07-12T11:43:03.867Z"
   },
   {
    "duration": 904,
    "start_time": "2023-07-12T11:43:07.651Z"
   },
   {
    "duration": 182,
    "start_time": "2023-07-12T11:43:18.735Z"
   },
   {
    "duration": 33,
    "start_time": "2023-07-12T11:43:22.955Z"
   },
   {
    "duration": 23351,
    "start_time": "2023-07-12T11:43:25.258Z"
   },
   {
    "duration": 573,
    "start_time": "2023-07-12T11:44:09.646Z"
   },
   {
    "duration": 851,
    "start_time": "2023-07-12T11:44:12.683Z"
   },
   {
    "duration": 13,
    "start_time": "2023-07-12T11:44:40.257Z"
   },
   {
    "duration": 184,
    "start_time": "2023-07-12T11:44:43.157Z"
   },
   {
    "duration": 42,
    "start_time": "2023-07-12T11:44:46.023Z"
   },
   {
    "duration": 25085,
    "start_time": "2023-07-12T11:44:48.692Z"
   },
   {
    "duration": 620,
    "start_time": "2023-07-12T11:45:17.615Z"
   },
   {
    "duration": 1085,
    "start_time": "2023-07-12T11:45:21.451Z"
   },
   {
    "duration": 4,
    "start_time": "2023-07-12T11:47:41.123Z"
   },
   {
    "duration": 179,
    "start_time": "2023-07-12T11:50:12.227Z"
   },
   {
    "duration": 12,
    "start_time": "2023-07-12T11:51:03.888Z"
   },
   {
    "duration": 94,
    "start_time": "2023-07-12T11:51:06.963Z"
   },
   {
    "duration": 22,
    "start_time": "2023-07-12T11:51:09.891Z"
   },
   {
    "duration": 12330,
    "start_time": "2023-07-12T11:51:12.690Z"
   },
   {
    "duration": 65,
    "start_time": "2023-07-12T11:51:30.923Z"
   },
   {
    "duration": 660,
    "start_time": "2023-07-12T11:51:34.072Z"
   },
   {
    "duration": 5,
    "start_time": "2023-07-12T11:53:22.548Z"
   },
   {
    "duration": 167,
    "start_time": "2023-07-12T11:54:55.284Z"
   },
   {
    "duration": 4,
    "start_time": "2023-07-12T11:55:56.027Z"
   },
   {
    "duration": 5,
    "start_time": "2023-07-12T11:56:08.631Z"
   },
   {
    "duration": 4,
    "start_time": "2023-07-12T11:56:39.715Z"
   },
   {
    "duration": 5,
    "start_time": "2023-07-12T11:56:54.041Z"
   },
   {
    "duration": 4,
    "start_time": "2023-07-12T11:57:04.296Z"
   },
   {
    "duration": 154,
    "start_time": "2023-07-12T11:57:08.935Z"
   },
   {
    "duration": 198,
    "start_time": "2023-07-12T12:00:06.899Z"
   },
   {
    "duration": 7,
    "start_time": "2023-07-12T12:05:12.385Z"
   },
   {
    "duration": 310,
    "start_time": "2023-07-12T12:05:23.823Z"
   },
   {
    "duration": 110,
    "start_time": "2023-07-12T12:07:25.761Z"
   },
   {
    "duration": 6,
    "start_time": "2023-07-12T13:36:48.361Z"
   },
   {
    "duration": 42,
    "start_time": "2023-07-12T13:36:51.452Z"
   },
   {
    "duration": 40,
    "start_time": "2023-07-12T13:36:53.319Z"
   },
   {
    "duration": 16,
    "start_time": "2023-07-12T13:36:57.487Z"
   },
   {
    "duration": 8,
    "start_time": "2023-07-12T13:37:00.560Z"
   },
   {
    "duration": 13,
    "start_time": "2023-07-12T13:42:06.706Z"
   },
   {
    "duration": 19,
    "start_time": "2023-07-12T13:42:17.339Z"
   },
   {
    "duration": 37,
    "start_time": "2023-07-12T13:42:19.986Z"
   },
   {
    "duration": 27,
    "start_time": "2023-07-12T13:42:23.618Z"
   },
   {
    "duration": 1182,
    "start_time": "2023-07-12T13:42:27.085Z"
   },
   {
    "duration": 11,
    "start_time": "2023-07-12T13:44:06.689Z"
   },
   {
    "duration": 6,
    "start_time": "2023-07-12T13:44:21.958Z"
   },
   {
    "duration": 436,
    "start_time": "2023-07-12T13:44:47.820Z"
   },
   {
    "duration": 4115,
    "start_time": "2023-07-12T13:44:52.667Z"
   },
   {
    "duration": 2500,
    "start_time": "2023-07-12T13:45:18.700Z"
   },
   {
    "duration": 20,
    "start_time": "2023-07-12T13:45:42.428Z"
   },
   {
    "duration": 1363,
    "start_time": "2023-07-12T13:46:25.858Z"
   },
   {
    "duration": 1804,
    "start_time": "2023-07-12T13:47:20.526Z"
   },
   {
    "duration": 1566,
    "start_time": "2023-07-12T13:49:10.687Z"
   },
   {
    "duration": 3,
    "start_time": "2023-07-12T13:50:18.063Z"
   },
   {
    "duration": 12,
    "start_time": "2023-07-12T13:50:27.947Z"
   },
   {
    "duration": 12,
    "start_time": "2023-07-12T13:50:30.431Z"
   },
   {
    "duration": 31,
    "start_time": "2023-07-12T13:50:34.533Z"
   },
   {
    "duration": 18,
    "start_time": "2023-07-12T13:50:39.158Z"
   },
   {
    "duration": 6,
    "start_time": "2023-07-12T13:59:45.389Z"
   },
   {
    "duration": 7,
    "start_time": "2023-07-12T13:59:47.899Z"
   },
   {
    "duration": 12,
    "start_time": "2023-07-12T13:59:49.925Z"
   },
   {
    "duration": 25,
    "start_time": "2023-07-12T13:59:51.993Z"
   },
   {
    "duration": 35,
    "start_time": "2023-07-12T13:59:58.611Z"
   },
   {
    "duration": 50,
    "start_time": "2023-07-12T14:00:34.496Z"
   },
   {
    "duration": 184,
    "start_time": "2023-07-12T14:03:13.251Z"
   },
   {
    "duration": 137,
    "start_time": "2023-07-12T14:04:27.338Z"
   },
   {
    "duration": 5,
    "start_time": "2023-07-12T14:04:33.956Z"
   },
   {
    "duration": 11,
    "start_time": "2023-07-12T14:04:42.342Z"
   },
   {
    "duration": 400,
    "start_time": "2023-07-12T14:04:48.196Z"
   },
   {
    "duration": 125,
    "start_time": "2023-07-12T14:05:39.499Z"
   },
   {
    "duration": 23,
    "start_time": "2023-07-12T14:07:54.296Z"
   },
   {
    "duration": 108,
    "start_time": "2023-07-12T14:09:56.357Z"
   },
   {
    "duration": 118,
    "start_time": "2023-07-12T14:10:02.462Z"
   },
   {
    "duration": 5,
    "start_time": "2023-07-12T14:11:38.598Z"
   },
   {
    "duration": 2,
    "start_time": "2023-07-12T14:11:41.464Z"
   },
   {
    "duration": 5,
    "start_time": "2023-07-12T14:11:48.152Z"
   },
   {
    "duration": 41,
    "start_time": "2023-07-12T14:11:51.362Z"
   },
   {
    "duration": 15,
    "start_time": "2023-07-12T14:11:55.065Z"
   },
   {
    "duration": 16,
    "start_time": "2023-07-12T14:11:58.952Z"
   },
   {
    "duration": 10,
    "start_time": "2023-07-12T14:12:02.057Z"
   },
   {
    "duration": 21,
    "start_time": "2023-07-12T14:12:10.543Z"
   },
   {
    "duration": 14,
    "start_time": "2023-07-12T14:12:38.500Z"
   },
   {
    "duration": 12,
    "start_time": "2023-07-12T14:14:33.696Z"
   },
   {
    "duration": 7,
    "start_time": "2023-07-12T14:15:46.762Z"
   },
   {
    "duration": 24,
    "start_time": "2023-07-12T14:25:57.547Z"
   },
   {
    "duration": 8,
    "start_time": "2023-07-12T14:26:26.531Z"
   },
   {
    "duration": 13,
    "start_time": "2023-07-12T14:26:50.758Z"
   },
   {
    "duration": 6,
    "start_time": "2023-07-12T14:26:55.054Z"
   },
   {
    "duration": 46,
    "start_time": "2023-07-12T14:27:07.208Z"
   },
   {
    "duration": 14,
    "start_time": "2023-07-12T14:27:09.710Z"
   },
   {
    "duration": 12,
    "start_time": "2023-07-12T14:27:12.756Z"
   },
   {
    "duration": 13,
    "start_time": "2023-07-12T14:27:15.649Z"
   },
   {
    "duration": 18,
    "start_time": "2023-07-12T14:27:18.842Z"
   },
   {
    "duration": 6,
    "start_time": "2023-07-12T14:27:21.959Z"
   },
   {
    "duration": 14,
    "start_time": "2023-07-12T14:27:31.453Z"
   },
   {
    "duration": 37,
    "start_time": "2023-07-12T14:27:34.456Z"
   },
   {
    "duration": 28,
    "start_time": "2023-07-12T14:27:37.652Z"
   },
   {
    "duration": 1077,
    "start_time": "2023-07-12T14:27:40.541Z"
   },
   {
    "duration": 4,
    "start_time": "2023-07-12T14:28:07.262Z"
   },
   {
    "duration": 4,
    "start_time": "2023-07-12T14:28:09.594Z"
   },
   {
    "duration": 19,
    "start_time": "2023-07-12T14:28:12.289Z"
   },
   {
    "duration": 19,
    "start_time": "2023-07-12T14:28:14.797Z"
   },
   {
    "duration": 6,
    "start_time": "2023-07-12T14:28:21.006Z"
   },
   {
    "duration": 5,
    "start_time": "2023-07-12T14:28:23.385Z"
   },
   {
    "duration": 5,
    "start_time": "2023-07-12T14:28:25.614Z"
   },
   {
    "duration": 41,
    "start_time": "2023-07-12T14:28:52.158Z"
   },
   {
    "duration": 128,
    "start_time": "2023-07-12T14:28:57.893Z"
   },
   {
    "duration": 4,
    "start_time": "2023-07-12T14:29:04.596Z"
   },
   {
    "duration": 8,
    "start_time": "2023-07-12T14:29:07.567Z"
   },
   {
    "duration": 191,
    "start_time": "2023-07-12T14:29:10.407Z"
   },
   {
    "duration": 61,
    "start_time": "2023-07-12T14:29:30.184Z"
   },
   {
    "duration": 188,
    "start_time": "2023-07-12T14:29:55.459Z"
   },
   {
    "duration": 197,
    "start_time": "2023-07-12T14:30:02.702Z"
   },
   {
    "duration": 40,
    "start_time": "2023-07-12T14:30:06.260Z"
   },
   {
    "duration": 35,
    "start_time": "2023-07-12T14:32:17.575Z"
   },
   {
    "duration": 21492,
    "start_time": "2023-07-12T14:32:42.994Z"
   },
   {
    "duration": 194,
    "start_time": "2023-07-12T14:33:28.658Z"
   },
   {
    "duration": 1022,
    "start_time": "2023-07-12T14:34:03.450Z"
   },
   {
    "duration": 3,
    "start_time": "2023-07-12T14:34:16.301Z"
   },
   {
    "duration": 176,
    "start_time": "2023-07-12T14:34:22.170Z"
   },
   {
    "duration": 193,
    "start_time": "2023-07-12T14:34:52.386Z"
   },
   {
    "duration": 207,
    "start_time": "2023-07-12T14:34:55.720Z"
   },
   {
    "duration": 315,
    "start_time": "2023-07-12T14:34:59.561Z"
   },
   {
    "duration": 26,
    "start_time": "2023-07-12T14:35:51.452Z"
   },
   {
    "duration": 149,
    "start_time": "2023-07-12T14:38:13.330Z"
   },
   {
    "duration": 3,
    "start_time": "2023-07-12T14:38:16.010Z"
   },
   {
    "duration": 5,
    "start_time": "2023-07-12T14:38:18.597Z"
   },
   {
    "duration": 164,
    "start_time": "2023-07-12T14:38:21.426Z"
   },
   {
    "duration": 37,
    "start_time": "2023-07-12T14:38:24.114Z"
   },
   {
    "duration": 21387,
    "start_time": "2023-07-12T14:38:26.605Z"
   },
   {
    "duration": 155,
    "start_time": "2023-07-12T14:38:50.456Z"
   },
   {
    "duration": 1003,
    "start_time": "2023-07-12T14:38:54.550Z"
   },
   {
    "duration": 8,
    "start_time": "2023-07-12T14:38:59.241Z"
   },
   {
    "duration": 470,
    "start_time": "2023-07-12T14:39:02.842Z"
   },
   {
    "duration": 562,
    "start_time": "2023-07-12T14:39:05.922Z"
   },
   {
    "duration": 228,
    "start_time": "2023-07-12T14:39:10.513Z"
   },
   {
    "duration": 323,
    "start_time": "2023-07-12T14:39:13.101Z"
   },
   {
    "duration": 160,
    "start_time": "2023-07-12T14:39:20.041Z"
   },
   {
    "duration": 614,
    "start_time": "2023-07-12T14:39:22.921Z"
   },
   {
    "duration": 24607,
    "start_time": "2023-07-12T14:39:27.912Z"
   },
   {
    "duration": 346,
    "start_time": "2023-07-12T14:39:55.294Z"
   },
   {
    "duration": 895,
    "start_time": "2023-07-12T14:40:00.586Z"
   },
   {
    "duration": 4,
    "start_time": "2023-07-12T14:40:07.817Z"
   },
   {
    "duration": 5,
    "start_time": "2023-07-12T14:40:57.180Z"
   },
   {
    "duration": 305,
    "start_time": "2023-07-12T14:41:06.292Z"
   },
   {
    "duration": 23385,
    "start_time": "2023-07-12T14:41:27.396Z"
   },
   {
    "duration": 521,
    "start_time": "2023-07-12T14:42:00.485Z"
   },
   {
    "duration": 915,
    "start_time": "2023-07-12T14:42:04.959Z"
   },
   {
    "duration": 5,
    "start_time": "2023-07-12T14:42:09.660Z"
   },
   {
    "duration": 268,
    "start_time": "2023-07-12T14:42:26.348Z"
   },
   {
    "duration": 283,
    "start_time": "2023-07-12T14:42:31.323Z"
   },
   {
    "duration": 359,
    "start_time": "2023-07-12T14:42:34.390Z"
   },
   {
    "duration": 355,
    "start_time": "2023-07-12T14:42:37.123Z"
   },
   {
    "duration": 182,
    "start_time": "2023-07-12T14:42:43.564Z"
   },
   {
    "duration": 43,
    "start_time": "2023-07-12T14:42:49.460Z"
   },
   {
    "duration": 21643,
    "start_time": "2023-07-12T14:42:58.684Z"
   },
   {
    "duration": 595,
    "start_time": "2023-07-12T14:43:32.217Z"
   },
   {
    "duration": 1049,
    "start_time": "2023-07-12T14:43:39.101Z"
   },
   {
    "duration": 6,
    "start_time": "2023-07-12T14:43:43.352Z"
   },
   {
    "duration": 202,
    "start_time": "2023-07-12T14:43:58.897Z"
   },
   {
    "duration": 16,
    "start_time": "2023-07-12T14:44:09.216Z"
   },
   {
    "duration": 226,
    "start_time": "2023-07-12T14:44:17.192Z"
   },
   {
    "duration": 49,
    "start_time": "2023-07-12T14:44:22.597Z"
   },
   {
    "duration": 29250,
    "start_time": "2023-07-12T14:44:26.124Z"
   },
   {
    "duration": 192,
    "start_time": "2023-07-12T14:45:07.196Z"
   },
   {
    "duration": 1170,
    "start_time": "2023-07-12T14:45:12.397Z"
   },
   {
    "duration": 3,
    "start_time": "2023-07-12T14:45:16.420Z"
   },
   {
    "duration": 166,
    "start_time": "2023-07-12T14:45:22.152Z"
   },
   {
    "duration": 18,
    "start_time": "2023-07-12T14:45:29.998Z"
   },
   {
    "duration": 117,
    "start_time": "2023-07-12T14:45:49.764Z"
   },
   {
    "duration": 24,
    "start_time": "2023-07-12T14:45:55.964Z"
   },
   {
    "duration": 13434,
    "start_time": "2023-07-12T14:46:00.754Z"
   },
   {
    "duration": 275,
    "start_time": "2023-07-12T14:46:28.421Z"
   },
   {
    "duration": 790,
    "start_time": "2023-07-12T14:46:32.045Z"
   },
   {
    "duration": 4,
    "start_time": "2023-07-12T14:46:35.916Z"
   },
   {
    "duration": 213,
    "start_time": "2023-07-12T14:48:49.367Z"
   },
   {
    "duration": 12,
    "start_time": "2023-07-12T14:48:55.196Z"
   },
   {
    "duration": 121,
    "start_time": "2023-07-12T14:48:59.860Z"
   },
   {
    "duration": 28,
    "start_time": "2023-07-12T14:49:02.377Z"
   },
   {
    "duration": 14361,
    "start_time": "2023-07-12T14:49:07.022Z"
   },
   {
    "duration": 329,
    "start_time": "2023-07-12T14:49:24.173Z"
   },
   {
    "duration": 1221,
    "start_time": "2023-07-12T14:49:28.534Z"
   },
   {
    "duration": 4,
    "start_time": "2023-07-12T14:49:32.821Z"
   },
   {
    "duration": 180,
    "start_time": "2023-07-12T14:51:23.764Z"
   },
   {
    "duration": 262,
    "start_time": "2023-07-12T14:51:29.301Z"
   },
   {
    "duration": 7,
    "start_time": "2023-07-12T15:04:23.683Z"
   },
   {
    "duration": 712,
    "start_time": "2023-07-12T15:04:25.902Z"
   },
   {
    "duration": 776,
    "start_time": "2023-07-12T15:05:34.421Z"
   },
   {
    "duration": 156,
    "start_time": "2023-07-12T15:05:52.263Z"
   },
   {
    "duration": 144,
    "start_time": "2023-07-12T15:07:32.492Z"
   },
   {
    "duration": 4269,
    "start_time": "2023-07-13T11:25:26.944Z"
   },
   {
    "duration": 3,
    "start_time": "2023-07-13T11:25:31.215Z"
   },
   {
    "duration": 134,
    "start_time": "2023-07-13T11:25:31.220Z"
   },
   {
    "duration": 217,
    "start_time": "2023-07-13T11:25:31.357Z"
   },
   {
    "duration": 22,
    "start_time": "2023-07-13T11:25:31.576Z"
   },
   {
    "duration": 101,
    "start_time": "2023-07-13T11:25:31.600Z"
   },
   {
    "duration": 63,
    "start_time": "2023-07-13T11:25:31.703Z"
   },
   {
    "duration": 53,
    "start_time": "2023-07-13T11:25:31.768Z"
   },
   {
    "duration": 16,
    "start_time": "2023-07-13T11:25:31.823Z"
   },
   {
    "duration": 52,
    "start_time": "2023-07-13T11:25:31.842Z"
   },
   {
    "duration": 60,
    "start_time": "2023-07-13T11:25:31.896Z"
   },
   {
    "duration": 27,
    "start_time": "2023-07-13T11:25:31.958Z"
   },
   {
    "duration": 1093,
    "start_time": "2023-07-13T11:25:31.986Z"
   },
   {
    "duration": 3,
    "start_time": "2023-07-13T11:25:33.081Z"
   },
   {
    "duration": 3276,
    "start_time": "2023-07-13T11:25:35.634Z"
   },
   {
    "duration": 20,
    "start_time": "2023-07-13T11:25:39.921Z"
   },
   {
    "duration": 12976,
    "start_time": "2023-07-13T11:25:44.333Z"
   }
  ],
  "kernelspec": {
   "display_name": "Python 3 (ipykernel)",
   "language": "python",
   "name": "python3"
  },
  "language_info": {
   "codemirror_mode": {
    "name": "ipython",
    "version": 3
   },
   "file_extension": ".py",
   "mimetype": "text/x-python",
   "name": "python",
   "nbconvert_exporter": "python",
   "pygments_lexer": "ipython3",
   "version": "3.9.5"
  },
  "toc": {
   "base_numbering": 1,
   "nav_menu": {},
   "number_sections": true,
   "sideBar": true,
   "skip_h1_title": true,
   "title_cell": "Содержание",
   "title_sidebar": "Отток клиентов",
   "toc_cell": true,
   "toc_position": {
    "height": "calc(100% - 180px)",
    "left": "10px",
    "top": "150px",
    "width": "336.179px"
   },
   "toc_section_display": true,
   "toc_window_display": true
  }
 },
 "nbformat": 4,
 "nbformat_minor": 2
}
