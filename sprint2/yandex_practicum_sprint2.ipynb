{
 "cells": [
  {
   "attachments": {},
   "cell_type": "markdown",
   "id": "3fc521bf",
   "metadata": {
    "deletable": false,
    "editable": false,
    "id": "c81daeeb"
   },
   "source": [
    "# Исследование надежности заемщиков\n"
   ]
  },
  {
   "attachments": {},
   "cell_type": "markdown",
   "id": "177c22a6",
   "metadata": {
    "deletable": false,
    "editable": false,
    "id": "827c20bf"
   },
   "source": [
    "Во второй части проекта вы выполните шаги 3 и 4. Их вручную проверит ревьюер.\n",
    "Чтобы вам не пришлось писать код заново для шагов 1 и 2, мы добавили авторские решения в ячейки с кодом. \n",
    "\n"
   ]
  },
  {
   "attachments": {},
   "cell_type": "markdown",
   "id": "df16a9d1",
   "metadata": {
    "deletable": false,
    "editable": false,
    "id": "744d7639"
   },
   "source": [
    "## Откройте таблицу и изучите общую информацию о данных"
   ]
  },
  {
   "attachments": {},
   "cell_type": "markdown",
   "id": "b852943a",
   "metadata": {
    "deletable": false,
    "editable": false,
    "id": "e7a14c31"
   },
   "source": [
    "**Задание 1. Импортируйте библиотеку pandas. Считайте данные из csv-файла в датафрейм и сохраните в переменную `data`. Путь к файлу:**\n",
    "\n",
    "`/datasets/data.csv`"
   ]
  },
  {
   "cell_type": "code",
   "execution_count": 1,
   "id": "74f91f8a",
   "metadata": {
    "deletable": false,
    "id": "7bcf75c9"
   },
   "outputs": [],
   "source": [
    "import pandas as pd\n",
    "\n",
    "try:\n",
    "    data = pd.read_csv('/Users/denismaslov/yandex_projects/yandex/sprint2/data.csv')\n",
    "except:\n",
    "    data = pd.read_csv('https://code.s3.yandex.net/datasets/data.csv')"
   ]
  },
  {
   "attachments": {},
   "cell_type": "markdown",
   "id": "2c4140b3",
   "metadata": {
    "deletable": false,
    "editable": false,
    "id": "b8038fe3"
   },
   "source": [
    "**Задание 2. Выведите первые 20 строчек датафрейма `data` на экран.**"
   ]
  },
  {
   "cell_type": "code",
   "execution_count": 4,
   "id": "635b451f",
   "metadata": {
    "deletable": false,
    "id": "2a7cab99",
    "outputId": "1a8f3ef2-d323-4ec2-ddf7-89670b5944c4"
   },
   "outputs": [
    {
     "data": {
      "text/html": [
       "<div>\n",
       "<style scoped>\n",
       "    .dataframe tbody tr th:only-of-type {\n",
       "        vertical-align: middle;\n",
       "    }\n",
       "\n",
       "    .dataframe tbody tr th {\n",
       "        vertical-align: top;\n",
       "    }\n",
       "\n",
       "    .dataframe thead th {\n",
       "        text-align: right;\n",
       "    }\n",
       "</style>\n",
       "<table border=\"1\" class=\"dataframe\">\n",
       "  <thead>\n",
       "    <tr style=\"text-align: right;\">\n",
       "      <th></th>\n",
       "      <th>children</th>\n",
       "      <th>days_employed</th>\n",
       "      <th>dob_years</th>\n",
       "      <th>education</th>\n",
       "      <th>education_id</th>\n",
       "      <th>family_status</th>\n",
       "      <th>family_status_id</th>\n",
       "      <th>gender</th>\n",
       "      <th>income_type</th>\n",
       "      <th>debt</th>\n",
       "      <th>total_income</th>\n",
       "      <th>purpose</th>\n",
       "    </tr>\n",
       "  </thead>\n",
       "  <tbody>\n",
       "    <tr>\n",
       "      <th>0</th>\n",
       "      <td>1</td>\n",
       "      <td>-8437.673028</td>\n",
       "      <td>42</td>\n",
       "      <td>высшее</td>\n",
       "      <td>0</td>\n",
       "      <td>женат / замужем</td>\n",
       "      <td>0</td>\n",
       "      <td>F</td>\n",
       "      <td>сотрудник</td>\n",
       "      <td>0</td>\n",
       "      <td>253875.639453</td>\n",
       "      <td>покупка жилья</td>\n",
       "    </tr>\n",
       "    <tr>\n",
       "      <th>1</th>\n",
       "      <td>1</td>\n",
       "      <td>-4024.803754</td>\n",
       "      <td>36</td>\n",
       "      <td>среднее</td>\n",
       "      <td>1</td>\n",
       "      <td>женат / замужем</td>\n",
       "      <td>0</td>\n",
       "      <td>F</td>\n",
       "      <td>сотрудник</td>\n",
       "      <td>0</td>\n",
       "      <td>112080.014102</td>\n",
       "      <td>приобретение автомобиля</td>\n",
       "    </tr>\n",
       "    <tr>\n",
       "      <th>2</th>\n",
       "      <td>0</td>\n",
       "      <td>-5623.422610</td>\n",
       "      <td>33</td>\n",
       "      <td>Среднее</td>\n",
       "      <td>1</td>\n",
       "      <td>женат / замужем</td>\n",
       "      <td>0</td>\n",
       "      <td>M</td>\n",
       "      <td>сотрудник</td>\n",
       "      <td>0</td>\n",
       "      <td>145885.952297</td>\n",
       "      <td>покупка жилья</td>\n",
       "    </tr>\n",
       "    <tr>\n",
       "      <th>3</th>\n",
       "      <td>3</td>\n",
       "      <td>-4124.747207</td>\n",
       "      <td>32</td>\n",
       "      <td>среднее</td>\n",
       "      <td>1</td>\n",
       "      <td>женат / замужем</td>\n",
       "      <td>0</td>\n",
       "      <td>M</td>\n",
       "      <td>сотрудник</td>\n",
       "      <td>0</td>\n",
       "      <td>267628.550329</td>\n",
       "      <td>дополнительное образование</td>\n",
       "    </tr>\n",
       "    <tr>\n",
       "      <th>4</th>\n",
       "      <td>0</td>\n",
       "      <td>340266.072047</td>\n",
       "      <td>53</td>\n",
       "      <td>среднее</td>\n",
       "      <td>1</td>\n",
       "      <td>гражданский брак</td>\n",
       "      <td>1</td>\n",
       "      <td>F</td>\n",
       "      <td>пенсионер</td>\n",
       "      <td>0</td>\n",
       "      <td>158616.077870</td>\n",
       "      <td>сыграть свадьбу</td>\n",
       "    </tr>\n",
       "    <tr>\n",
       "      <th>5</th>\n",
       "      <td>0</td>\n",
       "      <td>-926.185831</td>\n",
       "      <td>27</td>\n",
       "      <td>высшее</td>\n",
       "      <td>0</td>\n",
       "      <td>гражданский брак</td>\n",
       "      <td>1</td>\n",
       "      <td>M</td>\n",
       "      <td>компаньон</td>\n",
       "      <td>0</td>\n",
       "      <td>255763.565419</td>\n",
       "      <td>покупка жилья</td>\n",
       "    </tr>\n",
       "    <tr>\n",
       "      <th>6</th>\n",
       "      <td>0</td>\n",
       "      <td>-2879.202052</td>\n",
       "      <td>43</td>\n",
       "      <td>высшее</td>\n",
       "      <td>0</td>\n",
       "      <td>женат / замужем</td>\n",
       "      <td>0</td>\n",
       "      <td>F</td>\n",
       "      <td>компаньон</td>\n",
       "      <td>0</td>\n",
       "      <td>240525.971920</td>\n",
       "      <td>операции с жильем</td>\n",
       "    </tr>\n",
       "    <tr>\n",
       "      <th>7</th>\n",
       "      <td>0</td>\n",
       "      <td>-152.779569</td>\n",
       "      <td>50</td>\n",
       "      <td>СРЕДНЕЕ</td>\n",
       "      <td>1</td>\n",
       "      <td>женат / замужем</td>\n",
       "      <td>0</td>\n",
       "      <td>M</td>\n",
       "      <td>сотрудник</td>\n",
       "      <td>0</td>\n",
       "      <td>135823.934197</td>\n",
       "      <td>образование</td>\n",
       "    </tr>\n",
       "    <tr>\n",
       "      <th>8</th>\n",
       "      <td>2</td>\n",
       "      <td>-6929.865299</td>\n",
       "      <td>35</td>\n",
       "      <td>ВЫСШЕЕ</td>\n",
       "      <td>0</td>\n",
       "      <td>гражданский брак</td>\n",
       "      <td>1</td>\n",
       "      <td>F</td>\n",
       "      <td>сотрудник</td>\n",
       "      <td>0</td>\n",
       "      <td>95856.832424</td>\n",
       "      <td>на проведение свадьбы</td>\n",
       "    </tr>\n",
       "    <tr>\n",
       "      <th>9</th>\n",
       "      <td>0</td>\n",
       "      <td>-2188.756445</td>\n",
       "      <td>41</td>\n",
       "      <td>среднее</td>\n",
       "      <td>1</td>\n",
       "      <td>женат / замужем</td>\n",
       "      <td>0</td>\n",
       "      <td>M</td>\n",
       "      <td>сотрудник</td>\n",
       "      <td>0</td>\n",
       "      <td>144425.938277</td>\n",
       "      <td>покупка жилья для семьи</td>\n",
       "    </tr>\n",
       "  </tbody>\n",
       "</table>\n",
       "</div>"
      ],
      "text/plain": [
       "   children  days_employed  dob_years education  education_id  \\\n",
       "0         1   -8437.673028         42    высшее             0   \n",
       "1         1   -4024.803754         36   среднее             1   \n",
       "2         0   -5623.422610         33   Среднее             1   \n",
       "3         3   -4124.747207         32   среднее             1   \n",
       "4         0  340266.072047         53   среднее             1   \n",
       "5         0    -926.185831         27    высшее             0   \n",
       "6         0   -2879.202052         43    высшее             0   \n",
       "7         0    -152.779569         50   СРЕДНЕЕ             1   \n",
       "8         2   -6929.865299         35    ВЫСШЕЕ             0   \n",
       "9         0   -2188.756445         41   среднее             1   \n",
       "\n",
       "      family_status  family_status_id gender income_type  debt   total_income  \\\n",
       "0   женат / замужем                 0      F   сотрудник     0  253875.639453   \n",
       "1   женат / замужем                 0      F   сотрудник     0  112080.014102   \n",
       "2   женат / замужем                 0      M   сотрудник     0  145885.952297   \n",
       "3   женат / замужем                 0      M   сотрудник     0  267628.550329   \n",
       "4  гражданский брак                 1      F   пенсионер     0  158616.077870   \n",
       "5  гражданский брак                 1      M   компаньон     0  255763.565419   \n",
       "6   женат / замужем                 0      F   компаньон     0  240525.971920   \n",
       "7   женат / замужем                 0      M   сотрудник     0  135823.934197   \n",
       "8  гражданский брак                 1      F   сотрудник     0   95856.832424   \n",
       "9   женат / замужем                 0      M   сотрудник     0  144425.938277   \n",
       "\n",
       "                      purpose  \n",
       "0               покупка жилья  \n",
       "1     приобретение автомобиля  \n",
       "2               покупка жилья  \n",
       "3  дополнительное образование  \n",
       "4             сыграть свадьбу  \n",
       "5               покупка жилья  \n",
       "6           операции с жильем  \n",
       "7                 образование  \n",
       "8       на проведение свадьбы  \n",
       "9     покупка жилья для семьи  "
      ]
     },
     "execution_count": 4,
     "metadata": {},
     "output_type": "execute_result"
    }
   ],
   "source": [
    "data.head(10)"
   ]
  },
  {
   "attachments": {},
   "cell_type": "markdown",
   "id": "6331e051",
   "metadata": {
    "deletable": false,
    "editable": false,
    "id": "1c12e233"
   },
   "source": [
    "**Задание 3. Выведите основную информацию о датафрейме с помощью метода `info()`.**"
   ]
  },
  {
   "cell_type": "code",
   "execution_count": 5,
   "id": "5fbeda2c",
   "metadata": {
    "deletable": false,
    "id": "2b757bca",
    "outputId": "15376089-8dad-46c9-b520-c05248d43158"
   },
   "outputs": [
    {
     "name": "stdout",
     "output_type": "stream",
     "text": [
      "<class 'pandas.core.frame.DataFrame'>\n",
      "RangeIndex: 21525 entries, 0 to 21524\n",
      "Data columns (total 12 columns):\n",
      " #   Column            Non-Null Count  Dtype  \n",
      "---  ------            --------------  -----  \n",
      " 0   children          21525 non-null  int64  \n",
      " 1   days_employed     19351 non-null  float64\n",
      " 2   dob_years         21525 non-null  int64  \n",
      " 3   education         21525 non-null  object \n",
      " 4   education_id      21525 non-null  int64  \n",
      " 5   family_status     21525 non-null  object \n",
      " 6   family_status_id  21525 non-null  int64  \n",
      " 7   gender            21525 non-null  object \n",
      " 8   income_type       21525 non-null  object \n",
      " 9   debt              21525 non-null  int64  \n",
      " 10  total_income      19351 non-null  float64\n",
      " 11  purpose           21525 non-null  object \n",
      "dtypes: float64(2), int64(5), object(5)\n",
      "memory usage: 2.0+ MB\n"
     ]
    }
   ],
   "source": [
    "data.info()"
   ]
  },
  {
   "attachments": {},
   "cell_type": "markdown",
   "id": "0f6ca7a6",
   "metadata": {
    "deletable": false,
    "editable": false,
    "id": "333ec665"
   },
   "source": [
    "## Предобработка данных"
   ]
  },
  {
   "attachments": {},
   "cell_type": "markdown",
   "id": "5947f47e",
   "metadata": {
    "deletable": false,
    "editable": false,
    "id": "02d92d53"
   },
   "source": [
    "### Удаление пропусков"
   ]
  },
  {
   "attachments": {},
   "cell_type": "markdown",
   "id": "da2402ee",
   "metadata": {
    "deletable": false,
    "editable": false,
    "id": "cd84967c"
   },
   "source": [
    "**Задание 4. Выведите количество пропущенных значений для каждого столбца. Используйте комбинацию двух методов.**"
   ]
  },
  {
   "cell_type": "code",
   "execution_count": 6,
   "id": "2e25e7e2",
   "metadata": {
    "deletable": false,
    "id": "7f9b2309",
    "outputId": "81f4d817-781c-465c-ed15-91ce4446810d"
   },
   "outputs": [
    {
     "data": {
      "text/plain": [
       "children               0\n",
       "days_employed       2174\n",
       "dob_years              0\n",
       "education              0\n",
       "education_id           0\n",
       "family_status          0\n",
       "family_status_id       0\n",
       "gender                 0\n",
       "income_type            0\n",
       "debt                   0\n",
       "total_income        2174\n",
       "purpose                0\n",
       "dtype: int64"
      ]
     },
     "execution_count": 6,
     "metadata": {},
     "output_type": "execute_result"
    }
   ],
   "source": [
    "data.isna().sum()"
   ]
  },
  {
   "attachments": {},
   "cell_type": "markdown",
   "id": "fae35fc3",
   "metadata": {
    "deletable": false,
    "editable": false,
    "id": "db86e27b"
   },
   "source": [
    "**Задание 5. В двух столбцах есть пропущенные значения. Один из них — `days_employed`. Пропуски в этом столбце вы обработаете на следующем этапе. Другой столбец с пропущенными значениями — `total_income` — хранит данные о доходах. На сумму дохода сильнее всего влияет тип занятости, поэтому заполнить пропуски в этом столбце нужно медианным значением по каждому типу из столбца `income_type`. Например, у человека с типом занятости `сотрудник` пропуск в столбце `total_income` должен быть заполнен медианным доходом среди всех записей с тем же типом.**"
   ]
  },
  {
   "cell_type": "code",
   "execution_count": 7,
   "id": "c6214bc4",
   "metadata": {
    "deletable": false,
    "id": "42006a93"
   },
   "outputs": [],
   "source": [
    "for t in data['income_type'].unique():\n",
    "    data.loc[(data['income_type'] == t) & (data['total_income'].isna()), 'total_income'] = \\\n",
    "    data.loc[(data['income_type'] == t), 'total_income'].median()"
   ]
  },
  {
   "attachments": {},
   "cell_type": "markdown",
   "id": "09b6deac",
   "metadata": {
    "deletable": false,
    "editable": false,
    "id": "89da5ece"
   },
   "source": [
    "### Обработка аномальных значений"
   ]
  },
  {
   "attachments": {},
   "cell_type": "markdown",
   "id": "c28eb2dc",
   "metadata": {
    "deletable": false,
    "editable": false,
    "id": "57964554"
   },
   "source": [
    "**Задание 6. В данных могут встречаться артефакты (аномалии) — значения, которые не отражают действительность и появились по какой-то ошибке. таким артефактом будет отрицательное количество дней трудового стажа в столбце `days_employed`. Для реальных данных это нормально. Обработайте значения в этом столбце: замените все отрицательные значения положительными с помощью метода `abs()`.**"
   ]
  },
  {
   "cell_type": "code",
   "execution_count": 8,
   "id": "c492e202",
   "metadata": {
    "deletable": false,
    "id": "f6f055bf"
   },
   "outputs": [],
   "source": [
    "data['days_employed'] = data['days_employed'].abs()"
   ]
  },
  {
   "attachments": {},
   "cell_type": "markdown",
   "id": "913eeef3",
   "metadata": {
    "deletable": false,
    "editable": false,
    "id": "6107dd2f"
   },
   "source": [
    "**Задание 7. Для каждого типа занятости выведите медианное значение трудового стажа `days_employed` в днях.**"
   ]
  },
  {
   "cell_type": "code",
   "execution_count": 9,
   "id": "fa22ebb0",
   "metadata": {
    "deletable": false,
    "id": "85a5faf6",
    "outputId": "801ef80e-522b-4668-f34e-565af7432bcf"
   },
   "outputs": [
    {
     "data": {
      "text/plain": [
       "income_type\n",
       "безработный        366413.652744\n",
       "в декрете            3296.759962\n",
       "госслужащий          2689.368353\n",
       "компаньон            1547.382223\n",
       "пенсионер          365213.306266\n",
       "предприниматель       520.848083\n",
       "сотрудник            1574.202821\n",
       "студент               578.751554\n",
       "Name: days_employed, dtype: float64"
      ]
     },
     "execution_count": 9,
     "metadata": {},
     "output_type": "execute_result"
    }
   ],
   "source": [
    "data.groupby('income_type')['days_employed'].agg('median')"
   ]
  },
  {
   "attachments": {},
   "cell_type": "markdown",
   "id": "e224e6b8",
   "metadata": {
    "deletable": false,
    "editable": false,
    "id": "38d1a030"
   },
   "source": [
    "У двух типов (безработные и пенсионеры) получатся аномально большие значения. Исправить такие значения сложно, поэтому оставьте их как есть. Тем более этот столбец не понадобится вам для исследования."
   ]
  },
  {
   "attachments": {},
   "cell_type": "markdown",
   "id": "51d3fa0d",
   "metadata": {
    "deletable": false,
    "editable": false,
    "id": "d8a9f147"
   },
   "source": [
    "**Задание 8. Выведите перечень уникальных значений столбца `children`.**"
   ]
  },
  {
   "cell_type": "code",
   "execution_count": 10,
   "id": "e25b1a13",
   "metadata": {
    "deletable": false,
    "id": "ef5056eb",
    "outputId": "6975b15c-7f95-4697-d16d-a0c79b657b03"
   },
   "outputs": [
    {
     "data": {
      "text/plain": [
       "array([ 1,  0,  3,  2, -1,  4, 20,  5])"
      ]
     },
     "execution_count": 10,
     "metadata": {},
     "output_type": "execute_result"
    }
   ],
   "source": [
    "data['children'].unique()"
   ]
  },
  {
   "attachments": {},
   "cell_type": "markdown",
   "id": "65afbd36",
   "metadata": {
    "deletable": false,
    "editable": false,
    "id": "40b9ebf2"
   },
   "source": [
    "**Задание 9. В столбце `children` есть два аномальных значения. Удалите строки, в которых встречаются такие аномальные значения из датафрейма `data`.**"
   ]
  },
  {
   "cell_type": "code",
   "execution_count": 11,
   "id": "a5ad7295",
   "metadata": {
    "deletable": false,
    "id": "3ff9801d"
   },
   "outputs": [],
   "source": [
    "data = data[(data['children'] != -1) & (data['children'] != 20)]"
   ]
  },
  {
   "attachments": {},
   "cell_type": "markdown",
   "id": "3c7e351e",
   "metadata": {
    "deletable": false,
    "editable": false,
    "id": "bbc4d0ce"
   },
   "source": [
    "**Задание 10. Ещё раз выведите перечень уникальных значений столбца `children`, чтобы убедиться, что артефакты удалены.**"
   ]
  },
  {
   "cell_type": "code",
   "execution_count": 12,
   "id": "ef910804",
   "metadata": {
    "deletable": false,
    "id": "ad4fa8b7",
    "outputId": "b2097101-d49d-44d9-901b-32a65c9463d1"
   },
   "outputs": [
    {
     "data": {
      "text/plain": [
       "array([1, 0, 3, 2, 4, 5])"
      ]
     },
     "execution_count": 12,
     "metadata": {},
     "output_type": "execute_result"
    }
   ],
   "source": [
    "data['children'].unique()"
   ]
  },
  {
   "attachments": {},
   "cell_type": "markdown",
   "id": "65d0b438",
   "metadata": {
    "deletable": false,
    "editable": false,
    "id": "75440b63"
   },
   "source": [
    "### Удаление пропусков (продолжение)"
   ]
  },
  {
   "attachments": {},
   "cell_type": "markdown",
   "id": "dc2eb784",
   "metadata": {
    "deletable": false,
    "editable": false,
    "id": "f4ea573f"
   },
   "source": [
    "**Задание 11. Заполните пропуски в столбце `days_employed` медианными значениями по каждого типа занятости `income_type`.**"
   ]
  },
  {
   "cell_type": "code",
   "execution_count": 13,
   "id": "eca85d51",
   "metadata": {
    "deletable": false,
    "id": "af6b1a7e"
   },
   "outputs": [],
   "source": [
    "for t in data['income_type'].unique():\n",
    "    data.loc[(data['income_type'] == t) & (data['days_employed'].isna()), 'days_employed'] = \\\n",
    "    data.loc[(data['income_type'] == t), 'days_employed'].median()"
   ]
  },
  {
   "attachments": {},
   "cell_type": "markdown",
   "id": "7db0dad7",
   "metadata": {
    "deletable": false,
    "editable": false,
    "id": "2753f40d"
   },
   "source": [
    "**Задание 12. Убедитесь, что все пропуски заполнены. Проверьте себя и ещё раз выведите количество пропущенных значений для каждого столбца с помощью двух методов.**"
   ]
  },
  {
   "cell_type": "code",
   "execution_count": 14,
   "id": "ce96fd30",
   "metadata": {
    "deletable": false,
    "id": "55f78bc2",
    "outputId": "8da1e4e1-358e-4e87-98c9-f261bce0a7b2"
   },
   "outputs": [
    {
     "data": {
      "text/plain": [
       "children            0\n",
       "days_employed       0\n",
       "dob_years           0\n",
       "education           0\n",
       "education_id        0\n",
       "family_status       0\n",
       "family_status_id    0\n",
       "gender              0\n",
       "income_type         0\n",
       "debt                0\n",
       "total_income        0\n",
       "purpose             0\n",
       "dtype: int64"
      ]
     },
     "execution_count": 14,
     "metadata": {},
     "output_type": "execute_result"
    }
   ],
   "source": [
    "data.isna().sum()"
   ]
  },
  {
   "attachments": {},
   "cell_type": "markdown",
   "id": "d526d380",
   "metadata": {
    "deletable": false,
    "editable": false,
    "id": "ddc81e43"
   },
   "source": [
    "### Изменение типов данных"
   ]
  },
  {
   "attachments": {},
   "cell_type": "markdown",
   "id": "7b890e87",
   "metadata": {
    "deletable": false,
    "editable": false,
    "id": "42d19d24"
   },
   "source": [
    "**Задание 13. Замените вещественный тип данных в столбце `total_income` на целочисленный с помощью метода `astype()`.**"
   ]
  },
  {
   "cell_type": "code",
   "execution_count": 15,
   "id": "f61d37ca",
   "metadata": {
    "deletable": false,
    "id": "920b65ad"
   },
   "outputs": [],
   "source": [
    "data['total_income'] = data['total_income'].astype(int)"
   ]
  },
  {
   "attachments": {},
   "cell_type": "markdown",
   "id": "800d454a",
   "metadata": {
    "deletable": false,
    "editable": false,
    "id": "80c420ba"
   },
   "source": [
    "### Обработка дубликатов"
   ]
  },
  {
   "attachments": {},
   "cell_type": "markdown",
   "id": "8c94d773",
   "metadata": {
    "deletable": false,
    "editable": false
   },
   "source": [
    "**Задание 14. Обработайте неявные дубликаты в столбце `education`. В этом столбце есть одни и те же значения, но записанные по-разному: с использованием заглавных и строчных букв. Приведите их к нижнему регистру. Проверьте остальные столбцы.**"
   ]
  },
  {
   "cell_type": "code",
   "execution_count": 16,
   "id": "82a3607d",
   "metadata": {
    "deletable": false
   },
   "outputs": [],
   "source": [
    "data['education'] = data['education'].str.lower()"
   ]
  },
  {
   "attachments": {},
   "cell_type": "markdown",
   "id": "8daa4c51",
   "metadata": {
    "deletable": false,
    "editable": false,
    "id": "dc587695"
   },
   "source": [
    "**Задание 15. Выведите на экран количество строк-дубликатов в данных. Если такие строки присутствуют, удалите их.**"
   ]
  },
  {
   "cell_type": "code",
   "execution_count": 17,
   "id": "d2c3689f",
   "metadata": {
    "deletable": false,
    "id": "3ee445e4",
    "outputId": "9684deba-1934-42d1-99e1-cda61740f822"
   },
   "outputs": [
    {
     "data": {
      "text/plain": [
       "71"
      ]
     },
     "execution_count": 17,
     "metadata": {},
     "output_type": "execute_result"
    }
   ],
   "source": [
    "data.duplicated().sum()"
   ]
  },
  {
   "cell_type": "code",
   "execution_count": 18,
   "id": "230f4575",
   "metadata": {
    "deletable": false,
    "id": "8575fe05"
   },
   "outputs": [],
   "source": [
    "data = data.drop_duplicates()"
   ]
  },
  {
   "attachments": {},
   "cell_type": "markdown",
   "id": "787a770b",
   "metadata": {
    "deletable": false,
    "editable": false,
    "id": "9904cf55"
   },
   "source": [
    "### Категоризация данных"
   ]
  },
  {
   "attachments": {},
   "cell_type": "markdown",
   "id": "f2f7b612",
   "metadata": {
    "deletable": false,
    "editable": false,
    "id": "72fcc8a2"
   },
   "source": [
    "**Задание 16. На основании диапазонов, указанных ниже, создайте в датафрейме `data` столбец `total_income_category` с категориями:**\n",
    "\n",
    "- 0–30000 — `'E'`;\n",
    "- 30001–50000 — `'D'`;\n",
    "- 50001–200000 — `'C'`;\n",
    "- 200001–1000000 — `'B'`;\n",
    "- 1000001 и выше — `'A'`.\n",
    "\n",
    "\n",
    "**Например, кредитополучателю с доходом 25000 нужно назначить категорию `'E'`, а клиенту, получающему 235000, — `'B'`. Используйте собственную функцию с именем `categorize_income()` и метод `apply()`.**"
   ]
  },
  {
   "cell_type": "code",
   "execution_count": 19,
   "id": "49867261",
   "metadata": {
    "deletable": false,
    "id": "e1771346"
   },
   "outputs": [],
   "source": [
    "def categorize_income(income):\n",
    "    try:\n",
    "        if 0 <= income <= 30000:\n",
    "            return 'E'\n",
    "        elif 30001 <= income <= 50000:\n",
    "            return 'D'\n",
    "        elif 50001 <= income <= 200000:\n",
    "            return 'C'\n",
    "        elif 200001 <= income <= 1000000:\n",
    "            return 'B'\n",
    "        elif income >= 1000001:\n",
    "            return 'A'\n",
    "    except:\n",
    "        pass"
   ]
  },
  {
   "cell_type": "code",
   "execution_count": 20,
   "id": "912ee1ff",
   "metadata": {
    "deletable": false,
    "id": "d5f3586d"
   },
   "outputs": [],
   "source": [
    "data['total_income_category'] = data['total_income'].apply(categorize_income)"
   ]
  },
  {
   "attachments": {},
   "cell_type": "markdown",
   "id": "8719a813",
   "metadata": {
    "deletable": false,
    "editable": false,
    "id": "dde49b5c"
   },
   "source": [
    "**Задание 17. Выведите на экран перечень уникальных целей взятия кредита из столбца `purpose`.**"
   ]
  },
  {
   "cell_type": "code",
   "execution_count": 21,
   "id": "01f974a6",
   "metadata": {
    "deletable": false,
    "id": "f67ce9b3",
    "outputId": "673c12d9-7d7e-4ae0-9812-c622c89dd244"
   },
   "outputs": [
    {
     "data": {
      "text/plain": [
       "array(['покупка жилья', 'приобретение автомобиля',\n",
       "       'дополнительное образование', 'сыграть свадьбу',\n",
       "       'операции с жильем', 'образование', 'на проведение свадьбы',\n",
       "       'покупка жилья для семьи', 'покупка недвижимости',\n",
       "       'покупка коммерческой недвижимости', 'покупка жилой недвижимости',\n",
       "       'строительство собственной недвижимости', 'недвижимость',\n",
       "       'строительство недвижимости', 'на покупку подержанного автомобиля',\n",
       "       'на покупку своего автомобиля',\n",
       "       'операции с коммерческой недвижимостью',\n",
       "       'строительство жилой недвижимости', 'жилье',\n",
       "       'операции со своей недвижимостью', 'автомобили',\n",
       "       'заняться образованием', 'сделка с подержанным автомобилем',\n",
       "       'получение образования', 'автомобиль', 'свадьба',\n",
       "       'получение дополнительного образования', 'покупка своего жилья',\n",
       "       'операции с недвижимостью', 'получение высшего образования',\n",
       "       'свой автомобиль', 'сделка с автомобилем',\n",
       "       'профильное образование', 'высшее образование',\n",
       "       'покупка жилья для сдачи', 'на покупку автомобиля', 'ремонт жилью',\n",
       "       'заняться высшим образованием'], dtype=object)"
      ]
     },
     "execution_count": 21,
     "metadata": {},
     "output_type": "execute_result"
    }
   ],
   "source": [
    "data['purpose'].unique()"
   ]
  },
  {
   "attachments": {},
   "cell_type": "markdown",
   "id": "e4f3c9a6",
   "metadata": {
    "deletable": false,
    "editable": false,
    "id": "85d0aef0"
   },
   "source": [
    "**Задание 18. Создайте функцию, которая на основании данных из столбца `purpose` сформирует новый столбец `purpose_category`, в который войдут следующие категории:**\n",
    "\n",
    "- `'операции с автомобилем'`,\n",
    "- `'операции с недвижимостью'`,\n",
    "- `'проведение свадьбы'`,\n",
    "- `'получение образования'`.\n",
    "\n",
    "**Например, если в столбце `purpose` находится подстрока `'на покупку автомобиля'`, то в столбце `purpose_category` должна появиться строка `'операции с автомобилем'`.**\n",
    "\n",
    "**Используйте собственную функцию с именем `categorize_purpose()` и метод `apply()`. Изучите данные в столбце `purpose` и определите, какие подстроки помогут вам правильно определить категорию.**"
   ]
  },
  {
   "cell_type": "code",
   "execution_count": 22,
   "id": "1e99310e",
   "metadata": {
    "deletable": false,
    "id": "e149fab4"
   },
   "outputs": [],
   "source": [
    "def categorize_purpose(row):\n",
    "    try:\n",
    "        if 'автом' in row:\n",
    "            return 'операции с автомобилем'\n",
    "        elif 'жил' in row or 'недвиж' in row:\n",
    "            return 'операции с недвижимостью'\n",
    "        elif 'свад' in row:\n",
    "            return 'проведение свадьбы'\n",
    "        elif 'образов' in row:\n",
    "            return 'получение образования'\n",
    "    except:\n",
    "        return 'нет категории'"
   ]
  },
  {
   "cell_type": "code",
   "execution_count": 23,
   "id": "0b494f1d",
   "metadata": {
    "deletable": false,
    "id": "bf36e69b"
   },
   "outputs": [],
   "source": [
    "data['purpose_category'] = data['purpose'].apply(categorize_purpose)"
   ]
  },
  {
   "attachments": {},
   "cell_type": "markdown",
   "id": "d90b1493",
   "metadata": {
    "deletable": false,
    "editable": false,
    "id": "09b242bf"
   },
   "source": [
    "### Шаг 3. Исследуйте данные и ответьте на вопросы"
   ]
  },
  {
   "attachments": {},
   "cell_type": "markdown",
   "id": "c8aa9a56",
   "metadata": {
    "deletable": false,
    "editable": false,
    "id": "c5d66278"
   },
   "source": [
    "#### 3.1 Есть ли зависимость между количеством детей и возвратом кредита в срок?"
   ]
  },
  {
   "cell_type": "code",
   "execution_count": 29,
   "id": "6a25b742",
   "metadata": {},
   "outputs": [
    {
     "data": {
      "text/html": [
       "<div>\n",
       "<style scoped>\n",
       "    .dataframe tbody tr th:only-of-type {\n",
       "        vertical-align: middle;\n",
       "    }\n",
       "\n",
       "    .dataframe tbody tr th {\n",
       "        vertical-align: top;\n",
       "    }\n",
       "\n",
       "    .dataframe thead th {\n",
       "        text-align: right;\n",
       "    }\n",
       "</style>\n",
       "<table border=\"1\" class=\"dataframe\">\n",
       "  <thead>\n",
       "    <tr style=\"text-align: right;\">\n",
       "      <th></th>\n",
       "      <th>count</th>\n",
       "      <th>sum</th>\n",
       "      <th>mean</th>\n",
       "    </tr>\n",
       "    <tr>\n",
       "      <th>children</th>\n",
       "      <th></th>\n",
       "      <th></th>\n",
       "      <th></th>\n",
       "    </tr>\n",
       "  </thead>\n",
       "  <tbody>\n",
       "    <tr>\n",
       "      <th>0</th>\n",
       "      <td>14091</td>\n",
       "      <td>1063</td>\n",
       "      <td>0.075438</td>\n",
       "    </tr>\n",
       "    <tr>\n",
       "      <th>1</th>\n",
       "      <td>4808</td>\n",
       "      <td>444</td>\n",
       "      <td>0.092346</td>\n",
       "    </tr>\n",
       "    <tr>\n",
       "      <th>2</th>\n",
       "      <td>2052</td>\n",
       "      <td>194</td>\n",
       "      <td>0.094542</td>\n",
       "    </tr>\n",
       "    <tr>\n",
       "      <th>3</th>\n",
       "      <td>330</td>\n",
       "      <td>27</td>\n",
       "      <td>0.081818</td>\n",
       "    </tr>\n",
       "    <tr>\n",
       "      <th>4</th>\n",
       "      <td>41</td>\n",
       "      <td>4</td>\n",
       "      <td>0.097561</td>\n",
       "    </tr>\n",
       "    <tr>\n",
       "      <th>5</th>\n",
       "      <td>9</td>\n",
       "      <td>0</td>\n",
       "      <td>0.000000</td>\n",
       "    </tr>\n",
       "  </tbody>\n",
       "</table>\n",
       "</div>"
      ],
      "text/plain": [
       "          count   sum      mean\n",
       "children                       \n",
       "0         14091  1063  0.075438\n",
       "1          4808   444  0.092346\n",
       "2          2052   194  0.094542\n",
       "3           330    27  0.081818\n",
       "4            41     4  0.097561\n",
       "5             9     0  0.000000"
      ]
     },
     "execution_count": 29,
     "metadata": {},
     "output_type": "execute_result"
    }
   ],
   "source": [
    "data.groupby('children')['debt'].agg(['count', 'sum', 'mean'])"
   ]
  },
  {
   "attachments": {},
   "cell_type": "markdown",
   "id": "8209d802",
   "metadata": {
    "deletable": false,
    "id": "3a6b99ec"
   },
   "source": [
    "**Вывод:** \n",
    "Если отбросить не репрезентативные результаты, которые имеют значительно другой порядок, то можно сделать вывод, что качество возврата кредита падает с увеличением количества детей."
   ]
  },
  {
   "attachments": {},
   "cell_type": "markdown",
   "id": "8bd67845",
   "metadata": {
    "deletable": false,
    "editable": false,
    "id": "97be82ca"
   },
   "source": [
    "#### 3.2 Есть ли зависимость между семейным положением и возвратом кредита в срок?"
   ]
  },
  {
   "cell_type": "code",
   "execution_count": 32,
   "id": "ee5644e5",
   "metadata": {},
   "outputs": [
    {
     "data": {
      "text/html": [
       "<div>\n",
       "<style scoped>\n",
       "    .dataframe tbody tr th:only-of-type {\n",
       "        vertical-align: middle;\n",
       "    }\n",
       "\n",
       "    .dataframe tbody tr th {\n",
       "        vertical-align: top;\n",
       "    }\n",
       "\n",
       "    .dataframe thead th {\n",
       "        text-align: right;\n",
       "    }\n",
       "</style>\n",
       "<table border=\"1\" class=\"dataframe\">\n",
       "  <thead>\n",
       "    <tr style=\"text-align: right;\">\n",
       "      <th></th>\n",
       "      <th>count</th>\n",
       "      <th>sum</th>\n",
       "      <th>mean</th>\n",
       "    </tr>\n",
       "    <tr>\n",
       "      <th>family_status</th>\n",
       "      <th></th>\n",
       "      <th></th>\n",
       "      <th></th>\n",
       "    </tr>\n",
       "  </thead>\n",
       "  <tbody>\n",
       "    <tr>\n",
       "      <th>вдовец / вдова</th>\n",
       "      <td>951</td>\n",
       "      <td>63</td>\n",
       "      <td>0.066246</td>\n",
       "    </tr>\n",
       "    <tr>\n",
       "      <th>в разводе</th>\n",
       "      <td>1189</td>\n",
       "      <td>84</td>\n",
       "      <td>0.070648</td>\n",
       "    </tr>\n",
       "    <tr>\n",
       "      <th>женат / замужем</th>\n",
       "      <td>12261</td>\n",
       "      <td>927</td>\n",
       "      <td>0.075606</td>\n",
       "    </tr>\n",
       "    <tr>\n",
       "      <th>гражданский брак</th>\n",
       "      <td>4134</td>\n",
       "      <td>385</td>\n",
       "      <td>0.093130</td>\n",
       "    </tr>\n",
       "    <tr>\n",
       "      <th>Не женат / не замужем</th>\n",
       "      <td>2796</td>\n",
       "      <td>273</td>\n",
       "      <td>0.097639</td>\n",
       "    </tr>\n",
       "  </tbody>\n",
       "</table>\n",
       "</div>"
      ],
      "text/plain": [
       "                       count  sum      mean\n",
       "family_status                              \n",
       "вдовец / вдова           951   63  0.066246\n",
       "в разводе               1189   84  0.070648\n",
       "женат / замужем        12261  927  0.075606\n",
       "гражданский брак        4134  385  0.093130\n",
       "Не женат / не замужем   2796  273  0.097639"
      ]
     },
     "execution_count": 32,
     "metadata": {},
     "output_type": "execute_result"
    }
   ],
   "source": [
    "data.groupby('family_status')['debt'].agg(['count', 'sum', 'mean']).sort_values('mean')"
   ]
  },
  {
   "attachments": {},
   "cell_type": "markdown",
   "id": "581d6a24",
   "metadata": {
    "deletable": false,
    "id": "1cef7837"
   },
   "source": [
    "**Вывод:** \n",
    "Из полученной таблицы можно сделать вывод, что существует зависимость между семейным положением и возвратом кредита в срок. Так, мы видим, что люди в официальном браке, или когда либо состоявшие в официальном браке лучше возвращают кредит, чем те кто никогда не был в официальном браке, либо состоит в гражданских отношениях."
   ]
  },
  {
   "attachments": {},
   "cell_type": "markdown",
   "id": "668b1075",
   "metadata": {
    "deletable": false,
    "editable": false,
    "id": "1e8b2fca"
   },
   "source": [
    "#### 3.3 Есть ли зависимость между уровнем дохода и возвратом кредита в срок?"
   ]
  },
  {
   "cell_type": "code",
   "execution_count": 33,
   "id": "c71ff31a",
   "metadata": {},
   "outputs": [
    {
     "data": {
      "text/html": [
       "<div>\n",
       "<style scoped>\n",
       "    .dataframe tbody tr th:only-of-type {\n",
       "        vertical-align: middle;\n",
       "    }\n",
       "\n",
       "    .dataframe tbody tr th {\n",
       "        vertical-align: top;\n",
       "    }\n",
       "\n",
       "    .dataframe thead th {\n",
       "        text-align: right;\n",
       "    }\n",
       "</style>\n",
       "<table border=\"1\" class=\"dataframe\">\n",
       "  <thead>\n",
       "    <tr style=\"text-align: right;\">\n",
       "      <th></th>\n",
       "      <th>count</th>\n",
       "      <th>sum</th>\n",
       "      <th>mean</th>\n",
       "    </tr>\n",
       "    <tr>\n",
       "      <th>total_income_category</th>\n",
       "      <th></th>\n",
       "      <th></th>\n",
       "      <th></th>\n",
       "    </tr>\n",
       "  </thead>\n",
       "  <tbody>\n",
       "    <tr>\n",
       "      <th>D</th>\n",
       "      <td>349</td>\n",
       "      <td>21</td>\n",
       "      <td>0.060172</td>\n",
       "    </tr>\n",
       "    <tr>\n",
       "      <th>B</th>\n",
       "      <td>5014</td>\n",
       "      <td>354</td>\n",
       "      <td>0.070602</td>\n",
       "    </tr>\n",
       "    <tr>\n",
       "      <th>A</th>\n",
       "      <td>25</td>\n",
       "      <td>2</td>\n",
       "      <td>0.080000</td>\n",
       "    </tr>\n",
       "    <tr>\n",
       "      <th>C</th>\n",
       "      <td>15921</td>\n",
       "      <td>1353</td>\n",
       "      <td>0.084982</td>\n",
       "    </tr>\n",
       "    <tr>\n",
       "      <th>E</th>\n",
       "      <td>22</td>\n",
       "      <td>2</td>\n",
       "      <td>0.090909</td>\n",
       "    </tr>\n",
       "  </tbody>\n",
       "</table>\n",
       "</div>"
      ],
      "text/plain": [
       "                       count   sum      mean\n",
       "total_income_category                       \n",
       "D                        349    21  0.060172\n",
       "B                       5014   354  0.070602\n",
       "A                         25     2  0.080000\n",
       "C                      15921  1353  0.084982\n",
       "E                         22     2  0.090909"
      ]
     },
     "execution_count": 33,
     "metadata": {},
     "output_type": "execute_result"
    }
   ],
   "source": [
    "data.groupby('total_income_category')['debt'].agg(['count', 'sum', 'mean']).sort_values('mean')"
   ]
  },
  {
   "attachments": {},
   "cell_type": "markdown",
   "id": "dc7a1af9",
   "metadata": {
    "deletable": false,
    "id": "e8593def"
   },
   "source": [
    "**Вывод:** \n",
    "Здесь только группы В и С имеют репрезентативное количество клиентов, сопоставимое между собой. Исходя из этого, конечно можно сделать вывод, что чем меньше доход, тем хуже качество возврата кредита, но по хорошему, учитывая, что все же групп по доходу 5, а мы используем для вывода только 2, я бы сделал вывод, что предоставленных данных не достаточно, чтобы сделать качественный вывод."
   ]
  },
  {
   "attachments": {},
   "cell_type": "markdown",
   "id": "d1dfcbf8",
   "metadata": {
    "deletable": false,
    "editable": false,
    "id": "99ecbd1f"
   },
   "source": [
    "#### 3.4 Как разные цели кредита влияют на его возврат в срок?"
   ]
  },
  {
   "cell_type": "code",
   "execution_count": 34,
   "id": "801c79e1",
   "metadata": {},
   "outputs": [
    {
     "data": {
      "text/html": [
       "<div>\n",
       "<style scoped>\n",
       "    .dataframe tbody tr th:only-of-type {\n",
       "        vertical-align: middle;\n",
       "    }\n",
       "\n",
       "    .dataframe tbody tr th {\n",
       "        vertical-align: top;\n",
       "    }\n",
       "\n",
       "    .dataframe thead th {\n",
       "        text-align: right;\n",
       "    }\n",
       "</style>\n",
       "<table border=\"1\" class=\"dataframe\">\n",
       "  <thead>\n",
       "    <tr style=\"text-align: right;\">\n",
       "      <th></th>\n",
       "      <th>count</th>\n",
       "      <th>sum</th>\n",
       "      <th>mean</th>\n",
       "    </tr>\n",
       "    <tr>\n",
       "      <th>purpose_category</th>\n",
       "      <th></th>\n",
       "      <th></th>\n",
       "      <th></th>\n",
       "    </tr>\n",
       "  </thead>\n",
       "  <tbody>\n",
       "    <tr>\n",
       "      <th>операции с недвижимостью</th>\n",
       "      <td>10751</td>\n",
       "      <td>780</td>\n",
       "      <td>0.072551</td>\n",
       "    </tr>\n",
       "    <tr>\n",
       "      <th>проведение свадьбы</th>\n",
       "      <td>2313</td>\n",
       "      <td>183</td>\n",
       "      <td>0.079118</td>\n",
       "    </tr>\n",
       "    <tr>\n",
       "      <th>получение образования</th>\n",
       "      <td>3988</td>\n",
       "      <td>369</td>\n",
       "      <td>0.092528</td>\n",
       "    </tr>\n",
       "    <tr>\n",
       "      <th>операции с автомобилем</th>\n",
       "      <td>4279</td>\n",
       "      <td>400</td>\n",
       "      <td>0.093480</td>\n",
       "    </tr>\n",
       "  </tbody>\n",
       "</table>\n",
       "</div>"
      ],
      "text/plain": [
       "                          count  sum      mean\n",
       "purpose_category                              \n",
       "операции с недвижимостью  10751  780  0.072551\n",
       "проведение свадьбы         2313  183  0.079118\n",
       "получение образования      3988  369  0.092528\n",
       "операции с автомобилем     4279  400  0.093480"
      ]
     },
     "execution_count": 34,
     "metadata": {},
     "output_type": "execute_result"
    }
   ],
   "source": [
    "data.groupby('purpose_category')['debt'].agg(['count', 'sum', 'mean']).sort_values('mean')"
   ]
  },
  {
   "attachments": {},
   "cell_type": "markdown",
   "id": "d0f4c37d",
   "metadata": {
    "deletable": false,
    "id": "b4bb2ce6"
   },
   "source": [
    "**Вывод:** \n",
    "Из полученной таблицы видим, что качество возврата кредита в зависимости от его целей меняется и безусловно влияет на возврат кредита в срок. В тоже время, можно сделать вывод, что качество возврата кредита зависит от более глобальных целей: если кредит берется для создания дома или семьи, он имеет лучшее качество возврата, чем тот что берется для целей создания лучшего качества жизни, таких например как покупка автомобиля или образования."
   ]
  },
  {
   "attachments": {},
   "cell_type": "markdown",
   "id": "2499b3f7",
   "metadata": {
    "deletable": false,
    "editable": false,
    "id": "09c3ac4c"
   },
   "source": [
    "#### 3.5 Приведите возможные причины появления пропусков в исходных данных."
   ]
  },
  {
   "attachments": {},
   "cell_type": "markdown",
   "id": "25d63dcb",
   "metadata": {
    "deletable": false,
    "id": "9da2ceda"
   },
   "source": [
    "*Ответ:* \n",
    "1. Даннае могут быть не доступны в результате технических проблем, таких как отстутствие ответа на запрос или случайное удаление\n",
    "2. Данные могут быть неправильно собраны или введены в систему\n",
    "3. Данные могут быть конфиденциальные и необходимо иметь специальный допуск на их получение.\n",
    "4. Некоторые данные могут не иметь значения для этого набора\n",
    "5. В результате переформатирования данных или удаления столбцов\n",
    "6. В результате сбоя на сервере или в программе по сбору данных"
   ]
  },
  {
   "attachments": {},
   "cell_type": "markdown",
   "id": "94f8356c",
   "metadata": {
    "deletable": false,
    "editable": false,
    "id": "7b0487d6"
   },
   "source": [
    "#### 3.6 Объясните, почему заполнить пропуски медианным значением — лучшее решение для количественных переменных."
   ]
  },
  {
   "attachments": {},
   "cell_type": "markdown",
   "id": "d38fffef",
   "metadata": {
    "deletable": false,
    "id": "7ecf2b8e"
   },
   "source": [
    "*Ответ:* Если заполнять пропуски медианными значениями, то мы не зависимы от случайных, не характерных выбросов в данных. При заполнении средними значениями, при слишком больших выбросах, мы получим резкое изменение среднего значения и как следствие не корректный результат. "
   ]
  },
  {
   "attachments": {},
   "cell_type": "markdown",
   "id": "f32664a2",
   "metadata": {
    "deletable": false,
    "editable": false,
    "id": "6db5255a"
   },
   "source": [
    "### Шаг 4: общий вывод."
   ]
  },
  {
   "attachments": {},
   "cell_type": "markdown",
   "id": "cead1e60",
   "metadata": {
    "deletable": false,
    "id": "bad65432"
   },
   "source": [
    "Во второй части проекта был проведен анализ того, как влияют различные факторы на качество возврата кредита, такие как: количество детей, семейное положение и цели кредита. Можно сделать следующий вывод:<br>1.Чем больше детей имеют заемщики, тем хуже качество возврата кредита.<br>2.Качество возврата кредита зависит от более глобальных целей: если кредит берется для создания дома или семьи, он имеет лучшее качество возврата, чем тот что берется для целей создания лучшего качества жизни, таких например как покупка автомобиля или образования.<br>3.Из полученных данных 2 групп дохода хотелось бы сделать вывод о том, что чем меньше доход, тем хуже качество возврата кредита, но на мой взгляд репрезентативных данных не достаточно, необходимо получить более качественные данные о просрочках кредита и по остальныз группам дохода.<br>4. Для более точной оценки заемщика, на мой взгляд, также необходимо исследовать и влияние на возврат кредита групп разделенных по возрастной категории, уровню образования и полу."
   ]
  },
  {
   "cell_type": "code",
   "execution_count": null,
   "id": "80a1bf31",
   "metadata": {},
   "outputs": [],
   "source": []
  }
 ],
 "metadata": {
  "ExecuteTimeLog": [
   {
    "duration": 57,
    "start_time": "2023-04-29T14:01:25.897Z"
   },
   {
    "duration": 469,
    "start_time": "2023-04-29T14:01:41.925Z"
   },
   {
    "duration": 24,
    "start_time": "2023-04-29T14:01:45.138Z"
   },
   {
    "duration": 16,
    "start_time": "2023-04-29T14:01:50.451Z"
   },
   {
    "duration": 11,
    "start_time": "2023-04-29T14:01:53.339Z"
   },
   {
    "duration": 46,
    "start_time": "2023-04-29T14:01:56.709Z"
   },
   {
    "duration": 4,
    "start_time": "2023-04-29T14:01:59.800Z"
   },
   {
    "duration": 9,
    "start_time": "2023-04-29T14:02:02.626Z"
   },
   {
    "duration": 4,
    "start_time": "2023-04-29T14:02:05.635Z"
   },
   {
    "duration": 8,
    "start_time": "2023-04-29T14:02:08.828Z"
   },
   {
    "duration": 5,
    "start_time": "2023-04-29T14:02:11.125Z"
   },
   {
    "duration": 46,
    "start_time": "2023-04-29T14:02:14.223Z"
   },
   {
    "duration": 20,
    "start_time": "2023-04-29T14:02:18.912Z"
   },
   {
    "duration": 4,
    "start_time": "2023-04-29T14:02:22.260Z"
   },
   {
    "duration": 12,
    "start_time": "2023-04-29T14:02:24.625Z"
   },
   {
    "duration": 28,
    "start_time": "2023-04-29T14:02:27.220Z"
   },
   {
    "duration": 3,
    "start_time": "2023-04-29T14:02:31.725Z"
   },
   {
    "duration": 10,
    "start_time": "2023-04-29T14:02:34.525Z"
   },
   {
    "duration": 10,
    "start_time": "2023-04-29T14:02:37.823Z"
   },
   {
    "duration": 3,
    "start_time": "2023-04-29T14:02:41.225Z"
   },
   {
    "duration": 9,
    "start_time": "2023-04-29T14:02:45.122Z"
   },
   {
    "duration": 29,
    "start_time": "2023-04-29T14:02:48.188Z"
   },
   {
    "duration": 8,
    "start_time": "2023-04-29T14:03:12.363Z"
   },
   {
    "duration": 15,
    "start_time": "2023-04-29T14:04:01.925Z"
   },
   {
    "duration": 962,
    "start_time": "2023-04-29T14:04:46.200Z"
   },
   {
    "duration": 1648,
    "start_time": "2023-04-29T14:05:08.525Z"
   },
   {
    "duration": 1866,
    "start_time": "2023-04-29T14:05:35.948Z"
   },
   {
    "duration": 79,
    "start_time": "2023-04-29T14:05:44.213Z"
   },
   {
    "duration": 1243,
    "start_time": "2023-04-29T14:05:51.416Z"
   },
   {
    "duration": 12,
    "start_time": "2023-04-29T14:06:07.715Z"
   },
   {
    "duration": 4,
    "start_time": "2023-04-29T14:06:25.157Z"
   },
   {
    "duration": 7,
    "start_time": "2023-04-29T14:06:58.429Z"
   },
   {
    "duration": 17,
    "start_time": "2023-04-29T14:07:24.325Z"
   },
   {
    "duration": 5,
    "start_time": "2023-04-29T14:07:47.785Z"
   },
   {
    "duration": 21,
    "start_time": "2023-04-29T14:09:12.421Z"
   },
   {
    "duration": 6,
    "start_time": "2023-04-29T14:09:31.135Z"
   },
   {
    "duration": 7,
    "start_time": "2023-04-29T14:09:48.655Z"
   },
   {
    "duration": 5,
    "start_time": "2023-04-29T14:10:04.951Z"
   },
   {
    "duration": 18,
    "start_time": "2023-04-29T14:11:41.625Z"
   },
   {
    "duration": 29,
    "start_time": "2023-04-29T14:12:17.727Z"
   },
   {
    "duration": 11,
    "start_time": "2023-04-29T14:12:49.544Z"
   },
   {
    "duration": 9,
    "start_time": "2023-04-29T14:14:55.420Z"
   },
   {
    "duration": 8,
    "start_time": "2023-04-29T14:15:14.076Z"
   },
   {
    "duration": 8,
    "start_time": "2023-04-29T14:15:30.555Z"
   },
   {
    "duration": 10,
    "start_time": "2023-04-29T14:17:59.251Z"
   },
   {
    "duration": 50,
    "start_time": "2023-04-29T14:18:21.851Z"
   },
   {
    "duration": 516,
    "start_time": "2023-04-29T14:18:52.729Z"
   },
   {
    "duration": 25,
    "start_time": "2023-04-29T14:18:57.540Z"
   },
   {
    "duration": 18,
    "start_time": "2023-04-29T14:19:01.287Z"
   },
   {
    "duration": 11,
    "start_time": "2023-04-29T14:19:04.362Z"
   },
   {
    "duration": 45,
    "start_time": "2023-04-29T14:19:07.163Z"
   },
   {
    "duration": 4,
    "start_time": "2023-04-29T14:19:09.785Z"
   },
   {
    "duration": 8,
    "start_time": "2023-04-29T14:19:12.034Z"
   },
   {
    "duration": 4,
    "start_time": "2023-04-29T14:19:14.882Z"
   },
   {
    "duration": 8,
    "start_time": "2023-04-29T14:19:17.676Z"
   },
   {
    "duration": 5,
    "start_time": "2023-04-29T14:19:20.042Z"
   },
   {
    "duration": 40,
    "start_time": "2023-04-29T14:19:22.429Z"
   },
   {
    "duration": 10,
    "start_time": "2023-04-29T14:19:24.388Z"
   },
   {
    "duration": 4,
    "start_time": "2023-04-29T14:19:27.347Z"
   },
   {
    "duration": 12,
    "start_time": "2023-04-29T14:19:29.932Z"
   },
   {
    "duration": 21,
    "start_time": "2023-04-29T14:19:32.155Z"
   },
   {
    "duration": 18,
    "start_time": "2023-04-29T14:19:34.380Z"
   },
   {
    "duration": 4,
    "start_time": "2023-04-29T14:19:37.026Z"
   },
   {
    "duration": 11,
    "start_time": "2023-04-29T14:19:39.230Z"
   },
   {
    "duration": 7,
    "start_time": "2023-04-29T14:19:42.473Z"
   },
   {
    "duration": 5,
    "start_time": "2023-04-29T14:19:45.229Z"
   },
   {
    "duration": 11,
    "start_time": "2023-04-29T14:19:47.630Z"
   },
   {
    "duration": 45,
    "start_time": "2023-04-29T14:19:50.529Z"
   },
   {
    "duration": 12,
    "start_time": "2023-04-29T14:20:08.133Z"
   },
   {
    "duration": 8,
    "start_time": "2023-04-29T14:23:19.418Z"
   },
   {
    "duration": 10,
    "start_time": "2023-04-29T14:23:45.389Z"
   },
   {
    "duration": 8,
    "start_time": "2023-04-29T14:24:17.333Z"
   },
   {
    "duration": 12,
    "start_time": "2023-04-29T14:24:57.227Z"
   },
   {
    "duration": 6,
    "start_time": "2023-04-29T14:31:51.776Z"
   },
   {
    "duration": 524,
    "start_time": "2023-04-29T14:32:15.009Z"
   },
   {
    "duration": 22,
    "start_time": "2023-04-29T14:32:18.248Z"
   },
   {
    "duration": 16,
    "start_time": "2023-04-29T14:32:22.343Z"
   },
   {
    "duration": 11,
    "start_time": "2023-04-29T14:32:25.288Z"
   },
   {
    "duration": 37,
    "start_time": "2023-04-29T14:32:27.778Z"
   },
   {
    "duration": 4,
    "start_time": "2023-04-29T14:32:29.935Z"
   },
   {
    "duration": 9,
    "start_time": "2023-04-29T14:32:32.648Z"
   },
   {
    "duration": 5,
    "start_time": "2023-04-29T14:32:35.576Z"
   },
   {
    "duration": 8,
    "start_time": "2023-04-29T14:32:37.784Z"
   },
   {
    "duration": 6,
    "start_time": "2023-04-29T14:32:39.976Z"
   },
   {
    "duration": 37,
    "start_time": "2023-04-29T14:32:42.618Z"
   },
   {
    "duration": 11,
    "start_time": "2023-04-29T14:32:44.720Z"
   },
   {
    "duration": 5,
    "start_time": "2023-04-29T14:32:47.522Z"
   },
   {
    "duration": 17,
    "start_time": "2023-04-29T14:32:50.088Z"
   },
   {
    "duration": 21,
    "start_time": "2023-04-29T14:32:52.335Z"
   },
   {
    "duration": 18,
    "start_time": "2023-04-29T14:32:54.833Z"
   },
   {
    "duration": 3,
    "start_time": "2023-04-29T14:32:58.225Z"
   },
   {
    "duration": 12,
    "start_time": "2023-04-29T14:33:00.239Z"
   },
   {
    "duration": 8,
    "start_time": "2023-04-29T14:33:03.012Z"
   },
   {
    "duration": 3,
    "start_time": "2023-04-29T14:33:06.317Z"
   },
   {
    "duration": 8,
    "start_time": "2023-04-29T14:33:08.525Z"
   },
   {
    "duration": 11,
    "start_time": "2023-04-29T14:33:11.669Z"
   },
   {
    "duration": 14,
    "start_time": "2023-04-29T14:33:16.070Z"
   },
   {
    "duration": 748,
    "start_time": "2023-04-30T01:40:23.514Z"
   },
   {
    "duration": 21,
    "start_time": "2023-04-30T01:40:32.169Z"
   },
   {
    "duration": 15,
    "start_time": "2023-04-30T01:40:38.018Z"
   },
   {
    "duration": 11,
    "start_time": "2023-04-30T01:40:41.577Z"
   },
   {
    "duration": 39,
    "start_time": "2023-04-30T01:40:44.941Z"
   },
   {
    "duration": 35,
    "start_time": "2023-04-30T01:40:47.865Z"
   },
   {
    "duration": 3,
    "start_time": "2023-04-30T01:40:50.818Z"
   },
   {
    "duration": 13,
    "start_time": "2023-04-30T01:40:53.035Z"
   },
   {
    "duration": 5,
    "start_time": "2023-04-30T01:40:56.161Z"
   },
   {
    "duration": 7,
    "start_time": "2023-04-30T01:40:59.089Z"
   },
   {
    "duration": 5,
    "start_time": "2023-04-30T01:41:01.689Z"
   },
   {
    "duration": 31,
    "start_time": "2023-04-30T01:41:04.370Z"
   },
   {
    "duration": 13,
    "start_time": "2023-04-30T01:41:07.233Z"
   },
   {
    "duration": 10,
    "start_time": "2023-04-30T01:41:10.209Z"
   },
   {
    "duration": 12,
    "start_time": "2023-04-30T01:41:12.681Z"
   },
   {
    "duration": 20,
    "start_time": "2023-04-30T01:41:15.489Z"
   },
   {
    "duration": 16,
    "start_time": "2023-04-30T01:41:18.089Z"
   },
   {
    "duration": 3,
    "start_time": "2023-04-30T01:41:20.697Z"
   },
   {
    "duration": 9,
    "start_time": "2023-04-30T01:41:23.802Z"
   },
   {
    "duration": 5,
    "start_time": "2023-04-30T01:41:26.570Z"
   },
   {
    "duration": 4,
    "start_time": "2023-04-30T01:41:30.161Z"
   },
   {
    "duration": 10,
    "start_time": "2023-04-30T01:41:33.047Z"
   },
   {
    "duration": 422,
    "start_time": "2023-04-30T01:47:10.299Z"
   },
   {
    "duration": 24,
    "start_time": "2023-04-30T01:47:14.355Z"
   },
   {
    "duration": 12,
    "start_time": "2023-04-30T01:47:21.052Z"
   },
   {
    "duration": 42,
    "start_time": "2023-04-30T01:47:23.765Z"
   },
   {
    "duration": 4,
    "start_time": "2023-04-30T01:47:26.050Z"
   },
   {
    "duration": 13,
    "start_time": "2023-04-30T01:47:29.038Z"
   },
   {
    "duration": 4,
    "start_time": "2023-04-30T01:47:32.115Z"
   },
   {
    "duration": 7,
    "start_time": "2023-04-30T01:47:34.612Z"
   },
   {
    "duration": 5,
    "start_time": "2023-04-30T01:47:37.074Z"
   },
   {
    "duration": 50,
    "start_time": "2023-04-30T01:47:39.524Z"
   },
   {
    "duration": 17,
    "start_time": "2023-04-30T01:47:42.635Z"
   },
   {
    "duration": 4,
    "start_time": "2023-04-30T01:47:46.649Z"
   },
   {
    "duration": 10,
    "start_time": "2023-04-30T01:47:48.964Z"
   },
   {
    "duration": 18,
    "start_time": "2023-04-30T01:47:51.860Z"
   },
   {
    "duration": 16,
    "start_time": "2023-04-30T01:47:54.364Z"
   },
   {
    "duration": 11,
    "start_time": "2023-04-30T01:48:17.100Z"
   },
   {
    "duration": 16,
    "start_time": "2023-04-30T01:50:38.956Z"
   },
   {
    "duration": 14,
    "start_time": "2023-04-30T01:54:35.806Z"
   },
   {
    "duration": 23,
    "start_time": "2023-04-30T01:58:20.375Z"
   },
   {
    "duration": 928,
    "start_time": "2023-04-30T02:01:46.761Z"
   },
   {
    "duration": 15,
    "start_time": "2023-04-30T02:07:39.131Z"
   },
   {
    "duration": 812,
    "start_time": "2023-04-30T02:08:36.652Z"
   },
   {
    "duration": 867,
    "start_time": "2023-04-30T02:09:50.259Z"
   },
   {
    "duration": 22,
    "start_time": "2023-04-30T02:19:20.424Z"
   },
   {
    "duration": 14,
    "start_time": "2023-04-30T02:19:38.687Z"
   },
   {
    "duration": 18,
    "start_time": "2023-04-30T02:20:36.192Z"
   },
   {
    "duration": 20,
    "start_time": "2023-04-30T02:21:05.328Z"
   },
   {
    "duration": 16,
    "start_time": "2023-04-30T02:22:33.748Z"
   },
   {
    "duration": 19,
    "start_time": "2023-04-30T02:26:05.266Z"
   },
   {
    "duration": 14,
    "start_time": "2023-04-30T02:32:52.396Z"
   },
   {
    "duration": 14,
    "start_time": "2023-04-30T02:42:41.111Z"
   },
   {
    "duration": 17,
    "start_time": "2023-04-30T02:43:57.192Z"
   },
   {
    "duration": 16,
    "start_time": "2023-04-30T02:44:19.680Z"
   },
   {
    "duration": 18,
    "start_time": "2023-04-30T02:45:56.481Z"
   },
   {
    "duration": 25,
    "start_time": "2023-04-30T02:47:49.940Z"
   },
   {
    "duration": 24,
    "start_time": "2023-04-30T02:48:32.544Z"
   },
   {
    "duration": 8,
    "start_time": "2023-04-30T02:55:59.534Z"
   },
   {
    "duration": 10,
    "start_time": "2023-04-30T02:56:02.909Z"
   },
   {
    "duration": 16,
    "start_time": "2023-04-30T02:56:48.352Z"
   },
   {
    "duration": 11,
    "start_time": "2023-04-30T03:00:37.152Z"
   },
   {
    "duration": 13,
    "start_time": "2023-04-30T03:05:46.370Z"
   },
   {
    "duration": 22,
    "start_time": "2023-04-30T03:07:54.451Z"
   },
   {
    "duration": 19,
    "start_time": "2023-04-30T03:09:51.460Z"
   },
   {
    "duration": 3,
    "start_time": "2023-04-30T03:18:06.655Z"
   },
   {
    "duration": 8,
    "start_time": "2023-04-30T03:18:08.582Z"
   },
   {
    "duration": 23,
    "start_time": "2023-04-30T03:18:12.990Z"
   },
   {
    "duration": 21,
    "start_time": "2023-04-30T03:22:06.567Z"
   },
   {
    "duration": 1900,
    "start_time": "2023-04-30T05:54:00.961Z"
   },
   {
    "duration": 128,
    "start_time": "2023-04-30T05:55:01.876Z"
   },
   {
    "duration": 111,
    "start_time": "2023-04-30T05:55:47.307Z"
   },
   {
    "duration": 15,
    "start_time": "2023-04-30T05:56:27.557Z"
   },
   {
    "duration": 664,
    "start_time": "2023-05-01T05:50:16.195Z"
   },
   {
    "duration": 22,
    "start_time": "2023-05-01T05:50:16.861Z"
   },
   {
    "duration": 15,
    "start_time": "2023-05-01T05:50:16.884Z"
   },
   {
    "duration": 17,
    "start_time": "2023-05-01T05:50:16.900Z"
   },
   {
    "duration": 53,
    "start_time": "2023-05-01T05:50:16.919Z"
   },
   {
    "duration": 3,
    "start_time": "2023-05-01T05:50:16.974Z"
   },
   {
    "duration": 14,
    "start_time": "2023-05-01T05:50:16.979Z"
   },
   {
    "duration": 11,
    "start_time": "2023-05-01T05:50:16.995Z"
   },
   {
    "duration": 28,
    "start_time": "2023-05-01T05:50:17.007Z"
   },
   {
    "duration": 10,
    "start_time": "2023-05-01T05:50:17.036Z"
   },
   {
    "duration": 42,
    "start_time": "2023-05-01T05:50:17.048Z"
   },
   {
    "duration": 10,
    "start_time": "2023-05-01T05:50:17.092Z"
   },
   {
    "duration": 12,
    "start_time": "2023-05-01T05:50:17.103Z"
   },
   {
    "duration": 34,
    "start_time": "2023-05-01T05:50:17.118Z"
   },
   {
    "duration": 30,
    "start_time": "2023-05-01T05:50:17.153Z"
   },
   {
    "duration": 31,
    "start_time": "2023-05-01T05:50:17.184Z"
   },
   {
    "duration": 10,
    "start_time": "2023-05-01T05:50:17.216Z"
   },
   {
    "duration": 26,
    "start_time": "2023-05-01T05:50:17.228Z"
   },
   {
    "duration": 13,
    "start_time": "2023-05-01T05:50:17.256Z"
   },
   {
    "duration": 8,
    "start_time": "2023-05-01T05:50:17.271Z"
   },
   {
    "duration": 18,
    "start_time": "2023-05-01T05:50:17.280Z"
   },
   {
    "duration": 24,
    "start_time": "2023-05-01T05:50:17.300Z"
   },
   {
    "duration": 803,
    "start_time": "2023-05-01T05:50:17.326Z"
   },
   {
    "duration": 15,
    "start_time": "2023-05-01T05:50:18.131Z"
   },
   {
    "duration": 18,
    "start_time": "2023-05-01T05:50:18.148Z"
   },
   {
    "duration": 39,
    "start_time": "2023-05-01T05:50:18.167Z"
   },
   {
    "duration": 12,
    "start_time": "2023-05-01T05:50:35.124Z"
   }
  ],
  "colab": {
   "name": "dpp_template_part2.ipynb",
   "provenance": []
  },
  "kernelspec": {
   "display_name": "Python 3 (ipykernel)",
   "language": "python",
   "name": "python3"
  },
  "language_info": {
   "codemirror_mode": {
    "name": "ipython",
    "version": 3
   },
   "file_extension": ".py",
   "mimetype": "text/x-python",
   "name": "python",
   "nbconvert_exporter": "python",
   "pygments_lexer": "ipython3",
   "version": "3.10.10"
  },
  "toc": {
   "base_numbering": 1,
   "nav_menu": {},
   "number_sections": true,
   "sideBar": true,
   "skip_h1_title": true,
   "title_cell": "Table of Contents",
   "title_sidebar": "Contents",
   "toc_cell": false,
   "toc_position": {},
   "toc_section_display": true,
   "toc_window_display": false
  }
 },
 "nbformat": 4,
 "nbformat_minor": 5
}
