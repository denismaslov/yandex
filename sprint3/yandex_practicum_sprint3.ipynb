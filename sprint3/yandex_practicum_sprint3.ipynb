{
 "cells": [
  {
   "cell_type": "markdown",
   "metadata": {},
   "source": [
    "<div style=\"border:solid Chocolate 2px; padding: 40px\">\n",
    "\n",
    "<b>Привет!👋</b>\n",
    "\n",
    "Меня зовут Огурлиев Анзор, я буду ревьюером твоего проекта. Сразу хочу предложить тебе общаться на \"ты\", если тебе это неудобно, скажи мне об этом. Нам предстоит пройти с тобой через тернистый и от того интересный путь анализа данных! Можешь не переживать, я всегда помогу тебе, если у тебя возникнут вопросы)\n",
    "\n",
    "По ходу твоей работы я буду оставлять свои комментарии, по выполненным тобой шагам. Попрошу тебя не удалять их, так мне будет проще отслеживать твой прогресс в случае повторной проверки.\n",
    "\n",
    "Очень важно вести диалог и обсуждать те пункты, которые у тебя могли не получиться, поэтому, ты можешь оставлять свои комментарии, и мы обязательно во всем разберемся! Самое главное - выделяй свои комментарии удобным для тебя способом (цвет, рамка), но так, чтобы они отчетлитво отличались от моих комментариев. Так мы ни в чем не запутаемся)\n",
    "\n",
    "Свои комментарии я буду выделять так: <font color='green'>зеленый</font>, <font color='gold'>желтый</font> и <font color='red'>красный</font> цвет, например:\n",
    "\n",
    "<br/>\n",
    "\n",
    "<div class=\"alert alert-success\">\n",
    "<h2> Комментарий ревьюера V1<a class=\"tocSkip\"> </h2>\n",
    "\n",
    "<b>Все отлично!👍:</b> Этот комментарий я буду оставлять, если твое решение оптимально для данного шага.\n",
    "</div>\n",
    "\n",
    "<br/>\n",
    "\n",
    "<div class=\"alert alert-warning\">\n",
    "    <h2> Комментарий ревьюера V1<a class=\"tocSkip\"> </h2>\n",
    "\n",
    "<b>Некоторые замечания и рекомендации💡:</b> Это не означает, что ты совершил ошибку. Такими комментариями я буду отмечать места, где ты справился с задачей, но её можно решить ещё лучше. Также в таких комментариях я буду оставлять для тебя другие советы.\n",
    "</div>\n",
    "\n",
    "\n",
    "<br/>\n",
    "<div class=\"alert alert-block alert-danger\">\n",
    "<h2> Комментарий ревьюера V1<a class=\"tocSkip\"></h2>\n",
    "\n",
    "\n",
    "<b>На доработку🤔:</b>\n",
    "Если решение, которое ты применил на определенном шаге, требует значительных изменений, то я буду оставлять такой комментарий. Тебе нужно будет подумать еще раз как правильным образом решить данный этап. Если ревью содержит такие комментарии, то я не смогу принять проект с первого раза.\n",
    "</div>\n",
    "\n",
    "P.S. В оглавлении комментария ты увидишь `V1` (`V1`, `V2`, `V3`) - это версия моего комментария, которая понадобится нам с тобой, чтобы не запутаться, если потребуется оставить тебе комментарии после первой проверки."
   ]
  },
  {
   "cell_type": "markdown",
   "metadata": {},
   "source": [
    "# Исследование объявлений о продаже квартир\n",
    "\n",
    "В вашем распоряжении данные сервиса Яндекс.Недвижимость — архив объявлений о продаже квартир в Санкт-Петербурге и соседних населённых пунктов за несколько лет. Нужно научиться определять рыночную стоимость объектов недвижимости. Ваша задача — установить параметры. Это позволит построить автоматизированную систему: она отследит аномалии и мошенническую деятельность. \n",
    "\n",
    "По каждой квартире на продажу доступны два вида данных. Первые вписаны пользователем, вторые — получены автоматически на основе картографических данных. Например, расстояние до центра, аэропорта, ближайшего парка и водоёма. "
   ]
  },
  {
   "cell_type": "markdown",
   "metadata": {},
   "source": [
    "<div class=\"alert alert-success\">\n",
    "<h2> Комментарий ревьюера V1<a class=\"tocSkip\"> </h2>\n",
    "\n",
    "<b>Все отлично!👍:</b> Молодец, что начинаешь проект с описания."
   ]
  },
  {
   "cell_type": "markdown",
   "metadata": {},
   "source": [
    "### Откройте файл с данными и изучите общую информацию. "
   ]
  },
  {
   "cell_type": "code",
   "execution_count": 2,
   "metadata": {},
   "outputs": [
    {
     "data": {
      "text/html": [
       "<div>\n",
       "<style scoped>\n",
       "    .dataframe tbody tr th:only-of-type {\n",
       "        vertical-align: middle;\n",
       "    }\n",
       "\n",
       "    .dataframe tbody tr th {\n",
       "        vertical-align: top;\n",
       "    }\n",
       "\n",
       "    .dataframe thead th {\n",
       "        text-align: right;\n",
       "    }\n",
       "</style>\n",
       "<table border=\"1\" class=\"dataframe\">\n",
       "  <thead>\n",
       "    <tr style=\"text-align: right;\">\n",
       "      <th></th>\n",
       "      <th>total_images</th>\n",
       "      <th>last_price</th>\n",
       "      <th>total_area</th>\n",
       "      <th>first_day_exposition</th>\n",
       "      <th>rooms</th>\n",
       "      <th>ceiling_height</th>\n",
       "      <th>floors_total</th>\n",
       "      <th>living_area</th>\n",
       "      <th>floor</th>\n",
       "      <th>is_apartment</th>\n",
       "      <th>...</th>\n",
       "      <th>kitchen_area</th>\n",
       "      <th>balcony</th>\n",
       "      <th>locality_name</th>\n",
       "      <th>airports_nearest</th>\n",
       "      <th>cityCenters_nearest</th>\n",
       "      <th>parks_around3000</th>\n",
       "      <th>parks_nearest</th>\n",
       "      <th>ponds_around3000</th>\n",
       "      <th>ponds_nearest</th>\n",
       "      <th>days_exposition</th>\n",
       "    </tr>\n",
       "  </thead>\n",
       "  <tbody>\n",
       "    <tr>\n",
       "      <th>0</th>\n",
       "      <td>20</td>\n",
       "      <td>13000000.0</td>\n",
       "      <td>108.00</td>\n",
       "      <td>2019-03-07T00:00:00</td>\n",
       "      <td>3</td>\n",
       "      <td>2.70</td>\n",
       "      <td>16.0</td>\n",
       "      <td>51.00</td>\n",
       "      <td>8</td>\n",
       "      <td>NaN</td>\n",
       "      <td>...</td>\n",
       "      <td>25.00</td>\n",
       "      <td>NaN</td>\n",
       "      <td>Санкт-Петербург</td>\n",
       "      <td>18863.0</td>\n",
       "      <td>16028.0</td>\n",
       "      <td>1.0</td>\n",
       "      <td>482.0</td>\n",
       "      <td>2.0</td>\n",
       "      <td>755.0</td>\n",
       "      <td>NaN</td>\n",
       "    </tr>\n",
       "    <tr>\n",
       "      <th>1</th>\n",
       "      <td>7</td>\n",
       "      <td>3350000.0</td>\n",
       "      <td>40.40</td>\n",
       "      <td>2018-12-04T00:00:00</td>\n",
       "      <td>1</td>\n",
       "      <td>NaN</td>\n",
       "      <td>11.0</td>\n",
       "      <td>18.60</td>\n",
       "      <td>1</td>\n",
       "      <td>NaN</td>\n",
       "      <td>...</td>\n",
       "      <td>11.00</td>\n",
       "      <td>2.0</td>\n",
       "      <td>посёлок Шушары</td>\n",
       "      <td>12817.0</td>\n",
       "      <td>18603.0</td>\n",
       "      <td>0.0</td>\n",
       "      <td>NaN</td>\n",
       "      <td>0.0</td>\n",
       "      <td>NaN</td>\n",
       "      <td>81.0</td>\n",
       "    </tr>\n",
       "    <tr>\n",
       "      <th>2</th>\n",
       "      <td>10</td>\n",
       "      <td>5196000.0</td>\n",
       "      <td>56.00</td>\n",
       "      <td>2015-08-20T00:00:00</td>\n",
       "      <td>2</td>\n",
       "      <td>NaN</td>\n",
       "      <td>5.0</td>\n",
       "      <td>34.30</td>\n",
       "      <td>4</td>\n",
       "      <td>NaN</td>\n",
       "      <td>...</td>\n",
       "      <td>8.30</td>\n",
       "      <td>0.0</td>\n",
       "      <td>Санкт-Петербург</td>\n",
       "      <td>21741.0</td>\n",
       "      <td>13933.0</td>\n",
       "      <td>1.0</td>\n",
       "      <td>90.0</td>\n",
       "      <td>2.0</td>\n",
       "      <td>574.0</td>\n",
       "      <td>558.0</td>\n",
       "    </tr>\n",
       "    <tr>\n",
       "      <th>3</th>\n",
       "      <td>0</td>\n",
       "      <td>64900000.0</td>\n",
       "      <td>159.00</td>\n",
       "      <td>2015-07-24T00:00:00</td>\n",
       "      <td>3</td>\n",
       "      <td>NaN</td>\n",
       "      <td>14.0</td>\n",
       "      <td>NaN</td>\n",
       "      <td>9</td>\n",
       "      <td>NaN</td>\n",
       "      <td>...</td>\n",
       "      <td>NaN</td>\n",
       "      <td>0.0</td>\n",
       "      <td>Санкт-Петербург</td>\n",
       "      <td>28098.0</td>\n",
       "      <td>6800.0</td>\n",
       "      <td>2.0</td>\n",
       "      <td>84.0</td>\n",
       "      <td>3.0</td>\n",
       "      <td>234.0</td>\n",
       "      <td>424.0</td>\n",
       "    </tr>\n",
       "    <tr>\n",
       "      <th>4</th>\n",
       "      <td>2</td>\n",
       "      <td>10000000.0</td>\n",
       "      <td>100.00</td>\n",
       "      <td>2018-06-19T00:00:00</td>\n",
       "      <td>2</td>\n",
       "      <td>3.03</td>\n",
       "      <td>14.0</td>\n",
       "      <td>32.00</td>\n",
       "      <td>13</td>\n",
       "      <td>NaN</td>\n",
       "      <td>...</td>\n",
       "      <td>41.00</td>\n",
       "      <td>NaN</td>\n",
       "      <td>Санкт-Петербург</td>\n",
       "      <td>31856.0</td>\n",
       "      <td>8098.0</td>\n",
       "      <td>2.0</td>\n",
       "      <td>112.0</td>\n",
       "      <td>1.0</td>\n",
       "      <td>48.0</td>\n",
       "      <td>121.0</td>\n",
       "    </tr>\n",
       "    <tr>\n",
       "      <th>5</th>\n",
       "      <td>10</td>\n",
       "      <td>2890000.0</td>\n",
       "      <td>30.40</td>\n",
       "      <td>2018-09-10T00:00:00</td>\n",
       "      <td>1</td>\n",
       "      <td>NaN</td>\n",
       "      <td>12.0</td>\n",
       "      <td>14.40</td>\n",
       "      <td>5</td>\n",
       "      <td>NaN</td>\n",
       "      <td>...</td>\n",
       "      <td>9.10</td>\n",
       "      <td>NaN</td>\n",
       "      <td>городской посёлок Янино-1</td>\n",
       "      <td>NaN</td>\n",
       "      <td>NaN</td>\n",
       "      <td>NaN</td>\n",
       "      <td>NaN</td>\n",
       "      <td>NaN</td>\n",
       "      <td>NaN</td>\n",
       "      <td>55.0</td>\n",
       "    </tr>\n",
       "    <tr>\n",
       "      <th>6</th>\n",
       "      <td>6</td>\n",
       "      <td>3700000.0</td>\n",
       "      <td>37.30</td>\n",
       "      <td>2017-11-02T00:00:00</td>\n",
       "      <td>1</td>\n",
       "      <td>NaN</td>\n",
       "      <td>26.0</td>\n",
       "      <td>10.60</td>\n",
       "      <td>6</td>\n",
       "      <td>NaN</td>\n",
       "      <td>...</td>\n",
       "      <td>14.40</td>\n",
       "      <td>1.0</td>\n",
       "      <td>посёлок Парголово</td>\n",
       "      <td>52996.0</td>\n",
       "      <td>19143.0</td>\n",
       "      <td>0.0</td>\n",
       "      <td>NaN</td>\n",
       "      <td>0.0</td>\n",
       "      <td>NaN</td>\n",
       "      <td>155.0</td>\n",
       "    </tr>\n",
       "    <tr>\n",
       "      <th>7</th>\n",
       "      <td>5</td>\n",
       "      <td>7915000.0</td>\n",
       "      <td>71.60</td>\n",
       "      <td>2019-04-18T00:00:00</td>\n",
       "      <td>2</td>\n",
       "      <td>NaN</td>\n",
       "      <td>24.0</td>\n",
       "      <td>NaN</td>\n",
       "      <td>22</td>\n",
       "      <td>NaN</td>\n",
       "      <td>...</td>\n",
       "      <td>18.90</td>\n",
       "      <td>2.0</td>\n",
       "      <td>Санкт-Петербург</td>\n",
       "      <td>23982.0</td>\n",
       "      <td>11634.0</td>\n",
       "      <td>0.0</td>\n",
       "      <td>NaN</td>\n",
       "      <td>0.0</td>\n",
       "      <td>NaN</td>\n",
       "      <td>NaN</td>\n",
       "    </tr>\n",
       "    <tr>\n",
       "      <th>8</th>\n",
       "      <td>20</td>\n",
       "      <td>2900000.0</td>\n",
       "      <td>33.16</td>\n",
       "      <td>2018-05-23T00:00:00</td>\n",
       "      <td>1</td>\n",
       "      <td>NaN</td>\n",
       "      <td>27.0</td>\n",
       "      <td>15.43</td>\n",
       "      <td>26</td>\n",
       "      <td>NaN</td>\n",
       "      <td>...</td>\n",
       "      <td>8.81</td>\n",
       "      <td>NaN</td>\n",
       "      <td>посёлок Мурино</td>\n",
       "      <td>NaN</td>\n",
       "      <td>NaN</td>\n",
       "      <td>NaN</td>\n",
       "      <td>NaN</td>\n",
       "      <td>NaN</td>\n",
       "      <td>NaN</td>\n",
       "      <td>189.0</td>\n",
       "    </tr>\n",
       "    <tr>\n",
       "      <th>9</th>\n",
       "      <td>18</td>\n",
       "      <td>5400000.0</td>\n",
       "      <td>61.00</td>\n",
       "      <td>2017-02-26T00:00:00</td>\n",
       "      <td>3</td>\n",
       "      <td>2.50</td>\n",
       "      <td>9.0</td>\n",
       "      <td>43.60</td>\n",
       "      <td>7</td>\n",
       "      <td>NaN</td>\n",
       "      <td>...</td>\n",
       "      <td>6.50</td>\n",
       "      <td>2.0</td>\n",
       "      <td>Санкт-Петербург</td>\n",
       "      <td>50898.0</td>\n",
       "      <td>15008.0</td>\n",
       "      <td>0.0</td>\n",
       "      <td>NaN</td>\n",
       "      <td>0.0</td>\n",
       "      <td>NaN</td>\n",
       "      <td>289.0</td>\n",
       "    </tr>\n",
       "  </tbody>\n",
       "</table>\n",
       "<p>10 rows × 22 columns</p>\n",
       "</div>"
      ],
      "text/plain": [
       "   total_images  last_price  total_area first_day_exposition  rooms  \\\n",
       "0            20  13000000.0      108.00  2019-03-07T00:00:00      3   \n",
       "1             7   3350000.0       40.40  2018-12-04T00:00:00      1   \n",
       "2            10   5196000.0       56.00  2015-08-20T00:00:00      2   \n",
       "3             0  64900000.0      159.00  2015-07-24T00:00:00      3   \n",
       "4             2  10000000.0      100.00  2018-06-19T00:00:00      2   \n",
       "5            10   2890000.0       30.40  2018-09-10T00:00:00      1   \n",
       "6             6   3700000.0       37.30  2017-11-02T00:00:00      1   \n",
       "7             5   7915000.0       71.60  2019-04-18T00:00:00      2   \n",
       "8            20   2900000.0       33.16  2018-05-23T00:00:00      1   \n",
       "9            18   5400000.0       61.00  2017-02-26T00:00:00      3   \n",
       "\n",
       "   ceiling_height  floors_total  living_area  floor is_apartment  ...  \\\n",
       "0            2.70          16.0        51.00      8          NaN  ...   \n",
       "1             NaN          11.0        18.60      1          NaN  ...   \n",
       "2             NaN           5.0        34.30      4          NaN  ...   \n",
       "3             NaN          14.0          NaN      9          NaN  ...   \n",
       "4            3.03          14.0        32.00     13          NaN  ...   \n",
       "5             NaN          12.0        14.40      5          NaN  ...   \n",
       "6             NaN          26.0        10.60      6          NaN  ...   \n",
       "7             NaN          24.0          NaN     22          NaN  ...   \n",
       "8             NaN          27.0        15.43     26          NaN  ...   \n",
       "9            2.50           9.0        43.60      7          NaN  ...   \n",
       "\n",
       "   kitchen_area  balcony              locality_name  airports_nearest  \\\n",
       "0         25.00      NaN            Санкт-Петербург           18863.0   \n",
       "1         11.00      2.0             посёлок Шушары           12817.0   \n",
       "2          8.30      0.0            Санкт-Петербург           21741.0   \n",
       "3           NaN      0.0            Санкт-Петербург           28098.0   \n",
       "4         41.00      NaN            Санкт-Петербург           31856.0   \n",
       "5          9.10      NaN  городской посёлок Янино-1               NaN   \n",
       "6         14.40      1.0          посёлок Парголово           52996.0   \n",
       "7         18.90      2.0            Санкт-Петербург           23982.0   \n",
       "8          8.81      NaN             посёлок Мурино               NaN   \n",
       "9          6.50      2.0            Санкт-Петербург           50898.0   \n",
       "\n",
       "  cityCenters_nearest  parks_around3000  parks_nearest  ponds_around3000  \\\n",
       "0             16028.0               1.0          482.0               2.0   \n",
       "1             18603.0               0.0            NaN               0.0   \n",
       "2             13933.0               1.0           90.0               2.0   \n",
       "3              6800.0               2.0           84.0               3.0   \n",
       "4              8098.0               2.0          112.0               1.0   \n",
       "5                 NaN               NaN            NaN               NaN   \n",
       "6             19143.0               0.0            NaN               0.0   \n",
       "7             11634.0               0.0            NaN               0.0   \n",
       "8                 NaN               NaN            NaN               NaN   \n",
       "9             15008.0               0.0            NaN               0.0   \n",
       "\n",
       "   ponds_nearest  days_exposition  \n",
       "0          755.0              NaN  \n",
       "1            NaN             81.0  \n",
       "2          574.0            558.0  \n",
       "3          234.0            424.0  \n",
       "4           48.0            121.0  \n",
       "5            NaN             55.0  \n",
       "6            NaN            155.0  \n",
       "7            NaN              NaN  \n",
       "8            NaN            189.0  \n",
       "9            NaN            289.0  \n",
       "\n",
       "[10 rows x 22 columns]"
      ]
     },
     "metadata": {},
     "output_type": "display_data"
    },
    {
     "name": "stdout",
     "output_type": "stream",
     "text": [
      "<class 'pandas.core.frame.DataFrame'>\n",
      "RangeIndex: 23699 entries, 0 to 23698\n",
      "Data columns (total 22 columns):\n",
      " #   Column                Non-Null Count  Dtype  \n",
      "---  ------                --------------  -----  \n",
      " 0   total_images          23699 non-null  int64  \n",
      " 1   last_price            23699 non-null  float64\n",
      " 2   total_area            23699 non-null  float64\n",
      " 3   first_day_exposition  23699 non-null  object \n",
      " 4   rooms                 23699 non-null  int64  \n",
      " 5   ceiling_height        14504 non-null  float64\n",
      " 6   floors_total          23613 non-null  float64\n",
      " 7   living_area           21796 non-null  float64\n",
      " 8   floor                 23699 non-null  int64  \n",
      " 9   is_apartment          2775 non-null   object \n",
      " 10  studio                23699 non-null  bool   \n",
      " 11  open_plan             23699 non-null  bool   \n",
      " 12  kitchen_area          21421 non-null  float64\n",
      " 13  balcony               12180 non-null  float64\n",
      " 14  locality_name         23650 non-null  object \n",
      " 15  airports_nearest      18157 non-null  float64\n",
      " 16  cityCenters_nearest   18180 non-null  float64\n",
      " 17  parks_around3000      18181 non-null  float64\n",
      " 18  parks_nearest         8079 non-null   float64\n",
      " 19  ponds_around3000      18181 non-null  float64\n",
      " 20  ponds_nearest         9110 non-null   float64\n",
      " 21  days_exposition       20518 non-null  float64\n",
      "dtypes: bool(2), float64(14), int64(3), object(3)\n",
      "memory usage: 3.7+ MB\n"
     ]
    },
    {
     "data": {
      "image/png": "[encoded data removed]",
      "text/plain": [
       "<Figure size 1080x1440 with 20 Axes>"
      ]
     },
     "metadata": {
      "needs_background": "light"
     },
     "output_type": "display_data"
    }
   ],
   "source": [
    "import pandas as pd\n",
    "data = pd.read_csv('/datasets/real_estate_data.csv', sep='\\t')\n",
    "#Вывод датафрейма, построение гистограмм, инфо датафрейма\n",
    "display(data.head(10))\n",
    "data.hist(bins=100, figsize=(15, 20))\n",
    "data.info()\n"
   ]
  },
  {
   "cell_type": "markdown",
   "metadata": {},
   "source": [
    "<font color='green'>v3.<br>\n",
    "1. В датафрейме представлены данные по недвижимости, которые содержат характеристики этой недвижимости и картографические данные, которые указывают на ее месторасположение.<br>\n",
    "2. В датафрейме достаточно много пропусков.<br>\n",
    "3. Тип колонок не соответствует описанию и смыслу<br>\n",
    "4. В колонке locality_name встречается разное написание населенных пунктов<br>\n",
    "5. В данных часто встречаются выбросы, что портит картину на графиках и не позволяет их проанализировать.<br>\n",
    "6. Необходимо обработать датафрейм, очистить от пропусков, явных и не явных дубликатов, привести значения в единый формат, привести все колонки к типу заявленному в описании.<br>\n",
    "\n"
   ]
  },
  {
   "cell_type": "markdown",
   "metadata": {},
   "source": [
    "<div class=\"alert alert-warning\">\n",
    "<h2> Комментарий ревьюера V1<a class=\"tocSkip\"> </h2>\n",
    "\n",
    "<b>Некоторые замечания и рекомендации💡:</b> После того, как ты рассмотрел данные, можно составить их краткое описание.\n",
    "    \n",
    "   "
   ]
  },
  {
   "cell_type": "markdown",
   "metadata": {},
   "source": [
    "<div class=\"alert alert-warning\">\n",
    "<h2> Комментарий ревьюера V1<a class=\"tocSkip\"> </h2>\n",
    "\n",
    "<b>Некоторые замечания и рекомендации💡:</b> Также датафреймы лучше выводить с помощью метода display() или как переменную в отдельной ячейке. Метод print() выводит датафрейм в текстовом формате, из-за чего столбцы переносятся на разные строки."
   ]
  },
  {
   "cell_type": "markdown",
   "metadata": {},
   "source": [
    "V2. \n",
    "1. Мы видим большое количество пропусков в датафрейме\n",
    "2. Мы видим не соответствие типа данных столбцов, тех описанию датафрейма\n",
    "3. По гистаграммам мы видим \"лишние\" данные, выходящие за пределы нормального распределения, при этом их показатели не влияют на общую выборку."
   ]
  },
  {
   "cell_type": "markdown",
   "metadata": {},
   "source": [
    "<div class=\"alert alert-success\">\n",
    "<h2> Комментарий ревьюера V3<a class=\"tocSkip\"> </h2>\n",
    "\n",
    "<b>Все отлично!👍:</b> Все отлично."
   ]
  },
  {
   "cell_type": "markdown",
   "metadata": {},
   "source": [
    "### Предобработка данных"
   ]
  },
  {
   "cell_type": "markdown",
   "metadata": {},
   "source": [
    "<div class=\"alert alert-block alert-danger\">\n",
    "<h2> Комментарий ревьюера V1<a class=\"tocSkip\"></h2>\n",
    "\n",
    "\n",
    "<b>На доработку🤔:</b>\n",
    "Скорректируй структуру всего проекта ниже. Не нужно каждый большой пункт объяединять в отдну ячейку. В плане задания есть подпункты и стоит ориентироваться на них.\n",
    "    \n",
    "Все свои комментарии пиши в отдельных markdown ячейках.\n",
    "    \n",
    "В одной ячейке должны быть одинаковые по смыслу действия. Если ты обрабатываешь какой то параметр, то можно сначала посмотреть на значения в нем (вывести их, чтобы было видно) обработать, затем снова вывести уже результат обработки. (особенно в пункте с исследовательским анализом)\n",
    "    \n",
    "Все должно быть объяснено, не просто \"заполняем пропуски медианой\", а в этом же месте объяснить почему это заполнение будет корректным.\n",
    "    \n",
    "Когда скорректируешь структуру проекта присылай его на повторное ревью, все проверю."
   ]
  },
  {
   "cell_type": "code",
   "execution_count": 3,
   "metadata": {},
   "outputs": [
    {
     "data": {
      "text/plain": [
       "total_images                0\n",
       "last_price                  0\n",
       "total_area                  0\n",
       "first_day_exposition        0\n",
       "rooms                       0\n",
       "ceiling_height           9195\n",
       "floors_total               86\n",
       "living_area              1903\n",
       "floor                       0\n",
       "is_apartment            20924\n",
       "studio                      0\n",
       "open_plan                   0\n",
       "kitchen_area             2278\n",
       "balcony                 11519\n",
       "locality_name              49\n",
       "airports_nearest         5542\n",
       "cityCenters_nearest      5519\n",
       "parks_around3000         5518\n",
       "parks_nearest           15620\n",
       "ponds_around3000         5518\n",
       "ponds_nearest           14589\n",
       "days_exposition          3181\n",
       "dtype: int64"
      ]
     },
     "execution_count": 3,
     "metadata": {},
     "output_type": "execute_result"
    }
   ],
   "source": [
    "data.isnull().sum()"
   ]
  },
  {
   "cell_type": "markdown",
   "metadata": {},
   "source": [
    "v2. Причины, которые могли привести к пропускам данных:\n",
    "1. Отсутствие информации: Иногда некоторые данные могут быть недоступны изначально или не были заполнены при сборе или вводе данных, например пользователю просто лень было.\n",
    "2. Некорректный ввод данных: Ошибки ввода данных могут привести к пропускам. Например, пользователь мог случайно пропустить ввод определенного значения или ввести его неправильно, например заполнил числовые данные словами.\n",
    "3. Технические проблемы: Проблемы сбора данных или ошибки в процессе передачи данных могут привести к пропускам. Например, сбой в системе, ошибки сети или проблемы с хранением данных могут вызвать потерю информации.\n",
    "Проанализируем пропуски:\n",
    "1. Большое количество пропусков в 'total_area', 'ceiling_height', 'living_area', 'kitchen_area', 'balcony', 'is_apartment', а также в колонках значения которых взято из картографических данных.\n",
    "2. Небольшое количество пропусков в 'floors_total'"
   ]
  },
  {
   "cell_type": "markdown",
   "metadata": {},
   "source": [
    "<div class=\"alert alert-success\">\n",
    "<h2> Комментарий ревьюера V1<a class=\"tocSkip\"> </h2>\n",
    "\n",
    "<b>Все отлично!👍:</b> Вполне вероятные причины, согласен."
   ]
  },
  {
   "cell_type": "code",
   "execution_count": 4,
   "metadata": {},
   "outputs": [
    {
     "data": {
      "text/plain": [
       "total_images                0\n",
       "last_price                  0\n",
       "total_area                  0\n",
       "first_day_exposition        0\n",
       "rooms                       0\n",
       "ceiling_height           9118\n",
       "floors_total                0\n",
       "living_area              1870\n",
       "floor                       0\n",
       "is_apartment            20838\n",
       "studio                      0\n",
       "open_plan                   0\n",
       "kitchen_area             2231\n",
       "balcony                 11480\n",
       "locality_name              48\n",
       "airports_nearest         5532\n",
       "cityCenters_nearest      5509\n",
       "parks_around3000         5508\n",
       "parks_nearest           15568\n",
       "ponds_around3000         5508\n",
       "ponds_nearest           14552\n",
       "days_exposition          3172\n",
       "dtype: int64"
      ]
     },
     "execution_count": 4,
     "metadata": {},
     "output_type": "execute_result"
    }
   ],
   "source": [
    "#удаляем пропуски в 'floors_total'\n",
    "data = data.dropna(subset=['floors_total'])\n",
    "data.isnull().sum()"
   ]
  },
  {
   "cell_type": "markdown",
   "metadata": {},
   "source": [
    "v2. Так как 'floors_total' небольшое количество пропусков, и их удаление не окажет значительного влияние на выборку, удаляем их."
   ]
  },
  {
   "cell_type": "markdown",
   "metadata": {},
   "source": [
    "<div class=\"alert alert-success\">\n",
    "<h2> Комментарий ревьюера V1<a class=\"tocSkip\"> </h2>\n",
    "\n",
    "<b>Все отлично!👍:</b> Верное решение."
   ]
  },
  {
   "cell_type": "code",
   "execution_count": 5,
   "metadata": {},
   "outputs": [
    {
     "data": {
      "text/plain": [
       "total_images                0\n",
       "last_price                  0\n",
       "total_area                  0\n",
       "first_day_exposition        0\n",
       "rooms                       0\n",
       "ceiling_height           9118\n",
       "floors_total                0\n",
       "living_area              1870\n",
       "floor                       0\n",
       "is_apartment                0\n",
       "studio                      0\n",
       "open_plan                   0\n",
       "kitchen_area             2231\n",
       "balcony                 11480\n",
       "locality_name              48\n",
       "airports_nearest         5532\n",
       "cityCenters_nearest      5509\n",
       "parks_around3000         5508\n",
       "parks_nearest           15568\n",
       "ponds_around3000         5508\n",
       "ponds_nearest           14552\n",
       "days_exposition          3172\n",
       "dtype: int64"
      ]
     },
     "execution_count": 5,
     "metadata": {},
     "output_type": "execute_result"
    }
   ],
   "source": [
    "#заполняем пропуски 'is_apartment' занчением True\n",
    "data['is_apartment'] = data['is_apartment'].fillna(False)\n",
    "data.isnull().sum()"
   ]
  },
  {
   "cell_type": "markdown",
   "metadata": {},
   "source": [
    "v2. Очевидно, что значения столбца studio пропусков не имеет, значит можно предположить, что то пропущено в is_apartment это True\n",
    "\n",
    "<font color='green'>v3. Да видимо упустил в описании, что studio - это квартира-студия, а is_appartment - это аппартаменты."
   ]
  },
  {
   "cell_type": "markdown",
   "metadata": {},
   "source": [
    "<div class=\"alert alert-block alert-danger\">\n",
    "<h2> Комментарий ревьюера V1<a class=\"tocSkip\"></h2>\n",
    "\n",
    "\n",
    "<b>На доработку🤔:</b>\n",
    "Наоборот, признак is_apartmant говорит является ли помещение апартаментами (юридически это не жилые помещения), вряд ли весь датафрейм состоит из них и не содержит обычных квартир, поэтому пропуски корректнее заполнить значением False."
   ]
  },
  {
   "cell_type": "markdown",
   "metadata": {},
   "source": [
    "<div class=\"alert alert-success\">\n",
    "<h2> Комментарий ревьюера V3<a class=\"tocSkip\"> </h2>\n",
    "\n",
    "<b>Все отлично!👍:</b> Правильно скорректировал, молодец!"
   ]
  },
  {
   "cell_type": "code",
   "execution_count": 6,
   "metadata": {},
   "outputs": [
    {
     "data": {
      "text/plain": [
       "total_images                0\n",
       "last_price                  0\n",
       "total_area                  0\n",
       "first_day_exposition        0\n",
       "rooms                       0\n",
       "ceiling_height              1\n",
       "floors_total                0\n",
       "living_area                 0\n",
       "floor                       0\n",
       "is_apartment                0\n",
       "studio                      0\n",
       "open_plan                   0\n",
       "kitchen_area              194\n",
       "balcony                 11480\n",
       "locality_name              48\n",
       "airports_nearest         5532\n",
       "cityCenters_nearest      5509\n",
       "parks_around3000         5508\n",
       "parks_nearest           15568\n",
       "ponds_around3000         5508\n",
       "ponds_nearest           14552\n",
       "days_exposition          3172\n",
       "dtype: int64"
      ]
     },
     "execution_count": 6,
     "metadata": {},
     "output_type": "execute_result"
    }
   ],
   "source": [
    "#заполняем значения 'total_area', 'ceiling_height', 'living_area', 'kitchen_area' медианными в зависимости от количества комнат\n",
    "col_to_change = ['total_area', 'ceiling_height', 'living_area', 'kitchen_area']\n",
    "room_medians = data.groupby('rooms')[col_to_change].median()\n",
    "data['total_area'] = data['total_area'].fillna(data['rooms'].map(room_medians['total_area']))\n",
    "data['ceiling_height'] = data['ceiling_height'].fillna(data['rooms'].map(room_medians['ceiling_height']))\n",
    "data['living_area'] = data['living_area'].fillna(data['rooms'].map(room_medians['living_area']))\n",
    "data['kitchen_area'] = data['kitchen_area'].fillna(data['rooms'].map(room_medians['kitchen_area']))\n",
    "data.isnull().sum()"
   ]
  },
  {
   "cell_type": "markdown",
   "metadata": {},
   "source": [
    "<div class=\"alert alert-warning\">\n",
    "<h2> Комментарий ревьюера V1<a class=\"tocSkip\"> </h2>\n",
    "\n",
    "<b>Некоторые замечания и рекомендации💡:</b> В принципе правлиьно обработал пропуски в параметрах выше. Для жилой площади и площади кухни можно было более точно восстановить пропуски, отталкиваясь от общей площади. Например, жилая площадь сильно коррелирует с общей, поэтому можно посчитать коэффициенты отношения жилой площади к общей, по объявлениям, где есть данные, взять медиану этих коэффициентов и с её помощью восстановить пропуски, умножив медиану на общую площадь."
   ]
  },
  {
   "cell_type": "markdown",
   "metadata": {},
   "source": [
    "v2. Пропущенные значения характеристик квартир заполняем медианными значениями, относящиеся к типу квартиры (1,2,3 и тд комнатные) так как их значение велико, и они могут оказать заметное влияние на выводы. Так как 1 ком квартира и 3х ком квартира, все таки разный тип недвижимости, мы заполняем медианой, присуще данному типу.\n",
    "Пропущенные значения картографических данных мы не трогаем, так как их медианные значения могут привести к неверным выводам, потому как мы не знаем на каком расстоянии они все таки находятся. \n",
    "Мы видим, что остались пропущенные значения для 1 строки ceiling_height и 194 строки kitchen_area, которые видимо не ассоциируются не с одним типом квартир. Просто удалим их, ввиду небольшого количества."
   ]
  },
  {
   "cell_type": "code",
   "execution_count": 7,
   "metadata": {},
   "outputs": [
    {
     "data": {
      "text/plain": [
       "total_images                0\n",
       "last_price                  0\n",
       "total_area                  0\n",
       "first_day_exposition        0\n",
       "rooms                       0\n",
       "ceiling_height              0\n",
       "floors_total                0\n",
       "living_area                 0\n",
       "floor                       0\n",
       "is_apartment                0\n",
       "studio                      0\n",
       "open_plan                   0\n",
       "kitchen_area                0\n",
       "balcony                 11411\n",
       "locality_name              48\n",
       "airports_nearest         5455\n",
       "cityCenters_nearest      5432\n",
       "parks_around3000         5431\n",
       "parks_nearest           15401\n",
       "ponds_around3000         5431\n",
       "ponds_nearest           14426\n",
       "days_exposition          3158\n",
       "dtype: int64"
      ]
     },
     "execution_count": 7,
     "metadata": {},
     "output_type": "execute_result"
    }
   ],
   "source": [
    "data = data.dropna(subset=['ceiling_height', 'kitchen_area'])\n",
    "data.isnull().sum()"
   ]
  },
  {
   "cell_type": "code",
   "execution_count": 8,
   "metadata": {},
   "outputs": [
    {
     "data": {
      "text/plain": [
       "total_images                0\n",
       "last_price                  0\n",
       "total_area                  0\n",
       "first_day_exposition        0\n",
       "rooms                       0\n",
       "ceiling_height              0\n",
       "floors_total                0\n",
       "living_area                 0\n",
       "floor                       0\n",
       "is_apartment                0\n",
       "studio                      0\n",
       "open_plan                   0\n",
       "kitchen_area                0\n",
       "balcony                     0\n",
       "locality_name              48\n",
       "airports_nearest         5455\n",
       "cityCenters_nearest      5432\n",
       "parks_around3000         5431\n",
       "parks_nearest           15401\n",
       "ponds_around3000         5431\n",
       "ponds_nearest           14426\n",
       "days_exposition          3158\n",
       "dtype: int64"
      ]
     },
     "execution_count": 8,
     "metadata": {},
     "output_type": "execute_result"
    }
   ],
   "source": [
    "data['balcony'] = data['balcony'].fillna(0)\n",
    "data.isnull().sum()"
   ]
  },
  {
   "cell_type": "markdown",
   "metadata": {},
   "source": [
    "v2. Пропуске в колонке 'balcony' показывают скорее всего то, что балкона в квартире нет, поэтому заполняем значением 0."
   ]
  },
  {
   "cell_type": "markdown",
   "metadata": {},
   "source": [
    "<div class=\"alert alert-success\">\n",
    "<h2> Комментарий ревьюера V1<a class=\"tocSkip\"> </h2>\n",
    "\n",
    "<b>Все отлично!👍:</b> Абсолютно верно!"
   ]
  },
  {
   "cell_type": "code",
   "execution_count": 9,
   "metadata": {},
   "outputs": [
    {
     "name": "stdout",
     "output_type": "stream",
     "text": [
      "<class 'pandas.core.frame.DataFrame'>\n",
      "Int64Index: 23418 entries, 0 to 23698\n",
      "Data columns (total 22 columns):\n",
      " #   Column                Non-Null Count  Dtype  \n",
      "---  ------                --------------  -----  \n",
      " 0   total_images          23418 non-null  int64  \n",
      " 1   last_price            23418 non-null  float64\n",
      " 2   total_area            23418 non-null  float64\n",
      " 3   first_day_exposition  23418 non-null  object \n",
      " 4   rooms                 23418 non-null  int64  \n",
      " 5   ceiling_height        23418 non-null  float64\n",
      " 6   floors_total          23418 non-null  float64\n",
      " 7   living_area           23418 non-null  float64\n",
      " 8   floor                 23418 non-null  int64  \n",
      " 9   is_apartment          23418 non-null  bool   \n",
      " 10  studio                23418 non-null  bool   \n",
      " 11  open_plan             23418 non-null  bool   \n",
      " 12  kitchen_area          23418 non-null  float64\n",
      " 13  balcony               23418 non-null  float64\n",
      " 14  locality_name         23370 non-null  object \n",
      " 15  airports_nearest      17963 non-null  float64\n",
      " 16  cityCenters_nearest   17986 non-null  float64\n",
      " 17  parks_around3000      17987 non-null  float64\n",
      " 18  parks_nearest         8017 non-null   float64\n",
      " 19  ponds_around3000      17987 non-null  float64\n",
      " 20  ponds_nearest         8992 non-null   float64\n",
      " 21  days_exposition       20260 non-null  float64\n",
      "dtypes: bool(3), float64(14), int64(3), object(2)\n",
      "memory usage: 3.6+ MB\n",
      "<class 'pandas.core.frame.DataFrame'>\n",
      "Int64Index: 23418 entries, 0 to 23698\n",
      "Data columns (total 22 columns):\n",
      " #   Column                Non-Null Count  Dtype         \n",
      "---  ------                --------------  -----         \n",
      " 0   total_images          23418 non-null  int64         \n",
      " 1   last_price            23418 non-null  float64       \n",
      " 2   total_area            23418 non-null  float64       \n",
      " 3   first_day_exposition  23418 non-null  datetime64[ns]\n",
      " 4   rooms                 23418 non-null  int64         \n",
      " 5   ceiling_height        23418 non-null  float64       \n",
      " 6   floors_total          23418 non-null  float64       \n",
      " 7   living_area           23418 non-null  float64       \n",
      " 8   floor                 23418 non-null  int64         \n",
      " 9   is_apartment          23418 non-null  bool          \n",
      " 10  studio                23418 non-null  bool          \n",
      " 11  open_plan             23418 non-null  bool          \n",
      " 12  kitchen_area          23418 non-null  float64       \n",
      " 13  balcony               23418 non-null  float64       \n",
      " 14  locality_name         23370 non-null  object        \n",
      " 15  airports_nearest      17963 non-null  float64       \n",
      " 16  cityCenters_nearest   17986 non-null  float64       \n",
      " 17  parks_around3000      17987 non-null  float64       \n",
      " 18  parks_nearest         8017 non-null   float64       \n",
      " 19  ponds_around3000      17987 non-null  float64       \n",
      " 20  ponds_nearest         8992 non-null   float64       \n",
      " 21  days_exposition       20260 non-null  float64       \n",
      "dtypes: bool(3), datetime64[ns](1), float64(14), int64(3), object(1)\n",
      "memory usage: 3.6+ MB\n"
     ]
    }
   ],
   "source": [
    "data.info()\n",
    "#меняем тип 'is_apartment' на булевый\n",
    "data['is_apartment'] = data['is_apartment'].astype('bool')\n",
    "\n",
    "data['first_day_exposition'] = pd.to_datetime(data['first_day_exposition'], format='%Y-%m-%d')\n",
    "data.info()"
   ]
  },
  {
   "cell_type": "markdown",
   "metadata": {},
   "source": [
    "v2. Меняем тип столбцов в соответствии с описанием и назначением\n",
    "\n",
    "1. bool - 'is_apartment' - это дано в описании\n",
    "2. datetime - 'first_day_exposition' - дата должна иметь формат даты. Удаление неявных дубликатов:"
   ]
  },
  {
   "cell_type": "code",
   "execution_count": 10,
   "metadata": {},
   "outputs": [
    {
     "data": {
      "text/plain": [
       "array(['Санкт-Петербург', 'посёлок Шушары', 'городской посёлок Янино-1',\n",
       "       'посёлок Парголово', 'посёлок Мурино', 'Ломоносов', 'Сертолово',\n",
       "       'Петергоф', 'Пушкин', 'деревня Кудрово', 'Коммунар', 'Колпино',\n",
       "       'поселок городского типа Красный Бор', 'Гатчина', 'поселок Мурино',\n",
       "       'деревня Фёдоровское', 'Выборг', 'Кронштадт', 'Кировск',\n",
       "       'деревня Новое Девяткино', 'посёлок Металлострой',\n",
       "       'посёлок городского типа Лебяжье',\n",
       "       'посёлок городского типа Сиверский', 'поселок Молодцово',\n",
       "       'поселок городского типа Кузьмоловский',\n",
       "       'садовое товарищество Новая Ропша', 'Павловск',\n",
       "       'деревня Пикколово', 'Всеволожск', 'Волхов', 'Кингисепп',\n",
       "       'Приозерск', 'Сестрорецк', 'деревня Куттузи', 'посёлок Аннино',\n",
       "       'поселок городского типа Ефимовский', 'посёлок Плодовое',\n",
       "       'деревня Заклинье', 'поселок Торковичи', 'поселок Первомайское',\n",
       "       'Красное Село', 'посёлок Понтонный', 'Сясьстрой', 'деревня Старая',\n",
       "       'деревня Лесколово', 'посёлок Новый Свет', 'Сланцы',\n",
       "       'село Путилово', 'Ивангород', 'Мурино', 'Шлиссельбург',\n",
       "       'Никольское', 'Зеленогорск', 'Сосновый Бор', 'поселок Новый Свет',\n",
       "       'деревня Оржицы', 'деревня Кальтино', 'Кудрово',\n",
       "       'поселок Романовка', 'посёлок Бугры', 'поселок Бугры',\n",
       "       'поселок городского типа Рощино', 'Кириши', 'Луга', 'Волосово',\n",
       "       'Отрадное', 'село Павлово', 'поселок Оредеж', 'село Копорье',\n",
       "       'посёлок городского типа Красный Бор', 'посёлок Молодёжное',\n",
       "       'Тихвин', 'посёлок Победа', 'деревня Нурма',\n",
       "       'поселок городского типа Синявино', 'Тосно',\n",
       "       'посёлок городского типа Кузьмоловский', 'посёлок Стрельна',\n",
       "       'Бокситогорск', 'посёлок Александровская', 'деревня Лопухинка',\n",
       "       'Пикалёво', 'поселок Терволово',\n",
       "       'поселок городского типа Советский', 'Подпорожье',\n",
       "       'посёлок Петровское', 'посёлок городского типа Токсово',\n",
       "       'поселок Сельцо', 'посёлок городского типа Вырица',\n",
       "       'деревня Кипень', 'деревня Келози', 'деревня Вартемяги',\n",
       "       'посёлок Тельмана', 'поселок Севастьяново',\n",
       "       'городской поселок Большая Ижора', nan,\n",
       "       'городской посёлок Павлово', 'деревня Агалатово',\n",
       "       'посёлок Новогорелово', 'городской посёлок Лесогорский',\n",
       "       'деревня Лаголово', 'поселок Цвелодубово',\n",
       "       'поселок городского типа Рахья', 'поселок городского типа Вырица',\n",
       "       'деревня Белогорка', 'поселок Заводской',\n",
       "       'городской посёлок Новоселье', 'деревня Большие Колпаны',\n",
       "       'деревня Горбунки', 'деревня Батово', 'деревня Заневка',\n",
       "       'деревня Иссад', 'Приморск', 'городской посёлок Фёдоровское',\n",
       "       'деревня Мистолово', 'Новая Ладога', 'поселок Зимитицы',\n",
       "       'поселок Барышево', 'деревня Разметелево',\n",
       "       'поселок городского типа имени Свердлова', 'деревня Пеники',\n",
       "       'поселок Рябово', 'деревня Пудомяги', 'деревня Низино',\n",
       "       'деревня Бегуницы', 'посёлок Поляны', 'городской посёлок Мга',\n",
       "       'поселок Елизаветино', 'посёлок городского типа Кузнечное',\n",
       "       'деревня Колтуши', 'поселок Запорожское',\n",
       "       'посёлок городского типа Рощино', 'деревня Гостилицы',\n",
       "       'деревня Малое Карлино', 'посёлок Мичуринское',\n",
       "       'посёлок городского типа имени Морозова', 'посёлок Песочный',\n",
       "       'посёлок Сосново', 'деревня Аро', 'поселок Ильичёво',\n",
       "       'посёлок городского типа Тайцы', 'деревня Малое Верево',\n",
       "       'деревня Извара', 'поселок станции Вещево', 'село Паша',\n",
       "       'деревня Калитино', 'посёлок городского типа Ульяновка',\n",
       "       'деревня Чудской Бор', 'поселок городского типа Дубровка',\n",
       "       'деревня Мины', 'поселок Войсковицы',\n",
       "       'посёлок городского типа имени Свердлова', 'деревня Коркино',\n",
       "       'посёлок Ропша', 'поселок городского типа Приладожский',\n",
       "       'посёлок Щеглово', 'посёлок Гаврилово', 'Лодейное Поле',\n",
       "       'деревня Рабитицы', 'поселок городского типа Никольский',\n",
       "       'деревня Кузьмолово', 'деревня Малые Колпаны', 'поселок Тельмана',\n",
       "       'городской посёлок Назия', 'посёлок Репино', 'посёлок Ильичёво',\n",
       "       'поселок Углово', 'поселок Старая Малукса',\n",
       "       'садовое товарищество Рахья', 'поселок Аннино', 'поселок Победа',\n",
       "       'деревня Меньково', 'деревня Старые Бегуницы', 'посёлок Сапёрный',\n",
       "       'поселок Семрино', 'поселок Гаврилово', 'поселок Глажево',\n",
       "       'поселок Кобринское', 'деревня Гарболово', 'деревня Юкки',\n",
       "       'поселок станции Приветнинское', 'деревня Мануйлово',\n",
       "       'деревня Пчева', 'поселок Поляны', 'поселок Цвылёво',\n",
       "       'поселок Мельниково', 'посёлок Пудость', 'посёлок Усть-Луга',\n",
       "       'Светогорск', 'Любань', 'поселок Селезнёво',\n",
       "       'поселок городского типа Рябово', 'Каменногорск', 'деревня Кривко',\n",
       "       'поселок Глебычево', 'деревня Парицы', 'поселок Жилпосёлок',\n",
       "       'посёлок городского типа Мга', 'городской поселок Янино-1',\n",
       "       'посёлок Войскорово', 'село Никольское', 'посёлок Терволово',\n",
       "       'поселок Стеклянный', 'посёлок городского типа Важины',\n",
       "       'посёлок Мыза-Ивановка', 'село Русско-Высоцкое',\n",
       "       'поселок городского типа Лебяжье',\n",
       "       'поселок городского типа Форносово', 'село Старая Ладога',\n",
       "       'поселок Житково', 'городской посёлок Виллози', 'деревня Лампово',\n",
       "       'деревня Шпаньково', 'деревня Лаврики', 'посёлок Сумино',\n",
       "       'посёлок Возрождение', 'деревня Старосиверская',\n",
       "       'посёлок Кикерино', 'поселок Возрождение',\n",
       "       'деревня Старое Хинколово', 'посёлок Пригородный',\n",
       "       'посёлок Торфяное', 'городской посёлок Будогощь',\n",
       "       'поселок Суходолье', 'поселок Красная Долина', 'деревня Хапо-Ое',\n",
       "       'поселок городского типа Дружная Горка', 'поселок Лисий Нос',\n",
       "       'деревня Яльгелево', 'посёлок Стеклянный', 'село Рождествено',\n",
       "       'деревня Старополье', 'посёлок Левашово', 'деревня Сяськелево',\n",
       "       'деревня Камышовка',\n",
       "       'садоводческое некоммерческое товарищество Лесная Поляна',\n",
       "       'деревня Хязельки', 'поселок Жилгородок',\n",
       "       'посёлок городского типа Павлово', 'деревня Ялгино',\n",
       "       'поселок Новый Учхоз', 'городской посёлок Рощино',\n",
       "       'поселок Гончарово', 'поселок Почап', 'посёлок Сапёрное',\n",
       "       'посёлок Платформа 69-й километр', 'поселок Каложицы',\n",
       "       'деревня Фалилеево', 'деревня Пельгора',\n",
       "       'поселок городского типа Лесогорский', 'деревня Торошковичи',\n",
       "       'посёлок Белоостров', 'посёлок Алексеевка', 'поселок Серебрянский',\n",
       "       'поселок Лукаши', 'поселок Петровское', 'деревня Щеглово',\n",
       "       'поселок Мичуринское', 'деревня Тарасово', 'поселок Кингисеппский',\n",
       "       'посёлок при железнодорожной станции Вещево', 'поселок Ушаки',\n",
       "       'деревня Котлы', 'деревня Сижно', 'деревня Торосово',\n",
       "       'посёлок Форт Красная Горка', 'деревня Новолисино',\n",
       "       'посёлок станции Громово', 'деревня Глинка', 'посёлок Мельниково',\n",
       "       'поселок городского типа Назия', 'деревня Старая Пустошь',\n",
       "       'поселок Коммунары', 'поселок Починок',\n",
       "       'посёлок городского типа Вознесенье', 'деревня Разбегаево',\n",
       "       'посёлок городского типа Рябово', 'поселок Гладкое',\n",
       "       'посёлок при железнодорожной станции Приветнинское',\n",
       "       'поселок Тёсово-4', 'посёлок Жилгородок', 'деревня Бор',\n",
       "       'посёлок Коробицыно', 'деревня Большая Вруда', 'деревня Курковицы',\n",
       "       'посёлок Лисий Нос', 'городской посёлок Советский',\n",
       "       'посёлок Кобралово', 'деревня Суоранда', 'поселок Кобралово',\n",
       "       'поселок городского типа Кондратьево',\n",
       "       'коттеджный поселок Счастье', 'поселок Любань', 'деревня Реброво',\n",
       "       'деревня Зимитицы', 'деревня Тойворово', 'поселок Семиозерье',\n",
       "       'поселок Лесное', 'поселок Совхозный', 'поселок Усть-Луга',\n",
       "       'посёлок Ленинское', 'посёлок Суйда',\n",
       "       'посёлок городского типа Форносово', 'деревня Нижние Осельки',\n",
       "       'посёлок станции Свирь', 'поселок Перово', 'Высоцк',\n",
       "       'поселок Гарболово', 'село Шум', 'поселок Котельский',\n",
       "       'поселок станции Лужайка', 'деревня Большая Пустомержа',\n",
       "       'поселок Красносельское', 'деревня Вахнова Кара', 'деревня Пижма',\n",
       "       'коттеджный поселок Кивеннапа Север', 'поселок Коробицыно',\n",
       "       'поселок Ромашки', 'посёлок Перово', 'деревня Каськово',\n",
       "       'деревня Куровицы', 'посёлок Плоское', 'поселок Сумино',\n",
       "       'поселок городского типа Большая Ижора', 'поселок Кирпичное',\n",
       "       'деревня Ям-Тесово', 'деревня Раздолье', 'деревня Терпилицы',\n",
       "       'поселок городского типа Токсово', 'посёлок Шугозеро',\n",
       "       'деревня Ваганово', 'поселок Пушное', 'садовое товарищество Садко',\n",
       "       'посёлок Усть-Ижора', 'деревня Выскатка',\n",
       "       'городской посёлок Свирьстрой', 'поселок Громово',\n",
       "       'деревня Кисельня', 'посёлок Старая Малукса',\n",
       "       'деревня Трубников Бор', 'поселок Калитино',\n",
       "       'посёлок Высокоключевой', 'садовое товарищество Приладожский',\n",
       "       'посёлок Пансионат Зелёный Бор', 'деревня Ненимяки',\n",
       "       'поселок Пансионат Зелёный Бор', 'деревня Снегирёвка',\n",
       "       'деревня Рапполово', 'деревня Пустынка', 'поселок Рабитицы',\n",
       "       'деревня Большой Сабск', 'деревня Русско', 'деревня Лупполово',\n",
       "       'деревня Большое Рейзино', 'деревня Малая Романовка',\n",
       "       'поселок Дружноселье', 'поселок Пчевжа', 'поселок Володарское',\n",
       "       'деревня Нижняя', 'коттеджный посёлок Лесное', 'деревня Тихковицы',\n",
       "       'деревня Борисова Грива', 'посёлок Дзержинского'], dtype=object)"
      ]
     },
     "metadata": {},
     "output_type": "display_data"
    },
    {
     "data": {
      "text/plain": [
       "array(['санкт-петербург', 'шушары', 'янино-1', 'парголово', 'мурино',\n",
       "       'ломоносов', 'сертолово', 'петергоф', 'пушкин', 'кудрово',\n",
       "       'коммунар', 'колпино', 'красный бор', 'гатчина', 'федоровское',\n",
       "       'выборг', 'кронштадт', 'кировск', 'новое девяткино',\n",
       "       'металлострой', 'лебяжье', 'сиверский', 'молодцово',\n",
       "       'кузьмоловский', 'новая ропша', 'павловск', 'пикколово',\n",
       "       'всеволожск', 'волхов', 'кингисепп', 'приозерск', 'сестрорецк',\n",
       "       'куттузи', 'аннино', 'ефимовский', 'плодовое', 'заклинье',\n",
       "       'торковичи', 'первомайское', 'красное село', 'понтонный',\n",
       "       'сясьстрой', 'старая', 'лесколово', 'новый свет', 'сланцы',\n",
       "       'путилово', 'ивангород', 'шлиссельбург', 'никольское',\n",
       "       'зеленогорск', 'сосновый бор', 'оржицы', 'кальтино', 'романовка',\n",
       "       'бугры', 'рощино', 'кириши', 'луга', 'волосово', 'отрадное',\n",
       "       'павлово', 'оредеж', 'копорье', 'молодежное', 'тихвин', 'победа',\n",
       "       'нурма', 'синявино', 'тосно', 'стрельна', 'бокситогорск',\n",
       "       'александровская', 'лопухинка', 'пикалево', 'терволово',\n",
       "       'советский', 'подпорожье', 'петровское', 'токсово', 'сельцо',\n",
       "       'вырица', 'кипень', 'келози', 'вартемяги', 'тельмана',\n",
       "       'севастьяново', 'большая ижора', 'другое', 'агалатово',\n",
       "       'новогорелово', 'лесогорский', 'лаголово', 'цвелодубово', 'рахья',\n",
       "       'белогорка', 'заводской', 'новоселье', 'большие колпаны',\n",
       "       'горбунки', 'батово', 'заневка', 'иссад', 'приморск', 'мистолово',\n",
       "       'новая ладога', 'зимитицы', 'барышево', 'разметелево',\n",
       "       'имени свердлова', 'пеники', 'рябово', 'пудомяги', 'низино',\n",
       "       'бегуницы', 'поляны', 'мга', 'елизаветино', 'кузнечное', 'колтуши',\n",
       "       'запорожское', 'гостилицы', 'малое карлино', 'мичуринское',\n",
       "       'имени морозова', 'песочный', 'сосново', 'аро', 'ильичево',\n",
       "       'тайцы', 'малое верево', 'извара', 'вещево', 'паша', 'калитино',\n",
       "       'ульяновка', 'чудской бор', 'дубровка', 'мины', 'войсковицы',\n",
       "       'коркино', 'ропша', 'приладожский', 'щеглово', 'гаврилово',\n",
       "       'лодейное поле', 'рабитицы', 'никольский', 'кузьмолово',\n",
       "       'малые колпаны', 'назия', 'репино', 'углово', 'старая малукса',\n",
       "       'меньково', 'старые бегуницы', 'саперный', 'семрино', 'глажево',\n",
       "       'кобринское', 'гарболово', 'юкки', 'приветнинское', 'мануйлово',\n",
       "       'пчева', 'цвылево', 'мельниково', 'пудость', 'усть-луга',\n",
       "       'светогорск', 'любань', 'селезнево', 'каменногорск', 'кривко',\n",
       "       'глебычево', 'парицы', 'жилпоселок', 'войскорово', 'стеклянный',\n",
       "       'важины', 'мыза-ивановка', 'русско-высоцкое', 'форносово',\n",
       "       'старая ладога', 'житково', 'виллози', 'лампово', 'шпаньково',\n",
       "       'лаврики', 'сумино', 'возрождение', 'старосиверская', 'кикерино',\n",
       "       'старое хинколово', 'пригородный', 'торфяное', 'будогощь',\n",
       "       'суходолье', 'красная долина', 'хапо-ое', 'дружная горка',\n",
       "       'лисий нос', 'яльгелево', 'рождествено', 'старополье', 'левашово',\n",
       "       'сяськелево', 'камышовка', 'лесная поляна', 'хязельки',\n",
       "       'жилгородок', 'ялгино', 'новый учхоз', 'гончарово', 'почап',\n",
       "       'саперное', 'платформа 69-й километр', 'каложицы', 'фалилеево',\n",
       "       'пельгора', 'торошковичи', 'белоостров', 'алексеевка',\n",
       "       'серебрянский', 'лукаши', 'тарасово', 'кингисеппский', 'ушаки',\n",
       "       'котлы', 'сижно', 'торосово', 'форт красная горка', 'новолисино',\n",
       "       'громово', 'глинка', 'старая пустошь', 'коммунары', 'починок',\n",
       "       'вознесенье', 'разбегаево', 'гладкое', 'тесово-4', 'бор',\n",
       "       'коробицыно', 'большая вруда', 'курковицы', 'кобралово',\n",
       "       'суоранда', 'кондратьево', 'счастье', 'реброво', 'тойворово',\n",
       "       'семиозерье', 'лесное', 'совхозный', 'ленинское', 'суйда',\n",
       "       'нижние осельки', 'свирь', 'перово', 'высоцк', 'шум', 'котельский',\n",
       "       'лужайка', 'большая пустомержа', 'красносельское', 'вахнова кара',\n",
       "       'пижма', 'кивеннапа север', 'ромашки', 'каськово', 'куровицы',\n",
       "       'плоское', 'кирпичное', 'ям-тесово', 'раздолье', 'терпилицы',\n",
       "       'шугозеро', 'ваганово', 'пушное', 'садко', 'усть-ижора',\n",
       "       'выскатка', 'свирьстрой', 'кисельня', 'трубников бор',\n",
       "       'высокоключевой', 'пансионат зеленый бор', 'ненимяки',\n",
       "       'снегиревка', 'рапполово', 'пустынка', 'большой сабск', 'русско',\n",
       "       'лупполово', 'большое рейзино', 'малая романовка', 'дружноселье',\n",
       "       'пчевжа', 'володарское', 'нижняя', 'тихковицы', 'борисова грива',\n",
       "       'дзержинского'], dtype=object)"
      ]
     },
     "metadata": {},
     "output_type": "display_data"
    }
   ],
   "source": [
    "display(data['locality_name'].unique())\n",
    "#Приводим все значения 'locality_name' к строчным буквам\n",
    "data['locality_name'] = data['locality_name'].str.lower()\n",
    "#Создаем словарь регулярных выражений\n",
    "dict = {'городской поселок ': '', 'поселок городского типа ': '', 'поселок станции ': '', \\\n",
    "        'село ': '', 'садоводческое некоммерческое товарищество ': '', 'поселок при железнодорожной станции ': '', \\\n",
    "        'садовое товарищество ':'', 'деревня ': '', 'пок ': '', 'поселок ': '', 'коттеджный ': ''}\n",
    "#Заменяем ё на е\n",
    "data['locality_name'] = data['locality_name'].replace('ё', 'е', regex=True)\n",
    "#оставляем только значения 'locality_name' с название населенного пункта\n",
    "data['locality_name'] = data['locality_name'].replace(dict, regex=True)\n",
    "#заполняем пропущеные значения 'locality_name' на другое\n",
    "data['locality_name'] = data['locality_name'].fillna('другое')\n",
    "display(data['locality_name'].unique())"
   ]
  },
  {
   "cell_type": "markdown",
   "metadata": {},
   "source": [
    "<div class=\"alert alert-block alert-danger\">\n",
    "<h2> Комментарий ревьюера V1<a class=\"tocSkip\"></h2>\n",
    "\n",
    "\n",
    "<b>На доработку🤔:</b>\n",
    "Стоило до и после обработки воспользоваться методом unique(), чтобы вывести все значения населенных пунктов, ориентироваться только на 10 строк очень сомнительно."
   ]
  },
  {
   "cell_type": "markdown",
   "metadata": {},
   "source": [
    "<div class=\"alert alert-success\">\n",
    "<h2> Комментарий ревьюера V3<a class=\"tocSkip\"> </h2>\n",
    "\n",
    "<b>Все отлично!👍:</b> Отлично, продолжай в том же духе!"
   ]
  },
  {
   "cell_type": "markdown",
   "metadata": {},
   "source": [
    "<div class=\"alert alert-success\">\n",
    "<h2> Комментарий ревьюера V1<a class=\"tocSkip\"> </h2>\n",
    "\n",
    "<b>Все отлично!👍:</b> Сам подход обработки правильный, хорошее решение удалить все типы, чтобы избавиться от неявных дубликатов."
   ]
  },
  {
   "cell_type": "markdown",
   "metadata": {},
   "source": [
    "v2. \n",
    "1. Столбец 'locality_name' - все значения приведены к нижнему регистру, буква ё изменена на е, удалены населенные пункты \"поселок\", \"деревня\" и тд \n",
    "2. Обнаружены пропуски: 'locality_name' - заменены на \"другое\""
   ]
  },
  {
   "cell_type": "code",
   "execution_count": 11,
   "metadata": {},
   "outputs": [
    {
     "data": {
      "text/plain": [
       "array([[<AxesSubplot:title={'center':'total_images'}>,\n",
       "        <AxesSubplot:title={'center':'last_price'}>,\n",
       "        <AxesSubplot:title={'center':'total_area'}>,\n",
       "        <AxesSubplot:title={'center':'first_day_exposition'}>],\n",
       "       [<AxesSubplot:title={'center':'rooms'}>,\n",
       "        <AxesSubplot:title={'center':'ceiling_height'}>,\n",
       "        <AxesSubplot:title={'center':'floors_total'}>,\n",
       "        <AxesSubplot:title={'center':'living_area'}>],\n",
       "       [<AxesSubplot:title={'center':'floor'}>,\n",
       "        <AxesSubplot:title={'center':'kitchen_area'}>,\n",
       "        <AxesSubplot:title={'center':'balcony'}>,\n",
       "        <AxesSubplot:title={'center':'airports_nearest'}>],\n",
       "       [<AxesSubplot:title={'center':'cityCenters_nearest'}>,\n",
       "        <AxesSubplot:title={'center':'parks_around3000'}>,\n",
       "        <AxesSubplot:title={'center':'parks_nearest'}>,\n",
       "        <AxesSubplot:title={'center':'ponds_around3000'}>],\n",
       "       [<AxesSubplot:title={'center':'ponds_nearest'}>,\n",
       "        <AxesSubplot:title={'center':'days_exposition'}>, <AxesSubplot:>,\n",
       "        <AxesSubplot:>]], dtype=object)"
      ]
     },
     "execution_count": 11,
     "metadata": {},
     "output_type": "execute_result"
    },
    {
     "data": {
      "image/png": "[encoded data removed]",
      "text/plain": [
       "<Figure size 1080x1440 with 20 Axes>"
      ]
     },
     "metadata": {
      "needs_background": "light"
     },
     "output_type": "display_data"
    }
   ],
   "source": [
    "data.hist(bins=100, figsize=(15, 20))"
   ]
  },
  {
   "cell_type": "code",
   "execution_count": 12,
   "metadata": {},
   "outputs": [
    {
     "name": "stdout",
     "output_type": "stream",
     "text": [
      "<class 'pandas.core.frame.DataFrame'>\n",
      "Int64Index: 18640 entries, 1 to 23698\n",
      "Data columns (total 22 columns):\n",
      " #   Column                Non-Null Count  Dtype         \n",
      "---  ------                --------------  -----         \n",
      " 0   total_images          18640 non-null  int64         \n",
      " 1   last_price            18640 non-null  float64       \n",
      " 2   total_area            18640 non-null  float64       \n",
      " 3   first_day_exposition  18640 non-null  datetime64[ns]\n",
      " 4   rooms                 18640 non-null  int64         \n",
      " 5   ceiling_height        18640 non-null  float64       \n",
      " 6   floors_total          18640 non-null  float64       \n",
      " 7   living_area           18640 non-null  float64       \n",
      " 8   floor                 18640 non-null  int64         \n",
      " 9   is_apartment          18640 non-null  bool          \n",
      " 10  studio                18640 non-null  bool          \n",
      " 11  open_plan             18640 non-null  bool          \n",
      " 12  kitchen_area          18640 non-null  float64       \n",
      " 13  balcony               18640 non-null  float64       \n",
      " 14  locality_name         18640 non-null  object        \n",
      " 15  airports_nearest      13641 non-null  float64       \n",
      " 16  cityCenters_nearest   13653 non-null  float64       \n",
      " 17  parks_around3000      13653 non-null  float64       \n",
      " 18  parks_nearest         5744 non-null   float64       \n",
      " 19  ponds_around3000      13653 non-null  float64       \n",
      " 20  ponds_nearest         6516 non-null   float64       \n",
      " 21  days_exposition       16393 non-null  float64       \n",
      "dtypes: bool(3), datetime64[ns](1), float64(14), int64(3), object(1)\n",
      "memory usage: 2.9+ MB\n"
     ]
    }
   ],
   "source": [
    "data.isnull().sum()\n",
    "#удаляем лишние строки, которые не характеризуют выборку\n",
    "data = data.query('2.5 <= ceiling_height <= 3.25 & last_price <= 10000000 & \\\n",
    "                    floors_total <= 24 & total_area <= 200 & living_area <= 100 & \\\n",
    "                    kitchen_area <= 30 & floor <= 24 & 0 < rooms <= 5 & balcony <= 2')\n",
    "data.isnull().sum()\n",
    "data.info()"
   ]
  },
  {
   "cell_type": "markdown",
   "metadata": {},
   "source": [
    "<div class=\"alert alert-block alert-danger\">\n",
    "<h2> Комментарий ревьюера V1<a class=\"tocSkip\"></h2>\n",
    "\n",
    "\n",
    "<b>На доработку🤔:</b>\n",
    "Молодец, что обрабатываешь выбросы, но в данном случае есть один подвох. Ты не учел пропуски в параметрах, по которым производишь фильтрацию. Из-за этого от 23000 строк в датафрейме осталось меньше 5000, это грубая ошибка. Если сравнить np.nan с любым числом, то получим False, поэтому при фильтрации нужно сохранить значения, где есть пропуски."
   ]
  },
  {
   "cell_type": "markdown",
   "metadata": {},
   "source": [
    "v2. \n",
    "\"Лишние\" данные, выходящие за пределы нормального распределения удаляем, при этом их показатели не влияют на общую выборку.<br>\n",
    "<font color='green'>v3. Удалили только \"лишние\" только там где нет пропусков."
   ]
  },
  {
   "cell_type": "markdown",
   "metadata": {},
   "source": [
    "<div class=\"alert alert-success\">\n",
    "<h2> Комментарий ревьюера V3<a class=\"tocSkip\"> </h2>\n",
    "\n",
    "<b>Все отлично!👍:</b> Все правильно отфильтровал."
   ]
  },
  {
   "cell_type": "code",
   "execution_count": 13,
   "metadata": {},
   "outputs": [
    {
     "data": {
      "text/plain": [
       "array([[<AxesSubplot:title={'center':'total_images'}>,\n",
       "        <AxesSubplot:title={'center':'last_price'}>,\n",
       "        <AxesSubplot:title={'center':'total_area'}>,\n",
       "        <AxesSubplot:title={'center':'first_day_exposition'}>],\n",
       "       [<AxesSubplot:title={'center':'rooms'}>,\n",
       "        <AxesSubplot:title={'center':'ceiling_height'}>,\n",
       "        <AxesSubplot:title={'center':'floors_total'}>,\n",
       "        <AxesSubplot:title={'center':'living_area'}>],\n",
       "       [<AxesSubplot:title={'center':'floor'}>,\n",
       "        <AxesSubplot:title={'center':'kitchen_area'}>,\n",
       "        <AxesSubplot:title={'center':'balcony'}>,\n",
       "        <AxesSubplot:title={'center':'airports_nearest'}>],\n",
       "       [<AxesSubplot:title={'center':'cityCenters_nearest'}>,\n",
       "        <AxesSubplot:title={'center':'parks_around3000'}>,\n",
       "        <AxesSubplot:title={'center':'parks_nearest'}>,\n",
       "        <AxesSubplot:title={'center':'ponds_around3000'}>],\n",
       "       [<AxesSubplot:title={'center':'ponds_nearest'}>,\n",
       "        <AxesSubplot:title={'center':'days_exposition'}>, <AxesSubplot:>,\n",
       "        <AxesSubplot:>]], dtype=object)"
      ]
     },
     "execution_count": 13,
     "metadata": {},
     "output_type": "execute_result"
    },
    {
     "data": {
      "image/png": "[encoded data removed]",
      "text/plain": [
       "<Figure size 1080x1440 with 20 Axes>"
      ]
     },
     "metadata": {
      "needs_background": "light"
     },
     "output_type": "display_data"
    }
   ],
   "source": [
    "data.hist(bins=100, figsize=(15, 20))"
   ]
  },
  {
   "cell_type": "code",
   "execution_count": 15,
   "metadata": {},
   "outputs": [],
   "source": [
    "good_data = data"
   ]
  },
  {
   "cell_type": "markdown",
   "metadata": {},
   "source": [
    "### Посчитайте и добавьте в таблицу новые столбцы"
   ]
  },
  {
   "cell_type": "code",
   "execution_count": 16,
   "metadata": {},
   "outputs": [
    {
     "data": {
      "text/html": [
       "<div>\n",
       "<style scoped>\n",
       "    .dataframe tbody tr th:only-of-type {\n",
       "        vertical-align: middle;\n",
       "    }\n",
       "\n",
       "    .dataframe tbody tr th {\n",
       "        vertical-align: top;\n",
       "    }\n",
       "\n",
       "    .dataframe thead th {\n",
       "        text-align: right;\n",
       "    }\n",
       "</style>\n",
       "<table border=\"1\" class=\"dataframe\">\n",
       "  <thead>\n",
       "    <tr style=\"text-align: right;\">\n",
       "      <th></th>\n",
       "      <th>total_images</th>\n",
       "      <th>last_price</th>\n",
       "      <th>total_area</th>\n",
       "      <th>first_day_exposition</th>\n",
       "      <th>rooms</th>\n",
       "      <th>ceiling_height</th>\n",
       "      <th>floors_total</th>\n",
       "      <th>living_area</th>\n",
       "      <th>floor</th>\n",
       "      <th>is_apartment</th>\n",
       "      <th>...</th>\n",
       "      <th>parks_nearest</th>\n",
       "      <th>ponds_around3000</th>\n",
       "      <th>ponds_nearest</th>\n",
       "      <th>days_exposition</th>\n",
       "      <th>metr_price</th>\n",
       "      <th>day_of_week</th>\n",
       "      <th>month</th>\n",
       "      <th>year</th>\n",
       "      <th>type_floor</th>\n",
       "      <th>cityCenters_nearest_km</th>\n",
       "    </tr>\n",
       "  </thead>\n",
       "  <tbody>\n",
       "    <tr>\n",
       "      <th>1</th>\n",
       "      <td>7</td>\n",
       "      <td>3350000.0</td>\n",
       "      <td>40.4</td>\n",
       "      <td>2018-12-04</td>\n",
       "      <td>1</td>\n",
       "      <td>2.64</td>\n",
       "      <td>11.0</td>\n",
       "      <td>18.6</td>\n",
       "      <td>1</td>\n",
       "      <td>False</td>\n",
       "      <td>...</td>\n",
       "      <td>NaN</td>\n",
       "      <td>0.0</td>\n",
       "      <td>NaN</td>\n",
       "      <td>81.0</td>\n",
       "      <td>82920.79</td>\n",
       "      <td>1</td>\n",
       "      <td>12</td>\n",
       "      <td>2018</td>\n",
       "      <td>первый</td>\n",
       "      <td>19.0</td>\n",
       "    </tr>\n",
       "    <tr>\n",
       "      <th>2</th>\n",
       "      <td>10</td>\n",
       "      <td>5196000.0</td>\n",
       "      <td>56.0</td>\n",
       "      <td>2015-08-20</td>\n",
       "      <td>2</td>\n",
       "      <td>2.60</td>\n",
       "      <td>5.0</td>\n",
       "      <td>34.3</td>\n",
       "      <td>4</td>\n",
       "      <td>False</td>\n",
       "      <td>...</td>\n",
       "      <td>90.0</td>\n",
       "      <td>2.0</td>\n",
       "      <td>574.0</td>\n",
       "      <td>558.0</td>\n",
       "      <td>92785.71</td>\n",
       "      <td>3</td>\n",
       "      <td>8</td>\n",
       "      <td>2015</td>\n",
       "      <td>другой</td>\n",
       "      <td>14.0</td>\n",
       "    </tr>\n",
       "    <tr>\n",
       "      <th>5</th>\n",
       "      <td>10</td>\n",
       "      <td>2890000.0</td>\n",
       "      <td>30.4</td>\n",
       "      <td>2018-09-10</td>\n",
       "      <td>1</td>\n",
       "      <td>2.64</td>\n",
       "      <td>12.0</td>\n",
       "      <td>14.4</td>\n",
       "      <td>5</td>\n",
       "      <td>False</td>\n",
       "      <td>...</td>\n",
       "      <td>NaN</td>\n",
       "      <td>NaN</td>\n",
       "      <td>NaN</td>\n",
       "      <td>55.0</td>\n",
       "      <td>95065.79</td>\n",
       "      <td>0</td>\n",
       "      <td>9</td>\n",
       "      <td>2018</td>\n",
       "      <td>другой</td>\n",
       "      <td>NaN</td>\n",
       "    </tr>\n",
       "    <tr>\n",
       "      <th>7</th>\n",
       "      <td>5</td>\n",
       "      <td>7915000.0</td>\n",
       "      <td>71.6</td>\n",
       "      <td>2019-04-18</td>\n",
       "      <td>2</td>\n",
       "      <td>2.60</td>\n",
       "      <td>24.0</td>\n",
       "      <td>30.5</td>\n",
       "      <td>22</td>\n",
       "      <td>False</td>\n",
       "      <td>...</td>\n",
       "      <td>NaN</td>\n",
       "      <td>0.0</td>\n",
       "      <td>NaN</td>\n",
       "      <td>NaN</td>\n",
       "      <td>110544.69</td>\n",
       "      <td>3</td>\n",
       "      <td>4</td>\n",
       "      <td>2019</td>\n",
       "      <td>другой</td>\n",
       "      <td>12.0</td>\n",
       "    </tr>\n",
       "    <tr>\n",
       "      <th>9</th>\n",
       "      <td>18</td>\n",
       "      <td>5400000.0</td>\n",
       "      <td>61.0</td>\n",
       "      <td>2017-02-26</td>\n",
       "      <td>3</td>\n",
       "      <td>2.50</td>\n",
       "      <td>9.0</td>\n",
       "      <td>43.6</td>\n",
       "      <td>7</td>\n",
       "      <td>False</td>\n",
       "      <td>...</td>\n",
       "      <td>NaN</td>\n",
       "      <td>0.0</td>\n",
       "      <td>NaN</td>\n",
       "      <td>289.0</td>\n",
       "      <td>88524.59</td>\n",
       "      <td>6</td>\n",
       "      <td>2</td>\n",
       "      <td>2017</td>\n",
       "      <td>другой</td>\n",
       "      <td>15.0</td>\n",
       "    </tr>\n",
       "    <tr>\n",
       "      <th>10</th>\n",
       "      <td>5</td>\n",
       "      <td>5050000.0</td>\n",
       "      <td>39.6</td>\n",
       "      <td>2017-11-16</td>\n",
       "      <td>1</td>\n",
       "      <td>2.67</td>\n",
       "      <td>12.0</td>\n",
       "      <td>20.3</td>\n",
       "      <td>3</td>\n",
       "      <td>False</td>\n",
       "      <td>...</td>\n",
       "      <td>310.0</td>\n",
       "      <td>2.0</td>\n",
       "      <td>553.0</td>\n",
       "      <td>137.0</td>\n",
       "      <td>127525.25</td>\n",
       "      <td>3</td>\n",
       "      <td>11</td>\n",
       "      <td>2017</td>\n",
       "      <td>другой</td>\n",
       "      <td>14.0</td>\n",
       "    </tr>\n",
       "    <tr>\n",
       "      <th>11</th>\n",
       "      <td>9</td>\n",
       "      <td>3300000.0</td>\n",
       "      <td>44.0</td>\n",
       "      <td>2018-08-27</td>\n",
       "      <td>2</td>\n",
       "      <td>2.60</td>\n",
       "      <td>5.0</td>\n",
       "      <td>31.0</td>\n",
       "      <td>4</td>\n",
       "      <td>False</td>\n",
       "      <td>...</td>\n",
       "      <td>NaN</td>\n",
       "      <td>0.0</td>\n",
       "      <td>NaN</td>\n",
       "      <td>7.0</td>\n",
       "      <td>75000.00</td>\n",
       "      <td>0</td>\n",
       "      <td>8</td>\n",
       "      <td>2018</td>\n",
       "      <td>другой</td>\n",
       "      <td>52.0</td>\n",
       "    </tr>\n",
       "    <tr>\n",
       "      <th>12</th>\n",
       "      <td>10</td>\n",
       "      <td>3890000.0</td>\n",
       "      <td>54.0</td>\n",
       "      <td>2016-06-30</td>\n",
       "      <td>2</td>\n",
       "      <td>2.60</td>\n",
       "      <td>5.0</td>\n",
       "      <td>30.0</td>\n",
       "      <td>5</td>\n",
       "      <td>False</td>\n",
       "      <td>...</td>\n",
       "      <td>NaN</td>\n",
       "      <td>NaN</td>\n",
       "      <td>NaN</td>\n",
       "      <td>90.0</td>\n",
       "      <td>72037.04</td>\n",
       "      <td>3</td>\n",
       "      <td>6</td>\n",
       "      <td>2016</td>\n",
       "      <td>последний</td>\n",
       "      <td>NaN</td>\n",
       "    </tr>\n",
       "    <tr>\n",
       "      <th>13</th>\n",
       "      <td>20</td>\n",
       "      <td>3550000.0</td>\n",
       "      <td>42.8</td>\n",
       "      <td>2017-07-01</td>\n",
       "      <td>2</td>\n",
       "      <td>2.56</td>\n",
       "      <td>5.0</td>\n",
       "      <td>27.0</td>\n",
       "      <td>5</td>\n",
       "      <td>False</td>\n",
       "      <td>...</td>\n",
       "      <td>294.0</td>\n",
       "      <td>3.0</td>\n",
       "      <td>298.0</td>\n",
       "      <td>366.0</td>\n",
       "      <td>82943.93</td>\n",
       "      <td>5</td>\n",
       "      <td>7</td>\n",
       "      <td>2017</td>\n",
       "      <td>последний</td>\n",
       "      <td>33.0</td>\n",
       "    </tr>\n",
       "    <tr>\n",
       "      <th>14</th>\n",
       "      <td>1</td>\n",
       "      <td>4400000.0</td>\n",
       "      <td>36.0</td>\n",
       "      <td>2016-06-23</td>\n",
       "      <td>1</td>\n",
       "      <td>2.64</td>\n",
       "      <td>6.0</td>\n",
       "      <td>17.0</td>\n",
       "      <td>1</td>\n",
       "      <td>False</td>\n",
       "      <td>...</td>\n",
       "      <td>NaN</td>\n",
       "      <td>1.0</td>\n",
       "      <td>96.0</td>\n",
       "      <td>203.0</td>\n",
       "      <td>122222.22</td>\n",
       "      <td>3</td>\n",
       "      <td>6</td>\n",
       "      <td>2016</td>\n",
       "      <td>первый</td>\n",
       "      <td>31.0</td>\n",
       "    </tr>\n",
       "  </tbody>\n",
       "</table>\n",
       "<p>10 rows × 28 columns</p>\n",
       "</div>"
      ],
      "text/plain": [
       "    total_images  last_price  total_area first_day_exposition  rooms  \\\n",
       "1              7   3350000.0        40.4           2018-12-04      1   \n",
       "2             10   5196000.0        56.0           2015-08-20      2   \n",
       "5             10   2890000.0        30.4           2018-09-10      1   \n",
       "7              5   7915000.0        71.6           2019-04-18      2   \n",
       "9             18   5400000.0        61.0           2017-02-26      3   \n",
       "10             5   5050000.0        39.6           2017-11-16      1   \n",
       "11             9   3300000.0        44.0           2018-08-27      2   \n",
       "12            10   3890000.0        54.0           2016-06-30      2   \n",
       "13            20   3550000.0        42.8           2017-07-01      2   \n",
       "14             1   4400000.0        36.0           2016-06-23      1   \n",
       "\n",
       "    ceiling_height  floors_total  living_area  floor  is_apartment  ...  \\\n",
       "1             2.64          11.0         18.6      1         False  ...   \n",
       "2             2.60           5.0         34.3      4         False  ...   \n",
       "5             2.64          12.0         14.4      5         False  ...   \n",
       "7             2.60          24.0         30.5     22         False  ...   \n",
       "9             2.50           9.0         43.6      7         False  ...   \n",
       "10            2.67          12.0         20.3      3         False  ...   \n",
       "11            2.60           5.0         31.0      4         False  ...   \n",
       "12            2.60           5.0         30.0      5         False  ...   \n",
       "13            2.56           5.0         27.0      5         False  ...   \n",
       "14            2.64           6.0         17.0      1         False  ...   \n",
       "\n",
       "    parks_nearest  ponds_around3000  ponds_nearest  days_exposition  \\\n",
       "1             NaN               0.0            NaN             81.0   \n",
       "2            90.0               2.0          574.0            558.0   \n",
       "5             NaN               NaN            NaN             55.0   \n",
       "7             NaN               0.0            NaN              NaN   \n",
       "9             NaN               0.0            NaN            289.0   \n",
       "10          310.0               2.0          553.0            137.0   \n",
       "11            NaN               0.0            NaN              7.0   \n",
       "12            NaN               NaN            NaN             90.0   \n",
       "13          294.0               3.0          298.0            366.0   \n",
       "14            NaN               1.0           96.0            203.0   \n",
       "\n",
       "   metr_price  day_of_week  month  year  type_floor  cityCenters_nearest_km  \n",
       "1    82920.79            1     12  2018      первый                    19.0  \n",
       "2    92785.71            3      8  2015      другой                    14.0  \n",
       "5    95065.79            0      9  2018      другой                     NaN  \n",
       "7   110544.69            3      4  2019      другой                    12.0  \n",
       "9    88524.59            6      2  2017      другой                    15.0  \n",
       "10  127525.25            3     11  2017      другой                    14.0  \n",
       "11   75000.00            0      8  2018      другой                    52.0  \n",
       "12   72037.04            3      6  2016   последний                     NaN  \n",
       "13   82943.93            5      7  2017   последний                    33.0  \n",
       "14  122222.22            3      6  2016      первый                    31.0  \n",
       "\n",
       "[10 rows x 28 columns]"
      ]
     },
     "metadata": {},
     "output_type": "display_data"
    },
    {
     "name": "stdout",
     "output_type": "stream",
     "text": [
      "<class 'pandas.core.frame.DataFrame'>\n",
      "Int64Index: 18640 entries, 1 to 23698\n",
      "Data columns (total 28 columns):\n",
      " #   Column                  Non-Null Count  Dtype         \n",
      "---  ------                  --------------  -----         \n",
      " 0   total_images            18640 non-null  int64         \n",
      " 1   last_price              18640 non-null  float64       \n",
      " 2   total_area              18640 non-null  float64       \n",
      " 3   first_day_exposition    18640 non-null  datetime64[ns]\n",
      " 4   rooms                   18640 non-null  int64         \n",
      " 5   ceiling_height          18640 non-null  float64       \n",
      " 6   floors_total            18640 non-null  float64       \n",
      " 7   living_area             18640 non-null  float64       \n",
      " 8   floor                   18640 non-null  int64         \n",
      " 9   is_apartment            18640 non-null  bool          \n",
      " 10  studio                  18640 non-null  bool          \n",
      " 11  open_plan               18640 non-null  bool          \n",
      " 12  kitchen_area            18640 non-null  float64       \n",
      " 13  balcony                 18640 non-null  float64       \n",
      " 14  locality_name           18640 non-null  object        \n",
      " 15  airports_nearest        13641 non-null  float64       \n",
      " 16  cityCenters_nearest     13653 non-null  float64       \n",
      " 17  parks_around3000        13653 non-null  float64       \n",
      " 18  parks_nearest           5744 non-null   float64       \n",
      " 19  ponds_around3000        13653 non-null  float64       \n",
      " 20  ponds_nearest           6516 non-null   float64       \n",
      " 21  days_exposition         16393 non-null  float64       \n",
      " 22  metr_price              18640 non-null  float64       \n",
      " 23  day_of_week             18640 non-null  int64         \n",
      " 24  month                   18640 non-null  int64         \n",
      " 25  year                    18640 non-null  int64         \n",
      " 26  type_floor              18640 non-null  object        \n",
      " 27  cityCenters_nearest_km  13653 non-null  float64       \n",
      "dtypes: bool(3), datetime64[ns](1), float64(16), int64(6), object(2)\n",
      "memory usage: 3.8+ MB\n"
     ]
    }
   ],
   "source": [
    "#добавление столбца стоимости м2\n",
    "good_data['metr_price'] = (good_data['last_price'] / good_data['total_area']).round(decimals=2)\n",
    "#добавление столбца дня недели\n",
    "good_data['day_of_week'] = good_data['first_day_exposition']. dt.weekday\n",
    "#добавление столбца месяц\n",
    "good_data['month'] = pd.DatetimeIndex(good_data['first_day_exposition']).month\n",
    "#добавление столбца год\n",
    "good_data['year'] = pd.DatetimeIndex(good_data['first_day_exposition']).year\n",
    "#создание функции типа этажа - первый, последний, другой\n",
    "def type_floor(row):\n",
    "    floors_total = row['floors_total']\n",
    "    floor = row['floor']\n",
    "    if floors_total - floor == 0:\n",
    "        return 'последний'\n",
    "    elif floors_total - floor == floors_total - 1:\n",
    "        return 'первый'\n",
    "    else:\n",
    "        return 'другой'\n",
    "#добавление столбца тип этажа\n",
    "good_data['type_floor'] = good_data.apply(type_floor, axis=1)\n",
    "#добавление столбца расстояние до центра в км\n",
    "good_data['cityCenters_nearest_km'] = (good_data['cityCenters_nearest'] / 1000).round()\n",
    "display(good_data.head(10))\n",
    "good_data.info()"
   ]
  },
  {
   "cell_type": "markdown",
   "metadata": {},
   "source": [
    "<div class=\"alert alert-success\">\n",
    "<h2> Комментарий ревьюера V1<a class=\"tocSkip\"> </h2>\n",
    "\n",
    "<b>Все отлично!👍:</b> Новые столбцы создал правильно, так держать!"
   ]
  },
  {
   "cell_type": "markdown",
   "metadata": {},
   "source": [
    "### Проведите исследовательский анализ данных"
   ]
  },
  {
   "cell_type": "code",
   "execution_count": 15,
   "metadata": {},
   "outputs": [
    {
     "data": {
      "text/plain": [
       "<AxesSubplot:>"
      ]
     },
     "execution_count": 15,
     "metadata": {},
     "output_type": "execute_result"
    },
    {
     "data": {
      "image/png": "[encoded data removed]",
      "text/plain": [
       "<Figure size 288x288 with 1 Axes>"
      ]
     },
     "metadata": {
      "needs_background": "light"
     },
     "output_type": "display_data"
    }
   ],
   "source": [
    "#Отдельно строим гитограмму по типу этажа\n",
    "type_count = good_data['type_floor'].value_counts()\n",
    "type_count.plot(kind='bar', figsize=(4, 4))"
   ]
  },
  {
   "cell_type": "markdown",
   "metadata": {},
   "source": [
    "v2. Большая часть квартир имеет тип этажа \"другой\", но в тоже время можно сказать, что в принципе продаются квартиры разной этажности."
   ]
  },
  {
   "cell_type": "code",
   "execution_count": 16,
   "metadata": {},
   "outputs": [
    {
     "data": {
      "image/png": "[encoded data removed]",
      "text/plain": [
       "<Figure size 288x288 with 1 Axes>"
      ]
     },
     "metadata": {
      "needs_background": "light"
     },
     "output_type": "display_data"
    },
    {
     "data": {
      "image/png": "[encoded data removed]",
      "text/plain": [
       "<Figure size 288x288 with 1 Axes>"
      ]
     },
     "metadata": {
      "needs_background": "light"
     },
     "output_type": "display_data"
    },
    {
     "data": {
      "image/png": "[encoded data removed]",
      "text/plain": [
       "<Figure size 288x288 with 1 Axes>"
      ]
     },
     "metadata": {
      "needs_background": "light"
     },
     "output_type": "display_data"
    },
    {
     "data": {
      "image/png": "[encoded data removed]",
      "text/plain": [
       "<Figure size 288x288 with 1 Axes>"
      ]
     },
     "metadata": {
      "needs_background": "light"
     },
     "output_type": "display_data"
    },
    {
     "data": {
      "image/png": "[encoded data removed]",
      "text/plain": [
       "<Figure size 288x288 with 1 Axes>"
      ]
     },
     "metadata": {
      "needs_background": "light"
     },
     "output_type": "display_data"
    },
    {
     "data": {
      "image/png": "[encoded data removed]",
      "text/plain": [
       "<Figure size 288x288 with 1 Axes>"
      ]
     },
     "metadata": {
      "needs_background": "light"
     },
     "output_type": "display_data"
    },
    {
     "data": {
      "image/png": "[encoded data removed]",
      "text/plain": [
       "<Figure size 288x288 with 1 Axes>"
      ]
     },
     "metadata": {
      "needs_background": "light"
     },
     "output_type": "display_data"
    },
    {
     "data": {
      "image/png": "[encoded data removed]",
      "text/plain": [
       "<Figure size 288x288 with 1 Axes>"
      ]
     },
     "metadata": {
      "needs_background": "light"
     },
     "output_type": "display_data"
    },
    {
     "data": {
      "image/png": "[encoded data removed]",
      "text/plain": [
       "<Figure size 288x288 with 1 Axes>"
      ]
     },
     "metadata": {
      "needs_background": "light"
     },
     "output_type": "display_data"
    },
    {
     "data": {
      "image/png": "[encoded data removed]",
      "text/plain": [
       "<Figure size 288x288 with 1 Axes>"
      ]
     },
     "metadata": {
      "needs_background": "light"
     },
     "output_type": "display_data"
    },
    {
     "data": {
      "image/png": "[encoded data removed]",
      "text/plain": [
       "<Figure size 288x288 with 1 Axes>"
      ]
     },
     "metadata": {
      "needs_background": "light"
     },
     "output_type": "display_data"
    },
    {
     "data": {
      "image/png": "[encoded data removed]",
      "text/plain": [
       "<Figure size 288x288 with 1 Axes>"
      ]
     },
     "metadata": {
      "needs_background": "light"
     },
     "output_type": "display_data"
    },
    {
     "data": {
      "image/png": "[encoded data removed]",
      "text/plain": [
       "<Figure size 288x288 with 1 Axes>"
      ]
     },
     "metadata": {
      "needs_background": "light"
     },
     "output_type": "display_data"
    },
    {
     "data": {
      "image/png": "[encoded data removed]",
      "text/plain": [
       "<Figure size 288x288 with 1 Axes>"
      ]
     },
     "metadata": {
      "needs_background": "light"
     },
     "output_type": "display_data"
    }
   ],
   "source": [
    "#Строим гистограммы по заданию\n",
    "good_data_param = ['total_area', 'living_area', 'kitchen_area', 'last_price', 'rooms', 'ceiling_height', \\\n",
    "                   'floor', 'floors_total', 'cityCenters_nearest', 'airports_nearest', 'parks_nearest', \\\n",
    "                   'day_of_week', 'month', 'days_exposition']\n",
    "for column in good_data_param:\n",
    "    good_data.hist(column, bins=100, figsize=(4, 4))\n"
   ]
  },
  {
   "cell_type": "markdown",
   "metadata": {},
   "source": [
    "v2. \n",
    "1. Общая площадь, жилая площадь и площадь кухни. На графиках видны четкие всплески, которые можно характеризовать типовыми квартирами: студии,1 - 25м2, 2 - 40м2, 3-60-70м2, их продается значительная доля. Опережает конечно всех, это студии и однокомнатные квартиры - это тенденция последних лет.\n",
    "2. Цена - Мы видим нормально распределение по цене, но можно отметить, что основные продажи проходят по цене от 3 до 5 млн.\n",
    "3. Количество комнат. Как мы видели на графике общей площади, основные продажи приходятся на 1-2 комнатные квартиры, в 1,5 раза меньше на 3х комнатные. 4-5 продаются редко.\n",
    "4. Если посмотреть на график этажа, то можно выделить 3 группы: Это группа до 5го этажа, и их продается большинство, группа до 10го этажа, их продается в 2 раза меньше и остальные. Скорее всего можно предположить что здесь большую роль играет старый жилой фонд, когда дома строились до 5 этажей, а также фонд советстких времен, когда строили дома 9,10,12,16 этажей. Также большую роль здесь оказывают малые гоорода из области, где высотная застройка не ведется.\n",
    "5. Высота потолков - основная доля квартир имеет потолки от 2,5м; 2,6м; 2,65м. Но есть и другие варианты, но они менее значительны.\n",
    "6. Основная доля квартир продается в 12 и 15 км от центра, это вполне возможно с развитием новых ЖК.\n",
    "7. Расстояние до аэропорта имеет три выраженных всплеска, в 15, 26 и 35 км.\n",
    "8. Расстояние до парков имеет нормальное распределение, расстояние от основной доли квартир до парка не превышает 1000 м.\n",
    "9. Дни недели - в основном сделки проходят в рабочие дни, реже в выходные.\n",
    "10. На графике месяца мы видим сезонные всплески продаж весной и осенью.\n",
    "11. Количество дней размещения - здесь мы видим, что в основном обьесты продаются в течении 100 дней, но бывают продажи доходят до 3 лет."
   ]
  },
  {
   "cell_type": "markdown",
   "metadata": {},
   "source": [
    "<div class=\"alert alert-warning\">\n",
    "<h2> Комментарий ревьюера V1<a class=\"tocSkip\"> </h2>\n",
    "\n",
    "<b>Некоторые замечания и рекомендации💡:</b> Стоит более подробно проводить анализ, можно рассмотреть также статистики случайных величин и проанализировать их, можно дополнить пункт диаграммами размаха. Основные особенности случайных величин описал верно."
   ]
  },
  {
   "cell_type": "code",
   "execution_count": 17,
   "metadata": {},
   "outputs": [
    {
     "name": "stdout",
     "output_type": "stream",
     "text": [
      "                 median        mean\n",
      "locality_name                      \n",
      "агалатово          42.0  223.666667\n",
      "александровская    45.0   45.000000\n",
      "алексеевка        416.0  416.000000\n",
      "аннино            172.0  265.384615\n",
      "аро               137.0  137.000000\n",
      "...                 ...         ...\n",
      "юкки               34.0   34.000000\n",
      "ялгино             45.0   45.000000\n",
      "яльгелево           7.0   33.666667\n",
      "ям-тесово          82.5   82.500000\n",
      "янино-1            58.0  123.454545\n",
      "\n",
      "[276 rows x 2 columns]\n"
     ]
    },
    {
     "data": {
      "image/png": "[encoded data removed]",
      "text/plain": [
       "<Figure size 288x288 with 1 Axes>"
      ]
     },
     "metadata": {
      "needs_background": "light"
     },
     "output_type": "display_data"
    }
   ],
   "source": [
    "good_data.hist('days_exposition', bins=50, figsize=(4, 4))\n",
    "#Считаем среднее и медиану для 'days_exposition'    \n",
    "days_stat = good_data['days_exposition'].value_counts(ascending=False)\n",
    "#display(days_stat.head(20))\n",
    "days_stat_median = good_data.pivot_table(index='locality_name', values='days_exposition', aggfunc=['median', 'mean'])\n",
    "days_stat_median.columns = ['median', 'mean']\n",
    "print(days_stat_median)\n",
    "\n",
    "\n",
    "\n",
    "\n",
    "#days_stat_median.plot(x=index, y='median', kind='hist', bins=100, figsize(4,4))\n",
    "#days_stat_median.hist('mean', bins=100, figsize(4,4))\n",
    "#good_data.hist(column, bins=100, figsize=(4, 4))"
   ]
  },
  {
   "cell_type": "code",
   "execution_count": 18,
   "metadata": {},
   "outputs": [
    {
     "name": "stdout",
     "output_type": "stream",
     "text": [
      "                 median        mean\n",
      "locality_name                      \n",
      "агалатово          23.5   23.500000\n",
      "александровская    45.0   45.000000\n",
      "алексеевка        416.0  416.000000\n",
      "аннино            102.0  128.600000\n",
      "аро               137.0  137.000000\n",
      "...                 ...         ...\n",
      "юкки               34.0   34.000000\n",
      "ялгино             45.0   45.000000\n",
      "яльгелево           7.0   33.666667\n",
      "ям-тесово          82.5   82.500000\n",
      "янино-1            55.0   97.150943\n",
      "\n",
      "[272 rows x 2 columns]\n"
     ]
    },
    {
     "data": {
      "text/plain": [
       "array([[<AxesSubplot:title={'center':'days_exposition'}>]], dtype=object)"
      ]
     },
     "execution_count": 18,
     "metadata": {},
     "output_type": "execute_result"
    },
    {
     "data": {
      "image/png": "[encoded data removed]",
      "text/plain": [
       "<Figure size 288x288 with 1 Axes>"
      ]
     },
     "metadata": {
      "needs_background": "light"
     },
     "output_type": "display_data"
    }
   ],
   "source": [
    "good_data.isnull().sum()\n",
    "#удаляем лишние строки, которые не характеризуют выборку\n",
    "good_data_days = good_data.query('days_exposition < 500')\n",
    "#Считаем среднее и медиану для 'days_exposition'    \n",
    "\n",
    "days_stat_median_days = good_data_days.pivot_table(index='locality_name', values='days_exposition', aggfunc=['median', 'mean'])\n",
    "days_stat_median_days.columns = ['median', 'mean']\n",
    "print(days_stat_median_days)\n",
    "good_data_days.hist('days_exposition', bins=50, figsize=(4, 4))"
   ]
  },
  {
   "cell_type": "markdown",
   "metadata": {},
   "source": [
    "v2.\n",
    "1. Меньше всего дней на продажу обьекта понадобится в колпино, больше всего в павловске. Обьекты \"другое\" не могут быть идентифицированы по населенному пункту, мы не можем сказать к чему они относятся. В некоторых нас пунктах среднее и медиана отличаются, как правило среднее меньше медианы, это говорит о том, что есть достаточно много обьектов с малым временем экспозиции.\n",
    "\n",
    "<font color='green'>v3. По графику , как я уже указывал ранее, видно, что основная масса продаж происходит до 60 дней экспозиции, их можно считать быстрыми, от 60 до 260 дней - их меньше, можно назвать средними, но бывают обьекты, продажи которых происходят и до 4х лет, но их не большое количество. Мы видим, что медиана сильно меньше чем среднее значение, на это влияют выбросы с большим временем экспозиции. Если мы \"обрежем хвост\" данных до например 500 дней экспозиции, то мы увидим, что показатели медианы и среднего почти сравнялись, так как на срез данных перестали оказывать продажи с очень длинным сроком."
   ]
  },
  {
   "cell_type": "markdown",
   "metadata": {},
   "source": [
    "<div class=\"alert alert-block alert-danger\">\n",
    "<h2> Комментарий ревьюера V1<a class=\"tocSkip\"></h2>\n",
    "\n",
    "\n",
    "<b>На доработку🤔:</b>\n",
    "Нужно сначала проанализировать скорость продажи по всем объявлениям, рассмотреть гистограмму, указать на особенности, ответить на вопрос какие продажи являются быстрыми, а какие долгими. При желании уже можно отдельно проанализировать населенные пункты. Вероятно, ты ошибся, так как медиана ниже, чем среднее, а не наоборот."
   ]
  },
  {
   "cell_type": "markdown",
   "metadata": {},
   "source": [
    "<div class=\"alert alert-success\">\n",
    "<h2> Комментарий ревьюера V3<a class=\"tocSkip\"> </h2>\n",
    "\n",
    "<b>Все отлично!👍:</b> Вывод скорректировал правильно, согласен с тобой."
   ]
  },
  {
   "cell_type": "code",
   "execution_count": 19,
   "metadata": {
    "scrolled": true
   },
   "outputs": [
    {
     "data": {
      "image/png": "[encoded data removed]",
      "text/plain": [
       "<Figure size 720x432 with 1 Axes>"
      ]
     },
     "metadata": {
      "needs_background": "light"
     },
     "output_type": "display_data"
    },
    {
     "name": "stdout",
     "output_type": "stream",
     "text": [
      "Зависимость цены от общей площади, коэффициент корреляции: 0.6448620667312418\n"
     ]
    }
   ],
   "source": [
    "#Строим графики зависимости цены от параметров 'total_area', 'living_area', \\\n",
    "#'kitchen_area', 'rooms', 'type_floor', 'day_of_week', 'month', 'year'\n",
    "#good_data_columns = ['total_area', 'living_area', 'kitchen_area', 'rooms', 'type_floor', 'day_of_week', 'month', 'year']\n",
    "#for column in good_data_columns:\n",
    "#    good_data.plot(x=column, y='last_price', kind='bar', grid=True)\n",
    "\n",
    "import matplotlib.pyplot as plt\n",
    "# Зависимость цены от общей площади\n",
    "good_data_total_area = good_data.pivot_table(index='total_area', values='last_price', aggfunc='median')\n",
    "#display(good_data_total_area)\n",
    "good_data_total_area.plot(kind='bar', figsize=(10, 6))\n",
    "plt.xlabel('Общая площадь')\n",
    "plt.ylabel('Средняя цена')\n",
    "plt.title('Зависимость цены от общей площади')\n",
    "plt.show()\n",
    "print('Зависимость цены от общей площади, коэффициент корреляции:', good_data['last_price'].corr(good_data['total_area']))    "
   ]
  },
  {
   "cell_type": "markdown",
   "metadata": {},
   "source": [
    "<font color='green'>v3. По графику видно, что в общем и целом с увеличением общей площади растет и цена, коэффициент корреляции 0,64 показывает что зависимость не очень сильная, но она есть."
   ]
  },
  {
   "cell_type": "markdown",
   "metadata": {},
   "source": [
    "<div class=\"alert alert-warning\">\n",
    "<h2> Комментарий ревьюера V3<a class=\"tocSkip\"> </h2>\n",
    "\n",
    "<b>Некоторые замечания и рекомендации💡:</b> Графики для площадей не понимаю почему ты изменил, я писал только про категориальные переменные.\n",
    "    \n",
    "Лучше оставить диаграмму рассеяния для количественных величин, она покажет как общую тенденцию, так и распределение, можно увидеть есть ли особенность или скрытая зависимость между переменными.\n",
    "    \n",
    "Всегда корректируй графики, у тебя сейчас на оси абсцисс каша, такого быть не должно."
   ]
  },
  {
   "cell_type": "code",
   "execution_count": 20,
   "metadata": {},
   "outputs": [
    {
     "data": {
      "image/png": "[encoded data removed]",
      "text/plain": [
       "<Figure size 720x432 with 1 Axes>"
      ]
     },
     "metadata": {
      "needs_background": "light"
     },
     "output_type": "display_data"
    },
    {
     "name": "stdout",
     "output_type": "stream",
     "text": [
      "Зависимость цены от жилой площади, коэффициент корреляции: 0.5111654792844926\n"
     ]
    }
   ],
   "source": [
    "# Зависимость цены от жилой площади\n",
    "good_data_living_area = good_data.pivot_table(index='living_area', values='last_price', aggfunc='median')\n",
    "good_data_living_area.plot(kind='bar', figsize=(10, 6))\n",
    "plt.xlabel('Жилая площадь')\n",
    "plt.ylabel('Средняя цена')\n",
    "plt.title('Зависимость цены от жилой площади')\n",
    "plt.show()\n",
    "print('Зависимость цены от жилой площади, коэффициент корреляции:', good_data['last_price'].corr(good_data['living_area']))"
   ]
  },
  {
   "cell_type": "markdown",
   "metadata": {},
   "source": [
    "<font color='green'>v3. По графику видно, что в общем и целом с увеличением жилой площади растет и цена, коэффициент корреляции 0,51 показывает что зависимость не очень сильная, но она есть, в тоже время зависимость слабее чем при анализе общей площади."
   ]
  },
  {
   "cell_type": "code",
   "execution_count": 21,
   "metadata": {},
   "outputs": [
    {
     "data": {
      "image/png": "[encoded data removed]",
      "text/plain": [
       "<Figure size 720x432 with 1 Axes>"
      ]
     },
     "metadata": {
      "needs_background": "light"
     },
     "output_type": "display_data"
    },
    {
     "name": "stdout",
     "output_type": "stream",
     "text": [
      "Зависимость цены от площади кухни, коэффициент корреляции: 0.4266467447998577\n"
     ]
    }
   ],
   "source": [
    "# Зависимость цены от площади кухни\n",
    "good_data_kitchen_area = good_data.pivot_table(index='kitchen_area', values='last_price', aggfunc='median')\n",
    "good_data_kitchen_area.plot(kind='bar', figsize=(10, 6))\n",
    "plt.xlabel('Площадь кухни')\n",
    "plt.ylabel('Средняя цена')\n",
    "plt.title('Зависимость цены от площади кухни')\n",
    "plt.show()\n",
    "print('Зависимость цены от площади кухни, коэффициент корреляции:', good_data['last_price'].corr(good_data['kitchen_area']))"
   ]
  },
  {
   "cell_type": "markdown",
   "metadata": {},
   "source": [
    "<font color='green'>v3. По графику видно, что в общем и целом с увеличением площади кухни растет и цена, коэффициент корреляции 0,42 показывает что зависимость еще слабее, но она присутствует."
   ]
  },
  {
   "cell_type": "code",
   "execution_count": 22,
   "metadata": {},
   "outputs": [
    {
     "data": {
      "image/png": "[encoded data removed]",
      "text/plain": [
       "<Figure size 720x432 with 1 Axes>"
      ]
     },
     "metadata": {
      "needs_background": "light"
     },
     "output_type": "display_data"
    },
    {
     "name": "stdout",
     "output_type": "stream",
     "text": [
      "Зависимость цены от количества комнат, коэффициент корреляции: 0.41214919984215037\n"
     ]
    }
   ],
   "source": [
    "# Зависимость цены от количества комнат\n",
    "good_data_rooms = good_data.pivot_table(index='rooms', values='last_price', aggfunc='median')\n",
    "good_data_rooms.plot(kind='bar', figsize=(10, 6))\n",
    "plt.xlabel('Количество комнат')\n",
    "plt.ylabel('Средняя цена')\n",
    "plt.title('Зависимость цены от количества комнат')\n",
    "plt.show()\n",
    "print('Зависимость цены от количества комнат, коэффициент корреляции:', good_data['last_price'].corr(good_data['rooms']))"
   ]
  },
  {
   "cell_type": "markdown",
   "metadata": {},
   "source": [
    "<font color='green'>v3. Есть также зависимость и от количества комнат, что естественно, так как растет и площадь. "
   ]
  },
  {
   "cell_type": "code",
   "execution_count": 23,
   "metadata": {},
   "outputs": [
    {
     "data": {
      "image/png": "[encoded data removed]",
      "text/plain": [
       "<Figure size 720x432 with 1 Axes>"
      ]
     },
     "metadata": {
      "needs_background": "light"
     },
     "output_type": "display_data"
    },
    {
     "name": "stdout",
     "output_type": "stream",
     "text": [
      "Зависимость цены от этажа, коэффициент корреляции: 0.15863861906017987\n"
     ]
    }
   ],
   "source": [
    "# Зависимость цены от этажа\n",
    "good_data_floor = good_data.pivot_table(index='floor', values='last_price', aggfunc='median')\n",
    "good_data_floor.plot(kind='bar', figsize=(10, 6))\n",
    "plt.xlabel('Этаж')\n",
    "plt.ylabel('Средняя цена')\n",
    "plt.title('Зависимость цены от этажа')\n",
    "plt.show()\n",
    "print('Зависимость цены от этажа, коэффициент корреляции:', good_data['last_price'].corr(good_data['floor']))"
   ]
  },
  {
   "cell_type": "markdown",
   "metadata": {},
   "source": [
    "<font color='green'>v3. По графику мы видим лишь очень не значительную зависимость цены от этажа, на это же указывает и коэффициент корреляции. По графику видно что квартиры до 5 этажа стоят дешевле, чем квартиры более высокой этажности. Это вполне возможно может быть и потому, что квартиры до 5 этажа в основном в домах старого фонда, тогда как новостройки имеют высокую этажность, и стоят априори на рынке дороже чем квартиры в домах старого фонда."
   ]
  },
  {
   "cell_type": "code",
   "execution_count": 24,
   "metadata": {},
   "outputs": [
    {
     "data": {
      "image/png": "[encoded data removed]",
      "text/plain": [
       "<Figure size 720x432 with 1 Axes>"
      ]
     },
     "metadata": {
      "needs_background": "light"
     },
     "output_type": "display_data"
    }
   ],
   "source": [
    "# Зависимость цены от дня недели\n",
    "good_data_day_of_week = good_data.pivot_table(index='day_of_week', values='last_price', aggfunc='median')\n",
    "good_data_day_of_week.plot(kind='bar', figsize=(10, 6))\n",
    "plt.xlabel('День недели')\n",
    "plt.ylabel('Средняя цена')\n",
    "plt.title('Зависимость цены от дня недели')\n",
    "plt.show()"
   ]
  },
  {
   "cell_type": "markdown",
   "metadata": {},
   "source": [
    "<font color='green'>v3. График показывает что нет зависимости цены обьекта от дня недели, когда он был выставлен."
   ]
  },
  {
   "cell_type": "code",
   "execution_count": 25,
   "metadata": {},
   "outputs": [
    {
     "data": {
      "image/png": "[encoded data removed]",
      "text/plain": [
       "<Figure size 720x432 with 1 Axes>"
      ]
     },
     "metadata": {
      "needs_background": "light"
     },
     "output_type": "display_data"
    }
   ],
   "source": [
    "# Зависимость цены от месяца\n",
    "good_data_month = good_data.pivot_table(index='month', values='last_price', aggfunc='median')\n",
    "good_data_month.plot(kind='bar', figsize=(10, 6))\n",
    "plt.xlabel('Месяц')\n",
    "plt.ylabel('Средняя цена')\n",
    "plt.title('Зависимость цены от месяца размещения')\n",
    "plt.show()"
   ]
  },
  {
   "cell_type": "markdown",
   "metadata": {},
   "source": [
    "<font color='green'>v3. График показывает что нет зависимости цены обьекта от месяца, когда он был выставлен."
   ]
  },
  {
   "cell_type": "code",
   "execution_count": 26,
   "metadata": {},
   "outputs": [
    {
     "data": {
      "image/png": "[encoded data removed]",
      "text/plain": [
       "<Figure size 720x432 with 1 Axes>"
      ]
     },
     "metadata": {
      "needs_background": "light"
     },
     "output_type": "display_data"
    },
    {
     "name": "stdout",
     "output_type": "stream",
     "text": [
      "Зависимость цены от года, коэффициент корреляции: 0.00780754579729785\n"
     ]
    }
   ],
   "source": [
    "# Зависимость цены от года\n",
    "good_data_year = good_data.pivot_table(index='year', values='last_price', aggfunc='median')\n",
    "good_data_year.plot(kind='bar', figsize=(10, 6))\n",
    "plt.xlabel('Год')\n",
    "plt.ylabel('Средняя цена')\n",
    "plt.title('Зависимость цены от года')\n",
    "plt.show()\n",
    "print('Зависимость цены от года, коэффициент корреляции:', good_data['last_price'].corr(good_data['year']))"
   ]
  },
  {
   "cell_type": "markdown",
   "metadata": {},
   "source": [
    "<font color='green'>v3. Хотя график и описывает некую небольшую параболу зависимости цены от года, но коэффициент крреляции показывает что какой либо зависимости этих параметров нет."
   ]
  },
  {
   "cell_type": "markdown",
   "metadata": {},
   "source": [
    "<div class=\"alert alert-block alert-danger\">\n",
    "<h2> Комментарий ревьюера V1<a class=\"tocSkip\"></h2>\n",
    "\n",
    "\n",
    "<b>На доработку🤔:</b>\n",
    "Для категориальных случайных величин нужно изменить тип диаграмм. Подойдут линейные или столбчатые диаграммы, на оси абсцисс пусть будут категории, а на оси ординат средняя цена квартир каждой категории. По текущим графикам можно сделать некорректные выводы, не видна тенденция, можно только оценить выбросы или количество точек, если их мало."
   ]
  },
  {
   "cell_type": "markdown",
   "metadata": {},
   "source": [
    "v2.\n",
    "1. На графике видно, что стоимость обьекта растет с размером общей площади, но встречаются и другие варианты.\n",
    "2. Жилая площадь также влияет на цену\n",
    "3. Размер кухни менее значительно, но влияет на цену\n",
    "4. Количество комнат влияет на цену но не так значительно как площадь\n",
    "5. Тип этажа: в общем и целом не первый или последний этаж продается дороже\n",
    "6. Цена не зависит от дня недели, когда обьект выставлен\n",
    "7. Есть небольшое отличие но в целом не зависит от месяца когда обьект выставлен\n",
    "8. Мы видим что в 2017 и 2018 квартиры продавались дороже чем в остальные годы."
   ]
  },
  {
   "cell_type": "markdown",
   "metadata": {},
   "source": [
    "<div class=\"alert alert-block alert-danger\">\n",
    "<h2> Комментарий ревьюера V1<a class=\"tocSkip\"></h2>\n",
    "\n",
    "\n",
    "<b>На доработку🤔:</b>\n",
    "Нужно добавить анализ коэффициентов корреляций для случайных величин для которых это возможно."
   ]
  },
  {
   "cell_type": "markdown",
   "metadata": {},
   "source": [
    "<div class=\"alert alert-warning\">\n",
    "<h2> Комментарий ревьюера V3<a class=\"tocSkip\"> </h2>\n",
    "\n",
    "<b>Некоторые замечания и рекомендации💡:</b> Нельзя делать вывод о зависимости только по коэффициентам корреляции, коэффициент корреляции используется только для определенных случайных величин, он не подойдет для категориальных, у него есть ряд ограничений, на него могут влиять третьи скрытые переменные. Поэтому в большей степени нужно ориентироваться на графики."
   ]
  },
  {
   "cell_type": "code",
   "execution_count": 27,
   "metadata": {},
   "outputs": [
    {
     "data": {
      "text/plain": [
       "locality_name\n",
       "санкт-петербург    103530.0\n",
       "пушкин             100261.0\n",
       "кудрово             95296.0\n",
       "мурино              85108.0\n",
       "петергоф            82948.0\n",
       "шушары              78806.0\n",
       "колпино             75205.0\n",
       "гатчина             68458.0\n",
       "всеволожск          66605.0\n",
       "выборг              57772.0\n",
       "Name: metr_price, dtype: float64"
      ]
     },
     "metadata": {},
     "output_type": "display_data"
    },
    {
     "name": "stdout",
     "output_type": "stream",
     "text": [
      "Населенный пункт с самой высокой стоимостью кв.м: санкт-петербург\n",
      "Населенный пункт с самой низкой стоимостью кв.м: выборг\n"
     ]
    }
   ],
   "source": [
    "#Считаем среднюю цену м2 в ТОП10 населенных пунктах\n",
    "grouped_name = good_data.groupby('locality_name')\n",
    "#print(grouped_name.head())\n",
    "name_counts = grouped_name.size().sort_values(ascending=False)\n",
    "top_10_name = name_counts.head(10).index\n",
    "average_price_per_sqm = grouped_name['metr_price'].mean().loc[top_10_name].round()\n",
    "display(average_price_per_sqm.sort_values(ascending=False))\n",
    "#Вывод населенных пунктов с самой высокой и самой низкой стоимсотью м2\n",
    "name_with_highest_price = average_price_per_sqm.idxmax()\n",
    "name_with_lowest_price = average_price_per_sqm.idxmin()\n",
    "print('Населенный пункт с самой высокой стоимостью кв.м:',name_with_highest_price)\n",
    "print('Населенный пункт с самой низкой стоимостью кв.м:',name_with_lowest_price)"
   ]
  },
  {
   "cell_type": "markdown",
   "metadata": {},
   "source": [
    "<div class=\"alert alert-block alert-danger\">\n",
    "<h2> Комментарий ревьюера V1<a class=\"tocSkip\"></h2>\n",
    "\n",
    "\n",
    "<b>На доработку🤔:</b>\n",
    "Еще раз посмотри на населенные пункты, когда корректно обработаешь выбросы."
   ]
  },
  {
   "cell_type": "markdown",
   "metadata": {},
   "source": [
    "v2.\n",
    "1. Посчитана сренняя цена квадратного метра в Топ 10 населенных пунктов по количеству обьявлений\n",
    "2. Нас пункт с самой высокой стоимостью - сестрорецк, с самой низкой - красное село <br>\n",
    "<br>\n",
    "<font color='green'>v3.\n",
    "Нас пункт с самой высокой стоимостью - санкт-петербург, с самой низкой - выборг"
   ]
  },
  {
   "cell_type": "markdown",
   "metadata": {},
   "source": [
    "<div class=\"alert alert-success\">\n",
    "<h2> Комментарий ревьюера V3<a class=\"tocSkip\"> </h2>\n",
    "\n",
    "<b>Все отлично!👍:</b> Абсолютно верный вывод, молодец!"
   ]
  },
  {
   "cell_type": "code",
   "execution_count": 28,
   "metadata": {},
   "outputs": [
    {
     "name": "stdout",
     "output_type": "stream",
     "text": [
      "Зависимость цены от расстояния в Санкт-Петербурге, коэффициент корреляции: -0.33728412744023506\n"
     ]
    },
    {
     "data": {
      "image/png": "[encoded data removed]",
      "text/plain": [
       "<Figure size 576x576 with 1 Axes>"
      ]
     },
     "metadata": {
      "needs_background": "light"
     },
     "output_type": "display_data"
    }
   ],
   "source": [
    "#Вычисляем среднюю цену цену километра в Санкт-Петербурге\n",
    "#good_data['price_per_km'] = (good_data['last_price'] / good_data['cityCenters_nearest_km']).where(good_data['locality_name']\\\n",
    "#                                                                                                  == 'санкт-петербург')\n",
    "good_data_spb = good_data.where(good_data['locality_name'] == 'санкт-петербург')\n",
    "grouped_cityCenters = good_data_spb.groupby('cityCenters_nearest_km')\n",
    "average_price = grouped_cityCenters['last_price'].mean().round()\n",
    "#display(average_price.sort_values(ascending=False))\n",
    "#print(average_price)\n",
    "average_price.plot(y='last_price', kind='line', grid=True, figsize=(8, 8))\n",
    "print('Зависимость цены от расстояния в Санкт-Петербурге, коэффициент корреляции:', good_data_spb['last_price'].corr(good_data_spb['cityCenters_nearest_km']))\n",
    "\n"
   ]
  },
  {
   "cell_type": "markdown",
   "metadata": {},
   "source": [
    "<div class=\"alert alert-block alert-danger\">\n",
    "<h2> Комментарий ревьюера V1<a class=\"tocSkip\"></h2>\n",
    "\n",
    "\n",
    "<b>На доработку🤔:</b>\n",
    "Неправильно произвел расчет. Нужно построить сводную таблицу, где в качестве индексов будет расстояние до центра города, а в качестве values общая цена квартир, не надо её отдельно делить на расстояние до центра."
   ]
  },
  {
   "cell_type": "markdown",
   "metadata": {},
   "source": [
    "v2.\n",
    "1. Мы вычислили среднюю цену каждого километра в Санкт-Петербурге на удалении от центра. На основании графика можно сказать, что при удалении от центра на 5 км стоимость квартир резко падает и продолжает снижаться до 10 км. Далее падени есть, но оно уже не такое значительное. После 15 км цена уже практически не изменяется. <br>\n",
    "<font color='green'>v3. <br>\n",
    "1. На графике видно, что стоимость обьектов падает в зависимости от расстояния до центра. Зависимость не очень большая, так как коэффициент корреляции -0,34, но все же она есть. Цена резко падает после 25 км от центра, потом резко растет. \n"
   ]
  },
  {
   "cell_type": "markdown",
   "metadata": {},
   "source": [
    "<div class=\"alert alert-success\">\n",
    "<h2> Комментарий ревьюера V3<a class=\"tocSkip\"> </h2>\n",
    "\n",
    "<b>Все отлично!👍:</b> Сейчас все верно, прослеживается общая тенденция снижения стоимости квартир при удалении от центра."
   ]
  },
  {
   "cell_type": "markdown",
   "metadata": {},
   "source": [
    "### Общий вывод"
   ]
  },
  {
   "cell_type": "markdown",
   "metadata": {},
   "source": [
    "На основании проведенных исследований, можно сделать вывод, что рынок недвижимости в Санкт-Петербурге и области имеет стандартный характер. Квартиры продаются разные и в большом количестве. Как и в любом областном городе, цена квартиры сильно зависит от удаленности от центра города. На стоимость квартиры конечно же влияет ее площадь, количество комнат, тип этажа. Совершенно не влияет то когда выставлено обьявление. Мы можем увидеть, что продажи 1-2 комнатных и 3х комнатных квартир опережают продажи остальных. Основные продажи приходятся на обьекты советской этажности, на это указывает и высота потолков. В общем и целом продажи квартир имеют такую же сезонность, как и в других городах - всплеск весной и осенью. Но мы также видим, что в последний год продажи уменьшились. В основном, квартиры продаются в рамках 100 дней, но бывают и отдельные экземпляры, которые продаются по 3 года. \n",
    "\n",
    "v3.<br>\n",
    "<font color='green'>Предобработка данных:<br>\n",
    "1. Мы рассмотрели данные сервиса Яндекс.Недвижимость - архив объявлений о продаже квартир в Санкт-Петербурге и соседних населённых пунктов за несколько лет. Данные содержат не только характеристики обьектов недвижимости, но и картографические данные, которые указывают на месторасположение этих обьектов, что позволяет лучше оценить их стоимость и возможный спрос. Была проведени работа по очистке этих данных от пропусков, дубликатов, по приведению значений колонок к единому формату, и привдению типов колонок к требуемуму.\n",
    "2. В датафрейм были рассчитаны и добавлены дополнительные данные, содержащие информацию о стоимости квадратного метра, дне недили, месяце, года, типе этажа: \"первый\", \"последний\", \"другой\", расстояние до центра города в километрах.<br>\n",
    "<br>\n",
    "Анализ данных:<br>\n",
    "<br>\n",
    "1. Большая часть квартир имеет тип этажа \"другой\", но в тоже время можно сказать, что в принципе продаются квартиры разной этажности.\n",
    "2. Общая площадь, жилая площадь и площадь кухни. На графиках видны четкие всплески, которые можно характеризовать типовыми квартирами: студии,1 - 25м2, 2 - 40м2, 3-60-70м2, их продается значительная доля. Опережает конечно всех, это студии и однокомнатные квартиры - это тенденция последних лет.\n",
    "3. Цена - Мы видим нормально распределение по цене, но можно отметить, что основные продажи проходят по цене от 3 до 5 млн.\n",
    "4. Количество комнат. Как мы видели на графике общей площади, основные продажи приходятся на 1-2 комнатные квартиры, в 1,5 раза меньше на 3х комнатные. 4-5 продаются редко.\n",
    "5. Если посмотреть на график этажа, то можно выделить 3 группы: Это группа до 5го этажа, и их продается большинство, группа до 10го этажа, их продается в 2 раза меньше и остальные. Скорее всего можно предположить что здесь большую роль играет старый жилой фонд, когда дома строились до 5 этажей, а также фонд советстких времен, когда строили дома 9,10,12,16 этажей. Также большую роль здесь оказывают малые гоорода из области, где высотная застройка не ведется.\n",
    "6. Высота потолков - основная доля квартир имеет потолки от 2,5м; 2,6м; 2,65м. Но есть и другие варианты, но они менее значительны.\n",
    "7. Основная доля квартир продается в 12 и 15 км от центра, это вполне возможно с развитием новых ЖК.\n",
    "8. Расстояние до аэропорта имеет три выраженных всплеска, в 15-20км 30-35 км.\n",
    "9. Расстояние от основной доли квартир до парка не превышает 1000 м.\n",
    "10. Дни недели - в основном сделки проходят в рабочие дни, реже в выходные.\n",
    "11. Весной и осенью мы видим сезонные всплески продаж.\n",
    "12. Основная масса продаж происходит до 60 дней экспозиции, их можно считать быстрыми, от 60 до 260 дней - их меньше, можно назвать средними, но бывают обьекты, продажи которых происходят и до 4х лет, но их не большое количество. Мы видим, что медиана сильно меньше чем среднее значение, на это влияют выбросы с большим временем экспозиции. Если мы \"обрежем хвост\" данных до например 500 дней экспозиции, то мы увидим, что показатели медианы и среднего почти сравнялись, так как на срез данных перестали оказывать продажи с очень длинным сроком.<br>\n",
    "<br>\n",
    "Зависимость цены от различных факторов:<br>\n",
    "<br>\n",
    "1. Цена зависит от общей площади, жилой площади, площади кухни, количества комнат. Практически не зависит, или завист очень мало от этажа, на котором расположен обьект недвижимости, ну и совсем не зависит от даты размещения обьявления - дня недели, месеца, года.\n",
    "2. Стоимость квартир зависит от населенного пункта, для этого я рассчитал стоимость квадратного метра обьекта недвижимости в топ 10 самых продаваемых населенных пунктах. По результату видно, что самая высокая стоимость квартир в Санкт-Петербурге, а самая низкая в Выборге. \n",
    "3. Стоимость квартир зависит от удаления от центра города. На примере Санкт-Петербурга можно увидеть, что чем дальше от центра тем дешевле квартиры.<br>\n",
    "<br>\n",
    "По результатам исследований, стоит обратить на аномалии в данных по продажам, понять природу появления всплесков в различных данных, как например почему в Санкт-Петербурге после 27 км от центра вдруг резко возрастает цена квартир. В будущем необходимо сравнить полученные данные зависимости цены от расстояние до центра города по Санкт-Петербургу с другими, малыми городами. Есть ли там такая же четкая зависимость или этот фактор присущ только мегаполисам. Также, для того чтобы составить более точный прогноз, необходимо проанализировать данные и за последние годы, учитывая внешние факторы, оказывающие влияние на рынок в последний год.\n",
    "\n",
    "\n",
    "\n"
   ]
  },
  {
   "cell_type": "markdown",
   "metadata": {},
   "source": [
    "<div class=\"alert alert-warning\">\n",
    "<h2> Комментарий ревьюера V1<a class=\"tocSkip\"> </h2>\n",
    "\n",
    "<b>Некоторые замечания и рекомендации💡:</b> В итоговом выводе нужно достаточно подробно написать основные пункты выявленных зависимостей. Стоит доработать вывод с учетом моих комментариев по ходу работы. В итоговом выводе также старайся оставлять рекомендации для последующих шагов. Например рекомендации, что можно обработать и проанализировать другие признаки, на что твоим коллегам стоить обратить внимание."
   ]
  },
  {
   "cell_type": "markdown",
   "metadata": {},
   "source": [
    "<div class=\"alert alert-success\">\n",
    "<h2> Комментарий ревьюера V3<a class=\"tocSkip\"> </h2>\n",
    "\n",
    "<b>Все отлично!👍:</b> Отличный вывод, все четко, понятно и структурировано. Вывод в полной мере отражает существующие зависимости, и по нему можно принимать дальнейшие решения.\n",
    "</div>"
   ]
  },
  {
   "cell_type": "markdown",
   "metadata": {},
   "source": [
    "**Чек-лист готовности проекта**\n",
    "\n",
    "Поставьте 'x' в выполненных пунктах. Далее нажмите Shift+Enter."
   ]
  },
  {
   "cell_type": "markdown",
   "metadata": {},
   "source": [
    "- [x]  открыт файл\n",
    "- [x]  файлы изучены (выведены первые строки, метод `info()`, гистограммы и т.д.)\n",
    "- [x]  определены пропущенные значения\n",
    "- [x]  заполнены пропущенные значения там, где это возможно\n",
    "- [x]  есть пояснение, какие пропущенные значения обнаружены\n",
    "- [x]  изменены типы данных\n",
    "- [x]  есть пояснение, в каких столбцах изменены типы и почему\n",
    "- [x]  устранены неявные дубликаты в названиях населённых пунктов\n",
    "- [x]  устранены редкие и выбивающиеся значения (аномалии) во всех столбцах\n",
    "- [x]  посчитано и добавлено в таблицу: цена одного квадратного метра\n",
    "- [x]  посчитано и добавлено в таблицу: день публикации объявления (0 - понедельник, 1 - вторник и т.д.)\n",
    "- [x]  посчитано и добавлено в таблицу: месяц публикации объявления\n",
    "- [x]  посчитано и добавлено в таблицу: год публикации объявления\n",
    "- [x]  посчитано и добавлено в таблицу: тип этажа квартиры (значения — «первый», «последний», «другой»)\n",
    "- [x]  посчитано и добавлено в таблицу: расстояние в км до центра города\n",
    "- [x]  изучены и описаны следующие параметры:\n",
    "        - общая площадь;\n",
    "        - жилая площадь;\n",
    "        - площадь кухни;\n",
    "        - цена объекта;\n",
    "        - количество комнат;\n",
    "        - высота потолков;\n",
    "        - этаж квартиры;\n",
    "        - тип этажа квартиры («первый», «последний», «другой»);\n",
    "        - общее количество этажей в доме;\n",
    "        - расстояние до центра города в метрах;\n",
    "        - расстояние до ближайшего аэропорта;\n",
    "        - расстояние до ближайшего парка;\n",
    "        - день и месяц публикации объявления\n",
    "- [x]  построены гистограммы для каждого параметра\n",
    "- [x]  выполнено задание: \"Изучите, как быстро продавались квартиры (столбец days_exposition). Этот параметр показывает, сколько дней «висело» каждое объявление.\n",
    "    - Постройте гистограмму.\n",
    "    - Посчитайте среднее и медиану.\n",
    "    - В ячейке типа markdown опишите, сколько обычно занимает продажа. Какие продажи можно считать быстрыми, а какие — необычно долгими?\"\n",
    "- [x]  выполнено задание: \"Какие факторы больше всего влияют на общую (полную) стоимость объекта? Постройте графики, которые покажут зависимость цены от указанных ниже параметров. Для подготовки данных перед визуализацией вы можете использовать сводные таблицы.\"\n",
    "        - общей площади;\n",
    "        - жилой площади;\n",
    "        - площади кухни;\n",
    "        - количество комнат;\n",
    "        - типа этажа, на котором расположена квартира (первый, последний, другой);\n",
    "        - даты размещения (день недели, месяц, год);\n",
    "- [x]  выполнено задание: \"Посчитайте среднюю цену одного квадратного метра в 10 населённых пунктах с наибольшим числом объявлений. Выделите населённые пункты с самой высокой и низкой стоимостью квадратного метра. Эти данные можно найти по имени в столбце `locality_name`.\"\n",
    "- [x]  выполнено задание: \"Ранее вы посчитали расстояние до центра в километрах. Теперь выделите квартиры в Санкт-Петербурге с помощью столбца `locality_name` и вычислите среднюю цену каждого километра. Опишите, как стоимость объектов зависит от расстояния до центра города.\"\n",
    "- [x]  в каждом этапе есть промежуточные выводы\n",
    "- [x]  есть общий вывод"
   ]
  },
  {
   "cell_type": "markdown",
   "metadata": {},
   "source": [
    "<div style=\"border:solid Chocolate 2px; padding: 40px\">\n",
    "\n",
    "**Общий вывод по проекту**\n",
    "\n",
    "Спасибо за твой проект! Я уверен, что ты приложил все усилия, чтобы сделать этот проект. Это видно по твоей работе, а сформулированные выводы отражают, насколько успешно ты осваиваешь материал.\n",
    "\n",
    "**Отмечу отдельные положительные моменты проекта🙂**:\n",
    "\n",
    "* Ты полностью следовал всем этапам выполнения задания и справился почти со всем. Хорошая работа!\n",
    "* Отдельно выделю некоторые выводы, которые ты смог сформулировать абсолютно точно!\n",
    "* У тебя опрятный и читаемый код. Возможно это звучит банально, однако при работе с чужим кодом это крайне важно)\n",
    "\n",
    "\n",
    "**На что стоит обратить внимание🤓**:\n",
    "\n",
    "* Важно доработать итоговый вывод.\n",
    "* Нужно корректно обработать все признаки.\n",
    "* Еще раз посмотри на зависимость цены от категориальных случайных величин.\n",
    "* Остальные рекомендации ты найдешь в моих комментариях!\n",
    "\n",
    "\n",
    "**Желаю удачи и жду твой проект на повторное ревью!**😉"
   ]
  },
  {
   "cell_type": "markdown",
   "metadata": {},
   "source": [
    "<div style=\"border:solid Chocolate 2px; padding: 40px\">\n",
    "\n",
    "Ты хорошо справился с данной работой! Видно, как ты успешно осваиваешь материал, применяешь полученные знания на практике. Мне было очень приятно проверять твою работу, надеюсь, мои комментарии и советы были для тебя полезными.\n",
    "\n",
    "**Желаю удачи в последующем обучении и исследованиях!**😉"
   ]
  },
  {
   "cell_type": "code",
   "execution_count": null,
   "metadata": {},
   "outputs": [],
   "source": []
  }
 ],
 "metadata": {
  "ExecuteTimeLog": [
   {
    "duration": 1295,
    "start_time": "2023-05-17T13:30:57.153Z"
   },
   {
    "duration": 98,
    "start_time": "2023-05-17T13:31:27.631Z"
   },
   {
    "duration": 103,
    "start_time": "2023-05-17T13:32:19.512Z"
   },
   {
    "duration": 99,
    "start_time": "2023-05-17T13:36:19.892Z"
   },
   {
    "duration": 12,
    "start_time": "2023-05-17T13:41:39.165Z"
   },
   {
    "duration": 126,
    "start_time": "2023-05-17T13:43:31.392Z"
   },
   {
    "duration": 2505,
    "start_time": "2023-05-17T13:43:51.888Z"
   },
   {
    "duration": 2518,
    "start_time": "2023-05-17T13:44:03.675Z"
   },
   {
    "duration": 10,
    "start_time": "2023-05-17T13:44:27.454Z"
   },
   {
    "duration": 13,
    "start_time": "2023-05-17T13:50:29.886Z"
   },
   {
    "duration": 16,
    "start_time": "2023-05-17T13:55:34.929Z"
   },
   {
    "duration": 24,
    "start_time": "2023-05-17T13:58:36.515Z"
   },
   {
    "duration": 26,
    "start_time": "2023-05-17T14:28:58.072Z"
   },
   {
    "duration": 51,
    "start_time": "2023-05-17T14:29:39.634Z"
   },
   {
    "duration": 194,
    "start_time": "2023-05-17T14:40:40.322Z"
   },
   {
    "duration": 2491,
    "start_time": "2023-05-17T14:42:36.215Z"
   },
   {
    "duration": 75,
    "start_time": "2023-05-17T14:42:55.814Z"
   },
   {
    "duration": 202,
    "start_time": "2023-05-17T14:43:38.332Z"
   },
   {
    "duration": 2783,
    "start_time": "2023-05-17T14:44:23.904Z"
   },
   {
    "duration": 209,
    "start_time": "2023-05-17T14:44:33.238Z"
   },
   {
    "duration": 2468,
    "start_time": "2023-05-17T14:44:52.125Z"
   },
   {
    "duration": 55,
    "start_time": "2023-05-17T14:44:59.591Z"
   },
   {
    "duration": 181,
    "start_time": "2023-05-17T14:46:40.812Z"
   },
   {
    "duration": 2359,
    "start_time": "2023-05-17T14:47:20.736Z"
   },
   {
    "duration": 213,
    "start_time": "2023-05-17T14:47:32.351Z"
   },
   {
    "duration": 2474,
    "start_time": "2023-05-17T14:48:25.935Z"
   },
   {
    "duration": 55,
    "start_time": "2023-05-17T14:48:31.327Z"
   },
   {
    "duration": 186,
    "start_time": "2023-05-17T14:51:42.025Z"
   },
   {
    "duration": 252,
    "start_time": "2023-05-17T14:53:44.095Z"
   },
   {
    "duration": 290,
    "start_time": "2023-05-17T14:55:14.730Z"
   },
   {
    "duration": 2463,
    "start_time": "2023-05-17T14:55:23.250Z"
   },
   {
    "duration": 285,
    "start_time": "2023-05-17T14:55:29.089Z"
   },
   {
    "duration": 2412,
    "start_time": "2023-05-17T14:56:07.523Z"
   },
   {
    "duration": 271,
    "start_time": "2023-05-17T14:56:17.327Z"
   },
   {
    "duration": 2152,
    "start_time": "2023-05-17T15:00:10.724Z"
   },
   {
    "duration": 344,
    "start_time": "2023-05-17T15:00:16.149Z"
   },
   {
    "duration": 2579,
    "start_time": "2023-05-17T15:03:36.399Z"
   },
   {
    "duration": 292,
    "start_time": "2023-05-17T15:03:42.195Z"
   },
   {
    "duration": 294,
    "start_time": "2023-05-17T15:04:09.188Z"
   },
   {
    "duration": 271,
    "start_time": "2023-05-17T15:04:53.722Z"
   },
   {
    "duration": 283,
    "start_time": "2023-05-17T15:12:22.411Z"
   },
   {
    "duration": 263,
    "start_time": "2023-05-17T15:12:45.025Z"
   },
   {
    "duration": 254,
    "start_time": "2023-05-17T15:19:58.332Z"
   },
   {
    "duration": 299,
    "start_time": "2023-05-17T15:25:44.614Z"
   },
   {
    "duration": 314,
    "start_time": "2023-05-17T15:27:03.738Z"
   },
   {
    "duration": 311,
    "start_time": "2023-05-17T15:27:37.535Z"
   },
   {
    "duration": 2637,
    "start_time": "2023-05-17T15:28:23.431Z"
   },
   {
    "duration": 2949,
    "start_time": "2023-05-18T06:44:43.295Z"
   },
   {
    "duration": 72,
    "start_time": "2023-05-18T06:44:53.450Z"
   },
   {
    "duration": 15,
    "start_time": "2023-05-18T06:45:39.612Z"
   },
   {
    "duration": 587,
    "start_time": "2023-05-18T06:48:44.219Z"
   },
   {
    "duration": 429,
    "start_time": "2023-05-18T06:49:39.671Z"
   },
   {
    "duration": 349,
    "start_time": "2023-05-18T06:58:27.402Z"
   },
   {
    "duration": 442,
    "start_time": "2023-05-18T06:59:45.764Z"
   },
   {
    "duration": 30,
    "start_time": "2023-05-18T07:01:25.977Z"
   },
   {
    "duration": 2257,
    "start_time": "2023-05-18T07:04:25.167Z"
   },
   {
    "duration": 313,
    "start_time": "2023-05-18T07:04:33.305Z"
   },
   {
    "duration": 1754,
    "start_time": "2023-05-18T07:07:14.596Z"
   },
   {
    "duration": 2100,
    "start_time": "2023-05-18T07:07:49.342Z"
   },
   {
    "duration": 324,
    "start_time": "2023-05-18T07:11:25.138Z"
   },
   {
    "duration": 2901,
    "start_time": "2023-05-18T07:15:03.203Z"
   },
   {
    "duration": 479,
    "start_time": "2023-05-18T07:15:15.874Z"
   },
   {
    "duration": 2873,
    "start_time": "2023-05-18T07:19:57.908Z"
   },
   {
    "duration": 450,
    "start_time": "2023-05-18T07:20:18.692Z"
   },
   {
    "duration": 3482,
    "start_time": "2023-05-18T07:21:04.131Z"
   },
   {
    "duration": 557,
    "start_time": "2023-05-18T07:22:08.886Z"
   },
   {
    "duration": 598,
    "start_time": "2023-05-18T07:23:20.511Z"
   },
   {
    "duration": 255,
    "start_time": "2023-05-18T07:24:24.087Z"
   },
   {
    "duration": 701,
    "start_time": "2023-05-18T07:24:27.395Z"
   },
   {
    "duration": 829,
    "start_time": "2023-05-18T07:25:46.213Z"
   },
   {
    "duration": 5180,
    "start_time": "2023-05-18T07:26:05.206Z"
   },
   {
    "duration": 3950,
    "start_time": "2023-05-18T07:29:13.799Z"
   },
   {
    "duration": 1023,
    "start_time": "2023-05-18T07:30:13.911Z"
   },
   {
    "duration": 688,
    "start_time": "2023-05-18T07:30:21.425Z"
   },
   {
    "duration": 525,
    "start_time": "2023-05-18T07:31:37.291Z"
   },
   {
    "duration": 633,
    "start_time": "2023-05-18T07:32:09.500Z"
   },
   {
    "duration": 721,
    "start_time": "2023-05-18T07:32:36.423Z"
   },
   {
    "duration": 474,
    "start_time": "2023-05-18T07:35:17.515Z"
   },
   {
    "duration": 549,
    "start_time": "2023-05-18T07:35:56.371Z"
   },
   {
    "duration": 690,
    "start_time": "2023-05-18T07:36:27.631Z"
   },
   {
    "duration": 554,
    "start_time": "2023-05-18T07:38:23.628Z"
   },
   {
    "duration": 787,
    "start_time": "2023-05-18T07:39:09.239Z"
   },
   {
    "duration": 664,
    "start_time": "2023-05-18T07:39:31.526Z"
   },
   {
    "duration": 506,
    "start_time": "2023-05-18T07:39:40.776Z"
   },
   {
    "duration": 706,
    "start_time": "2023-05-18T07:39:50.972Z"
   },
   {
    "duration": 797,
    "start_time": "2023-05-18T07:40:38.796Z"
   },
   {
    "duration": 3744,
    "start_time": "2023-05-18T07:43:42.011Z"
   },
   {
    "duration": 4462,
    "start_time": "2023-05-18T07:44:31.175Z"
   },
   {
    "duration": 1358,
    "start_time": "2023-05-18T07:48:52.476Z"
   },
   {
    "duration": 785,
    "start_time": "2023-05-18T07:50:17.688Z"
   },
   {
    "duration": 3733,
    "start_time": "2023-05-18T07:52:54.077Z"
   },
   {
    "duration": 146,
    "start_time": "2023-05-18T07:55:51.409Z"
   },
   {
    "duration": 6809,
    "start_time": "2023-05-18T08:01:53.571Z"
   },
   {
    "duration": 4739,
    "start_time": "2023-05-18T08:05:56.471Z"
   },
   {
    "duration": 25,
    "start_time": "2023-05-18T08:08:20.982Z"
   },
   {
    "duration": 5,
    "start_time": "2023-05-18T08:11:11.428Z"
   },
   {
    "duration": 24,
    "start_time": "2023-05-18T08:11:19.302Z"
   },
   {
    "duration": 65,
    "start_time": "2023-05-18T08:17:56.784Z"
   },
   {
    "duration": 33,
    "start_time": "2023-05-18T08:20:56.780Z"
   },
   {
    "duration": 34,
    "start_time": "2023-05-18T08:21:34.007Z"
   },
   {
    "duration": 3666,
    "start_time": "2023-05-18T08:31:53.283Z"
   },
   {
    "duration": 450,
    "start_time": "2023-05-18T08:42:28.421Z"
   },
   {
    "duration": 420,
    "start_time": "2023-05-18T08:46:35.532Z"
   },
   {
    "duration": 369,
    "start_time": "2023-05-18T08:47:24.829Z"
   },
   {
    "duration": 4396,
    "start_time": "2023-05-18T08:47:33.308Z"
   },
   {
    "duration": 546,
    "start_time": "2023-05-18T08:47:47.092Z"
   },
   {
    "duration": 109,
    "start_time": "2023-05-18T08:47:56.115Z"
   },
   {
    "duration": 478,
    "start_time": "2023-05-18T08:47:59.428Z"
   },
   {
    "duration": 516,
    "start_time": "2023-05-18T08:48:01.778Z"
   },
   {
    "duration": 558,
    "start_time": "2023-05-18T08:53:09.433Z"
   },
   {
    "duration": 423,
    "start_time": "2023-05-18T08:53:35.528Z"
   },
   {
    "duration": 179,
    "start_time": "2023-05-18T09:04:34.291Z"
   },
   {
    "duration": 619,
    "start_time": "2023-05-18T09:04:36.832Z"
   },
   {
    "duration": 745,
    "start_time": "2023-05-18T09:04:46.206Z"
   },
   {
    "duration": 571,
    "start_time": "2023-05-18T09:04:49.086Z"
   },
   {
    "duration": 309,
    "start_time": "2023-05-18T09:04:52.698Z"
   },
   {
    "duration": 138,
    "start_time": "2023-05-18T09:17:22.996Z"
   },
   {
    "duration": 282,
    "start_time": "2023-05-18T09:20:46.707Z"
   },
   {
    "duration": 685,
    "start_time": "2023-05-18T09:20:51.244Z"
   },
   {
    "duration": 729,
    "start_time": "2023-05-18T09:20:53.869Z"
   },
   {
    "duration": 0,
    "start_time": "2023-05-18T09:30:14.444Z"
   },
   {
    "duration": 3525,
    "start_time": "2023-05-18T09:30:18.095Z"
   },
   {
    "duration": 559,
    "start_time": "2023-05-18T09:30:27.600Z"
   },
   {
    "duration": 528,
    "start_time": "2023-05-18T09:30:31.773Z"
   },
   {
    "duration": 35286,
    "start_time": "2023-05-18T09:30:37.480Z"
   },
   {
    "duration": 10160,
    "start_time": "2023-05-18T09:31:16.696Z"
   },
   {
    "duration": 345,
    "start_time": "2023-05-18T09:32:02.011Z"
   },
   {
    "duration": 315,
    "start_time": "2023-05-18T09:32:11.973Z"
   },
   {
    "duration": 389,
    "start_time": "2023-05-18T09:32:29.011Z"
   },
   {
    "duration": 105,
    "start_time": "2023-05-18T10:07:54.048Z"
   },
   {
    "duration": 289,
    "start_time": "2023-05-18T10:08:39.785Z"
   },
   {
    "duration": 2878,
    "start_time": "2023-05-18T10:09:49.209Z"
   },
   {
    "duration": 394,
    "start_time": "2023-05-18T10:10:00.960Z"
   },
   {
    "duration": 379,
    "start_time": "2023-05-18T10:10:15.046Z"
   },
   {
    "duration": 353,
    "start_time": "2023-05-18T10:10:20.078Z"
   },
   {
    "duration": 397,
    "start_time": "2023-05-18T10:10:23.950Z"
   },
   {
    "duration": 563,
    "start_time": "2023-05-18T10:11:43.856Z"
   },
   {
    "duration": 421,
    "start_time": "2023-05-18T10:13:23.473Z"
   },
   {
    "duration": 447,
    "start_time": "2023-05-18T10:13:35.201Z"
   },
   {
    "duration": 470,
    "start_time": "2023-05-18T10:13:49.992Z"
   },
   {
    "duration": 613,
    "start_time": "2023-05-18T10:14:45.015Z"
   },
   {
    "duration": 535,
    "start_time": "2023-05-18T10:16:15.149Z"
   },
   {
    "duration": 849,
    "start_time": "2023-05-18T10:16:33.178Z"
   },
   {
    "duration": 1393,
    "start_time": "2023-05-18T10:17:20.950Z"
   },
   {
    "duration": 1005,
    "start_time": "2023-05-18T10:17:47.391Z"
   },
   {
    "duration": 1209,
    "start_time": "2023-05-18T10:19:10.779Z"
   },
   {
    "duration": 296,
    "start_time": "2023-05-18T10:20:09.568Z"
   },
   {
    "duration": 330,
    "start_time": "2023-05-18T10:21:58.623Z"
   },
   {
    "duration": 570,
    "start_time": "2023-05-18T10:22:15.283Z"
   },
   {
    "duration": 525,
    "start_time": "2023-05-18T10:22:23.976Z"
   },
   {
    "duration": 488,
    "start_time": "2023-05-18T10:22:44.388Z"
   },
   {
    "duration": 320,
    "start_time": "2023-05-18T10:23:21.615Z"
   },
   {
    "duration": 2661,
    "start_time": "2023-05-18T10:24:06.075Z"
   },
   {
    "duration": 467,
    "start_time": "2023-05-18T10:24:13.187Z"
   },
   {
    "duration": 329,
    "start_time": "2023-05-18T10:24:16.477Z"
   },
   {
    "duration": 392,
    "start_time": "2023-05-18T10:24:29.989Z"
   },
   {
    "duration": 515,
    "start_time": "2023-05-18T10:25:53.720Z"
   },
   {
    "duration": 534,
    "start_time": "2023-05-18T10:27:19.004Z"
   },
   {
    "duration": 454,
    "start_time": "2023-05-18T10:27:22.188Z"
   },
   {
    "duration": 552,
    "start_time": "2023-05-18T10:27:30.242Z"
   },
   {
    "duration": 559,
    "start_time": "2023-05-18T10:28:37.272Z"
   },
   {
    "duration": 448,
    "start_time": "2023-05-18T10:31:10.712Z"
   },
   {
    "duration": 541,
    "start_time": "2023-05-18T10:32:25.372Z"
   },
   {
    "duration": 427,
    "start_time": "2023-05-18T10:32:27.608Z"
   },
   {
    "duration": 506,
    "start_time": "2023-05-18T10:32:41.127Z"
   },
   {
    "duration": 601,
    "start_time": "2023-05-18T10:32:55.296Z"
   },
   {
    "duration": 526,
    "start_time": "2023-05-18T10:32:58.302Z"
   },
   {
    "duration": 497,
    "start_time": "2023-05-18T10:33:03.471Z"
   },
   {
    "duration": 484,
    "start_time": "2023-05-18T10:34:03.476Z"
   },
   {
    "duration": 369,
    "start_time": "2023-05-18T10:34:36.816Z"
   },
   {
    "duration": 362,
    "start_time": "2023-05-18T10:34:39.671Z"
   },
   {
    "duration": 515,
    "start_time": "2023-05-18T10:34:44.211Z"
   },
   {
    "duration": 335,
    "start_time": "2023-05-18T10:35:17.966Z"
   },
   {
    "duration": 394,
    "start_time": "2023-05-18T10:35:28.256Z"
   },
   {
    "duration": 326,
    "start_time": "2023-05-18T10:35:31.742Z"
   },
   {
    "duration": 319,
    "start_time": "2023-05-18T10:35:36.490Z"
   },
   {
    "duration": 495,
    "start_time": "2023-05-18T10:36:27.024Z"
   },
   {
    "duration": 220,
    "start_time": "2023-05-18T10:37:08.486Z"
   },
   {
    "duration": 289,
    "start_time": "2023-05-18T10:37:15.794Z"
   },
   {
    "duration": 274,
    "start_time": "2023-05-18T10:37:35.309Z"
   },
   {
    "duration": 197,
    "start_time": "2023-05-18T10:37:43.223Z"
   },
   {
    "duration": 268,
    "start_time": "2023-05-18T10:38:11.560Z"
   },
   {
    "duration": 275,
    "start_time": "2023-05-18T10:38:50.216Z"
   },
   {
    "duration": 209,
    "start_time": "2023-05-18T10:39:01.623Z"
   },
   {
    "duration": 245,
    "start_time": "2023-05-18T10:39:09.071Z"
   },
   {
    "duration": 15,
    "start_time": "2023-05-18T10:44:19.208Z"
   },
   {
    "duration": 11,
    "start_time": "2023-05-18T10:45:28.518Z"
   },
   {
    "duration": 9,
    "start_time": "2023-05-18T10:46:31.679Z"
   },
   {
    "duration": 10,
    "start_time": "2023-05-18T10:46:44.807Z"
   },
   {
    "duration": 5,
    "start_time": "2023-05-18T10:47:02.184Z"
   },
   {
    "duration": 13,
    "start_time": "2023-05-18T10:47:17.095Z"
   },
   {
    "duration": 10,
    "start_time": "2023-05-18T10:49:00.357Z"
   },
   {
    "duration": 199,
    "start_time": "2023-05-18T10:49:49.904Z"
   },
   {
    "duration": 185,
    "start_time": "2023-05-18T10:50:09.078Z"
   },
   {
    "duration": 238,
    "start_time": "2023-05-18T10:51:07.190Z"
   },
   {
    "duration": 143,
    "start_time": "2023-05-18T10:51:57.189Z"
   },
   {
    "duration": 196,
    "start_time": "2023-05-18T10:53:15.193Z"
   },
   {
    "duration": 233,
    "start_time": "2023-05-18T10:54:21.127Z"
   },
   {
    "duration": 318,
    "start_time": "2023-05-18T11:00:03.092Z"
   },
   {
    "duration": 291,
    "start_time": "2023-05-18T11:00:05.908Z"
   },
   {
    "duration": 297,
    "start_time": "2023-05-18T11:00:13.076Z"
   },
   {
    "duration": 272,
    "start_time": "2023-05-18T11:01:04.960Z"
   },
   {
    "duration": 220,
    "start_time": "2023-05-18T11:02:07.292Z"
   },
   {
    "duration": 313,
    "start_time": "2023-05-18T11:02:43.181Z"
   },
   {
    "duration": 259,
    "start_time": "2023-05-18T11:02:45.788Z"
   },
   {
    "duration": 247,
    "start_time": "2023-05-18T11:02:50.071Z"
   },
   {
    "duration": 188,
    "start_time": "2023-05-18T11:15:15.577Z"
   },
   {
    "duration": 306,
    "start_time": "2023-05-18T11:15:52.468Z"
   },
   {
    "duration": 425,
    "start_time": "2023-05-18T11:16:32.394Z"
   },
   {
    "duration": 331,
    "start_time": "2023-05-18T11:16:46.584Z"
   },
   {
    "duration": 690,
    "start_time": "2023-05-18T12:54:31.464Z"
   },
   {
    "duration": 120,
    "start_time": "2023-05-18T12:54:38.869Z"
   },
   {
    "duration": 325,
    "start_time": "2023-05-18T12:54:43.260Z"
   },
   {
    "duration": 323,
    "start_time": "2023-05-18T12:54:47.700Z"
   },
   {
    "duration": 3216,
    "start_time": "2023-05-18T12:57:22.354Z"
   },
   {
    "duration": 3055,
    "start_time": "2023-05-18T12:58:12.573Z"
   },
   {
    "duration": 2616,
    "start_time": "2023-05-18T12:59:27.769Z"
   },
   {
    "duration": 2514,
    "start_time": "2023-05-18T13:02:39.080Z"
   },
   {
    "duration": 2647,
    "start_time": "2023-05-18T13:03:03.695Z"
   },
   {
    "duration": 102,
    "start_time": "2023-05-18T13:03:43.597Z"
   },
   {
    "duration": 277,
    "start_time": "2023-05-18T13:03:46.470Z"
   },
   {
    "duration": 296,
    "start_time": "2023-05-18T13:03:49.550Z"
   },
   {
    "duration": 2406,
    "start_time": "2023-05-18T13:03:52.996Z"
   },
   {
    "duration": 2900,
    "start_time": "2023-05-18T13:06:23.302Z"
   },
   {
    "duration": 96,
    "start_time": "2023-05-18T13:17:21.756Z"
   },
   {
    "duration": 14,
    "start_time": "2023-05-18T13:17:44.356Z"
   },
   {
    "duration": 14,
    "start_time": "2023-05-18T13:18:19.191Z"
   },
   {
    "duration": 19,
    "start_time": "2023-05-18T13:20:13.114Z"
   },
   {
    "duration": 24,
    "start_time": "2023-05-18T13:21:24.760Z"
   },
   {
    "duration": 19,
    "start_time": "2023-05-18T13:24:24.988Z"
   },
   {
    "duration": 20,
    "start_time": "2023-05-18T13:25:55.946Z"
   },
   {
    "duration": 18,
    "start_time": "2023-05-18T13:38:38.900Z"
   },
   {
    "duration": 12,
    "start_time": "2023-05-18T13:38:58.461Z"
   },
   {
    "duration": 19,
    "start_time": "2023-05-18T13:39:25.727Z"
   },
   {
    "duration": 30,
    "start_time": "2023-05-18T13:39:42.653Z"
   },
   {
    "duration": 16,
    "start_time": "2023-05-18T13:41:11.851Z"
   },
   {
    "duration": 26,
    "start_time": "2023-05-18T13:41:54.959Z"
   },
   {
    "duration": 29,
    "start_time": "2023-05-18T13:42:08.961Z"
   },
   {
    "duration": 16,
    "start_time": "2023-05-18T13:42:42.282Z"
   },
   {
    "duration": 10,
    "start_time": "2023-05-18T13:43:21.594Z"
   },
   {
    "duration": 6,
    "start_time": "2023-05-18T13:44:27.949Z"
   },
   {
    "duration": 12,
    "start_time": "2023-05-18T13:44:36.746Z"
   },
   {
    "duration": 333,
    "start_time": "2023-05-18T13:49:39.186Z"
   },
   {
    "duration": 346,
    "start_time": "2023-05-18T13:50:27.657Z"
   },
   {
    "duration": 332,
    "start_time": "2023-05-18T13:54:12.439Z"
   },
   {
    "duration": 331,
    "start_time": "2023-05-18T13:54:45.758Z"
   },
   {
    "duration": 329,
    "start_time": "2023-05-18T15:23:14.540Z"
   },
   {
    "duration": 319,
    "start_time": "2023-05-18T15:26:15.486Z"
   },
   {
    "duration": 494,
    "start_time": "2023-05-18T15:26:19.348Z"
   },
   {
    "duration": 289,
    "start_time": "2023-05-18T15:29:30.956Z"
   },
   {
    "duration": 285,
    "start_time": "2023-05-18T15:31:39.231Z"
   },
   {
    "duration": 350,
    "start_time": "2023-05-18T15:37:01.483Z"
   },
   {
    "duration": 112,
    "start_time": "2023-05-18T15:40:00.694Z"
   },
   {
    "duration": 395,
    "start_time": "2023-05-18T15:40:03.458Z"
   },
   {
    "duration": 273,
    "start_time": "2023-05-18T15:40:07.060Z"
   },
   {
    "duration": 476,
    "start_time": "2023-05-18T15:40:13.823Z"
   },
   {
    "duration": 382,
    "start_time": "2023-05-18T15:40:57.286Z"
   },
   {
    "duration": 102,
    "start_time": "2023-05-18T15:41:29.187Z"
   },
   {
    "duration": 360,
    "start_time": "2023-05-18T15:41:32.056Z"
   },
   {
    "duration": 341,
    "start_time": "2023-05-18T15:43:10.695Z"
   },
   {
    "duration": 95,
    "start_time": "2023-05-18T15:43:42.923Z"
   },
   {
    "duration": 337,
    "start_time": "2023-05-18T15:43:45.692Z"
   },
   {
    "duration": 327,
    "start_time": "2023-05-18T15:45:32.152Z"
   },
   {
    "duration": 304,
    "start_time": "2023-05-18T15:45:45.241Z"
   },
   {
    "duration": 316,
    "start_time": "2023-05-18T15:46:10.392Z"
   },
   {
    "duration": 297,
    "start_time": "2023-05-18T15:46:44.206Z"
   },
   {
    "duration": 306,
    "start_time": "2023-05-18T15:47:35.906Z"
   },
   {
    "duration": 321,
    "start_time": "2023-05-18T15:48:25.794Z"
   },
   {
    "duration": 305,
    "start_time": "2023-05-18T15:48:49.220Z"
   },
   {
    "duration": 258,
    "start_time": "2023-05-18T15:49:09.001Z"
   },
   {
    "duration": 359,
    "start_time": "2023-05-18T15:49:14.864Z"
   },
   {
    "duration": 1400,
    "start_time": "2023-05-18T15:50:40.949Z"
   },
   {
    "duration": 271,
    "start_time": "2023-05-18T15:51:10.999Z"
   },
   {
    "duration": 399,
    "start_time": "2023-05-18T15:52:35.658Z"
   },
   {
    "duration": 18,
    "start_time": "2023-05-18T15:54:41.994Z"
   },
   {
    "duration": 30,
    "start_time": "2023-05-18T15:57:18.339Z"
   },
   {
    "duration": 2295,
    "start_time": "2023-05-18T15:59:38.752Z"
   },
   {
    "duration": 2471,
    "start_time": "2023-05-18T16:00:38.140Z"
   },
   {
    "duration": 1388,
    "start_time": "2023-05-18T16:03:30.131Z"
   },
   {
    "duration": 232,
    "start_time": "2023-05-18T16:04:05.695Z"
   },
   {
    "duration": 250,
    "start_time": "2023-05-18T16:06:15.855Z"
   },
   {
    "duration": 1329,
    "start_time": "2023-05-19T07:47:18.795Z"
   },
   {
    "duration": 427,
    "start_time": "2023-05-19T07:47:21.425Z"
   },
   {
    "duration": 391,
    "start_time": "2023-05-19T07:47:27.908Z"
   },
   {
    "duration": 1063,
    "start_time": "2023-05-19T07:47:31.912Z"
   },
   {
    "duration": 907,
    "start_time": "2023-05-19T07:48:23.607Z"
   },
   {
    "duration": 982,
    "start_time": "2023-05-19T07:49:03.396Z"
   },
   {
    "duration": 1238,
    "start_time": "2023-05-19T07:49:43.039Z"
   },
   {
    "duration": 1467,
    "start_time": "2023-05-19T07:50:38.886Z"
   },
   {
    "duration": 1769,
    "start_time": "2023-05-19T07:51:22.997Z"
   },
   {
    "duration": 1886,
    "start_time": "2023-05-19T07:52:03.700Z"
   },
   {
    "duration": 1490,
    "start_time": "2023-05-19T13:16:47.432Z"
   },
   {
    "duration": 648,
    "start_time": "2023-05-19T13:16:52.443Z"
   },
   {
    "duration": 601,
    "start_time": "2023-05-19T13:16:57.594Z"
   },
   {
    "duration": 259,
    "start_time": "2023-05-19T13:21:10.592Z"
   },
   {
    "duration": 28,
    "start_time": "2023-05-19T13:21:34.583Z"
   },
   {
    "duration": 42,
    "start_time": "2023-05-19T13:22:36.564Z"
   },
   {
    "duration": 62,
    "start_time": "2023-05-19T13:23:44.729Z"
   },
   {
    "duration": 52,
    "start_time": "2023-05-19T13:24:31.995Z"
   },
   {
    "duration": 49,
    "start_time": "2023-05-19T13:24:53.553Z"
   },
   {
    "duration": 28,
    "start_time": "2023-05-19T13:25:34.033Z"
   },
   {
    "duration": 47,
    "start_time": "2023-05-19T13:29:11.493Z"
   },
   {
    "duration": 74,
    "start_time": "2023-05-19T13:33:28.101Z"
   },
   {
    "duration": 125,
    "start_time": "2023-05-19T13:33:48.266Z"
   },
   {
    "duration": 42,
    "start_time": "2023-05-19T13:34:49.141Z"
   },
   {
    "duration": 44,
    "start_time": "2023-05-19T13:35:05.826Z"
   },
   {
    "duration": 26,
    "start_time": "2023-05-19T13:36:51.458Z"
   },
   {
    "duration": 61,
    "start_time": "2023-05-19T13:37:14.318Z"
   },
   {
    "duration": 83,
    "start_time": "2023-05-19T13:37:49.320Z"
   },
   {
    "duration": 27,
    "start_time": "2023-05-19T13:39:34.805Z"
   },
   {
    "duration": 107,
    "start_time": "2023-05-19T13:47:27.439Z"
   },
   {
    "duration": 78,
    "start_time": "2023-05-19T13:47:50.585Z"
   },
   {
    "duration": 81,
    "start_time": "2023-05-19T13:50:11.542Z"
   },
   {
    "duration": 79,
    "start_time": "2023-05-19T13:51:21.549Z"
   },
   {
    "duration": 82,
    "start_time": "2023-05-19T13:51:57.517Z"
   },
   {
    "duration": 59,
    "start_time": "2023-05-19T13:56:20.099Z"
   },
   {
    "duration": 1403,
    "start_time": "2023-05-19T13:57:19.725Z"
   },
   {
    "duration": 1115,
    "start_time": "2023-05-19T13:57:42.717Z"
   },
   {
    "duration": 911,
    "start_time": "2023-05-19T13:58:54.238Z"
   },
   {
    "duration": 59,
    "start_time": "2023-05-19T14:01:57.079Z"
   },
   {
    "duration": 61,
    "start_time": "2023-05-19T14:02:39.845Z"
   },
   {
    "duration": 53,
    "start_time": "2023-05-19T14:03:17.299Z"
   },
   {
    "duration": 63,
    "start_time": "2023-05-19T14:03:44.406Z"
   },
   {
    "duration": 1926,
    "start_time": "2023-05-19T14:05:10.758Z"
   },
   {
    "duration": 234,
    "start_time": "2023-05-19T14:06:10.014Z"
   },
   {
    "duration": 315,
    "start_time": "2023-05-19T14:06:47.158Z"
   },
   {
    "duration": 226,
    "start_time": "2023-05-19T14:06:57.614Z"
   },
   {
    "duration": 243,
    "start_time": "2023-05-19T14:07:47.397Z"
   },
   {
    "duration": 245,
    "start_time": "2023-05-19T14:10:45.603Z"
   },
   {
    "duration": 843,
    "start_time": "2023-05-19T14:11:54.416Z"
   },
   {
    "duration": 752,
    "start_time": "2023-05-19T14:12:40.825Z"
   },
   {
    "duration": 296,
    "start_time": "2023-05-19T14:13:30.669Z"
   },
   {
    "duration": 30,
    "start_time": "2023-05-19T14:17:29.826Z"
   },
   {
    "duration": 391,
    "start_time": "2023-05-19T14:18:03.753Z"
   },
   {
    "duration": 396,
    "start_time": "2023-05-19T14:18:06.437Z"
   },
   {
    "duration": 309,
    "start_time": "2023-05-19T14:18:09.437Z"
   },
   {
    "duration": 241,
    "start_time": "2023-05-19T14:18:15.195Z"
   },
   {
    "duration": 3427,
    "start_time": "2023-05-19T14:20:25.011Z"
   },
   {
    "duration": 261,
    "start_time": "2023-05-19T14:21:24.452Z"
   },
   {
    "duration": 4067,
    "start_time": "2023-05-19T14:22:56.252Z"
   },
   {
    "duration": 4358,
    "start_time": "2023-05-19T14:23:28.673Z"
   },
   {
    "duration": 6444,
    "start_time": "2023-05-19T14:25:49.308Z"
   },
   {
    "duration": 2978,
    "start_time": "2023-05-19T14:28:57.749Z"
   },
   {
    "duration": 409,
    "start_time": "2023-05-19T14:29:04.706Z"
   },
   {
    "duration": 305,
    "start_time": "2023-05-19T14:29:08.502Z"
   },
   {
    "duration": 6162,
    "start_time": "2023-05-19T14:29:11.806Z"
   },
   {
    "duration": 58,
    "start_time": "2023-05-20T06:05:45.473Z"
   },
   {
    "duration": 2987,
    "start_time": "2023-05-20T06:05:51.342Z"
   },
   {
    "duration": 300,
    "start_time": "2023-05-20T06:05:58.390Z"
   },
   {
    "duration": 252,
    "start_time": "2023-05-20T06:06:01.677Z"
   },
   {
    "duration": 4787,
    "start_time": "2023-05-20T06:06:04.556Z"
   },
   {
    "duration": 4925,
    "start_time": "2023-05-20T06:06:47.838Z"
   },
   {
    "duration": 4907,
    "start_time": "2023-05-20T06:09:02.897Z"
   },
   {
    "duration": 4639,
    "start_time": "2023-05-20T06:09:31.280Z"
   },
   {
    "duration": 5332,
    "start_time": "2023-05-20T06:12:46.377Z"
   },
   {
    "duration": 2220,
    "start_time": "2023-05-20T06:13:57.299Z"
   },
   {
    "duration": 1876,
    "start_time": "2023-05-20T06:14:59.954Z"
   },
   {
    "duration": 1917,
    "start_time": "2023-05-20T06:16:42.034Z"
   },
   {
    "duration": 1939,
    "start_time": "2023-05-20T06:28:38.061Z"
   },
   {
    "duration": 1913,
    "start_time": "2023-05-20T06:29:06.351Z"
   },
   {
    "duration": 1770,
    "start_time": "2023-05-20T06:38:50.961Z"
   },
   {
    "duration": 1812,
    "start_time": "2023-05-20T06:39:36.891Z"
   },
   {
    "duration": 374,
    "start_time": "2023-05-20T06:48:55.422Z"
   },
   {
    "duration": 2262,
    "start_time": "2023-05-20T06:53:45.081Z"
   },
   {
    "duration": 466,
    "start_time": "2023-05-20T06:53:50.192Z"
   },
   {
    "duration": 289,
    "start_time": "2023-05-20T06:53:52.881Z"
   },
   {
    "duration": 209,
    "start_time": "2023-05-20T06:53:57.793Z"
   },
   {
    "duration": 2474,
    "start_time": "2023-05-20T06:54:28.185Z"
   },
   {
    "duration": 2011,
    "start_time": "2023-05-20T06:56:54.931Z"
   },
   {
    "duration": 2285,
    "start_time": "2023-05-20T06:57:42.507Z"
   },
   {
    "duration": 1892,
    "start_time": "2023-05-20T06:59:46.867Z"
   },
   {
    "duration": 6038,
    "start_time": "2023-05-20T07:06:45.461Z"
   },
   {
    "duration": 1722,
    "start_time": "2023-05-20T07:10:45.068Z"
   },
   {
    "duration": 2512,
    "start_time": "2023-05-20T07:10:49.057Z"
   },
   {
    "duration": 316,
    "start_time": "2023-05-20T07:10:56.463Z"
   },
   {
    "duration": 225,
    "start_time": "2023-05-20T07:10:59.695Z"
   },
   {
    "duration": 5763,
    "start_time": "2023-05-20T07:11:03.583Z"
   },
   {
    "duration": 501,
    "start_time": "2023-05-20T07:14:48.416Z"
   },
   {
    "duration": 2008,
    "start_time": "2023-05-20T07:14:59.585Z"
   },
   {
    "duration": 536,
    "start_time": "2023-05-20T07:17:17.439Z"
   },
   {
    "duration": 630,
    "start_time": "2023-05-20T07:18:02.306Z"
   },
   {
    "duration": 558,
    "start_time": "2023-05-20T07:18:42.194Z"
   },
   {
    "duration": 364,
    "start_time": "2023-05-20T07:18:59.382Z"
   },
   {
    "duration": 6891,
    "start_time": "2023-05-20T07:28:08.341Z"
   },
   {
    "duration": 6838,
    "start_time": "2023-05-20T07:30:37.743Z"
   },
   {
    "duration": 384,
    "start_time": "2023-05-20T07:32:23.351Z"
   },
   {
    "duration": 7246,
    "start_time": "2023-05-20T07:34:54.320Z"
   },
   {
    "duration": 8246,
    "start_time": "2023-05-20T07:35:51.787Z"
   },
   {
    "duration": 6992,
    "start_time": "2023-05-20T07:38:05.825Z"
   },
   {
    "duration": 8514,
    "start_time": "2023-05-20T07:40:40.122Z"
   },
   {
    "duration": 106,
    "start_time": "2023-05-20T07:45:18.107Z"
   },
   {
    "duration": 83,
    "start_time": "2023-05-20T07:45:26.626Z"
   },
   {
    "duration": 63,
    "start_time": "2023-05-20T07:45:42.011Z"
   },
   {
    "duration": 278,
    "start_time": "2023-05-20T07:52:46.462Z"
   },
   {
    "duration": 334,
    "start_time": "2023-05-20T07:53:48.150Z"
   },
   {
    "duration": 419,
    "start_time": "2023-05-20T07:54:31.431Z"
   },
   {
    "duration": 516,
    "start_time": "2023-05-20T07:55:44.687Z"
   },
   {
    "duration": 561,
    "start_time": "2023-05-20T07:59:14.752Z"
   },
   {
    "duration": 1135,
    "start_time": "2023-05-20T07:59:44.352Z"
   },
   {
    "duration": 555,
    "start_time": "2023-05-20T08:00:14.426Z"
   },
   {
    "duration": 244,
    "start_time": "2023-05-20T08:02:13.050Z"
   },
   {
    "duration": 2698,
    "start_time": "2023-05-20T08:02:24.042Z"
   },
   {
    "duration": 368,
    "start_time": "2023-05-20T08:02:30.981Z"
   },
   {
    "duration": 247,
    "start_time": "2023-05-20T08:02:33.585Z"
   },
   {
    "duration": 261,
    "start_time": "2023-05-20T08:02:36.888Z"
   },
   {
    "duration": 65,
    "start_time": "2023-05-20T08:04:57.843Z"
   },
   {
    "duration": 1457,
    "start_time": "2023-05-20T08:05:29.371Z"
   },
   {
    "duration": 78,
    "start_time": "2023-05-20T08:07:42.286Z"
   },
   {
    "duration": 1621,
    "start_time": "2023-05-20T08:09:45.093Z"
   },
   {
    "duration": 1419,
    "start_time": "2023-05-20T08:10:14.156Z"
   },
   {
    "duration": 1465,
    "start_time": "2023-05-20T08:10:53.813Z"
   },
   {
    "duration": 62,
    "start_time": "2023-05-20T08:11:39.437Z"
   },
   {
    "duration": 77,
    "start_time": "2023-05-20T08:13:17.263Z"
   },
   {
    "duration": 90,
    "start_time": "2023-05-20T08:13:59.068Z"
   },
   {
    "duration": 2280,
    "start_time": "2023-05-20T08:14:05.597Z"
   },
   {
    "duration": 2345,
    "start_time": "2023-05-20T08:14:11.538Z"
   },
   {
    "duration": 312,
    "start_time": "2023-05-20T08:14:17.685Z"
   },
   {
    "duration": 239,
    "start_time": "2023-05-20T08:14:20.605Z"
   },
   {
    "duration": 74,
    "start_time": "2023-05-20T08:14:27.286Z"
   },
   {
    "duration": 68,
    "start_time": "2023-05-20T08:15:02.088Z"
   },
   {
    "duration": 64,
    "start_time": "2023-05-20T08:16:24.016Z"
   },
   {
    "duration": 79,
    "start_time": "2023-05-20T08:17:05.063Z"
   },
   {
    "duration": 102,
    "start_time": "2023-05-20T08:17:31.687Z"
   },
   {
    "duration": 161,
    "start_time": "2023-05-20T08:18:20.881Z"
   },
   {
    "duration": 455,
    "start_time": "2023-05-20T08:22:44.889Z"
   },
   {
    "duration": 440,
    "start_time": "2023-05-20T08:23:05.173Z"
   },
   {
    "duration": 74,
    "start_time": "2023-05-20T08:55:14.038Z"
   },
   {
    "duration": 156,
    "start_time": "2023-05-20T09:01:45.935Z"
   },
   {
    "duration": 67,
    "start_time": "2023-05-20T09:06:54.580Z"
   },
   {
    "duration": 72,
    "start_time": "2023-05-20T09:07:07.849Z"
   },
   {
    "duration": 80,
    "start_time": "2023-05-20T09:07:28.729Z"
   },
   {
    "duration": 80,
    "start_time": "2023-05-20T09:07:48.409Z"
   },
   {
    "duration": 64,
    "start_time": "2023-05-20T09:08:15.289Z"
   },
   {
    "duration": 232,
    "start_time": "2023-05-20T09:08:31.987Z"
   },
   {
    "duration": 65,
    "start_time": "2023-05-20T09:08:50.084Z"
   },
   {
    "duration": 472,
    "start_time": "2023-05-20T09:09:08.754Z"
   },
   {
    "duration": 239,
    "start_time": "2023-05-20T09:11:26.683Z"
   },
   {
    "duration": 275,
    "start_time": "2023-05-20T09:11:41.368Z"
   },
   {
    "duration": 235,
    "start_time": "2023-05-20T09:11:55.291Z"
   },
   {
    "duration": 74,
    "start_time": "2023-05-20T09:14:29.589Z"
   },
   {
    "duration": 56,
    "start_time": "2023-05-20T09:15:06.283Z"
   },
   {
    "duration": 62,
    "start_time": "2023-05-20T09:16:47.925Z"
   },
   {
    "duration": 343,
    "start_time": "2023-05-20T09:18:33.030Z"
   },
   {
    "duration": 317,
    "start_time": "2023-05-20T09:20:08.276Z"
   },
   {
    "duration": 2401,
    "start_time": "2023-05-20T09:52:16.210Z"
   },
   {
    "duration": 2390,
    "start_time": "2023-05-20T10:06:40.702Z"
   },
   {
    "duration": 355,
    "start_time": "2023-05-20T10:06:46.286Z"
   },
   {
    "duration": 276,
    "start_time": "2023-05-20T10:06:51.615Z"
   },
   {
    "duration": 6367,
    "start_time": "2023-05-20T10:06:56.472Z"
   },
   {
    "duration": 6931,
    "start_time": "2023-05-20T10:39:58.244Z"
   },
   {
    "duration": 0,
    "start_time": "2023-05-20T10:43:18.826Z"
   },
   {
    "duration": 0,
    "start_time": "2023-05-20T10:43:18.831Z"
   },
   {
    "duration": 2222,
    "start_time": "2023-05-20T10:43:22.180Z"
   },
   {
    "duration": 360,
    "start_time": "2023-05-20T10:43:29.820Z"
   },
   {
    "duration": 250,
    "start_time": "2023-05-20T10:43:33.477Z"
   },
   {
    "duration": 4076,
    "start_time": "2023-05-20T10:43:37.701Z"
   },
   {
    "duration": 5092,
    "start_time": "2023-05-20T10:44:11.142Z"
   },
   {
    "duration": 1188,
    "start_time": "2023-05-20T10:44:52.099Z"
   },
   {
    "duration": 2229,
    "start_time": "2023-05-20T10:44:58.605Z"
   },
   {
    "duration": 327,
    "start_time": "2023-05-20T10:45:06.636Z"
   },
   {
    "duration": 284,
    "start_time": "2023-05-20T10:45:12.396Z"
   },
   {
    "duration": 5545,
    "start_time": "2023-05-20T10:45:16.046Z"
   },
   {
    "duration": 4522,
    "start_time": "2023-05-20T11:10:51.677Z"
   },
   {
    "duration": 412,
    "start_time": "2023-05-20T11:10:59.399Z"
   },
   {
    "duration": 259,
    "start_time": "2023-05-20T11:11:04.095Z"
   },
   {
    "duration": 6862,
    "start_time": "2023-05-20T11:11:08.239Z"
   },
   {
    "duration": 3220,
    "start_time": "2023-05-21T08:33:33.557Z"
   },
   {
    "duration": 286,
    "start_time": "2023-05-21T08:33:36.779Z"
   },
   {
    "duration": 226,
    "start_time": "2023-05-21T08:33:37.066Z"
   },
   {
    "duration": 4633,
    "start_time": "2023-05-21T08:33:37.293Z"
   },
   {
    "duration": 577,
    "start_time": "2023-05-21T09:23:26.400Z"
   },
   {
    "duration": 573,
    "start_time": "2023-05-22T07:40:54.110Z"
   },
   {
    "duration": 17,
    "start_time": "2023-05-22T07:55:12.274Z"
   },
   {
    "duration": 2617,
    "start_time": "2023-05-22T08:11:30.990Z"
   },
   {
    "duration": 4230,
    "start_time": "2023-05-22T08:15:30.490Z"
   },
   {
    "duration": 4727,
    "start_time": "2023-05-22T08:48:21.421Z"
   },
   {
    "duration": 10,
    "start_time": "2023-05-22T08:48:37.923Z"
   },
   {
    "duration": 15,
    "start_time": "2023-05-22T08:48:43.139Z"
   },
   {
    "duration": 12,
    "start_time": "2023-05-22T08:48:51.611Z"
   },
   {
    "duration": 21,
    "start_time": "2023-05-22T08:49:02.227Z"
   },
   {
    "duration": 36,
    "start_time": "2023-05-22T08:50:20.972Z"
   },
   {
    "duration": 88,
    "start_time": "2023-05-22T08:56:22.770Z"
   },
   {
    "duration": 12,
    "start_time": "2023-05-22T08:56:41.755Z"
   },
   {
    "duration": 11,
    "start_time": "2023-05-22T08:56:51.353Z"
   },
   {
    "duration": 30,
    "start_time": "2023-05-22T08:58:40.144Z"
   },
   {
    "duration": 37,
    "start_time": "2023-05-22T09:04:00.297Z"
   },
   {
    "duration": 33,
    "start_time": "2023-05-22T09:04:22.825Z"
   },
   {
    "duration": 24,
    "start_time": "2023-05-22T09:05:18.361Z"
   },
   {
    "duration": 95,
    "start_time": "2023-05-22T09:08:21.400Z"
   },
   {
    "duration": 68,
    "start_time": "2023-05-22T09:08:51.223Z"
   },
   {
    "duration": 23,
    "start_time": "2023-05-22T09:09:26.343Z"
   },
   {
    "duration": 22,
    "start_time": "2023-05-22T09:09:38.095Z"
   },
   {
    "duration": 31,
    "start_time": "2023-05-22T09:11:53.158Z"
   },
   {
    "duration": 4195,
    "start_time": "2023-05-22T09:12:38.706Z"
   },
   {
    "duration": 12,
    "start_time": "2023-05-22T09:12:43.592Z"
   },
   {
    "duration": 17,
    "start_time": "2023-05-22T09:12:47.422Z"
   },
   {
    "duration": 13,
    "start_time": "2023-05-22T09:12:50.247Z"
   },
   {
    "duration": 21,
    "start_time": "2023-05-22T09:12:54.350Z"
   },
   {
    "duration": 13,
    "start_time": "2023-05-22T09:12:57.879Z"
   },
   {
    "duration": 14,
    "start_time": "2023-05-22T09:13:01.030Z"
   },
   {
    "duration": 35,
    "start_time": "2023-05-22T09:13:05.022Z"
   },
   {
    "duration": 27,
    "start_time": "2023-05-22T09:13:20.023Z"
   },
   {
    "duration": 28,
    "start_time": "2023-05-22T09:14:28.702Z"
   },
   {
    "duration": 269,
    "start_time": "2023-05-22T09:14:49.798Z"
   },
   {
    "duration": 2356,
    "start_time": "2023-05-22T09:15:08.078Z"
   },
   {
    "duration": 4161,
    "start_time": "2023-05-22T09:15:41.014Z"
   },
   {
    "duration": 171,
    "start_time": "2023-05-22T09:16:04.429Z"
   },
   {
    "duration": 4481,
    "start_time": "2023-05-22T09:16:07.853Z"
   },
   {
    "duration": 3,
    "start_time": "2023-05-22T09:16:29.981Z"
   },
   {
    "duration": 3,
    "start_time": "2023-05-22T09:22:54.324Z"
   },
   {
    "duration": 95,
    "start_time": "2023-05-22T09:23:39.862Z"
   },
   {
    "duration": 89,
    "start_time": "2023-05-22T09:23:51.026Z"
   },
   {
    "duration": 149,
    "start_time": "2023-05-22T09:26:54.659Z"
   },
   {
    "duration": 3738,
    "start_time": "2023-05-22T09:28:30.835Z"
   },
   {
    "duration": 3070,
    "start_time": "2023-05-22T09:29:44.427Z"
   },
   {
    "duration": 3622,
    "start_time": "2023-05-22T10:01:00.132Z"
   },
   {
    "duration": 20,
    "start_time": "2023-05-22T10:14:29.244Z"
   },
   {
    "duration": 51,
    "start_time": "2023-05-22T13:24:33.642Z"
   },
   {
    "duration": 4981,
    "start_time": "2023-05-22T13:24:49.128Z"
   },
   {
    "duration": 14,
    "start_time": "2023-05-22T13:24:56.975Z"
   },
   {
    "duration": 26,
    "start_time": "2023-05-22T13:25:00.208Z"
   },
   {
    "duration": 12,
    "start_time": "2023-05-22T13:25:03.392Z"
   },
   {
    "duration": 168,
    "start_time": "2023-05-22T13:25:07.153Z"
   },
   {
    "duration": 13,
    "start_time": "2023-05-22T13:25:10.737Z"
   },
   {
    "duration": 11,
    "start_time": "2023-05-22T13:25:13.777Z"
   },
   {
    "duration": 40,
    "start_time": "2023-05-22T13:25:34.095Z"
   },
   {
    "duration": 313,
    "start_time": "2023-05-22T13:25:39.241Z"
   },
   {
    "duration": 4037,
    "start_time": "2023-05-22T13:25:50.809Z"
   },
   {
    "duration": 12,
    "start_time": "2023-05-22T13:25:59.136Z"
   },
   {
    "duration": 4124,
    "start_time": "2023-05-22T13:26:02.321Z"
   },
   {
    "duration": 2,
    "start_time": "2023-05-22T13:26:10.408Z"
   },
   {
    "duration": 109,
    "start_time": "2023-05-22T13:26:19.617Z"
   },
   {
    "duration": 130,
    "start_time": "2023-05-22T13:26:24.674Z"
   },
   {
    "duration": 3445,
    "start_time": "2023-05-22T13:26:28.696Z"
   },
   {
    "duration": 20,
    "start_time": "2023-05-22T13:26:38.705Z"
   },
   {
    "duration": 1177,
    "start_time": "2023-05-22T13:26:43.674Z"
   },
   {
    "duration": 1165,
    "start_time": "2023-05-22T13:27:04.888Z"
   },
   {
    "duration": 11,
    "start_time": "2023-05-22T13:30:35.322Z"
   },
   {
    "duration": 10,
    "start_time": "2023-05-22T13:31:50.385Z"
   },
   {
    "duration": 45,
    "start_time": "2023-05-22T13:32:05.874Z"
   },
   {
    "duration": 11,
    "start_time": "2023-05-22T13:32:25.179Z"
   },
   {
    "duration": 14,
    "start_time": "2023-05-22T13:32:33.731Z"
   },
   {
    "duration": 12,
    "start_time": "2023-05-22T13:32:54.923Z"
   },
   {
    "duration": 10,
    "start_time": "2023-05-22T13:33:03.979Z"
   },
   {
    "duration": 10,
    "start_time": "2023-05-22T13:34:31.380Z"
   },
   {
    "duration": 161,
    "start_time": "2023-05-22T13:36:48.804Z"
   },
   {
    "duration": 184,
    "start_time": "2023-05-22T13:38:14.788Z"
   },
   {
    "duration": 203,
    "start_time": "2023-05-22T13:40:14.866Z"
   },
   {
    "duration": 209,
    "start_time": "2023-05-22T13:41:40.280Z"
   },
   {
    "duration": 203,
    "start_time": "2023-05-22T13:41:56.848Z"
   },
   {
    "duration": 213,
    "start_time": "2023-05-22T13:42:06.991Z"
   },
   {
    "duration": 5549,
    "start_time": "2023-05-22T20:17:38.815Z"
   },
   {
    "duration": 12,
    "start_time": "2023-05-22T20:17:44.366Z"
   },
   {
    "duration": 97,
    "start_time": "2023-05-22T20:17:44.379Z"
   },
   {
    "duration": 91,
    "start_time": "2023-05-22T20:17:44.478Z"
   },
   {
    "duration": 35,
    "start_time": "2023-05-22T20:17:44.571Z"
   },
   {
    "duration": 74,
    "start_time": "2023-05-22T20:17:44.607Z"
   },
   {
    "duration": 48,
    "start_time": "2023-05-22T20:17:44.682Z"
   },
   {
    "duration": 60,
    "start_time": "2023-05-22T20:17:44.731Z"
   },
   {
    "duration": 483,
    "start_time": "2023-05-22T20:17:44.792Z"
   },
   {
    "duration": 4942,
    "start_time": "2023-05-22T20:17:45.276Z"
   },
   {
    "duration": 40,
    "start_time": "2023-05-22T20:17:50.227Z"
   },
   {
    "duration": 4785,
    "start_time": "2023-05-22T20:17:50.269Z"
   },
   {
    "duration": 6,
    "start_time": "2023-05-22T20:17:55.062Z"
   },
   {
    "duration": 184,
    "start_time": "2023-05-22T20:17:55.070Z"
   },
   {
    "duration": 156,
    "start_time": "2023-05-22T20:17:55.263Z"
   },
   {
    "duration": 4054,
    "start_time": "2023-05-22T20:17:55.421Z"
   },
   {
    "duration": 66,
    "start_time": "2023-05-22T20:17:59.477Z"
   },
   {
    "duration": 1503,
    "start_time": "2023-05-22T20:17:59.547Z"
   },
   {
    "duration": 16,
    "start_time": "2023-05-22T20:18:01.061Z"
   },
   {
    "duration": 342,
    "start_time": "2023-05-22T20:18:01.079Z"
   },
   {
    "duration": 19,
    "start_time": "2023-05-22T20:23:03.713Z"
   },
   {
    "duration": 76,
    "start_time": "2023-05-22T20:32:14.258Z"
   },
   {
    "duration": 5567,
    "start_time": "2023-05-23T06:20:37.006Z"
   },
   {
    "duration": 10,
    "start_time": "2023-05-23T06:20:49.965Z"
   },
   {
    "duration": 18,
    "start_time": "2023-05-23T06:20:55.316Z"
   },
   {
    "duration": 14,
    "start_time": "2023-05-23T06:21:46.189Z"
   },
   {
    "duration": 11,
    "start_time": "2023-05-23T06:27:58.783Z"
   },
   {
    "duration": 280,
    "start_time": "2023-05-23T06:28:03.173Z"
   },
   {
    "duration": 13,
    "start_time": "2023-05-23T06:28:07.220Z"
   },
   {
    "duration": 27,
    "start_time": "2023-05-23T06:28:14.213Z"
   },
   {
    "duration": 78,
    "start_time": "2023-05-23T06:31:28.618Z"
   },
   {
    "duration": 101,
    "start_time": "2023-05-23T06:31:50.692Z"
   },
   {
    "duration": 9,
    "start_time": "2023-05-23T06:32:23.053Z"
   },
   {
    "duration": 407,
    "start_time": "2023-05-23T06:33:01.934Z"
   },
   {
    "duration": 12,
    "start_time": "2023-05-23T06:34:13.076Z"
   },
   {
    "duration": 355,
    "start_time": "2023-05-23T06:34:19.916Z"
   },
   {
    "duration": 51,
    "start_time": "2023-05-23T06:34:44.396Z"
   },
   {
    "duration": 289,
    "start_time": "2023-05-23T06:34:48.519Z"
   },
   {
    "duration": 4763,
    "start_time": "2023-05-23T06:35:04.632Z"
   },
   {
    "duration": 11,
    "start_time": "2023-05-23T06:35:16.540Z"
   },
   {
    "duration": 15,
    "start_time": "2023-05-23T06:35:20.435Z"
   },
   {
    "duration": 36,
    "start_time": "2023-05-23T06:35:24.398Z"
   },
   {
    "duration": 20,
    "start_time": "2023-05-23T06:35:28.275Z"
   },
   {
    "duration": 10,
    "start_time": "2023-05-23T06:35:50.668Z"
   },
   {
    "duration": 22,
    "start_time": "2023-05-23T06:35:54.427Z"
   },
   {
    "duration": 13,
    "start_time": "2023-05-23T06:35:59.539Z"
   },
   {
    "duration": 16,
    "start_time": "2023-05-23T06:36:04.660Z"
   },
   {
    "duration": 47,
    "start_time": "2023-05-23T06:36:11.356Z"
   },
   {
    "duration": 342,
    "start_time": "2023-05-23T06:36:16.933Z"
   },
   {
    "duration": 5435,
    "start_time": "2023-05-23T06:37:03.933Z"
   },
   {
    "duration": 11,
    "start_time": "2023-05-23T06:38:26.875Z"
   },
   {
    "duration": 24,
    "start_time": "2023-05-23T06:41:40.980Z"
   },
   {
    "duration": 18,
    "start_time": "2023-05-23T06:41:50.636Z"
   },
   {
    "duration": 5500,
    "start_time": "2023-05-23T06:41:58.675Z"
   },
   {
    "duration": 28,
    "start_time": "2023-05-23T06:43:31.524Z"
   },
   {
    "duration": 22,
    "start_time": "2023-05-23T06:43:42.067Z"
   },
   {
    "duration": 5607,
    "start_time": "2023-05-23T06:44:01.345Z"
   },
   {
    "duration": 13,
    "start_time": "2023-05-23T06:44:12.380Z"
   },
   {
    "duration": 18,
    "start_time": "2023-05-23T06:44:16.419Z"
   },
   {
    "duration": 30,
    "start_time": "2023-05-23T06:44:19.595Z"
   },
   {
    "duration": 23,
    "start_time": "2023-05-23T06:44:23.531Z"
   },
   {
    "duration": 22,
    "start_time": "2023-05-23T06:44:28.014Z"
   },
   {
    "duration": 11,
    "start_time": "2023-05-23T06:44:32.371Z"
   },
   {
    "duration": 30,
    "start_time": "2023-05-23T06:44:37.771Z"
   },
   {
    "duration": 251,
    "start_time": "2023-05-23T06:44:46.035Z"
   },
   {
    "duration": 5350,
    "start_time": "2023-05-23T06:44:55.044Z"
   },
   {
    "duration": 37,
    "start_time": "2023-05-23T06:45:38.724Z"
   },
   {
    "duration": 6164,
    "start_time": "2023-05-23T06:45:52.459Z"
   },
   {
    "duration": 3,
    "start_time": "2023-05-23T06:46:20.675Z"
   },
   {
    "duration": 340,
    "start_time": "2023-05-23T06:46:32.468Z"
   },
   {
    "duration": 171,
    "start_time": "2023-05-23T06:46:50.163Z"
   },
   {
    "duration": 4344,
    "start_time": "2023-05-23T06:49:06.668Z"
   },
   {
    "duration": 29,
    "start_time": "2023-05-23T06:50:45.459Z"
   },
   {
    "duration": 54,
    "start_time": "2023-05-23T06:52:21.435Z"
   },
   {
    "duration": 34,
    "start_time": "2023-05-23T06:53:20.179Z"
   },
   {
    "duration": 24,
    "start_time": "2023-05-23T06:55:14.218Z"
   },
   {
    "duration": 47,
    "start_time": "2023-05-23T06:55:54.810Z"
   },
   {
    "duration": 59,
    "start_time": "2023-05-23T06:57:50.712Z"
   },
   {
    "duration": 79,
    "start_time": "2023-05-23T06:58:14.498Z"
   },
   {
    "duration": 26,
    "start_time": "2023-05-23T06:58:45.266Z"
   },
   {
    "duration": 61,
    "start_time": "2023-05-23T07:10:13.945Z"
   },
   {
    "duration": 80,
    "start_time": "2023-05-23T07:10:47.938Z"
   },
   {
    "duration": 138,
    "start_time": "2023-05-23T07:15:50.818Z"
   },
   {
    "duration": 237,
    "start_time": "2023-05-23T07:17:36.638Z"
   },
   {
    "duration": 239,
    "start_time": "2023-05-23T07:20:58.891Z"
   },
   {
    "duration": 465,
    "start_time": "2023-05-23T07:26:49.126Z"
   },
   {
    "duration": 338,
    "start_time": "2023-05-23T07:33:00.898Z"
   },
   {
    "duration": 361,
    "start_time": "2023-05-23T07:33:50.301Z"
   },
   {
    "duration": 325,
    "start_time": "2023-05-23T07:34:00.819Z"
   },
   {
    "duration": 314,
    "start_time": "2023-05-23T07:36:07.626Z"
   },
   {
    "duration": 248,
    "start_time": "2023-05-23T07:37:47.633Z"
   },
   {
    "duration": 45,
    "start_time": "2023-05-23T07:47:42.751Z"
   },
   {
    "duration": 261,
    "start_time": "2023-05-23T07:48:21.984Z"
   },
   {
    "duration": 0,
    "start_time": "2023-05-23T08:12:11.660Z"
   },
   {
    "duration": 0,
    "start_time": "2023-05-23T08:12:11.662Z"
   },
   {
    "duration": 0,
    "start_time": "2023-05-23T08:12:11.667Z"
   },
   {
    "duration": 11486,
    "start_time": "2023-05-23T08:12:13.738Z"
   },
   {
    "duration": 10,
    "start_time": "2023-05-23T08:12:25.226Z"
   },
   {
    "duration": 30,
    "start_time": "2023-05-23T08:12:29.194Z"
   },
   {
    "duration": 12,
    "start_time": "2023-05-23T08:12:32.682Z"
   },
   {
    "duration": 57,
    "start_time": "2023-05-23T08:12:35.779Z"
   },
   {
    "duration": 26,
    "start_time": "2023-05-23T08:12:39.290Z"
   },
   {
    "duration": 17,
    "start_time": "2023-05-23T08:12:43.225Z"
   },
   {
    "duration": 48,
    "start_time": "2023-05-23T08:12:46.346Z"
   },
   {
    "duration": 318,
    "start_time": "2023-05-23T08:12:50.458Z"
   },
   {
    "duration": 5071,
    "start_time": "2023-05-23T08:12:54.842Z"
   },
   {
    "duration": 4794,
    "start_time": "2023-05-23T08:13:01.450Z"
   },
   {
    "duration": 6,
    "start_time": "2023-05-23T08:13:15.207Z"
   },
   {
    "duration": 381,
    "start_time": "2023-05-23T08:13:20.090Z"
   },
   {
    "duration": 138,
    "start_time": "2023-05-23T08:13:25.424Z"
   },
   {
    "duration": 3773,
    "start_time": "2023-05-23T08:13:35.818Z"
   },
   {
    "duration": 240,
    "start_time": "2023-05-23T08:13:48.414Z"
   },
   {
    "duration": 282,
    "start_time": "2023-05-23T08:14:04.434Z"
   },
   {
    "duration": 1824,
    "start_time": "2023-05-23T08:14:26.554Z"
   },
   {
    "duration": 2872,
    "start_time": "2023-05-23T08:15:30.265Z"
   },
   {
    "duration": 815,
    "start_time": "2023-05-23T08:31:21.757Z"
   },
   {
    "duration": 4363,
    "start_time": "2023-05-23T08:31:44.750Z"
   },
   {
    "duration": 10,
    "start_time": "2023-05-23T08:31:52.725Z"
   },
   {
    "duration": 18,
    "start_time": "2023-05-23T08:31:56.029Z"
   },
   {
    "duration": 12,
    "start_time": "2023-05-23T08:31:59.244Z"
   },
   {
    "duration": 22,
    "start_time": "2023-05-23T08:32:02.773Z"
   },
   {
    "duration": 13,
    "start_time": "2023-05-23T08:32:07.453Z"
   },
   {
    "duration": 10,
    "start_time": "2023-05-23T08:32:10.973Z"
   },
   {
    "duration": 27,
    "start_time": "2023-05-23T08:32:14.901Z"
   },
   {
    "duration": 229,
    "start_time": "2023-05-23T08:32:20.765Z"
   },
   {
    "duration": 290,
    "start_time": "2023-05-23T08:33:09.189Z"
   },
   {
    "duration": 4431,
    "start_time": "2023-05-23T08:33:18.997Z"
   },
   {
    "duration": 27,
    "start_time": "2023-05-23T08:33:42.140Z"
   },
   {
    "duration": 4634,
    "start_time": "2023-05-23T08:33:55.181Z"
   },
   {
    "duration": 2,
    "start_time": "2023-05-23T08:34:04.677Z"
   },
   {
    "duration": 531,
    "start_time": "2023-05-23T08:34:10.436Z"
   },
   {
    "duration": 141,
    "start_time": "2023-05-23T08:34:16.510Z"
   },
   {
    "duration": 3474,
    "start_time": "2023-05-23T08:34:23.789Z"
   },
   {
    "duration": 197,
    "start_time": "2023-05-23T08:34:39.117Z"
   },
   {
    "duration": 233,
    "start_time": "2023-05-23T08:34:49.694Z"
   },
   {
    "duration": 33,
    "start_time": "2023-05-23T08:34:57.149Z"
   },
   {
    "duration": 20192,
    "start_time": "2023-05-23T08:35:33.591Z"
   },
   {
    "duration": 18322,
    "start_time": "2023-05-23T08:38:23.052Z"
   },
   {
    "duration": 175,
    "start_time": "2023-05-23T08:46:58.992Z"
   },
   {
    "duration": 152,
    "start_time": "2023-05-23T08:47:16.283Z"
   },
   {
    "duration": 177,
    "start_time": "2023-05-23T08:47:28.315Z"
   },
   {
    "duration": 18432,
    "start_time": "2023-05-23T08:48:07.656Z"
   },
   {
    "duration": 18760,
    "start_time": "2023-05-23T08:48:27.818Z"
   },
   {
    "duration": 18986,
    "start_time": "2023-05-23T08:48:58.602Z"
   },
   {
    "duration": 18419,
    "start_time": "2023-05-23T08:49:47.123Z"
   },
   {
    "duration": 16458,
    "start_time": "2023-05-23T08:52:44.489Z"
   },
   {
    "duration": 8426,
    "start_time": "2023-05-23T09:10:52.108Z"
   },
   {
    "duration": 16,
    "start_time": "2023-05-23T09:12:28.277Z"
   },
   {
    "duration": 158,
    "start_time": "2023-05-23T09:12:40.343Z"
   },
   {
    "duration": 251,
    "start_time": "2023-05-23T09:14:11.078Z"
   },
   {
    "duration": 714,
    "start_time": "2023-05-23T09:17:06.491Z"
   },
   {
    "duration": 196,
    "start_time": "2023-05-23T09:18:36.237Z"
   },
   {
    "duration": 161,
    "start_time": "2023-05-23T09:19:35.521Z"
   },
   {
    "duration": 19921,
    "start_time": "2023-05-23T09:21:45.817Z"
   },
   {
    "duration": 5,
    "start_time": "2023-05-23T09:22:59.657Z"
   },
   {
    "duration": 35,
    "start_time": "2023-05-23T09:23:38.754Z"
   },
   {
    "duration": 19559,
    "start_time": "2023-05-23T09:23:56.547Z"
   },
   {
    "duration": 5,
    "start_time": "2023-05-23T09:26:33.808Z"
   },
   {
    "duration": 7,
    "start_time": "2023-05-23T09:27:17.008Z"
   },
   {
    "duration": 9100,
    "start_time": "2023-05-23T09:28:58.352Z"
   },
   {
    "duration": 17835,
    "start_time": "2023-05-23T09:29:15.939Z"
   },
   {
    "duration": 15064,
    "start_time": "2023-05-23T09:29:40.739Z"
   },
   {
    "duration": 163,
    "start_time": "2023-05-23T09:30:52.607Z"
   },
   {
    "duration": 255,
    "start_time": "2023-05-23T09:31:25.303Z"
   },
   {
    "duration": 18367,
    "start_time": "2023-05-23T09:40:22.174Z"
   },
   {
    "duration": 15158,
    "start_time": "2023-05-23T09:40:56.646Z"
   },
   {
    "duration": 8490,
    "start_time": "2023-05-23T09:41:17.494Z"
   },
   {
    "duration": 174,
    "start_time": "2023-05-23T09:41:32.294Z"
   },
   {
    "duration": 255,
    "start_time": "2023-05-23T09:41:37.341Z"
   },
   {
    "duration": 172,
    "start_time": "2023-05-23T09:44:48.693Z"
   },
   {
    "duration": 204,
    "start_time": "2023-05-23T09:44:53.221Z"
   },
   {
    "duration": 195,
    "start_time": "2023-05-23T09:46:15.798Z"
   },
   {
    "duration": 149,
    "start_time": "2023-05-23T09:46:45.862Z"
   },
   {
    "duration": 153,
    "start_time": "2023-05-23T09:47:21.590Z"
   },
   {
    "duration": 12,
    "start_time": "2023-05-23T09:51:17.125Z"
   },
   {
    "duration": 52,
    "start_time": "2023-05-23T10:01:15.860Z"
   },
   {
    "duration": 52,
    "start_time": "2023-05-23T10:02:00.261Z"
   },
   {
    "duration": 255,
    "start_time": "2023-05-23T10:02:29.886Z"
   },
   {
    "duration": 213,
    "start_time": "2023-05-23T10:04:39.026Z"
   },
   {
    "duration": 1079,
    "start_time": "2023-05-23T10:06:13.261Z"
   },
   {
    "duration": 273,
    "start_time": "2023-05-23T10:06:36.661Z"
   },
   {
    "duration": 946,
    "start_time": "2023-05-23T10:07:21.007Z"
   },
   {
    "duration": 213,
    "start_time": "2023-05-23T10:07:34.847Z"
   },
   {
    "duration": 192,
    "start_time": "2023-05-23T10:08:52.345Z"
   },
   {
    "duration": 204,
    "start_time": "2023-05-23T10:11:18.259Z"
   },
   {
    "duration": 220,
    "start_time": "2023-05-23T10:12:05.659Z"
   },
   {
    "duration": 13,
    "start_time": "2023-05-23T10:17:07.408Z"
   },
   {
    "duration": 290,
    "start_time": "2023-05-23T10:30:36.903Z"
   },
   {
    "duration": 611,
    "start_time": "2023-05-23T10:31:28.199Z"
   },
   {
    "duration": 200,
    "start_time": "2023-05-23T10:37:20.750Z"
   },
   {
    "duration": 174,
    "start_time": "2023-05-23T10:37:33.980Z"
   },
   {
    "duration": 160,
    "start_time": "2023-05-23T10:49:49.706Z"
   },
   {
    "duration": 167,
    "start_time": "2023-05-23T10:52:20.542Z"
   },
   {
    "duration": 35,
    "start_time": "2023-05-23T10:53:23.745Z"
   },
   {
    "duration": 44,
    "start_time": "2023-05-23T10:54:26.746Z"
   },
   {
    "duration": 173,
    "start_time": "2023-05-23T10:55:02.370Z"
   },
   {
    "duration": 169,
    "start_time": "2023-05-23T10:55:37.733Z"
   },
   {
    "duration": 74,
    "start_time": "2023-05-23T13:55:12.139Z"
   },
   {
    "duration": 4173,
    "start_time": "2023-05-24T04:54:29.883Z"
   },
   {
    "duration": 13,
    "start_time": "2023-05-24T04:54:34.058Z"
   },
   {
    "duration": 23,
    "start_time": "2023-05-24T04:54:34.073Z"
   },
   {
    "duration": 15,
    "start_time": "2023-05-24T04:54:34.097Z"
   },
   {
    "duration": 18,
    "start_time": "2023-05-24T04:54:34.115Z"
   },
   {
    "duration": 12,
    "start_time": "2023-05-24T04:54:34.134Z"
   },
   {
    "duration": 14,
    "start_time": "2023-05-24T04:54:34.147Z"
   },
   {
    "duration": 28,
    "start_time": "2023-05-24T04:54:34.184Z"
   },
   {
    "duration": 271,
    "start_time": "2023-05-24T04:54:34.214Z"
   },
   {
    "duration": 4112,
    "start_time": "2023-05-24T04:54:34.487Z"
   },
   {
    "duration": 37,
    "start_time": "2023-05-24T04:54:38.601Z"
   },
   {
    "duration": 3646,
    "start_time": "2023-05-24T04:54:38.640Z"
   },
   {
    "duration": 2,
    "start_time": "2023-05-24T04:54:42.288Z"
   },
   {
    "duration": 452,
    "start_time": "2023-05-24T04:54:42.293Z"
   },
   {
    "duration": 113,
    "start_time": "2023-05-24T04:54:42.747Z"
   },
   {
    "duration": 2919,
    "start_time": "2023-05-24T04:54:42.862Z"
   },
   {
    "duration": 169,
    "start_time": "2023-05-24T04:54:45.784Z"
   },
   {
    "duration": 232,
    "start_time": "2023-05-24T04:54:45.955Z"
   },
   {
    "duration": 14476,
    "start_time": "2023-05-24T04:54:46.189Z"
   },
   {
    "duration": 11915,
    "start_time": "2023-05-24T04:55:00.666Z"
   },
   {
    "duration": 6836,
    "start_time": "2023-05-24T04:55:12.583Z"
   },
   {
    "duration": 143,
    "start_time": "2023-05-24T04:55:19.421Z"
   },
   {
    "duration": 225,
    "start_time": "2023-05-24T04:55:19.566Z"
   },
   {
    "duration": 154,
    "start_time": "2023-05-24T04:55:19.792Z"
   },
   {
    "duration": 165,
    "start_time": "2023-05-24T04:55:19.948Z"
   },
   {
    "duration": 140,
    "start_time": "2023-05-24T04:55:20.114Z"
   },
   {
    "duration": 11,
    "start_time": "2023-05-24T04:55:20.255Z"
   },
   {
    "duration": 163,
    "start_time": "2023-05-24T04:55:20.268Z"
   },
   {
    "duration": 49,
    "start_time": "2023-06-06T05:57:49.345Z"
   },
   {
    "duration": 4532,
    "start_time": "2023-06-06T05:58:02.073Z"
   },
   {
    "duration": 10,
    "start_time": "2023-06-06T05:58:09.824Z"
   },
   {
    "duration": 17,
    "start_time": "2023-06-06T05:58:13.161Z"
   },
   {
    "duration": 12,
    "start_time": "2023-06-06T05:58:16.505Z"
   },
   {
    "duration": 19,
    "start_time": "2023-06-06T05:58:21.113Z"
   },
   {
    "duration": 16,
    "start_time": "2023-06-06T05:58:24.777Z"
   },
   {
    "duration": 9,
    "start_time": "2023-06-06T05:58:27.504Z"
   },
   {
    "duration": 25,
    "start_time": "2023-06-06T05:58:30.408Z"
   },
   {
    "duration": 236,
    "start_time": "2023-06-06T05:58:34.833Z"
   },
   {
    "duration": 4074,
    "start_time": "2023-06-06T05:58:39.032Z"
   },
   {
    "duration": 25,
    "start_time": "2023-06-06T05:58:49.480Z"
   },
   {
    "duration": 3925,
    "start_time": "2023-06-06T05:58:53.424Z"
   },
   {
    "duration": 2,
    "start_time": "2023-06-06T05:58:58.248Z"
   },
   {
    "duration": 2,
    "start_time": "2023-06-06T05:59:02.297Z"
   },
   {
    "duration": 414,
    "start_time": "2023-06-06T05:59:07.760Z"
   }
  ],
  "kernelspec": {
   "display_name": "Python 3 (ipykernel)",
   "language": "python",
   "name": "python3"
  },
  "language_info": {
   "codemirror_mode": {
    "name": "ipython",
    "version": 3
   },
   "file_extension": ".py",
   "mimetype": "text/x-python",
   "name": "python",
   "nbconvert_exporter": "python",
   "pygments_lexer": "ipython3",
   "version": "3.9.5"
  },
  "toc": {
   "base_numbering": 1,
   "nav_menu": {},
   "number_sections": true,
   "sideBar": true,
   "skip_h1_title": true,
   "title_cell": "Table of Contents",
   "title_sidebar": "Contents",
   "toc_cell": false,
   "toc_position": {},
   "toc_section_display": true,
   "toc_window_display": false
  }
 },
 "nbformat": 4,
 "nbformat_minor": 2
}
