{
 "cells": [
  {
   "attachments": {},
   "cell_type": "markdown",
   "id": "4fdce7c0",
   "metadata": {},
   "source": [
    "# Исследование данных сервиса аренды самокатов GoFast\n",
    "    \n",
    "Мы рассматриваем данные сервиса аренды самокатов GoFast. Нам была передана информация о некоторых пользователях из нескольких городов, а также об их поездках. Наша задача - проанализировать данные и проверить несколько гипотез, которые могут помочь бизнесу вырасти:<br>\n",
    "1. Провести исследовательский анализ данных и рассмотреть:<br>\n",
    "    - Частоту встречаемости городов\n",
    "    - Соотношение пользователей с подпиской и без\n",
    "    - Возраст пользователей\n",
    "    - Расстояние, которое пользователь преодолел за одну поездку\n",
    "    - Продолжительность поездок\n",
    "2. Рассчитаь выручку помесячно которую принес каждый пользователь.<br>\n",
    "3. Проверить гипотезы:<br>\n",
    "    - Тратят ли пользователи с подпиской больше времени на поездки\n",
    "    - Можно ли сказать, что расстояние, которое проезжают пользователи с подпиской за одну поездку, не превышает 3130 метров\n",
    "    - Будет ли помесячная выручка от пользователей с подпиской по месяцам выше, чем выручка от пользователей без подписки\n",
    "    - Повлияет ли обновление серверов на снижение количества обращений в техподдержку\n",
    "3. Рассчитать:<br>\n",
    "    - Какое минимальное количество промокодов необходимо выдать пользователям, чтобы как минимум 100 из них продлили подписку\n",
    "    - Вероятность того, что из 1 млн пользователей, получивших пуш-уведомление в мобильном приложении, его откороют не более 399,5 тыс человек.<br>\n",
    "\n",
    "В нашем распоряжении данные состоящие из 3 таблиц: 1. /datasets/users_go.csv - данные о пользователях, 2. /datasets/rides_go.csv - данные о поездках, 3. /datasets/subscriptions_go.csv - данные о подписках и тарифах для пользователей."
   ]
  },
  {
   "cell_type": "code",
   "execution_count": 1,
   "id": "1dae53b4",
   "metadata": {},
   "outputs": [
    {
     "name": "stdout",
     "output_type": "stream",
     "text": [
      "Defaulting to user installation because normal site-packages is not writeable\n",
      "Requirement already satisfied: scipy in /Users/denismaslov/Library/Python/3.10/lib/python/site-packages (1.10.1)\n",
      "Requirement already satisfied: numpy<1.27.0,>=1.19.5 in /Users/denismaslov/Library/Python/3.10/lib/python/site-packages (from scipy) (1.23.5)\n",
      "\n",
      "\u001b[1m[\u001b[0m\u001b[34;49mnotice\u001b[0m\u001b[1;39;49m]\u001b[0m\u001b[39;49m A new release of pip available: \u001b[0m\u001b[31;49m22.3.1\u001b[0m\u001b[39;49m -> \u001b[0m\u001b[32;49m23.2\u001b[0m\n",
      "\u001b[1m[\u001b[0m\u001b[34;49mnotice\u001b[0m\u001b[1;39;49m]\u001b[0m\u001b[39;49m To update, run: \u001b[0m\u001b[32;49mpip3 install --upgrade pip\u001b[0m\n",
      "Note: you may need to restart the kernel to use updated packages.\n"
     ]
    }
   ],
   "source": [
    "pip install scipy"
   ]
  },
  {
   "cell_type": "code",
   "execution_count": 11,
   "id": "6546aebe",
   "metadata": {},
   "outputs": [
    {
     "name": "stdout",
     "output_type": "stream",
     "text": [
      "Defaulting to user installation because normal site-packages is not writeable\n",
      "Requirement already satisfied: seaborn in /Users/denismaslov/Library/Python/3.10/lib/python/site-packages (0.12.2)\n",
      "Requirement already satisfied: numpy!=1.24.0,>=1.17 in /Users/denismaslov/Library/Python/3.10/lib/python/site-packages (from seaborn) (1.25.1)\n",
      "Requirement already satisfied: matplotlib!=3.6.1,>=3.1 in /Users/denismaslov/Library/Python/3.10/lib/python/site-packages (from seaborn) (3.7.2)\n",
      "Requirement already satisfied: pandas>=0.25 in /Users/denismaslov/Library/Python/3.10/lib/python/site-packages (from seaborn) (2.0.3)\n",
      "Requirement already satisfied: contourpy>=1.0.1 in /Users/denismaslov/Library/Python/3.10/lib/python/site-packages (from matplotlib!=3.6.1,>=3.1->seaborn) (1.1.0)\n",
      "Requirement already satisfied: pillow>=6.2.0 in /Users/denismaslov/Library/Python/3.10/lib/python/site-packages (from matplotlib!=3.6.1,>=3.1->seaborn) (10.0.0)\n",
      "Requirement already satisfied: fonttools>=4.22.0 in /Users/denismaslov/Library/Python/3.10/lib/python/site-packages (from matplotlib!=3.6.1,>=3.1->seaborn) (4.41.0)\n",
      "Requirement already satisfied: python-dateutil>=2.7 in /Users/denismaslov/Library/Python/3.10/lib/python/site-packages (from matplotlib!=3.6.1,>=3.1->seaborn) (2.8.2)\n",
      "Requirement already satisfied: cycler>=0.10 in /Users/denismaslov/Library/Python/3.10/lib/python/site-packages (from matplotlib!=3.6.1,>=3.1->seaborn) (0.11.0)\n",
      "Requirement already satisfied: pyparsing<3.1,>=2.3.1 in /Users/denismaslov/Library/Python/3.10/lib/python/site-packages (from matplotlib!=3.6.1,>=3.1->seaborn) (3.0.9)\n",
      "Requirement already satisfied: kiwisolver>=1.0.1 in /Users/denismaslov/Library/Python/3.10/lib/python/site-packages (from matplotlib!=3.6.1,>=3.1->seaborn) (1.4.4)\n",
      "Requirement already satisfied: packaging>=20.0 in /Users/denismaslov/Library/Python/3.10/lib/python/site-packages (from matplotlib!=3.6.1,>=3.1->seaborn) (23.1)\n",
      "Requirement already satisfied: pytz>=2020.1 in /Users/denismaslov/Library/Python/3.10/lib/python/site-packages (from pandas>=0.25->seaborn) (2023.3)\n",
      "Requirement already satisfied: tzdata>=2022.1 in /Users/denismaslov/Library/Python/3.10/lib/python/site-packages (from pandas>=0.25->seaborn) (2023.3)\n",
      "Requirement already satisfied: six>=1.5 in /Users/denismaslov/Library/Python/3.10/lib/python/site-packages (from python-dateutil>=2.7->matplotlib!=3.6.1,>=3.1->seaborn) (1.16.0)\n",
      "\n",
      "\u001b[1m[\u001b[0m\u001b[34;49mnotice\u001b[0m\u001b[1;39;49m]\u001b[0m\u001b[39;49m A new release of pip available: \u001b[0m\u001b[31;49m22.3.1\u001b[0m\u001b[39;49m -> \u001b[0m\u001b[32;49m23.2\u001b[0m\n",
      "\u001b[1m[\u001b[0m\u001b[34;49mnotice\u001b[0m\u001b[1;39;49m]\u001b[0m\u001b[39;49m To update, run: \u001b[0m\u001b[32;49mpip3 install --upgrade pip\u001b[0m\n",
      "Note: you may need to restart the kernel to use updated packages.\n"
     ]
    }
   ],
   "source": [
    "pip install seaborn"
   ]
  },
  {
   "cell_type": "code",
   "execution_count": 12,
   "id": "e3067297",
   "metadata": {},
   "outputs": [],
   "source": [
    "import pandas as pd\n",
    "import numpy as np\n",
    "from scipy import stats as st\n",
    "import seaborn as sns\n",
    "import matplotlib.pyplot as plt\n",
    "from math import sqrt\n",
    "from scipy.stats import binom, norm"
   ]
  },
  {
   "attachments": {},
   "cell_type": "markdown",
   "id": "2366e720",
   "metadata": {},
   "source": [
    "#### Шаг 1. Загрузка данных"
   ]
  },
  {
   "cell_type": "code",
   "execution_count": 13,
   "id": "8fe81044",
   "metadata": {},
   "outputs": [
    {
     "data": {
      "text/html": [
       "<div>\n",
       "<style scoped>\n",
       "    .dataframe tbody tr th:only-of-type {\n",
       "        vertical-align: middle;\n",
       "    }\n",
       "\n",
       "    .dataframe tbody tr th {\n",
       "        vertical-align: top;\n",
       "    }\n",
       "\n",
       "    .dataframe thead th {\n",
       "        text-align: right;\n",
       "    }\n",
       "</style>\n",
       "<table border=\"1\" class=\"dataframe\">\n",
       "  <thead>\n",
       "    <tr style=\"text-align: right;\">\n",
       "      <th></th>\n",
       "      <th>user_id</th>\n",
       "      <th>name</th>\n",
       "      <th>age</th>\n",
       "      <th>city</th>\n",
       "      <th>subscription_type</th>\n",
       "    </tr>\n",
       "  </thead>\n",
       "  <tbody>\n",
       "    <tr>\n",
       "      <th>0</th>\n",
       "      <td>1</td>\n",
       "      <td>Кира</td>\n",
       "      <td>22</td>\n",
       "      <td>Тюмень</td>\n",
       "      <td>ultra</td>\n",
       "    </tr>\n",
       "    <tr>\n",
       "      <th>1</th>\n",
       "      <td>2</td>\n",
       "      <td>Станислав</td>\n",
       "      <td>31</td>\n",
       "      <td>Омск</td>\n",
       "      <td>ultra</td>\n",
       "    </tr>\n",
       "    <tr>\n",
       "      <th>2</th>\n",
       "      <td>3</td>\n",
       "      <td>Алексей</td>\n",
       "      <td>20</td>\n",
       "      <td>Москва</td>\n",
       "      <td>ultra</td>\n",
       "    </tr>\n",
       "    <tr>\n",
       "      <th>3</th>\n",
       "      <td>4</td>\n",
       "      <td>Константин</td>\n",
       "      <td>26</td>\n",
       "      <td>Ростов-на-Дону</td>\n",
       "      <td>ultra</td>\n",
       "    </tr>\n",
       "    <tr>\n",
       "      <th>4</th>\n",
       "      <td>5</td>\n",
       "      <td>Адель</td>\n",
       "      <td>28</td>\n",
       "      <td>Омск</td>\n",
       "      <td>ultra</td>\n",
       "    </tr>\n",
       "    <tr>\n",
       "      <th>5</th>\n",
       "      <td>6</td>\n",
       "      <td>Регина</td>\n",
       "      <td>25</td>\n",
       "      <td>Краснодар</td>\n",
       "      <td>ultra</td>\n",
       "    </tr>\n",
       "    <tr>\n",
       "      <th>6</th>\n",
       "      <td>7</td>\n",
       "      <td>Игорь</td>\n",
       "      <td>23</td>\n",
       "      <td>Омск</td>\n",
       "      <td>ultra</td>\n",
       "    </tr>\n",
       "    <tr>\n",
       "      <th>7</th>\n",
       "      <td>8</td>\n",
       "      <td>Юрий</td>\n",
       "      <td>23</td>\n",
       "      <td>Краснодар</td>\n",
       "      <td>ultra</td>\n",
       "    </tr>\n",
       "    <tr>\n",
       "      <th>8</th>\n",
       "      <td>9</td>\n",
       "      <td>Ян</td>\n",
       "      <td>21</td>\n",
       "      <td>Пятигорск</td>\n",
       "      <td>ultra</td>\n",
       "    </tr>\n",
       "    <tr>\n",
       "      <th>9</th>\n",
       "      <td>10</td>\n",
       "      <td>Валерий</td>\n",
       "      <td>18</td>\n",
       "      <td>Екатеринбург</td>\n",
       "      <td>ultra</td>\n",
       "    </tr>\n",
       "  </tbody>\n",
       "</table>\n",
       "</div>"
      ],
      "text/plain": [
       "   user_id        name  age            city subscription_type\n",
       "0        1        Кира   22          Тюмень             ultra\n",
       "1        2   Станислав   31            Омск             ultra\n",
       "2        3     Алексей   20          Москва             ultra\n",
       "3        4  Константин   26  Ростов-на-Дону             ultra\n",
       "4        5       Адель   28            Омск             ultra\n",
       "5        6      Регина   25       Краснодар             ultra\n",
       "6        7       Игорь   23            Омск             ultra\n",
       "7        8        Юрий   23       Краснодар             ultra\n",
       "8        9          Ян   21       Пятигорск             ultra\n",
       "9       10     Валерий   18    Екатеринбург             ultra"
      ]
     },
     "metadata": {},
     "output_type": "display_data"
    },
    {
     "name": "stdout",
     "output_type": "stream",
     "text": [
      "<class 'pandas.core.frame.DataFrame'>\n",
      "RangeIndex: 1565 entries, 0 to 1564\n",
      "Data columns (total 5 columns):\n",
      " #   Column             Non-Null Count  Dtype \n",
      "---  ------             --------------  ----- \n",
      " 0   user_id            1565 non-null   int64 \n",
      " 1   name               1565 non-null   object\n",
      " 2   age                1565 non-null   int64 \n",
      " 3   city               1565 non-null   object\n",
      " 4   subscription_type  1565 non-null   object\n",
      "dtypes: int64(2), object(3)\n",
      "memory usage: 61.3+ KB\n"
     ]
    }
   ],
   "source": [
    "users = pd.read_csv('/Users/denismaslov/yandex_projects/yandex/sprint4/users_go.csv')\n",
    "display(users.head(10))\n",
    "users.info()"
   ]
  },
  {
   "attachments": {},
   "cell_type": "markdown",
   "id": "ecd200ee",
   "metadata": {},
   "source": [
    "В этом датафрейме представлены данные о пользователях: user_id, Имя, Возраст, Город, тип подписки(free или ultra). В датафрейме отсутствуют пропуски."
   ]
  },
  {
   "cell_type": "code",
   "execution_count": 14,
   "id": "eb8a6a84",
   "metadata": {},
   "outputs": [
    {
     "data": {
      "text/html": [
       "<div>\n",
       "<style scoped>\n",
       "    .dataframe tbody tr th:only-of-type {\n",
       "        vertical-align: middle;\n",
       "    }\n",
       "\n",
       "    .dataframe tbody tr th {\n",
       "        vertical-align: top;\n",
       "    }\n",
       "\n",
       "    .dataframe thead th {\n",
       "        text-align: right;\n",
       "    }\n",
       "</style>\n",
       "<table border=\"1\" class=\"dataframe\">\n",
       "  <thead>\n",
       "    <tr style=\"text-align: right;\">\n",
       "      <th></th>\n",
       "      <th>user_id</th>\n",
       "      <th>distance</th>\n",
       "      <th>duration</th>\n",
       "      <th>date</th>\n",
       "    </tr>\n",
       "  </thead>\n",
       "  <tbody>\n",
       "    <tr>\n",
       "      <th>0</th>\n",
       "      <td>1</td>\n",
       "      <td>4409.919140</td>\n",
       "      <td>25.599769</td>\n",
       "      <td>2021-01-01</td>\n",
       "    </tr>\n",
       "    <tr>\n",
       "      <th>1</th>\n",
       "      <td>1</td>\n",
       "      <td>2617.592153</td>\n",
       "      <td>15.816871</td>\n",
       "      <td>2021-01-18</td>\n",
       "    </tr>\n",
       "    <tr>\n",
       "      <th>2</th>\n",
       "      <td>1</td>\n",
       "      <td>754.159807</td>\n",
       "      <td>6.232113</td>\n",
       "      <td>2021-04-20</td>\n",
       "    </tr>\n",
       "    <tr>\n",
       "      <th>3</th>\n",
       "      <td>1</td>\n",
       "      <td>2694.783254</td>\n",
       "      <td>18.511000</td>\n",
       "      <td>2021-08-11</td>\n",
       "    </tr>\n",
       "    <tr>\n",
       "      <th>4</th>\n",
       "      <td>1</td>\n",
       "      <td>4028.687306</td>\n",
       "      <td>26.265803</td>\n",
       "      <td>2021-08-28</td>\n",
       "    </tr>\n",
       "    <tr>\n",
       "      <th>5</th>\n",
       "      <td>1</td>\n",
       "      <td>2770.890808</td>\n",
       "      <td>16.650138</td>\n",
       "      <td>2021-10-09</td>\n",
       "    </tr>\n",
       "    <tr>\n",
       "      <th>6</th>\n",
       "      <td>1</td>\n",
       "      <td>3039.020292</td>\n",
       "      <td>14.927879</td>\n",
       "      <td>2021-10-19</td>\n",
       "    </tr>\n",
       "    <tr>\n",
       "      <th>7</th>\n",
       "      <td>1</td>\n",
       "      <td>2842.118050</td>\n",
       "      <td>23.117468</td>\n",
       "      <td>2021-11-06</td>\n",
       "    </tr>\n",
       "    <tr>\n",
       "      <th>8</th>\n",
       "      <td>1</td>\n",
       "      <td>3412.690668</td>\n",
       "      <td>15.238072</td>\n",
       "      <td>2021-11-14</td>\n",
       "    </tr>\n",
       "    <tr>\n",
       "      <th>9</th>\n",
       "      <td>1</td>\n",
       "      <td>748.690645</td>\n",
       "      <td>15.041884</td>\n",
       "      <td>2021-11-22</td>\n",
       "    </tr>\n",
       "  </tbody>\n",
       "</table>\n",
       "</div>"
      ],
      "text/plain": [
       "   user_id     distance   duration        date\n",
       "0        1  4409.919140  25.599769  2021-01-01\n",
       "1        1  2617.592153  15.816871  2021-01-18\n",
       "2        1   754.159807   6.232113  2021-04-20\n",
       "3        1  2694.783254  18.511000  2021-08-11\n",
       "4        1  4028.687306  26.265803  2021-08-28\n",
       "5        1  2770.890808  16.650138  2021-10-09\n",
       "6        1  3039.020292  14.927879  2021-10-19\n",
       "7        1  2842.118050  23.117468  2021-11-06\n",
       "8        1  3412.690668  15.238072  2021-11-14\n",
       "9        1   748.690645  15.041884  2021-11-22"
      ]
     },
     "metadata": {},
     "output_type": "display_data"
    },
    {
     "name": "stdout",
     "output_type": "stream",
     "text": [
      "<class 'pandas.core.frame.DataFrame'>\n",
      "RangeIndex: 18068 entries, 0 to 18067\n",
      "Data columns (total 4 columns):\n",
      " #   Column    Non-Null Count  Dtype  \n",
      "---  ------    --------------  -----  \n",
      " 0   user_id   18068 non-null  int64  \n",
      " 1   distance  18068 non-null  float64\n",
      " 2   duration  18068 non-null  float64\n",
      " 3   date      18068 non-null  object \n",
      "dtypes: float64(2), int64(1), object(1)\n",
      "memory usage: 564.8+ KB\n"
     ]
    },
    {
     "data": {
      "text/plain": [
       "array([[<Axes: title={'center': 'user_id'}>,\n",
       "        <Axes: title={'center': 'distance'}>],\n",
       "       [<Axes: title={'center': 'duration'}>, <Axes: >]], dtype=object)"
      ]
     },
     "execution_count": 14,
     "metadata": {},
     "output_type": "execute_result"
    },
    {
     "data": {
      "image/png": "[encoded data removed]",
      "text/plain": [
       "<Figure size 800x800 with 4 Axes>"
      ]
     },
     "metadata": {},
     "output_type": "display_data"
    }
   ],
   "source": [
    "rides = pd.read_csv('/Users/denismaslov/yandex_projects/yandex/sprint4/rides_go.csv')\n",
    "display(rides.head(10))\n",
    "rides.info()\n",
    "rides.hist(bins=100, figsize=(8, 8))"
   ]
  },
  {
   "attachments": {},
   "cell_type": "markdown",
   "id": "2cb4cc0e",
   "metadata": {},
   "source": [
    "В этом датафрейме представлены данные о поездках: user_id, Пройденное расстояние, длительность поездки, дата поездки. В этом датафрейме отсутствуют пропуски, но формат столбца дата имеет не верный формат, мы это изменим позже. Также мы видим, что в данных о расстоянии и длительности поездки есть выбросы, их мы также исправим позже."
   ]
  },
  {
   "cell_type": "code",
   "execution_count": 15,
   "id": "4fc70036",
   "metadata": {},
   "outputs": [
    {
     "data": {
      "text/html": [
       "<div>\n",
       "<style scoped>\n",
       "    .dataframe tbody tr th:only-of-type {\n",
       "        vertical-align: middle;\n",
       "    }\n",
       "\n",
       "    .dataframe tbody tr th {\n",
       "        vertical-align: top;\n",
       "    }\n",
       "\n",
       "    .dataframe thead th {\n",
       "        text-align: right;\n",
       "    }\n",
       "</style>\n",
       "<table border=\"1\" class=\"dataframe\">\n",
       "  <thead>\n",
       "    <tr style=\"text-align: right;\">\n",
       "      <th></th>\n",
       "      <th>subscription_type</th>\n",
       "      <th>minute_price</th>\n",
       "      <th>start_ride_price</th>\n",
       "      <th>subscription_fee</th>\n",
       "    </tr>\n",
       "  </thead>\n",
       "  <tbody>\n",
       "    <tr>\n",
       "      <th>0</th>\n",
       "      <td>free</td>\n",
       "      <td>8</td>\n",
       "      <td>50</td>\n",
       "      <td>0</td>\n",
       "    </tr>\n",
       "    <tr>\n",
       "      <th>1</th>\n",
       "      <td>ultra</td>\n",
       "      <td>6</td>\n",
       "      <td>0</td>\n",
       "      <td>199</td>\n",
       "    </tr>\n",
       "  </tbody>\n",
       "</table>\n",
       "</div>"
      ],
      "text/plain": [
       "  subscription_type  minute_price  start_ride_price  subscription_fee\n",
       "0              free             8                50                 0\n",
       "1             ultra             6                 0               199"
      ]
     },
     "metadata": {},
     "output_type": "display_data"
    },
    {
     "name": "stdout",
     "output_type": "stream",
     "text": [
      "<class 'pandas.core.frame.DataFrame'>\n",
      "RangeIndex: 2 entries, 0 to 1\n",
      "Data columns (total 4 columns):\n",
      " #   Column             Non-Null Count  Dtype \n",
      "---  ------             --------------  ----- \n",
      " 0   subscription_type  2 non-null      object\n",
      " 1   minute_price       2 non-null      int64 \n",
      " 2   start_ride_price   2 non-null      int64 \n",
      " 3   subscription_fee   2 non-null      int64 \n",
      "dtypes: int64(3), object(1)\n",
      "memory usage: 192.0+ bytes\n"
     ]
    }
   ],
   "source": [
    "subscriptions = pd.read_csv('/Users/denismaslov/yandex_projects/yandex/sprint4/subscriptions_go.csv')\n",
    "display(subscriptions.head(10))\n",
    "subscriptions.info()"
   ]
  },
  {
   "attachments": {},
   "cell_type": "markdown",
   "id": "9f278b06",
   "metadata": {},
   "source": [
    "В этом датафрейме представлены данные о подписках и тарифах: тип подписки, стоимость минуты поездки, стоимость начала поездки, стоимость ежемесячного платежа. Датафрейм содержит только 2 строки для двух типов подписки ultra и free, не имеет пропусков."
   ]
  },
  {
   "attachments": {},
   "cell_type": "markdown",
   "id": "748590db",
   "metadata": {},
   "source": [
    "#### Шаг 2. Предобработка данных"
   ]
  },
  {
   "attachments": {},
   "cell_type": "markdown",
   "id": "5f5012e1",
   "metadata": {},
   "source": [
    "В предыдущем шаге основные \"проблемы\" в данных мы увидели в таблице о поездках, их и исправим. В первую очередь приведем формат даты к типу даты."
   ]
  },
  {
   "cell_type": "code",
   "execution_count": 16,
   "id": "dbf2c335",
   "metadata": {},
   "outputs": [
    {
     "name": "stdout",
     "output_type": "stream",
     "text": [
      "<class 'pandas.core.frame.DataFrame'>\n",
      "RangeIndex: 18068 entries, 0 to 18067\n",
      "Data columns (total 4 columns):\n",
      " #   Column    Non-Null Count  Dtype  \n",
      "---  ------    --------------  -----  \n",
      " 0   user_id   18068 non-null  int64  \n",
      " 1   distance  18068 non-null  float64\n",
      " 2   duration  18068 non-null  float64\n",
      " 3   date      18068 non-null  object \n",
      "dtypes: float64(2), int64(1), object(1)\n",
      "memory usage: 564.8+ KB\n",
      "<class 'pandas.core.frame.DataFrame'>\n",
      "RangeIndex: 18068 entries, 0 to 18067\n",
      "Data columns (total 4 columns):\n",
      " #   Column    Non-Null Count  Dtype         \n",
      "---  ------    --------------  -----         \n",
      " 0   user_id   18068 non-null  int64         \n",
      " 1   distance  18068 non-null  float64       \n",
      " 2   duration  18068 non-null  float64       \n",
      " 3   date      18068 non-null  datetime64[ns]\n",
      "dtypes: datetime64[ns](1), float64(2), int64(1)\n",
      "memory usage: 564.8 KB\n"
     ]
    }
   ],
   "source": [
    "rides.info()\n",
    "rides['date'] = pd.to_datetime(rides['date'], format='%Y-%m-%d')\n",
    "rides.info()"
   ]
  },
  {
   "attachments": {},
   "cell_type": "markdown",
   "id": "c36ecfb8",
   "metadata": {},
   "source": [
    "Добавляем новый столбец с номером месяца."
   ]
  },
  {
   "cell_type": "code",
   "execution_count": 17,
   "id": "d37f28b2",
   "metadata": {},
   "outputs": [
    {
     "data": {
      "text/html": [
       "<div>\n",
       "<style scoped>\n",
       "    .dataframe tbody tr th:only-of-type {\n",
       "        vertical-align: middle;\n",
       "    }\n",
       "\n",
       "    .dataframe tbody tr th {\n",
       "        vertical-align: top;\n",
       "    }\n",
       "\n",
       "    .dataframe thead th {\n",
       "        text-align: right;\n",
       "    }\n",
       "</style>\n",
       "<table border=\"1\" class=\"dataframe\">\n",
       "  <thead>\n",
       "    <tr style=\"text-align: right;\">\n",
       "      <th></th>\n",
       "      <th>user_id</th>\n",
       "      <th>distance</th>\n",
       "      <th>duration</th>\n",
       "      <th>date</th>\n",
       "      <th>month</th>\n",
       "    </tr>\n",
       "  </thead>\n",
       "  <tbody>\n",
       "    <tr>\n",
       "      <th>0</th>\n",
       "      <td>1</td>\n",
       "      <td>4409.919140</td>\n",
       "      <td>25.599769</td>\n",
       "      <td>2021-01-01</td>\n",
       "      <td>1</td>\n",
       "    </tr>\n",
       "    <tr>\n",
       "      <th>1</th>\n",
       "      <td>1</td>\n",
       "      <td>2617.592153</td>\n",
       "      <td>15.816871</td>\n",
       "      <td>2021-01-18</td>\n",
       "      <td>1</td>\n",
       "    </tr>\n",
       "    <tr>\n",
       "      <th>2</th>\n",
       "      <td>1</td>\n",
       "      <td>754.159807</td>\n",
       "      <td>6.232113</td>\n",
       "      <td>2021-04-20</td>\n",
       "      <td>4</td>\n",
       "    </tr>\n",
       "    <tr>\n",
       "      <th>3</th>\n",
       "      <td>1</td>\n",
       "      <td>2694.783254</td>\n",
       "      <td>18.511000</td>\n",
       "      <td>2021-08-11</td>\n",
       "      <td>8</td>\n",
       "    </tr>\n",
       "    <tr>\n",
       "      <th>4</th>\n",
       "      <td>1</td>\n",
       "      <td>4028.687306</td>\n",
       "      <td>26.265803</td>\n",
       "      <td>2021-08-28</td>\n",
       "      <td>8</td>\n",
       "    </tr>\n",
       "    <tr>\n",
       "      <th>5</th>\n",
       "      <td>1</td>\n",
       "      <td>2770.890808</td>\n",
       "      <td>16.650138</td>\n",
       "      <td>2021-10-09</td>\n",
       "      <td>10</td>\n",
       "    </tr>\n",
       "    <tr>\n",
       "      <th>6</th>\n",
       "      <td>1</td>\n",
       "      <td>3039.020292</td>\n",
       "      <td>14.927879</td>\n",
       "      <td>2021-10-19</td>\n",
       "      <td>10</td>\n",
       "    </tr>\n",
       "    <tr>\n",
       "      <th>7</th>\n",
       "      <td>1</td>\n",
       "      <td>2842.118050</td>\n",
       "      <td>23.117468</td>\n",
       "      <td>2021-11-06</td>\n",
       "      <td>11</td>\n",
       "    </tr>\n",
       "    <tr>\n",
       "      <th>8</th>\n",
       "      <td>1</td>\n",
       "      <td>3412.690668</td>\n",
       "      <td>15.238072</td>\n",
       "      <td>2021-11-14</td>\n",
       "      <td>11</td>\n",
       "    </tr>\n",
       "    <tr>\n",
       "      <th>9</th>\n",
       "      <td>1</td>\n",
       "      <td>748.690645</td>\n",
       "      <td>15.041884</td>\n",
       "      <td>2021-11-22</td>\n",
       "      <td>11</td>\n",
       "    </tr>\n",
       "  </tbody>\n",
       "</table>\n",
       "</div>"
      ],
      "text/plain": [
       "   user_id     distance   duration       date  month\n",
       "0        1  4409.919140  25.599769 2021-01-01      1\n",
       "1        1  2617.592153  15.816871 2021-01-18      1\n",
       "2        1   754.159807   6.232113 2021-04-20      4\n",
       "3        1  2694.783254  18.511000 2021-08-11      8\n",
       "4        1  4028.687306  26.265803 2021-08-28      8\n",
       "5        1  2770.890808  16.650138 2021-10-09     10\n",
       "6        1  3039.020292  14.927879 2021-10-19     10\n",
       "7        1  2842.118050  23.117468 2021-11-06     11\n",
       "8        1  3412.690668  15.238072 2021-11-14     11\n",
       "9        1   748.690645  15.041884 2021-11-22     11"
      ]
     },
     "metadata": {},
     "output_type": "display_data"
    }
   ],
   "source": [
    "rides['month'] = pd.DatetimeIndex(rides['date']).month\n",
    "display(rides.head(10))"
   ]
  },
  {
   "cell_type": "code",
   "execution_count": 18,
   "id": "53cd3044",
   "metadata": {},
   "outputs": [
    {
     "name": "stdout",
     "output_type": "stream",
     "text": [
      "В таблице представлены данные с: 2021-01-01 00:00:00 по: 2021-12-30 00:00:00\n"
     ]
    }
   ],
   "source": [
    "print('В таблице представлены данные с:', rides['date'].min(), 'по:', rides['date'].max())"
   ]
  },
  {
   "attachments": {},
   "cell_type": "markdown",
   "id": "a1c5cfa9",
   "metadata": {},
   "source": [
    "Проверим не появилось ли случайно пропусков."
   ]
  },
  {
   "cell_type": "code",
   "execution_count": 19,
   "id": "85d0a316",
   "metadata": {},
   "outputs": [
    {
     "data": {
      "text/plain": [
       "user_id     0\n",
       "distance    0\n",
       "duration    0\n",
       "date        0\n",
       "month       0\n",
       "dtype: int64"
      ]
     },
     "execution_count": 19,
     "metadata": {},
     "output_type": "execute_result"
    }
   ],
   "source": [
    "rides.isnull().sum()"
   ]
  },
  {
   "attachments": {},
   "cell_type": "markdown",
   "id": "683e0856",
   "metadata": {},
   "source": [
    "Проверяем на уникальность поле name в таблице о пользователях"
   ]
  },
  {
   "cell_type": "code",
   "execution_count": 20,
   "id": "d489bd65",
   "metadata": {},
   "outputs": [
    {
     "data": {
      "text/plain": [
       "array(['Кира', 'Станислав', 'Алексей', 'Константин', 'Адель', 'Регина',\n",
       "       'Игорь', 'Юрий', 'Ян', 'Валерий', 'Агата', 'Марк', 'Ева',\n",
       "       'Антонина', 'Валерия', 'Амалия', 'Даниил', 'Аделина', 'Святогор',\n",
       "       'Борис', 'Вероника', 'Ростислав', 'Назар', 'Эдуард', 'Василий',\n",
       "       'Денис', 'Тамара', 'Николай', 'Эвелина', 'Федор', 'Руслан', 'Иван',\n",
       "       'Любовь', 'Ярослава', 'Майя', 'Ильдар', 'Данила', 'Нина',\n",
       "       'Стефания', 'Ясмина', 'Дмитрий', 'Александр', 'Одиссей', 'Арсений',\n",
       "       'Алла', 'Таисия', 'Максим', 'Юлиана', 'Павел', 'Карина', 'Алиса',\n",
       "       'Лидия', 'Рамиль', 'Родион', 'Ника', 'Оксана', 'Анастасия',\n",
       "       'Маргарита', 'Вера', 'Тимур', 'Никита', 'Лев', 'Влад', 'Артур',\n",
       "       'Анна', 'Ольга', 'Вячеслав', 'Ксения', 'Виталина', 'Владислав',\n",
       "       'Тамерлан', 'Амина', 'Вадим', 'Олеся', 'Зарина', 'Егор', 'Гордей',\n",
       "       'Лилия', 'Святослав', 'Роберт', 'Амир', 'Влада', 'Богдан',\n",
       "       'Полина', 'Марат', 'Елисей', 'Макар', 'Алина', 'Глеб', 'Андрей',\n",
       "       'Альбина', 'Людмила', 'Марсель', 'Милена', 'Диана', 'Дарина',\n",
       "       'Данил', 'Артемий', 'Лиана', 'Альберт', 'Герман', 'Жанна', 'Нелли',\n",
       "       'Евгения', 'Ариана', 'Самира', 'Захар', 'Эльвира', 'Екатерина',\n",
       "       'Инна', 'Демид', 'Яна', 'Михаил', 'Татьяна', 'Степан', 'Мелания',\n",
       "       'Тимофей', 'Ирина', 'Анжелика', 'Владислава', 'Елизавета',\n",
       "       'Мадина', 'Снежана', 'Даниэль', 'Рустам', 'Каролина', 'Ангелина',\n",
       "       'Владимир', 'Виктория', 'Валентина', 'Семен', 'Арина', 'Лариса',\n",
       "       'Есения', 'Галина', 'Кирилл', 'Игнат', 'Виталий', 'Эмилия',\n",
       "       'Виолетта', 'Яромир', 'Софья', 'Мирослава', 'Евгений', 'Варвара',\n",
       "       'Платон', 'Наталия', 'Анатолий', 'Кристина', 'Всеволод', 'Дарья',\n",
       "       'Наташа', 'Мария', 'Марина', 'Василиса', 'Юлия', 'Илья', 'Злата',\n",
       "       'Роман', 'Наталья', 'Элина', 'Арсен', 'Айдар', 'Алия', 'Виктор',\n",
       "       'Мирон', 'Ульяна', 'Георгий', 'Петр', 'Эльмира', 'Олег', 'Дамир',\n",
       "       'Самир', 'Ярослав', 'Камилла', 'Сергей', 'Эмиль', 'Радмир',\n",
       "       'Савелий', 'Елена', 'Антон', 'Мирослав', 'София', 'Тихон', 'Артём',\n",
       "       'Давид', 'Григорий', 'Алёна', 'Светлана', 'Леонид', 'Александра',\n",
       "       'Василина', 'Милана', 'Матвей'], dtype=object)"
      ]
     },
     "metadata": {},
     "output_type": "display_data"
    },
    {
     "data": {
      "text/plain": [
       "name\n",
       "Мария        23\n",
       "Анна         22\n",
       "Александр    18\n",
       "Дмитрий      17\n",
       "Никита       17\n",
       "             ..\n",
       "Матвей        3\n",
       "Семен         2\n",
       "Тихон         1\n",
       "Радмир        1\n",
       "Милана        1\n",
       "Name: count, Length: 194, dtype: int64"
      ]
     },
     "metadata": {},
     "output_type": "display_data"
    },
    {
     "name": "stdout",
     "output_type": "stream",
     "text": [
      "Количество дубликатов в имени Мария 1\n"
     ]
    }
   ],
   "source": [
    "display(users['name'].unique())\n",
    "display(users['name'].value_counts())\n",
    "#userid_count = users[users['name'] == 'Мария']['user_id'].value_counts()\n",
    "#print(userid_count)\n",
    "print('Количество дубликатов в имени Мария', users[users['name'] == 'Мария']['user_id'].duplicated().sum())"
   ]
  },
  {
   "attachments": {},
   "cell_type": "markdown",
   "id": "93a45a55",
   "metadata": {},
   "source": [
    "Само написание разных имен на мой взгляд неявных дубликатов не имеет. Некоторые имена и их user_id явно дублируются в поле name. Уберем эти дубликаты."
   ]
  },
  {
   "cell_type": "code",
   "execution_count": 21,
   "id": "b3a1bd6b",
   "metadata": {},
   "outputs": [
    {
     "data": {
      "text/plain": [
       "name\n",
       "Анна         22\n",
       "Мария        22\n",
       "Александр    17\n",
       "Дмитрий      17\n",
       "Никита       16\n",
       "             ..\n",
       "Матвей        3\n",
       "Семен         2\n",
       "Тихон         1\n",
       "Радмир        1\n",
       "Милана        1\n",
       "Name: count, Length: 194, dtype: int64"
      ]
     },
     "metadata": {},
     "output_type": "display_data"
    },
    {
     "name": "stdout",
     "output_type": "stream",
     "text": [
      "Количество дубликатов в имени Мария 0\n"
     ]
    }
   ],
   "source": [
    "users = users.drop_duplicates(subset=['user_id'], keep='first')\n",
    "display(users['name'].value_counts())\n",
    "#userid_count = users[users['name'] == 'Мария']['user_id'].value_counts()\n",
    "#print(userid_count)\n",
    "print('Количество дубликатов в имени Мария', users[users['name'] == 'Мария']['user_id'].duplicated().sum())"
   ]
  },
  {
   "attachments": {},
   "cell_type": "markdown",
   "id": "ae68cfa2",
   "metadata": {},
   "source": [
    "Тоже самое проверим в поле city."
   ]
  },
  {
   "cell_type": "code",
   "execution_count": 22,
   "id": "8ce8260d",
   "metadata": {},
   "outputs": [
    {
     "data": {
      "text/plain": [
       "array(['Тюмень', 'Омск', 'Москва', 'Ростов-на-Дону', 'Краснодар',\n",
       "       'Пятигорск', 'Екатеринбург', 'Сочи'], dtype=object)"
      ]
     },
     "metadata": {},
     "output_type": "display_data"
    },
    {
     "data": {
      "text/plain": [
       "city\n",
       "Пятигорск         219\n",
       "Екатеринбург      204\n",
       "Ростов-на-Дону    198\n",
       "Краснодар         193\n",
       "Сочи              189\n",
       "Омск              183\n",
       "Тюмень            180\n",
       "Москва            168\n",
       "Name: count, dtype: int64"
      ]
     },
     "metadata": {},
     "output_type": "display_data"
    },
    {
     "name": "stdout",
     "output_type": "stream",
     "text": [
      "Количество дубликатов Пятигорск 0\n"
     ]
    }
   ],
   "source": [
    "display(users['city'].unique())\n",
    "display(users['city'].value_counts())\n",
    "#userid_city_count = users[users['city'] == 'Пятигорск']['user_id'].value_counts()\n",
    "#print(userid_city_count)\n",
    "print('Количество дубликатов Пятигорск', users[users['city'] == 'Пятигорск']['user_id'].duplicated().sum())"
   ]
  },
  {
   "attachments": {},
   "cell_type": "markdown",
   "id": "6933c01a",
   "metadata": {},
   "source": [
    "В поле name дубликатов нет."
   ]
  },
  {
   "cell_type": "code",
   "execution_count": 23,
   "id": "df092276",
   "metadata": {},
   "outputs": [
    {
     "data": {
      "text/plain": [
       "user_id              0\n",
       "name                 0\n",
       "age                  0\n",
       "city                 0\n",
       "subscription_type    0\n",
       "dtype: int64"
      ]
     },
     "execution_count": 23,
     "metadata": {},
     "output_type": "execute_result"
    }
   ],
   "source": [
    "users.isnull().sum()"
   ]
  },
  {
   "attachments": {},
   "cell_type": "markdown",
   "id": "7319c755",
   "metadata": {},
   "source": [
    "В исходных датафреймах мы сделали следующие изменения:\n",
    "1. Привели формат даты к типу datetime таблицы rides\n",
    "2. Добавили столбец с номером месяца в таблице rides\n",
    "3. Получили информацию о том за какой период представлены данные о поездках\n",
    "4. Удалили дубликаты поля name в таблице о пользователях\n",
    "5. Проверили наличие дубликатов в поле city"
   ]
  },
  {
   "attachments": {},
   "cell_type": "markdown",
   "id": "f582e461",
   "metadata": {},
   "source": [
    "#### Шаг 3. Исследовательский анализ данных"
   ]
  },
  {
   "cell_type": "code",
   "execution_count": 24,
   "id": "3c6c3010",
   "metadata": {},
   "outputs": [
    {
     "data": {
      "text/plain": [
       "<Axes: >"
      ]
     },
     "execution_count": 24,
     "metadata": {},
     "output_type": "execute_result"
    },
    {
     "data": {
      "image/png": "[encoded data removed]",
      "text/plain": [
       "<Figure size 400x400 with 1 Axes>"
      ]
     },
     "metadata": {},
     "output_type": "display_data"
    }
   ],
   "source": [
    "city_count = users['city'].value_counts()\n",
    "city_count.plot(kind='pie', figsize=(4, 4), autopct='%1.0f%%', label=\"\")\n",
    "#display(city_count)"
   ]
  },
  {
   "attachments": {},
   "cell_type": "markdown",
   "id": "7f401786",
   "metadata": {},
   "source": [
    "Информация по городам: мы видим что данные по городам имеют примерно одинаковые доли. Посмотрим другой тип графика."
   ]
  },
  {
   "cell_type": "code",
   "execution_count": 25,
   "id": "f94c9b53",
   "metadata": {},
   "outputs": [
    {
     "data": {
      "text/plain": [
       "<Axes: title={'center': 'Частота встречаемости городов'}, ylabel='city'>"
      ]
     },
     "execution_count": 25,
     "metadata": {},
     "output_type": "execute_result"
    },
    {
     "data": {
      "image/png": "[encoded data removed]",
      "text/plain": [
       "<Figure size 400x400 with 1 Axes>"
      ]
     },
     "metadata": {},
     "output_type": "display_data"
    }
   ],
   "source": [
    "plt.title(\"Частота встречаемости городов\")\n",
    "plt.xlabel(\"Количество пользователей\")\n",
    "plt.ylabel(\"Города\")\n",
    "\n",
    "city_count.sort_values(ascending=False).plot(kind='barh', figsize=(4, 4), grid=True)\n",
    "\n"
   ]
  },
  {
   "attachments": {},
   "cell_type": "markdown",
   "id": "4b4d24d5",
   "metadata": {},
   "source": [
    "Мы видим, что с небольшим отличием, примерно все года представлены в равной степени среди данных о пользователях самокатов, что говорит о том, что сервис пользуется популярностью примерно во всех городах в равной степени. Хотя при этом Пятигорск и Екатеринбург выделяются, так как имеют больше 200 пользователей. "
   ]
  },
  {
   "cell_type": "code",
   "execution_count": 26,
   "id": "6b5636d0",
   "metadata": {},
   "outputs": [
    {
     "data": {
      "text/plain": [
       "<Axes: title={'center': 'Соотношение пользователей с подпиской и без подписки'}>"
      ]
     },
     "execution_count": 26,
     "metadata": {},
     "output_type": "execute_result"
    },
    {
     "data": {
      "image/png": "[encoded data removed]",
      "text/plain": [
       "<Figure size 400x400 with 1 Axes>"
      ]
     },
     "metadata": {},
     "output_type": "display_data"
    }
   ],
   "source": [
    "plt.title(\"Соотношение пользователей с подпиской и без подписки\")\n",
    "\n",
    "#plt.xlabel(\"Количество пользователей\")\n",
    "#plt.ylabel([])\n",
    "\n",
    "users['subscription_type'].value_counts().plot(kind='pie', figsize=(4, 4), autopct='%1.0f%%', label=\"\")"
   ]
  },
  {
   "attachments": {},
   "cell_type": "markdown",
   "id": "40fd3730",
   "metadata": {},
   "source": [
    "Соотношение пользователей с подпиской и без, примерно равно, хотя по факту количество пользователей без подписки чуть больше."
   ]
  },
  {
   "cell_type": "code",
   "execution_count": 27,
   "id": "b8466a7d",
   "metadata": {},
   "outputs": [
    {
     "name": "stdout",
     "output_type": "stream",
     "text": [
      "count    1534.000000\n",
      "mean       24.903520\n",
      "std         4.572367\n",
      "min        12.000000\n",
      "25%        22.000000\n",
      "50%        25.000000\n",
      "75%        28.000000\n",
      "max        43.000000\n",
      "Name: age, dtype: float64\n"
     ]
    },
    {
     "name": "stderr",
     "output_type": "stream",
     "text": [
      "/Users/denismaslov/Library/Python/3.10/lib/python/site-packages/seaborn/axisgrid.py:118: UserWarning: The figure layout has changed to tight\n",
      "  self._figure.tight_layout(*args, **kwargs)\n"
     ]
    },
    {
     "data": {
      "image/png": "[encoded data removed]",
      "text/plain": [
       "<Figure size 500x500 with 1 Axes>"
      ]
     },
     "metadata": {},
     "output_type": "display_data"
    }
   ],
   "source": [
    "\n",
    "print(users['age'].describe())\n",
    "\n",
    "ax = sns.displot(users['age'], discrete = True, kde = True)\n",
    "\n",
    "plt.xlabel('Возраст')\n",
    "plt.ylabel('Количество пользователей')\n",
    "plt.title('Анализ возраста пользователей')\n",
    "\n",
    "\n",
    "plt.show()"
   ]
  },
  {
   "attachments": {},
   "cell_type": "markdown",
   "id": "2815a0c8",
   "metadata": {},
   "source": [
    "Средний возраст пользователей 25 лет. По графику видно, что возраст нормально распределен относительно среднего возраста 25 лет. Самый молодой пользователь имеет возраст - 12лет, самый возрастной - 43 года."
   ]
  },
  {
   "cell_type": "code",
   "execution_count": 28,
   "id": "fba0e4ce",
   "metadata": {},
   "outputs": [
    {
     "name": "stdout",
     "output_type": "stream",
     "text": [
      "count    18068.000000\n",
      "mean      3070.659976\n",
      "std       1116.831209\n",
      "min          0.855683\n",
      "25%       2543.226360\n",
      "50%       3133.609994\n",
      "75%       3776.222735\n",
      "max       7211.007745\n",
      "Name: distance, dtype: float64\n"
     ]
    },
    {
     "name": "stderr",
     "output_type": "stream",
     "text": [
      "/Users/denismaslov/Library/Python/3.10/lib/python/site-packages/seaborn/axisgrid.py:118: UserWarning: The figure layout has changed to tight\n",
      "  self._figure.tight_layout(*args, **kwargs)\n"
     ]
    },
    {
     "data": {
      "image/png": "[encoded data removed]",
      "text/plain": [
       "<Figure size 500x500 with 1 Axes>"
      ]
     },
     "metadata": {},
     "output_type": "display_data"
    }
   ],
   "source": [
    "#distance_count = rides['distance'].mean().round()\n",
    "#print(f\"Средний расстояние, пройденное пользователем: {distance_count}\")\n",
    "#sns.kdeplot(rides['distance'])\n",
    "\n",
    "print(rides['distance'].describe())\n",
    "\n",
    "ax = sns.displot(rides['distance'], discrete = False, kde = True)\n",
    "\n",
    "plt.xlabel('Расстояние')\n",
    "plt.ylabel('Количество пользователей')\n",
    "plt.title('Анализ расстояния пользователя за одну поездку')\n",
    "\n",
    "\n",
    "plt.show()"
   ]
  },
  {
   "attachments": {},
   "cell_type": "markdown",
   "id": "5b1dc17e",
   "metadata": {},
   "source": [
    "На графике мы видим, что расстояние, которое преодолевает пользователь за одну поездку нормально распределены. Основная часть пользователь проезжает примерно 3133 м, при этом среднее расстояние равно 3070 м. На этот показатель оказывает влияние группа пользователей проезжающих совсем малое расстояние до 1 км. Природу этих малых расстояний стоит прояснить подробнее."
   ]
  },
  {
   "cell_type": "code",
   "execution_count": 29,
   "id": "09f3b41d",
   "metadata": {},
   "outputs": [],
   "source": [
    "#rides = rides.query('distance >= 1200')\n"
   ]
  },
  {
   "cell_type": "code",
   "execution_count": 30,
   "id": "afd931c8",
   "metadata": {},
   "outputs": [],
   "source": [
    "#distance_count = rides['distance'].mean().round()\n",
    "#print(f\"Средний расстояние, пройденное пользователем: {distance_count}\")\n",
    "#sns.kdeplot(rides['distance'])"
   ]
  },
  {
   "attachments": {},
   "cell_type": "markdown",
   "id": "22c950b8",
   "metadata": {},
   "source": [
    "Теперь мы видим, что график имеет форму нормального распредлеления. Средний пробег самоката за одну поездку состовляет 3307 м."
   ]
  },
  {
   "cell_type": "code",
   "execution_count": 31,
   "id": "1092b8ae",
   "metadata": {},
   "outputs": [
    {
     "name": "stdout",
     "output_type": "stream",
     "text": [
      "count    18068.000000\n",
      "mean        17.805011\n",
      "std          6.091051\n",
      "min          0.500000\n",
      "25%         13.597563\n",
      "50%         17.678395\n",
      "75%         21.724800\n",
      "max         40.823963\n",
      "Name: duration, dtype: float64\n"
     ]
    },
    {
     "name": "stderr",
     "output_type": "stream",
     "text": [
      "/Users/denismaslov/Library/Python/3.10/lib/python/site-packages/seaborn/axisgrid.py:118: UserWarning: The figure layout has changed to tight\n",
      "  self._figure.tight_layout(*args, **kwargs)\n"
     ]
    },
    {
     "data": {
      "image/png": "[encoded data removed]",
      "text/plain": [
       "<Figure size 500x500 with 1 Axes>"
      ]
     },
     "metadata": {},
     "output_type": "display_data"
    }
   ],
   "source": [
    "#duration_count = rides['duration'].mean().round()\n",
    "#print(f\"Средняя длительность поездки пользователя: {duration_count}\")\n",
    "#sns.kdeplot(rides['duration'])\n",
    "\n",
    "print(rides['duration'].describe())\n",
    "\n",
    "ax = sns.displot(rides['duration'], discrete = False, kde = True)\n",
    "\n",
    "plt.xlabel('Продолжительность')\n",
    "plt.ylabel('Количество пользователей')\n",
    "plt.title('Анализ продолжительности поездок')\n",
    "\n",
    "\n",
    "plt.show()"
   ]
  },
  {
   "attachments": {},
   "cell_type": "markdown",
   "id": "ecd58b31",
   "metadata": {},
   "source": [
    "Средняя длительность поездки пользователя составляет 17,8 мин. На графике мы также видим выбросы в районе длительности равной 0, что странно, получается пользователь взял самокат, и тут же завершил аренду. С этим необходимо разобраться, посмотрим эти данные."
   ]
  },
  {
   "cell_type": "code",
   "execution_count": 32,
   "id": "c908d0a0",
   "metadata": {},
   "outputs": [
    {
     "name": "stdout",
     "output_type": "stream",
     "text": [
      "      user_id     distance  duration       date  month\n",
      "6531      701  4196.445201       0.5 2021-08-31      8\n",
      "6570      704  4830.824371       0.5 2021-10-14     10\n",
      "6680      712  4684.004397       0.5 2021-03-04      3\n",
      "6695      713  5215.642710       0.5 2021-02-25      2\n",
      "6768      718  5197.436649       0.5 2021-02-11      2\n",
      "6860      724  6225.520342       0.5 2021-12-16     12\n",
      "6883      726  4452.491518       0.5 2021-03-01      3\n",
      "7018      735  4406.954812       0.5 2021-04-13      4\n",
      "7160      745  5286.167732       0.5 2021-08-17      8\n",
      "7364      760  4881.391865       0.5 2021-08-29      8\n"
     ]
    }
   ],
   "source": [
    "zero_duration = rides.query('duration < 1')\n",
    "print(zero_duration.head(10))"
   ]
  },
  {
   "attachments": {},
   "cell_type": "markdown",
   "id": "a7bfe96f",
   "metadata": {},
   "source": [
    "Как мы можем увидеть из таблицы, наблюдается странные аномалии в данных, пользователь тратит на поездку всего пол минуты, но при этом проезжает в районе 5 км. Природу этой аномалии необходимо выснить, либо имел место технический сбой в системе, либо данные повреждены. Удалим их."
   ]
  },
  {
   "cell_type": "code",
   "execution_count": 33,
   "id": "db4aeb9e",
   "metadata": {},
   "outputs": [],
   "source": [
    "rides = rides.query('duration >= 1')"
   ]
  },
  {
   "cell_type": "code",
   "execution_count": 34,
   "id": "4ad0b441",
   "metadata": {},
   "outputs": [
    {
     "name": "stdout",
     "output_type": "stream",
     "text": [
      "count    17973.000000\n",
      "mean        17.896480\n",
      "std          5.975424\n",
      "min          2.035632\n",
      "25%         13.670439\n",
      "50%         17.714122\n",
      "75%         21.747016\n",
      "max         40.823963\n",
      "Name: duration, dtype: float64\n"
     ]
    },
    {
     "name": "stderr",
     "output_type": "stream",
     "text": [
      "/Users/denismaslov/Library/Python/3.10/lib/python/site-packages/seaborn/axisgrid.py:118: UserWarning: The figure layout has changed to tight\n",
      "  self._figure.tight_layout(*args, **kwargs)\n"
     ]
    },
    {
     "data": {
      "image/png": "[encoded data removed]",
      "text/plain": [
       "<Figure size 500x500 with 1 Axes>"
      ]
     },
     "metadata": {},
     "output_type": "display_data"
    }
   ],
   "source": [
    "#duration_count = rides['duration'].mean().round()\n",
    "#print(f\"Средняя длительность поездки пользователя: {duration_count}\")\n",
    "#sns.kdeplot(rides['duration'])\n",
    "\n",
    "print(rides['duration'].describe())\n",
    "\n",
    "ax = sns.displot(rides['duration'], discrete = False, kde = True)\n",
    "\n",
    "plt.xlabel('Продолжительность')\n",
    "plt.ylabel('Количество пользователей')\n",
    "plt.title('Анализ продолжительности поездок')\n",
    "\n",
    "\n",
    "plt.show()"
   ]
  },
  {
   "cell_type": "code",
   "execution_count": 35,
   "id": "0e655737",
   "metadata": {},
   "outputs": [
    {
     "name": "stdout",
     "output_type": "stream",
     "text": [
      "<class 'pandas.core.frame.DataFrame'>\n",
      "Index: 1534 entries, 0 to 1533\n",
      "Data columns (total 5 columns):\n",
      " #   Column             Non-Null Count  Dtype \n",
      "---  ------             --------------  ----- \n",
      " 0   user_id            1534 non-null   int64 \n",
      " 1   name               1534 non-null   object\n",
      " 2   age                1534 non-null   int64 \n",
      " 3   city               1534 non-null   object\n",
      " 4   subscription_type  1534 non-null   object\n",
      "dtypes: int64(2), object(3)\n",
      "memory usage: 71.9+ KB\n",
      "<class 'pandas.core.frame.DataFrame'>\n",
      "Index: 17973 entries, 0 to 18067\n",
      "Data columns (total 5 columns):\n",
      " #   Column    Non-Null Count  Dtype         \n",
      "---  ------    --------------  -----         \n",
      " 0   user_id   17973 non-null  int64         \n",
      " 1   distance  17973 non-null  float64       \n",
      " 2   duration  17973 non-null  float64       \n",
      " 3   date      17973 non-null  datetime64[ns]\n",
      " 4   month     17973 non-null  int32         \n",
      "dtypes: datetime64[ns](1), float64(2), int32(1), int64(1)\n",
      "memory usage: 772.3 KB\n",
      "<class 'pandas.core.frame.DataFrame'>\n",
      "RangeIndex: 2 entries, 0 to 1\n",
      "Data columns (total 4 columns):\n",
      " #   Column             Non-Null Count  Dtype \n",
      "---  ------             --------------  ----- \n",
      " 0   subscription_type  2 non-null      object\n",
      " 1   minute_price       2 non-null      int64 \n",
      " 2   start_ride_price   2 non-null      int64 \n",
      " 3   subscription_fee   2 non-null      int64 \n",
      "dtypes: int64(3), object(1)\n",
      "memory usage: 192.0+ bytes\n"
     ]
    }
   ],
   "source": [
    "users.info()\n",
    "rides.info()\n",
    "subscriptions.info()"
   ]
  },
  {
   "attachments": {},
   "cell_type": "markdown",
   "id": "6cde7795",
   "metadata": {},
   "source": [
    "Теперь средняя продолжительность поездки также состовляет 17,9 мин, график показывает нормальное распределение."
   ]
  },
  {
   "attachments": {},
   "cell_type": "markdown",
   "id": "90c130c9",
   "metadata": {},
   "source": [
    "#### Шаг 4. Объединение данных"
   ]
  },
  {
   "attachments": {},
   "cell_type": "markdown",
   "id": "e4f8e5d5",
   "metadata": {},
   "source": [
    "Присоеденим к таблице с данными о поездках, таблицу с данными о пользователях по столбцу user_id и выведем данные получившигося датафрейма."
   ]
  },
  {
   "cell_type": "code",
   "execution_count": 36,
   "id": "66cce9e0",
   "metadata": {},
   "outputs": [
    {
     "data": {
      "text/html": [
       "<div>\n",
       "<style scoped>\n",
       "    .dataframe tbody tr th:only-of-type {\n",
       "        vertical-align: middle;\n",
       "    }\n",
       "\n",
       "    .dataframe tbody tr th {\n",
       "        vertical-align: top;\n",
       "    }\n",
       "\n",
       "    .dataframe thead th {\n",
       "        text-align: right;\n",
       "    }\n",
       "</style>\n",
       "<table border=\"1\" class=\"dataframe\">\n",
       "  <thead>\n",
       "    <tr style=\"text-align: right;\">\n",
       "      <th></th>\n",
       "      <th>user_id</th>\n",
       "      <th>distance</th>\n",
       "      <th>duration</th>\n",
       "      <th>date</th>\n",
       "      <th>month</th>\n",
       "      <th>name</th>\n",
       "      <th>age</th>\n",
       "      <th>city</th>\n",
       "      <th>subscription_type</th>\n",
       "      <th>_merge</th>\n",
       "    </tr>\n",
       "  </thead>\n",
       "  <tbody>\n",
       "    <tr>\n",
       "      <th>0</th>\n",
       "      <td>1</td>\n",
       "      <td>4409.919140</td>\n",
       "      <td>25.599769</td>\n",
       "      <td>2021-01-01</td>\n",
       "      <td>1</td>\n",
       "      <td>Кира</td>\n",
       "      <td>22</td>\n",
       "      <td>Тюмень</td>\n",
       "      <td>ultra</td>\n",
       "      <td>both</td>\n",
       "    </tr>\n",
       "    <tr>\n",
       "      <th>1</th>\n",
       "      <td>1</td>\n",
       "      <td>2617.592153</td>\n",
       "      <td>15.816871</td>\n",
       "      <td>2021-01-18</td>\n",
       "      <td>1</td>\n",
       "      <td>Кира</td>\n",
       "      <td>22</td>\n",
       "      <td>Тюмень</td>\n",
       "      <td>ultra</td>\n",
       "      <td>both</td>\n",
       "    </tr>\n",
       "    <tr>\n",
       "      <th>2</th>\n",
       "      <td>1</td>\n",
       "      <td>754.159807</td>\n",
       "      <td>6.232113</td>\n",
       "      <td>2021-04-20</td>\n",
       "      <td>4</td>\n",
       "      <td>Кира</td>\n",
       "      <td>22</td>\n",
       "      <td>Тюмень</td>\n",
       "      <td>ultra</td>\n",
       "      <td>both</td>\n",
       "    </tr>\n",
       "    <tr>\n",
       "      <th>3</th>\n",
       "      <td>1</td>\n",
       "      <td>2694.783254</td>\n",
       "      <td>18.511000</td>\n",
       "      <td>2021-08-11</td>\n",
       "      <td>8</td>\n",
       "      <td>Кира</td>\n",
       "      <td>22</td>\n",
       "      <td>Тюмень</td>\n",
       "      <td>ultra</td>\n",
       "      <td>both</td>\n",
       "    </tr>\n",
       "    <tr>\n",
       "      <th>4</th>\n",
       "      <td>1</td>\n",
       "      <td>4028.687306</td>\n",
       "      <td>26.265803</td>\n",
       "      <td>2021-08-28</td>\n",
       "      <td>8</td>\n",
       "      <td>Кира</td>\n",
       "      <td>22</td>\n",
       "      <td>Тюмень</td>\n",
       "      <td>ultra</td>\n",
       "      <td>both</td>\n",
       "    </tr>\n",
       "    <tr>\n",
       "      <th>5</th>\n",
       "      <td>1</td>\n",
       "      <td>2770.890808</td>\n",
       "      <td>16.650138</td>\n",
       "      <td>2021-10-09</td>\n",
       "      <td>10</td>\n",
       "      <td>Кира</td>\n",
       "      <td>22</td>\n",
       "      <td>Тюмень</td>\n",
       "      <td>ultra</td>\n",
       "      <td>both</td>\n",
       "    </tr>\n",
       "    <tr>\n",
       "      <th>6</th>\n",
       "      <td>1</td>\n",
       "      <td>3039.020292</td>\n",
       "      <td>14.927879</td>\n",
       "      <td>2021-10-19</td>\n",
       "      <td>10</td>\n",
       "      <td>Кира</td>\n",
       "      <td>22</td>\n",
       "      <td>Тюмень</td>\n",
       "      <td>ultra</td>\n",
       "      <td>both</td>\n",
       "    </tr>\n",
       "    <tr>\n",
       "      <th>7</th>\n",
       "      <td>1</td>\n",
       "      <td>2842.118050</td>\n",
       "      <td>23.117468</td>\n",
       "      <td>2021-11-06</td>\n",
       "      <td>11</td>\n",
       "      <td>Кира</td>\n",
       "      <td>22</td>\n",
       "      <td>Тюмень</td>\n",
       "      <td>ultra</td>\n",
       "      <td>both</td>\n",
       "    </tr>\n",
       "    <tr>\n",
       "      <th>8</th>\n",
       "      <td>1</td>\n",
       "      <td>3412.690668</td>\n",
       "      <td>15.238072</td>\n",
       "      <td>2021-11-14</td>\n",
       "      <td>11</td>\n",
       "      <td>Кира</td>\n",
       "      <td>22</td>\n",
       "      <td>Тюмень</td>\n",
       "      <td>ultra</td>\n",
       "      <td>both</td>\n",
       "    </tr>\n",
       "    <tr>\n",
       "      <th>9</th>\n",
       "      <td>1</td>\n",
       "      <td>748.690645</td>\n",
       "      <td>15.041884</td>\n",
       "      <td>2021-11-22</td>\n",
       "      <td>11</td>\n",
       "      <td>Кира</td>\n",
       "      <td>22</td>\n",
       "      <td>Тюмень</td>\n",
       "      <td>ultra</td>\n",
       "      <td>both</td>\n",
       "    </tr>\n",
       "  </tbody>\n",
       "</table>\n",
       "</div>"
      ],
      "text/plain": [
       "   user_id     distance   duration       date  month  name  age    city  \\\n",
       "0        1  4409.919140  25.599769 2021-01-01      1  Кира   22  Тюмень   \n",
       "1        1  2617.592153  15.816871 2021-01-18      1  Кира   22  Тюмень   \n",
       "2        1   754.159807   6.232113 2021-04-20      4  Кира   22  Тюмень   \n",
       "3        1  2694.783254  18.511000 2021-08-11      8  Кира   22  Тюмень   \n",
       "4        1  4028.687306  26.265803 2021-08-28      8  Кира   22  Тюмень   \n",
       "5        1  2770.890808  16.650138 2021-10-09     10  Кира   22  Тюмень   \n",
       "6        1  3039.020292  14.927879 2021-10-19     10  Кира   22  Тюмень   \n",
       "7        1  2842.118050  23.117468 2021-11-06     11  Кира   22  Тюмень   \n",
       "8        1  3412.690668  15.238072 2021-11-14     11  Кира   22  Тюмень   \n",
       "9        1   748.690645  15.041884 2021-11-22     11  Кира   22  Тюмень   \n",
       "\n",
       "  subscription_type _merge  \n",
       "0             ultra   both  \n",
       "1             ultra   both  \n",
       "2             ultra   both  \n",
       "3             ultra   both  \n",
       "4             ultra   both  \n",
       "5             ultra   both  \n",
       "6             ultra   both  \n",
       "7             ultra   both  \n",
       "8             ultra   both  \n",
       "9             ultra   both  "
      ]
     },
     "metadata": {},
     "output_type": "display_data"
    },
    {
     "name": "stdout",
     "output_type": "stream",
     "text": [
      "<class 'pandas.core.frame.DataFrame'>\n",
      "RangeIndex: 17973 entries, 0 to 17972\n",
      "Data columns (total 10 columns):\n",
      " #   Column             Non-Null Count  Dtype         \n",
      "---  ------             --------------  -----         \n",
      " 0   user_id            17973 non-null  int64         \n",
      " 1   distance           17973 non-null  float64       \n",
      " 2   duration           17973 non-null  float64       \n",
      " 3   date               17973 non-null  datetime64[ns]\n",
      " 4   month              17973 non-null  int32         \n",
      " 5   name               17973 non-null  object        \n",
      " 6   age                17973 non-null  int64         \n",
      " 7   city               17973 non-null  object        \n",
      " 8   subscription_type  17973 non-null  object        \n",
      " 9   _merge             17973 non-null  category      \n",
      "dtypes: category(1), datetime64[ns](1), float64(2), int32(1), int64(2), object(3)\n",
      "memory usage: 1.2+ MB\n"
     ]
    }
   ],
   "source": [
    "user_rides = rides.merge(users, on='user_id', how='left', indicator=True)\n",
    "display(user_rides.head(10))\n",
    "user_rides.info()"
   ]
  },
  {
   "cell_type": "code",
   "execution_count": 37,
   "id": "8e5297d8",
   "metadata": {},
   "outputs": [
    {
     "data": {
      "text/plain": [
       "user_id              0\n",
       "distance             0\n",
       "duration             0\n",
       "date                 0\n",
       "month                0\n",
       "name                 0\n",
       "age                  0\n",
       "city                 0\n",
       "subscription_type    0\n",
       "_merge               0\n",
       "dtype: int64"
      ]
     },
     "execution_count": 37,
     "metadata": {},
     "output_type": "execute_result"
    }
   ],
   "source": [
    "user_rides.isnull().sum()"
   ]
  },
  {
   "attachments": {},
   "cell_type": "markdown",
   "id": "13d7a06a",
   "metadata": {},
   "source": [
    "Теперь к получившимуся датафрейму присоеденим таблицу с данными о подписках."
   ]
  },
  {
   "cell_type": "code",
   "execution_count": 38,
   "id": "a7d53af1",
   "metadata": {},
   "outputs": [
    {
     "data": {
      "text/html": [
       "<div>\n",
       "<style scoped>\n",
       "    .dataframe tbody tr th:only-of-type {\n",
       "        vertical-align: middle;\n",
       "    }\n",
       "\n",
       "    .dataframe tbody tr th {\n",
       "        vertical-align: top;\n",
       "    }\n",
       "\n",
       "    .dataframe thead th {\n",
       "        text-align: right;\n",
       "    }\n",
       "</style>\n",
       "<table border=\"1\" class=\"dataframe\">\n",
       "  <thead>\n",
       "    <tr style=\"text-align: right;\">\n",
       "      <th></th>\n",
       "      <th>user_id</th>\n",
       "      <th>distance</th>\n",
       "      <th>duration</th>\n",
       "      <th>date</th>\n",
       "      <th>month</th>\n",
       "      <th>name</th>\n",
       "      <th>age</th>\n",
       "      <th>city</th>\n",
       "      <th>subscription_type</th>\n",
       "      <th>_merge</th>\n",
       "      <th>minute_price</th>\n",
       "      <th>start_ride_price</th>\n",
       "      <th>subscription_fee</th>\n",
       "    </tr>\n",
       "  </thead>\n",
       "  <tbody>\n",
       "    <tr>\n",
       "      <th>0</th>\n",
       "      <td>1</td>\n",
       "      <td>4409.919140</td>\n",
       "      <td>25.599769</td>\n",
       "      <td>2021-01-01</td>\n",
       "      <td>1</td>\n",
       "      <td>Кира</td>\n",
       "      <td>22</td>\n",
       "      <td>Тюмень</td>\n",
       "      <td>ultra</td>\n",
       "      <td>both</td>\n",
       "      <td>6</td>\n",
       "      <td>0</td>\n",
       "      <td>199</td>\n",
       "    </tr>\n",
       "    <tr>\n",
       "      <th>1</th>\n",
       "      <td>1</td>\n",
       "      <td>2617.592153</td>\n",
       "      <td>15.816871</td>\n",
       "      <td>2021-01-18</td>\n",
       "      <td>1</td>\n",
       "      <td>Кира</td>\n",
       "      <td>22</td>\n",
       "      <td>Тюмень</td>\n",
       "      <td>ultra</td>\n",
       "      <td>both</td>\n",
       "      <td>6</td>\n",
       "      <td>0</td>\n",
       "      <td>199</td>\n",
       "    </tr>\n",
       "    <tr>\n",
       "      <th>2</th>\n",
       "      <td>1</td>\n",
       "      <td>754.159807</td>\n",
       "      <td>6.232113</td>\n",
       "      <td>2021-04-20</td>\n",
       "      <td>4</td>\n",
       "      <td>Кира</td>\n",
       "      <td>22</td>\n",
       "      <td>Тюмень</td>\n",
       "      <td>ultra</td>\n",
       "      <td>both</td>\n",
       "      <td>6</td>\n",
       "      <td>0</td>\n",
       "      <td>199</td>\n",
       "    </tr>\n",
       "    <tr>\n",
       "      <th>3</th>\n",
       "      <td>1</td>\n",
       "      <td>2694.783254</td>\n",
       "      <td>18.511000</td>\n",
       "      <td>2021-08-11</td>\n",
       "      <td>8</td>\n",
       "      <td>Кира</td>\n",
       "      <td>22</td>\n",
       "      <td>Тюмень</td>\n",
       "      <td>ultra</td>\n",
       "      <td>both</td>\n",
       "      <td>6</td>\n",
       "      <td>0</td>\n",
       "      <td>199</td>\n",
       "    </tr>\n",
       "    <tr>\n",
       "      <th>4</th>\n",
       "      <td>1</td>\n",
       "      <td>4028.687306</td>\n",
       "      <td>26.265803</td>\n",
       "      <td>2021-08-28</td>\n",
       "      <td>8</td>\n",
       "      <td>Кира</td>\n",
       "      <td>22</td>\n",
       "      <td>Тюмень</td>\n",
       "      <td>ultra</td>\n",
       "      <td>both</td>\n",
       "      <td>6</td>\n",
       "      <td>0</td>\n",
       "      <td>199</td>\n",
       "    </tr>\n",
       "    <tr>\n",
       "      <th>5</th>\n",
       "      <td>1</td>\n",
       "      <td>2770.890808</td>\n",
       "      <td>16.650138</td>\n",
       "      <td>2021-10-09</td>\n",
       "      <td>10</td>\n",
       "      <td>Кира</td>\n",
       "      <td>22</td>\n",
       "      <td>Тюмень</td>\n",
       "      <td>ultra</td>\n",
       "      <td>both</td>\n",
       "      <td>6</td>\n",
       "      <td>0</td>\n",
       "      <td>199</td>\n",
       "    </tr>\n",
       "    <tr>\n",
       "      <th>6</th>\n",
       "      <td>1</td>\n",
       "      <td>3039.020292</td>\n",
       "      <td>14.927879</td>\n",
       "      <td>2021-10-19</td>\n",
       "      <td>10</td>\n",
       "      <td>Кира</td>\n",
       "      <td>22</td>\n",
       "      <td>Тюмень</td>\n",
       "      <td>ultra</td>\n",
       "      <td>both</td>\n",
       "      <td>6</td>\n",
       "      <td>0</td>\n",
       "      <td>199</td>\n",
       "    </tr>\n",
       "    <tr>\n",
       "      <th>7</th>\n",
       "      <td>1</td>\n",
       "      <td>2842.118050</td>\n",
       "      <td>23.117468</td>\n",
       "      <td>2021-11-06</td>\n",
       "      <td>11</td>\n",
       "      <td>Кира</td>\n",
       "      <td>22</td>\n",
       "      <td>Тюмень</td>\n",
       "      <td>ultra</td>\n",
       "      <td>both</td>\n",
       "      <td>6</td>\n",
       "      <td>0</td>\n",
       "      <td>199</td>\n",
       "    </tr>\n",
       "    <tr>\n",
       "      <th>8</th>\n",
       "      <td>1</td>\n",
       "      <td>3412.690668</td>\n",
       "      <td>15.238072</td>\n",
       "      <td>2021-11-14</td>\n",
       "      <td>11</td>\n",
       "      <td>Кира</td>\n",
       "      <td>22</td>\n",
       "      <td>Тюмень</td>\n",
       "      <td>ultra</td>\n",
       "      <td>both</td>\n",
       "      <td>6</td>\n",
       "      <td>0</td>\n",
       "      <td>199</td>\n",
       "    </tr>\n",
       "    <tr>\n",
       "      <th>9</th>\n",
       "      <td>1</td>\n",
       "      <td>748.690645</td>\n",
       "      <td>15.041884</td>\n",
       "      <td>2021-11-22</td>\n",
       "      <td>11</td>\n",
       "      <td>Кира</td>\n",
       "      <td>22</td>\n",
       "      <td>Тюмень</td>\n",
       "      <td>ultra</td>\n",
       "      <td>both</td>\n",
       "      <td>6</td>\n",
       "      <td>0</td>\n",
       "      <td>199</td>\n",
       "    </tr>\n",
       "  </tbody>\n",
       "</table>\n",
       "</div>"
      ],
      "text/plain": [
       "   user_id     distance   duration       date  month  name  age    city  \\\n",
       "0        1  4409.919140  25.599769 2021-01-01      1  Кира   22  Тюмень   \n",
       "1        1  2617.592153  15.816871 2021-01-18      1  Кира   22  Тюмень   \n",
       "2        1   754.159807   6.232113 2021-04-20      4  Кира   22  Тюмень   \n",
       "3        1  2694.783254  18.511000 2021-08-11      8  Кира   22  Тюмень   \n",
       "4        1  4028.687306  26.265803 2021-08-28      8  Кира   22  Тюмень   \n",
       "5        1  2770.890808  16.650138 2021-10-09     10  Кира   22  Тюмень   \n",
       "6        1  3039.020292  14.927879 2021-10-19     10  Кира   22  Тюмень   \n",
       "7        1  2842.118050  23.117468 2021-11-06     11  Кира   22  Тюмень   \n",
       "8        1  3412.690668  15.238072 2021-11-14     11  Кира   22  Тюмень   \n",
       "9        1   748.690645  15.041884 2021-11-22     11  Кира   22  Тюмень   \n",
       "\n",
       "  subscription_type _merge  minute_price  start_ride_price  subscription_fee  \n",
       "0             ultra   both             6                 0               199  \n",
       "1             ultra   both             6                 0               199  \n",
       "2             ultra   both             6                 0               199  \n",
       "3             ultra   both             6                 0               199  \n",
       "4             ultra   both             6                 0               199  \n",
       "5             ultra   both             6                 0               199  \n",
       "6             ultra   both             6                 0               199  \n",
       "7             ultra   both             6                 0               199  \n",
       "8             ultra   both             6                 0               199  \n",
       "9             ultra   both             6                 0               199  "
      ]
     },
     "metadata": {},
     "output_type": "display_data"
    },
    {
     "name": "stdout",
     "output_type": "stream",
     "text": [
      "<class 'pandas.core.frame.DataFrame'>\n",
      "RangeIndex: 17973 entries, 0 to 17972\n",
      "Data columns (total 13 columns):\n",
      " #   Column             Non-Null Count  Dtype         \n",
      "---  ------             --------------  -----         \n",
      " 0   user_id            17973 non-null  int64         \n",
      " 1   distance           17973 non-null  float64       \n",
      " 2   duration           17973 non-null  float64       \n",
      " 3   date               17973 non-null  datetime64[ns]\n",
      " 4   month              17973 non-null  int32         \n",
      " 5   name               17973 non-null  object        \n",
      " 6   age                17973 non-null  int64         \n",
      " 7   city               17973 non-null  object        \n",
      " 8   subscription_type  17973 non-null  object        \n",
      " 9   _merge             17973 non-null  category      \n",
      " 10  minute_price       17973 non-null  int64         \n",
      " 11  start_ride_price   17973 non-null  int64         \n",
      " 12  subscription_fee   17973 non-null  int64         \n",
      "dtypes: category(1), datetime64[ns](1), float64(2), int32(1), int64(5), object(3)\n",
      "memory usage: 1.6+ MB\n"
     ]
    }
   ],
   "source": [
    "user_rides_sub = user_rides.merge(subscriptions, on='subscription_type', how='left')\n",
    "display(user_rides_sub.head(10))\n",
    "user_rides_sub.info()"
   ]
  },
  {
   "cell_type": "code",
   "execution_count": 39,
   "id": "70baca13",
   "metadata": {},
   "outputs": [
    {
     "data": {
      "text/plain": [
       "user_id              0\n",
       "distance             0\n",
       "duration             0\n",
       "date                 0\n",
       "month                0\n",
       "name                 0\n",
       "age                  0\n",
       "city                 0\n",
       "subscription_type    0\n",
       "_merge               0\n",
       "minute_price         0\n",
       "start_ride_price     0\n",
       "subscription_fee     0\n",
       "dtype: int64"
      ]
     },
     "execution_count": 39,
     "metadata": {},
     "output_type": "execute_result"
    }
   ],
   "source": [
    "user_rides_sub.isnull().sum()"
   ]
  },
  {
   "attachments": {},
   "cell_type": "markdown",
   "id": "3f9d8c57",
   "metadata": {},
   "source": [
    "Самая большая таблица rides с информацией о поездках пользователе до обьединения содержала 17973 строки, после обьединения общая таблица содержит также 17973 строки, значит мы ничего не потеряли."
   ]
  },
  {
   "attachments": {},
   "cell_type": "markdown",
   "id": "4f93e985",
   "metadata": {},
   "source": [
    "Разделим получившийся датафрейм на 2, пользователи с подпиской и без."
   ]
  },
  {
   "cell_type": "code",
   "execution_count": 40,
   "id": "a439e7a3",
   "metadata": {},
   "outputs": [
    {
     "data": {
      "text/html": [
       "<div>\n",
       "<style scoped>\n",
       "    .dataframe tbody tr th:only-of-type {\n",
       "        vertical-align: middle;\n",
       "    }\n",
       "\n",
       "    .dataframe tbody tr th {\n",
       "        vertical-align: top;\n",
       "    }\n",
       "\n",
       "    .dataframe thead th {\n",
       "        text-align: right;\n",
       "    }\n",
       "</style>\n",
       "<table border=\"1\" class=\"dataframe\">\n",
       "  <thead>\n",
       "    <tr style=\"text-align: right;\">\n",
       "      <th></th>\n",
       "      <th>user_id</th>\n",
       "      <th>distance</th>\n",
       "      <th>duration</th>\n",
       "      <th>date</th>\n",
       "      <th>month</th>\n",
       "      <th>name</th>\n",
       "      <th>age</th>\n",
       "      <th>city</th>\n",
       "      <th>subscription_type</th>\n",
       "      <th>_merge</th>\n",
       "      <th>minute_price</th>\n",
       "      <th>start_ride_price</th>\n",
       "      <th>subscription_fee</th>\n",
       "    </tr>\n",
       "  </thead>\n",
       "  <tbody>\n",
       "    <tr>\n",
       "      <th>0</th>\n",
       "      <td>700</td>\n",
       "      <td>2515.690719</td>\n",
       "      <td>14.944286</td>\n",
       "      <td>2021-01-02</td>\n",
       "      <td>1</td>\n",
       "      <td>Айдар</td>\n",
       "      <td>22</td>\n",
       "      <td>Омск</td>\n",
       "      <td>free</td>\n",
       "      <td>both</td>\n",
       "      <td>8</td>\n",
       "      <td>50</td>\n",
       "      <td>0</td>\n",
       "    </tr>\n",
       "    <tr>\n",
       "      <th>1</th>\n",
       "      <td>700</td>\n",
       "      <td>846.932642</td>\n",
       "      <td>16.234663</td>\n",
       "      <td>2021-02-01</td>\n",
       "      <td>2</td>\n",
       "      <td>Айдар</td>\n",
       "      <td>22</td>\n",
       "      <td>Омск</td>\n",
       "      <td>free</td>\n",
       "      <td>both</td>\n",
       "      <td>8</td>\n",
       "      <td>50</td>\n",
       "      <td>0</td>\n",
       "    </tr>\n",
       "    <tr>\n",
       "      <th>2</th>\n",
       "      <td>700</td>\n",
       "      <td>4004.434142</td>\n",
       "      <td>20.016628</td>\n",
       "      <td>2021-02-04</td>\n",
       "      <td>2</td>\n",
       "      <td>Айдар</td>\n",
       "      <td>22</td>\n",
       "      <td>Омск</td>\n",
       "      <td>free</td>\n",
       "      <td>both</td>\n",
       "      <td>8</td>\n",
       "      <td>50</td>\n",
       "      <td>0</td>\n",
       "    </tr>\n",
       "    <tr>\n",
       "      <th>3</th>\n",
       "      <td>700</td>\n",
       "      <td>1205.911290</td>\n",
       "      <td>9.782872</td>\n",
       "      <td>2021-02-10</td>\n",
       "      <td>2</td>\n",
       "      <td>Айдар</td>\n",
       "      <td>22</td>\n",
       "      <td>Омск</td>\n",
       "      <td>free</td>\n",
       "      <td>both</td>\n",
       "      <td>8</td>\n",
       "      <td>50</td>\n",
       "      <td>0</td>\n",
       "    </tr>\n",
       "    <tr>\n",
       "      <th>4</th>\n",
       "      <td>700</td>\n",
       "      <td>3047.379435</td>\n",
       "      <td>17.427673</td>\n",
       "      <td>2021-02-14</td>\n",
       "      <td>2</td>\n",
       "      <td>Айдар</td>\n",
       "      <td>22</td>\n",
       "      <td>Омск</td>\n",
       "      <td>free</td>\n",
       "      <td>both</td>\n",
       "      <td>8</td>\n",
       "      <td>50</td>\n",
       "      <td>0</td>\n",
       "    </tr>\n",
       "    <tr>\n",
       "      <th>5</th>\n",
       "      <td>700</td>\n",
       "      <td>4342.002254</td>\n",
       "      <td>22.368009</td>\n",
       "      <td>2021-02-23</td>\n",
       "      <td>2</td>\n",
       "      <td>Айдар</td>\n",
       "      <td>22</td>\n",
       "      <td>Омск</td>\n",
       "      <td>free</td>\n",
       "      <td>both</td>\n",
       "      <td>8</td>\n",
       "      <td>50</td>\n",
       "      <td>0</td>\n",
       "    </tr>\n",
       "    <tr>\n",
       "      <th>6</th>\n",
       "      <td>700</td>\n",
       "      <td>3798.334905</td>\n",
       "      <td>18.243756</td>\n",
       "      <td>2021-03-03</td>\n",
       "      <td>3</td>\n",
       "      <td>Айдар</td>\n",
       "      <td>22</td>\n",
       "      <td>Омск</td>\n",
       "      <td>free</td>\n",
       "      <td>both</td>\n",
       "      <td>8</td>\n",
       "      <td>50</td>\n",
       "      <td>0</td>\n",
       "    </tr>\n",
       "    <tr>\n",
       "      <th>7</th>\n",
       "      <td>700</td>\n",
       "      <td>2984.551206</td>\n",
       "      <td>15.424899</td>\n",
       "      <td>2021-04-09</td>\n",
       "      <td>4</td>\n",
       "      <td>Айдар</td>\n",
       "      <td>22</td>\n",
       "      <td>Омск</td>\n",
       "      <td>free</td>\n",
       "      <td>both</td>\n",
       "      <td>8</td>\n",
       "      <td>50</td>\n",
       "      <td>0</td>\n",
       "    </tr>\n",
       "    <tr>\n",
       "      <th>8</th>\n",
       "      <td>700</td>\n",
       "      <td>3360.107141</td>\n",
       "      <td>16.765497</td>\n",
       "      <td>2021-06-12</td>\n",
       "      <td>6</td>\n",
       "      <td>Айдар</td>\n",
       "      <td>22</td>\n",
       "      <td>Омск</td>\n",
       "      <td>free</td>\n",
       "      <td>both</td>\n",
       "      <td>8</td>\n",
       "      <td>50</td>\n",
       "      <td>0</td>\n",
       "    </tr>\n",
       "    <tr>\n",
       "      <th>9</th>\n",
       "      <td>700</td>\n",
       "      <td>2567.543847</td>\n",
       "      <td>11.312160</td>\n",
       "      <td>2021-06-23</td>\n",
       "      <td>6</td>\n",
       "      <td>Айдар</td>\n",
       "      <td>22</td>\n",
       "      <td>Омск</td>\n",
       "      <td>free</td>\n",
       "      <td>both</td>\n",
       "      <td>8</td>\n",
       "      <td>50</td>\n",
       "      <td>0</td>\n",
       "    </tr>\n",
       "  </tbody>\n",
       "</table>\n",
       "</div>"
      ],
      "text/plain": [
       "   user_id     distance   duration       date  month   name  age  city  \\\n",
       "0      700  2515.690719  14.944286 2021-01-02      1  Айдар   22  Омск   \n",
       "1      700   846.932642  16.234663 2021-02-01      2  Айдар   22  Омск   \n",
       "2      700  4004.434142  20.016628 2021-02-04      2  Айдар   22  Омск   \n",
       "3      700  1205.911290   9.782872 2021-02-10      2  Айдар   22  Омск   \n",
       "4      700  3047.379435  17.427673 2021-02-14      2  Айдар   22  Омск   \n",
       "5      700  4342.002254  22.368009 2021-02-23      2  Айдар   22  Омск   \n",
       "6      700  3798.334905  18.243756 2021-03-03      3  Айдар   22  Омск   \n",
       "7      700  2984.551206  15.424899 2021-04-09      4  Айдар   22  Омск   \n",
       "8      700  3360.107141  16.765497 2021-06-12      6  Айдар   22  Омск   \n",
       "9      700  2567.543847  11.312160 2021-06-23      6  Айдар   22  Омск   \n",
       "\n",
       "  subscription_type _merge  minute_price  start_ride_price  subscription_fee  \n",
       "0              free   both             8                50                 0  \n",
       "1              free   both             8                50                 0  \n",
       "2              free   both             8                50                 0  \n",
       "3              free   both             8                50                 0  \n",
       "4              free   both             8                50                 0  \n",
       "5              free   both             8                50                 0  \n",
       "6              free   both             8                50                 0  \n",
       "7              free   both             8                50                 0  \n",
       "8              free   both             8                50                 0  \n",
       "9              free   both             8                50                 0  "
      ]
     },
     "metadata": {},
     "output_type": "display_data"
    },
    {
     "name": "stdout",
     "output_type": "stream",
     "text": [
      "<class 'pandas.core.frame.DataFrame'>\n",
      "RangeIndex: 11473 entries, 0 to 11472\n",
      "Data columns (total 13 columns):\n",
      " #   Column             Non-Null Count  Dtype         \n",
      "---  ------             --------------  -----         \n",
      " 0   user_id            11473 non-null  int64         \n",
      " 1   distance           11473 non-null  float64       \n",
      " 2   duration           11473 non-null  float64       \n",
      " 3   date               11473 non-null  datetime64[ns]\n",
      " 4   month              11473 non-null  int32         \n",
      " 5   name               11473 non-null  object        \n",
      " 6   age                11473 non-null  int64         \n",
      " 7   city               11473 non-null  object        \n",
      " 8   subscription_type  11473 non-null  object        \n",
      " 9   _merge             11473 non-null  category      \n",
      " 10  minute_price       11473 non-null  int64         \n",
      " 11  start_ride_price   11473 non-null  int64         \n",
      " 12  subscription_fee   11473 non-null  int64         \n",
      "dtypes: category(1), datetime64[ns](1), float64(2), int32(1), int64(5), object(3)\n",
      "memory usage: 1.0+ MB\n"
     ]
    },
    {
     "data": {
      "text/html": [
       "<div>\n",
       "<style scoped>\n",
       "    .dataframe tbody tr th:only-of-type {\n",
       "        vertical-align: middle;\n",
       "    }\n",
       "\n",
       "    .dataframe tbody tr th {\n",
       "        vertical-align: top;\n",
       "    }\n",
       "\n",
       "    .dataframe thead th {\n",
       "        text-align: right;\n",
       "    }\n",
       "</style>\n",
       "<table border=\"1\" class=\"dataframe\">\n",
       "  <thead>\n",
       "    <tr style=\"text-align: right;\">\n",
       "      <th></th>\n",
       "      <th>user_id</th>\n",
       "      <th>distance</th>\n",
       "      <th>duration</th>\n",
       "      <th>date</th>\n",
       "      <th>month</th>\n",
       "      <th>name</th>\n",
       "      <th>age</th>\n",
       "      <th>city</th>\n",
       "      <th>subscription_type</th>\n",
       "      <th>_merge</th>\n",
       "      <th>minute_price</th>\n",
       "      <th>start_ride_price</th>\n",
       "      <th>subscription_fee</th>\n",
       "    </tr>\n",
       "  </thead>\n",
       "  <tbody>\n",
       "    <tr>\n",
       "      <th>0</th>\n",
       "      <td>1</td>\n",
       "      <td>4409.919140</td>\n",
       "      <td>25.599769</td>\n",
       "      <td>2021-01-01</td>\n",
       "      <td>1</td>\n",
       "      <td>Кира</td>\n",
       "      <td>22</td>\n",
       "      <td>Тюмень</td>\n",
       "      <td>ultra</td>\n",
       "      <td>both</td>\n",
       "      <td>6</td>\n",
       "      <td>0</td>\n",
       "      <td>199</td>\n",
       "    </tr>\n",
       "    <tr>\n",
       "      <th>1</th>\n",
       "      <td>1</td>\n",
       "      <td>2617.592153</td>\n",
       "      <td>15.816871</td>\n",
       "      <td>2021-01-18</td>\n",
       "      <td>1</td>\n",
       "      <td>Кира</td>\n",
       "      <td>22</td>\n",
       "      <td>Тюмень</td>\n",
       "      <td>ultra</td>\n",
       "      <td>both</td>\n",
       "      <td>6</td>\n",
       "      <td>0</td>\n",
       "      <td>199</td>\n",
       "    </tr>\n",
       "    <tr>\n",
       "      <th>2</th>\n",
       "      <td>1</td>\n",
       "      <td>754.159807</td>\n",
       "      <td>6.232113</td>\n",
       "      <td>2021-04-20</td>\n",
       "      <td>4</td>\n",
       "      <td>Кира</td>\n",
       "      <td>22</td>\n",
       "      <td>Тюмень</td>\n",
       "      <td>ultra</td>\n",
       "      <td>both</td>\n",
       "      <td>6</td>\n",
       "      <td>0</td>\n",
       "      <td>199</td>\n",
       "    </tr>\n",
       "    <tr>\n",
       "      <th>3</th>\n",
       "      <td>1</td>\n",
       "      <td>2694.783254</td>\n",
       "      <td>18.511000</td>\n",
       "      <td>2021-08-11</td>\n",
       "      <td>8</td>\n",
       "      <td>Кира</td>\n",
       "      <td>22</td>\n",
       "      <td>Тюмень</td>\n",
       "      <td>ultra</td>\n",
       "      <td>both</td>\n",
       "      <td>6</td>\n",
       "      <td>0</td>\n",
       "      <td>199</td>\n",
       "    </tr>\n",
       "    <tr>\n",
       "      <th>4</th>\n",
       "      <td>1</td>\n",
       "      <td>4028.687306</td>\n",
       "      <td>26.265803</td>\n",
       "      <td>2021-08-28</td>\n",
       "      <td>8</td>\n",
       "      <td>Кира</td>\n",
       "      <td>22</td>\n",
       "      <td>Тюмень</td>\n",
       "      <td>ultra</td>\n",
       "      <td>both</td>\n",
       "      <td>6</td>\n",
       "      <td>0</td>\n",
       "      <td>199</td>\n",
       "    </tr>\n",
       "    <tr>\n",
       "      <th>5</th>\n",
       "      <td>1</td>\n",
       "      <td>2770.890808</td>\n",
       "      <td>16.650138</td>\n",
       "      <td>2021-10-09</td>\n",
       "      <td>10</td>\n",
       "      <td>Кира</td>\n",
       "      <td>22</td>\n",
       "      <td>Тюмень</td>\n",
       "      <td>ultra</td>\n",
       "      <td>both</td>\n",
       "      <td>6</td>\n",
       "      <td>0</td>\n",
       "      <td>199</td>\n",
       "    </tr>\n",
       "    <tr>\n",
       "      <th>6</th>\n",
       "      <td>1</td>\n",
       "      <td>3039.020292</td>\n",
       "      <td>14.927879</td>\n",
       "      <td>2021-10-19</td>\n",
       "      <td>10</td>\n",
       "      <td>Кира</td>\n",
       "      <td>22</td>\n",
       "      <td>Тюмень</td>\n",
       "      <td>ultra</td>\n",
       "      <td>both</td>\n",
       "      <td>6</td>\n",
       "      <td>0</td>\n",
       "      <td>199</td>\n",
       "    </tr>\n",
       "    <tr>\n",
       "      <th>7</th>\n",
       "      <td>1</td>\n",
       "      <td>2842.118050</td>\n",
       "      <td>23.117468</td>\n",
       "      <td>2021-11-06</td>\n",
       "      <td>11</td>\n",
       "      <td>Кира</td>\n",
       "      <td>22</td>\n",
       "      <td>Тюмень</td>\n",
       "      <td>ultra</td>\n",
       "      <td>both</td>\n",
       "      <td>6</td>\n",
       "      <td>0</td>\n",
       "      <td>199</td>\n",
       "    </tr>\n",
       "    <tr>\n",
       "      <th>8</th>\n",
       "      <td>1</td>\n",
       "      <td>3412.690668</td>\n",
       "      <td>15.238072</td>\n",
       "      <td>2021-11-14</td>\n",
       "      <td>11</td>\n",
       "      <td>Кира</td>\n",
       "      <td>22</td>\n",
       "      <td>Тюмень</td>\n",
       "      <td>ultra</td>\n",
       "      <td>both</td>\n",
       "      <td>6</td>\n",
       "      <td>0</td>\n",
       "      <td>199</td>\n",
       "    </tr>\n",
       "    <tr>\n",
       "      <th>9</th>\n",
       "      <td>1</td>\n",
       "      <td>748.690645</td>\n",
       "      <td>15.041884</td>\n",
       "      <td>2021-11-22</td>\n",
       "      <td>11</td>\n",
       "      <td>Кира</td>\n",
       "      <td>22</td>\n",
       "      <td>Тюмень</td>\n",
       "      <td>ultra</td>\n",
       "      <td>both</td>\n",
       "      <td>6</td>\n",
       "      <td>0</td>\n",
       "      <td>199</td>\n",
       "    </tr>\n",
       "  </tbody>\n",
       "</table>\n",
       "</div>"
      ],
      "text/plain": [
       "   user_id     distance   duration       date  month  name  age    city  \\\n",
       "0        1  4409.919140  25.599769 2021-01-01      1  Кира   22  Тюмень   \n",
       "1        1  2617.592153  15.816871 2021-01-18      1  Кира   22  Тюмень   \n",
       "2        1   754.159807   6.232113 2021-04-20      4  Кира   22  Тюмень   \n",
       "3        1  2694.783254  18.511000 2021-08-11      8  Кира   22  Тюмень   \n",
       "4        1  4028.687306  26.265803 2021-08-28      8  Кира   22  Тюмень   \n",
       "5        1  2770.890808  16.650138 2021-10-09     10  Кира   22  Тюмень   \n",
       "6        1  3039.020292  14.927879 2021-10-19     10  Кира   22  Тюмень   \n",
       "7        1  2842.118050  23.117468 2021-11-06     11  Кира   22  Тюмень   \n",
       "8        1  3412.690668  15.238072 2021-11-14     11  Кира   22  Тюмень   \n",
       "9        1   748.690645  15.041884 2021-11-22     11  Кира   22  Тюмень   \n",
       "\n",
       "  subscription_type _merge  minute_price  start_ride_price  subscription_fee  \n",
       "0             ultra   both             6                 0               199  \n",
       "1             ultra   both             6                 0               199  \n",
       "2             ultra   both             6                 0               199  \n",
       "3             ultra   both             6                 0               199  \n",
       "4             ultra   both             6                 0               199  \n",
       "5             ultra   both             6                 0               199  \n",
       "6             ultra   both             6                 0               199  \n",
       "7             ultra   both             6                 0               199  \n",
       "8             ultra   both             6                 0               199  \n",
       "9             ultra   both             6                 0               199  "
      ]
     },
     "metadata": {},
     "output_type": "display_data"
    },
    {
     "name": "stdout",
     "output_type": "stream",
     "text": [
      "<class 'pandas.core.frame.DataFrame'>\n",
      "RangeIndex: 6500 entries, 0 to 6499\n",
      "Data columns (total 13 columns):\n",
      " #   Column             Non-Null Count  Dtype         \n",
      "---  ------             --------------  -----         \n",
      " 0   user_id            6500 non-null   int64         \n",
      " 1   distance           6500 non-null   float64       \n",
      " 2   duration           6500 non-null   float64       \n",
      " 3   date               6500 non-null   datetime64[ns]\n",
      " 4   month              6500 non-null   int32         \n",
      " 5   name               6500 non-null   object        \n",
      " 6   age                6500 non-null   int64         \n",
      " 7   city               6500 non-null   object        \n",
      " 8   subscription_type  6500 non-null   object        \n",
      " 9   _merge             6500 non-null   category      \n",
      " 10  minute_price       6500 non-null   int64         \n",
      " 11  start_ride_price   6500 non-null   int64         \n",
      " 12  subscription_fee   6500 non-null   int64         \n",
      "dtypes: category(1), datetime64[ns](1), float64(2), int32(1), int64(5), object(3)\n",
      "memory usage: 590.6+ KB\n"
     ]
    }
   ],
   "source": [
    "# Создание датафрейма с данными о пользователях без подписки\n",
    "users_no_subscription = user_rides_sub[user_rides_sub['subscription_type'] == 'free'].copy()\n",
    "users_no_subscription = users_no_subscription.reset_index(drop=True)\n",
    "\n",
    "# Создание датафрейма с данными о пользователях с подпиской\n",
    "users_subscription = user_rides_sub[user_rides_sub['subscription_type'] == 'ultra'].copy()\n",
    "users_subscription = users_subscription.reset_index(drop=True)\n",
    "\n",
    "display(users_no_subscription.head(10))\n",
    "users_no_subscription.info()\n",
    "display(users_subscription.head(10))\n",
    "users_subscription.info()"
   ]
  },
  {
   "attachments": {},
   "cell_type": "markdown",
   "id": "f42e70ce",
   "metadata": {},
   "source": [
    "#### Шаг 5. Подсчёт выручки"
   ]
  },
  {
   "attachments": {},
   "cell_type": "markdown",
   "id": "d50a121f",
   "metadata": {},
   "source": [
    "Для начала создаем датафрейм с агрегированными данными о поездках, сгруппированных по пользователю и месяцу, который включает саммарное расстояние, количество поездок, суммарное время использования. Также перенесем в этот датафрейм столбцы с информацией о подписках. Переименуем столбцы с агрегированными данными для наглядности в  total_distance, total_duration, total_trips. Округлим значения агрегированных данных."
   ]
  },
  {
   "cell_type": "code",
   "execution_count": 41,
   "id": "72f2baa8",
   "metadata": {},
   "outputs": [
    {
     "data": {
      "text/html": [
       "<div>\n",
       "<style scoped>\n",
       "    .dataframe tbody tr th:only-of-type {\n",
       "        vertical-align: middle;\n",
       "    }\n",
       "\n",
       "    .dataframe tbody tr th {\n",
       "        vertical-align: top;\n",
       "    }\n",
       "\n",
       "    .dataframe thead th {\n",
       "        text-align: right;\n",
       "    }\n",
       "</style>\n",
       "<table border=\"1\" class=\"dataframe\">\n",
       "  <thead>\n",
       "    <tr style=\"text-align: right;\">\n",
       "      <th></th>\n",
       "      <th>user_id</th>\n",
       "      <th>month</th>\n",
       "      <th>total_distance</th>\n",
       "      <th>total_duration</th>\n",
       "      <th>total_trips</th>\n",
       "      <th>subscription_type</th>\n",
       "      <th>minute_price</th>\n",
       "      <th>start_ride_price</th>\n",
       "      <th>subscription_fee</th>\n",
       "    </tr>\n",
       "  </thead>\n",
       "  <tbody>\n",
       "    <tr>\n",
       "      <th>0</th>\n",
       "      <td>1</td>\n",
       "      <td>1</td>\n",
       "      <td>7028.0</td>\n",
       "      <td>42.0</td>\n",
       "      <td>2</td>\n",
       "      <td>ultra</td>\n",
       "      <td>6</td>\n",
       "      <td>0</td>\n",
       "      <td>199</td>\n",
       "    </tr>\n",
       "    <tr>\n",
       "      <th>1</th>\n",
       "      <td>1</td>\n",
       "      <td>4</td>\n",
       "      <td>755.0</td>\n",
       "      <td>7.0</td>\n",
       "      <td>1</td>\n",
       "      <td>ultra</td>\n",
       "      <td>6</td>\n",
       "      <td>0</td>\n",
       "      <td>199</td>\n",
       "    </tr>\n",
       "    <tr>\n",
       "      <th>2</th>\n",
       "      <td>1</td>\n",
       "      <td>8</td>\n",
       "      <td>6724.0</td>\n",
       "      <td>46.0</td>\n",
       "      <td>2</td>\n",
       "      <td>ultra</td>\n",
       "      <td>6</td>\n",
       "      <td>0</td>\n",
       "      <td>199</td>\n",
       "    </tr>\n",
       "    <tr>\n",
       "      <th>3</th>\n",
       "      <td>1</td>\n",
       "      <td>10</td>\n",
       "      <td>5811.0</td>\n",
       "      <td>32.0</td>\n",
       "      <td>2</td>\n",
       "      <td>ultra</td>\n",
       "      <td>6</td>\n",
       "      <td>0</td>\n",
       "      <td>199</td>\n",
       "    </tr>\n",
       "    <tr>\n",
       "      <th>4</th>\n",
       "      <td>1</td>\n",
       "      <td>11</td>\n",
       "      <td>7005.0</td>\n",
       "      <td>56.0</td>\n",
       "      <td>3</td>\n",
       "      <td>ultra</td>\n",
       "      <td>6</td>\n",
       "      <td>0</td>\n",
       "      <td>199</td>\n",
       "    </tr>\n",
       "    <tr>\n",
       "      <th>5</th>\n",
       "      <td>1</td>\n",
       "      <td>12</td>\n",
       "      <td>6753.0</td>\n",
       "      <td>28.0</td>\n",
       "      <td>2</td>\n",
       "      <td>ultra</td>\n",
       "      <td>6</td>\n",
       "      <td>0</td>\n",
       "      <td>199</td>\n",
       "    </tr>\n",
       "    <tr>\n",
       "      <th>6</th>\n",
       "      <td>2</td>\n",
       "      <td>3</td>\n",
       "      <td>10190.0</td>\n",
       "      <td>63.0</td>\n",
       "      <td>3</td>\n",
       "      <td>ultra</td>\n",
       "      <td>6</td>\n",
       "      <td>0</td>\n",
       "      <td>199</td>\n",
       "    </tr>\n",
       "    <tr>\n",
       "      <th>7</th>\n",
       "      <td>2</td>\n",
       "      <td>4</td>\n",
       "      <td>6165.0</td>\n",
       "      <td>40.0</td>\n",
       "      <td>2</td>\n",
       "      <td>ultra</td>\n",
       "      <td>6</td>\n",
       "      <td>0</td>\n",
       "      <td>199</td>\n",
       "    </tr>\n",
       "    <tr>\n",
       "      <th>8</th>\n",
       "      <td>2</td>\n",
       "      <td>6</td>\n",
       "      <td>3256.0</td>\n",
       "      <td>14.0</td>\n",
       "      <td>1</td>\n",
       "      <td>ultra</td>\n",
       "      <td>6</td>\n",
       "      <td>0</td>\n",
       "      <td>199</td>\n",
       "    </tr>\n",
       "    <tr>\n",
       "      <th>9</th>\n",
       "      <td>2</td>\n",
       "      <td>7</td>\n",
       "      <td>6781.0</td>\n",
       "      <td>48.0</td>\n",
       "      <td>2</td>\n",
       "      <td>ultra</td>\n",
       "      <td>6</td>\n",
       "      <td>0</td>\n",
       "      <td>199</td>\n",
       "    </tr>\n",
       "  </tbody>\n",
       "</table>\n",
       "</div>"
      ],
      "text/plain": [
       "   user_id  month  total_distance  total_duration  total_trips  \\\n",
       "0        1      1          7028.0            42.0            2   \n",
       "1        1      4           755.0             7.0            1   \n",
       "2        1      8          6724.0            46.0            2   \n",
       "3        1     10          5811.0            32.0            2   \n",
       "4        1     11          7005.0            56.0            3   \n",
       "5        1     12          6753.0            28.0            2   \n",
       "6        2      3         10190.0            63.0            3   \n",
       "7        2      4          6165.0            40.0            2   \n",
       "8        2      6          3256.0            14.0            1   \n",
       "9        2      7          6781.0            48.0            2   \n",
       "\n",
       "  subscription_type  minute_price  start_ride_price  subscription_fee  \n",
       "0             ultra             6                 0               199  \n",
       "1             ultra             6                 0               199  \n",
       "2             ultra             6                 0               199  \n",
       "3             ultra             6                 0               199  \n",
       "4             ultra             6                 0               199  \n",
       "5             ultra             6                 0               199  \n",
       "6             ultra             6                 0               199  \n",
       "7             ultra             6                 0               199  \n",
       "8             ultra             6                 0               199  \n",
       "9             ultra             6                 0               199  "
      ]
     },
     "metadata": {},
     "output_type": "display_data"
    }
   ],
   "source": [
    "user_rides_sub['distance'] = np.ceil(user_rides_sub['distance'])\n",
    "user_rides_sub['duration'] = np.ceil(user_rides_sub['duration'])\n",
    "\n",
    "data_aggregated = user_rides_sub.groupby(['user_id', pd.Grouper(key='month')]).agg({'distance': 'sum', 'duration': 'sum', 'user_id': 'count', \\\n",
    "        'subscription_type': 'first', 'minute_price': 'first', 'start_ride_price': 'first', 'subscription_fee': 'first',})\n",
    "\n",
    "data_aggregated = data_aggregated.rename(columns={'distance': 'total_distance', 'duration': 'total_duration', 'user_id': 'total_trips'})\n",
    "\n",
    "data_aggregated = data_aggregated.reset_index()\n",
    "#data_aggregated['total_distance'] = np.ceil(data_aggregated['total_distance'])\n",
    "#data_aggregated['total_duration'] = np.ceil(data_aggregated['total_duration'])\n",
    "\n",
    "display(data_aggregated.head(10))"
   ]
  },
  {
   "attachments": {},
   "cell_type": "markdown",
   "id": "7a7b31dc",
   "metadata": {},
   "source": [
    "Посчитаем выручку по каждому пользователю помесячно, и добавим столбец monthly_revenue с этим значением в таблицу."
   ]
  },
  {
   "cell_type": "code",
   "execution_count": 42,
   "id": "8255ab45",
   "metadata": {},
   "outputs": [
    {
     "data": {
      "text/html": [
       "<div>\n",
       "<style scoped>\n",
       "    .dataframe tbody tr th:only-of-type {\n",
       "        vertical-align: middle;\n",
       "    }\n",
       "\n",
       "    .dataframe tbody tr th {\n",
       "        vertical-align: top;\n",
       "    }\n",
       "\n",
       "    .dataframe thead th {\n",
       "        text-align: right;\n",
       "    }\n",
       "</style>\n",
       "<table border=\"1\" class=\"dataframe\">\n",
       "  <thead>\n",
       "    <tr style=\"text-align: right;\">\n",
       "      <th></th>\n",
       "      <th>user_id</th>\n",
       "      <th>month</th>\n",
       "      <th>total_distance</th>\n",
       "      <th>total_duration</th>\n",
       "      <th>total_trips</th>\n",
       "      <th>subscription_type</th>\n",
       "      <th>minute_price</th>\n",
       "      <th>start_ride_price</th>\n",
       "      <th>subscription_fee</th>\n",
       "      <th>monthly_revenue</th>\n",
       "    </tr>\n",
       "  </thead>\n",
       "  <tbody>\n",
       "    <tr>\n",
       "      <th>0</th>\n",
       "      <td>1</td>\n",
       "      <td>1</td>\n",
       "      <td>7028.0</td>\n",
       "      <td>42.0</td>\n",
       "      <td>2</td>\n",
       "      <td>ultra</td>\n",
       "      <td>6</td>\n",
       "      <td>0</td>\n",
       "      <td>199</td>\n",
       "      <td>451.0</td>\n",
       "    </tr>\n",
       "    <tr>\n",
       "      <th>1</th>\n",
       "      <td>1</td>\n",
       "      <td>4</td>\n",
       "      <td>755.0</td>\n",
       "      <td>7.0</td>\n",
       "      <td>1</td>\n",
       "      <td>ultra</td>\n",
       "      <td>6</td>\n",
       "      <td>0</td>\n",
       "      <td>199</td>\n",
       "      <td>241.0</td>\n",
       "    </tr>\n",
       "    <tr>\n",
       "      <th>2</th>\n",
       "      <td>1</td>\n",
       "      <td>8</td>\n",
       "      <td>6724.0</td>\n",
       "      <td>46.0</td>\n",
       "      <td>2</td>\n",
       "      <td>ultra</td>\n",
       "      <td>6</td>\n",
       "      <td>0</td>\n",
       "      <td>199</td>\n",
       "      <td>475.0</td>\n",
       "    </tr>\n",
       "    <tr>\n",
       "      <th>3</th>\n",
       "      <td>1</td>\n",
       "      <td>10</td>\n",
       "      <td>5811.0</td>\n",
       "      <td>32.0</td>\n",
       "      <td>2</td>\n",
       "      <td>ultra</td>\n",
       "      <td>6</td>\n",
       "      <td>0</td>\n",
       "      <td>199</td>\n",
       "      <td>391.0</td>\n",
       "    </tr>\n",
       "    <tr>\n",
       "      <th>4</th>\n",
       "      <td>1</td>\n",
       "      <td>11</td>\n",
       "      <td>7005.0</td>\n",
       "      <td>56.0</td>\n",
       "      <td>3</td>\n",
       "      <td>ultra</td>\n",
       "      <td>6</td>\n",
       "      <td>0</td>\n",
       "      <td>199</td>\n",
       "      <td>535.0</td>\n",
       "    </tr>\n",
       "    <tr>\n",
       "      <th>5</th>\n",
       "      <td>1</td>\n",
       "      <td>12</td>\n",
       "      <td>6753.0</td>\n",
       "      <td>28.0</td>\n",
       "      <td>2</td>\n",
       "      <td>ultra</td>\n",
       "      <td>6</td>\n",
       "      <td>0</td>\n",
       "      <td>199</td>\n",
       "      <td>367.0</td>\n",
       "    </tr>\n",
       "    <tr>\n",
       "      <th>6</th>\n",
       "      <td>2</td>\n",
       "      <td>3</td>\n",
       "      <td>10190.0</td>\n",
       "      <td>63.0</td>\n",
       "      <td>3</td>\n",
       "      <td>ultra</td>\n",
       "      <td>6</td>\n",
       "      <td>0</td>\n",
       "      <td>199</td>\n",
       "      <td>577.0</td>\n",
       "    </tr>\n",
       "    <tr>\n",
       "      <th>7</th>\n",
       "      <td>2</td>\n",
       "      <td>4</td>\n",
       "      <td>6165.0</td>\n",
       "      <td>40.0</td>\n",
       "      <td>2</td>\n",
       "      <td>ultra</td>\n",
       "      <td>6</td>\n",
       "      <td>0</td>\n",
       "      <td>199</td>\n",
       "      <td>439.0</td>\n",
       "    </tr>\n",
       "    <tr>\n",
       "      <th>8</th>\n",
       "      <td>2</td>\n",
       "      <td>6</td>\n",
       "      <td>3256.0</td>\n",
       "      <td>14.0</td>\n",
       "      <td>1</td>\n",
       "      <td>ultra</td>\n",
       "      <td>6</td>\n",
       "      <td>0</td>\n",
       "      <td>199</td>\n",
       "      <td>283.0</td>\n",
       "    </tr>\n",
       "    <tr>\n",
       "      <th>9</th>\n",
       "      <td>2</td>\n",
       "      <td>7</td>\n",
       "      <td>6781.0</td>\n",
       "      <td>48.0</td>\n",
       "      <td>2</td>\n",
       "      <td>ultra</td>\n",
       "      <td>6</td>\n",
       "      <td>0</td>\n",
       "      <td>199</td>\n",
       "      <td>487.0</td>\n",
       "    </tr>\n",
       "  </tbody>\n",
       "</table>\n",
       "</div>"
      ],
      "text/plain": [
       "   user_id  month  total_distance  total_duration  total_trips  \\\n",
       "0        1      1          7028.0            42.0            2   \n",
       "1        1      4           755.0             7.0            1   \n",
       "2        1      8          6724.0            46.0            2   \n",
       "3        1     10          5811.0            32.0            2   \n",
       "4        1     11          7005.0            56.0            3   \n",
       "5        1     12          6753.0            28.0            2   \n",
       "6        2      3         10190.0            63.0            3   \n",
       "7        2      4          6165.0            40.0            2   \n",
       "8        2      6          3256.0            14.0            1   \n",
       "9        2      7          6781.0            48.0            2   \n",
       "\n",
       "  subscription_type  minute_price  start_ride_price  subscription_fee  \\\n",
       "0             ultra             6                 0               199   \n",
       "1             ultra             6                 0               199   \n",
       "2             ultra             6                 0               199   \n",
       "3             ultra             6                 0               199   \n",
       "4             ultra             6                 0               199   \n",
       "5             ultra             6                 0               199   \n",
       "6             ultra             6                 0               199   \n",
       "7             ultra             6                 0               199   \n",
       "8             ultra             6                 0               199   \n",
       "9             ultra             6                 0               199   \n",
       "\n",
       "   monthly_revenue  \n",
       "0            451.0  \n",
       "1            241.0  \n",
       "2            475.0  \n",
       "3            391.0  \n",
       "4            535.0  \n",
       "5            367.0  \n",
       "6            577.0  \n",
       "7            439.0  \n",
       "8            283.0  \n",
       "9            487.0  "
      ]
     },
     "metadata": {},
     "output_type": "display_data"
    },
    {
     "name": "stdout",
     "output_type": "stream",
     "text": [
      "<class 'pandas.core.frame.DataFrame'>\n",
      "RangeIndex: 11300 entries, 0 to 11299\n",
      "Data columns (total 10 columns):\n",
      " #   Column             Non-Null Count  Dtype  \n",
      "---  ------             --------------  -----  \n",
      " 0   user_id            11300 non-null  int64  \n",
      " 1   month              11300 non-null  int32  \n",
      " 2   total_distance     11300 non-null  float64\n",
      " 3   total_duration     11300 non-null  float64\n",
      " 4   total_trips        11300 non-null  int64  \n",
      " 5   subscription_type  11300 non-null  object \n",
      " 6   minute_price       11300 non-null  int64  \n",
      " 7   start_ride_price   11300 non-null  int64  \n",
      " 8   subscription_fee   11300 non-null  int64  \n",
      " 9   monthly_revenue    11300 non-null  float64\n",
      "dtypes: float64(3), int32(1), int64(5), object(1)\n",
      "memory usage: 838.8+ KB\n"
     ]
    }
   ],
   "source": [
    "data_aggregated['monthly_revenue'] = data_aggregated['start_ride_price'] * data_aggregated['total_trips'] + \\\n",
    "data_aggregated['minute_price'] * data_aggregated['total_duration'] + data_aggregated['subscription_fee']\n",
    "display(data_aggregated.head(10))\n",
    "data_aggregated.info()"
   ]
  },
  {
   "attachments": {},
   "cell_type": "markdown",
   "id": "e6de949b",
   "metadata": {},
   "source": [
    "Для корректности округления, np.ceil() применена до аггрегирования таблицы. Результаты получились чуть другими"
   ]
  },
  {
   "attachments": {},
   "cell_type": "markdown",
   "id": "53434490",
   "metadata": {},
   "source": [
    "#### Шаг 6. Проверка гипотез"
   ]
  },
  {
   "attachments": {},
   "cell_type": "markdown",
   "id": "71e08d85",
   "metadata": {},
   "source": [
    "6.1 Проверим, тратят ли пользователи с подпиской больше времени на поездки. Для начала рассмотрим две совокупности, пользователи с подпиской и без."
   ]
  },
  {
   "cell_type": "code",
   "execution_count": 43,
   "id": "956fed8d",
   "metadata": {},
   "outputs": [
    {
     "name": "stdout",
     "output_type": "stream",
     "text": [
      "Продолжительность поездок без подписки count    11473.000000\n",
      "mean        17.530771\n",
      "std          6.162609\n",
      "min          2.035632\n",
      "25%         13.085688\n",
      "50%         17.383807\n",
      "75%         21.638038\n",
      "max         34.948498\n",
      "Name: duration, dtype: float64\n"
     ]
    },
    {
     "name": "stderr",
     "output_type": "stream",
     "text": [
      "/Users/denismaslov/Library/Python/3.10/lib/python/site-packages/seaborn/axisgrid.py:118: UserWarning: The figure layout has changed to tight\n",
      "  self._figure.tight_layout(*args, **kwargs)\n"
     ]
    },
    {
     "data": {
      "image/png": "[encoded data removed]",
      "text/plain": [
       "<Figure size 500x500 with 1 Axes>"
      ]
     },
     "metadata": {},
     "output_type": "display_data"
    }
   ],
   "source": [
    "#sns.kdeplot(users_no_subscription['duration'])\n",
    "\n",
    "print('Продолжительность поездок без подписки', users_no_subscription['duration'].describe())\n",
    "\n",
    "ax = sns.displot(users_no_subscription['duration'], discrete = False, kde = True)\n",
    "\n",
    "plt.xlabel('Продолжительность')\n",
    "plt.ylabel('Количество пользователей')\n",
    "plt.title('Анализ продолжительности поездок без подписки')\n",
    "\n",
    "\n",
    "plt.show()"
   ]
  },
  {
   "cell_type": "code",
   "execution_count": 44,
   "id": "34725eec",
   "metadata": {
    "scrolled": true
   },
   "outputs": [
    {
     "name": "stdout",
     "output_type": "stream",
     "text": [
      "Продолжительность поездок c подпиской count    6500.000000\n",
      "mean       18.541985\n",
      "std         5.572048\n",
      "min         3.760353\n",
      "25%        14.524654\n",
      "50%        18.178153\n",
      "75%        21.884129\n",
      "max        40.823963\n",
      "Name: duration, dtype: float64\n"
     ]
    },
    {
     "name": "stderr",
     "output_type": "stream",
     "text": [
      "/Users/denismaslov/Library/Python/3.10/lib/python/site-packages/seaborn/axisgrid.py:118: UserWarning: The figure layout has changed to tight\n",
      "  self._figure.tight_layout(*args, **kwargs)\n"
     ]
    },
    {
     "data": {
      "image/png": "[encoded data removed]",
      "text/plain": [
       "<Figure size 500x500 with 1 Axes>"
      ]
     },
     "metadata": {},
     "output_type": "display_data"
    }
   ],
   "source": [
    "#sns.kdeplot(users_subscription['duration'])\n",
    "\n",
    "print('Продолжительность поездок c подпиской', users_subscription['duration'].describe())\n",
    "\n",
    "ax = sns.displot(users_subscription['duration'], discrete = False, kde = True)\n",
    "\n",
    "plt.xlabel('Продолжительность')\n",
    "plt.ylabel('Количество пользователей')\n",
    "plt.title('Анализ продолжительности поездок c подпиской')\n",
    "\n",
    "\n",
    "plt.show()"
   ]
  },
  {
   "attachments": {},
   "cell_type": "markdown",
   "id": "963705e2",
   "metadata": {},
   "source": [
    "Обе совокупности имеют нормальное распределение. Вычмслим их среднее значение."
   ]
  },
  {
   "cell_type": "code",
   "execution_count": 45,
   "id": "ef4eb3c8",
   "metadata": {},
   "outputs": [],
   "source": [
    "#print('Среднее значение продолжительности поездки без подписки:', users_no_subscription['duration'].mean().round())\n",
    "#print('Среднее значение продолжительности поездки c подпиской:', users_subscription['duration'].mean().round())"
   ]
  },
  {
   "attachments": {},
   "cell_type": "markdown",
   "id": "d4472e45",
   "metadata": {},
   "source": [
    "Среднее значение продолжительности поездки для пользователей с подпиской выше чем пользователей без нее. Проверим эту гипотезу. За нулевую гипотезу возьмем то что совокупности равны, а следовательно нет разницы, с подпиской пользователи или без. За альтернативную гипотезу возьмем то что среднее значение совокупности пользователей без подписки меньше, чем среднее значение совокупности пользователей с подпиской. "
   ]
  },
  {
   "cell_type": "code",
   "execution_count": 46,
   "id": "b1b77e45",
   "metadata": {},
   "outputs": [
    {
     "name": "stdout",
     "output_type": "stream",
     "text": [
      "p-значение: 4.704468074453899e-28\n",
      "Отвергаем нулевую гипотезу\n"
     ]
    }
   ],
   "source": [
    "alpha = 0.05\n",
    "results = st.ttest_ind(users_no_subscription['duration'], users_subscription['duration'], alternative='less')\n",
    "\n",
    "print('p-значение:', results.pvalue)\n",
    "\n",
    "if results.pvalue < alpha:\n",
    "    print('Отвергаем нулевую гипотезу')\n",
    "else:\n",
    "    print('Не получилось отвергнуть нулевую гипотезу')"
   ]
  },
  {
   "attachments": {},
   "cell_type": "markdown",
   "id": "2d667589",
   "metadata": {},
   "source": [
    "Следовательно среднее значение продолжительности поездки для пользователей с подпиской выше чем пользователей без нее"
   ]
  },
  {
   "attachments": {},
   "cell_type": "markdown",
   "id": "07bfc6b0",
   "metadata": {},
   "source": [
    "6.2 Проверим, что расстояние, которое проезжают пользователи с подпиской за одну поездку, не превышает \n",
    "3130 метров. Рассмотрим совокупность пройденного расстояния из таблицы для пользователей с подпиской. "
   ]
  },
  {
   "cell_type": "code",
   "execution_count": 47,
   "id": "220d2f81",
   "metadata": {},
   "outputs": [
    {
     "name": "stdout",
     "output_type": "stream",
     "text": [
      "Дистанция поездок c подпиской count    6500.000000\n",
      "mean     3115.445388\n",
      "std       836.895330\n",
      "min       244.210438\n",
      "25%      2785.444017\n",
      "50%      3148.637229\n",
      "75%      3560.574425\n",
      "max      5699.769662\n",
      "Name: distance, dtype: float64\n"
     ]
    },
    {
     "name": "stderr",
     "output_type": "stream",
     "text": [
      "/Users/denismaslov/Library/Python/3.10/lib/python/site-packages/seaborn/axisgrid.py:118: UserWarning: The figure layout has changed to tight\n",
      "  self._figure.tight_layout(*args, **kwargs)\n"
     ]
    },
    {
     "data": {
      "image/png": "[encoded data removed]",
      "text/plain": [
       "<Figure size 500x500 with 1 Axes>"
      ]
     },
     "metadata": {},
     "output_type": "display_data"
    }
   ],
   "source": [
    "#users_subscription.hist('distance', bins=100, figsize=(8, 4))\n",
    "#sns.kdeplot(users_subscription['distance'])\n",
    "\n",
    "print('Дистанция поездок c подпиской', users_subscription['distance'].describe())\n",
    "\n",
    "ax = sns.displot(users_subscription['distance'], discrete = False, kde = True)\n",
    "\n",
    "plt.xlabel('Дистанция')\n",
    "plt.ylabel('Количество пользователей')\n",
    "plt.title('Анализ дистанции поездок c подпиской')\n",
    "\n",
    "\n",
    "plt.show()"
   ]
  },
  {
   "attachments": {},
   "cell_type": "markdown",
   "id": "90d55fb7",
   "metadata": {},
   "source": [
    "Совукупность имеет нормальное распределение. Среднее значение дистанции поездок пользователей 3115 м. За нулевую гипотезу возьмем то что среднее значение генеральной совокупности равно 3130 метров. За альтернативную гипотезу возьмем что пользователи с подпиской за одну сессию проезжают больше 3130.\n",
    "\n"
   ]
  },
  {
   "cell_type": "code",
   "execution_count": 48,
   "id": "f204eaa1",
   "metadata": {},
   "outputs": [
    {
     "name": "stdout",
     "output_type": "stream",
     "text": [
      "p-значение: 0.9195368847849785\n",
      "Не отвергаем нулевую гипотезу\n"
     ]
    }
   ],
   "source": [
    "optimal_distance = 3130\n",
    "\n",
    "alpha = 0.05\n",
    "\n",
    "results = st.ttest_1samp(users_subscription['distance'], optimal_distance, alternative='greater')\n",
    "\n",
    "print('p-значение:', results.pvalue)\n",
    "\n",
    "if (results.pvalue < alpha):\n",
    "    print('Отвергаем нулевую гипотезу')\n",
    "else:\n",
    "    print('Не отвергаем нулевую гипотезу') "
   ]
  },
  {
   "attachments": {},
   "cell_type": "markdown",
   "id": "6b73d25f",
   "metadata": {},
   "source": [
    "Следовательно, расстояние, которое проезжают пользователи с подпиской за одну поездку, не превышает \n",
    "3130 метров."
   ]
  },
  {
   "attachments": {},
   "cell_type": "markdown",
   "id": "02a8bbad",
   "metadata": {},
   "source": [
    "6.3 Проверим, будет ли помесячная выручка от пользователей с подпиской по месяцам выше, чем выручка от пользователей без подписки. Сначала подготовим датафрейм с группировкой по месяцам и типу подписки и вычислим суммарную выручку. Разделим данные на 2 группы, с подпиской и без."
   ]
  },
  {
   "cell_type": "code",
   "execution_count": 49,
   "id": "60164fcc",
   "metadata": {},
   "outputs": [
    {
     "name": "stdout",
     "output_type": "stream",
     "text": [
      "4533\n",
      "6767\n"
     ]
    }
   ],
   "source": [
    "revenue_subscription = data_aggregated[data_aggregated['subscription_type'] == 'ultra']['monthly_revenue']\n",
    "revenue_no_subscription = data_aggregated[data_aggregated['subscription_type'] == 'free']['monthly_revenue']\n",
    "#display(revenue_subscription.head(10))\n",
    "#display(revenue_no_subscription.head(10))\n",
    "print(len(revenue_subscription))\n",
    "print(len(revenue_no_subscription))"
   ]
  },
  {
   "attachments": {},
   "cell_type": "markdown",
   "id": "4d9ccad8",
   "metadata": {},
   "source": [
    "Проверим гипотезу. За нулевую гипотезу возьмем то что помесячная выручка от пользователей с подпиской по месяцам роавна выручке от пользователей без подписки. За альтернативную гипотезу возьмем то что выручка с подпиской выше чем выручка без подписки."
   ]
  },
  {
   "cell_type": "code",
   "execution_count": 50,
   "id": "bee956ec",
   "metadata": {},
   "outputs": [
    {
     "name": "stdout",
     "output_type": "stream",
     "text": [
      "p-значение: 2.0314113674863288e-30\n",
      "Отвергаем нулевую гипотезу\n"
     ]
    }
   ],
   "source": [
    "alpha = 0.05 # уровень статистической значимости\n",
    "# если p-value окажется меньше него, отвергнем гипотезу\n",
    "results = st.ttest_ind(revenue_subscription, revenue_no_subscription, alternative='greater')\n",
    "\n",
    "print('p-значение:', results.pvalue)\n",
    "\n",
    "if results.pvalue < alpha:\n",
    "    print('Отвергаем нулевую гипотезу')\n",
    "else:\n",
    "    print('Не получилось отвергнуть нулевую гипотезу')"
   ]
  },
  {
   "attachments": {},
   "cell_type": "markdown",
   "id": "9d3603ff",
   "metadata": {},
   "source": [
    "Так как не получилось отвергнуть нулевую гипотезу, то можно сделать вывод о том, что подписка не влияет на размер месячной выручки. "
   ]
  },
  {
   "attachments": {},
   "cell_type": "markdown",
   "id": "2625af98",
   "metadata": {},
   "source": [
    "6.4. Представьте такую ситуацию: техническая команда сервиса обновила сервера, с которыми взаимодействует мобильное приложение. Она надеется, что из-за этого количество обращений в техподдержку значимо снизилось. Некоторый файл содержит для каждого пользователя данные о количестве обращений до обновления и после него. Какой тест вам понадобился бы для проверки этой гипотезы?<br>\n",
    "Ответ на вопрос 6.4: Если нам необходимо проанализировать количество обращений пользователя до обновления и после него, нам понадобится тест о равенстве средних для зависимых (парных) выборок, или метод scipy.stats.ttest_rel(). Ему достаточно передать 2 параметра, набор данных до и после обновления. Оба набора должны быть одинаковыми по размеру и иметь одинаковый порядок - k-е число в первом наборе должно соответствовать k-му числу во втором наборе отражающим одно и тоже измерение до и после обновления."
   ]
  },
  {
   "attachments": {},
   "cell_type": "markdown",
   "id": "ba0767d7",
   "metadata": {},
   "source": [
    "#### Шаг 7. Распределения"
   ]
  },
  {
   "attachments": {},
   "cell_type": "markdown",
   "id": "2c552858",
   "metadata": {},
   "source": [
    "7.1 Построим график распределения и вычислим минимальное количество промокодов, необходимых для того чтобы минимум 100 пользователей продлили подписку с вероятностью минимум 5%. "
   ]
  },
  {
   "cell_type": "code",
   "execution_count": 51,
   "id": "070d0342",
   "metadata": {
    "scrolled": true
   },
   "outputs": [
    {
     "name": "stdout",
     "output_type": "stream",
     "text": [
      "Минимальное количество промокодов, необходимое для продления подписки минимум 100 пользователей: 1171\n",
      "Вероятность выполнить план: 0.0505235199072141\n"
     ]
    },
    {
     "data": {
      "image/png": "[encoded data removed]",
      "text/plain": [
       "<Figure size 640x480 with 1 Axes>"
      ]
     },
     "metadata": {},
     "output_type": "display_data"
    }
   ],
   "source": [
    "\n",
    "p = 0.1  # Вероятность продления подписки\n",
    "target_prob = 0.05  # Вероятность невыполнения плана\n",
    "min_N = 100\n",
    "# Количество выданных промокодов N\n",
    "for N in range(min_N, 2000):\n",
    "#    dist = binom(N, p)\n",
    "    prob = binom.cdf(min_N, N, p)\n",
    "    if prob <= target_prob:\n",
    "        break\n",
    "\n",
    "mu = N * p\n",
    "sigma = np.sqrt(N * p * (1 - p))\n",
    "\n",
    "\n",
    "# границы промежутка, в котором будем строить аппроксимацию -\n",
    "# от mu минус 4 sigma бином.распределения\n",
    "# до mu плюс 4 sigma бином.распределения\n",
    "# (там, где вероятности значений почти не равны нулю)\n",
    "left = int(mu - 4 * sigma)\n",
    "right = int(mu + 4 * sigma)\n",
    " \n",
    "# зададим набор значений биномиальной величины на выбранном промежутке:\n",
    "# все неотрицательные целые числа от left до right\n",
    "x = list(range(max(0, left), right))\n",
    "# рисуем график биномиального распределения\n",
    "\n",
    "ax = plt.subplot(title=\"График распределения числа продленных подписок\", xlabel=\"Количество пользователей\")\n",
    "ax.plot(x, binom.pmf(x, N, p),\n",
    "\t      label='вероятности биномиального распределения')\n",
    "\n",
    "\n",
    "prob = binom.cdf(min_N, N-1, p)\n",
    "print(f\"Минимальное количество промокодов, необходимое для продления подписки минимум 100 пользователей: {N-1}\")\n",
    "print(f\"Вероятность выполнить план: {prob}\")"
   ]
  },
  {
   "attachments": {},
   "cell_type": "markdown",
   "id": "d9b4e154",
   "metadata": {},
   "source": [
    "Как мы видим, необходимо выдать 1171 промокодов, чтобы миинмум 100 пользователей продлили подписку с вероятностью не менее 5%."
   ]
  },
  {
   "attachments": {},
   "cell_type": "markdown",
   "id": "682d7f62",
   "metadata": {},
   "source": [
    "7.2 Построим график распределения и вычислим вероятность того, что уведомления откроют не более 399500 пользователей из 1 млн."
   ]
  },
  {
   "cell_type": "code",
   "execution_count": 52,
   "id": "c1468bf9",
   "metadata": {},
   "outputs": [
    {
     "name": "stdout",
     "output_type": "stream",
     "text": [
      "Вероятность открытия рассылки не более 399,5 тыс. пользователей: 0.15371708296369768\n"
     ]
    },
    {
     "data": {
      "image/png": "[encoded data removed]",
      "text/plain": [
       "<Figure size 640x480 with 1 Axes>"
      ]
     },
     "metadata": {},
     "output_type": "display_data"
    }
   ],
   "source": [
    "\n",
    "# задаём параметры биномиального распределения\n",
    "n = 1000000\n",
    "p = 0.4\n",
    "\n",
    "mu = n * p\n",
    "sigma = np.sqrt(n * p * (1 - p))\n",
    "\n",
    "# границы промежутка, в котором будем строить аппроксимацию -\n",
    "# от mu минус 4 sigma бином.распределения\n",
    "# до mu плюс 4 sigma бином.распределения\n",
    "# (там, где вероятности значений почти не равны нулю)\n",
    "left = int(mu - 4 * sigma)\n",
    "right = int(mu + 4 * sigma)\n",
    " \n",
    "# зададим набор значений биномиальной величины на выбранном промежутке:\n",
    "# все неотрицательные целые числа от left до right\n",
    "x = list(range(max(0, left), right))\n",
    "# рисуем график биномиального распределения\n",
    "ax = plt.subplot(title=\"График распределения числа открытых уведомлений\", xlabel=\"Количество пользователей\")\n",
    "ax.plot(x, binom.pmf(x, n, p),\n",
    "\t      label='вероятности биномиального распределения')\n",
    "\n",
    "\n",
    "prob = norm.cdf(399500, mu, sigma)\n",
    "print(f\"Вероятность открытия рассылки не более 399,5 тыс. пользователей: {prob}\")\n"
   ]
  },
  {
   "attachments": {},
   "cell_type": "markdown",
   "id": "8f8cfde7",
   "metadata": {},
   "source": [
    "Вероятность того, что уведомления откроют не более 399500 пользователей из 1 млн. равна 15,37%. "
   ]
  },
  {
   "attachments": {},
   "cell_type": "markdown",
   "id": "f87b0fd3",
   "metadata": {},
   "source": [
    "Общий вывод:<br>\n",
    "Мы рассмортрели данные сервиса аренды самокатов GoFast. В данных встретились выбросы и дубликаты, был неверно задан тип столбца дата. Я очистил эти данные и удалил пропуски. Также были удалены выбросы, которые, на мой взгляд не влияют на предмет нашего исследования. Был проведен исследовательский анализ данных на прдмет:<br>\n",
    "1. Информация по городам: мы видим что данные по городам имеют примерно одинаковые доли, но с небольшим отличием, примерно все города представлены в равной степени среди данных о пользователях самокатов, что говорит о том, что сервис пользуется популярностью примерно во всех городах в равной степени. Хотя при этом Пятигорск и Екатеринбург выделяются, так как имеют больше 200 пользователей.<br>\n",
    "2. Соотношение пользователей с подпиской и без, примерно равно, хотя по факту количество пользователей без подписки чуть больше.<br>\n",
    "3. Средний возраст пользователей 25 лет.<br>\n",
    "4. Средний пробег самоката за одну поездку состовляет 3133 м.<br>\n",
    "5. Средняя длительность поездки пользователя составляет 17,9 мин.<br>\n",
    "Мы получили общий датафрейм содержит всю информацию о пользователях, их поездках и подписках, а также 2 датафрейма, с пользователями с подпиской и без.<br>\n",
    "Посчитали выручку по каждому пользователю помесячно, и добавили столбец monthly_revenue с этим значением в таблицу.<br>\n",
    "Проверили следующие гипотезы и получили результаты:<br>\n",
    "1. Тратят ли пользователи с подпиской больше времени на поездки. Ответ - да.<br>\n",
    "2. Расстояние, которое проезжают пользователи с подпиской за одну поездку в среднем, не превышает 3130 метров. Ответ - да.<br>\n",
    "3. Помесячная выручка от пользователей с подпиской по месяцам выше, чем выручка от пользователей без подписки. Ответ - нет.<br>\n",
    "4. Если нам необходимо проверить гипотезу, как изменилось количество обращений пользователя до обновления и после него, нам понадобится тест о равенстве средних для зависимых (парных) выборок, или метод scipy.stats.ttest_rel().<br>\n",
    "Мы посчитали, что отделу маркетинга необходимо выдать минимум 859  промокодов, чтобы минимум 100 пользователей продлили подписку с вероятностью 5%.<br>\n",
    "Мы посчитали что из миллиона пользователей уведомление из рассылки откроют не более 399500 пользователей с вероятностью 15,37%.<br>\n",
    "Как я уже писал ранее, стоит отдельно проанализировать природу выбросов в датафрейме о поездках, почему люди берут самокат в аренду, и тут же заканчивают аренду, и почему существует группа пользователей, которые проезжаю малое расстояние. На это могут влиять разные факторы: не умение пользоваться самокатом, разные скоростные режимы в городе, кончился заряд и т.д., но это предмет отдельного исследования. \n"
   ]
  }
 ],
 "metadata": {
  "ExecuteTimeLog": [
   {
    "duration": 835,
    "start_time": "2023-06-02T10:23:37.488Z"
   },
   {
    "duration": 105,
    "start_time": "2023-06-02T10:23:39.558Z"
   },
   {
    "duration": 6,
    "start_time": "2023-06-02T10:24:43.776Z"
   },
   {
    "duration": 384,
    "start_time": "2023-06-02T10:25:41.599Z"
   },
   {
    "duration": 77,
    "start_time": "2023-06-02T10:27:29.845Z"
   },
   {
    "duration": 7,
    "start_time": "2023-06-02T10:29:40.000Z"
   },
   {
    "duration": 8,
    "start_time": "2023-06-02T10:29:55.593Z"
   },
   {
    "duration": 8,
    "start_time": "2023-06-02T10:30:14.258Z"
   },
   {
    "duration": 13,
    "start_time": "2023-06-02T10:31:47.192Z"
   },
   {
    "duration": 20,
    "start_time": "2023-06-02T10:32:58.572Z"
   },
   {
    "duration": 12,
    "start_time": "2023-06-02T10:35:30.420Z"
   },
   {
    "duration": 6,
    "start_time": "2023-06-02T10:36:36.262Z"
   },
   {
    "duration": 7,
    "start_time": "2023-06-02T10:36:51.108Z"
   },
   {
    "duration": 8,
    "start_time": "2023-06-02T10:45:52.364Z"
   },
   {
    "duration": 10,
    "start_time": "2023-06-02T10:49:33.211Z"
   },
   {
    "duration": 7,
    "start_time": "2023-06-02T10:50:12.369Z"
   },
   {
    "duration": 6,
    "start_time": "2023-06-02T10:50:15.069Z"
   },
   {
    "duration": 5,
    "start_time": "2023-06-02T10:50:19.570Z"
   },
   {
    "duration": 653,
    "start_time": "2023-06-02T10:54:52.164Z"
   },
   {
    "duration": 109,
    "start_time": "2023-06-02T10:57:22.066Z"
   },
   {
    "duration": 70,
    "start_time": "2023-06-02T10:57:44.662Z"
   },
   {
    "duration": 106,
    "start_time": "2023-06-02T10:57:53.158Z"
   },
   {
    "duration": 171,
    "start_time": "2023-06-02T10:58:24.266Z"
   },
   {
    "duration": 156,
    "start_time": "2023-06-02T10:58:37.878Z"
   },
   {
    "duration": 116,
    "start_time": "2023-06-02T10:59:05.490Z"
   },
   {
    "duration": 135,
    "start_time": "2023-06-02T10:59:31.917Z"
   },
   {
    "duration": 283,
    "start_time": "2023-06-02T11:00:54.007Z"
   },
   {
    "duration": 363,
    "start_time": "2023-06-02T11:01:01.906Z"
   },
   {
    "duration": 280,
    "start_time": "2023-06-02T11:01:11.497Z"
   },
   {
    "duration": 259,
    "start_time": "2023-06-02T11:01:19.879Z"
   },
   {
    "duration": 183,
    "start_time": "2023-06-02T11:02:24.173Z"
   },
   {
    "duration": 285,
    "start_time": "2023-06-02T11:02:41.408Z"
   },
   {
    "duration": 299,
    "start_time": "2023-06-02T11:03:47.186Z"
   },
   {
    "duration": 116,
    "start_time": "2023-06-02T11:04:33.513Z"
   },
   {
    "duration": 277,
    "start_time": "2023-06-02T11:04:47.826Z"
   },
   {
    "duration": 238,
    "start_time": "2023-06-02T11:05:02.172Z"
   },
   {
    "duration": 337,
    "start_time": "2023-06-02T11:05:09.674Z"
   },
   {
    "duration": 235,
    "start_time": "2023-06-02T11:05:22.986Z"
   },
   {
    "duration": 341,
    "start_time": "2023-06-02T11:06:53.872Z"
   },
   {
    "duration": 284,
    "start_time": "2023-06-02T11:07:49.572Z"
   },
   {
    "duration": 22,
    "start_time": "2023-06-02T11:16:09.966Z"
   },
   {
    "duration": 31,
    "start_time": "2023-06-02T11:16:45.820Z"
   },
   {
    "duration": 9,
    "start_time": "2023-06-02T11:17:58.967Z"
   },
   {
    "duration": 30,
    "start_time": "2023-06-02T11:20:52.891Z"
   },
   {
    "duration": 8,
    "start_time": "2023-06-02T11:21:35.353Z"
   },
   {
    "duration": 9,
    "start_time": "2023-06-02T11:23:37.646Z"
   },
   {
    "duration": 5,
    "start_time": "2023-06-02T11:27:59.850Z"
   },
   {
    "duration": 6,
    "start_time": "2023-06-02T11:28:33.443Z"
   },
   {
    "duration": 12,
    "start_time": "2023-06-02T11:29:14.396Z"
   },
   {
    "duration": 10,
    "start_time": "2023-06-02T11:29:39.861Z"
   },
   {
    "duration": 14,
    "start_time": "2023-06-02T11:32:50.678Z"
   },
   {
    "duration": 14,
    "start_time": "2023-06-02T11:35:41.399Z"
   },
   {
    "duration": 3,
    "start_time": "2023-06-02T11:36:14.484Z"
   },
   {
    "duration": 49,
    "start_time": "2023-06-02T11:36:19.369Z"
   },
   {
    "duration": 52,
    "start_time": "2023-06-02T11:36:27.952Z"
   },
   {
    "duration": 39,
    "start_time": "2023-06-02T11:36:31.203Z"
   },
   {
    "duration": 7,
    "start_time": "2023-06-02T11:36:34.511Z"
   },
   {
    "duration": 7,
    "start_time": "2023-06-02T11:36:37.227Z"
   },
   {
    "duration": 22,
    "start_time": "2023-06-02T11:36:41.688Z"
   },
   {
    "duration": 12,
    "start_time": "2023-06-02T11:36:44.782Z"
   },
   {
    "duration": 9,
    "start_time": "2023-06-02T11:36:47.599Z"
   },
   {
    "duration": 7,
    "start_time": "2023-06-02T11:36:59.255Z"
   },
   {
    "duration": 3,
    "start_time": "2023-06-02T11:37:48.177Z"
   },
   {
    "duration": 49,
    "start_time": "2023-06-02T11:37:49.873Z"
   },
   {
    "duration": 64,
    "start_time": "2023-06-02T11:37:53.443Z"
   },
   {
    "duration": 40,
    "start_time": "2023-06-02T11:37:56.952Z"
   },
   {
    "duration": 7,
    "start_time": "2023-06-02T11:37:59.792Z"
   },
   {
    "duration": 10,
    "start_time": "2023-06-02T11:38:01.880Z"
   },
   {
    "duration": 23,
    "start_time": "2023-06-02T11:38:05.864Z"
   },
   {
    "duration": 15,
    "start_time": "2023-06-02T11:38:08.408Z"
   },
   {
    "duration": 13,
    "start_time": "2023-06-02T11:38:11.043Z"
   },
   {
    "duration": 7,
    "start_time": "2023-06-02T11:38:15.023Z"
   },
   {
    "duration": 15,
    "start_time": "2023-06-02T11:38:21.192Z"
   },
   {
    "duration": 23,
    "start_time": "2023-06-02T11:38:44.164Z"
   },
   {
    "duration": 8,
    "start_time": "2023-06-02T11:40:42.941Z"
   },
   {
    "duration": 15,
    "start_time": "2023-06-02T11:41:35.051Z"
   },
   {
    "duration": 14,
    "start_time": "2023-06-02T11:41:52.603Z"
   },
   {
    "duration": 15,
    "start_time": "2023-06-02T11:42:25.164Z"
   },
   {
    "duration": 14,
    "start_time": "2023-06-02T11:42:47.862Z"
   },
   {
    "duration": 8,
    "start_time": "2023-06-02T11:42:52.306Z"
   },
   {
    "duration": 129,
    "start_time": "2023-06-02T11:42:56.082Z"
   },
   {
    "duration": 143,
    "start_time": "2023-06-02T11:43:01.239Z"
   },
   {
    "duration": 79,
    "start_time": "2023-06-02T11:43:07.347Z"
   },
   {
    "duration": 399,
    "start_time": "2023-06-02T11:43:10.367Z"
   },
   {
    "duration": 315,
    "start_time": "2023-06-02T11:43:14.771Z"
   },
   {
    "duration": 306,
    "start_time": "2023-06-02T11:43:20.472Z"
   },
   {
    "duration": 47,
    "start_time": "2023-06-02T11:43:30.074Z"
   },
   {
    "duration": 8,
    "start_time": "2023-06-02T11:43:49.276Z"
   },
   {
    "duration": 9,
    "start_time": "2023-06-02T11:44:08.720Z"
   },
   {
    "duration": 43,
    "start_time": "2023-06-02T11:44:17.839Z"
   },
   {
    "duration": 9,
    "start_time": "2023-06-02T11:44:24.203Z"
   },
   {
    "duration": 39,
    "start_time": "2023-06-02T11:57:50.451Z"
   },
   {
    "duration": 48,
    "start_time": "2023-06-02T11:58:42.651Z"
   },
   {
    "duration": 47,
    "start_time": "2023-06-02T12:13:04.287Z"
   },
   {
    "duration": 32,
    "start_time": "2023-06-02T13:30:07.901Z"
   },
   {
    "duration": 16,
    "start_time": "2023-06-02T13:31:37.035Z"
   },
   {
    "duration": 19,
    "start_time": "2023-06-02T13:31:48.805Z"
   },
   {
    "duration": 16,
    "start_time": "2023-06-02T13:32:06.501Z"
   },
   {
    "duration": 21,
    "start_time": "2023-06-02T13:32:30.989Z"
   },
   {
    "duration": 82,
    "start_time": "2023-06-02T13:42:04.721Z"
   },
   {
    "duration": 29,
    "start_time": "2023-06-02T13:43:13.258Z"
   },
   {
    "duration": 15,
    "start_time": "2023-06-02T13:47:44.797Z"
   },
   {
    "duration": 31,
    "start_time": "2023-06-02T13:51:44.758Z"
   },
   {
    "duration": 18,
    "start_time": "2023-06-02T13:51:51.599Z"
   },
   {
    "duration": 28,
    "start_time": "2023-06-02T13:53:22.320Z"
   },
   {
    "duration": 15,
    "start_time": "2023-06-02T13:53:28.728Z"
   },
   {
    "duration": 25,
    "start_time": "2023-06-02T13:55:27.346Z"
   },
   {
    "duration": 15,
    "start_time": "2023-06-02T13:55:58.941Z"
   },
   {
    "duration": 6,
    "start_time": "2023-06-02T13:57:16.369Z"
   },
   {
    "duration": 376,
    "start_time": "2023-06-02T14:02:25.939Z"
   },
   {
    "duration": 212,
    "start_time": "2023-06-02T14:03:01.818Z"
   },
   {
    "duration": 285,
    "start_time": "2023-06-02T14:04:34.876Z"
   },
   {
    "duration": 384,
    "start_time": "2023-06-02T14:05:53.674Z"
   },
   {
    "duration": 8,
    "start_time": "2023-06-02T14:08:42.717Z"
   },
   {
    "duration": 6,
    "start_time": "2023-06-02T14:09:19.747Z"
   },
   {
    "duration": 258,
    "start_time": "2023-06-02T14:09:30.895Z"
   },
   {
    "duration": 62,
    "start_time": "2023-06-02T14:12:25.472Z"
   },
   {
    "duration": 6,
    "start_time": "2023-06-02T14:12:57.313Z"
   },
   {
    "duration": 7,
    "start_time": "2023-06-02T14:15:33.921Z"
   },
   {
    "duration": 4,
    "start_time": "2023-06-02T14:17:49.667Z"
   },
   {
    "duration": 5,
    "start_time": "2023-06-02T14:18:42.302Z"
   },
   {
    "duration": 99,
    "start_time": "2023-06-02T14:18:51.282Z"
   },
   {
    "duration": 6,
    "start_time": "2023-06-02T14:19:16.643Z"
   },
   {
    "duration": 6,
    "start_time": "2023-06-02T14:19:42.102Z"
   },
   {
    "duration": 6,
    "start_time": "2023-06-02T14:19:51.669Z"
   },
   {
    "duration": 242,
    "start_time": "2023-06-02T14:23:50.724Z"
   },
   {
    "duration": 101,
    "start_time": "2023-06-02T14:27:22.998Z"
   },
   {
    "duration": 5,
    "start_time": "2023-06-02T14:28:01.439Z"
   },
   {
    "duration": 6,
    "start_time": "2023-06-02T14:28:57.086Z"
   },
   {
    "duration": 6,
    "start_time": "2023-06-02T14:30:36.281Z"
   },
   {
    "duration": 5,
    "start_time": "2023-06-02T14:32:03.600Z"
   },
   {
    "duration": 26,
    "start_time": "2023-06-02T14:40:53.282Z"
   },
   {
    "duration": 1243,
    "start_time": "2023-06-02T14:46:53.447Z"
   },
   {
    "duration": 16,
    "start_time": "2023-06-02T14:47:42.987Z"
   },
   {
    "duration": 10,
    "start_time": "2023-06-02T14:48:18.215Z"
   },
   {
    "duration": 13,
    "start_time": "2023-06-02T14:49:12.135Z"
   },
   {
    "duration": 11,
    "start_time": "2023-06-02T14:49:23.888Z"
   },
   {
    "duration": 244,
    "start_time": "2023-06-02T14:50:39.320Z"
   },
   {
    "duration": 5,
    "start_time": "2023-06-02T14:51:49.465Z"
   },
   {
    "duration": 12,
    "start_time": "2023-06-02T14:52:13.416Z"
   },
   {
    "duration": 5,
    "start_time": "2023-06-02T14:55:40.987Z"
   },
   {
    "duration": 7,
    "start_time": "2023-06-02T14:57:42.852Z"
   },
   {
    "duration": 788,
    "start_time": "2023-06-03T02:08:50.897Z"
   },
   {
    "duration": 95,
    "start_time": "2023-06-03T02:08:53.935Z"
   },
   {
    "duration": 108,
    "start_time": "2023-06-03T02:08:58.343Z"
   },
   {
    "duration": 73,
    "start_time": "2023-06-03T02:09:02.283Z"
   },
   {
    "duration": 23,
    "start_time": "2023-06-03T02:09:20.064Z"
   },
   {
    "duration": 12,
    "start_time": "2023-06-03T02:09:32.416Z"
   },
   {
    "duration": 8,
    "start_time": "2023-06-03T02:09:37.175Z"
   },
   {
    "duration": 13,
    "start_time": "2023-06-03T02:09:43.679Z"
   },
   {
    "duration": 12,
    "start_time": "2023-06-03T02:09:55.408Z"
   },
   {
    "duration": 11,
    "start_time": "2023-06-03T02:10:16.146Z"
   },
   {
    "duration": 7,
    "start_time": "2023-06-03T02:10:20.202Z"
   },
   {
    "duration": 550,
    "start_time": "2023-06-03T02:10:29.005Z"
   },
   {
    "duration": 124,
    "start_time": "2023-06-03T02:10:40.608Z"
   },
   {
    "duration": 67,
    "start_time": "2023-06-03T02:10:55.376Z"
   },
   {
    "duration": 164,
    "start_time": "2023-06-03T02:14:43.835Z"
   },
   {
    "duration": 143,
    "start_time": "2023-06-03T02:15:10.611Z"
   },
   {
    "duration": 774,
    "start_time": "2023-06-03T02:16:21.781Z"
   },
   {
    "duration": 365,
    "start_time": "2023-06-03T02:16:34.628Z"
   },
   {
    "duration": 8,
    "start_time": "2023-06-03T02:19:31.709Z"
   },
   {
    "duration": 320,
    "start_time": "2023-06-03T02:19:34.077Z"
   },
   {
    "duration": 4,
    "start_time": "2023-06-03T02:20:06.143Z"
   },
   {
    "duration": 53,
    "start_time": "2023-06-03T02:20:08.470Z"
   },
   {
    "duration": 51,
    "start_time": "2023-06-03T02:20:12.220Z"
   },
   {
    "duration": 39,
    "start_time": "2023-06-03T02:20:19.689Z"
   },
   {
    "duration": 23,
    "start_time": "2023-06-03T02:20:24.575Z"
   },
   {
    "duration": 13,
    "start_time": "2023-06-03T02:20:27.468Z"
   },
   {
    "duration": 6,
    "start_time": "2023-06-03T02:20:30.797Z"
   },
   {
    "duration": 12,
    "start_time": "2023-06-03T02:20:33.995Z"
   },
   {
    "duration": 15,
    "start_time": "2023-06-03T02:20:38.358Z"
   },
   {
    "duration": 16,
    "start_time": "2023-06-03T02:20:42.054Z"
   },
   {
    "duration": 7,
    "start_time": "2023-06-03T02:20:45.980Z"
   },
   {
    "duration": 111,
    "start_time": "2023-06-03T02:20:48.701Z"
   },
   {
    "duration": 132,
    "start_time": "2023-06-03T02:20:51.645Z"
   },
   {
    "duration": 150,
    "start_time": "2023-06-03T02:20:54.687Z"
   },
   {
    "duration": 139,
    "start_time": "2023-06-03T02:21:02.525Z"
   },
   {
    "duration": 350,
    "start_time": "2023-06-03T02:21:11.629Z"
   },
   {
    "duration": 7,
    "start_time": "2023-06-03T02:21:26.530Z"
   },
   {
    "duration": 424,
    "start_time": "2023-06-03T02:21:28.885Z"
   },
   {
    "duration": 3,
    "start_time": "2023-06-03T02:22:04.549Z"
   },
   {
    "duration": 29,
    "start_time": "2023-06-03T02:22:14.761Z"
   },
   {
    "duration": 12,
    "start_time": "2023-06-03T02:22:18.014Z"
   },
   {
    "duration": 8,
    "start_time": "2023-06-03T02:22:21.616Z"
   },
   {
    "duration": 14,
    "start_time": "2023-06-03T02:22:25.794Z"
   },
   {
    "duration": 19,
    "start_time": "2023-06-03T02:22:30.002Z"
   },
   {
    "duration": 12,
    "start_time": "2023-06-03T02:22:33.845Z"
   },
   {
    "duration": 7,
    "start_time": "2023-06-03T02:22:36.982Z"
   },
   {
    "duration": 110,
    "start_time": "2023-06-03T02:22:39.572Z"
   },
   {
    "duration": 141,
    "start_time": "2023-06-03T02:22:41.830Z"
   },
   {
    "duration": 74,
    "start_time": "2023-06-03T02:22:44.326Z"
   },
   {
    "duration": 182,
    "start_time": "2023-06-03T02:22:46.936Z"
   },
   {
    "duration": 419,
    "start_time": "2023-06-03T02:22:50.573Z"
   },
   {
    "duration": 9,
    "start_time": "2023-06-03T02:23:01.740Z"
   },
   {
    "duration": 336,
    "start_time": "2023-06-03T02:23:05.554Z"
   },
   {
    "duration": 366,
    "start_time": "2023-06-03T02:23:51.421Z"
   },
   {
    "duration": 6,
    "start_time": "2023-06-03T02:24:48.924Z"
   },
   {
    "duration": 396,
    "start_time": "2023-06-03T02:24:51.097Z"
   },
   {
    "duration": 31,
    "start_time": "2023-06-03T02:25:15.782Z"
   },
   {
    "duration": 9,
    "start_time": "2023-06-03T02:25:22.294Z"
   },
   {
    "duration": 32,
    "start_time": "2023-06-03T02:25:34.198Z"
   },
   {
    "duration": 9,
    "start_time": "2023-06-03T02:25:40.713Z"
   },
   {
    "duration": 189,
    "start_time": "2023-06-03T02:25:58.288Z"
   },
   {
    "duration": 37,
    "start_time": "2023-06-03T02:26:24.025Z"
   },
   {
    "duration": 27,
    "start_time": "2023-06-03T02:26:42.057Z"
   },
   {
    "duration": 351,
    "start_time": "2023-06-03T02:27:54.014Z"
   },
   {
    "duration": 189,
    "start_time": "2023-06-03T02:29:22.793Z"
   },
   {
    "duration": 5,
    "start_time": "2023-06-03T02:30:46.276Z"
   },
   {
    "duration": 6,
    "start_time": "2023-06-03T02:30:55.716Z"
   },
   {
    "duration": 175,
    "start_time": "2023-06-03T02:32:02.434Z"
   },
   {
    "duration": 5,
    "start_time": "2023-06-03T02:32:16.561Z"
   },
   {
    "duration": 7,
    "start_time": "2023-06-03T02:32:36.727Z"
   },
   {
    "duration": 10,
    "start_time": "2023-06-03T02:32:41.042Z"
   },
   {
    "duration": 343,
    "start_time": "2023-06-03T02:56:43.681Z"
   },
   {
    "duration": 486,
    "start_time": "2023-06-03T02:57:39.764Z"
   },
   {
    "duration": 337,
    "start_time": "2023-06-03T02:59:46.110Z"
   },
   {
    "duration": 551,
    "start_time": "2023-06-03T03:00:16.222Z"
   },
   {
    "duration": 523,
    "start_time": "2023-06-03T03:14:13.227Z"
   },
   {
    "duration": 582,
    "start_time": "2023-06-03T03:17:38.638Z"
   },
   {
    "duration": 741,
    "start_time": "2023-06-03T03:17:55.989Z"
   },
   {
    "duration": 13,
    "start_time": "2023-06-03T03:21:03.511Z"
   },
   {
    "duration": 400,
    "start_time": "2023-06-03T03:21:13.720Z"
   },
   {
    "duration": 634,
    "start_time": "2023-06-03T03:21:23.202Z"
   },
   {
    "duration": 752,
    "start_time": "2023-06-03T03:22:10.345Z"
   },
   {
    "duration": 527,
    "start_time": "2023-06-03T03:22:19.327Z"
   },
   {
    "duration": 561,
    "start_time": "2023-06-03T03:22:33.866Z"
   },
   {
    "duration": 150,
    "start_time": "2023-06-03T03:23:49.760Z"
   },
   {
    "duration": 690,
    "start_time": "2023-06-03T03:24:11.184Z"
   },
   {
    "duration": 492,
    "start_time": "2023-06-03T03:24:50.004Z"
   },
   {
    "duration": 584,
    "start_time": "2023-06-03T03:25:35.250Z"
   },
   {
    "duration": 655,
    "start_time": "2023-06-03T03:26:09.250Z"
   },
   {
    "duration": 667,
    "start_time": "2023-06-03T03:26:45.675Z"
   },
   {
    "duration": 20,
    "start_time": "2023-06-03T03:30:49.380Z"
   },
   {
    "duration": 13,
    "start_time": "2023-06-03T03:31:31.516Z"
   },
   {
    "duration": 570,
    "start_time": "2023-06-03T03:32:19.667Z"
   },
   {
    "duration": 626,
    "start_time": "2023-06-03T03:32:29.277Z"
   },
   {
    "duration": 515,
    "start_time": "2023-06-03T03:33:07.381Z"
   },
   {
    "duration": 525,
    "start_time": "2023-06-03T03:33:18.108Z"
   },
   {
    "duration": 468,
    "start_time": "2023-06-03T03:33:27.021Z"
   },
   {
    "duration": 554,
    "start_time": "2023-06-03T03:33:35.085Z"
   },
   {
    "duration": 512,
    "start_time": "2023-06-03T03:36:10.786Z"
   },
   {
    "duration": 647,
    "start_time": "2023-06-03T03:37:30.081Z"
   },
   {
    "duration": 613,
    "start_time": "2023-06-03T03:38:14.927Z"
   },
   {
    "duration": 641,
    "start_time": "2023-06-03T03:38:31.759Z"
   },
   {
    "duration": 706,
    "start_time": "2023-06-03T03:39:09.119Z"
   },
   {
    "duration": 1208,
    "start_time": "2023-06-03T03:43:42.690Z"
   },
   {
    "duration": 1432,
    "start_time": "2023-06-03T03:44:18.060Z"
   },
   {
    "duration": 2617,
    "start_time": "2023-06-03T03:45:06.084Z"
   },
   {
    "duration": 965,
    "start_time": "2023-06-03T03:45:25.609Z"
   },
   {
    "duration": 283,
    "start_time": "2023-06-03T03:46:04.391Z"
   },
   {
    "duration": 1664,
    "start_time": "2023-06-03T03:50:12.174Z"
   },
   {
    "duration": 1216,
    "start_time": "2023-06-03T03:50:39.485Z"
   },
   {
    "duration": 714,
    "start_time": "2023-06-03T06:12:36.411Z"
   },
   {
    "duration": 565,
    "start_time": "2023-06-03T06:13:20.170Z"
   },
   {
    "duration": 307,
    "start_time": "2023-06-03T06:14:30.612Z"
   },
   {
    "duration": 726,
    "start_time": "2023-06-03T06:14:47.683Z"
   },
   {
    "duration": 614,
    "start_time": "2023-06-03T06:16:46.486Z"
   },
   {
    "duration": 1290,
    "start_time": "2023-06-03T06:17:53.087Z"
   },
   {
    "duration": 1468,
    "start_time": "2023-06-03T06:18:20.870Z"
   },
   {
    "duration": 21,
    "start_time": "2023-06-03T06:21:03.563Z"
   },
   {
    "duration": 14,
    "start_time": "2023-06-03T06:22:52.185Z"
   },
   {
    "duration": 1669,
    "start_time": "2023-06-03T06:23:20.340Z"
   },
   {
    "duration": 152,
    "start_time": "2023-06-03T06:26:18.450Z"
   },
   {
    "duration": 92,
    "start_time": "2023-06-03T06:28:44.418Z"
   },
   {
    "duration": 1368,
    "start_time": "2023-06-03T06:32:53.125Z"
   },
   {
    "duration": 667,
    "start_time": "2023-06-03T06:33:34.264Z"
   },
   {
    "duration": 1363,
    "start_time": "2023-06-03T06:33:51.940Z"
   },
   {
    "duration": 1080,
    "start_time": "2023-06-03T06:35:53.077Z"
   },
   {
    "duration": 15195,
    "start_time": "2023-06-03T06:45:03.505Z"
   },
   {
    "duration": 14911,
    "start_time": "2023-06-03T06:46:02.324Z"
   },
   {
    "duration": 174,
    "start_time": "2023-06-03T06:50:13.695Z"
   },
   {
    "duration": 162,
    "start_time": "2023-06-03T06:54:37.569Z"
   },
   {
    "duration": 9950,
    "start_time": "2023-06-03T06:57:32.374Z"
   },
   {
    "duration": 39928,
    "start_time": "2023-06-03T06:57:44.290Z"
   },
   {
    "duration": 172,
    "start_time": "2023-06-03T07:00:36.609Z"
   },
   {
    "duration": 182,
    "start_time": "2023-06-03T07:00:58.990Z"
   },
   {
    "duration": 164,
    "start_time": "2023-06-03T07:01:56.203Z"
   },
   {
    "duration": 170,
    "start_time": "2023-06-03T07:04:31.300Z"
   },
   {
    "duration": 201,
    "start_time": "2023-06-03T07:05:01.792Z"
   },
   {
    "duration": 156,
    "start_time": "2023-06-03T07:06:32.225Z"
   },
   {
    "duration": 152,
    "start_time": "2023-06-03T07:07:13.877Z"
   },
   {
    "duration": 53,
    "start_time": "2023-06-03T07:09:32.508Z"
   },
   {
    "duration": 55,
    "start_time": "2023-06-03T07:10:32.754Z"
   },
   {
    "duration": 59,
    "start_time": "2023-06-03T07:10:42.751Z"
   },
   {
    "duration": 178,
    "start_time": "2023-06-03T07:11:30.525Z"
   },
   {
    "duration": 319,
    "start_time": "2023-06-03T07:12:10.981Z"
   },
   {
    "duration": 156,
    "start_time": "2023-06-03T07:12:19.706Z"
   },
   {
    "duration": 1824,
    "start_time": "2023-06-03T07:16:42.837Z"
   },
   {
    "duration": 158,
    "start_time": "2023-06-03T07:18:18.570Z"
   },
   {
    "duration": 176,
    "start_time": "2023-06-03T07:18:30.512Z"
   },
   {
    "duration": 179,
    "start_time": "2023-06-03T07:18:46.348Z"
   },
   {
    "duration": 163,
    "start_time": "2023-06-03T07:18:57.601Z"
   },
   {
    "duration": 471,
    "start_time": "2023-06-03T07:21:40.292Z"
   },
   {
    "duration": 624,
    "start_time": "2023-06-03T07:22:59.683Z"
   },
   {
    "duration": 786,
    "start_time": "2023-06-03T07:24:21.503Z"
   },
   {
    "duration": 947,
    "start_time": "2023-06-03T07:27:09.686Z"
   },
   {
    "duration": 38519,
    "start_time": "2023-06-03T07:31:16.709Z"
   },
   {
    "duration": 37424,
    "start_time": "2023-06-03T07:33:34.079Z"
   },
   {
    "duration": 37730,
    "start_time": "2023-06-03T07:34:40.497Z"
   },
   {
    "duration": 15,
    "start_time": "2023-06-03T07:36:19.383Z"
   },
   {
    "duration": 489,
    "start_time": "2023-06-03T07:36:44.511Z"
   },
   {
    "duration": 1188,
    "start_time": "2023-06-03T07:38:24.174Z"
   },
   {
    "duration": 1886,
    "start_time": "2023-06-03T07:44:20.294Z"
   },
   {
    "duration": 58,
    "start_time": "2023-06-03T07:46:43.764Z"
   },
   {
    "duration": 1339,
    "start_time": "2023-06-03T07:46:54.968Z"
   },
   {
    "duration": 1277,
    "start_time": "2023-06-03T07:47:16.362Z"
   },
   {
    "duration": 1343,
    "start_time": "2023-06-03T07:47:40.173Z"
   },
   {
    "duration": 1465,
    "start_time": "2023-06-03T07:48:16.769Z"
   },
   {
    "duration": 1116,
    "start_time": "2023-06-03T07:49:43.684Z"
   },
   {
    "duration": 1328,
    "start_time": "2023-06-03T07:51:02.636Z"
   },
   {
    "duration": 2087,
    "start_time": "2023-06-03T07:52:40.172Z"
   },
   {
    "duration": 2286,
    "start_time": "2023-06-03T07:52:59.510Z"
   },
   {
    "duration": 720,
    "start_time": "2023-06-03T07:56:19.643Z"
   },
   {
    "duration": 715,
    "start_time": "2023-06-03T07:57:37.360Z"
   },
   {
    "duration": 741,
    "start_time": "2023-06-03T07:58:01.208Z"
   },
   {
    "duration": 743,
    "start_time": "2023-06-03T07:58:40.033Z"
   },
   {
    "duration": 730,
    "start_time": "2023-06-03T07:58:53.131Z"
   },
   {
    "duration": 742,
    "start_time": "2023-06-03T07:59:30.608Z"
   },
   {
    "duration": 700,
    "start_time": "2023-06-03T08:00:54.479Z"
   },
   {
    "duration": 747,
    "start_time": "2023-06-03T08:01:06.235Z"
   },
   {
    "duration": 147,
    "start_time": "2023-06-03T08:06:16.662Z"
   },
   {
    "duration": 3,
    "start_time": "2023-06-03T08:11:01.954Z"
   },
   {
    "duration": 42,
    "start_time": "2023-06-03T08:11:05.453Z"
   },
   {
    "duration": 49,
    "start_time": "2023-06-03T08:14:13.251Z"
   },
   {
    "duration": 37,
    "start_time": "2023-06-03T08:16:32.859Z"
   },
   {
    "duration": 1189,
    "start_time": "2023-06-03T08:19:45.998Z"
   },
   {
    "duration": 758,
    "start_time": "2023-06-03T08:21:34.567Z"
   },
   {
    "duration": 25,
    "start_time": "2023-06-03T08:27:21.503Z"
   },
   {
    "duration": 14,
    "start_time": "2023-06-03T08:27:28.255Z"
   },
   {
    "duration": 7,
    "start_time": "2023-06-03T08:27:32.010Z"
   },
   {
    "duration": 11,
    "start_time": "2023-06-03T08:27:36.756Z"
   },
   {
    "duration": 13,
    "start_time": "2023-06-03T08:30:17.473Z"
   },
   {
    "duration": 13,
    "start_time": "2023-06-03T08:31:07.067Z"
   },
   {
    "duration": 9,
    "start_time": "2023-06-03T08:31:37.684Z"
   },
   {
    "duration": 8,
    "start_time": "2023-06-03T08:31:53.153Z"
   },
   {
    "duration": 7,
    "start_time": "2023-06-03T08:35:27.373Z"
   },
   {
    "duration": 112,
    "start_time": "2023-06-03T08:35:32.853Z"
   },
   {
    "duration": 134,
    "start_time": "2023-06-03T08:36:48.600Z"
   },
   {
    "duration": 73,
    "start_time": "2023-06-03T08:40:00.654Z"
   },
   {
    "duration": 143,
    "start_time": "2023-06-03T08:43:36.482Z"
   },
   {
    "duration": 298,
    "start_time": "2023-06-03T08:43:50.605Z"
   },
   {
    "duration": 433,
    "start_time": "2023-06-03T08:47:12.869Z"
   },
   {
    "duration": 367,
    "start_time": "2023-06-03T08:47:50.419Z"
   },
   {
    "duration": 8,
    "start_time": "2023-06-03T08:50:45.354Z"
   },
   {
    "duration": 366,
    "start_time": "2023-06-03T08:50:47.900Z"
   },
   {
    "duration": 384,
    "start_time": "2023-06-03T08:51:55.317Z"
   },
   {
    "duration": 370,
    "start_time": "2023-06-03T08:53:56.598Z"
   },
   {
    "duration": 356,
    "start_time": "2023-06-03T08:56:05.209Z"
   },
   {
    "duration": 7,
    "start_time": "2023-06-03T08:59:01.177Z"
   },
   {
    "duration": 329,
    "start_time": "2023-06-03T08:59:16.496Z"
   },
   {
    "duration": 29,
    "start_time": "2023-06-03T09:05:20.723Z"
   },
   {
    "duration": 17,
    "start_time": "2023-06-03T09:05:28.523Z"
   },
   {
    "duration": 32,
    "start_time": "2023-06-03T09:06:19.518Z"
   },
   {
    "duration": 9,
    "start_time": "2023-06-03T09:06:30.653Z"
   },
   {
    "duration": 30,
    "start_time": "2023-06-03T09:18:45.905Z"
   },
   {
    "duration": 37,
    "start_time": "2023-06-03T09:18:51.539Z"
   },
   {
    "duration": 323,
    "start_time": "2023-06-03T10:22:15.431Z"
   },
   {
    "duration": 164,
    "start_time": "2023-06-03T10:22:18.582Z"
   },
   {
    "duration": 5,
    "start_time": "2023-06-03T10:23:10.911Z"
   },
   {
    "duration": 7,
    "start_time": "2023-06-03T10:26:21.441Z"
   },
   {
    "duration": 175,
    "start_time": "2023-06-03T10:30:57.070Z"
   },
   {
    "duration": 7,
    "start_time": "2023-06-03T10:34:04.705Z"
   },
   {
    "duration": 7,
    "start_time": "2023-06-03T10:35:56.094Z"
   },
   {
    "duration": 8,
    "start_time": "2023-06-03T10:39:24.877Z"
   },
   {
    "duration": 6,
    "start_time": "2023-06-03T10:42:13.395Z"
   },
   {
    "duration": 5,
    "start_time": "2023-06-03T10:42:52.155Z"
   },
   {
    "duration": 725,
    "start_time": "2023-06-03T10:47:23.507Z"
   },
   {
    "duration": 974,
    "start_time": "2023-06-03T12:07:25.550Z"
   },
   {
    "duration": 60,
    "start_time": "2023-06-03T12:07:26.527Z"
   },
   {
    "duration": 1259,
    "start_time": "2023-06-03T12:07:26.589Z"
   },
   {
    "duration": 76,
    "start_time": "2023-06-03T12:07:27.851Z"
   },
   {
    "duration": 23,
    "start_time": "2023-06-03T12:07:27.929Z"
   },
   {
    "duration": 29,
    "start_time": "2023-06-03T12:07:27.954Z"
   },
   {
    "duration": 40,
    "start_time": "2023-06-03T12:07:27.985Z"
   },
   {
    "duration": 14,
    "start_time": "2023-06-03T12:07:28.026Z"
   },
   {
    "duration": 21,
    "start_time": "2023-06-03T12:07:28.042Z"
   },
   {
    "duration": 28,
    "start_time": "2023-06-03T12:07:28.071Z"
   },
   {
    "duration": 10,
    "start_time": "2023-06-03T12:07:28.104Z"
   },
   {
    "duration": 133,
    "start_time": "2023-06-03T12:07:28.118Z"
   },
   {
    "duration": 155,
    "start_time": "2023-06-03T12:07:28.256Z"
   },
   {
    "duration": 95,
    "start_time": "2023-06-03T12:07:28.417Z"
   },
   {
    "duration": 232,
    "start_time": "2023-06-03T12:07:28.516Z"
   },
   {
    "duration": 587,
    "start_time": "2023-06-03T12:07:28.750Z"
   },
   {
    "duration": 10,
    "start_time": "2023-06-03T12:07:29.339Z"
   },
   {
    "duration": 450,
    "start_time": "2023-06-03T12:07:29.352Z"
   },
   {
    "duration": 433,
    "start_time": "2023-06-03T12:07:29.806Z"
   },
   {
    "duration": 6,
    "start_time": "2023-06-03T12:07:30.241Z"
   },
   {
    "duration": 400,
    "start_time": "2023-06-03T12:07:30.249Z"
   },
   {
    "duration": 52,
    "start_time": "2023-06-03T12:07:30.651Z"
   },
   {
    "duration": 17,
    "start_time": "2023-06-03T12:07:30.705Z"
   },
   {
    "duration": 120,
    "start_time": "2023-06-03T12:07:30.726Z"
   },
   {
    "duration": 23,
    "start_time": "2023-06-03T12:07:30.848Z"
   },
   {
    "duration": 83,
    "start_time": "2023-06-03T12:07:30.880Z"
   },
   {
    "duration": 65,
    "start_time": "2023-06-03T12:07:30.964Z"
   },
   {
    "duration": 32,
    "start_time": "2023-06-03T12:07:31.034Z"
   },
   {
    "duration": 402,
    "start_time": "2023-06-03T12:07:31.071Z"
   },
   {
    "duration": 210,
    "start_time": "2023-06-03T12:07:31.474Z"
   },
   {
    "duration": 7,
    "start_time": "2023-06-03T12:07:31.689Z"
   },
   {
    "duration": 87,
    "start_time": "2023-06-03T12:07:31.698Z"
   },
   {
    "duration": 260,
    "start_time": "2023-06-03T12:07:31.788Z"
   },
   {
    "duration": 15,
    "start_time": "2023-06-03T12:07:32.056Z"
   },
   {
    "duration": 46,
    "start_time": "2023-06-03T12:07:32.073Z"
   },
   {
    "duration": 6,
    "start_time": "2023-06-03T12:07:32.127Z"
   },
   {
    "duration": 846,
    "start_time": "2023-06-03T12:07:32.135Z"
   },
   {
    "duration": 207,
    "start_time": "2023-06-03T12:07:32.983Z"
   },
   {
    "duration": 15,
    "start_time": "2023-06-03T12:25:21.054Z"
   },
   {
    "duration": 7,
    "start_time": "2023-06-03T12:29:02.156Z"
   },
   {
    "duration": 145,
    "start_time": "2023-06-03T12:34:57.664Z"
   },
   {
    "duration": 771,
    "start_time": "2023-06-03T12:35:17.546Z"
   },
   {
    "duration": 926,
    "start_time": "2023-06-03T12:39:34.481Z"
   },
   {
    "duration": 66,
    "start_time": "2023-06-03T12:39:35.412Z"
   },
   {
    "duration": 1246,
    "start_time": "2023-06-03T12:39:35.486Z"
   },
   {
    "duration": 69,
    "start_time": "2023-06-03T12:39:36.734Z"
   },
   {
    "duration": 23,
    "start_time": "2023-06-03T12:39:36.805Z"
   },
   {
    "duration": 15,
    "start_time": "2023-06-03T12:39:36.830Z"
   },
   {
    "duration": 17,
    "start_time": "2023-06-03T12:39:36.847Z"
   },
   {
    "duration": 25,
    "start_time": "2023-06-03T12:39:36.870Z"
   },
   {
    "duration": 19,
    "start_time": "2023-06-03T12:39:36.897Z"
   },
   {
    "duration": 11,
    "start_time": "2023-06-03T12:39:36.917Z"
   },
   {
    "duration": 6,
    "start_time": "2023-06-03T12:39:36.930Z"
   },
   {
    "duration": 155,
    "start_time": "2023-06-03T12:39:36.938Z"
   },
   {
    "duration": 182,
    "start_time": "2023-06-03T12:39:37.095Z"
   },
   {
    "duration": 117,
    "start_time": "2023-06-03T12:39:37.288Z"
   },
   {
    "duration": 224,
    "start_time": "2023-06-03T12:39:37.411Z"
   },
   {
    "duration": 502,
    "start_time": "2023-06-03T12:39:37.637Z"
   },
   {
    "duration": 7,
    "start_time": "2023-06-03T12:39:38.141Z"
   },
   {
    "duration": 476,
    "start_time": "2023-06-03T12:39:38.149Z"
   },
   {
    "duration": 411,
    "start_time": "2023-06-03T12:39:38.627Z"
   },
   {
    "duration": 7,
    "start_time": "2023-06-03T12:39:39.040Z"
   },
   {
    "duration": 464,
    "start_time": "2023-06-03T12:39:39.049Z"
   },
   {
    "duration": 28,
    "start_time": "2023-06-03T12:39:39.514Z"
   },
   {
    "duration": 23,
    "start_time": "2023-06-03T12:39:39.544Z"
   },
   {
    "duration": 53,
    "start_time": "2023-06-03T12:39:39.569Z"
   },
   {
    "duration": 9,
    "start_time": "2023-06-03T12:39:39.624Z"
   },
   {
    "duration": 84,
    "start_time": "2023-06-03T12:39:39.635Z"
   },
   {
    "duration": 33,
    "start_time": "2023-06-03T12:39:39.720Z"
   },
   {
    "duration": 29,
    "start_time": "2023-06-03T12:39:39.762Z"
   },
   {
    "duration": 411,
    "start_time": "2023-06-03T12:39:39.798Z"
   },
   {
    "duration": 192,
    "start_time": "2023-06-03T12:39:40.211Z"
   },
   {
    "duration": 6,
    "start_time": "2023-06-03T12:39:40.405Z"
   },
   {
    "duration": 19,
    "start_time": "2023-06-03T12:39:40.413Z"
   },
   {
    "duration": 198,
    "start_time": "2023-06-03T12:39:40.434Z"
   },
   {
    "duration": 6,
    "start_time": "2023-06-03T12:39:40.634Z"
   },
   {
    "duration": 30,
    "start_time": "2023-06-03T12:39:40.641Z"
   },
   {
    "duration": 38,
    "start_time": "2023-06-03T12:39:40.679Z"
   },
   {
    "duration": 879,
    "start_time": "2023-06-03T12:39:40.719Z"
   },
   {
    "duration": 182,
    "start_time": "2023-06-03T12:39:41.599Z"
   },
   {
    "duration": 1483,
    "start_time": "2023-06-04T02:49:18.001Z"
   },
   {
    "duration": 96,
    "start_time": "2023-06-04T02:49:24.110Z"
   },
   {
    "duration": 773,
    "start_time": "2023-06-04T02:49:41.104Z"
   },
   {
    "duration": 75,
    "start_time": "2023-06-04T02:49:48.104Z"
   },
   {
    "duration": 24,
    "start_time": "2023-06-04T02:49:56.944Z"
   },
   {
    "duration": 15,
    "start_time": "2023-06-04T02:50:01.272Z"
   },
   {
    "duration": 4,
    "start_time": "2023-06-04T02:50:05.880Z"
   },
   {
    "duration": 5,
    "start_time": "2023-06-04T02:52:43.600Z"
   },
   {
    "duration": 4,
    "start_time": "2023-06-04T03:20:16.297Z"
   },
   {
    "duration": 55,
    "start_time": "2023-06-04T03:20:18.923Z"
   },
   {
    "duration": 845,
    "start_time": "2023-06-04T03:20:22.020Z"
   },
   {
    "duration": 36,
    "start_time": "2023-06-04T03:20:27.811Z"
   },
   {
    "duration": 22,
    "start_time": "2023-06-04T03:20:32.275Z"
   },
   {
    "duration": 13,
    "start_time": "2023-06-04T03:20:35.042Z"
   },
   {
    "duration": 6,
    "start_time": "2023-06-04T03:20:40.363Z"
   },
   {
    "duration": 10,
    "start_time": "2023-06-04T03:20:52.203Z"
   },
   {
    "duration": 11,
    "start_time": "2023-06-04T03:24:11.006Z"
   },
   {
    "duration": 13,
    "start_time": "2023-06-04T03:25:13.719Z"
   },
   {
    "duration": 15,
    "start_time": "2023-06-04T03:26:08.934Z"
   },
   {
    "duration": 10,
    "start_time": "2023-06-04T03:27:31.104Z"
   },
   {
    "duration": 11,
    "start_time": "2023-06-04T03:28:26.745Z"
   },
   {
    "duration": 13,
    "start_time": "2023-06-04T03:29:48.209Z"
   },
   {
    "duration": 116,
    "start_time": "2023-06-04T03:30:50.457Z"
   },
   {
    "duration": 638,
    "start_time": "2023-06-04T03:31:09.809Z"
   },
   {
    "duration": 14,
    "start_time": "2023-06-04T03:31:20.691Z"
   },
   {
    "duration": 11,
    "start_time": "2023-06-04T03:31:47.411Z"
   },
   {
    "duration": 7,
    "start_time": "2023-06-04T03:32:02.628Z"
   },
   {
    "duration": 130,
    "start_time": "2023-06-04T03:42:12.114Z"
   },
   {
    "duration": 108,
    "start_time": "2023-06-04T03:42:25.287Z"
   },
   {
    "duration": 132,
    "start_time": "2023-06-04T03:42:27.943Z"
   },
   {
    "duration": 134,
    "start_time": "2023-06-04T03:44:48.297Z"
   },
   {
    "duration": 112,
    "start_time": "2023-06-04T03:45:03.105Z"
   },
   {
    "duration": 111,
    "start_time": "2023-06-04T03:47:10.842Z"
   },
   {
    "duration": 112,
    "start_time": "2023-06-04T03:49:00.259Z"
   },
   {
    "duration": 107,
    "start_time": "2023-06-04T03:49:15.411Z"
   },
   {
    "duration": 129,
    "start_time": "2023-06-04T03:49:50.645Z"
   },
   {
    "duration": 139,
    "start_time": "2023-06-04T03:50:45.629Z"
   },
   {
    "duration": 129,
    "start_time": "2023-06-04T03:50:51.371Z"
   },
   {
    "duration": 133,
    "start_time": "2023-06-04T03:53:06.893Z"
   },
   {
    "duration": 131,
    "start_time": "2023-06-04T03:53:42.597Z"
   },
   {
    "duration": 121,
    "start_time": "2023-06-04T03:54:05.101Z"
   },
   {
    "duration": 287,
    "start_time": "2023-06-04T03:56:18.111Z"
   },
   {
    "duration": 119,
    "start_time": "2023-06-04T03:57:27.911Z"
   },
   {
    "duration": 121,
    "start_time": "2023-06-04T03:57:36.223Z"
   },
   {
    "duration": 138,
    "start_time": "2023-06-04T03:58:27.000Z"
   },
   {
    "duration": 123,
    "start_time": "2023-06-04T03:59:24.288Z"
   },
   {
    "duration": 140,
    "start_time": "2023-06-04T03:59:36.128Z"
   },
   {
    "duration": 122,
    "start_time": "2023-06-04T04:00:24.473Z"
   },
   {
    "duration": 1039,
    "start_time": "2023-06-04T04:00:55.921Z"
   },
   {
    "duration": 144,
    "start_time": "2023-06-04T04:05:31.659Z"
   },
   {
    "duration": 164,
    "start_time": "2023-06-04T04:05:56.115Z"
   },
   {
    "duration": 160,
    "start_time": "2023-06-04T04:06:24.723Z"
   },
   {
    "duration": 144,
    "start_time": "2023-06-04T04:06:53.156Z"
   },
   {
    "duration": 193,
    "start_time": "2023-06-04T04:09:08.277Z"
   },
   {
    "duration": 146,
    "start_time": "2023-06-04T04:09:19.060Z"
   },
   {
    "duration": 148,
    "start_time": "2023-06-04T04:09:37.229Z"
   },
   {
    "duration": 152,
    "start_time": "2023-06-04T04:11:57.175Z"
   },
   {
    "duration": 139,
    "start_time": "2023-06-04T04:12:13.430Z"
   },
   {
    "duration": 159,
    "start_time": "2023-06-04T04:16:31.293Z"
   },
   {
    "duration": 153,
    "start_time": "2023-06-04T04:17:31.474Z"
   },
   {
    "duration": 276,
    "start_time": "2023-06-04T04:18:16.833Z"
   },
   {
    "duration": 127,
    "start_time": "2023-06-04T04:48:38.917Z"
   },
   {
    "duration": 147,
    "start_time": "2023-06-04T04:49:00.069Z"
   },
   {
    "duration": 140,
    "start_time": "2023-06-04T04:54:57.208Z"
   },
   {
    "duration": 155,
    "start_time": "2023-06-04T04:55:05.015Z"
   },
   {
    "duration": 139,
    "start_time": "2023-06-04T04:56:53.488Z"
   },
   {
    "duration": 148,
    "start_time": "2023-06-04T04:59:54.440Z"
   },
   {
    "duration": 145,
    "start_time": "2023-06-04T05:00:30.785Z"
   },
   {
    "duration": 81,
    "start_time": "2023-06-04T05:05:09.947Z"
   },
   {
    "duration": 113,
    "start_time": "2023-06-04T05:06:49.389Z"
   },
   {
    "duration": 85,
    "start_time": "2023-06-04T05:06:56.028Z"
   },
   {
    "duration": 85,
    "start_time": "2023-06-04T05:07:33.093Z"
   },
   {
    "duration": 93,
    "start_time": "2023-06-04T05:08:31.389Z"
   },
   {
    "duration": 89,
    "start_time": "2023-06-04T05:09:29.061Z"
   },
   {
    "duration": 100,
    "start_time": "2023-06-04T05:10:31.645Z"
   },
   {
    "duration": 117,
    "start_time": "2023-06-04T05:13:11.175Z"
   },
   {
    "duration": 124,
    "start_time": "2023-06-04T05:14:10.480Z"
   },
   {
    "duration": 161,
    "start_time": "2023-06-04T05:14:18.271Z"
   },
   {
    "duration": 87,
    "start_time": "2023-06-04T05:15:41.624Z"
   },
   {
    "duration": 125,
    "start_time": "2023-06-04T05:18:42.802Z"
   },
   {
    "duration": 127,
    "start_time": "2023-06-04T05:18:56.641Z"
   },
   {
    "duration": 251,
    "start_time": "2023-06-04T05:20:00.306Z"
   },
   {
    "duration": 121,
    "start_time": "2023-06-04T05:20:22.345Z"
   },
   {
    "duration": 83,
    "start_time": "2023-06-04T05:20:28.745Z"
   },
   {
    "duration": 94,
    "start_time": "2023-06-04T05:21:01.203Z"
   },
   {
    "duration": 98,
    "start_time": "2023-06-04T05:29:32.423Z"
   },
   {
    "duration": 100,
    "start_time": "2023-06-04T05:30:06.857Z"
   },
   {
    "duration": 78,
    "start_time": "2023-06-04T05:30:42.355Z"
   },
   {
    "duration": 46,
    "start_time": "2023-06-04T05:30:49.271Z"
   },
   {
    "duration": 52,
    "start_time": "2023-06-04T05:30:58.663Z"
   },
   {
    "duration": 91,
    "start_time": "2023-06-04T05:31:11.694Z"
   },
   {
    "duration": 109,
    "start_time": "2023-06-04T05:42:01.696Z"
   },
   {
    "duration": 79,
    "start_time": "2023-06-04T05:42:12.220Z"
   },
   {
    "duration": 12,
    "start_time": "2023-06-04T05:43:38.517Z"
   },
   {
    "duration": 147,
    "start_time": "2023-06-04T05:44:16.802Z"
   },
   {
    "duration": 143,
    "start_time": "2023-06-04T05:44:37.884Z"
   },
   {
    "duration": 222,
    "start_time": "2023-06-04T05:48:15.016Z"
   },
   {
    "duration": 219,
    "start_time": "2023-06-04T05:50:12.112Z"
   },
   {
    "duration": 257,
    "start_time": "2023-06-04T05:50:38.328Z"
   },
   {
    "duration": 256,
    "start_time": "2023-06-04T05:51:30.784Z"
   },
   {
    "duration": 235,
    "start_time": "2023-06-04T05:51:47.240Z"
   },
   {
    "duration": 308,
    "start_time": "2023-06-04T05:52:03.489Z"
   },
   {
    "duration": 239,
    "start_time": "2023-06-04T05:53:09.313Z"
   },
   {
    "duration": 237,
    "start_time": "2023-06-04T05:54:54.834Z"
   },
   {
    "duration": 248,
    "start_time": "2023-06-04T05:57:38.498Z"
   },
   {
    "duration": 291,
    "start_time": "2023-06-04T05:57:58.259Z"
   },
   {
    "duration": 226,
    "start_time": "2023-06-04T05:59:10.323Z"
   },
   {
    "duration": 144,
    "start_time": "2023-06-04T05:59:16.580Z"
   },
   {
    "duration": 504,
    "start_time": "2023-06-04T06:04:54.235Z"
   },
   {
    "duration": 343,
    "start_time": "2023-06-04T06:06:07.174Z"
   },
   {
    "duration": 317,
    "start_time": "2023-06-04T06:06:40.687Z"
   },
   {
    "duration": 513,
    "start_time": "2023-06-04T06:06:54.983Z"
   },
   {
    "duration": 363,
    "start_time": "2023-06-04T06:09:10.937Z"
   },
   {
    "duration": 11,
    "start_time": "2023-06-04T06:12:34.642Z"
   },
   {
    "duration": 557,
    "start_time": "2023-06-04T06:12:44.633Z"
   },
   {
    "duration": 358,
    "start_time": "2023-06-04T06:15:34.444Z"
   },
   {
    "duration": 394,
    "start_time": "2023-06-04T06:16:24.373Z"
   },
   {
    "duration": 433,
    "start_time": "2023-06-04T06:17:21.795Z"
   },
   {
    "duration": 1404,
    "start_time": "2023-06-04T12:53:50.441Z"
   },
   {
    "duration": 181,
    "start_time": "2023-06-04T12:53:53.242Z"
   },
   {
    "duration": 1012,
    "start_time": "2023-06-04T12:53:56.620Z"
   },
   {
    "duration": 108,
    "start_time": "2023-06-04T12:54:04.312Z"
   },
   {
    "duration": 24,
    "start_time": "2023-06-04T12:54:09.937Z"
   },
   {
    "duration": 19,
    "start_time": "2023-06-04T12:54:13.502Z"
   },
   {
    "duration": 9,
    "start_time": "2023-06-04T12:54:18.412Z"
   },
   {
    "duration": 8,
    "start_time": "2023-06-04T12:54:23.030Z"
   },
   {
    "duration": 15,
    "start_time": "2023-06-04T12:54:25.804Z"
   },
   {
    "duration": 14,
    "start_time": "2023-06-04T12:54:33.110Z"
   },
   {
    "duration": 17,
    "start_time": "2023-06-04T12:54:38.575Z"
   },
   {
    "duration": 8,
    "start_time": "2023-06-04T12:54:43.254Z"
   },
   {
    "duration": 129,
    "start_time": "2023-06-04T12:54:52.166Z"
   },
   {
    "duration": 126,
    "start_time": "2023-06-04T12:55:39.263Z"
   },
   {
    "duration": 196,
    "start_time": "2023-06-04T12:56:21.856Z"
   },
   {
    "duration": 172,
    "start_time": "2023-06-04T12:56:32.145Z"
   },
   {
    "duration": 189,
    "start_time": "2023-06-04T12:56:37.751Z"
   },
   {
    "duration": 428,
    "start_time": "2023-06-04T12:56:58.457Z"
   },
   {
    "duration": 404,
    "start_time": "2023-06-04T12:58:24.920Z"
   },
   {
    "duration": 13421,
    "start_time": "2023-06-04T12:59:32.596Z"
   },
   {
    "duration": 823,
    "start_time": "2023-06-04T13:00:48.335Z"
   },
   {
    "duration": 676,
    "start_time": "2023-06-04T13:01:51.299Z"
   },
   {
    "duration": 4,
    "start_time": "2023-06-04T13:02:26.334Z"
   },
   {
    "duration": 2,
    "start_time": "2023-06-04T13:02:29.970Z"
   },
   {
    "duration": 729,
    "start_time": "2023-06-04T13:08:54.805Z"
   },
   {
    "duration": 21,
    "start_time": "2023-06-04T13:11:16.368Z"
   },
   {
    "duration": 10,
    "start_time": "2023-06-04T13:11:37.261Z"
   },
   {
    "duration": 9,
    "start_time": "2023-06-04T13:11:53.256Z"
   },
   {
    "duration": 763,
    "start_time": "2023-06-04T13:17:07.310Z"
   },
   {
    "duration": 6,
    "start_time": "2023-06-04T13:17:13.055Z"
   },
   {
    "duration": 1355,
    "start_time": "2023-06-04T13:17:15.953Z"
   },
   {
    "duration": 39,
    "start_time": "2023-06-04T13:19:35.217Z"
   },
   {
    "duration": 10,
    "start_time": "2023-06-04T13:19:46.260Z"
   },
   {
    "duration": 29,
    "start_time": "2023-06-04T13:21:25.007Z"
   },
   {
    "duration": 50,
    "start_time": "2023-06-04T13:21:42.971Z"
   },
   {
    "duration": 11,
    "start_time": "2023-06-04T13:21:55.712Z"
   },
   {
    "duration": 36,
    "start_time": "2023-06-04T13:22:01.628Z"
   },
   {
    "duration": 14,
    "start_time": "2023-06-04T13:22:10.104Z"
   },
   {
    "duration": 99,
    "start_time": "2023-06-04T13:24:46.976Z"
   },
   {
    "duration": 35,
    "start_time": "2023-06-04T13:25:38.624Z"
   },
   {
    "duration": 32,
    "start_time": "2023-06-04T13:25:44.310Z"
   },
   {
    "duration": 13,
    "start_time": "2023-06-04T13:31:55.710Z"
   },
   {
    "duration": 710,
    "start_time": "2023-06-04T13:32:06.124Z"
   },
   {
    "duration": 448,
    "start_time": "2023-06-04T13:33:13.267Z"
   },
   {
    "duration": 7,
    "start_time": "2023-06-04T13:34:01.906Z"
   },
   {
    "duration": 6,
    "start_time": "2023-06-04T13:34:31.065Z"
   },
   {
    "duration": 8,
    "start_time": "2023-06-04T13:42:18.696Z"
   },
   {
    "duration": 424,
    "start_time": "2023-06-04T13:43:20.094Z"
   },
   {
    "duration": 11,
    "start_time": "2023-06-04T13:43:25.994Z"
   },
   {
    "duration": 428,
    "start_time": "2023-06-04T13:44:38.299Z"
   },
   {
    "duration": 9,
    "start_time": "2023-06-04T13:48:30.607Z"
   },
   {
    "duration": 1227,
    "start_time": "2023-06-04T13:50:42.004Z"
   },
   {
    "duration": 14,
    "start_time": "2023-06-04T13:52:45.516Z"
   },
   {
    "duration": 9,
    "start_time": "2023-06-04T13:55:13.521Z"
   },
   {
    "duration": 8,
    "start_time": "2023-06-04T13:55:40.347Z"
   },
   {
    "duration": 6,
    "start_time": "2023-06-04T13:56:14.042Z"
   },
   {
    "duration": 1109,
    "start_time": "2023-06-04T13:56:49.536Z"
   },
   {
    "duration": 13,
    "start_time": "2023-06-04T13:58:31.724Z"
   },
   {
    "duration": 1034,
    "start_time": "2023-06-04T13:58:49.693Z"
   },
   {
    "duration": 1021,
    "start_time": "2023-06-04T13:59:37.533Z"
   },
   {
    "duration": 1055,
    "start_time": "2023-06-04T14:02:11.802Z"
   },
   {
    "duration": 16,
    "start_time": "2023-06-04T14:05:38.307Z"
   },
   {
    "duration": 12,
    "start_time": "2023-06-04T14:06:59.671Z"
   },
   {
    "duration": 5,
    "start_time": "2023-06-04T14:07:54.639Z"
   },
   {
    "duration": 7,
    "start_time": "2023-06-04T14:08:49.519Z"
   },
   {
    "duration": 11,
    "start_time": "2023-06-04T14:09:02.004Z"
   },
   {
    "duration": 866,
    "start_time": "2023-06-04T14:24:08.518Z"
   },
   {
    "duration": 232,
    "start_time": "2023-06-04T14:27:18.495Z"
   },
   {
    "duration": 131,
    "start_time": "2023-06-04T14:27:40.239Z"
   },
   {
    "duration": 303,
    "start_time": "2023-06-04T14:27:52.159Z"
   },
   {
    "duration": 417,
    "start_time": "2023-06-04T14:28:08.197Z"
   },
   {
    "duration": 238,
    "start_time": "2023-06-04T14:38:24.731Z"
   },
   {
    "duration": 256,
    "start_time": "2023-06-04T14:38:46.007Z"
   },
   {
    "duration": 251,
    "start_time": "2023-06-04T14:39:40.915Z"
   },
   {
    "duration": 265,
    "start_time": "2023-06-04T14:40:09.147Z"
   },
   {
    "duration": 271,
    "start_time": "2023-06-04T14:40:50.619Z"
   },
   {
    "duration": 258,
    "start_time": "2023-06-04T14:41:05.060Z"
   },
   {
    "duration": 160,
    "start_time": "2023-06-04T14:42:07.309Z"
   },
   {
    "duration": 214,
    "start_time": "2023-06-04T14:45:26.160Z"
   },
   {
    "duration": 238,
    "start_time": "2023-06-04T14:45:38.921Z"
   },
   {
    "duration": 1134,
    "start_time": "2023-06-04T14:53:34.670Z"
   },
   {
    "duration": 53,
    "start_time": "2023-06-04T14:53:35.806Z"
   },
   {
    "duration": 708,
    "start_time": "2023-06-04T14:53:35.861Z"
   },
   {
    "duration": 25,
    "start_time": "2023-06-04T14:53:36.571Z"
   },
   {
    "duration": 18,
    "start_time": "2023-06-04T14:53:36.598Z"
   },
   {
    "duration": 11,
    "start_time": "2023-06-04T14:53:36.618Z"
   },
   {
    "duration": 8,
    "start_time": "2023-06-04T14:53:36.630Z"
   },
   {
    "duration": 9,
    "start_time": "2023-06-04T14:53:36.639Z"
   },
   {
    "duration": 16,
    "start_time": "2023-06-04T14:53:36.649Z"
   },
   {
    "duration": 11,
    "start_time": "2023-06-04T14:53:36.668Z"
   },
   {
    "duration": 11,
    "start_time": "2023-06-04T14:53:36.680Z"
   },
   {
    "duration": 45,
    "start_time": "2023-06-04T14:53:36.693Z"
   },
   {
    "duration": 144,
    "start_time": "2023-06-04T14:53:36.740Z"
   },
   {
    "duration": 162,
    "start_time": "2023-06-04T14:53:36.886Z"
   },
   {
    "duration": 90,
    "start_time": "2023-06-04T14:53:37.050Z"
   },
   {
    "duration": 365,
    "start_time": "2023-06-04T14:53:37.142Z"
   },
   {
    "duration": 614,
    "start_time": "2023-06-04T14:53:37.509Z"
   },
   {
    "duration": 6,
    "start_time": "2023-06-04T14:53:38.124Z"
   },
   {
    "duration": 5,
    "start_time": "2023-06-04T14:53:38.131Z"
   },
   {
    "duration": 541,
    "start_time": "2023-06-04T14:53:38.138Z"
   },
   {
    "duration": 9,
    "start_time": "2023-06-04T14:53:38.682Z"
   },
   {
    "duration": 6,
    "start_time": "2023-06-04T14:53:38.693Z"
   },
   {
    "duration": 574,
    "start_time": "2023-06-04T14:53:38.701Z"
   },
   {
    "duration": 21,
    "start_time": "2023-06-04T14:53:39.276Z"
   },
   {
    "duration": 59,
    "start_time": "2023-06-04T14:53:39.299Z"
   },
   {
    "duration": 11,
    "start_time": "2023-06-04T14:53:39.360Z"
   },
   {
    "duration": 67,
    "start_time": "2023-06-04T14:53:39.373Z"
   },
   {
    "duration": 9,
    "start_time": "2023-06-04T14:53:39.443Z"
   },
   {
    "duration": 49,
    "start_time": "2023-06-04T14:53:39.454Z"
   },
   {
    "duration": 54,
    "start_time": "2023-06-04T14:53:39.504Z"
   },
   {
    "duration": 27,
    "start_time": "2023-06-04T14:53:39.559Z"
   },
   {
    "duration": 559,
    "start_time": "2023-06-04T14:53:39.593Z"
   },
   {
    "duration": 391,
    "start_time": "2023-06-04T14:53:40.153Z"
   },
   {
    "duration": 3,
    "start_time": "2023-06-04T14:53:40.545Z"
   },
   {
    "duration": 9,
    "start_time": "2023-06-04T14:53:40.549Z"
   },
   {
    "duration": 502,
    "start_time": "2023-06-04T14:53:40.560Z"
   },
   {
    "duration": 4,
    "start_time": "2023-06-04T14:53:41.064Z"
   },
   {
    "duration": 24,
    "start_time": "2023-06-04T14:53:41.070Z"
   },
   {
    "duration": 4,
    "start_time": "2023-06-04T14:53:41.096Z"
   },
   {
    "duration": 233,
    "start_time": "2023-06-04T14:53:41.102Z"
   },
   {
    "duration": 152,
    "start_time": "2023-06-04T14:53:41.340Z"
   },
   {
    "duration": 12,
    "start_time": "2023-06-04T14:54:39.981Z"
   },
   {
    "duration": 6,
    "start_time": "2023-06-04T14:54:50.063Z"
   },
   {
    "duration": 7,
    "start_time": "2023-06-04T14:59:51.307Z"
   },
   {
    "duration": 135,
    "start_time": "2023-06-04T15:01:44.185Z"
   },
   {
    "duration": 133,
    "start_time": "2023-06-04T15:02:22.172Z"
   },
   {
    "duration": 306,
    "start_time": "2023-06-04T15:02:34.880Z"
   },
   {
    "duration": 264,
    "start_time": "2023-06-04T15:02:40.990Z"
   },
   {
    "duration": 144,
    "start_time": "2023-06-04T15:05:26.972Z"
   },
   {
    "duration": 256,
    "start_time": "2023-06-04T15:05:37.261Z"
   },
   {
    "duration": 1473,
    "start_time": "2023-06-04T15:06:09.023Z"
   },
   {
    "duration": 57,
    "start_time": "2023-06-04T15:06:10.498Z"
   },
   {
    "duration": 913,
    "start_time": "2023-06-04T15:06:10.557Z"
   },
   {
    "duration": 27,
    "start_time": "2023-06-04T15:06:11.474Z"
   },
   {
    "duration": 54,
    "start_time": "2023-06-04T15:06:11.503Z"
   },
   {
    "duration": 15,
    "start_time": "2023-06-04T15:06:11.563Z"
   },
   {
    "duration": 5,
    "start_time": "2023-06-04T15:06:11.579Z"
   },
   {
    "duration": 7,
    "start_time": "2023-06-04T15:06:11.586Z"
   },
   {
    "duration": 13,
    "start_time": "2023-06-04T15:06:11.594Z"
   },
   {
    "duration": 22,
    "start_time": "2023-06-04T15:06:11.610Z"
   },
   {
    "duration": 18,
    "start_time": "2023-06-04T15:06:11.634Z"
   },
   {
    "duration": 11,
    "start_time": "2023-06-04T15:06:11.658Z"
   },
   {
    "duration": 184,
    "start_time": "2023-06-04T15:06:11.671Z"
   },
   {
    "duration": 185,
    "start_time": "2023-06-04T15:06:11.857Z"
   },
   {
    "duration": 122,
    "start_time": "2023-06-04T15:06:12.043Z"
   },
   {
    "duration": 403,
    "start_time": "2023-06-04T15:06:12.167Z"
   },
   {
    "duration": 770,
    "start_time": "2023-06-04T15:06:12.573Z"
   },
   {
    "duration": 4,
    "start_time": "2023-06-04T15:06:13.349Z"
   },
   {
    "duration": 16,
    "start_time": "2023-06-04T15:06:13.355Z"
   },
   {
    "duration": 664,
    "start_time": "2023-06-04T15:06:13.373Z"
   },
   {
    "duration": 18,
    "start_time": "2023-06-04T15:06:14.039Z"
   },
   {
    "duration": 23,
    "start_time": "2023-06-04T15:06:14.065Z"
   },
   {
    "duration": 730,
    "start_time": "2023-06-04T15:06:14.090Z"
   },
   {
    "duration": 41,
    "start_time": "2023-06-04T15:06:14.822Z"
   },
   {
    "duration": 41,
    "start_time": "2023-06-04T15:06:14.865Z"
   },
   {
    "duration": 8,
    "start_time": "2023-06-04T15:06:14.908Z"
   },
   {
    "duration": 43,
    "start_time": "2023-06-04T15:06:14.925Z"
   },
   {
    "duration": 8,
    "start_time": "2023-06-04T15:06:14.971Z"
   },
   {
    "duration": 93,
    "start_time": "2023-06-04T15:06:14.980Z"
   },
   {
    "duration": 27,
    "start_time": "2023-06-04T15:06:15.074Z"
   },
   {
    "duration": 64,
    "start_time": "2023-06-04T15:06:15.102Z"
   },
   {
    "duration": 505,
    "start_time": "2023-06-04T15:06:15.168Z"
   },
   {
    "duration": 498,
    "start_time": "2023-06-04T15:06:15.675Z"
   },
   {
    "duration": 3,
    "start_time": "2023-06-04T15:06:16.175Z"
   },
   {
    "duration": 25,
    "start_time": "2023-06-04T15:06:16.179Z"
   },
   {
    "duration": 561,
    "start_time": "2023-06-04T15:06:16.205Z"
   },
   {
    "duration": 6,
    "start_time": "2023-06-04T15:06:16.768Z"
   },
   {
    "duration": 10,
    "start_time": "2023-06-04T15:06:16.775Z"
   },
   {
    "duration": 8,
    "start_time": "2023-06-04T15:06:16.787Z"
   },
   {
    "duration": 290,
    "start_time": "2023-06-04T15:06:16.796Z"
   },
   {
    "duration": 206,
    "start_time": "2023-06-04T15:06:17.087Z"
   },
   {
    "duration": 12,
    "start_time": "2023-06-04T15:18:42.608Z"
   },
   {
    "duration": 5,
    "start_time": "2023-06-04T15:18:52.069Z"
   },
   {
    "duration": 8,
    "start_time": "2023-06-04T15:19:10.805Z"
   },
   {
    "duration": 311,
    "start_time": "2023-06-04T15:20:30.818Z"
   },
   {
    "duration": 299,
    "start_time": "2023-06-04T15:22:42.494Z"
   },
   {
    "duration": 1502,
    "start_time": "2023-06-04T15:46:45.657Z"
   },
   {
    "duration": 59,
    "start_time": "2023-06-04T15:46:47.163Z"
   },
   {
    "duration": 955,
    "start_time": "2023-06-04T15:46:47.223Z"
   },
   {
    "duration": 39,
    "start_time": "2023-06-04T15:46:48.183Z"
   },
   {
    "duration": 41,
    "start_time": "2023-06-04T15:46:48.225Z"
   },
   {
    "duration": 17,
    "start_time": "2023-06-04T15:46:48.268Z"
   },
   {
    "duration": 5,
    "start_time": "2023-06-04T15:46:48.287Z"
   },
   {
    "duration": 8,
    "start_time": "2023-06-04T15:46:48.296Z"
   },
   {
    "duration": 38,
    "start_time": "2023-06-04T15:46:48.306Z"
   },
   {
    "duration": 19,
    "start_time": "2023-06-04T15:46:48.349Z"
   },
   {
    "duration": 18,
    "start_time": "2023-06-04T15:46:48.373Z"
   },
   {
    "duration": 9,
    "start_time": "2023-06-04T15:46:48.396Z"
   },
   {
    "duration": 223,
    "start_time": "2023-06-04T15:46:48.409Z"
   },
   {
    "duration": 172,
    "start_time": "2023-06-04T15:46:48.641Z"
   },
   {
    "duration": 125,
    "start_time": "2023-06-04T15:46:48.815Z"
   },
   {
    "duration": 505,
    "start_time": "2023-06-04T15:46:48.943Z"
   },
   {
    "duration": 922,
    "start_time": "2023-06-04T15:46:49.455Z"
   },
   {
    "duration": 4,
    "start_time": "2023-06-04T15:46:50.386Z"
   },
   {
    "duration": 4,
    "start_time": "2023-06-04T15:46:50.392Z"
   },
   {
    "duration": 740,
    "start_time": "2023-06-04T15:46:50.398Z"
   },
   {
    "duration": 16,
    "start_time": "2023-06-04T15:46:51.142Z"
   },
   {
    "duration": 7,
    "start_time": "2023-06-04T15:46:51.164Z"
   },
   {
    "duration": 766,
    "start_time": "2023-06-04T15:46:51.179Z"
   },
   {
    "duration": 38,
    "start_time": "2023-06-04T15:46:51.947Z"
   },
   {
    "duration": 50,
    "start_time": "2023-06-04T15:46:51.991Z"
   },
   {
    "duration": 13,
    "start_time": "2023-06-04T15:46:52.043Z"
   },
   {
    "duration": 79,
    "start_time": "2023-06-04T15:46:52.058Z"
   },
   {
    "duration": 22,
    "start_time": "2023-06-04T15:46:52.141Z"
   },
   {
    "duration": 71,
    "start_time": "2023-06-04T15:46:52.165Z"
   },
   {
    "duration": 42,
    "start_time": "2023-06-04T15:46:52.237Z"
   },
   {
    "duration": 22,
    "start_time": "2023-06-04T15:46:52.281Z"
   },
   {
    "duration": 494,
    "start_time": "2023-06-04T15:46:52.304Z"
   },
   {
    "duration": 447,
    "start_time": "2023-06-04T15:46:52.800Z"
   },
   {
    "duration": 3,
    "start_time": "2023-06-04T15:46:53.250Z"
   },
   {
    "duration": 29,
    "start_time": "2023-06-04T15:46:53.255Z"
   },
   {
    "duration": 583,
    "start_time": "2023-06-04T15:46:53.289Z"
   },
   {
    "duration": 11,
    "start_time": "2023-06-04T15:46:53.875Z"
   },
   {
    "duration": 17,
    "start_time": "2023-06-04T15:46:53.889Z"
   },
   {
    "duration": 5,
    "start_time": "2023-06-04T15:46:53.908Z"
   },
   {
    "duration": 391,
    "start_time": "2023-06-04T15:46:53.915Z"
   },
   {
    "duration": 198,
    "start_time": "2023-06-04T15:46:54.311Z"
   }
  ],
  "kernelspec": {
   "display_name": "Python 3 (ipykernel)",
   "language": "python",
   "name": "python3"
  },
  "language_info": {
   "codemirror_mode": {
    "name": "ipython",
    "version": 3
   },
   "file_extension": ".py",
   "mimetype": "text/x-python",
   "name": "python",
   "nbconvert_exporter": "python",
   "pygments_lexer": "ipython3",
   "version": "3.10.10"
  },
  "toc": {
   "base_numbering": 1,
   "nav_menu": {},
   "number_sections": true,
   "sideBar": true,
   "skip_h1_title": true,
   "title_cell": "Table of Contents",
   "title_sidebar": "Исследование данных сервиса аренды самокатов GoFast",
   "toc_cell": false,
   "toc_position": {},
   "toc_section_display": true,
   "toc_window_display": true
  }
 },
 "nbformat": 4,
 "nbformat_minor": 5
}
